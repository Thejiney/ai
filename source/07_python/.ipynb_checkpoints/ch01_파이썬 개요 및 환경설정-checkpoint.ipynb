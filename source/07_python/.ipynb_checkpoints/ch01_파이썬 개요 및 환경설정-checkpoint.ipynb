{
 "cells": [
  {
   "cell_type": "code",
   "execution_count": 2,
   "id": "ce657ac9",
   "metadata": {},
   "outputs": [
    {
     "name": "stdout",
     "output_type": "stream",
     "text": [
      "2.10.0\n"
     ]
    },
    {
     "data": {
      "text/plain": [
       "[]"
      ]
     },
     "execution_count": 2,
     "metadata": {},
     "output_type": "execute_result"
    }
   ],
   "source": [
    "import tensorflow as tf\n",
    "\n",
    "print(tf.__version__)\n",
    "tf.config.list_physical_devices('GPU')"
   ]
  },
  {
   "cell_type": "code",
   "execution_count": null,
   "id": "3d056a4b",
   "metadata": {},
   "outputs": [],
   "source": [
    "!jt -t chesterish -f bitstream -fs 12 -tf roboto -tfs 13 -nf opensans -nfs 12 -ofs 12 -dfs 12 -cellw 95% -lineh 150 -T -N"
   ]
  },
  {
   "cell_type": "code",
   "execution_count": 1,
   "id": "bd1f9099",
   "metadata": {
    "ExecuteTime": {
     "end_time": "2024-11-04T07:17:02.480705Z",
     "start_time": "2024-11-04T07:17:02.469711Z"
    }
   },
   "outputs": [
    {
     "data": {
      "text/html": [
       "\n",
       "<style>\n",
       "div.container{width:80% !important;}\n",
       "div.CodeMirror {font-family:Consolas; font-size:16pt;}\n",
       "div.output {font-size:16pt; font-weight:bold;}\n",
       "div.input {font-family:Consolas; font-size:16pt;}\n",
       "div.prompt {min-width:70px;}\n",
       "div#toc-header{margin-top:150px;}\n",
       "</style>\n",
       "<style>\n",
       "span.toc-item-num{\n",
       "display:none;\n",
       "}\n",
       "</style>\n"
      ],
      "text/plain": [
       "<IPython.core.display.HTML object>"
      ]
     },
     "metadata": {},
     "output_type": "display_data"
    }
   ],
   "source": [
    "from IPython.display import display, HTML\n",
    "display(HTML(\"\"\"\n",
    "<style>\n",
    "div.container{width:80% !important;}\n",
    "div.CodeMirror {font-family:Consolas; font-size:16pt;}\n",
    "div.output {font-size:16pt; font-weight:bold;}\n",
    "div.input {font-family:Consolas; font-size:16pt;}\n",
    "div.prompt {min-width:70px;}\n",
    "div#toc-header{margin-top:150px;}\n",
    "</style>\n",
    "<style>\n",
    "span.toc-item-num{\n",
    "display:none;\n",
    "}\n",
    "</style>\n",
    "\"\"\"))"
   ]
  },
  {
   "cell_type": "markdown",
   "id": "ca860ee6",
   "metadata": {},
   "source": [
    "<b><font size=\"6\" color=\"red\">ch01. 파이썬 개요 및 환경 설정</font></b>"
   ]
  },
  {
   "cell_type": "markdown",
   "id": "d78db473",
   "metadata": {},
   "source": [
    "# 1. 주피터 노트북 사용법(큰제목)\n",
    "- shift + Enter : 포커스된 셀이 실행되고, 커서가 다음셀로 이동\n",
    "- alt + Enter : 포커스된 셀이 실행되고 다음셀이 생성된 후 다음셀로 이동\n",
    "- ctrl + Enter : 포커스된 셀이 실행되고 포커스 이동이 없음"
   ]
  },
  {
   "cell_type": "code",
   "execution_count": null,
   "id": "2f2a5705",
   "metadata": {},
   "outputs": [],
   "source": [
    "# 셀 하나하나에 파이썬 실행 소스 입력 -> 실행"
   ]
  },
  {
   "cell_type": "code",
   "execution_count": null,
   "id": "a3d08a40",
   "metadata": {},
   "outputs": [],
   "source": [
    "print(\"Hello, World\")"
   ]
  },
  {
   "cell_type": "code",
   "execution_count": null,
   "id": "90ebec83",
   "metadata": {},
   "outputs": [],
   "source": [
    "a = 1\n",
    "b = \"2\"\n",
    "print(str(a) + b)\n",
    "print(a + int(b))\n",
    "# view 메뉴 > Show line Numbers 선택"
   ]
  },
  {
   "cell_type": "code",
   "execution_count": null,
   "id": "b7732719",
   "metadata": {},
   "outputs": [],
   "source": [
    "# for i in range(100000000000000000000000000):\n",
    "#     print(i)\n",
    "# stop기능\n",
    "# kernel메뉴의 다양한 restart 기능"
   ]
  },
  {
   "cell_type": "code",
   "execution_count": null,
   "id": "36ecc198",
   "metadata": {},
   "outputs": [],
   "source": [
    "print = 10\n",
    "print"
   ]
  },
  {
   "cell_type": "code",
   "execution_count": null,
   "id": "103eacc8",
   "metadata": {},
   "outputs": [],
   "source": [
    "# 실수로 할당된 print변수를 삭제 :\n",
    "del print  # (1) 변수 삭제\n",
    "# (2) kernel 재시작"
   ]
  },
  {
   "cell_type": "code",
   "execution_count": null,
   "id": "c82ac4f5",
   "metadata": {},
   "outputs": [],
   "source": [
    "print('Hello, World')"
   ]
  },
  {
   "cell_type": "markdown",
   "id": "c9e63456",
   "metadata": {},
   "source": [
    "# 2. ESC키 누르고 (핫키)\n",
    "- dd : 셀삭제\n",
    "- a : 윗셀 추가\n",
    "- b : 아랫셀 추가\n",
    "- m : 마크다운셀(문서셀)로 변경\n",
    "- y : 코드셀(소스셀)로 변경\n",
    "- h : 핫키 안내\n",
    "- o : 실행결과 접기"
   ]
  },
  {
   "cell_type": "markdown",
   "id": "13121580",
   "metadata": {},
   "source": [
    "# 3. 마크다운이란?\n",
    "- 코드와 함께 '문서화'를 할 수 있습니다.\n",
    "- 다양한 문서화 문법이 있습니다."
   ]
  },
  {
   "cell_type": "code",
   "execution_count": null,
   "id": "2602017a",
   "metadata": {
    "ExecuteTime": {
     "end_time": "2024-11-04T06:57:25.471977Z",
     "start_time": "2024-11-04T06:57:25.411995Z"
    }
   },
   "outputs": [],
   "source": [
    "# 주피터 노트북에서 cmd명령어를 실행\n",
    "! dir"
   ]
  },
  {
   "cell_type": "code",
   "execution_count": null,
   "id": "77bf5495",
   "metadata": {
    "ExecuteTime": {
     "end_time": "2024-11-04T06:59:19.104973Z",
     "start_time": "2024-11-04T06:59:11.298515Z"
    }
   },
   "outputs": [],
   "source": [
    "! pip install tensorflow==2.10"
   ]
  }
 ],
 "metadata": {
  "kernelspec": {
   "display_name": "Python 3 (ipykernel)",
   "language": "python",
   "name": "python3"
  },
  "language_info": {
   "codemirror_mode": {
    "name": "ipython",
    "version": 3
   },
   "file_extension": ".py",
   "mimetype": "text/x-python",
   "name": "python",
   "nbconvert_exporter": "python",
   "pygments_lexer": "ipython3",
   "version": "3.10.9"
  },
  "toc": {
   "base_numbering": 1,
   "nav_menu": {},
   "number_sections": false,
   "sideBar": true,
   "skip_h1_title": false,
   "title_cell": "Table of Contents",
   "title_sidebar": "Contents",
   "toc_cell": false,
   "toc_position": {
    "height": "calc(100% - 180px)",
    "left": "10px",
    "top": "150px",
    "width": "258px"
   },
   "toc_section_display": true,
   "toc_window_display": true
  }
 },
 "nbformat": 4,
 "nbformat_minor": 5
}
