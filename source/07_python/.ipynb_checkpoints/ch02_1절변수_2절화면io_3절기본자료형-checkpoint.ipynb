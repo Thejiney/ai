{
 "cells": [
  {
   "cell_type": "code",
   "execution_count": 40,
   "id": "54a03f67",
   "metadata": {
    "ExecuteTime": {
     "end_time": "2024-11-05T01:30:40.135748Z",
     "start_time": "2024-11-05T01:30:40.128751Z"
    }
   },
   "outputs": [
    {
     "data": {
      "text/html": [
       "\n",
       "<style>\n",
       "div.container{width:80% !important;}\n",
       "div.CodeMirror {font-family:Consolas; font-size:16pt;}\n",
       "div.output {font-size:16pt; font-weight:bold;}\n",
       "div.input {font-family:Consolas; font-size:16pt;}\n",
       "div.prompt {min-width:70px;}\n",
       "div#toc-header{margin-top:150px;}\n",
       "</style>\n",
       "<style>\n",
       "span.toc-item-num{\n",
       "display:none;\n",
       "}\n",
       "</style>\n"
      ],
      "text/plain": [
       "<IPython.core.display.HTML object>"
      ]
     },
     "metadata": {},
     "output_type": "display_data"
    }
   ],
   "source": [
    "from IPython.display import display, HTML\n",
    "display(HTML(\"\"\"\n",
    "<style>\n",
    "div.container{width:80% !important;}\n",
    "div.CodeMirror {font-family:Consolas; font-size:16pt;}\n",
    "div.output {font-size:16pt; font-weight:bold;}\n",
    "div.input {font-family:Consolas; font-size:16pt;}\n",
    "div.prompt {min-width:70px;}\n",
    "div#toc-header{margin-top:150px;}\n",
    "</style>\n",
    "<style>\n",
    "span.toc-item-num{\n",
    "display:none;\n",
    "}\n",
    "</style>\n",
    "\"\"\"))"
   ]
  },
  {
   "cell_type": "code",
   "execution_count": null,
   "id": "54dc04ae",
   "metadata": {},
   "outputs": [],
   "source": []
  },
  {
   "cell_type": "markdown",
   "id": "a894c77c",
   "metadata": {},
   "source": [
    "<b><font size=\"6\" color=\"red\">ch02. 자료형과 연산자</font></b>"
   ]
  },
  {
   "cell_type": "markdown",
   "id": "5b6542da",
   "metadata": {},
   "source": [
    "# 1절. 변수"
   ]
  },
  {
   "cell_type": "markdown",
   "id": "99d553c7",
   "metadata": {},
   "source": [
    "## 1.1변수 선언\n",
    "- 파이썬은 변수 선언을 위한 타입이 없고, 별도의 선언 과정도 없음"
   ]
  },
  {
   "cell_type": "markdown",
   "id": "591e069c",
   "metadata": {},
   "source": [
    "## 1.2 변수 할당\n",
    "- 할당 연산자를 이용해서 변수값을 할당하면 타입이 셋팅\n",
    "- 파이썬에서의 모든 변수는 객체 "
   ]
  },
  {
   "cell_type": "code",
   "execution_count": 6,
   "id": "a78e7902",
   "metadata": {
    "ExecuteTime": {
     "end_time": "2024-11-04T07:34:41.429342Z",
     "start_time": "2024-11-04T07:34:41.421363Z"
    }
   },
   "outputs": [
    {
     "name": "stdout",
     "output_type": "stream",
     "text": [
      "계산된 넓이는 78.5\n"
     ]
    }
   ],
   "source": [
    "r = 5\n",
    "area = 3.14 * r * r\n",
    "print('계산된 넓이는', area)"
   ]
  },
  {
   "cell_type": "code",
   "execution_count": 7,
   "id": "3b2114ce",
   "metadata": {},
   "outputs": [],
   "source": [
    "import numpy as np # numpy 라는 패키지(폴더)를 np라는 이름으로 사용"
   ]
  },
  {
   "cell_type": "code",
   "execution_count": 8,
   "id": "3a07b022",
   "metadata": {},
   "outputs": [
    {
     "name": "stdout",
     "output_type": "stream",
     "text": [
      "78.53981633974483\n"
     ]
    }
   ],
   "source": [
    "area = np.pi * r * r\n",
    "print(area)"
   ]
  },
  {
   "cell_type": "code",
   "execution_count": 11,
   "id": "959871b3",
   "metadata": {},
   "outputs": [
    {
     "name": "stdout",
     "output_type": "stream",
     "text": [
      "area의 주소 :  2750546637840\n",
      "area의 타입 :  <class 'float'>\n"
     ]
    }
   ],
   "source": [
    "print('area의 주소 : ',id(area)) # id(area) : area변수(객체)의 주소값\n",
    "print('area의 타입 : ',type(area))"
   ]
  },
  {
   "cell_type": "code",
   "execution_count": 12,
   "id": "24243356",
   "metadata": {},
   "outputs": [
    {
     "data": {
      "text/plain": [
       "False"
      ]
     },
     "execution_count": 12,
     "metadata": {},
     "output_type": "execute_result"
    }
   ],
   "source": [
    "area.is_integer()"
   ]
  },
  {
   "cell_type": "code",
   "execution_count": 13,
   "id": "acff0fb7",
   "metadata": {},
   "outputs": [],
   "source": [
    "area = 10"
   ]
  },
  {
   "cell_type": "code",
   "execution_count": 14,
   "id": "3d6d42aa",
   "metadata": {},
   "outputs": [
    {
     "name": "stdout",
     "output_type": "stream",
     "text": [
      "area의 주소 :  2750424351248\n",
      "area의 타입 :  <class 'int'>\n"
     ]
    }
   ],
   "source": [
    "print('area의 주소 : ',id(area)) # id(area) : area변수(객체)의 주소값\n",
    "print('area의 타입 : ',type(area))"
   ]
  },
  {
   "cell_type": "code",
   "execution_count": 15,
   "id": "7e0fdb29",
   "metadata": {},
   "outputs": [],
   "source": [
    "area = '파이썬'"
   ]
  },
  {
   "cell_type": "code",
   "execution_count": 16,
   "id": "fb730c02",
   "metadata": {},
   "outputs": [
    {
     "name": "stdout",
     "output_type": "stream",
     "text": [
      "area의 주소 :  2750547589616\n",
      "area의 타입 :  <class 'str'>\n"
     ]
    }
   ],
   "source": [
    "print('area의 주소 : ',id(area)) # id(area) : area변수(객체)의 주소값\n",
    "print('area의 타입 : ',type(area))"
   ]
  },
  {
   "cell_type": "markdown",
   "id": "85efe203",
   "metadata": {},
   "source": [
    "## 1.3 변수 이름 규칙\n",
    "- 문자로 시작\n",
    "- 문자(특수문자는 _ 제외 하고는 사용못함), 숫자, _로 변수명을 작성 가능\n",
    "- 함수명은 변수이름으로 가능은 하지만 피한다.(어쩔수없이 사용해야 한다면 int_식으로 _를 사용한다 )\n",
    "- 파이썬 예약어(if, while, ...)사용은 변수이름 사용 불가능\n",
    "- 한글 변수는 꼭 필요할때만 사용 한다"
   ]
  },
  {
   "cell_type": "code",
   "execution_count": 22,
   "id": "950e8e17",
   "metadata": {},
   "outputs": [
    {
     "data": {
      "text/plain": [
       "'홍길동'"
      ]
     },
     "execution_count": 22,
     "metadata": {},
     "output_type": "execute_result"
    }
   ],
   "source": [
    "이름 = \"홍길동\"\n",
    "이름"
   ]
  },
  {
   "cell_type": "code",
   "execution_count": 23,
   "id": "dcd78002",
   "metadata": {},
   "outputs": [
    {
     "name": "stdout",
     "output_type": "stream",
     "text": [
      "홍길동\n"
     ]
    }
   ],
   "source": [
    "print(이름)"
   ]
  },
  {
   "cell_type": "code",
   "execution_count": null,
   "id": "bd054cf5",
   "metadata": {},
   "outputs": [],
   "source": [
    "if = 5"
   ]
  },
  {
   "cell_type": "code",
   "execution_count": null,
   "id": "29c24954",
   "metadata": {},
   "outputs": [],
   "source": [
    "member_name = 5 # \n",
    "memberName = 5 # 카멜표기법"
   ]
  },
  {
   "cell_type": "code",
   "execution_count": 25,
   "id": "51659ca1",
   "metadata": {},
   "outputs": [],
   "source": [
    "print = 5"
   ]
  },
  {
   "cell_type": "code",
   "execution_count": 26,
   "id": "3db797b0",
   "metadata": {},
   "outputs": [
    {
     "name": "stdout",
     "output_type": "stream",
     "text": [
      "홍길동\n"
     ]
    }
   ],
   "source": [
    "del print #print 변수 삭제\n",
    "print_ = 5\n",
    "print(이름)"
   ]
  },
  {
   "cell_type": "markdown",
   "id": "cd2492b5",
   "metadata": {},
   "source": [
    "## 1.4 도움말"
   ]
  },
  {
   "cell_type": "code",
   "execution_count": 27,
   "id": "91b6ff69",
   "metadata": {},
   "outputs": [
    {
     "data": {
      "text/plain": [
       "complex"
      ]
     },
     "execution_count": 27,
     "metadata": {},
     "output_type": "execute_result"
    }
   ],
   "source": [
    "i = 3 + 3j\n",
    "type(i)"
   ]
  },
  {
   "cell_type": "code",
   "execution_count": 28,
   "id": "4c7ee5a5",
   "metadata": {},
   "outputs": [
    {
     "data": {
      "text/plain": [
       "True"
      ]
     },
     "execution_count": 28,
     "metadata": {},
     "output_type": "execute_result"
    }
   ],
   "source": [
    "isinstance(i, complex) # i 변수(객체)가 complex타입인지 여부"
   ]
  },
  {
   "cell_type": "code",
   "execution_count": null,
   "id": "d33dd297",
   "metadata": {},
   "outputs": [],
   "source": [
    "print()"
   ]
  },
  {
   "cell_type": "code",
   "execution_count": 30,
   "id": "bd3f4d4c",
   "metadata": {},
   "outputs": [],
   "source": [
    "def add(x, y=0):\n",
    "    '''\n",
    "    매개변수 2개를 받아 두자리 숫자로 만들어요\n",
    "    x = 10의 자리수가 되고\n",
    "    y = 1의 자리수가 된다(default값이 0)\n",
    "    사용법 : add(2,4) => 24\n",
    "    '''\n",
    "    return x*10+y"
   ]
  },
  {
   "cell_type": "code",
   "execution_count": 31,
   "id": "a07c1a0e",
   "metadata": {},
   "outputs": [
    {
     "data": {
      "text/plain": [
       "54"
      ]
     },
     "execution_count": 31,
     "metadata": {},
     "output_type": "execute_result"
    }
   ],
   "source": [
    "add(5,4)"
   ]
  },
  {
   "cell_type": "code",
   "execution_count": 32,
   "id": "de3fe4ae",
   "metadata": {},
   "outputs": [
    {
     "data": {
      "text/plain": [
       "50"
      ]
     },
     "execution_count": 32,
     "metadata": {},
     "output_type": "execute_result"
    }
   ],
   "source": [
    "add(5)"
   ]
  },
  {
   "cell_type": "code",
   "execution_count": 33,
   "id": "621c8542",
   "metadata": {},
   "outputs": [],
   "source": [
    "a = add # 함수형 언어는 변수에 함수 할당이 가능"
   ]
  },
  {
   "cell_type": "code",
   "execution_count": 34,
   "id": "594eae00",
   "metadata": {},
   "outputs": [
    {
     "data": {
      "text/plain": [
       "54"
      ]
     },
     "execution_count": 34,
     "metadata": {},
     "output_type": "execute_result"
    }
   ],
   "source": [
    "a(5,4)"
   ]
  },
  {
   "cell_type": "code",
   "execution_count": 35,
   "id": "eacae4e0",
   "metadata": {},
   "outputs": [
    {
     "data": {
      "text/plain": [
       "50"
      ]
     },
     "execution_count": 35,
     "metadata": {},
     "output_type": "execute_result"
    }
   ],
   "source": [
    "a(5)"
   ]
  },
  {
   "cell_type": "markdown",
   "id": "804e48ac",
   "metadata": {},
   "source": [
    "## 1.5 다중 변수 선언"
   ]
  },
  {
   "cell_type": "code",
   "execution_count": 36,
   "id": "0463277d",
   "metadata": {},
   "outputs": [],
   "source": [
    "a = 10\n",
    "b = 20"
   ]
  },
  {
   "cell_type": "code",
   "execution_count": 37,
   "id": "8de4b951",
   "metadata": {},
   "outputs": [],
   "source": [
    "a, b = 10, 20 # 동시에 다중변수 선언"
   ]
  },
  {
   "cell_type": "code",
   "execution_count": 38,
   "id": "75e0bcf5",
   "metadata": {},
   "outputs": [
    {
     "data": {
      "text/plain": [
       "(10, 20)"
      ]
     },
     "execution_count": 38,
     "metadata": {},
     "output_type": "execute_result"
    }
   ],
   "source": [
    "a, b"
   ]
  },
  {
   "cell_type": "code",
   "execution_count": 39,
   "id": "d7b34c8f",
   "metadata": {},
   "outputs": [],
   "source": [
    "a, b = b, a+b"
   ]
  },
  {
   "cell_type": "code",
   "execution_count": 40,
   "id": "a431bc49",
   "metadata": {},
   "outputs": [
    {
     "data": {
      "text/plain": [
       "(20, 30)"
      ]
     },
     "execution_count": 40,
     "metadata": {},
     "output_type": "execute_result"
    }
   ],
   "source": [
    "a, b"
   ]
  },
  {
   "cell_type": "markdown",
   "id": "6f1d3ec3",
   "metadata": {},
   "source": [
    "# 2절. 화면 i/o"
   ]
  },
  {
   "cell_type": "code",
   "execution_count": 42,
   "id": "fcc5b3f7",
   "metadata": {
    "code_folding": []
   },
   "outputs": [
    {
     "name": "stdout",
     "output_type": "stream",
     "text": [
      "10\n"
     ]
    },
    {
     "data": {
      "text/plain": [
       "'10'"
      ]
     },
     "execution_count": 42,
     "metadata": {},
     "output_type": "execute_result"
    }
   ],
   "source": [
    "# input() : 사용자로부터 값을 입력받기 위한 함수. 입력값은 문자열\n",
    "first = input()\n",
    "first"
   ]
  },
  {
   "cell_type": "code",
   "execution_count": 43,
   "id": "3b3f4159",
   "metadata": {},
   "outputs": [
    {
     "name": "stdout",
     "output_type": "stream",
     "text": [
      "첫번째 숫자는?10\n",
      "두번째 숫자는?50\n"
     ]
    }
   ],
   "source": [
    "first = input('첫번째 숫자는?')\n",
    "second = input('두번째 숫자는?')"
   ]
  },
  {
   "cell_type": "code",
   "execution_count": 44,
   "id": "ee299784",
   "metadata": {},
   "outputs": [
    {
     "name": "stdout",
     "output_type": "stream",
     "text": [
      "두수의 합은 1050\n"
     ]
    }
   ],
   "source": [
    "print('두수의 합은', first+second)"
   ]
  },
  {
   "cell_type": "code",
   "execution_count": 45,
   "id": "dee30aac",
   "metadata": {},
   "outputs": [
    {
     "data": {
      "text/plain": [
       "'50'"
      ]
     },
     "execution_count": 45,
     "metadata": {},
     "output_type": "execute_result"
    }
   ],
   "source": [
    "second"
   ]
  },
  {
   "cell_type": "code",
   "execution_count": 46,
   "id": "373a2ae8",
   "metadata": {},
   "outputs": [
    {
     "data": {
      "text/plain": [
       "60"
      ]
     },
     "execution_count": 46,
     "metadata": {},
     "output_type": "execute_result"
    }
   ],
   "source": [
    "int(first) + int(second)"
   ]
  },
  {
   "cell_type": "code",
   "execution_count": 47,
   "id": "36dbe5a7",
   "metadata": {},
   "outputs": [],
   "source": [
    "sum = int(first) + int(second)"
   ]
  },
  {
   "cell_type": "code",
   "execution_count": 48,
   "id": "d4fb7ec6",
   "metadata": {},
   "outputs": [
    {
     "name": "stdout",
     "output_type": "stream",
     "text": [
      "합 60\n"
     ]
    }
   ],
   "source": [
    "print('합', sum)"
   ]
  },
  {
   "cell_type": "code",
   "execution_count": 49,
   "id": "477c15e4",
   "metadata": {},
   "outputs": [
    {
     "name": "stdout",
     "output_type": "stream",
     "text": [
      "합 / 60 / Hello / World \t\tHello ~ Python\n"
     ]
    }
   ],
   "source": [
    "print('합', sum, 'Hello', 'World', sep=' / ', end=' \\t\\t')\n",
    "print('Hello','Python', sep=' ~ ')"
   ]
  },
  {
   "cell_type": "code",
   "execution_count": 53,
   "id": "a0c09949",
   "metadata": {},
   "outputs": [
    {
     "name": "stdout",
     "output_type": "stream",
     "text": [
      "hello - world - hello - python\n"
     ]
    }
   ],
   "source": [
    "import sys\n",
    "print('hello', 'world', 'hello', 'python', sep=' - ')"
   ]
  },
  {
   "cell_type": "markdown",
   "id": "ba56f09a",
   "metadata": {},
   "source": [
    "# 3절. 기본 자료형\n",
    "- 프로그래밍 언어들은 변수가 가져야 할 값의 형식, 범위에 따라 값의 유형을 정해 놓고 사용.\n",
    "- 자료형에 따라 값의 크기와 저장방식이 달라짐.\n",
    "- 자료형에 따라 수행할수 있는 명령어들이 달라짐.\n",
    "\n",
    "  * '숫자' - int, float, complex\n",
    "  * '문자' - str\n",
    "  * '논리' - bool"
   ]
  },
  {
   "cell_type": "markdown",
   "id": "110701f8",
   "metadata": {},
   "source": [
    "## 3.1 숫자형"
   ]
  },
  {
   "cell_type": "code",
   "execution_count": 54,
   "id": "aba01e98",
   "metadata": {},
   "outputs": [
    {
     "name": "stdout",
     "output_type": "stream",
     "text": [
      "9223372036854775807\n"
     ]
    }
   ],
   "source": [
    "import sys\n",
    "print(sys.maxsize) # 정수의 최대값 : 2^63-1"
   ]
  },
  {
   "cell_type": "code",
   "execution_count": 55,
   "id": "c4ae3d53",
   "metadata": {},
   "outputs": [
    {
     "name": "stdout",
     "output_type": "stream",
     "text": [
      "i값: 9223372036854775907\n"
     ]
    }
   ],
   "source": [
    "i = sys.maxsize + 100\n",
    "print('i값:', i)"
   ]
  },
  {
   "cell_type": "code",
   "execution_count": 56,
   "id": "5da1d806",
   "metadata": {},
   "outputs": [
    {
     "data": {
      "text/plain": [
       "1.5"
      ]
     },
     "execution_count": 56,
     "metadata": {},
     "output_type": "execute_result"
    }
   ],
   "source": [
    "f = 3/2 # 정수/정수는 무조건 실수\n",
    "f"
   ]
  },
  {
   "cell_type": "code",
   "execution_count": 58,
   "id": "0f94fe3f",
   "metadata": {},
   "outputs": [
    {
     "data": {
      "text/plain": [
       "1.0"
      ]
     },
     "execution_count": 58,
     "metadata": {},
     "output_type": "execute_result"
    }
   ],
   "source": [
    "f = 3/3\n",
    "f"
   ]
  },
  {
   "cell_type": "markdown",
   "id": "8b384aad",
   "metadata": {},
   "source": [
    "## 3.2 문자형"
   ]
  },
  {
   "cell_type": "code",
   "execution_count": 62,
   "id": "41a567ce",
   "metadata": {},
   "outputs": [
    {
     "name": "stdout",
     "output_type": "stream",
     "text": [
      "홍길동'짱' 서울시 '관악구' 신림동\n"
     ]
    }
   ],
   "source": [
    "name = '홍길동\\'짱\\'' # 홍길동 '짱'\n",
    "address = \"서울시 '관악구' 신림동\"\n",
    "print(name, address)"
   ]
  },
  {
   "cell_type": "code",
   "execution_count": 63,
   "id": "74c1fcc2",
   "metadata": {},
   "outputs": [
    {
     "name": "stdout",
     "output_type": "stream",
     "text": [
      "여러줄짜리 내용을 저장\n",
      "줄바꿈 문자를 쓰면 당연히 여러줄 \n",
      "줄바꿈은 가동성 떨어져\n"
     ]
    }
   ],
   "source": [
    "text = '여러줄짜리 내용을 저장\\n줄바꿈 문자를 쓰면 당연히 여러줄 \\n줄바꿈은 가동성 떨어져'\n",
    "print(text)"
   ]
  },
  {
   "cell_type": "code",
   "execution_count": 64,
   "id": "36bdf9e4",
   "metadata": {},
   "outputs": [
    {
     "name": "stdout",
     "output_type": "stream",
     "text": [
      "여러줄짜리 내용을 저장\n",
      "줄바꿈문자 쓰지않고 따옴표 3개로 처리\n",
      "이처럼 쓰는 경우가 더 많이 있다\n",
      "\n"
     ]
    }
   ],
   "source": [
    "text = '''여러줄짜리 내용을 저장\n",
    "줄바꿈문자 쓰지않고 따옴표 3개로 처리\n",
    "이처럼 쓰는 경우가 더 많이 있다\n",
    "'''\n",
    "print(text)"
   ]
  },
  {
   "cell_type": "markdown",
   "id": "6ee07446",
   "metadata": {},
   "source": [
    "### ※ 문자열 연산"
   ]
  },
  {
   "cell_type": "code",
   "execution_count": 4,
   "id": "73e52654",
   "metadata": {},
   "outputs": [
    {
     "name": "stdout",
     "output_type": "stream",
     "text": [
      "홍길동동해번쩍\n"
     ]
    }
   ],
   "source": [
    "'''\n",
    "    여러줄 주석 용도\n",
    "    2024.11.5 문자열 연산 by 아무개\n",
    "'''\n",
    "name1 = \"홍길동\"\n",
    "name2 = \"동해번쩍\"\n",
    "print(name1 + name2)"
   ]
  },
  {
   "cell_type": "code",
   "execution_count": 5,
   "id": "6a5dc989",
   "metadata": {},
   "outputs": [
    {
     "name": "stdout",
     "output_type": "stream",
     "text": [
      "홍길동홍길동홍길동\n"
     ]
    }
   ],
   "source": [
    "print(name1 * 3)"
   ]
  },
  {
   "cell_type": "markdown",
   "id": "42137908",
   "metadata": {},
   "source": [
    "### ※ raw 데이터"
   ]
  },
  {
   "cell_type": "code",
   "execution_count": 3,
   "id": "e0c944ad",
   "metadata": {},
   "outputs": [
    {
     "name": "stdout",
     "output_type": "stream",
     "text": [
      "Hello\\nWorld\n"
     ]
    }
   ],
   "source": [
    "# raw 데이터 처리시 이스케이프문자(\\n, \\t, \\r, \\', \\\")\n",
    "print(r'Hello\\nWorld')"
   ]
  },
  {
   "cell_type": "code",
   "execution_count": 26,
   "id": "796b8739",
   "metadata": {},
   "outputs": [
    {
     "name": "stdout",
     "output_type": "stream",
     "text": [
      "이름:홍길동, 주소:서울, 전화:02-888-8888, 핸드폰:010-9999-9999, 특징:동해번쩍 서해번쩍 혈액형:B\n"
     ]
    }
   ],
   "source": [
    "# 정규표현식 이용\n",
    "import re # re라는 패키지를 가져와야함\n",
    "data = \"이름:홍길동, 주소:서울, 전화:02-888-8888, 핸드폰:010-9999-9999, 특징:동해번쩍 서해번쩍 \\\n",
    "혈액형:B\"\n",
    "print(data)"
   ]
  },
  {
   "cell_type": "code",
   "execution_count": null,
   "id": "af174902",
   "metadata": {},
   "outputs": [],
   "source": []
  },
  {
   "cell_type": "code",
   "execution_count": 27,
   "id": "db9b09da",
   "metadata": {},
   "outputs": [
    {
     "name": "stdout",
     "output_type": "stream",
     "text": [
      "['02-888-8888', '010-9999-9999']\n"
     ]
    }
   ],
   "source": [
    "#정규표현식 처리에서는 raw 데이터 처리를 하지 않아도 실행은 되나 \n",
    "#실수를 줄이고 가독성을 높이는 용도로 raw 데이터 처리를 사용\n",
    "tel_pattern = r\"\\d{2,3}-\\d{3,4}-\\d{4}\"\n",
    "tels = re.findall(tel_pattern, data) #특정한 데이터를 해당 패턴을 찾아오는 함수(re.findall)\n",
    "print(tels)"
   ]
  },
  {
   "cell_type": "code",
   "execution_count": 28,
   "id": "9bd299e3",
   "metadata": {},
   "outputs": [
    {
     "data": {
      "text/plain": [
       "<re.Match object; span=(18, 29), match='02-888-8888'>"
      ]
     },
     "execution_count": 28,
     "metadata": {},
     "output_type": "execute_result"
    }
   ],
   "source": [
    "# 정규표현식 패턴과 처음 match 되는 것 찾아줘\n",
    "firstTel = re.search(tel_pattern, data)\n",
    "firstTel"
   ]
  },
  {
   "cell_type": "code",
   "execution_count": 29,
   "id": "e65d0c1c",
   "metadata": {},
   "outputs": [
    {
     "name": "stdout",
     "output_type": "stream",
     "text": [
      "02-888-8888\n",
      "02-888-8888\n"
     ]
    }
   ],
   "source": [
    "print(data[18:29]) #전화번호 위치\n",
    "print(firstTel.group(0))"
   ]
  },
  {
   "cell_type": "code",
   "execution_count": 30,
   "id": "b5593189",
   "metadata": {},
   "outputs": [
    {
     "data": {
      "text/plain": [
       "<re.Match object; span=(18, 29), match='02-888-8888'>"
      ]
     },
     "execution_count": 30,
     "metadata": {},
     "output_type": "execute_result"
    }
   ],
   "source": [
    "phone_pattern = r'(\\d{2,3})-(\\d{3,4})-(\\d{4})'\n",
    "first_phone = re.search(phone_pattern, data)\n",
    "first_phone"
   ]
  },
  {
   "cell_type": "code",
   "execution_count": 31,
   "id": "c27d653a",
   "metadata": {},
   "outputs": [
    {
     "name": "stdout",
     "output_type": "stream",
     "text": [
      "전체 전화번호 : 02-888-8888\n",
      "국번 : 02\n",
      "중간 번호 : 888\n",
      "끝 번호 : 8888\n"
     ]
    }
   ],
   "source": [
    "print('전체 전화번호 :', first_phone.group(0))\n",
    "print('국번 :', first_phone.group(1))\n",
    "print('중간 번호 :', first_phone.group(2))\n",
    "print('끝 번호 :', first_phone.group(3))"
   ]
  },
  {
   "cell_type": "code",
   "execution_count": 9,
   "id": "d0d48808",
   "metadata": {
    "ExecuteTime": {
     "end_time": "2024-11-05T01:38:33.697446Z",
     "start_time": "2024-11-05T01:38:33.693448Z"
    }
   },
   "outputs": [],
   "source": [
    "# 파일경로에는 반드시 r을 사용하거나 \\\\로 이용하거나 /를 사용\n",
    "# file_path = 'D:\\\\ai\\\\source\\\\07_python\\\\test.txt'\n",
    "# file_path = 'D:/ai/sourche/07_python/test.txt'\n",
    "file_path = r'd:\\ai\\source\\07_python\\test.txt'"
   ]
  },
  {
   "cell_type": "code",
   "execution_count": 13,
   "id": "4fd88887",
   "metadata": {
    "ExecuteTime": {
     "end_time": "2024-11-05T01:43:19.258473Z",
     "start_time": "2024-11-05T01:43:19.251475Z"
    }
   },
   "outputs": [
    {
     "name": "stdout",
     "output_type": "stream",
     "text": [
      "Hello, World\n",
      "Hello, Python\n"
     ]
    }
   ],
   "source": [
    "file_stream = open(file_path, 'w')\n",
    "print('Hello, World', 'Hello, Python', sep='\\n') # 콘솔 출력\n",
    "print('Hello, World', 'Hello, Python', sep='\\n', file=file_stream)\n",
    "file_stream.close()"
   ]
  },
  {
   "cell_type": "markdown",
   "id": "53b0f05b",
   "metadata": {},
   "source": [
    "### ※ 문자열 슬라이싱"
   ]
  },
  {
   "cell_type": "code",
   "execution_count": 19,
   "id": "ff132caf",
   "metadata": {
    "ExecuteTime": {
     "end_time": "2024-11-05T01:51:56.783265Z",
     "start_time": "2024-11-05T01:51:56.777267Z"
    }
   },
   "outputs": [
    {
     "data": {
      "text/plain": [
       "'0123456789'"
      ]
     },
     "execution_count": 19,
     "metadata": {},
     "output_type": "execute_result"
    }
   ],
   "source": [
    "str_ = '0123456789'\n",
    "str_"
   ]
  },
  {
   "cell_type": "code",
   "execution_count": 20,
   "id": "df05ab36",
   "metadata": {
    "ExecuteTime": {
     "end_time": "2024-11-05T01:51:58.774618Z",
     "start_time": "2024-11-05T01:51:58.768619Z"
    }
   },
   "outputs": [
    {
     "data": {
      "text/plain": [
       "('0', '2', '9')"
      ]
     },
     "execution_count": 20,
     "metadata": {},
     "output_type": "execute_result"
    }
   ],
   "source": [
    "str_[0],str_[2],str_[-1] # 음수인덱싱은 맨 마지막이 -1"
   ]
  },
  {
   "cell_type": "code",
   "execution_count": 21,
   "id": "4809c9e9",
   "metadata": {
    "ExecuteTime": {
     "end_time": "2024-11-05T01:52:12.054293Z",
     "start_time": "2024-11-05T01:52:12.032301Z"
    }
   },
   "outputs": [
    {
     "ename": "IndexError",
     "evalue": "string index out of range",
     "output_type": "error",
     "traceback": [
      "\u001b[1;31m---------------------------------------------------------------------------\u001b[0m",
      "\u001b[1;31mIndexError\u001b[0m                                Traceback (most recent call last)",
      "Cell \u001b[1;32mIn[21], line 1\u001b[0m\n\u001b[1;32m----> 1\u001b[0m \u001b[43mstr_\u001b[49m\u001b[43m[\u001b[49m\u001b[38;5;241;43m10\u001b[39;49m\u001b[43m]\u001b[49m\n",
      "\u001b[1;31mIndexError\u001b[0m: string index out of range"
     ]
    }
   ],
   "source": [
    "str_[10] # 없는 인덱싱은 에러"
   ]
  },
  {
   "cell_type": "code",
   "execution_count": 23,
   "id": "f3b49f29",
   "metadata": {
    "ExecuteTime": {
     "end_time": "2024-11-05T01:55:49.007665Z",
     "start_time": "2024-11-05T01:55:49.001665Z"
    }
   },
   "outputs": [
    {
     "data": {
      "text/plain": [
       "'012'"
      ]
     },
     "execution_count": 23,
     "metadata": {},
     "output_type": "execute_result"
    }
   ],
   "source": [
    "'''\n",
    "문자열변수[form:stop] : from부터 stop앞까지 추출\n",
    "문자열변수[from:stop:step] : from부터 stop앞까지 step씩 전진하면서 추출\n",
    "    from 생략시 처음부터\n",
    "    stop 생략시 끝까지\n",
    "    step 생략시 1\n",
    "'''\n",
    "str_[0:3] # 0번째부터 3번째앞까지"
   ]
  },
  {
   "cell_type": "code",
   "execution_count": 24,
   "id": "c1219fd9",
   "metadata": {
    "ExecuteTime": {
     "end_time": "2024-11-05T01:56:10.344715Z",
     "start_time": "2024-11-05T01:56:10.337719Z"
    }
   },
   "outputs": [
    {
     "data": {
      "text/plain": [
       "'5678'"
      ]
     },
     "execution_count": 24,
     "metadata": {},
     "output_type": "execute_result"
    }
   ],
   "source": [
    "str_[-5:-1] # -5번째부터 -1번째 앞까지"
   ]
  },
  {
   "cell_type": "code",
   "execution_count": 25,
   "id": "d8d4bca8",
   "metadata": {
    "ExecuteTime": {
     "end_time": "2024-11-05T01:57:00.349434Z",
     "start_time": "2024-11-05T01:57:00.343436Z"
    }
   },
   "outputs": [
    {
     "data": {
      "text/plain": [
       "'56789'"
      ]
     },
     "execution_count": 25,
     "metadata": {},
     "output_type": "execute_result"
    }
   ],
   "source": [
    "# 인덱싱의 경우 없는 인덱스번호를 사용하면 에러\n",
    "# 슬라이싱의 경우 없는 인덱스 범위를 벗어나면 끝까지를 의미\n",
    "str_[5:19]"
   ]
  },
  {
   "cell_type": "code",
   "execution_count": 28,
   "id": "d85529f4",
   "metadata": {
    "ExecuteTime": {
     "end_time": "2024-11-05T01:59:37.683210Z",
     "start_time": "2024-11-05T01:59:37.678212Z"
    }
   },
   "outputs": [
    {
     "name": "stdout",
     "output_type": "stream",
     "text": [
      "0123456789\n",
      "02468\n"
     ]
    }
   ],
   "source": [
    "print(str_[0:10])\n",
    "print(str_[0:10:2])"
   ]
  },
  {
   "cell_type": "code",
   "execution_count": 30,
   "id": "136c88c8",
   "metadata": {
    "ExecuteTime": {
     "end_time": "2024-11-05T02:02:58.865705Z",
     "start_time": "2024-11-05T02:02:58.861706Z"
    }
   },
   "outputs": [
    {
     "name": "stdout",
     "output_type": "stream",
     "text": [
      "012345\n",
      "56789\n"
     ]
    }
   ],
   "source": [
    "print(str_[:6]) # 처음부터 6번쨰 앞까지\n",
    "print(str_[5:]) # 5번째부터 끝까지"
   ]
  },
  {
   "cell_type": "code",
   "execution_count": 31,
   "id": "24f18c1d",
   "metadata": {
    "ExecuteTime": {
     "end_time": "2024-11-05T02:04:09.003874Z",
     "start_time": "2024-11-05T02:04:08.998878Z"
    }
   },
   "outputs": [
    {
     "name": "stdout",
     "output_type": "stream",
     "text": [
      "987654321\n"
     ]
    }
   ],
   "source": [
    "print(str_[9:0:-1]) # 9번째부터 0번째전까지 -1씩 전진"
   ]
  },
  {
   "cell_type": "code",
   "execution_count": 32,
   "id": "4ccd1c2c",
   "metadata": {
    "ExecuteTime": {
     "end_time": "2024-11-05T02:06:09.394670Z",
     "start_time": "2024-11-05T02:06:09.388673Z"
    }
   },
   "outputs": [
    {
     "name": "stdout",
     "output_type": "stream",
     "text": [
      "9876543210\n",
      "9876543210\n",
      "9876543210\n"
     ]
    }
   ],
   "source": [
    "# 마지막부터 처음까지 거꾸로 출력\n",
    "print(str_[9::-1])\n",
    "print(str_[::-1])\n",
    "print(str_[-1::-1])"
   ]
  },
  {
   "cell_type": "markdown",
   "id": "83d9eb9b",
   "metadata": {},
   "source": [
    "## 3.3 논리형(True, False)"
   ]
  },
  {
   "cell_type": "code",
   "execution_count": 35,
   "id": "6c3456a7",
   "metadata": {
    "ExecuteTime": {
     "end_time": "2024-11-05T02:15:04.175556Z",
     "start_time": "2024-11-05T02:15:04.169558Z"
    }
   },
   "outputs": [
    {
     "name": "stdout",
     "output_type": "stream",
     "text": [
      "True\n",
      "<class 'bool'>\n",
      "True\n"
     ]
    }
   ],
   "source": [
    "a = True\n",
    "print(a)\n",
    "print(type(a)) # 타입\n",
    "print(isinstance(a, bool))"
   ]
  },
  {
   "cell_type": "code",
   "execution_count": 36,
   "id": "456f18ee",
   "metadata": {
    "ExecuteTime": {
     "end_time": "2024-11-05T02:16:45.856446Z",
     "start_time": "2024-11-05T02:16:45.849449Z"
    }
   },
   "outputs": [
    {
     "data": {
      "text/plain": [
       "(1, 0)"
      ]
     },
     "execution_count": 36,
     "metadata": {},
     "output_type": "execute_result"
    }
   ],
   "source": [
    "int(True), int(False)"
   ]
  },
  {
   "cell_type": "code",
   "execution_count": 41,
   "id": "070e1b6b",
   "metadata": {
    "ExecuteTime": {
     "end_time": "2024-11-05T02:18:36.812315Z",
     "start_time": "2024-11-05T02:18:36.808317Z"
    }
   },
   "outputs": [],
   "source": [
    "# False로 간주되는 것 : 0, ''-(빈스트링), None, []-빈리스트, ()-빈튜플, {}-빈딕셔너리"
   ]
  },
  {
   "cell_type": "code",
   "execution_count": 38,
   "id": "fa4c4f5a",
   "metadata": {
    "ExecuteTime": {
     "end_time": "2024-11-05T02:17:14.856003Z",
     "start_time": "2024-11-05T02:17:14.851006Z"
    }
   },
   "outputs": [
    {
     "name": "stdout",
     "output_type": "stream",
     "text": [
      "False다\n"
     ]
    }
   ],
   "source": [
    "if 0:\n",
    "    print('True다')\n",
    "else:\n",
    "    print('False다')"
   ]
  },
  {
   "cell_type": "markdown",
   "id": "96746b4b",
   "metadata": {},
   "source": [
    "## 3.4 자료형 확인 및 형변환 함수\n",
    "    - type()\n",
    "    - int() : 정수형 변환\n",
    "    - float() : 실수형 변환\n",
    "    - str() : 문자형 변환\n",
    "    - bool() : 논리형 변환"
   ]
  },
  {
   "cell_type": "code",
   "execution_count": 42,
   "id": "4e3d503b",
   "metadata": {},
   "outputs": [
    {
     "data": {
      "text/plain": [
       "(123, 123)"
      ]
     },
     "execution_count": 42,
     "metadata": {},
     "output_type": "execute_result"
    }
   ],
   "source": [
    "int('123'), int(123.55)"
   ]
  },
  {
   "cell_type": "code",
   "execution_count": 44,
   "id": "992af81b",
   "metadata": {},
   "outputs": [
    {
     "ename": "ValueError",
     "evalue": "invalid literal for int() with base 10: ''",
     "output_type": "error",
     "traceback": [
      "\u001b[1;31m---------------------------------------------------------------------------\u001b[0m",
      "\u001b[1;31mValueError\u001b[0m                                Traceback (most recent call last)",
      "Cell \u001b[1;32mIn[44], line 1\u001b[0m\n\u001b[1;32m----> 1\u001b[0m \u001b[38;5;28;43mint\u001b[39;49m\u001b[43m(\u001b[49m\u001b[38;5;124;43m'\u001b[39;49m\u001b[38;5;124;43m'\u001b[39;49m\u001b[43m)\u001b[49m, \u001b[38;5;28mint\u001b[39m(\u001b[38;5;124m'\u001b[39m\u001b[38;5;124m \u001b[39m\u001b[38;5;124m'\u001b[39m), \u001b[38;5;28mint\u001b[39m(\u001b[38;5;28;01mNone\u001b[39;00m), \u001b[38;5;28mint\u001b[39m(\u001b[38;5;124m'\u001b[39m\u001b[38;5;124m123.45\u001b[39m\u001b[38;5;124m'\u001b[39m), \u001b[38;5;28mint\u001b[39m(\u001b[38;5;124m'\u001b[39m\u001b[38;5;124m1,456\u001b[39m\u001b[38;5;124m'\u001b[39m)\n",
      "\u001b[1;31mValueError\u001b[0m: invalid literal for int() with base 10: ''"
     ]
    }
   ],
   "source": [
    "# 에러나는 것들\n",
    "int(''), int(' '), int(None), int('123.45'), int('1,456')"
   ]
  },
  {
   "cell_type": "code",
   "execution_count": 45,
   "id": "716e7438",
   "metadata": {},
   "outputs": [
    {
     "data": {
      "text/plain": [
       "(123.45, 123.0)"
      ]
     },
     "execution_count": 45,
     "metadata": {},
     "output_type": "execute_result"
    }
   ],
   "source": [
    "float('123.45'), float(123), float(False)"
   ]
  },
  {
   "cell_type": "code",
   "execution_count": 48,
   "id": "5d318828",
   "metadata": {},
   "outputs": [
    {
     "ename": "ValueError",
     "evalue": "could not convert string to float: ''",
     "output_type": "error",
     "traceback": [
      "\u001b[1;31m---------------------------------------------------------------------------\u001b[0m",
      "\u001b[1;31mValueError\u001b[0m                                Traceback (most recent call last)",
      "Cell \u001b[1;32mIn[48], line 2\u001b[0m\n\u001b[0;32m      1\u001b[0m \u001b[38;5;66;03m#에러나는 것들\u001b[39;00m\n\u001b[1;32m----> 2\u001b[0m \u001b[38;5;28;43mfloat\u001b[39;49m\u001b[43m(\u001b[49m\u001b[38;5;124;43m'\u001b[39;49m\u001b[38;5;124;43m'\u001b[39;49m\u001b[43m)\u001b[49m, flaot(\u001b[38;5;124m'\u001b[39m\u001b[38;5;124m \u001b[39m\u001b[38;5;124m'\u001b[39m), \u001b[38;5;28mfloat\u001b[39m(\u001b[38;5;28;01mNone\u001b[39;00m), \u001b[38;5;28mfloat\u001b[39m(\u001b[38;5;124m'\u001b[39m\u001b[38;5;124m1,123\u001b[39m\u001b[38;5;124m'\u001b[39m)\n",
      "\u001b[1;31mValueError\u001b[0m: could not convert string to float: ''"
     ]
    }
   ],
   "source": [
    "#에러나는 것들\n",
    "float(''), float(' '), float(None), float('1,123')"
   ]
  },
  {
   "cell_type": "code",
   "execution_count": 47,
   "id": "69c38d56",
   "metadata": {},
   "outputs": [
    {
     "data": {
      "text/plain": [
       "('10', '10.9', '11200000000.0')"
      ]
     },
     "execution_count": 47,
     "metadata": {},
     "output_type": "execute_result"
    }
   ],
   "source": [
    "str(10), str(10.9), str(1.12e10)"
   ]
  },
  {
   "cell_type": "markdown",
   "id": "6838bda3",
   "metadata": {},
   "source": [
    "파이썬 기본 자료형\n",
    "1. 숫자 - int, float, complex\n",
    "2. 문자 - str, 문자슬라이싱, raw데이터처리시 이스케이프문자(\\n,\\\\, \\', \\t)를 그대로 저장\n",
    "3. 논리- False로 판별되는 경우 0, '', none, [], (), {}"
   ]
  }
 ],
 "metadata": {
  "kernelspec": {
   "display_name": "Python 3 (ipykernel)",
   "language": "python",
   "name": "python3"
  },
  "language_info": {
   "codemirror_mode": {
    "name": "ipython",
    "version": 3
   },
   "file_extension": ".py",
   "mimetype": "text/x-python",
   "name": "python",
   "nbconvert_exporter": "python",
   "pygments_lexer": "ipython3",
   "version": "3.10.9"
  },
  "toc": {
   "base_numbering": 1,
   "nav_menu": {},
   "number_sections": true,
   "sideBar": true,
   "skip_h1_title": false,
   "title_cell": "Table of Contents",
   "title_sidebar": "Contents",
   "toc_cell": false,
   "toc_position": {
    "height": "calc(100% - 180px)",
    "left": "10px",
    "top": "150px",
    "width": "168.594px"
   },
   "toc_section_display": true,
   "toc_window_display": true
  }
 },
 "nbformat": 4,
 "nbformat_minor": 5
}
