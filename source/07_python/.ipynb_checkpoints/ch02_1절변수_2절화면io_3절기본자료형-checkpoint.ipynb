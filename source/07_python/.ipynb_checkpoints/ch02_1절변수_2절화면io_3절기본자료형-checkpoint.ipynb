{
 "cells": [
  {
   "cell_type": "code",
   "execution_count": 1,
   "id": "f247909f",
   "metadata": {
    "ExecuteTime": {
     "end_time": "2024-11-04T07:30:26.132045Z",
     "start_time": "2024-11-04T07:30:26.122048Z"
    }
   },
   "outputs": [
    {
     "data": {
      "text/html": [
       "\n",
       "<style>\n",
       "div.container{width:80% !important;}\n",
       "div.CodeMirror {font-family:Consolas; font-size:16pt;}\n",
       "div.output {font-size:16pt; font-weight:bold;}\n",
       "div.input {font-family:Consolas; font-size:16pt;}\n",
       "div.prompt {min-width:70px;}\n",
       "div#toc-header{margin-top:150px;}\n",
       "</style>\n",
       "<style>\n",
       "span.toc-item-num{\n",
       "display:none;\n",
       "}\n",
       "</style>\n"
      ],
      "text/plain": [
       "<IPython.core.display.HTML object>"
      ]
     },
     "metadata": {},
     "output_type": "display_data"
    }
   ],
   "source": [
    "from IPython.display import display, HTML\n",
    "display(HTML(\"\"\"\n",
    "<style>\n",
    "div.container{width:80% !important;}\n",
    "div.CodeMirror {font-family:Consolas; font-size:16pt;}\n",
    "div.output {font-size:16pt; font-weight:bold;}\n",
    "div.input {font-family:Consolas; font-size:16pt;}\n",
    "div.prompt {min-width:70px;}\n",
    "div#toc-header{margin-top:150px;}\n",
    "</style>\n",
    "<style>\n",
    "span.toc-item-num{\n",
    "display:none;\n",
    "}\n",
    "</style>\n",
    "\"\"\"))"
   ]
  },
  {
   "cell_type": "markdown",
   "id": "27cd3048",
   "metadata": {},
   "source": [
    "<b><font size=\"6\" color=\"red\">ch02. 자료형과 연산자</font></b>"
   ]
  },
  {
   "cell_type": "markdown",
   "id": "3f5ca982",
   "metadata": {},
   "source": [
    "# 1절. 변수"
   ]
  },
  {
   "cell_type": "markdown",
   "id": "4299eaca",
   "metadata": {},
   "source": [
    "## 1.1 변수 선언\n",
    "- 파이썬은 변수 선언을 위한 타입이 없고, 별도의 선언 과정도 없음"
   ]
  },
  {
   "cell_type": "markdown",
   "id": "6f0562a9",
   "metadata": {},
   "source": [
    "## 1.2 변수 할당\n",
    "- 할당연산자를 이용해서 변수값을 할당하면 타입이 셋팅\n",
    "- 파이썬에서의 모든 변수는 객체"
   ]
  },
  {
   "cell_type": "code",
   "execution_count": 2,
   "id": "398e63a6",
   "metadata": {
    "ExecuteTime": {
     "end_time": "2024-11-04T07:34:49.777193Z",
     "start_time": "2024-11-04T07:34:49.768198Z"
    }
   },
   "outputs": [
    {
     "name": "stdout",
     "output_type": "stream",
     "text": [
      "계산된 넓이는 78.5\n"
     ]
    }
   ],
   "source": [
    "r = 5\n",
    "area = 3.14 * r * r\n",
    "print('계산된 넓이는', area)"
   ]
  },
  {
   "cell_type": "code",
   "execution_count": 4,
   "id": "70abb128",
   "metadata": {
    "ExecuteTime": {
     "end_time": "2024-11-04T07:38:16.997716Z",
     "start_time": "2024-11-04T07:38:16.805779Z"
    }
   },
   "outputs": [],
   "source": [
    "import numpy as np # numpy라는 패키지(폴더)를 np라는 이름으로 사용"
   ]
  },
  {
   "cell_type": "code",
   "execution_count": 7,
   "id": "32b87ec8",
   "metadata": {
    "ExecuteTime": {
     "end_time": "2024-11-04T07:38:42.475421Z",
     "start_time": "2024-11-04T07:38:42.469422Z"
    }
   },
   "outputs": [
    {
     "data": {
      "text/plain": [
       "78.53981633974483"
      ]
     },
     "execution_count": 7,
     "metadata": {},
     "output_type": "execute_result"
    }
   ],
   "source": [
    "area = np.pi * r * r\n",
    "area"
   ]
  },
  {
   "cell_type": "code",
   "execution_count": 9,
   "id": "44651dd4",
   "metadata": {
    "ExecuteTime": {
     "end_time": "2024-11-04T07:43:17.961713Z",
     "start_time": "2024-11-04T07:43:17.956715Z"
    }
   },
   "outputs": [
    {
     "name": "stdout",
     "output_type": "stream",
     "text": [
      "area의 주소 :  2197793717200\n",
      "area의 타입 :  <class 'float'>\n"
     ]
    }
   ],
   "source": [
    "print('area의 주소 : ', id(area)) # id(area) : area변수(객체)의 주소값\n",
    "print('area의 타입 : ', type(area))"
   ]
  },
  {
   "cell_type": "code",
   "execution_count": 11,
   "id": "f4071e38",
   "metadata": {
    "ExecuteTime": {
     "end_time": "2024-11-04T07:45:38.264032Z",
     "start_time": "2024-11-04T07:45:38.259030Z"
    }
   },
   "outputs": [
    {
     "name": "stdout",
     "output_type": "stream",
     "text": [
      "area의 주소 :  2197767140528\n",
      "area의 타입 :  <class 'str'>\n"
     ]
    }
   ],
   "source": [
    "area = '파이썬'\n",
    "print('area의 주소 : ', id(area)) # id(area) : area변수(객체)의 주소값\n",
    "print('area의 타입 : ', type(area))"
   ]
  },
  {
   "cell_type": "markdown",
   "id": "81703ea2",
   "metadata": {},
   "source": [
    "## 1.3 변수 이름 규칙\n",
    "- 문자로 시작\n",
    "- 문자(특수문자는 _ 제외하고는 안됨), 숫자, _로 변수명 작성\n",
    "- 함수명은 변수이름으로 가능하나 피한다.\n",
    "- 파이썬 예약어(if, while,..)는 변수이름 사용 불가.\n",
    "- 한글 변수는 꼭 필요시만 사용"
   ]
  },
  {
   "cell_type": "code",
   "execution_count": 12,
   "id": "186cb6a1",
   "metadata": {
    "ExecuteTime": {
     "end_time": "2024-11-04T07:49:47.697803Z",
     "start_time": "2024-11-04T07:49:47.691804Z"
    }
   },
   "outputs": [
    {
     "data": {
      "text/plain": [
       "'홍길동'"
      ]
     },
     "execution_count": 12,
     "metadata": {},
     "output_type": "execute_result"
    }
   ],
   "source": [
    "이름 = \"홍길동\"\n",
    "이름"
   ]
  },
  {
   "cell_type": "code",
   "execution_count": 13,
   "id": "38e1c944",
   "metadata": {
    "ExecuteTime": {
     "end_time": "2024-11-04T07:49:53.366956Z",
     "start_time": "2024-11-04T07:49:53.360958Z"
    }
   },
   "outputs": [
    {
     "name": "stdout",
     "output_type": "stream",
     "text": [
      "홍길동\n"
     ]
    }
   ],
   "source": [
    "print(이름)"
   ]
  },
  {
   "cell_type": "code",
   "execution_count": 16,
   "id": "4035d9cb",
   "metadata": {
    "ExecuteTime": {
     "end_time": "2024-11-04T07:52:05.726856Z",
     "start_time": "2024-11-04T07:52:05.719858Z"
    },
    "collapsed": true
   },
   "outputs": [
    {
     "ename": "SyntaxError",
     "evalue": "invalid syntax (2630263448.py, line 1)",
     "output_type": "error",
     "traceback": [
      "\u001b[1;36m  Cell \u001b[1;32mIn[16], line 1\u001b[1;36m\u001b[0m\n\u001b[1;33m    if = 5\u001b[0m\n\u001b[1;37m       ^\u001b[0m\n\u001b[1;31mSyntaxError\u001b[0m\u001b[1;31m:\u001b[0m invalid syntax\n"
     ]
    }
   ],
   "source": [
    "if = 5"
   ]
  },
  {
   "cell_type": "code",
   "execution_count": 15,
   "id": "b42c3631",
   "metadata": {
    "ExecuteTime": {
     "end_time": "2024-11-04T07:51:44.306830Z",
     "start_time": "2024-11-04T07:51:44.283839Z"
    },
    "collapsed": true
   },
   "outputs": [
    {
     "ename": "NameError",
     "evalue": "name 'member' is not defined",
     "output_type": "error",
     "traceback": [
      "\u001b[1;31m---------------------------------------------------------------------------\u001b[0m",
      "\u001b[1;31mNameError\u001b[0m                                 Traceback (most recent call last)",
      "Cell \u001b[1;32mIn[15], line 1\u001b[0m\n\u001b[1;32m----> 1\u001b[0m \u001b[43mmember\u001b[49m\u001b[38;5;241m.\u001b[39mname \u001b[38;5;241m=\u001b[39m \u001b[38;5;241m5\u001b[39m\n",
      "\u001b[1;31mNameError\u001b[0m: name 'member' is not defined"
     ]
    }
   ],
   "source": [
    "member.name = 5 # 변수에 .은 사용불가(R에서는 .을 변수명에 사용 가능)"
   ]
  },
  {
   "cell_type": "code",
   "execution_count": 21,
   "id": "db229f0a",
   "metadata": {
    "ExecuteTime": {
     "end_time": "2024-11-04T07:55:12.892410Z",
     "start_time": "2024-11-04T07:55:12.888415Z"
    }
   },
   "outputs": [],
   "source": [
    "member_name = 5\n",
    "memberName = 5"
   ]
  },
  {
   "cell_type": "code",
   "execution_count": 18,
   "id": "8a2231a8",
   "metadata": {
    "ExecuteTime": {
     "end_time": "2024-11-04T07:54:02.052477Z",
     "start_time": "2024-11-04T07:54:02.048479Z"
    }
   },
   "outputs": [],
   "source": [
    "print = 5"
   ]
  },
  {
   "cell_type": "code",
   "execution_count": 19,
   "id": "a676ca85",
   "metadata": {
    "ExecuteTime": {
     "end_time": "2024-11-04T07:54:08.511376Z",
     "start_time": "2024-11-04T07:54:08.488384Z"
    }
   },
   "outputs": [
    {
     "ename": "TypeError",
     "evalue": "'int' object is not callable",
     "output_type": "error",
     "traceback": [
      "\u001b[1;31m---------------------------------------------------------------------------\u001b[0m",
      "\u001b[1;31mTypeError\u001b[0m                                 Traceback (most recent call last)",
      "Cell \u001b[1;32mIn[19], line 1\u001b[0m\n\u001b[1;32m----> 1\u001b[0m \u001b[38;5;28;43mprint\u001b[39;49m\u001b[43m(\u001b[49m\u001b[43m이름\u001b[49m\u001b[43m)\u001b[49m\n",
      "\u001b[1;31mTypeError\u001b[0m: 'int' object is not callable"
     ]
    }
   ],
   "source": [
    "print(이름)"
   ]
  },
  {
   "cell_type": "code",
   "execution_count": 20,
   "id": "85879729",
   "metadata": {
    "ExecuteTime": {
     "end_time": "2024-11-04T07:54:10.637681Z",
     "start_time": "2024-11-04T07:54:10.631686Z"
    }
   },
   "outputs": [
    {
     "name": "stdout",
     "output_type": "stream",
     "text": [
      "홍길동\n"
     ]
    }
   ],
   "source": [
    "del print # print 변수 삭제\n",
    "print_ = 5\n",
    "print(이름)"
   ]
  },
  {
   "cell_type": "code",
   "execution_count": 23,
   "id": "acfff5b1",
   "metadata": {
    "ExecuteTime": {
     "end_time": "2024-11-04T07:57:15.644440Z",
     "start_time": "2024-11-04T07:57:15.639440Z"
    }
   },
   "outputs": [
    {
     "data": {
      "text/plain": [
       "complex"
      ]
     },
     "execution_count": 23,
     "metadata": {},
     "output_type": "execute_result"
    }
   ],
   "source": [
    "# 숫자 : 정수, 실수, 복소수\n",
    "i = 3 + 3j # 복소수\n",
    "type(i)"
   ]
  },
  {
   "cell_type": "code",
   "execution_count": 24,
   "id": "cdf1d4fb",
   "metadata": {
    "ExecuteTime": {
     "end_time": "2024-11-04T07:58:58.389983Z",
     "start_time": "2024-11-04T07:58:58.382986Z"
    }
   },
   "outputs": [
    {
     "data": {
      "text/plain": [
       "True"
      ]
     },
     "execution_count": 24,
     "metadata": {},
     "output_type": "execute_result"
    }
   ],
   "source": [
    "isinstance(i, complex)"
   ]
  },
  {
   "cell_type": "markdown",
   "id": "d21147db",
   "metadata": {},
   "source": [
    "## 1.4 도움말"
   ]
  },
  {
   "cell_type": "code",
   "execution_count": 25,
   "id": "e3456702",
   "metadata": {
    "ExecuteTime": {
     "end_time": "2024-11-04T07:59:10.691976Z",
     "start_time": "2024-11-04T07:59:10.686976Z"
    }
   },
   "outputs": [
    {
     "name": "stdout",
     "output_type": "stream",
     "text": [
      "Help on built-in function print in module builtins:\n",
      "\n",
      "print(...)\n",
      "    print(value, ..., sep=' ', end='\\n', file=sys.stdout, flush=False)\n",
      "    \n",
      "    Prints the values to a stream, or to sys.stdout by default.\n",
      "    Optional keyword arguments:\n",
      "    file:  a file-like object (stream); defaults to the current sys.stdout.\n",
      "    sep:   string inserted between values, default a space.\n",
      "    end:   string appended after the last value, default a newline.\n",
      "    flush: whether to forcibly flush the stream.\n",
      "\n"
     ]
    }
   ],
   "source": [
    "help(print)"
   ]
  },
  {
   "cell_type": "code",
   "execution_count": 26,
   "id": "139adb19",
   "metadata": {
    "ExecuteTime": {
     "end_time": "2024-11-04T08:00:31.062804Z",
     "start_time": "2024-11-04T07:59:25.591123Z"
    }
   },
   "outputs": [
    {
     "name": "stdout",
     "output_type": "stream",
     "text": [
      "\n",
      "Welcome to Python 3.10's help utility!\n",
      "\n",
      "If this is your first time using Python, you should definitely check out\n",
      "the tutorial on the internet at https://docs.python.org/3.10/tutorial/.\n",
      "\n",
      "Enter the name of any module, keyword, or topic to get help on writing\n",
      "Python programs and using Python modules.  To quit this help utility and\n",
      "return to the interpreter, just type \"quit\".\n",
      "\n",
      "To get a list of available modules, keywords, symbols, or topics, type\n",
      "\"modules\", \"keywords\", \"symbols\", or \"topics\".  Each module also comes\n",
      "with a one-line summary of what it does; to list the modules whose name\n",
      "or summary contain a given string such as \"spam\", type \"modules spam\".\n",
      "\n",
      "help> print\n",
      "Help on built-in function print in module builtins:\n",
      "\n",
      "print(...)\n",
      "    print(value, ..., sep=' ', end='\\n', file=sys.stdout, flush=False)\n",
      "    \n",
      "    Prints the values to a stream, or to sys.stdout by default.\n",
      "    Optional keyword arguments:\n",
      "    file:  a file-like object (stream); defaults to the current sys.stdout.\n",
      "    sep:   string inserted between values, default a space.\n",
      "    end:   string appended after the last value, default a newline.\n",
      "    flush: whether to forcibly flush the stream.\n",
      "\n",
      "help> \n",
      "\n",
      "You are now leaving help and returning to the Python interpreter.\n",
      "If you want to ask for help on a particular object directly from the\n",
      "interpreter, you can type \"help(object)\".  Executing \"help('string')\"\n",
      "has the same effect as typing a particular string at the help> prompt.\n"
     ]
    }
   ],
   "source": [
    "help()"
   ]
  },
  {
   "cell_type": "code",
   "execution_count": 27,
   "id": "9fab2ec6",
   "metadata": {
    "ExecuteTime": {
     "end_time": "2024-11-04T08:10:56.169251Z",
     "start_time": "2024-11-04T08:10:56.164251Z"
    }
   },
   "outputs": [
    {
     "name": "stdout",
     "output_type": "stream",
     "text": [
      "\n"
     ]
    }
   ],
   "source": [
    "# 도움말 기능 : shift+tab 키\n",
    "print()"
   ]
  },
  {
   "cell_type": "code",
   "execution_count": 30,
   "id": "7ba93a3a",
   "metadata": {
    "ExecuteTime": {
     "end_time": "2024-11-04T08:14:22.838960Z",
     "start_time": "2024-11-04T08:14:22.833959Z"
    }
   },
   "outputs": [],
   "source": [
    "def add(x, y=0):\n",
    "    '''\n",
    "    매개변수 2개를 받아 두 자리 숫자로 만들어요\n",
    "    x = 10의 자리수가 됨\n",
    "    y = 1의 자리수가 됨(default값 0)\n",
    "    사용법 : add(2,3) => 23\n",
    "    '''\n",
    "    return x * 10 + y"
   ]
  },
  {
   "cell_type": "code",
   "execution_count": 31,
   "id": "e7b06c97",
   "metadata": {
    "ExecuteTime": {
     "end_time": "2024-11-04T08:14:59.792925Z",
     "start_time": "2024-11-04T08:14:59.785928Z"
    }
   },
   "outputs": [
    {
     "data": {
      "text/plain": [
       "54"
      ]
     },
     "execution_count": 31,
     "metadata": {},
     "output_type": "execute_result"
    }
   ],
   "source": [
    "add(5,4)"
   ]
  },
  {
   "cell_type": "code",
   "execution_count": 33,
   "id": "f74a6708",
   "metadata": {
    "ExecuteTime": {
     "end_time": "2024-11-04T08:15:24.158990Z",
     "start_time": "2024-11-04T08:15:24.153993Z"
    }
   },
   "outputs": [
    {
     "data": {
      "text/plain": [
       "50"
      ]
     },
     "execution_count": 33,
     "metadata": {},
     "output_type": "execute_result"
    }
   ],
   "source": [
    "add(5)"
   ]
  },
  {
   "cell_type": "code",
   "execution_count": 34,
   "id": "4d36e1f8",
   "metadata": {
    "ExecuteTime": {
     "end_time": "2024-11-04T08:16:08.280624Z",
     "start_time": "2024-11-04T08:16:08.275624Z"
    }
   },
   "outputs": [],
   "source": [
    "a = add # 함수형언어는 변수에 함수 할당 가능"
   ]
  },
  {
   "cell_type": "code",
   "execution_count": 37,
   "id": "8f1bb869",
   "metadata": {
    "ExecuteTime": {
     "end_time": "2024-11-04T08:17:01.079432Z",
     "start_time": "2024-11-04T08:17:01.073432Z"
    }
   },
   "outputs": [
    {
     "data": {
      "text/plain": [
       "54"
      ]
     },
     "execution_count": 37,
     "metadata": {},
     "output_type": "execute_result"
    }
   ],
   "source": [
    "a(5,4)"
   ]
  },
  {
   "cell_type": "code",
   "execution_count": 38,
   "id": "656ed1dd",
   "metadata": {
    "ExecuteTime": {
     "end_time": "2024-11-04T08:17:04.279388Z",
     "start_time": "2024-11-04T08:17:04.273390Z"
    }
   },
   "outputs": [
    {
     "data": {
      "text/plain": [
       "50"
      ]
     },
     "execution_count": 38,
     "metadata": {},
     "output_type": "execute_result"
    }
   ],
   "source": [
    "a(5)"
   ]
  },
  {
   "cell_type": "markdown",
   "id": "1043123b",
   "metadata": {},
   "source": [
    "## 1.5 다중 변수 선언"
   ]
  },
  {
   "cell_type": "code",
   "execution_count": 39,
   "id": "83e2463d",
   "metadata": {
    "ExecuteTime": {
     "end_time": "2024-11-04T08:18:14.741445Z",
     "start_time": "2024-11-04T08:18:14.736446Z"
    }
   },
   "outputs": [],
   "source": [
    "a = 10\n",
    "b = 20"
   ]
  },
  {
   "cell_type": "code",
   "execution_count": 40,
   "id": "fc63d256",
   "metadata": {
    "ExecuteTime": {
     "end_time": "2024-11-04T08:19:01.896087Z",
     "start_time": "2024-11-04T08:19:01.891090Z"
    }
   },
   "outputs": [],
   "source": [
    "a, b = 10, 20 # 동시에 다중 변수 선언"
   ]
  },
  {
   "cell_type": "code",
   "execution_count": 41,
   "id": "c87ee7fb",
   "metadata": {
    "ExecuteTime": {
     "end_time": "2024-11-04T08:19:05.575892Z",
     "start_time": "2024-11-04T08:19:05.568892Z"
    }
   },
   "outputs": [
    {
     "data": {
      "text/plain": [
       "(10, 20)"
      ]
     },
     "execution_count": 41,
     "metadata": {},
     "output_type": "execute_result"
    }
   ],
   "source": [
    "a, b"
   ]
  },
  {
   "cell_type": "code",
   "execution_count": 44,
   "id": "3ba38233",
   "metadata": {
    "ExecuteTime": {
     "end_time": "2024-11-04T08:22:46.015108Z",
     "start_time": "2024-11-04T08:22:46.010109Z"
    }
   },
   "outputs": [],
   "source": [
    "a, b = b, a+b # 다중 변수 할당 시 순차적 할당이 아니고 일괄 동시 할당"
   ]
  },
  {
   "cell_type": "code",
   "execution_count": 45,
   "id": "19ed30f7",
   "metadata": {
    "ExecuteTime": {
     "end_time": "2024-11-04T08:22:51.045470Z",
     "start_time": "2024-11-04T08:22:51.040472Z"
    }
   },
   "outputs": [
    {
     "data": {
      "text/plain": [
       "(20, 30)"
      ]
     },
     "execution_count": 45,
     "metadata": {},
     "output_type": "execute_result"
    }
   ],
   "source": [
    "a, b"
   ]
  },
  {
   "cell_type": "markdown",
   "id": "73fe4c77",
   "metadata": {},
   "source": [
    "# 2절. 화면 i/o"
   ]
  },
  {
   "cell_type": "code",
   "execution_count": 43,
   "id": "e5c8c143",
   "metadata": {
    "ExecuteTime": {
     "end_time": "2024-11-04T08:22:12.923883Z",
     "start_time": "2024-11-04T08:22:09.639952Z"
    }
   },
   "outputs": [
    {
     "name": "stdout",
     "output_type": "stream",
     "text": [
      "10\n"
     ]
    },
    {
     "data": {
      "text/plain": [
       "'10'"
      ]
     },
     "execution_count": 43,
     "metadata": {},
     "output_type": "execute_result"
    }
   ],
   "source": [
    "# input() : 사용자로부터 값을 입력받기 위한 함수. 입력값은 문자열\n",
    "first = input()\n",
    "first"
   ]
  },
  {
   "cell_type": "code",
   "execution_count": 47,
   "id": "c57245af",
   "metadata": {
    "ExecuteTime": {
     "end_time": "2024-11-04T08:24:23.463375Z",
     "start_time": "2024-11-04T08:23:38.791925Z"
    }
   },
   "outputs": [
    {
     "name": "stdout",
     "output_type": "stream",
     "text": [
      "첫번째 숫자는?10\n",
      "두번째 숫자는?50\n"
     ]
    }
   ],
   "source": [
    "first = input('첫번째 숫자는?')\n",
    "second = input('두번째 숫자는?')"
   ]
  },
  {
   "cell_type": "code",
   "execution_count": 48,
   "id": "a0f77100",
   "metadata": {
    "ExecuteTime": {
     "end_time": "2024-11-04T08:24:35.091590Z",
     "start_time": "2024-11-04T08:24:35.086591Z"
    }
   },
   "outputs": [
    {
     "name": "stdout",
     "output_type": "stream",
     "text": [
      "두수의 합은 1050\n"
     ]
    }
   ],
   "source": [
    "print('두수의 합은', first+second)"
   ]
  },
  {
   "cell_type": "code",
   "execution_count": 49,
   "id": "6117df62",
   "metadata": {
    "ExecuteTime": {
     "end_time": "2024-11-04T08:28:35.523297Z",
     "start_time": "2024-11-04T08:28:35.518298Z"
    }
   },
   "outputs": [],
   "source": [
    "sum = int(first) + int(second)"
   ]
  },
  {
   "cell_type": "code",
   "execution_count": 50,
   "id": "5346262a",
   "metadata": {
    "ExecuteTime": {
     "end_time": "2024-11-04T08:28:42.555007Z",
     "start_time": "2024-11-04T08:28:42.550009Z"
    }
   },
   "outputs": [
    {
     "name": "stdout",
     "output_type": "stream",
     "text": [
      "합 60\n"
     ]
    }
   ],
   "source": [
    "print('합',sum)"
   ]
  },
  {
   "cell_type": "code",
   "execution_count": 54,
   "id": "bb0e1a85",
   "metadata": {
    "ExecuteTime": {
     "end_time": "2024-11-04T08:31:21.826144Z",
     "start_time": "2024-11-04T08:31:21.821145Z"
    }
   },
   "outputs": [
    {
     "name": "stdout",
     "output_type": "stream",
     "text": [
      "합 / 60 / Hello / World \t\tHello ~ Python\n"
     ]
    }
   ],
   "source": [
    "print('합', sum, 'Hello','World',sep=' / ', end=' \\t\\t')\n",
    "print('Hello','Python',sep=' ~ ')"
   ]
  },
  {
   "cell_type": "code",
   "execution_count": 56,
   "id": "12abc6da",
   "metadata": {
    "ExecuteTime": {
     "end_time": "2024-11-04T08:34:32.824950Z",
     "start_time": "2024-11-04T08:34:32.819964Z"
    }
   },
   "outputs": [
    {
     "name": "stdout",
     "output_type": "stream",
     "text": [
      "hello world Hello python\n"
     ]
    }
   ],
   "source": [
    "import sys\n",
    "print('hello', 'world', 'Hello', 'python', file=sys.stdout)"
   ]
  },
  {
   "cell_type": "markdown",
   "id": "69368b4b",
   "metadata": {},
   "source": [
    "# 3절. 기본 자료형\n",
    "- 프로그래밍 언어들은 변수가 가져야 할 값의 형식, 범위에 따라 값의 유형을 정해 놓고 사용.\n",
    "- 자료형에 따라 값의 크기와 저장방식이 달라짐.\n",
    "- 자료형에 따라 수행할 수 있는 명령어들이 달라짐\n",
    "\n",
    "    * `숫자` - int, float, complex\n",
    "    * `문자` - str\n",
    "    * `논리` = bool"
   ]
  },
  {
   "cell_type": "markdown",
   "id": "24702341",
   "metadata": {},
   "source": [
    "## 3.1 숫자형"
   ]
  },
  {
   "cell_type": "code",
   "execution_count": 58,
   "id": "b128f50a",
   "metadata": {
    "ExecuteTime": {
     "end_time": "2024-11-04T08:43:24.478825Z",
     "start_time": "2024-11-04T08:43:24.472827Z"
    }
   },
   "outputs": [
    {
     "name": "stdout",
     "output_type": "stream",
     "text": [
      "9223372036854775807\n"
     ]
    }
   ],
   "source": [
    "import sys\n",
    "print(sys.maxsize) # 정수의 최대값 : 2^63-1"
   ]
  },
  {
   "cell_type": "code",
   "execution_count": 59,
   "id": "36238dab",
   "metadata": {
    "ExecuteTime": {
     "end_time": "2024-11-04T08:44:57.686475Z",
     "start_time": "2024-11-04T08:44:57.680476Z"
    }
   },
   "outputs": [
    {
     "name": "stdout",
     "output_type": "stream",
     "text": [
      "i값: 9223372036854775808\n",
      "<class 'int'>\n"
     ]
    }
   ],
   "source": [
    "i = sys.maxsize + 1\n",
    "print('i값:', i)\n",
    "print(type(i))"
   ]
  },
  {
   "cell_type": "code",
   "execution_count": 60,
   "id": "89649f8f",
   "metadata": {
    "ExecuteTime": {
     "end_time": "2024-11-04T08:46:29.302642Z",
     "start_time": "2024-11-04T08:46:29.296642Z"
    }
   },
   "outputs": [
    {
     "data": {
      "text/plain": [
       "1.5"
      ]
     },
     "execution_count": 60,
     "metadata": {},
     "output_type": "execute_result"
    }
   ],
   "source": [
    "f = 3/2 # 정수/정수는 무조건 실수\n",
    "f"
   ]
  },
  {
   "cell_type": "code",
   "execution_count": 62,
   "id": "e273d396",
   "metadata": {
    "ExecuteTime": {
     "end_time": "2024-11-04T08:46:45.669318Z",
     "start_time": "2024-11-04T08:46:45.663314Z"
    }
   },
   "outputs": [
    {
     "data": {
      "text/plain": [
       "1.0"
      ]
     },
     "execution_count": 62,
     "metadata": {},
     "output_type": "execute_result"
    }
   ],
   "source": [
    "f = 3/3\n",
    "f"
   ]
  },
  {
   "cell_type": "code",
   "execution_count": 67,
   "id": "2c27bb97",
   "metadata": {
    "ExecuteTime": {
     "end_time": "2024-11-04T08:48:46.293033Z",
     "start_time": "2024-11-04T08:48:46.287035Z"
    }
   },
   "outputs": [
    {
     "name": "stdout",
     "output_type": "stream",
     "text": [
      "1\n",
      "1\n"
     ]
    }
   ],
   "source": [
    "# 자바처럼 정수/정수의 결과 정수로\n",
    "f = int(3/2) # int() : int로 형변환\n",
    "print(f)\n",
    "f = 3//2 # 몫연산자\n",
    "print(f)"
   ]
  },
  {
   "cell_type": "code",
   "execution_count": 70,
   "id": "a67e9fb6",
   "metadata": {
    "ExecuteTime": {
     "end_time": "2024-11-04T08:49:39.075845Z",
     "start_time": "2024-11-04T08:49:39.070847Z"
    }
   },
   "outputs": [
    {
     "name": "stdout",
     "output_type": "stream",
     "text": [
      "(-1+0j)\n"
     ]
    }
   ],
   "source": [
    "c = 1j # 수학시간 1i\n",
    "print(c**2) # c의 제곱"
   ]
  },
  {
   "cell_type": "code",
   "execution_count": 76,
   "id": "9e1e0612",
   "metadata": {
    "ExecuteTime": {
     "end_time": "2024-11-04T08:52:25.612615Z",
     "start_time": "2024-11-04T08:52:25.606617Z"
    }
   },
   "outputs": [
    {
     "name": "stdout",
     "output_type": "stream",
     "text": [
      "지수형은 실수형으로 저장 : 1120000000000.0\n",
      "지수형표현으로 할당시 실수형으로 저장 : 1.12e-12\n"
     ]
    }
   ],
   "source": [
    "f = 1.12e12 # 1.12*10의 12승(1120000000000)\n",
    "print('지수형표현으로 할당시 실수형으로 저장 :', f)\n",
    "f = 1.12e-12 # 1.12*10의 -12\n",
    "print('지수형표현으로 할당시 실수형으로 저장 :', f)"
   ]
  },
  {
   "cell_type": "markdown",
   "id": "5edc95b2",
   "metadata": {},
   "source": [
    "## 3.2 문자형"
   ]
  },
  {
   "cell_type": "code",
   "execution_count": 78,
   "id": "0fff4b09",
   "metadata": {
    "ExecuteTime": {
     "end_time": "2024-11-04T08:54:51.082247Z",
     "start_time": "2024-11-04T08:54:51.077248Z"
    }
   },
   "outputs": [
    {
     "name": "stdout",
     "output_type": "stream",
     "text": [
      "홍길동'짱' 서울시 관악구 '신림'동\n"
     ]
    }
   ],
   "source": [
    "name = '홍길동\\'짱\\'' # 홍길동'짱'\n",
    "address = \"서울시 관악구 '신림'동\"\n",
    "print(name, address)"
   ]
  }
 ],
 "metadata": {
  "kernelspec": {
   "display_name": "Python 3 (ipykernel)",
   "language": "python",
   "name": "python3"
  },
  "language_info": {
   "codemirror_mode": {
    "name": "ipython",
    "version": 3
   },
   "file_extension": ".py",
   "mimetype": "text/x-python",
   "name": "python",
   "nbconvert_exporter": "python",
   "pygments_lexer": "ipython3",
   "version": "3.10.9"
  },
  "toc": {
   "base_numbering": 1,
   "nav_menu": {},
   "number_sections": true,
   "sideBar": true,
   "skip_h1_title": false,
   "title_cell": "Table of Contents",
   "title_sidebar": "Contents",
   "toc_cell": false,
   "toc_position": {
    "height": "calc(100% - 180px)",
    "left": "10px",
    "top": "150px",
    "width": "252px"
   },
   "toc_section_display": true,
   "toc_window_display": true
  }
 },
 "nbformat": 4,
 "nbformat_minor": 5
}
