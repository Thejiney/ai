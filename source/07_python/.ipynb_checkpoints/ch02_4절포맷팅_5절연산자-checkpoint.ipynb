{
 "cells": [
  {
   "cell_type": "code",
   "execution_count": 95,
   "id": "81bfdab5",
   "metadata": {},
   "outputs": [
    {
     "data": {
      "text/html": [
       "\n",
       "<style>\n",
       "div.container{width:80% !important;}\n",
       "div.CodeMirror {font-family:Consolas; font-size:16pt;}\n",
       "div.output {font-size:16pt; font-weight:bold;}\n",
       "div.input {font-family:Consolas; font-size:16pt;}\n",
       "div.prompt {min-width:70px;}\n",
       "div#toc-header{margin-top:150px;}\n",
       "</style>\n",
       "<style>\n",
       "span.toc-item-num{\n",
       "display:none;\n",
       "}\n",
       "</style>\n"
      ],
      "text/plain": [
       "<IPython.core.display.HTML object>"
      ]
     },
     "metadata": {},
     "output_type": "display_data"
    }
   ],
   "source": [
    "from IPython.display import display, HTML\n",
    "display(HTML(\"\"\"\n",
    "<style>\n",
    "div.container{width:80% !important;}\n",
    "div.CodeMirror {font-family:Consolas; font-size:16pt;}\n",
    "div.output {font-size:16pt; font-weight:bold;}\n",
    "div.input {font-family:Consolas; font-size:16pt;}\n",
    "div.prompt {min-width:70px;}\n",
    "div#toc-header{margin-top:150px;}\n",
    "</style>\n",
    "<style>\n",
    "span.toc-item-num{\n",
    "display:none;\n",
    "}\n",
    "</style>\n",
    "\"\"\"))"
   ]
  },
  {
   "cell_type": "markdown",
   "id": "bec1fb7b",
   "metadata": {},
   "source": [
    "<b><font size=\"6\" color=\"red\">ch02. 자료형과 연산자</font></b>"
   ]
  },
  {
   "cell_type": "markdown",
   "id": "d6ecbb1c",
   "metadata": {},
   "source": [
    "# 4절. 포맷팅\n",
    "    - 포맷팅이란, 출력할 문자, 숫자, 날짜 데이터에 형식을 지정하는 것\n",
    "    - 변수와 텍스트를 결합해서 보기 좋은 형식의 새로운 텍스트를 만들 수도 있음"
   ]
  },
  {
   "cell_type": "markdown",
   "id": "147b15b7",
   "metadata": {},
   "source": [
    "## 4.1 문자열에 형식 지정"
   ]
  },
  {
   "cell_type": "code",
   "execution_count": 4,
   "id": "da611896",
   "metadata": {},
   "outputs": [
    {
     "name": "stdout",
     "output_type": "stream",
     "text": [
      "홍길동님의 나이는 30살입니다\n"
     ]
    }
   ],
   "source": [
    "name = \"홍길동\"\n",
    "age = 30\n",
    "print(name, '님의 나이는 ', age, '살입니다', sep='')"
   ]
  },
  {
   "cell_type": "code",
   "execution_count": 8,
   "id": "1e59df11",
   "metadata": {},
   "outputs": [
    {
     "name": "stdout",
     "output_type": "stream",
     "text": [
      "홍길동님의 나이는 30살입니다\n",
      "홍길동님의 나이는 30살입니다\n"
     ]
    }
   ],
   "source": [
    "# %s문자, %d10진수정수, %f실수\n",
    "print(\"%s님의 나이는 %d살입니다\"%(name, age))\n",
    "print(f\"{name}님의 나이는 {age}살입니다\")"
   ]
  },
  {
   "cell_type": "code",
   "execution_count": 10,
   "id": "b5e03a49",
   "metadata": {},
   "outputs": [
    {
     "name": "stdout",
     "output_type": "stream",
     "text": [
      "홍길동님의 나이는 30살입니다\n",
      "홍길동님의 나이는 30살입니다\n",
      "30살 홍길동님 반갑습니다. 홍길동님 편히 가세요\n"
     ]
    }
   ],
   "source": [
    "print(\"{}님의 나이는 {}살입니다\".format(name, age))\n",
    "print(\"{0}님의 나이는 {1}살입니다\".format(name, age))\n",
    "print(\"{0}살 {1}님 반갑습니다. {1}님 편히 가세요\".format(age,name))"
   ]
  },
  {
   "cell_type": "markdown",
   "id": "ec8bfa20",
   "metadata": {},
   "source": [
    "## 4.2 format() 문법"
   ]
  },
  {
   "cell_type": "code",
   "execution_count": 11,
   "id": "533e81f3",
   "metadata": {},
   "outputs": [],
   "source": [
    "# \"{[인덱스]:[공백대체문자][정렬방법][자릿수][타입]}.format(변수명)\"\n",
    "\n",
    "    # 인덱스 : format 함수안의 매개변수의 순서\n",
    "    # 정렬방법 : <-왼쪽정렬, >-오른쪽정렬, ^-가운데정렬\n",
    "    # 자릿수 : 출력할 자릿수. 변수내용보다 작은 자릿수가 지정되면 자릿수 지정 무시\n",
    "    # 실수자릿수 : 전체자리수.출력할자리수\n",
    "    # 타입 : d(10진수정수), o(8진수), b(2진수), x(16진수), f(실수), s(문자)"
   ]
  },
  {
   "cell_type": "code",
   "execution_count": 15,
   "id": "9ac5a644",
   "metadata": {},
   "outputs": [
    {
     "name": "stdout",
     "output_type": "stream",
     "text": [
      "이름은?홍길동\n",
      "나이는?30\n",
      "30살 홍길동님 안녕하세요\n",
      "*30**살 홍길동_______님 안녕하세요\n"
     ]
    }
   ],
   "source": [
    "name = input('이름은?')\n",
    "age = int(input('나이는?'))\n",
    "print('{}살 {}님 안녕하세요'.format(age, name))\n",
    "# 공백대체문자를 쓸 경우 정렬방식을 기입\n",
    "print('{0:*^5d}살 {1:_<10}님 안녕하세요'.format(age, name))"
   ]
  },
  {
   "cell_type": "code",
   "execution_count": 21,
   "id": "fc4188c4",
   "metadata": {},
   "outputs": [
    {
     "name": "stdout",
     "output_type": "stream",
     "text": [
      "[12345], [     12345], [12345]\n",
      "[Hello], [Hello     ], [Hello]\n"
     ]
    }
   ],
   "source": [
    "# 숫자의 경우 오른쪽 정렬(기본값)\n",
    "# 문자의 경우 왼쪽 정렬(기본값)\n",
    "# 변수보다 작은 자리수를 지정하면 자릿수가 무시되고 다 출력\n",
    "a = 12345\n",
    "s = 'Hello'\n",
    "print(\"[{}], [{:10}], [{:3}]\".format(a, a, a))\n",
    "print(\"[{0}], [{0:10}], [{0:3}]\".format(s))"
   ]
  },
  {
   "cell_type": "code",
   "execution_count": 27,
   "id": "d1917a3b",
   "metadata": {},
   "outputs": [
    {
     "name": "stdout",
     "output_type": "stream",
     "text": [
      "[10  ], [ 20 ], [ 3  ]\n"
     ]
    }
   ],
   "source": [
    "# 정렬방법 : < ^ >\n",
    "a, b, c = 10, 20, 3\n",
    "print(\"[{:<4}], [{:^4}], [{:^4}]\".format(a,b,c))"
   ]
  },
  {
   "cell_type": "code",
   "execution_count": 33,
   "id": "66bfb60b",
   "metadata": {},
   "outputs": [
    {
     "name": "stdout",
     "output_type": "stream",
     "text": [
      "[$$$$$$$$10], [     10.00], [     123.6], [________He]\n"
     ]
    }
   ],
   "source": [
    "# 실수자릿수\n",
    "a = 10\n",
    "f = 123.56\n",
    "s = 'Hello'\n",
    "print('[{0:$>10}], [{0:10.2f}], [{1:10.1f}], [{2:_>10.2}]'.format(a,f,s))\n",
    "                        # 2번 매개변수를 10자리 확보하여 변수의 2자리만 출력"
   ]
  },
  {
   "cell_type": "code",
   "execution_count": 35,
   "id": "48976027",
   "metadata": {},
   "outputs": [
    {
     "name": "stdout",
     "output_type": "stream",
     "text": [
      "[$$$$$$$$10]\n"
     ]
    }
   ],
   "source": [
    "# 공백대체문자를 쓸 경우 반드시 정렬방식을 표현\n",
    "print(\"[{:$>10}]\".format(a))\n",
    "# print(\"[{:$10}]\".format(a)) 에러남"
   ]
  },
  {
   "cell_type": "code",
   "execution_count": 37,
   "id": "8f122b15",
   "metadata": {},
   "outputs": [
    {
     "name": "stdout",
     "output_type": "stream",
     "text": [
      "[      -123], [      +123], [       123]\n",
      "[-      123], [       123], [       123]\n",
      "[-      123], [+      123], [       123]\n"
     ]
    }
   ],
   "source": [
    "# 자리수앞에 +를 붙이면 양수의 경우도 부호를 붙여줌\n",
    "# 자리수앞에 =를 붙이면 부호가 자릿수 맨앞에 표시됨(음수의 경우)\n",
    "# 자리수앞에 =+를 붙이면 부호가 자릿수 맨앞에 표시됨(양수, 음수 모두)\n",
    "# 자리수앞에 0을 채우면 빈자리에 0을 채움\n",
    "# 공백대체문자를 쓸 경우 자리수 앞의 0이 무시\n",
    "a, b = 123, -123\n",
    "print(\"[{:+10}], [{:+10}], [{:10}]\".format(b, a, a))\n",
    "print(\"[{:=10}], [{:=10}], [{:10}]\".format(b, a, a))\n",
    "print(\"[{:=+10}], [{:=+10}], [{:10}]\".format(b, a, a))\n",
    "print(\"[{:=+010}], [{:=+010}], [{:010}]\".format(b, a, a))\n",
    "print(\"[{:★=+010}], [{:☆=+010}], [{:※^10}]\".format(b, a, a))"
   ]
  },
  {
   "cell_type": "code",
   "execution_count": 42,
   "id": "380d79c1",
   "metadata": {},
   "outputs": [
    {
     "name": "stdout",
     "output_type": "stream",
     "text": [
      "a = [       2.8]\n",
      "s = [he        ]\n"
     ]
    }
   ],
   "source": [
    "# 전체자리수.표현될자리수\n",
    "a = 2.758\n",
    "s = \"hello\"\n",
    "print(\"a = [{:10.2}]\".format(a))\n",
    "print(\"s = [{:10.2}]\".format(s))"
   ]
  },
  {
   "cell_type": "code",
   "execution_count": 43,
   "id": "845ed852",
   "metadata": {},
   "outputs": [
    {
     "name": "stdout",
     "output_type": "stream",
     "text": [
      "a = [      2.76]\n"
     ]
    }
   ],
   "source": [
    "# 전체자리수.표현될자리수f\n",
    "print(\"a = [{:10.2f}]\".format(a))"
   ]
  },
  {
   "cell_type": "code",
   "execution_count": 44,
   "id": "95978689",
   "metadata": {},
   "outputs": [
    {
     "name": "stdout",
     "output_type": "stream",
     "text": [
      "10진수 : [   15]\n",
      "16진수 : [    f]\n",
      "8진수 : [   17]\n",
      "2진수 : [ 1111]\n"
     ]
    }
   ],
   "source": [
    "# 10진수, 8진수, 16진수, 2진수 출력\n",
    "a = 15\n",
    "print(\"10진수 : [{:5d}]\".format(a))\n",
    "print(\"16진수 : [{:5x}]\".format(a))\n",
    "print(\"8진수 : [{:5o}]\".format(a))\n",
    "print(\"2진수 : [{:5b}]\".format(a))"
   ]
  },
  {
   "cell_type": "code",
   "execution_count": 45,
   "id": "84515b17",
   "metadata": {},
   "outputs": [
    {
     "name": "stdout",
     "output_type": "stream",
     "text": [
      "[     +2.79]\n"
     ]
    }
   ],
   "source": [
    "a = 2.785\n",
    "print(\"[{:+10.3}]\".format(a))"
   ]
  },
  {
   "cell_type": "code",
   "execution_count": 51,
   "id": "9b0e6131",
   "metadata": {},
   "outputs": [
    {
     "name": "stdout",
     "output_type": "stream",
     "text": [
      "[    +2.785]\n",
      "[    +2.785]\n"
     ]
    }
   ],
   "source": [
    "sign = '+'\n",
    "width = 10\n",
    "precision = 4\n",
    "print(\"[{:{sign}{width}.{precision}}]\".format(a,sign=sign,width=width,precision=precision))\n",
    "print(\"[{:{}{}.{}}]\".format(a, sign, width, precision))"
   ]
  },
  {
   "cell_type": "markdown",
   "id": "578a0535",
   "metadata": {},
   "source": [
    "## 4.3 날짜출력"
   ]
  },
  {
   "cell_type": "code",
   "execution_count": 56,
   "id": "82785517",
   "metadata": {},
   "outputs": [
    {
     "data": {
      "text/plain": [
       "datetime.datetime(2024, 11, 5, 14, 42)"
      ]
     },
     "execution_count": 56,
     "metadata": {},
     "output_type": "execute_result"
    }
   ],
   "source": [
    "# foramt 이용\n",
    "# from 모듈 import 함수나변수\n",
    "# from 패키지(폴더) import 모듈(파이썬파일)\n",
    "# datetime 모듈(파이썬 파일 : datetime.py)안에 datetime이라는 함수 가져오기\n",
    "from datetime import datetime\n",
    "thatday = datetime(2024, 11, 5) # 24년 11월 5일 0시 0분 0초\n",
    "thatday = datetime(2024, 11, 5, 14, 42) # 24년 11월 5일 오후 2시 42분 0초\n",
    "thatday"
   ]
  },
  {
   "cell_type": "code",
   "execution_count": 58,
   "id": "a2844c60",
   "metadata": {},
   "outputs": [
    {
     "name": "stdout",
     "output_type": "stream",
     "text": [
      "2024년11월05일 14시 42분 00초\n",
      "2024년11월05일 PM 02시 42분 00초\n"
     ]
    }
   ],
   "source": [
    "print(\"{:%Y년%m월%d일 %H시 %M분 %S초}\".format(thatday))\n",
    "print(\"{:%Y년%m월%d일 %p %I시 %M분 %S초}\".format(thatday))"
   ]
  },
  {
   "cell_type": "code",
   "execution_count": 60,
   "id": "b3abbf4b",
   "metadata": {},
   "outputs": [
    {
     "data": {
      "text/plain": [
       "'2024년11월05일 PM 02시 50분 09초'"
      ]
     },
     "execution_count": 60,
     "metadata": {},
     "output_type": "execute_result"
    }
   ],
   "source": [
    "# 날짜를 문자열로 전환하는 함수\n",
    "from time import strftime\n",
    "thatdayStr = strftime(\"%Y년%m월%d일 %p %I시 %M분 %S초\".format(thatday))\n",
    "thatdayStr"
   ]
  },
  {
   "cell_type": "code",
   "execution_count": 63,
   "id": "d3b5ed6e",
   "metadata": {},
   "outputs": [
    {
     "data": {
      "text/plain": [
       "time.struct_time(tm_year=2024, tm_mon=11, tm_mday=5, tm_hour=14, tm_min=51, tm_sec=17, tm_wday=1, tm_yday=310, tm_isdst=0)"
      ]
     },
     "execution_count": 63,
     "metadata": {},
     "output_type": "execute_result"
    }
   ],
   "source": [
    "from time import localtime\n",
    "now = localtime() # 현재의 날짜와 시간\n",
    "now"
   ]
  },
  {
   "cell_type": "code",
   "execution_count": 65,
   "id": "554e18e6",
   "metadata": {},
   "outputs": [
    {
     "data": {
      "text/plain": [
       "'2024년11월05일 PM 02시 53분 11초'"
      ]
     },
     "execution_count": 65,
     "metadata": {},
     "output_type": "execute_result"
    }
   ],
   "source": [
    "strftime(\"%Y년%m월%d일 %p %I시 %M분 %S초\".format(now))"
   ]
  },
  {
   "cell_type": "code",
   "execution_count": 68,
   "id": "13211176",
   "metadata": {},
   "outputs": [],
   "source": [
    "# print(\"{:%Y년%m월%d일 %p %I시 %M분 %S초}\".format(now)) 에러남"
   ]
  },
  {
   "cell_type": "markdown",
   "id": "bdff79cc",
   "metadata": {},
   "source": [
    "# 5절.연산자"
   ]
  },
  {
   "cell_type": "markdown",
   "id": "32853bba",
   "metadata": {},
   "source": [
    "## 5.1 산술연산자 : +, -, *, /, //(몫연산자), %(나머지), **(제곱)"
   ]
  },
  {
   "cell_type": "code",
   "execution_count": 67,
   "id": "699b5e9f",
   "metadata": {},
   "outputs": [
    {
     "name": "stdout",
     "output_type": "stream",
     "text": [
      "100000\n"
     ]
    }
   ],
   "source": [
    "print(10**5)"
   ]
  },
  {
   "cell_type": "markdown",
   "id": "13bdd7f3",
   "metadata": {},
   "source": [
    "## 5.2 할당연산자 : =, +=, -=, *=, /=, //=, %="
   ]
  },
  {
   "cell_type": "code",
   "execution_count": 69,
   "id": "80b4cb12",
   "metadata": {},
   "outputs": [
    {
     "data": {
      "text/plain": [
       "3"
      ]
     },
     "execution_count": 69,
     "metadata": {},
     "output_type": "execute_result"
    }
   ],
   "source": [
    "a = 10\n",
    "a //= 3 # a = a//3\n",
    "a"
   ]
  },
  {
   "cell_type": "markdown",
   "id": "9a6b2b6b",
   "metadata": {},
   "source": [
    "## 5.3 논리연산자 : &, and, |, or, not"
   ]
  },
  {
   "cell_type": "code",
   "execution_count": 74,
   "id": "1c4f0d16",
   "metadata": {},
   "outputs": [
    {
     "name": "stdout",
     "output_type": "stream",
     "text": [
      "True\n",
      "0\n"
     ]
    }
   ],
   "source": [
    "print( (10>3) & (10>5) ) # 논리연산 True & True\n",
    "print( 12 & 1 ) # 비트연산 # 1100 (12)\n",
    "                         #  0001 (1)\n",
    "                    #    &  0000 (0)"
   ]
  },
  {
   "cell_type": "code",
   "execution_count": 78,
   "id": "67acd66d",
   "metadata": {},
   "outputs": [
    {
     "name": "stdout",
     "output_type": "stream",
     "text": [
      "abc\n",
      "0\n"
     ]
    }
   ],
   "source": [
    "# and : 거짓으로 판별되면, 첫번째 항의 결과 반환\n",
    "      # 참으로 판별되면 마지막항의 결과 반환\n",
    "print(True and True and 'abc')\n",
    "print(0 and False)\n",
    "print(True and None)"
   ]
  },
  {
   "cell_type": "code",
   "execution_count": 79,
   "id": "20e3aaa4",
   "metadata": {},
   "outputs": [
    {
     "name": "stdout",
     "output_type": "stream",
     "text": [
      "True\n"
     ]
    }
   ],
   "source": [
    "print ( (10>5) and (10>7) )"
   ]
  },
  {
   "cell_type": "code",
   "execution_count": 80,
   "id": "7070d978",
   "metadata": {},
   "outputs": [
    {
     "name": "stdout",
     "output_type": "stream",
     "text": [
      "논리연산(연산자 앞뒤에 논리형일때) : True\n"
     ]
    }
   ],
   "source": [
    "# | : 논리연산, 비트연산\n",
    "result = False | True\n",
    "print('논리연산(연산자 앞뒤에 논리형일때) :',result)\n",
    "result = False | 3 # 0000 | 0011\n",
    "print('비트연산(연산자 앞이나 뒤에 숫자일 때)',result)"
   ]
  },
  {
   "cell_type": "code",
   "execution_count": 81,
   "id": "d772998b",
   "metadata": {},
   "outputs": [
    {
     "name": "stdout",
     "output_type": "stream",
     "text": [
      "[]\n",
      "HONG\n"
     ]
    }
   ],
   "source": [
    "# or : 참으로 판별되는 첫번째 항의 결과 반환\n",
    "    # 모든 항이 참이면, 마지막항의 결과 반환\n",
    "print(False or 0 or '' or None or [])\n",
    "print('HONG' or 0 or False)"
   ]
  },
  {
   "cell_type": "code",
   "execution_count": 82,
   "id": "66dd075a",
   "metadata": {},
   "outputs": [
    {
     "name": "stdout",
     "output_type": "stream",
     "text": [
      "True\n",
      "False\n"
     ]
    }
   ],
   "source": [
    "print( (10>5) & (10>7) )\n",
    "print( 10>5 & 10>7)"
   ]
  },
  {
   "cell_type": "code",
   "execution_count": 90,
   "id": "face4fa8",
   "metadata": {},
   "outputs": [],
   "source": [
    "!jt -t chesterish -f consolas\\"
   ]
  },
  {
   "cell_type": "code",
   "execution_count": null,
   "id": "d370d92c",
   "metadata": {},
   "outputs": [],
   "source": []
  }
 ],
 "metadata": {
  "kernelspec": {
   "display_name": "Python 3 (ipykernel)",
   "language": "python",
   "name": "python3"
  },
  "language_info": {
   "codemirror_mode": {
    "name": "ipython",
    "version": 3
   },
   "file_extension": ".py",
   "mimetype": "text/x-python",
   "name": "python",
   "nbconvert_exporter": "python",
   "pygments_lexer": "ipython3",
   "version": "3.10.9"
  },
  "toc": {
   "base_numbering": 1,
   "nav_menu": {},
   "number_sections": true,
   "sideBar": true,
   "skip_h1_title": false,
   "title_cell": "Table of Contents",
   "title_sidebar": "Contents",
   "toc_cell": false,
   "toc_position": {
    "height": "calc(100% - 180px)",
    "left": "10px",
    "top": "150px",
    "width": "376px"
   },
   "toc_section_display": true,
   "toc_window_display": true
  }
 },
 "nbformat": 4,
 "nbformat_minor": 5
}
