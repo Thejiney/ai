{
 "cells": [
  {
   "cell_type": "markdown",
   "id": "db9f745a",
   "metadata": {},
   "source": [
    "# 6절.문자열 다루기\n",
    "- 문자열슬라이싱변수[from:to:by]\n",
    "- len(문자열변수)\n",
    "- upper() : 대문자\n",
    "- lower() : 소문자\n",
    "- title() : 각 음절의 앞글자만 대문자로 변경\n",
    "- capitalize() : 첫문자만 대문자로\n",
    "- count('찾을문자열') : '찾을문자열' 이 몇개 들어있는지 갯수 반환\n",
    "- find('찾을문자열') : '찾을문자열' 이 왼쪽부터 시작하여 몇번째에 있는지 index를 반환                                (찾을 문자열이 없으면 -1을 반환)\n",
    "- rfind('찾을문자열') : '찾을문자열' 이 맨 오른쪽부터 시작하여 몇번째에 있는지 index를 반환                           (찾을 문자열이 없으면 -1을 반환)\n",
    "- cf.index('찾을문자열') : '찾을문자열' 이 왼쪽부터 시작하여 몇번째 있는지 index를 반환                                 (찾을 문자열이 없으면 오류가 발생함)\n",
    "- startswith('특정문자열') : '특정문자열' 로 시작하는지 여부 를 반환\n",
    "- endswith('특정문자열') : '특정문자열' 로 끝나는지 여부 를 반환\n",
    "- strip() : 좌우 공백 제거(trim)\n",
    "- rstrip() : 오른쪽 공백 제거\n",
    "- lstrip() : 왼쪽 공백 제거\n",
    "- split() : 문자열을 공백이나 다른 문자 기준으로 나누어 리스트로 반환\n",
    "- isdigit() : 문자열이 숫자 문자열인지 여부 반환\n",
    "- islower() : 문자열이 소문자인지 여부 반환\n",
    "- isupper() : 문자열이 대문자인지 여부 반환\n",
    "- replace(oldStr, newStr) : oldStr을 newStr을 변경"
   ]
  },
  {
   "cell_type": "code",
   "execution_count": null,
   "id": "1ef78e95",
   "metadata": {},
   "outputs": [],
   "source": [
    "temp = \"python is easy. python is smart. python\"\n",
    "temp, len(temp)"
   ]
  },
  {
   "cell_type": "code",
   "execution_count": null,
   "id": "446919e1",
   "metadata": {},
   "outputs": [],
   "source": [
    "print('첫번째 글자는 {}이고, 마지막 글자는 {}입니다'.format(temp[0], temp[-1]))"
   ]
  },
  {
   "cell_type": "code",
   "execution_count": null,
   "id": "46f5b695",
   "metadata": {},
   "outputs": [],
   "source": [
    "tel = \"010-7894-2132\"\n",
    "print('전화번호 끝자리: ' , tel[-4:])"
   ]
  },
  {
   "cell_type": "code",
   "execution_count": null,
   "id": "818c64b1",
   "metadata": {},
   "outputs": [],
   "source": [
    "temp = \"python is easy. pyTHon is smart. python\"\n",
    "#       012345678901234567890123456789012345678\n",
    "print('대문자로 :', temp.upper())\n",
    "print('소문자로 :', temp.lower())\n",
    "print('title() :', temp.title())\n",
    "print('capitalize():', temp.capitalize())\n",
    "print('python이 몇번 나오는지 :', temp.count('python'))\n",
    "print('대소문자 구분없이 python이 몇번 나오는지 :', temp.upper().count('PYTHON'))\n",
    "print('대소문자 구분없이 python이 몇번 나오는지 :', temp.lower().count('python'))\n",
    "print('대소문자 구분없이 python이 몇번 나오는지 :', temp.title().count('Python'))\n",
    "print('python이 나오는 첫 index 위치 :', temp.find('python'))\n",
    "print('python이 나오는 마지막 index 위치 :', temp.rfind('python'))\n",
    "print('Java가 나오는 첫 index 위치 :', temp.find('Java'))\n",
    "print('python이 나오는 첫 index 위치 :', temp.index('python'))\n",
    "# print('Java가 나오는 첫 index 위치 :', temp.index('Java'))\n",
    "print('python으로 시작하는 문자열인지 :',temp.startswith('Python'))\n",
    "print('python으로 끝나는 문자열인지 :',temp.endswith('python'))\n",
    "print('python대신 R로 변경 :', temp.replace('python','R').replace('pyTHon','R'))"
   ]
  },
  {
   "cell_type": "code",
   "execution_count": null,
   "id": "f5d349c2",
   "metadata": {},
   "outputs": [],
   "source": [
    "temp = '   python is easy   '\n",
    "notdisit = '1,234'\n",
    "print('strip() : [{}]'.format(temp.strip()))\n",
    "print('lstrip() : [{}]'.format(temp.lstrip()))\n",
    "print('rstrip() : [{}]'.format(temp.rstrip()))\n",
    "print('isdigit() : {}'.format(notdisit.replace(',','').isdigit()))\n",
    "print('대문자인지 : {}'.format(temp.isupper()))\n",
    "print('소문자인지 : {}'.format(temp.islower()))"
   ]
  },
  {
   "cell_type": "code",
   "execution_count": null,
   "id": "f353563b",
   "metadata": {},
   "outputs": [],
   "source": [
    "temp = '     홍길동     김길동 신길똥 유길뚱'\n",
    "print('space 단위로 temp를 분리(list로 반환) :', temp.split())"
   ]
  },
  {
   "cell_type": "code",
   "execution_count": null,
   "id": "ae942dc9",
   "metadata": {},
   "outputs": [],
   "source": [
    "date = '2024-11-05'\n",
    "print('- 단위로 date를 분리(list로 반환)합니다')\n",
    "date_list = date.split('-')\n",
    "date_list\n",
    "print('년 :', date_list[0])\n",
    "print('월 :', date_list[1])\n",
    "print('일 :', date_list[2])"
   ]
  },
  {
   "cell_type": "code",
   "execution_count": 17,
   "id": "274027d1",
   "metadata": {},
   "outputs": [
    {
     "name": "stdout",
     "output_type": "stream",
     "text": [
      "원 temp : Java - Oracle - 웹표준 - JSP - PYTHON\n",
      "분리된 temp : ['Java', 'Oracle', '웹표준', 'JSP', 'PYTHON']\n",
      "joined_temp : Java/Oracle/웹표준/JSP/PYTHON\n"
     ]
    }
   ],
   "source": [
    "# ' - '을 '/'로 바꾸기\n",
    "temp = \"Java - Oracle - 웹표준 - JSP - PYTHON\"\n",
    "print('원 temp :',temp)\n",
    "splited_temp = temp.split(' - ')\n",
    "print('분리된 temp :',splited_temp)\n",
    "joined_temp = '/'.join(splited_temp)\n",
    "print('joined_temp :', joined_temp)"
   ]
  },
  {
   "cell_type": "code",
   "execution_count": null,
   "id": "3a197cf0",
   "metadata": {},
   "outputs": [],
   "source": [
    "str_='ABC' # ['A','B','C']\n",
    "for s in str_:\n",
    "    print(s)"
   ]
  },
  {
   "cell_type": "code",
   "execution_count": null,
   "id": "b7abd307",
   "metadata": {},
   "outputs": [],
   "source": [
    "str_list=['A','B','C']\n",
    "for s in str_list:\n",
    "    print(s)"
   ]
  },
  {
   "cell_type": "code",
   "execution_count": null,
   "id": "d204ff48",
   "metadata": {},
   "outputs": [],
   "source": [
    "# 문자열을 다룰 수 있는 함수들 목록\n",
    "dir(str)"
   ]
  },
  {
   "cell_type": "markdown",
   "id": "0f1284b7",
   "metadata": {},
   "source": [
    "# 7절. 시간, 날짜 다루기"
   ]
  },
  {
   "cell_type": "code",
   "execution_count": null,
   "id": "0c7ccd8a",
   "metadata": {},
   "outputs": [],
   "source": [
    "# datetime모듈(~.py)안의 datetime, date, time을 import\n",
    "from datetime import datetime, date, time"
   ]
  },
  {
   "cell_type": "markdown",
   "id": "1c628739",
   "metadata": {},
   "source": [
    "## 7.1 시간과 날짜"
   ]
  },
  {
   "cell_type": "code",
   "execution_count": null,
   "id": "a45420db",
   "metadata": {},
   "outputs": [],
   "source": [
    "# 특정 시점을 갖는 datetime 객체 생성\n",
    "thatday = datetime(2024, 3 ,7, 18, 0)\n",
    "thatday"
   ]
  },
  {
   "cell_type": "code",
   "execution_count": null,
   "id": "482eadb0",
   "metadata": {},
   "outputs": [],
   "source": [
    "print(thatday)\n",
    "print(thatday.strftime(\"%Y년 %m월 %d일 %p %I시 %M분\"))\n",
    "print(\"{:%y년 %m월 %d일 %H시%M분%S초}\".format(thatday))"
   ]
  },
  {
   "cell_type": "code",
   "execution_count": null,
   "id": "76a11c8e",
   "metadata": {},
   "outputs": [],
   "source": [
    "# 지금을 저장하는 datetime 객체 생성\n",
    "now = datetime.now()\n",
    "print(now.ctime()) # 사람이 읽기 쉬운 형태로\n",
    "print(now)\n",
    "print(now.strftime(\"%Y년 %m월 %d일 %p %I시 %M분\"))\n",
    "print(\"{:%y년 %m월 %d일 %H시%M분%S초}\".format(now))"
   ]
  },
  {
   "cell_type": "markdown",
   "id": "1332fc10",
   "metadata": {},
   "source": [
    "## 7.2 날짜"
   ]
  },
  {
   "cell_type": "code",
   "execution_count": null,
   "id": "5dc17fc6",
   "metadata": {},
   "outputs": [],
   "source": [
    "# 특정한 날짜를 갖는 date 객체 생성\n",
    "\n",
    "someday = date(2025, 3, 7)\n",
    "someday"
   ]
  },
  {
   "cell_type": "code",
   "execution_count": null,
   "id": "50a7ffa4",
   "metadata": {},
   "outputs": [],
   "source": [
    "print(someday)\n",
    "print(someday.strftime(\"%Y년%m월%d일 %H시%M분\"))\n",
    "print(\"{:%Y년%m월%d일 %H시%M분}\".format(someday))"
   ]
  },
  {
   "cell_type": "code",
   "execution_count": null,
   "id": "4d6a1554",
   "metadata": {},
   "outputs": [],
   "source": [
    "# 오늘을 갖는 date 객체 생성\n",
    "today = date.today()"
   ]
  },
  {
   "cell_type": "markdown",
   "id": "36d8048c",
   "metadata": {},
   "source": [
    "## 7.3 시간"
   ]
  },
  {
   "cell_type": "code",
   "execution_count": null,
   "id": "902581f3",
   "metadata": {},
   "outputs": [],
   "source": [
    "\n",
    "# 특정한 시간을 저장하는 time 객체 생성\n",
    "t = time(13, 12)\n",
    "t"
   ]
  },
  {
   "cell_type": "code",
   "execution_count": null,
   "id": "7761477b",
   "metadata": {},
   "outputs": [],
   "source": [
    "print(t)\n",
    "print(t.strftime(\"%Y년%m월%d일 %p %I시%M분S초\"))"
   ]
  },
  {
   "cell_type": "code",
   "execution_count": null,
   "id": "1eb94517",
   "metadata": {},
   "outputs": [],
   "source": [
    "now = datetime.now() # 현재 날짜와 현재 시간\n",
    "now.year, now.month, now.day, now.hour, now.minute, now.second, now.microsecond"
   ]
  },
  {
   "cell_type": "code",
   "execution_count": null,
   "id": "5588890d",
   "metadata": {},
   "outputs": [],
   "source": [
    "now = datetime.now()\n",
    "now_time = time(now.hour, now.minute, now.second, now.microsecond)\n",
    "print(now_time)\n",
    "print(now_time.strftime(\"%Y년%m월%d일 %H시%M분\"))\n",
    "print(\"{:%y년%m월%d일 %H시%M분}\".format(now_time))"
   ]
  },
  {
   "cell_type": "markdown",
   "id": "9ed24b18",
   "metadata": {},
   "source": [
    "# 8절. 연습문제"
   ]
  },
  {
   "cell_type": "markdown",
   "id": "8fc3b101",
   "metadata": {},
   "source": [
    "## 1. 이름과 나이 변수를 다음 형식으로 출력하도록 format() 함수를 이용해 형식화하세요\n",
    "[출력형식 : 홍길동님의 나이는 23살입니다] "
   ]
  },
  {
   "cell_type": "code",
   "execution_count": null,
   "id": "ed238fad",
   "metadata": {},
   "outputs": [],
   "source": [
    "name = '홍길동'\n",
    "age = 23\n",
    "print('{}님의 나이는 {}살입니다'.format(name, age))"
   ]
  },
  {
   "cell_type": "markdown",
   "id": "1c776fe5",
   "metadata": {},
   "source": [
    "## 2. 두 정수를 입력받아 두 수의 덧셈, 뺄셈, 곱셈, 나눗셈, 몫, 나머지를 출력하세요"
   ]
  },
  {
   "cell_type": "code",
   "execution_count": 33,
   "id": "332c6969",
   "metadata": {},
   "outputs": [
    {
     "name": "stdout",
     "output_type": "stream",
     "text": [
      "a를 입력:\n"
     ]
    },
    {
     "ename": "ValueError",
     "evalue": "invalid literal for int() with base 10: ''",
     "output_type": "error",
     "traceback": [
      "\u001b[1;31m---------------------------------------------------------------------------\u001b[0m",
      "\u001b[1;31mValueError\u001b[0m                                Traceback (most recent call last)",
      "Cell \u001b[1;32mIn[33], line 1\u001b[0m\n\u001b[1;32m----> 1\u001b[0m a \u001b[38;5;241m=\u001b[39m \u001b[38;5;28;43mint\u001b[39;49m\u001b[43m(\u001b[49m\u001b[38;5;28;43minput\u001b[39;49m\u001b[43m(\u001b[49m\u001b[38;5;124;43m'\u001b[39;49m\u001b[38;5;124;43ma를 입력:\u001b[39;49m\u001b[38;5;124;43m'\u001b[39;49m\u001b[43m)\u001b[49m\u001b[43m)\u001b[49m\n\u001b[0;32m      2\u001b[0m b \u001b[38;5;241m=\u001b[39m \u001b[38;5;28mint\u001b[39m(\u001b[38;5;28minput\u001b[39m(\u001b[38;5;124m'\u001b[39m\u001b[38;5;124mb를 입력:\u001b[39m\u001b[38;5;124m'\u001b[39m))\n\u001b[0;32m      3\u001b[0m \u001b[38;5;28mprint\u001b[39m(\u001b[38;5;124m'\u001b[39m\u001b[38;5;124ma+b:\u001b[39m\u001b[38;5;124m'\u001b[39m,a\u001b[38;5;241m+\u001b[39mb)\n",
      "\u001b[1;31mValueError\u001b[0m: invalid literal for int() with base 10: ''"
     ]
    }
   ],
   "source": [
    "a = int(input('a를 입력:'))\n",
    "b = int(input('b를 입력:'))\n",
    "print('a+b:',a+b)\n",
    "print('a-b:',a-b)\n",
    "print('a*b:',a*b)\n",
    "print('a/b:',a/b)\n",
    "print('a//b:',a//b)\n",
    "print('a%b:',a%b)"
   ]
  },
  {
   "cell_type": "markdown",
   "id": "850740d0",
   "metadata": {},
   "source": [
    "##  3. 문자열의 분리하기와 합치기 기능을 이용하여 ‘Hello World’가 할당된 변수를 이용하여 ‘World Hello’로 출력하세요"
   ]
  },
  {
   "cell_type": "code",
   "execution_count": 34,
   "id": "0036baf6",
   "metadata": {},
   "outputs": [
    {
     "name": "stdout",
     "output_type": "stream",
     "text": [
      "World Hello\n"
     ]
    }
   ],
   "source": [
    "str = 'Hello World'\n",
    "str_split = str.split(' ')\n",
    "temp = str_split[0]\n",
    "str_split[0] = str_split[1]\n",
    "str_split[1] = temp\n",
    "str_join = ' '.join(str_split)\n",
    "print(str_join)"
   ]
  },
  {
   "cell_type": "markdown",
   "id": "3b77550f",
   "metadata": {},
   "source": [
    "## 4. x = 'abcdef＇를 이용하여 ‘bcdefa’로 출력하세요(문자 슬라이싱이용)."
   ]
  },
  {
   "cell_type": "code",
   "execution_count": 35,
   "id": "972d520c",
   "metadata": {},
   "outputs": [
    {
     "name": "stdout",
     "output_type": "stream",
     "text": [
      "bcdefa\n"
     ]
    }
   ],
   "source": [
    "x = 'abcdef'\n",
    "print('{}{}'.format(x[1:],x[0]))"
   ]
  },
  {
   "cell_type": "markdown",
   "id": "fb5e757d",
   "metadata": {},
   "source": [
    "## 5. x = ‘abcdef’를 이용하여 ‘fedcba’로 출력하세요"
   ]
  },
  {
   "cell_type": "code",
   "execution_count": 36,
   "id": "966d2182",
   "metadata": {},
   "outputs": [
    {
     "name": "stdout",
     "output_type": "stream",
     "text": [
      "fedcba\n"
     ]
    }
   ],
   "source": [
    "print('{}'.format(x[-1::-1]))"
   ]
  },
  {
   "cell_type": "markdown",
   "id": "baf131ca",
   "metadata": {},
   "source": [
    "## 6. 오늘의 온도를 섭씨온도로 입력받아 화씨 온도로 변환하는 프로그램을 작성하세요. 화씨 온도는 소수점이 있을 경우만 두번째 자리까지 출력되고, 소수점이하 값이 없는 경우 소수점을 출력하지 않도록 합니다.(다음은 섭씨와 화씨의 변환 공식입니다. C는 섭씨,F는 화씨)\n",
    "C = (F-32) / 1.8\n",
    "F = (C*1.8) + 32"
   ]
  },
  {
   "cell_type": "code",
   "execution_count": 4,
   "id": "50924f85",
   "metadata": {},
   "outputs": [
    {
     "name": "stdout",
     "output_type": "stream",
     "text": [
      "오늘의 온도:13\n",
      "섭씨 13도는 화씨온도로 바꾸면 55.40도입니다\n"
     ]
    }
   ],
   "source": [
    "c = int(input('오늘의 온도:'))\n",
    "f = (c*1.8) + 32\n",
    "print(\"섭씨 {}도는 화씨온도로 바꾸면 {:.2f}도입니다\".format(c,f))"
   ]
  },
  {
   "cell_type": "code",
   "execution_count": 5,
   "id": "5766ac42",
   "metadata": {},
   "outputs": [
    {
     "name": "stdout",
     "output_type": "stream",
     "text": [
      "섭씨 13도는 화씨온도로 바꾸면 55.40도입니다\n"
     ]
    }
   ],
   "source": [
    "# if f.is_integer():\n",
    "if f == round(f):\n",
    "    print(\"섭씨 {}도는 화씨온도로 바꾸면 {:.0f}도입니다\".format(c,f))\n",
    "else:\n",
    "    print(\"섭씨 {}도는 화씨온도로 바꾸면 {:.2f}도입니다\".format(c,f))"
   ]
  },
  {
   "cell_type": "markdown",
   "id": "9d632100",
   "metadata": {},
   "source": [
    "## 7. 1-for, 2-10th 3-Student.name"
   ]
  },
  {
   "cell_type": "markdown",
   "id": "4935d379",
   "metadata": {},
   "source": [
    "## 8. SeounSeoul\n",
    "     Seou n Seoul"
   ]
  },
  {
   "cell_type": "markdown",
   "id": "b4925b14",
   "metadata": {},
   "source": [
    "## 9. 2"
   ]
  },
  {
   "cell_type": "markdown",
   "id": "d408ae05",
   "metadata": {},
   "source": [
    "## 10. int와 스트링은 연결할 수 없음 오류"
   ]
  },
  {
   "cell_type": "markdown",
   "id": "680940c0",
   "metadata": {},
   "source": [
    "## 11. split()함수를 이용하여 str_의 값 중 ＂나라＂를 출력하는 프로그램을 완성하시오"
   ]
  },
  {
   "cell_type": "code",
   "execution_count": 38,
   "id": "e86dad14",
   "metadata": {},
   "outputs": [
    {
     "name": "stdout",
     "output_type": "stream",
     "text": [
      "나라\n"
     ]
    }
   ],
   "source": [
    "str_ = '우리 나라 대한 민국'\n",
    "str_split = str_.split(' ')\n",
    "print(str_split[1])"
   ]
  }
 ],
 "metadata": {
  "kernelspec": {
   "display_name": "Python 3 (ipykernel)",
   "language": "python",
   "name": "python3"
  },
  "language_info": {
   "codemirror_mode": {
    "name": "ipython",
    "version": 3
   },
   "file_extension": ".py",
   "mimetype": "text/x-python",
   "name": "python",
   "nbconvert_exporter": "python",
   "pygments_lexer": "ipython3",
   "version": "3.10.9"
  },
  "toc": {
   "base_numbering": 1,
   "nav_menu": {},
   "number_sections": true,
   "sideBar": true,
   "skip_h1_title": false,
   "title_cell": "Table of Contents",
   "title_sidebar": "Contents",
   "toc_cell": false,
   "toc_position": {
    "height": "calc(100% - 180px)",
    "left": "10px",
    "top": "150px",
    "width": "304px"
   },
   "toc_section_display": true,
   "toc_window_display": true
  }
 },
 "nbformat": 4,
 "nbformat_minor": 5
}
