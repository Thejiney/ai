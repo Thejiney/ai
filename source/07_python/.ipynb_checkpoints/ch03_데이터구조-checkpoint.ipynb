{
 "cells": [
  {
   "cell_type": "markdown",
   "id": "5ed5afe4",
   "metadata": {},
   "source": [
    "<b><font color=\"red\" size=\"6\">ch03. 데이터 구조</font></b>\n",
    "- 리스트[], 튜플(), 딕셔너리(hashMap과 유사), 셋"
   ]
  },
  {
   "cell_type": "markdown",
   "id": "de60dc41",
   "metadata": {},
   "source": [
    "# 1. 리스트"
   ]
  },
  {
   "cell_type": "markdown",
   "id": "2ec8c249",
   "metadata": {},
   "source": [
    "## 1.1 리스트 만들기\n",
    "    - []를 이용해서 만들며, 여러개 값을 하나의 변수에 저장/관리할 수 있음\n",
    "    - list()함수 이용도 가능\n",
    "    - 인덱스 : 각 요소의 위치. 인덱스는 0부터 시작. 맨마지막 인덱스는 -1\n",
    "    - 슬라이싱([from:to:by]) : 부분 데이터셋을 추출.\n",
    "    - 인덱스와 슬라이싱을 이용해서 쓰기와 읽기 지원"
   ]
  },
  {
   "cell_type": "code",
   "execution_count": null,
   "id": "c9d342d1",
   "metadata": {},
   "outputs": [],
   "source": [
    "fruits = ['banana','apple','orange','grape',]\n",
    "type(fruits)"
   ]
  },
  {
   "cell_type": "code",
   "execution_count": null,
   "id": "e10533fc",
   "metadata": {},
   "outputs": [],
   "source": [
    "print(fruits)"
   ]
  },
  {
   "cell_type": "code",
   "execution_count": null,
   "id": "3a0bac12",
   "metadata": {},
   "outputs": [],
   "source": [
    "print(fruits[0])"
   ]
  },
  {
   "cell_type": "code",
   "execution_count": null,
   "id": "4f8cd937",
   "metadata": {},
   "outputs": [],
   "source": [
    "fruits[0] = 'mango'\n",
    "print(fruits)"
   ]
  },
  {
   "cell_type": "code",
   "execution_count": null,
   "id": "472580f4",
   "metadata": {},
   "outputs": [],
   "source": [
    "fruits = ['mango', 'apple', 'orange']\n",
    "x, y, z = ['mango', 'apple', 'orange']\n",
    "print('x = {}'.format(x))\n",
    "print('y = {}'.format(y))\n",
    "print('z = {}'.format(z))"
   ]
  },
  {
   "cell_type": "code",
   "execution_count": null,
   "id": "756fb2ca",
   "metadata": {},
   "outputs": [],
   "source": [
    "# range(from, to, by) : from부터 to 앞까지 by씩 증가하면서 지정된 버위의\n",
    "# 숫자를 순차적으로 사용할 수 있게\n",
    "# from 생략시 0 ,by 생략시 1\n",
    "range(10)"
   ]
  },
  {
   "cell_type": "code",
   "execution_count": null,
   "id": "972447f6",
   "metadata": {},
   "outputs": [],
   "source": [
    "list(range(10))"
   ]
  },
  {
   "cell_type": "code",
   "execution_count": null,
   "id": "7c15220d",
   "metadata": {},
   "outputs": [],
   "source": [
    "list(range(0, 10 , 2))"
   ]
  },
  {
   "cell_type": "code",
   "execution_count": null,
   "id": "0e8da20c",
   "metadata": {},
   "outputs": [],
   "source": [
    "list(range(10,-1,-2))"
   ]
  },
  {
   "cell_type": "code",
   "execution_count": null,
   "id": "fdfc10af",
   "metadata": {},
   "outputs": [],
   "source": [
    "for i in [0,1,2]:\n",
    "    print(i)"
   ]
  },
  {
   "cell_type": "code",
   "execution_count": null,
   "id": "4a2ce1a0",
   "metadata": {},
   "outputs": [],
   "source": [
    "for fruit in fruits:\n",
    "    print(fruit)"
   ]
  },
  {
   "cell_type": "code",
   "execution_count": null,
   "id": "b823fb22",
   "metadata": {},
   "outputs": [],
   "source": [
    "fruits = ['mango','apple','orange','banana']\n",
    "for idx in range(len(fruits)):\n",
    "    print(\"{}번째 과일은 {}\".format(idx, fruits[idx]))"
   ]
  },
  {
   "cell_type": "code",
   "execution_count": null,
   "id": "5de42d41",
   "metadata": {},
   "outputs": [],
   "source": [
    "list(enumerate(fruits))"
   ]
  },
  {
   "cell_type": "code",
   "execution_count": null,
   "id": "15c13290",
   "metadata": {},
   "outputs": [],
   "source": [
    "for idx, value in enumerate(fruits):\n",
    "    print(\"{}번째 과일은 {}\".format(idx,value))"
   ]
  },
  {
   "cell_type": "code",
   "execution_count": null,
   "id": "763ad03e",
   "metadata": {},
   "outputs": [],
   "source": [
    "numbers = [1,2,3,'4', True, [1,2,3]] \n",
    "numbers"
   ]
  },
  {
   "cell_type": "code",
   "execution_count": null,
   "id": "2daf0aa7",
   "metadata": {},
   "outputs": [],
   "source": [
    "# 2차원 리스트\n",
    "numbers_2d = [[1,2,3,4,5],\n",
    "              [11,12,13,14,15],\n",
    "              [91,92,93,94,95]]\n",
    "len(numbers_2d), len(numbers_2d[0]) # 리스트 갯수"
   ]
  },
  {
   "cell_type": "code",
   "execution_count": null,
   "id": "a8413835",
   "metadata": {},
   "outputs": [],
   "source": [
    "numbers_2d[1][1]"
   ]
  },
  {
   "cell_type": "code",
   "execution_count": null,
   "id": "12c56860",
   "metadata": {},
   "outputs": [],
   "source": [
    "for i in range(len(numbers_2d)):\n",
    "    for j in range(len(numbers_2d[i])):\n",
    "        print(\"{}행{}열 : {}\".format(i, j, numbers_2d[i][j]), end ='\\t')\n",
    "    print() #개행"
   ]
  },
  {
   "cell_type": "markdown",
   "id": "d711f1b0",
   "metadata": {},
   "source": [
    "## 1.2 기본 정보 조회"
   ]
  },
  {
   "cell_type": "code",
   "execution_count": null,
   "id": "046acb28",
   "metadata": {},
   "outputs": [],
   "source": [
    "numbers = [1,12,3,4,5]\n",
    "numbers_2d=[[100,0,1,2,3],\n",
    "           [9,100,110,102,130]]"
   ]
  },
  {
   "cell_type": "code",
   "execution_count": null,
   "id": "d1db49e0",
   "metadata": {},
   "outputs": [],
   "source": [
    "# 요소의 수\n",
    "print(len(numbers), len(numbers_2d))"
   ]
  },
  {
   "cell_type": "code",
   "execution_count": null,
   "id": "7ba3efca",
   "metadata": {},
   "outputs": [],
   "source": [
    "# 최소값, 최대값\n",
    "min(numbers), max(numbers)"
   ]
  },
  {
   "cell_type": "code",
   "execution_count": null,
   "id": "4b60457a",
   "metadata": {},
   "outputs": [],
   "source": [
    "# 2차원 list의 min() : 부분 리스트 중에서 첫요소가 가장 작은 값\n",
    "#             max() : 부분 리스트 중에서 첫요소가 가장 큰 값\n",
    "min(numbers_2d), max(numbers_2d)"
   ]
  },
  {
   "cell_type": "code",
   "execution_count": null,
   "id": "aff0a7be",
   "metadata": {},
   "outputs": [],
   "source": [
    "# list의 데이터가 문자일 경우 ascii 코드값으로 min(), max() 적용\n",
    "fruits = ['mango', 'banana', 'orange']\n",
    "min(fruits), max(fruits)"
   ]
  },
  {
   "cell_type": "code",
   "execution_count": null,
   "id": "ca206b0f",
   "metadata": {},
   "outputs": [],
   "source": [
    "# 정렬하기\n",
    "numbers = [1,12,3,14,5]\n",
    "print('오름차순정렬 : ', sorted(numbers))\n",
    "print('내림차순정렬 : ', sorted(numbers, reverse=True))\n",
    "print('합 : ', sum(numbers))\n",
    "print(numbers)\n",
    "print('sorted 함수 사용시 리스트 내용이 바뀌지 않음 :', numbers)"
   ]
  },
  {
   "cell_type": "markdown",
   "id": "2614e48f",
   "metadata": {},
   "source": [
    "## 1.3 요소 추가"
   ]
  },
  {
   "cell_type": "code",
   "execution_count": null,
   "id": "73886f93",
   "metadata": {},
   "outputs": [],
   "source": [
    "# + : 두 리스트 연결\n",
    "# * : 리스트를 곱한 수 만큼 반복\n",
    "# append() : 요소 맨 뒤에 추가\n",
    "# extend() : 리스트를 요소별로 맨 뒤에 추가\n",
    "# insert(idx, 값) : idx번째 인덱스 위치에 값 추가"
   ]
  },
  {
   "cell_type": "code",
   "execution_count": null,
   "id": "35e099ff",
   "metadata": {},
   "outputs": [],
   "source": [
    "numbers = [1,2,3]\n",
    "numbers = numbers + numbers # 리스트 연결\n",
    "numbers"
   ]
  },
  {
   "cell_type": "code",
   "execution_count": null,
   "id": "e8446186",
   "metadata": {},
   "outputs": [],
   "source": [
    "numbers = [1, 2, 3]\n",
    "print(3 * numbers)\n",
    "print(numbers * 3)"
   ]
  },
  {
   "cell_type": "code",
   "execution_count": null,
   "id": "7410edb2",
   "metadata": {},
   "outputs": [],
   "source": [
    "numbers.append(4)\n",
    "numbers"
   ]
  },
  {
   "cell_type": "code",
   "execution_count": null,
   "id": "fffcba90",
   "metadata": {},
   "outputs": [],
   "source": [
    "numbers.append([5,6,7])\n",
    "numbers"
   ]
  },
  {
   "cell_type": "code",
   "execution_count": null,
   "id": "9be73e84",
   "metadata": {},
   "outputs": [],
   "source": [
    "num = [1, 2, 3]\n",
    "num.extend([4,5,6]) # 요소별로 맨뒤에 각기 추가\n",
    "num"
   ]
  },
  {
   "cell_type": "code",
   "execution_count": null,
   "id": "c21a29b9",
   "metadata": {},
   "outputs": [],
   "source": [
    "lst = ['a','b','c']\n",
    "lst.append('d')\n",
    "lst"
   ]
  },
  {
   "cell_type": "code",
   "execution_count": null,
   "id": "1de07694",
   "metadata": {},
   "outputs": [],
   "source": [
    "lst.append('hello')\n",
    "lst"
   ]
  },
  {
   "cell_type": "code",
   "execution_count": null,
   "id": "62beeba0",
   "metadata": {},
   "outputs": [],
   "source": [
    "lst.extend('hello')\n",
    "lst"
   ]
  },
  {
   "cell_type": "code",
   "execution_count": null,
   "id": "cdb9ed91",
   "metadata": {},
   "outputs": [],
   "source": [
    "numbers = [1,2,3,4,5]\n",
    "numbers.insert(1, 'xx')\n",
    "numbers"
   ]
  },
  {
   "cell_type": "markdown",
   "id": "33d82d87",
   "metadata": {},
   "source": [
    "## 1.4 인덱싱과 요소 갯수\n",
    "- 변수[index] : 인덱스를 이용한 접근\n",
    "- index(찾을데이터) : 해당 찾을 데이터가 있는 요소의 index를 반환\n",
    "- count(찾을데이터) : 리스트에서 데이터의 갯수 반환"
   ]
  },
  {
   "cell_type": "code",
   "execution_count": null,
   "id": "8ad358dd",
   "metadata": {},
   "outputs": [],
   "source": [
    "numbers = [1,2,3,[1,2,3],1,2,3]"
   ]
  },
  {
   "cell_type": "code",
   "execution_count": null,
   "id": "b69b273a",
   "metadata": {},
   "outputs": [],
   "source": [
    "numbers.count(2)"
   ]
  },
  {
   "cell_type": "code",
   "execution_count": null,
   "id": "7be0f1de",
   "metadata": {},
   "outputs": [],
   "source": [
    "numbers.count(9)"
   ]
  },
  {
   "cell_type": "code",
   "execution_count": null,
   "id": "3b49839b",
   "metadata": {},
   "outputs": [],
   "source": [
    "9 in numbers # 9가 numbers의 요소인지 여부"
   ]
  },
  {
   "cell_type": "code",
   "execution_count": null,
   "id": "4a5f1903",
   "metadata": {},
   "outputs": [],
   "source": [
    "numbers = [1,2,3,[1,2,3],1,2,3]\n",
    "numbers.index(2) # 처음(0인덱스)부터 2가 나오는 위치"
   ]
  },
  {
   "cell_type": "code",
   "execution_count": null,
   "id": "b6c3d3e2",
   "metadata": {},
   "outputs": [],
   "source": [
    "numbers.index(2, 2) # 2번째부터 2가 처음 나오는 위치"
   ]
  },
  {
   "cell_type": "code",
   "execution_count": null,
   "id": "405cf966",
   "metadata": {},
   "outputs": [],
   "source": [
    "# 9가 numbers 리스트의 요소에 있는지 여부를 검사\n",
    "print(numbers.count(9))\n",
    "print(9 in numbers)"
   ]
  },
  {
   "cell_type": "code",
   "execution_count": null,
   "id": "47b13999",
   "metadata": {},
   "outputs": [],
   "source": [
    "numbers.index(9)"
   ]
  },
  {
   "cell_type": "code",
   "execution_count": null,
   "id": "1a40edb3",
   "metadata": {},
   "outputs": [],
   "source": [
    "if 9 in numbers:\n",
    "    print(numbers.index(9))\n",
    "else:\n",
    "    print('9가 요소에 포함되지 않습니다')"
   ]
  },
  {
   "cell_type": "code",
   "execution_count": null,
   "id": "c467ba8f",
   "metadata": {},
   "outputs": [],
   "source": [
    "def safe_index(lst, item):\n",
    "    if item in lst:\n",
    "        return lst.index(item)\n",
    "    else:\n",
    "        return -1"
   ]
  },
  {
   "cell_type": "code",
   "execution_count": null,
   "id": "937de5b5",
   "metadata": {},
   "outputs": [],
   "source": [
    "def safe_index(lst, item):\n",
    "              return lst.index(item) if item in lst else -1"
   ]
  },
  {
   "cell_type": "code",
   "execution_count": null,
   "id": "32a384a3",
   "metadata": {},
   "outputs": [],
   "source": [
    "safe_index(numbers, 2)"
   ]
  },
  {
   "cell_type": "code",
   "execution_count": null,
   "id": "c3ce3ece",
   "metadata": {},
   "outputs": [],
   "source": [
    "numbers[20] # 벗어난 인덱싱시 에러"
   ]
  },
  {
   "cell_type": "markdown",
   "id": "c697e089",
   "metadata": {},
   "source": [
    "## 1.5 리스트 슬라이싱\n",
    "1. 리스트 슬라이싱 : list에서 원하는 인덱스 index의 데이터를 추출\n",
    "\n",
    "- 인덱스의 범위를 벗어난 값도 에러나지 않음\n",
    "- [from:stop:step] from부터 stop앞까지 step씩 증가하는 index값 추출\n",
    "    from 생략시 처음, stop시 끝, step생략시 1. 모두 생략 가능\n",
    "- 인덱스는 음수 가능 <br><br>\n",
    "\n",
    "2. <font color=\"red\">리스트 컴프리헨션</font>을 이용해서 list의 원하는 데이터 액세스"
   ]
  },
  {
   "cell_type": "code",
   "execution_count": null,
   "id": "432f86f5",
   "metadata": {},
   "outputs": [],
   "source": [
    "numbers = [1,3,5,9,10,12,13,18,19,20]\n",
    "# 거꾸로 출력\n",
    "print(numbers[::-1])\n",
    "print(numbers[0:10:2])\n",
    "print(numbers[0:100])"
   ]
  },
  {
   "cell_type": "code",
   "execution_count": null,
   "id": "32f58656",
   "metadata": {},
   "outputs": [],
   "source": [
    "# 리스트 컴프리헨션을 이용해서 list의 원하는 데이터 액세스\n",
    "numbers = [1,3,5,9,10,12,13,18,19,20]\n",
    "# 모든 데이터 추출\n",
    "# for data in numbers:\n",
    "#     print(data, end = '\\t')    \n",
    "[data for data in numbers]"
   ]
  },
  {
   "cell_type": "code",
   "execution_count": null,
   "id": "ad0b2a46",
   "metadata": {},
   "outputs": [],
   "source": [
    "# 짝수 데이터 추출\n",
    "# for data in numbers:\n",
    "#     if data%2 == 0:\n",
    "#         print(data, end='\\t')\n",
    "[data for data in numbers if data%2==0]"
   ]
  },
  {
   "cell_type": "code",
   "execution_count": null,
   "id": "102146af",
   "metadata": {},
   "outputs": [],
   "source": [
    "# ex1. numbers에서 10이상 요소만 추출\n",
    "[data for data in numbers if data>=10]"
   ]
  },
  {
   "cell_type": "code",
   "execution_count": null,
   "id": "2014b00a",
   "metadata": {},
   "outputs": [],
   "source": [
    "# ex2. fruits에서 과일의 글자가 5글자 이상인 과일만 추출\n",
    "fruits = ['orange', 'apple', 'mango', 'kiwi']\n",
    "[fruit for fruit in fruits if len(fruit)>=5]"
   ]
  },
  {
   "cell_type": "code",
   "execution_count": null,
   "id": "553a77c4",
   "metadata": {},
   "outputs": [],
   "source": [
    "# ex2-1. fruits 리스트의 과일 글자수\n",
    "[len(fruit) for fruit in fruits]"
   ]
  },
  {
   "cell_type": "code",
   "execution_count": null,
   "id": "c4c7460b",
   "metadata": {},
   "outputs": [],
   "source": [
    "# ex3. 3이상의 요소들의 제곱을 추출\n",
    "L = [1,2,3,4,5]\n",
    "[data**2 for data in L if data>=3]"
   ]
  },
  {
   "cell_type": "code",
   "execution_count": null,
   "id": "79d12597",
   "metadata": {},
   "outputs": [],
   "source": [
    "# ex4. 리스트의 값의 두배로 추출\n",
    "L = [1,2,3,4,5]\n",
    "[data*2 for data in L]"
   ]
  },
  {
   "cell_type": "markdown",
   "id": "ff736420",
   "metadata": {},
   "source": [
    "## 1.6 요소 수정하기"
   ]
  },
  {
   "cell_type": "code",
   "execution_count": null,
   "id": "97b7bc58",
   "metadata": {},
   "outputs": [],
   "source": [
    "numbers = [0,1,2,3,4,5,6,7,8,9]\n",
    "numbers[2] = 222\n",
    "numbers"
   ]
  },
  {
   "cell_type": "code",
   "execution_count": null,
   "id": "179d70ef",
   "metadata": {},
   "outputs": [],
   "source": [
    "# 슬라이싱(step부분 미포함)을 이용하여 부분리스트를 통째로 수정\n",
    "numbers[0:2] = ['xx','xx','xx','xx','xx','xx','xx','xx']\n",
    "numbers"
   ]
  },
  {
   "cell_type": "code",
   "execution_count": null,
   "id": "6307e385",
   "metadata": {},
   "outputs": [],
   "source": [
    "# 슬라이싱(step부분 포함)을 이용하여 부분 수정\n",
    "numbers = [0]*10\n",
    "print('수정전 :',numbers)\n",
    "numbers[::2] = [9,9,9,9,9]\n",
    "print('수정후 :',numbers)"
   ]
  },
  {
   "cell_type": "code",
   "execution_count": null,
   "id": "a62b190c",
   "metadata": {},
   "outputs": [],
   "source": [
    "number[::2] = [1,2,3,3,3,3,3]"
   ]
  },
  {
   "cell_type": "markdown",
   "id": "5eedef08",
   "metadata": {},
   "source": [
    "## 1.7 요소 삭제\n",
    "- pop() : 가장 마지막 인덱스의 요소가 반환되고 삭제\n",
    "- pop(idx) : idx번째 요소가 반환되고 삭제\n",
    "- remove(data) : list안의 data가 삭제\n",
    "- del 리스트변수[idx] : idx번째 요소가 삭제"
   ]
  },
  {
   "cell_type": "code",
   "execution_count": null,
   "id": "d146fdb9",
   "metadata": {},
   "outputs": [],
   "source": [
    "numbers = [1,2,3,4,5]\n",
    "print('삭제한 데이터 :', numbers.pop())\n",
    "print('삭제한 후 numbers :', numbers)\n",
    "print('삭제한 데이터 :', numbers.pop())\n",
    "print('삭제한 후 numbers :', numbers)\n",
    "print('삭제한 데이터 :', numbers.pop(0))\n",
    "print('삭제한 후 numbers :', numbers)"
   ]
  },
  {
   "cell_type": "code",
   "execution_count": null,
   "id": "1c7e79d1",
   "metadata": {},
   "outputs": [],
   "source": [
    "numbers = [0,1,2,3,4,5]\n",
    "print(numbers.remove(3)) # remove()는 반환값이 없고, 해당 데이터 삭제만\n",
    "print(numbers)"
   ]
  },
  {
   "cell_type": "code",
   "execution_count": null,
   "id": "91e4485c",
   "metadata": {},
   "outputs": [],
   "source": [
    "numbers.remove(9)"
   ]
  },
  {
   "cell_type": "code",
   "execution_count": null,
   "id": "12b39702",
   "metadata": {},
   "outputs": [],
   "source": [
    "if 9 in numbers:\n",
    "    numbers.remove(9)\n",
    "else:\n",
    "    print('해당 데이터는 없는 데이터입니다')"
   ]
  },
  {
   "cell_type": "code",
   "execution_count": null,
   "id": "e7b3b51d",
   "metadata": {},
   "outputs": [],
   "source": [
    "def safe_remove(lst, remove_item):\n",
    "    if remove_item in lst:\n",
    "        lst.remove(remove_item)\n",
    "    else:\n",
    "        print('해당 데이터는 없는 아이템입니다.')"
   ]
  },
  {
   "cell_type": "code",
   "execution_count": null,
   "id": "2d8bd17f",
   "metadata": {},
   "outputs": [],
   "source": [
    "safe_remove(numbers, 9)"
   ]
  },
  {
   "cell_type": "code",
   "execution_count": null,
   "id": "5c07085f",
   "metadata": {},
   "outputs": [],
   "source": [
    "numbers = [0,1,2,3,4,5]\n",
    "del numbers[2]\n",
    "print('삭제 후:',numbers)"
   ]
  },
  {
   "cell_type": "code",
   "execution_count": null,
   "id": "10243dbb",
   "metadata": {},
   "outputs": [],
   "source": [
    "del numbers # 변수 삭제"
   ]
  },
  {
   "cell_type": "code",
   "execution_count": null,
   "id": "6eefe825",
   "metadata": {},
   "outputs": [],
   "source": [
    "numbers"
   ]
  },
  {
   "cell_type": "markdown",
   "id": "67ddd1d6",
   "metadata": {},
   "source": [
    "## 1.8 정렬하기"
   ]
  },
  {
   "cell_type": "code",
   "execution_count": null,
   "id": "d36d8ee5",
   "metadata": {},
   "outputs": [],
   "source": [
    "numbers = [9,5,0,8,6]\n",
    "numbers.sort() # numbers 자체가 정렬한 결과로 바뀜(기본정렬은 오름차순)\n",
    "numbers"
   ]
  },
  {
   "cell_type": "code",
   "execution_count": null,
   "id": "bdcde4ce",
   "metadata": {},
   "outputs": [],
   "source": [
    "numbers = numbers[::-1] # 오름차순 결과를 내림차순으로\n",
    "numbers"
   ]
  },
  {
   "cell_type": "code",
   "execution_count": null,
   "id": "026a8b7d",
   "metadata": {},
   "outputs": [],
   "source": [
    "numbers = [9,5,0,8,6]\n",
    "numbers.reverse() # 리스트를 역순으로 변경\n",
    "numbers"
   ]
  },
  {
   "cell_type": "code",
   "execution_count": null,
   "id": "df881063",
   "metadata": {},
   "outputs": [],
   "source": [
    "numbers.sort(reverse=True) # 내림차순 정렬\n",
    "numbers"
   ]
  },
  {
   "cell_type": "markdown",
   "id": "81f8ac84",
   "metadata": {},
   "source": [
    "## 1.9 리스트 복사"
   ]
  },
  {
   "cell_type": "code",
   "execution_count": null,
   "id": "ae8186a7",
   "metadata": {},
   "outputs": [],
   "source": [
    "# 얕은 복사\n",
    "numbers = [5, 6, 1, 9]\n",
    "new_numbers = numbers; # 얕은 복사\n",
    "new_numbers.sort()\n",
    "print('원본 :',numbers)\n",
    "print('정렬 :',new_numbers)\n",
    "print('원본 주소 :', id(numbers))\n",
    "print('정렬본 주소 :', id(new_numbers))"
   ]
  },
  {
   "cell_type": "code",
   "execution_count": null,
   "id": "ad5a1b75",
   "metadata": {},
   "outputs": [],
   "source": [
    "# 깊은 복사(복제)\n",
    "numbers = [5, 6, 1, 9]\n",
    "new_numbers = numbers.copy() # numbers를 복제(깊은 복사)\n",
    "new_numbers.sort(reverse=True) # 내림차순정렬\n",
    "print('numbers :', numbers)\n",
    "print('new_numbers :', new_numbers)\n",
    "print('numbers 주소 :', id(numbers))\n",
    "print('new_numbers 주소 :', id(new_numbers))"
   ]
  },
  {
   "cell_type": "code",
   "execution_count": null,
   "id": "4642eca6",
   "metadata": {},
   "outputs": [],
   "source": [
    "city = ['서울','부산','대전','대구','인천','광주','제주']\n",
    "temp = city.copy()\n",
    "temp.sort()\n",
    "print('정렬전 :', ' '.join(city))\n",
    "print('정렬후 :', ' '.join(temp))"
   ]
  },
  {
   "cell_type": "markdown",
   "id": "ee2258a9",
   "metadata": {},
   "source": [
    "# 2절. 튜플\n",
    "- 리스트와 유사하지만 읽기전용. 수정이 필요없는 데이터에서 사용\n",
    "- 수정이 불가하므로 튜플에 데이터 수정, 추가, 삭제 불가\n",
    "- 제공되는 함수도 많지 않음\n",
    "- () 이용해서 생성"
   ]
  },
  {
   "cell_type": "code",
   "execution_count": null,
   "id": "c192511b",
   "metadata": {},
   "outputs": [],
   "source": [
    "city = ('서울', '부산', '인천', '목포')\n",
    "print(type(city))\n",
    "print(city)"
   ]
  },
  {
   "cell_type": "code",
   "execution_count": null,
   "id": "46a7f043",
   "metadata": {},
   "outputs": [],
   "source": [
    "', '.join(city)"
   ]
  },
  {
   "cell_type": "code",
   "execution_count": null,
   "id": "b45c69d1",
   "metadata": {},
   "outputs": [],
   "source": [
    "l = ['서울'] # 요소가 하나 있는 리슽\n",
    "print(type(l))\n",
    "print(l)\n",
    "print(len(l))"
   ]
  },
  {
   "cell_type": "code",
   "execution_count": null,
   "id": "844f5681",
   "metadata": {},
   "outputs": [],
   "source": [
    "city = ('서울') # 요소가 하나 있는 튜플(x)\n",
    "print(type(city))\n",
    "print(city)\n",
    "print(len(city))"
   ]
  },
  {
   "cell_type": "code",
   "execution_count": null,
   "id": "56df39a3",
   "metadata": {},
   "outputs": [],
   "source": [
    "city = ('서울') # 요소가 하나 있는 튜플(o)\n",
    "print(type(city))\n",
    "print(city)\n",
    "print(len(city))"
   ]
  },
  {
   "cell_type": "code",
   "execution_count": null,
   "id": "1a9780e5",
   "metadata": {},
   "outputs": [],
   "source": [
    "a, b = 10, 20\n",
    "# (a, b) = (10, 20)"
   ]
  },
  {
   "cell_type": "code",
   "execution_count": null,
   "id": "ab475f9c",
   "metadata": {},
   "outputs": [],
   "source": [
    "numbers = 1,2,3 # numbers = (1,2,3)\n",
    "print(type(numbers))\n",
    "print(numbers)"
   ]
  },
  {
   "cell_type": "code",
   "execution_count": null,
   "id": "63671ec3",
   "metadata": {},
   "outputs": [],
   "source": [
    "# numbers.remove(3) 수정하기 위한 함수는 제공되지 않음"
   ]
  },
  {
   "cell_type": "code",
   "execution_count": null,
   "id": "62795e1d",
   "metadata": {},
   "outputs": [],
   "source": [
    "min(numbers), max(numbers), len(numbers)"
   ]
  },
  {
   "cell_type": "code",
   "execution_count": null,
   "id": "16e608e3",
   "metadata": {},
   "outputs": [],
   "source": [
    "numbers = (0,1,2,(1,2),0,1,2)\n",
    "numbers.count(2)"
   ]
  },
  {
   "cell_type": "code",
   "execution_count": null,
   "id": "e24ddd76",
   "metadata": {},
   "outputs": [],
   "source": [
    "numbers.index(2) # 처음부터 2가 처음 나오는 곳의 index"
   ]
  },
  {
   "cell_type": "code",
   "execution_count": null,
   "id": "4709bfc8",
   "metadata": {},
   "outputs": [],
   "source": [
    "numbers.index(2,3) # 3번째 부터 2가 나오는 index"
   ]
  },
  {
   "cell_type": "code",
   "execution_count": null,
   "id": "9cfd1dc2",
   "metadata": {},
   "outputs": [],
   "source": [
    "numbers.index(9)"
   ]
  },
  {
   "cell_type": "code",
   "execution_count": null,
   "id": "f9ab4398",
   "metadata": {},
   "outputs": [],
   "source": [
    "# numbers 안에 9 요소가 있는 여부\n",
    "print(numbers.count(9))\n",
    "print(9 in numbers)"
   ]
  },
  {
   "cell_type": "code",
   "execution_count": null,
   "id": "ce0bd1c2",
   "metadata": {},
   "outputs": [],
   "source": [
    "def safe_index(lst, item):\n",
    "    if item in lst:\n",
    "        return lst.index(item)\n",
    "    else:\n",
    "        return -1\n",
    "def safe_index(lst, item):\n",
    "    return lst.index(item) if item in lst else -1"
   ]
  },
  {
   "cell_type": "code",
   "execution_count": null,
   "id": "e35d0a6a",
   "metadata": {},
   "outputs": [],
   "source": [
    "safe_index(numbers, 9)"
   ]
  },
  {
   "cell_type": "code",
   "execution_count": null,
   "id": "f6cbea21",
   "metadata": {},
   "outputs": [],
   "source": [
    "numbers = (1,2,3)\n",
    "numbers + numbers # 연결"
   ]
  },
  {
   "cell_type": "code",
   "execution_count": null,
   "id": "71becec7",
   "metadata": {},
   "outputs": [],
   "source": [
    "numbers * 3 # 반복"
   ]
  },
  {
   "cell_type": "code",
   "execution_count": null,
   "id": "fafe4058",
   "metadata": {},
   "outputs": [],
   "source": [
    "# ex. 짝수 요소들을 추출하여 제곱한 리스트를 출력하시오\n",
    "numbers = (1,2,3,4,5,6)\n",
    "[x**2 for x in numbers if x%2==0]"
   ]
  },
  {
   "cell_type": "markdown",
   "id": "c37abb73",
   "metadata": {},
   "source": [
    "# 3절. 딕셔너리\n",
    "cf. 자바에서의 hashMap\n",
    "- 중괄호({})를 이용해서 딕셔너리 생성. 키(key)-값(value)쌍으로 구성된 자료구조\n",
    "- 키는 유일한 값(중복허용안함). 키에 list는 사용불가. 키에 tupple은 사용 가능\n",
    "- 값은 중복 가능. 모든 데이터 타입이 가능\n",
    "- 없는 키의 값을 참조하면 에러 발생\n",
    "- 인덱스를 이용한 참조는 지원 안 함"
   ]
  },
  {
   "cell_type": "code",
   "execution_count": 3,
   "id": "7ab974a1",
   "metadata": {},
   "outputs": [
    {
     "name": "stdout",
     "output_type": "stream",
     "text": [
      "<class 'dict'>\n",
      "{'name': '홍길동', 1: 'val', (1, 2): [1, 2]}\n"
     ]
    }
   ],
   "source": [
    "dic = {'name':'홍길동',1:'val',(1,2):[1,2]}\n",
    "print(type(dic))\n",
    "print(dic)"
   ]
  },
  {
   "cell_type": "code",
   "execution_count": 5,
   "id": "0f92a187",
   "metadata": {},
   "outputs": [
    {
     "data": {
      "text/plain": [
       "3"
      ]
     },
     "execution_count": 5,
     "metadata": {},
     "output_type": "execute_result"
    }
   ],
   "source": [
    "len(dic) # 데이터 요소의 갯수"
   ]
  },
  {
   "cell_type": "code",
   "execution_count": 7,
   "id": "d1c3217a",
   "metadata": {},
   "outputs": [
    {
     "data": {
      "text/plain": [
       "{'fruit': 'apple', 'number': 12, 'sport': 'golf'}"
      ]
     },
     "execution_count": 7,
     "metadata": {},
     "output_type": "execute_result"
    }
   ],
   "source": [
    "my_favorite = {'fruit':'apple', 'number' :12, 'sport':'golf'}\n",
    "my_favorite"
   ]
  },
  {
   "cell_type": "code",
   "execution_count": 8,
   "id": "6bdce65f",
   "metadata": {},
   "outputs": [
    {
     "data": {
      "text/plain": [
       "'apple'"
      ]
     },
     "execution_count": 8,
     "metadata": {},
     "output_type": "execute_result"
    }
   ],
   "source": [
    "my_favorite['fruit']"
   ]
  },
  {
   "cell_type": "code",
   "execution_count": 9,
   "id": "5b94f3f3",
   "metadata": {},
   "outputs": [
    {
     "data": {
      "text/plain": [
       "'apple'"
      ]
     },
     "execution_count": 9,
     "metadata": {},
     "output_type": "execute_result"
    }
   ],
   "source": [
    "my_favorite.get('fruit')"
   ]
  },
  {
   "cell_type": "code",
   "execution_count": 13,
   "id": "f28e7b2d",
   "metadata": {},
   "outputs": [
    {
     "name": "stdout",
     "output_type": "stream",
     "text": [
      "None\n"
     ]
    }
   ],
   "source": [
    "# print(my_favorite('people')) # 키목록에 없는 데이터를 인덱스로 참조시 에러\n",
    "print(my_favorite.get('people')) # 없는 키를 get함수로 참조시 None"
   ]
  },
  {
   "cell_type": "code",
   "execution_count": 21,
   "id": "0a5b3bf1",
   "metadata": {},
   "outputs": [
    {
     "name": "stdout",
     "output_type": "stream",
     "text": [
      "fruit 수정 후 : {'fruit': 'mango', 'number': 12, 'sport': 'golf'}\n",
      "people 키 추가 후 : {'fruit': 'mango', 'number': 12, 'sport': 'golf', 'people': '홍길동'}\n",
      "데이터 갯수 :  4\n",
      "sport 제거 후 : {'fruit': 'mango', 'number': 12, 'sport': 'golf', 'people': '홍길동'}\n"
     ]
    }
   ],
   "source": [
    "# 딕셔너리 수정\n",
    "my_favorite = {'fruit':'apple', 'number' :12, 'sport':'golf'}\n",
    "my_favorite['fruit'] = 'mango'\n",
    "print('fruit 수정 후 :',my_favorite)\n",
    "my_favorite['people'] = '홍길동'\n",
    "print('people 키 추가 후 :',my_favorite)\n",
    "print('데이터 갯수 : ', len(my_favorite))\n",
    "# del my_favorite['sport'] # 'sport':'golf' w제거\n",
    "# del(my_favorite['sport'])\n",
    "print('sport 제거 후 :',my_favorite)"
   ]
  },
  {
   "cell_type": "code",
   "execution_count": 22,
   "id": "b2e78fd6",
   "metadata": {},
   "outputs": [],
   "source": [
    "# for문을 이용한 튜플 출력\n",
    "my_tuple = ('홍길동',30,'010-9999-9999')"
   ]
  },
  {
   "cell_type": "code",
   "execution_count": 30,
   "id": "992acff4",
   "metadata": {},
   "outputs": [
    {
     "name": "stdout",
     "output_type": "stream",
     "text": [
      "홍길동\t30\t010-9999-9999\t\n",
      "0번째 : 홍길동\t1번째 : 30\t2번째 : 010-9999-9999\t\n",
      "0번째 : 홍길동\t1번째 : 30\t2번째 : 010-9999-9999\t"
     ]
    }
   ],
   "source": [
    "for data in my_tuple:\n",
    "    print(data, end='\\t')\n",
    "print()\n",
    "for idx in range(len(my_tuple)):\n",
    "    print('{}번째 : {}\\t'.format(idx,my_tuple[idx]), end=\"\")\n",
    "print()\n",
    "for idx, value in enumerate(my_tuple):\n",
    "    print('{}번째 : {}'.format(idx, value), end='\\t')"
   ]
  },
  {
   "cell_type": "code",
   "execution_count": 23,
   "id": "2cc9150e",
   "metadata": {},
   "outputs": [],
   "source": [
    "# for문을 이용한 딕셔너리 출력\n",
    "my_dic = {'name': '홍길동','age':30,'tel':'010-9999-9999'}"
   ]
  },
  {
   "cell_type": "code",
   "execution_count": 34,
   "id": "63ccf94f",
   "metadata": {},
   "outputs": [
    {
     "name": "stdout",
     "output_type": "stream",
     "text": [
      "name:홍길동\tage:30\ttel:010-9999-9999\t"
     ]
    }
   ],
   "source": [
    "for key in my_dic:\n",
    "    print(\"{}:{}\".format(key,my_dic[key]), end='\\t')"
   ]
  },
  {
   "cell_type": "code",
   "execution_count": 35,
   "id": "ef65b9a3",
   "metadata": {},
   "outputs": [
    {
     "name": "stdout",
     "output_type": "stream",
     "text": [
      "0 : name\n",
      "1 : age\n",
      "2 : tel\n"
     ]
    }
   ],
   "source": [
    "for idx, value in enumerate(my_dic):\n",
    "    print('{} : {}'.format(idx,value))"
   ]
  },
  {
   "cell_type": "code",
   "execution_count": 36,
   "id": "bc42654d",
   "metadata": {},
   "outputs": [
    {
     "data": {
      "text/plain": [
       "dict_keys(['name', 'age', 'tel'])"
      ]
     },
     "execution_count": 36,
     "metadata": {},
     "output_type": "execute_result"
    }
   ],
   "source": [
    "my_dic.keys() # 키 목록"
   ]
  },
  {
   "cell_type": "code",
   "execution_count": 37,
   "id": "1ef501fb",
   "metadata": {},
   "outputs": [
    {
     "data": {
      "text/plain": [
       "dict_values(['홍길동', 30, '010-9999-9999'])"
      ]
     },
     "execution_count": 37,
     "metadata": {},
     "output_type": "execute_result"
    }
   ],
   "source": [
    "my_dic.values() # 값들 목록"
   ]
  },
  {
   "cell_type": "code",
   "execution_count": 38,
   "id": "f93b98bd",
   "metadata": {},
   "outputs": [
    {
     "data": {
      "text/plain": [
       "dict_items([('name', '홍길동'), ('age', 30), ('tel', '010-9999-9999')])"
      ]
     },
     "execution_count": 38,
     "metadata": {},
     "output_type": "execute_result"
    }
   ],
   "source": [
    "my_dic.items() # 키-값의 목록"
   ]
  },
  {
   "cell_type": "code",
   "execution_count": 39,
   "id": "d402abf7",
   "metadata": {},
   "outputs": [
    {
     "name": "stdout",
     "output_type": "stream",
     "text": [
      "홍길동\t30\t010-9999-9999\t"
     ]
    }
   ],
   "source": [
    "for value in my_dic.values():\n",
    "    print(value, end='\\t')"
   ]
  },
  {
   "cell_type": "code",
   "execution_count": 41,
   "id": "60f1215c",
   "metadata": {},
   "outputs": [
    {
     "name": "stdout",
     "output_type": "stream",
     "text": [
      "name:홍길동\t age:30\t tel:010-9999-9999\t "
     ]
    }
   ],
   "source": [
    "for key, value in my_dic.items():\n",
    "    print('{}:{}\\t'.format(key,value), end=' ')"
   ]
  },
  {
   "cell_type": "code",
   "execution_count": 42,
   "id": "8ed7e7be",
   "metadata": {},
   "outputs": [
    {
     "data": {
      "text/plain": [
       "True"
      ]
     },
     "execution_count": 42,
     "metadata": {},
     "output_type": "execute_result"
    }
   ],
   "source": [
    "# in 연산자\n",
    "t = (10, 20 ,30)\n",
    "30 in t"
   ]
  },
  {
   "cell_type": "code",
   "execution_count": 43,
   "id": "909a62d1",
   "metadata": {},
   "outputs": [
    {
     "data": {
      "text/plain": [
       "True"
      ]
     },
     "execution_count": 43,
     "metadata": {},
     "output_type": "execute_result"
    }
   ],
   "source": [
    "my_dic = {'name': '홍길동','age':30,'tel':'010-9999-9999'}\n",
    "'name' in my_dic\n",
    "# 딕셔너리에서의 in연산자는 키가 있는 여부 반환"
   ]
  },
  {
   "cell_type": "code",
   "execution_count": 44,
   "id": "a688c0fc",
   "metadata": {},
   "outputs": [
    {
     "data": {
      "text/plain": [
       "False"
      ]
     },
     "execution_count": 44,
     "metadata": {},
     "output_type": "execute_result"
    }
   ],
   "source": [
    "'홍길동' in my_dic"
   ]
  },
  {
   "cell_type": "code",
   "execution_count": 45,
   "id": "6b32964a",
   "metadata": {},
   "outputs": [
    {
     "name": "stdout",
     "output_type": "stream",
     "text": [
      "my_favorite의 주소 : 2411836984448\n",
      "new_favorite의 주소 : 2411836984448\n"
     ]
    }
   ],
   "source": [
    "# 얕은 복사\n",
    "my_favorite = {'fruit':'apple', 'number':12}\n",
    "new_favorite = my_favorite # 얕은 복사(할당)\n",
    "print('my_favorite의 주소 :', id(my_favorite))\n",
    "print('new_favorite의 주소 :', id(new_favorite))"
   ]
  },
  {
   "cell_type": "code",
   "execution_count": 48,
   "id": "814b114a",
   "metadata": {},
   "outputs": [
    {
     "name": "stdout",
     "output_type": "stream",
     "text": [
      "원본 : {'fruit': '과일은 다 좋아. 하나를 어찌 선택해', 'number': 12, 'people': '홍길동'}\n",
      "수정본 : {'fruit': '과일은 다 좋아. 하나를 어찌 선택해', 'number': 12, 'people': '홍길동'}\n"
     ]
    }
   ],
   "source": [
    "new_favorite['fruit'] = '과일은 다 좋아. 하나를 어찌 선택해'\n",
    "new_favorite['people'] = '홍길동'\n",
    "print('원본 :',my_favorite)\n",
    "print('수정본 :',new_favorite)"
   ]
  },
  {
   "cell_type": "code",
   "execution_count": 51,
   "id": "12f894fd",
   "metadata": {},
   "outputs": [
    {
     "name": "stdout",
     "output_type": "stream",
     "text": [
      "my_favorite의 주소 : 2411832138816\n",
      "new_favorite의 주소 : 2411835975296\n",
      "원본 : {'fruit': 'apple', 'number': 12}\n",
      "수정본 : {'fruit': '과일은 다 좋아. 하나를 어찌 선택해', 'number': 12, 'people': '홍길동'}\n"
     ]
    }
   ],
   "source": [
    "# 깊은 복사\n",
    "my_favorite = {'fruit':'apple', 'number':12}\n",
    "new_favorite = my_favorite.copy() # 깊은 복사(복제)\n",
    "print('my_favorite의 주소 :', id(my_favorite))\n",
    "print('new_favorite의 주소 :', id(new_favorite))\n",
    "new_favorite['fruit'] = '과일은 다 좋아. 하나를 어찌 선택해'\n",
    "new_favorite['people'] = '홍길동'\n",
    "print('원본 :',my_favorite)\n",
    "print('수정본 :',new_favorite)"
   ]
  },
  {
   "cell_type": "markdown",
   "id": "85073560",
   "metadata": {},
   "source": [
    "# 4절. 셋\n",
    "- 중복을 허용하지 않는 집합(순서X)\n",
    "- 중괄호({})나 set()함수를 이용해서 셋 생성 : set([1,2]), set({'name':'홍'})\n",
    "- 추가 : add(), update()\n",
    "- 집합연산자 : &-교집합, |-합집합, -차집합\n",
    "- 삭제 : remove()"
   ]
  },
  {
   "cell_type": "code",
   "execution_count": 2,
   "id": "42d62dd1",
   "metadata": {},
   "outputs": [
    {
     "data": {
      "text/plain": [
       "{'apple', 'banana', 'orange'}"
      ]
     },
     "execution_count": 2,
     "metadata": {},
     "output_type": "execute_result"
    }
   ],
   "source": [
    "fruits = {'banana','orange','apple','apple'}\n",
    "fruits"
   ]
  },
  {
   "cell_type": "code",
   "execution_count": 3,
   "id": "a80f26e6",
   "metadata": {},
   "outputs": [
    {
     "data": {
      "text/plain": [
       "{1, 2, 3}"
      ]
     },
     "execution_count": 3,
     "metadata": {},
     "output_type": "execute_result"
    }
   ],
   "source": [
    "s1 = set([1,2,3,1,1,1,1,1,1])\n",
    "s1"
   ]
  },
  {
   "cell_type": "code",
   "execution_count": 4,
   "id": "ead973a8",
   "metadata": {},
   "outputs": [
    {
     "data": {
      "text/plain": [
       "{1, 2, 3}"
      ]
     },
     "execution_count": 4,
     "metadata": {},
     "output_type": "execute_result"
    }
   ],
   "source": [
    "s2 = set((1,2,3,1))\n",
    "s2"
   ]
  },
  {
   "cell_type": "code",
   "execution_count": 5,
   "id": "0d61fba4",
   "metadata": {},
   "outputs": [
    {
     "data": {
      "text/plain": [
       "{'add', 'age', 'name'}"
      ]
     },
     "execution_count": 5,
     "metadata": {},
     "output_type": "execute_result"
    }
   ],
   "source": [
    "# set함수를 이용해서 딕셔너리를 셋으로 전환할때는 key만 적용\n",
    "s3 = set({'name':'홍','age':33,'add':'서울'})\n",
    "s3"
   ]
  },
  {
   "cell_type": "markdown",
   "id": "7cd03665",
   "metadata": {},
   "source": [
    "## 추가하기\n",
    "- add() : 기본자료형, 튜플 데이터 하나 추가. list, dic, set유형은 add()함수 사용 불가\n",
    "- update() : 리스트, 튜플, 딕셔너리, 셋 요소를 하나씩 따로 추가. dic사용시 key만 적용\n",
    "    cf. list의 extend()"
   ]
  },
  {
   "cell_type": "code",
   "execution_count": 7,
   "id": "c27c018d",
   "metadata": {},
   "outputs": [
    {
     "data": {
      "text/plain": [
       "{(6, 7, 8), 1, 2, 3, 4, 5}"
      ]
     },
     "execution_count": 7,
     "metadata": {},
     "output_type": "execute_result"
    }
   ],
   "source": [
    "s2.add(4)\n",
    "s2.add(5)\n",
    "s2.add((6,7,8))\n",
    "s2"
   ]
  },
  {
   "cell_type": "code",
   "execution_count": 8,
   "id": "506d8081",
   "metadata": {},
   "outputs": [
    {
     "data": {
      "text/plain": [
       "{(6, 7, 8), 0, 1, 2, 3, 4, 5}"
      ]
     },
     "execution_count": 8,
     "metadata": {},
     "output_type": "execute_result"
    }
   ],
   "source": [
    "s2.add(0)\n",
    "s2"
   ]
  },
  {
   "cell_type": "code",
   "execution_count": 10,
   "id": "7d172171",
   "metadata": {},
   "outputs": [
    {
     "data": {
      "text/plain": [
       "{False, 1, 2, 3}"
      ]
     },
     "execution_count": 10,
     "metadata": {},
     "output_type": "execute_result"
    }
   ],
   "source": [
    "s2 = {1,2,3}\n",
    "s2.add(False)\n",
    "s2"
   ]
  },
  {
   "cell_type": "code",
   "execution_count": 11,
   "id": "bf500340",
   "metadata": {},
   "outputs": [
    {
     "data": {
      "text/plain": [
       "{False, 1, 2, 3, 4, 5, 6}"
      ]
     },
     "execution_count": 11,
     "metadata": {},
     "output_type": "execute_result"
    }
   ],
   "source": [
    "s2.update((4,5,6))\n",
    "s2"
   ]
  },
  {
   "cell_type": "code",
   "execution_count": 12,
   "id": "a3233ecb",
   "metadata": {},
   "outputs": [
    {
     "data": {
      "text/plain": [
       "{1, 2, 3, 4, 5, 6, False, 'name'}"
      ]
     },
     "execution_count": 12,
     "metadata": {},
     "output_type": "execute_result"
    }
   ],
   "source": [
    "s2.update({'name':'홍'}) # 딕셔녀리는 키만 추가\n",
    "s2"
   ]
  },
  {
   "cell_type": "code",
   "execution_count": 17,
   "id": "36e8b291",
   "metadata": {},
   "outputs": [
    {
     "data": {
      "text/plain": [
       "{1, 2, 3, 4}"
      ]
     },
     "execution_count": 17,
     "metadata": {},
     "output_type": "execute_result"
    }
   ],
   "source": [
    "# 삭제 : remove()\n",
    "s1 = {1,2,3,4,1,1}\n",
    "s1"
   ]
  },
  {
   "cell_type": "code",
   "execution_count": 18,
   "id": "d06fdb77",
   "metadata": {},
   "outputs": [
    {
     "data": {
      "text/plain": [
       "{1, 3, 4}"
      ]
     },
     "execution_count": 18,
     "metadata": {},
     "output_type": "execute_result"
    }
   ],
   "source": [
    "s1.remove(2)\n",
    "s1"
   ]
  },
  {
   "cell_type": "code",
   "execution_count": 19,
   "id": "eee2fbf8",
   "metadata": {},
   "outputs": [
    {
     "name": "stdout",
     "output_type": "stream",
     "text": [
      "없는 요소\n"
     ]
    }
   ],
   "source": [
    "if 9 in s1:\n",
    "    s1.remove(9)\n",
    "else:\n",
    "    print('없는 요소')"
   ]
  },
  {
   "cell_type": "code",
   "execution_count": 20,
   "id": "4e35882e",
   "metadata": {},
   "outputs": [],
   "source": [
    "def safe_remove(lst, remove_item): # data : list, set\n",
    "    if remove_item in lst:\n",
    "        lst.remove(remove_item)\n",
    "    else:\n",
    "        print('해당 데이터는 없는 아이템입니다.')"
   ]
  },
  {
   "cell_type": "code",
   "execution_count": 21,
   "id": "d1cd9a60",
   "metadata": {},
   "outputs": [
    {
     "name": "stdout",
     "output_type": "stream",
     "text": [
      "해당 데이터는 없는 아이템입니다.\n"
     ]
    }
   ],
   "source": [
    "safe_remove(s1, 9)"
   ]
  },
  {
   "cell_type": "code",
   "execution_count": 22,
   "id": "6aff5b56",
   "metadata": {},
   "outputs": [
    {
     "data": {
      "text/plain": [
       "{1, 3, 4}"
      ]
     },
     "execution_count": 22,
     "metadata": {},
     "output_type": "execute_result"
    }
   ],
   "source": [
    "s1"
   ]
  },
  {
   "cell_type": "code",
   "execution_count": 23,
   "id": "36730335",
   "metadata": {},
   "outputs": [
    {
     "data": {
      "text/plain": [
       "{3, 4}"
      ]
     },
     "execution_count": 23,
     "metadata": {},
     "output_type": "execute_result"
    }
   ],
   "source": [
    "# 논리값 False는 0으로 삭제할 수 있으며, True는 1로 삭제할 수 있음\n",
    "# 논리값 0은 False로 삭제할 수 있으며 , 1은 True로 삭제할 수 있음\n",
    "s1.remove(True)\n",
    "s1"
   ]
  },
  {
   "cell_type": "markdown",
   "id": "9627e112",
   "metadata": {},
   "source": [
    "## 합집합(|), 교집합(&), 차집합(-)"
   ]
  },
  {
   "cell_type": "code",
   "execution_count": 25,
   "id": "8cddf5f8",
   "metadata": {},
   "outputs": [
    {
     "name": "stdout",
     "output_type": "stream",
     "text": [
      "s1 = {1, 2, 3, 4, 5}\n",
      "s2 = {3, 4, 5, 6, 7}\n",
      "s1|s2 = {1, 2, 3, 4, 5, 6, 7}\n",
      "s1&s2 = {3, 4, 5}\n",
      "s1-s2 = {1, 2}\n"
     ]
    }
   ],
   "source": [
    "s1 = {1, 2, 3, 4, 5}\n",
    "s2 = {3, 4, 5, 6, 7}\n",
    "print('s1 =' , s1)\n",
    "print('s2 =' , s2)\n",
    "print('s1|s2 =', s1|s2) # &, | : 집합연산자, 논리연산자, 비트연산자\n",
    "print('s1&s2 =', s1&s2)\n",
    "print('s1-s2 =', s1-s2)"
   ]
  },
  {
   "cell_type": "code",
   "execution_count": 26,
   "id": "3e80e283",
   "metadata": {},
   "outputs": [
    {
     "name": "stdout",
     "output_type": "stream",
     "text": [
      "{'순자', '길동', '길자'}\n"
     ]
    }
   ],
   "source": [
    "names = {'길자','순자','길동'}\n",
    "print(names)"
   ]
  },
  {
   "cell_type": "code",
   "execution_count": 27,
   "id": "2b15d8ff",
   "metadata": {},
   "outputs": [
    {
     "name": "stdout",
     "output_type": "stream",
     "text": [
      "순자\t길동\t길자\t"
     ]
    }
   ],
   "source": [
    "for name in names:\n",
    "    print(name, end='\\t')"
   ]
  },
  {
   "cell_type": "markdown",
   "id": "b77f6ada",
   "metadata": {},
   "source": [
    "# 5절 enumerate\n",
    "- 반복자 또는 순서 객체로 반복문을 처리할 때 사용하는 함수\n",
    "- 리스트, 튜플, 셋을 for문에 사용시"
   ]
  },
  {
   "cell_type": "code",
   "execution_count": 29,
   "id": "2c307b39",
   "metadata": {},
   "outputs": [
    {
     "data": {
      "text/plain": [
       "[(0, '순자'), (1, '길동'), (2, '길자')]"
      ]
     },
     "execution_count": 29,
     "metadata": {},
     "output_type": "execute_result"
    }
   ],
   "source": [
    "list(enumerate (names))"
   ]
  },
  {
   "cell_type": "code",
   "execution_count": 30,
   "id": "e1f81fe5",
   "metadata": {},
   "outputs": [
    {
     "name": "stdout",
     "output_type": "stream",
     "text": [
      "0.순자\t1.길동\t2.길자\t"
     ]
    }
   ],
   "source": [
    "for no, name in enumerate(names):\n",
    "    print(\"{}.{}\".format(no, name), end='\\t')"
   ]
  },
  {
   "cell_type": "code",
   "execution_count": 32,
   "id": "7efb912e",
   "metadata": {},
   "outputs": [
    {
     "name": "stdout",
     "output_type": "stream",
     "text": [
      "1.순자\n",
      "2.길동\n",
      "3.길자\n"
     ]
    }
   ],
   "source": [
    "names = ['순자', '길동', '길자']\n",
    "\n",
    "for idx, name in enumerate(names):\n",
    "    print(\"{}.{}\".format(idx+1,name))"
   ]
  },
  {
   "cell_type": "code",
   "execution_count": 35,
   "id": "88784f75",
   "metadata": {},
   "outputs": [
    {
     "name": "stdout",
     "output_type": "stream",
     "text": [
      "1.순자의 연락처는 010-9999-9999이고 서울 살아요\n",
      "2.길동의 연락처는 010-8888-8888이고 인천 살아요\n",
      "3.길자의 연락처는 010-7777-7777이고 판교 살아요\n"
     ]
    }
   ],
   "source": [
    "names = ['순자', '길동', '길자']\n",
    "tels = ['010-9999-9999', '010-8888-8888','010-7777-7777']\n",
    "adds = ['서울', '인천', '판교']\n",
    "for idx in range(len(names)):\n",
    "    print(\"{}.{}의 연락처는 {}이고 {} 살아요\".format(idx+1, names[idx], tels[idx], adds[idx]))"
   ]
  },
  {
   "cell_type": "code",
   "execution_count": 38,
   "id": "3c9fbb3b",
   "metadata": {},
   "outputs": [
    {
     "name": "stdout",
     "output_type": "stream",
     "text": [
      "홍\n",
      "33\n",
      "신림\n",
      "name:홍\n",
      "age:33\n",
      "address:신림\n"
     ]
    }
   ],
   "source": [
    "my_dic = {'name':'홍','age':33,'address':'신림'}\n",
    "for data in my_dic.values(): # value값들만 추출\n",
    "    print(data)\n",
    "for key, value in my_dic.items(): # key - value값들만 추출\n",
    "    print(\"{}:{}\".format(key, value))"
   ]
  },
  {
   "cell_type": "code",
   "execution_count": 41,
   "id": "6274ffda",
   "metadata": {},
   "outputs": [
    {
     "data": {
      "text/plain": [
       "[(0, ('name', '홍')), (1, ('age', 33)), (2, ('address', '신림'))]"
      ]
     },
     "execution_count": 41,
     "metadata": {},
     "output_type": "execute_result"
    }
   ],
   "source": [
    "list(enumerate(my_dic.items()))"
   ]
  },
  {
   "cell_type": "code",
   "execution_count": 42,
   "id": "a2c9b974",
   "metadata": {},
   "outputs": [
    {
     "name": "stdout",
     "output_type": "stream",
     "text": [
      "1. name : 홍\n",
      "2. age : 33\n",
      "3. address : 신림\n"
     ]
    }
   ],
   "source": [
    "for idx, (key, value) in enumerate(my_dic.items()):\n",
    "    print(\"{}. {} : {}\".format(idx + 1, key, value))"
   ]
  },
  {
   "cell_type": "markdown",
   "id": "5c566dc6",
   "metadata": {},
   "source": [
    "# 6. 연습문제"
   ]
  },
  {
   "cell_type": "code",
   "execution_count": 83,
   "id": "1a46adbc",
   "metadata": {},
   "outputs": [],
   "source": [
    "numbers = [1,2,3,4,5,6,7,8,9,10]"
   ]
  },
  {
   "cell_type": "markdown",
   "id": "bec47a8d",
   "metadata": {},
   "source": [
    "## 1. 숫자 100을 맨 뒤에 추가하세요"
   ]
  },
  {
   "cell_type": "code",
   "execution_count": 84,
   "id": "a7479e1e",
   "metadata": {},
   "outputs": [
    {
     "data": {
      "text/plain": [
       "[1, 2, 3, 4, 5, 6, 7, 8, 9, 10, 100]"
      ]
     },
     "execution_count": 84,
     "metadata": {},
     "output_type": "execute_result"
    }
   ],
   "source": [
    "numbers.append(100)\n",
    "numbers"
   ]
  },
  {
   "cell_type": "markdown",
   "id": "7118653d",
   "metadata": {},
   "source": [
    "## 2. 다음 리스트를 numbers리스트 맨 뒤에 추가하세요"
   ]
  },
  {
   "cell_type": "code",
   "execution_count": 85,
   "id": "31def996",
   "metadata": {},
   "outputs": [
    {
     "data": {
      "text/plain": [
       "[1, 2, 3, 4, 5, 6, 7, 8, 9, 10, 100, 200, 300, 400, 500]"
      ]
     },
     "execution_count": 85,
     "metadata": {},
     "output_type": "execute_result"
    }
   ],
   "source": [
    "data = [200, 300, 400, 500]\n",
    "numbers.extend(data)\n",
    "numbers"
   ]
  },
  {
   "cell_type": "markdown",
   "id": "c2bcef3c",
   "metadata": {},
   "source": [
    "## 3. 처음 다섯 개 숫자만 출력하세요"
   ]
  },
  {
   "cell_type": "code",
   "execution_count": 86,
   "id": "14a7bf3e",
   "metadata": {},
   "outputs": [
    {
     "name": "stdout",
     "output_type": "stream",
     "text": [
      "[1, 2, 3, 4, 5]\n"
     ]
    }
   ],
   "source": [
    "print(numbers[:5])"
   ]
  },
  {
   "cell_type": "markdown",
   "id": "60d9ebd5",
   "metadata": {},
   "source": [
    "## 4. 리스트에서 짝수 번째 데이터만 출력하세요"
   ]
  },
  {
   "cell_type": "code",
   "execution_count": 87,
   "id": "c6042426",
   "metadata": {},
   "outputs": [
    {
     "name": "stdout",
     "output_type": "stream",
     "text": [
      "1 3 5 7 9 100 300 500 "
     ]
    },
    {
     "data": {
      "text/plain": [
       "[1, 3, 5, 7, 9, 100, 300, 500]"
      ]
     },
     "execution_count": 87,
     "metadata": {},
     "output_type": "execute_result"
    }
   ],
   "source": [
    "for idx in range(int(len(numbers)/2)+1):\n",
    "    print(numbers[idx*2], end= ' ')\n",
    "numbers[::2]"
   ]
  },
  {
   "cell_type": "markdown",
   "id": "2205ae31",
   "metadata": {},
   "source": [
    "## 5. 짝수번째 데이터를 모두 0으로 바꾸세요"
   ]
  },
  {
   "cell_type": "code",
   "execution_count": 88,
   "id": "d00c1c07",
   "metadata": {},
   "outputs": [
    {
     "data": {
      "text/plain": [
       "[0, 2, 0, 4, 0, 6, 0, 8, 0, 10, 0, 200, 0, 400, 0]"
      ]
     },
     "execution_count": 88,
     "metadata": {},
     "output_type": "execute_result"
    }
   ],
   "source": [
    "for idx in range(int(len(numbers)/2)+1):\n",
    "    numbers[idx*2] = 0\n",
    "numbers"
   ]
  },
  {
   "cell_type": "markdown",
   "id": "6f9195e5",
   "metadata": {},
   "source": [
    "## 6. 데이터를 역순으로 나열하세요(내림차순 정렬이 아닙니다)"
   ]
  },
  {
   "cell_type": "code",
   "execution_count": 89,
   "id": "eebd81ed",
   "metadata": {},
   "outputs": [
    {
     "data": {
      "text/plain": [
       "[0, 400, 0, 200, 0, 10, 0, 8, 0, 6, 0, 4, 0, 2, 0]"
      ]
     },
     "execution_count": 89,
     "metadata": {},
     "output_type": "execute_result"
    }
   ],
   "source": [
    "numbers[::-1]"
   ]
  },
  {
   "cell_type": "code",
   "execution_count": 2,
   "id": "088800f8",
   "metadata": {},
   "outputs": [],
   "source": [
    "member_info = {'name':'홍길동', 'age':'20', 'address':'서울시 마포구','score':90}"
   ]
  },
  {
   "cell_type": "markdown",
   "id": "76f278f7",
   "metadata": {},
   "source": [
    "## 7. address값을 출력하세요"
   ]
  },
  {
   "cell_type": "code",
   "execution_count": 3,
   "id": "96ca95f5",
   "metadata": {},
   "outputs": [
    {
     "name": "stdout",
     "output_type": "stream",
     "text": [
      "서울시 마포구\n",
      "서울시 마포구\n"
     ]
    }
   ],
   "source": [
    "print(member_info['address'])\n",
    "print(member_info.get('address'))"
   ]
  },
  {
   "cell_type": "markdown",
   "id": "3b1e49ec",
   "metadata": {},
   "source": [
    "## 8. score를 출력하고 member_info 딕셔너리에서 삭제하세요."
   ]
  },
  {
   "cell_type": "code",
   "execution_count": 97,
   "id": "9460ae18",
   "metadata": {},
   "outputs": [
    {
     "name": "stdout",
     "output_type": "stream",
     "text": [
      "90\n"
     ]
    },
    {
     "data": {
      "text/plain": [
       "90"
      ]
     },
     "execution_count": 97,
     "metadata": {},
     "output_type": "execute_result"
    }
   ],
   "source": [
    "print(member_info['score'])\n",
    "member_info.pop('score')"
   ]
  },
  {
   "cell_type": "markdown",
   "id": "8ceb7b00",
   "metadata": {},
   "source": [
    "## 9. Address를 \"서울시 서대문구\"로 변경하세요."
   ]
  },
  {
   "cell_type": "code",
   "execution_count": 98,
   "id": "de6c5492",
   "metadata": {},
   "outputs": [
    {
     "data": {
      "text/plain": [
       "'서울시 서대문구'"
      ]
     },
     "execution_count": 98,
     "metadata": {},
     "output_type": "execute_result"
    }
   ],
   "source": [
    "member_info['address']='서울시 서대문구'\n",
    "member_info['address']"
   ]
  },
  {
   "cell_type": "markdown",
   "id": "606fb53b",
   "metadata": {},
   "source": [
    "## 10. member_info 딕셔너리 데이터의 값을 리스트로 출력하세요"
   ]
  },
  {
   "cell_type": "code",
   "execution_count": 102,
   "id": "cf2aba47",
   "metadata": {},
   "outputs": [
    {
     "data": {
      "text/plain": [
       "['홍길동', '20', '서울시 서대문구']"
      ]
     },
     "execution_count": 102,
     "metadata": {},
     "output_type": "execute_result"
    }
   ],
   "source": [
    "member_values=[]\n",
    "for items in member_info.values():\n",
    "    member_values.append(items)\n",
    "member_values"
   ]
  },
  {
   "cell_type": "markdown",
   "id": "5674d86a",
   "metadata": {},
   "source": [
    "# 연습문제(서술형)"
   ]
  },
  {
   "cell_type": "markdown",
   "id": "f4631cc1",
   "metadata": {},
   "source": [
    "## 1. ['orange', 'banana']"
   ]
  },
  {
   "cell_type": "code",
   "execution_count": 104,
   "id": "b365e1b5",
   "metadata": {},
   "outputs": [
    {
     "name": "stdout",
     "output_type": "stream",
     "text": [
      "['ornage', 'banana']\n"
     ]
    }
   ],
   "source": [
    "L1 = ('orange','apple','banana','kiwi')\n",
    "new_list = [i for i in L1 if len(i)>5]\n",
    "print(new_list)"
   ]
  },
  {
   "cell_type": "markdown",
   "id": "389e4240",
   "metadata": {},
   "source": [
    "## 2. 3"
   ]
  },
  {
   "cell_type": "code",
   "execution_count": 105,
   "id": "d0749672",
   "metadata": {},
   "outputs": [
    {
     "name": "stdout",
     "output_type": "stream",
     "text": [
      "[0, 1, 2, 3, 4, 5, 6, 7, 8, 9]\n",
      "[5, 6, 7, 8, 9]\n",
      "[10, 9, 8, 7, 6, 5, 4, 3, 2, 1]\n",
      "[10, 12, 14, 16, 18]\n"
     ]
    }
   ],
   "source": [
    "print(list(range(10)))\n",
    "print(list(range(5,10)))\n",
    "print(list(range(10,0,-1)))\n",
    "print(list(range(10,20,2)))"
   ]
  },
  {
   "cell_type": "markdown",
   "id": "b2d80d5f",
   "metadata": {},
   "source": [
    "## 3. 1"
   ]
  },
  {
   "cell_type": "code",
   "execution_count": 108,
   "id": "da8b2ce2",
   "metadata": {},
   "outputs": [
    {
     "data": {
      "text/plain": [
       "1"
      ]
     },
     "execution_count": 108,
     "metadata": {},
     "output_type": "execute_result"
    }
   ],
   "source": [
    "numbers_2d = [[1,2,3,4,5],[10,20,30,40],[1,3,5],[2,]]\n",
    "len(numbers_2d[3])"
   ]
  },
  {
   "cell_type": "markdown",
   "id": "4a2de51a",
   "metadata": {},
   "source": [
    "## 4. extend"
   ]
  },
  {
   "cell_type": "code",
   "execution_count": 110,
   "id": "ac664a35",
   "metadata": {},
   "outputs": [
    {
     "data": {
      "text/plain": [
       "[1, 2, 3, 4, 5, 10, 20, 30, 40, 50]"
      ]
     },
     "execution_count": 110,
     "metadata": {},
     "output_type": "execute_result"
    }
   ],
   "source": [
    "numbers=[1,2,3,4,5]\n",
    "numbers.extend([10,20,30,40,50])\n",
    "numbers"
   ]
  },
  {
   "cell_type": "markdown",
   "id": "4c41e5a2",
   "metadata": {},
   "source": [
    "## 5. [0,1,0,3,0,5,0,7,0,9]"
   ]
  },
  {
   "cell_type": "code",
   "execution_count": 111,
   "id": "a494a13a",
   "metadata": {},
   "outputs": [
    {
     "name": "stdout",
     "output_type": "stream",
     "text": [
      "[0, 1, 0, 3, 0, 5, 0, 7, 0, 9]\n"
     ]
    }
   ],
   "source": [
    "numbers = list(range(10))\n",
    "numbers[::2] = [0] * len(numbers[::2])\n",
    "print(numbers)"
   ]
  },
  {
   "cell_type": "markdown",
   "id": "fe520d39",
   "metadata": {},
   "source": [
    "## 6. [5,1,6,3,7,5,8,7,9,9]"
   ]
  },
  {
   "cell_type": "code",
   "execution_count": 113,
   "id": "5b1e6d92",
   "metadata": {},
   "outputs": [
    {
     "name": "stdout",
     "output_type": "stream",
     "text": [
      "[5, 1, 6, 3, 7, 5, 8, 7, 9, 9]\n"
     ]
    }
   ],
   "source": [
    "numbers = [0,1,2,3,4,5,6,7,8,9]\n",
    "numbers[::2] = numbers[5:]\n",
    "print(numbers)"
   ]
  },
  {
   "cell_type": "markdown",
   "id": "4436edce",
   "metadata": {},
   "source": [
    "## 7. [0,1,1,3,2,5,3,7,4,9]"
   ]
  },
  {
   "cell_type": "code",
   "execution_count": 115,
   "id": "c05becd8",
   "metadata": {},
   "outputs": [
    {
     "name": "stdout",
     "output_type": "stream",
     "text": [
      "[0, 1, 1, 3, 2, 5, 3, 7, 4, 9]\n"
     ]
    }
   ],
   "source": [
    "numbers = [0,1,2,3,4,5,6,7,8,9]\n",
    "numbers[::2]=numbers[:5]\n",
    "print(numbers)"
   ]
  },
  {
   "cell_type": "markdown",
   "id": "381a5106",
   "metadata": {},
   "source": [
    "## 8. 1"
   ]
  },
  {
   "cell_type": "code",
   "execution_count": 118,
   "id": "d30758c2",
   "metadata": {},
   "outputs": [
    {
     "name": "stdout",
     "output_type": "stream",
     "text": [
      "10\n",
      "10\n",
      "10\n",
      "10\n"
     ]
    },
    {
     "data": {
      "text/plain": [
       "[('a', 10), ('b', 20), ('c', 30)]"
      ]
     },
     "execution_count": 118,
     "metadata": {},
     "output_type": "execute_result"
    }
   ],
   "source": [
    "my_dic = {'a':10, 'b':20, 'c':30}\n",
    "# print(my_dic[0])\n",
    "print(my_dic['a'])\n",
    "print(list(my_dic.items())[0][1])\n",
    "print(list(my_dic.values())[0])\n",
    "print(my_dic.get('a'))"
   ]
  },
  {
   "cell_type": "markdown",
   "id": "98fb7f35",
   "metadata": {},
   "source": [
    "## 9. apple, banana, orange"
   ]
  },
  {
   "cell_type": "code",
   "execution_count": 122,
   "id": "339f8c60",
   "metadata": {},
   "outputs": [
    {
     "name": "stdout",
     "output_type": "stream",
     "text": [
      "apple\n",
      "banana\n",
      "orange\n"
     ]
    }
   ],
   "source": [
    "fruits = ['apple','banana','orange']\n",
    "x, y, z = fruits\n",
    "print(x)\n",
    "print(y)\n",
    "print(z)"
   ]
  },
  {
   "cell_type": "markdown",
   "id": "82872a26",
   "metadata": {},
   "source": [
    "## 10. 3"
   ]
  },
  {
   "cell_type": "code",
   "execution_count": 121,
   "id": "e49af2e0",
   "metadata": {},
   "outputs": [
    {
     "name": "stdout",
     "output_type": "stream",
     "text": [
      "3\n"
     ]
    }
   ],
   "source": [
    "fruits = ['apple','banana','orange']\n",
    "print(len(fruits))"
   ]
  },
  {
   "cell_type": "markdown",
   "id": "ec891477",
   "metadata": {},
   "source": [
    "## 11. def"
   ]
  }
 ],
 "metadata": {
  "kernelspec": {
   "display_name": "Python 3 (ipykernel)",
   "language": "python",
   "name": "python3"
  },
  "language_info": {
   "codemirror_mode": {
    "name": "ipython",
    "version": 3
   },
   "file_extension": ".py",
   "mimetype": "text/x-python",
   "name": "python",
   "nbconvert_exporter": "python",
   "pygments_lexer": "ipython3",
   "version": "3.10.9"
  },
  "toc": {
   "base_numbering": 1,
   "nav_menu": {},
   "number_sections": false,
   "sideBar": true,
   "skip_h1_title": false,
   "title_cell": "Table of Contents",
   "title_sidebar": "Contents",
   "toc_cell": false,
   "toc_position": {
    "height": "calc(100% - 180px)",
    "left": "10px",
    "top": "150px",
    "width": "220px"
   },
   "toc_section_display": true,
   "toc_window_display": true
  }
 },
 "nbformat": 4,
 "nbformat_minor": 5
}
