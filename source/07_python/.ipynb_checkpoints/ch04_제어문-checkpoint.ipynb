{
 "cells": [
  {
   "cell_type": "markdown",
   "id": "3228c64c",
   "metadata": {},
   "source": [
    "<b><font color=\"red\" size=\"6\">ch04. 제어문</font></b>\n",
    "- if문, for-in문, while문, 중첩 가능, 중첩 루프 탈출"
   ]
  },
  {
   "cell_type": "markdown",
   "id": "44914c15",
   "metadata": {},
   "source": [
    "# 1절. 조건문(if)"
   ]
  },
  {
   "cell_type": "code",
   "execution_count": null,
   "id": "c7f9b009",
   "metadata": {},
   "outputs": [],
   "source": [
    "score = int (input('Enter your score >'))\n",
    "if score >= 90 :\n",
    "    print('참 잘했어요')\n",
    "    print('다음에도 기대할께요')\n",
    "elif score >= 60 :\n",
    "    print('분발하실거죠?')\n",
    "    print('뭐 그래도 고생했어요')\n",
    "else:\n",
    "    print('재시험 응시하셔야 합니다')\n",
    "    print('화이팅')\n",
    "    "
   ]
  },
  {
   "cell_type": "code",
   "execution_count": null,
   "id": "54a3f2cd",
   "metadata": {},
   "outputs": [],
   "source": [
    "# 점수를 입력받아 학점출력(A, B, C, D, F, 유효하지 않은 점수)\n",
    "score = int(input('Enter your score >'))\n",
    "if 90 <= score <= 100:  # if (90<=score) & (score<=100)할 필요 없음\n",
    "    grade = 'A'\n",
    "elif 80 <= score < 90:\n",
    "    grade = 'B'\n",
    "elif 70 <= score < 80:\n",
    "    grade = 'C'\n",
    "elif 60 <= score < 70:\n",
    "    grade = 'D'\n",
    "elif score < 60:\n",
    "    grade = 'F'\n",
    "else:\n",
    "    grade = '유효하지 않은 점수'\n",
    "print(\"입력하신 점수는 {}점이고, {}등급입니다\".format(score, grade))"
   ]
  },
  {
   "cell_type": "markdown",
   "id": "8f894999",
   "metadata": {},
   "source": [
    "# 2절. 반복문\n",
    "## 2.1 for-in문\n",
    "```\n",
    "for 임시변수 in 나열가능한자료:\n",
    "    반복할문장1\n",
    "    반복할문장2\n",
    "else:\n",
    "    나열가능한자료를 다 소요하여 for블록을 다 수행한 후, 최종 한번만 실행할 문장(else 선택사항)\n",
    "    for문안에 break가 있을 경우, else블럭은 수행되지 않음 \n",
    "```"
   ]
  },
  {
   "cell_type": "code",
   "execution_count": null,
   "id": "6ba26573",
   "metadata": {},
   "outputs": [],
   "source": [
    "for i in range(1, 10, 2):\n",
    "    print(i, end='\\t')\n",
    "else:\n",
    "    print('\\nDone')\n",
    "print(\"END\")"
   ]
  },
  {
   "cell_type": "code",
   "execution_count": null,
   "id": "22987af6",
   "metadata": {},
   "outputs": [],
   "source": [
    "for i in range(1, 10, 2):\n",
    "    if i==5:\n",
    "        break\n",
    "    print(i, end='\\t')\n",
    "else:\n",
    "    print('\\nDone')\n",
    "print(\"END\")"
   ]
  },
  {
   "cell_type": "code",
   "execution_count": null,
   "id": "d4986c5a",
   "metadata": {},
   "outputs": [],
   "source": [
    "# 1~100까지 짝수의 합을 계산하고 출력하시오(for문)\n",
    "sum = 0 # 누적변수\n",
    "for i in range(1, 101):\n",
    "    if i%2==0:\n",
    "        sum += i\n",
    "else:\n",
    "    print('1~100까지 짝수의 합은', sum)"
   ]
  },
  {
   "cell_type": "markdown",
   "id": "5465894e",
   "metadata": {},
   "source": [
    "## 2.2 while문\n",
    "```\n",
    "while 조건:\n",
    "    조건이 참일 경우 반복할 문장1\n",
    "    조건이 참일 경우 반복할 문장2...\n",
    "else:\n",
    "    조건이 거짓일 경우 한번 실행할 문장(else구문 선택사항)\n",
    "```"
   ]
  },
  {
   "cell_type": "code",
   "execution_count": null,
   "id": "f3cfb012",
   "metadata": {},
   "outputs": [],
   "source": [
    "# 1~100까지 짝수의 합을 계산하고 출력하시오(while)\n",
    "i = 1\n",
    "sum = 0 # 누적변수\n",
    "while i <= 100:\n",
    "    if i%2==0:\n",
    "        sum += i\n",
    "    i += 1 # ++, -- 증감연산자가 파이썬에서는 없음\n",
    "else:\n",
    "    pass\n",
    "print(\"1~100까지 짝수의 합은\",sum)"
   ]
  },
  {
   "cell_type": "code",
   "execution_count": null,
   "id": "c5fae8ce",
   "metadata": {},
   "outputs": [],
   "source": [
    "# 사용자에게 두 정수 입력받아, 작은수부터 큰수까지 홀수의 합 누적해서 출력\n",
    "num1 = int(input('first num >'))\n",
    "num2 = int(input('second num >'))\n",
    "if (num1>=num2):\n",
    "    temp = num1\n",
    "    num1 = num2\n",
    "    num2 = temp\n",
    "i = num1\n",
    "sum = 0\n",
    "while i <= num2:\n",
    "    if i%2==1:\n",
    "        sum += i\n",
    "    i += 1\n",
    "else:\n",
    "    print(\"{}~{}까지 홀수의 합은 {}\".format(num1, num2, sum))"
   ]
  },
  {
   "cell_type": "code",
   "execution_count": null,
   "id": "2658231c",
   "metadata": {},
   "outputs": [],
   "source": [
    "# ex2. 로또 번호 6개를 추출후, 정렬하여 출력하시오\n",
    "import random\n",
    "# random.seed(7) # seed값이 같으면 랜덤수가 같아짐\n",
    "lotto_lst = []\n",
    "cnt = 0   # 로또 번호 추출 횟수\n",
    "while len(lotto_lst)<6:\n",
    "    temp = random.randint(1, 45) # 임의의 수를 temp변수 \n",
    "    cnt += 1\n",
    "    if temp in lotto_lst:\n",
    "        pass\n",
    "    else:\n",
    "        lotto_lst.append(temp)\n",
    "print(\"6개 로또번호는 {}번 추출함\".format(cnt))\n",
    "print(\"정렬 전 :\", lotto_lst)\n",
    "# 정렬 알고리즘\n",
    "for i in range(len(lotto_lst) - 1):\n",
    "    for j in range(i+1, len(lotto_lst)):\n",
    "        if lotto_lst[i] > lotto_lst[j]:\n",
    "            lotto_lst[i], lotto_lst[j] = lotto_lst[j], lotto_lst[i]\n",
    "    print(\"{}번째까지 : {}\".format(i, lotto_lst[:i+1]))\n",
    "print(\"정렬후 :\", lotto_lst)"
   ]
  },
  {
   "cell_type": "code",
   "execution_count": null,
   "id": "840ad0f4",
   "metadata": {},
   "outputs": [],
   "source": [
    "# ex2. 로또 번호 6개를 추출(2 6 45 21 13 42)\n",
    "import random\n",
    "# random.seed(7) # seed값이 같으면 랜덤수가 같아짐\n",
    "lotto_set=set()\n",
    "cnt = 0 # 로또 번호 추출 횟수\n",
    "while len(lotto_set)<6:\n",
    "    lotto_set.add(random.randint(1,45))\n",
    "    cnt += 1\n",
    "print(\"6개 로또번호는 {}번 추출함\".format(cnt))\n",
    "print(\"정렬 전 :\",lotto_set)\n",
    "# 정렬 알고리즘\n",
    "print(\"정렬 후 :\",sorted(list(lotto_set)))"
   ]
  },
  {
   "cell_type": "code",
   "execution_count": null,
   "id": "67b6edd9",
   "metadata": {},
   "outputs": [],
   "source": [
    "# ex2. 1~45중에 6개 뽑기\n",
    "sorted(random.sample(range(1, 46),6))"
   ]
  },
  {
   "cell_type": "markdown",
   "id": "77c4ed91",
   "metadata": {},
   "source": [
    "## 2.3 break, continue"
   ]
  },
  {
   "cell_type": "code",
   "execution_count": null,
   "id": "7787b9f5",
   "metadata": {},
   "outputs": [],
   "source": [
    "num = 0\n",
    "while num<10:\n",
    "    num += 1\n",
    "    if num==5:\n",
    "        # break\n",
    "        continue\n",
    "    print(num, end=' ')\n",
    "print('DONE')"
   ]
  },
  {
   "cell_type": "code",
   "execution_count": null,
   "id": "d41933c3",
   "metadata": {},
   "outputs": [],
   "source": [
    "# 숫자 찾기 게임\n",
    "'''\n",
    "1~100 사이의 정수를 맞추기 프로그램\n",
    "(프로그램 안에서 random수가 만들어지고 그 random수 맞추기)\n",
    "1단계 : 숫자를 못 맞추면 UP/DOWN을 출력하고 ,맞추면 축하메세지 뿌리고 끝남\n",
    "2단계 : 숫자를 못 맞추면 min~max를 조정, 맞추면 축하메세지 뿌리고 끝남\n",
    "3단계 : 2단계의 기회를 5회 제한, 5회의 기회가 지나면 실패 메세지 뿌리고 끝남\n",
    "(2단계와 3단계 연습문제)\n",
    "'''\n",
    "randomNum = random.randint(1,100)\n",
    "print(\"컴퓨터가 발생한 임의의 수 :\", randomNum)\n",
    "inputNum = 0 # 사용자가 맞출 수가 저장될 변수\n",
    "while True:\n",
    "    inputNum = int(input('1~100 사이의 수를 맞춰 보세요 : '))\n",
    "    if (inputNum<1) | (inputNum>100):\n",
    "        print('수의 범위를 벗어났습니다')\n",
    "    elif randomNum < inputNum:\n",
    "        print('DOWN↓')\n",
    "    elif randomNum > inputNum:\n",
    "        print('UP↑')\n",
    "    else:\n",
    "        print('축하 축하 맞추셨습니다.')\n",
    "        break\n",
    "print('DONE')\n",
    "# randomNum = random.randint(1,100)\n",
    "# print(\"컴퓨터가 발생한 임의의 수 :\", randomNum)\n",
    "# inputNum = 0 # 사용자가 맞출 수가 저장될 변수\n",
    "# while randomNum != inputNum:\n",
    "#     inputNum = int(input('1~100 사이의 수를 맞춰 보세요 : '))\n",
    "#     if (inputNum<1) | (inputNum>100):\n",
    "#         print('수의 범위를 벗어났습니다')\n",
    "#     elif randomNum < inputNum:\n",
    "#         print('DOWN↓')\n",
    "#     elif randomNum > inputNum:\n",
    "#         print('UP↑')\n",
    "#     else:\n",
    "#         print('축하 축하 맞추셨습니다.')\n",
    "# print('DONE')"
   ]
  },
  {
   "cell_type": "markdown",
   "id": "66c773d2",
   "metadata": {},
   "source": [
    "# 3절. 중첩루프\n",
    "(반복문 안 반복문)"
   ]
  },
  {
   "cell_type": "code",
   "execution_count": null,
   "id": "705aacbe",
   "metadata": {},
   "outputs": [],
   "source": [
    "# 2~9단 구구단 출력\n",
    "for i in range(2, 10):\n",
    "    print('{:^6}'.format(str(i) + '단'), end= '\\t')\n",
    "print() # 개행\n",
    "for i in range(1,10):\n",
    "    for j in range(2, 10):\n",
    "\n",
    "        print(\"{}x{}={:>2}\".format(j, i, i*j), end='\\t')\n",
    "    print() # 개행"
   ]
  },
  {
   "cell_type": "code",
   "execution_count": null,
   "id": "2790ebbc",
   "metadata": {},
   "outputs": [],
   "source": [
    "lst = [1,2,3]\n",
    "for i in range(len(lst)):\n",
    "    print(\"{}:{}\".format(i, lst[i]), end='\\t')\n",
    "print('\\n데이터만 출력')\n",
    "for l in lst:\n",
    "    print(l,end='\\t')"
   ]
  },
  {
   "cell_type": "code",
   "execution_count": null,
   "id": "37516a97",
   "metadata": {},
   "outputs": [],
   "source": [
    "lst_2d = [[1,2,3,4],\n",
    "         [5,6,7,8],\n",
    "         [1,2,3,4],] # 논리적으로 3행 4열\n",
    "for i in range(len(lst_2d)):\n",
    "    for j in range(len(lst_2d[i])):\n",
    "        print(\"{}행{}열:{}\".format(i,j,lst_2d[i][j]), end='\\t')\n",
    "    print() # 개행\n",
    "print('데이터만 출력')\n",
    "for row in lst_2d:\n",
    "    for data in row:\n",
    "        print(data, end='\\t')\n",
    "    print() #개행"
   ]
  },
  {
   "cell_type": "code",
   "execution_count": null,
   "id": "6b6407f9",
   "metadata": {},
   "outputs": [],
   "source": [
    "lst_3d = [\n",
    "    [[1,2,3,4.0],\n",
    "    [5,6,7,8],\n",
    "    [1,2,3,4],],\n",
    "    [[1,2,3,4],\n",
    "    [5,6,7,8],\n",
    "    [1,2,3,4],] # 논리적으로 2면 3행 4열     \n",
    "]\n",
    "for i in range(len(lst_3d)):\n",
    "    for j in range(len(lst_3d[i])):\n",
    "        for k in range(len(lst_3d[i][j])):\n",
    "            print('{}면{}행{}열:{}'.format(i, j, k, lst_3d[i][j][k]), end='\\t')\n",
    "        print() #개행\n",
    "    print('-------------------------------------------')"
   ]
  },
  {
   "cell_type": "code",
   "execution_count": null,
   "id": "09b0270f",
   "metadata": {},
   "outputs": [],
   "source": [
    "print('데이터만')    \n",
    "for face in lst_3d:\n",
    "    for row in face:\n",
    "        for data in row:\n",
    "            print(data, end='\\t')\n",
    "        print()# 개행\n",
    "    print('------------------------')"
   ]
  },
  {
   "cell_type": "markdown",
   "id": "feb492d1",
   "metadata": {},
   "source": [
    "# 4절. 중첩루프 탈출"
   ]
  },
  {
   "cell_type": "code",
   "execution_count": null,
   "id": "59643eed",
   "metadata": {},
   "outputs": [],
   "source": [
    "for a in range(0,3): # a<=0, 1, 2\n",
    "    for b in range(1, 3): # b<=1, 2\n",
    "        if a==b:\n",
    "            break # break를 만나면 안쪽 반복문 탈출\n",
    "        print(a, b)\n",
    "print('DONE')"
   ]
  },
  {
   "cell_type": "code",
   "execution_count": 5,
   "id": "cd071c92",
   "metadata": {},
   "outputs": [
    {
     "name": "stdout",
     "output_type": "stream",
     "text": [
      "0 1\n",
      "0 2\n",
      "DONE\n"
     ]
    }
   ],
   "source": [
    "# 중첩 루프 탈출 : 방법 1 플래그 변수 이용\n",
    "flag = False # break를 만나면 True\n",
    "for a in range(0,3): # a<=0, 1, 2\n",
    "    for b in range(1, 3): # b<=1, 2\n",
    "        if a==b:\n",
    "            flag = True\n",
    "            break # break를 만나면 안쪽 반복문 탈출\n",
    "        print(a, b)\n",
    "    if flag:\n",
    "        break\n",
    "print('DONE')"
   ]
  },
  {
   "cell_type": "code",
   "execution_count": 1,
   "id": "01a90521",
   "metadata": {},
   "outputs": [],
   "source": [
    "# 중첩 루프 탈출 : 방법 2. Exception 이용"
   ]
  },
  {
   "cell_type": "code",
   "execution_count": 2,
   "id": "32698c62",
   "metadata": {},
   "outputs": [],
   "source": [
    "# Exception을 상속받은 BreakOutLoopException 클래스 생성\n",
    "class BreakOutLoopException(Exception):\n",
    "    pass"
   ]
  },
  {
   "cell_type": "code",
   "execution_count": 6,
   "id": "c6131160",
   "metadata": {},
   "outputs": [
    {
     "name": "stdout",
     "output_type": "stream",
     "text": [
      "0 1\n",
      "0 2\n",
      "DONE\n"
     ]
    }
   ],
   "source": [
    "try:\n",
    "    for a in range(0,3): # a<=0, 1, 2\n",
    "        for b in range(1, 3): # b<=1, 2\n",
    "            if a==b:\n",
    "                raise BreakOutLoopException # 강제 예외 발생\n",
    "            print(a, b)\n",
    "except BreakOutLoopException:\n",
    "        # break를 만나면 오는 곳\n",
    "    print('DONE')"
   ]
  },
  {
   "cell_type": "markdown",
   "id": "2a5c6690",
   "metadata": {},
   "source": [
    "# 5. 연습문제"
   ]
  },
  {
   "cell_type": "code",
   "execution_count": 26,
   "id": "b3301522",
   "metadata": {},
   "outputs": [
    {
     "name": "stdout",
     "output_type": "stream",
     "text": [
      "양의 정수를 입력하세요 >5\n",
      "Done\n"
     ]
    }
   ],
   "source": [
    "#1. 양의 정수를 입력 받아 홀수인지 짝수인지를 판별하는 프로그램을 작성하세요. 양의 정수가 아니면 숫자를 다시 입력 받아야 합니다.\n",
    "num = -1\n",
    "while (float(num)<0) | (float(num)%1!=0):\n",
    "    num = input('양의 정수를 입력하세요 >')\n",
    "print('Done')"
   ]
  },
  {
   "cell_type": "code",
   "execution_count": 32,
   "id": "98f25840",
   "metadata": {},
   "outputs": [
    {
     "name": "stdout",
     "output_type": "stream",
     "text": [
      "*****\n",
      "*****\n",
      "*****\n",
      "*****\n",
      "*****\n",
      "*\n",
      "**\n",
      "***\n",
      "****\n",
      "*****\n"
     ]
    }
   ],
   "source": [
    "#2-1. 중첩for문을 이용하여 아래 패턴의 별을 출력하는 프로그램을 작성하세요\n",
    "for i in range(5):\n",
    "    for j in range(5):\n",
    "        print('*',end='')\n",
    "    print()\n",
    "#2-2\n",
    "for i in range(5):\n",
    "    for j in range(i+1):\n",
    "        print('*',end='')\n",
    "    print()"
   ]
  },
  {
   "cell_type": "code",
   "execution_count": 37,
   "id": "e0ab77d3",
   "metadata": {},
   "outputs": [
    {
     "name": "stdout",
     "output_type": "stream",
     "text": [
      "0\n",
      "3\n",
      "6\n",
      "9\n",
      "12\n",
      "15\n",
      "18\n",
      "21\n",
      "24\n",
      "27\n",
      "30\n",
      "165\n"
     ]
    }
   ],
   "source": [
    "#3. 다음 코드는 1부터 30까지(30포함) 자연수 중에서 3의 배수의 총 합을 출력하는 프로그램입니다. 빈칸의 코드를 완성하시오.\n",
    "sum = 0\n",
    "for i in range(31):\n",
    "    if i%3==0:\n",
    "        sum = sum +i\n",
    "    else:\n",
    "        pass\n",
    "print(sum)"
   ]
  },
  {
   "cell_type": "code",
   "execution_count": 39,
   "id": "8c049a0b",
   "metadata": {},
   "outputs": [
    {
     "name": "stdout",
     "output_type": "stream",
     "text": [
      "1 3 5 7 9 "
     ]
    }
   ],
   "source": [
    "#4. 다음 코드의 실행결과가 “1 3 5 7 9”가 되도록 빈칸을 완성하시오\n",
    "num = 0\n",
    "while num <= 10:\n",
    "    if num%2 == 1:\n",
    "        print(num, end=' ')\n",
    "    num += 1"
   ]
  },
  {
   "cell_type": "code",
   "execution_count": 41,
   "id": "ba1f8c16",
   "metadata": {},
   "outputs": [
    {
     "name": "stdout",
     "output_type": "stream",
     "text": [
      "1 2 3 \n",
      "4 5 6 7 \n",
      "8 9 \n"
     ]
    }
   ],
   "source": [
    "#5. 다음 2차원 리스트의 모든 값을 출력하는 코드입니다. 빈칸을 완성하시오.\n",
    "list2d = [ [1,2,3],[4,5,6,7],[8,9]]\n",
    "for row in list2d:\n",
    "    for data in row:\n",
    "        print(data, end=' ')\n",
    "    print()"
   ]
  },
  {
   "cell_type": "code",
   "execution_count": 44,
   "id": "44e2c4c0",
   "metadata": {},
   "outputs": [
    {
     "name": "stdout",
     "output_type": "stream",
     "text": [
      "0 apple\n",
      "1 banana\n"
     ]
    }
   ],
   "source": [
    "#6. 다음 빈칸에 들어갈 함수 이름은?\n",
    "colors = {\"red\":'apple', \"yellow\":'banana'}\n",
    "for i, v in enumerate(colors.values()):\n",
    "    print(i, v)"
   ]
  },
  {
   "cell_type": "code",
   "execution_count": 46,
   "id": "63035fee",
   "metadata": {},
   "outputs": [
    {
     "name": "stdout",
     "output_type": "stream",
     "text": [
      "1 0\n"
     ]
    }
   ],
   "source": [
    "#7. 다음 코드의 실행결과는? 1 0\n",
    "for i in range(0, 2):\n",
    "    for j in range(0,2):\n",
    "        if i==j:\n",
    "            break\n",
    "        print(i, j)"
   ]
  },
  {
   "cell_type": "code",
   "execution_count": 47,
   "id": "60202d5e",
   "metadata": {},
   "outputs": [
    {
     "name": "stdout",
     "output_type": "stream",
     "text": [
      "0 0\n",
      "1 0\n",
      "1 1\n"
     ]
    }
   ],
   "source": [
    "#8. 다음 코드의 실행 결과로 출력될 수 없는 것은? 0 1\n",
    "for i in range(0, 2):\n",
    "    for j in range(0,2):\n",
    "        print(i, j)\n",
    "        if i==j:\n",
    "            break"
   ]
  },
  {
   "cell_type": "code",
   "execution_count": 48,
   "id": "8997a89e",
   "metadata": {},
   "outputs": [
    {
     "name": "stdout",
     "output_type": "stream",
     "text": [
      "3 5 7 9 "
     ]
    }
   ],
   "source": [
    "#9. 다음 코드의 실행결과는? 3 5 7 9\n",
    "L = [3, 4, 5, 6, 7, 8, 9, 10]\n",
    "for i, data in enumerate(L):\n",
    "    if (i%2 == 0):\n",
    "        print(data, end=' ')"
   ]
  },
  {
   "cell_type": "code",
   "execution_count": 51,
   "id": "788b03b8",
   "metadata": {},
   "outputs": [
    {
     "name": "stdout",
     "output_type": "stream",
     "text": [
      "컴퓨터가 발생한 임의의 수 : 67\n",
      "1~100 사이의 수를 맞춰 보세요 : 1\n",
      "UP↑\n",
      "2~100 사이의 수를 맞춰 보세요 : 67\n",
      "축하 축하 맞추셨습니다.\n",
      "DONE\n"
     ]
    }
   ],
   "source": [
    "#2단계\n",
    "import random\n",
    "randomNum = random.randint(1,100)\n",
    "print(\"컴퓨터가 발생한 임의의 수 :\", randomNum)\n",
    "inputNum = 0 # 사용자가 맞출 수가 저장될 변수\n",
    "max_num = 100\n",
    "min_num = 1\n",
    "while True:\n",
    "    inputNum = int(input('{}~{} 사이의 수를 맞춰 보세요 : '.format(min_num,max_num)))\n",
    "    if (inputNum<1) | (inputNum>100):\n",
    "        print('수의 범위를 벗어났습니다')\n",
    "    elif randomNum < inputNum:\n",
    "        print('DOWN↓')\n",
    "        max_num = inputNum-1\n",
    "    elif randomNum > inputNum:\n",
    "        print('UP↑')\n",
    "        min_num = inputNum+1\n",
    "    else:\n",
    "        print('축하 축하 맞추셨습니다.')\n",
    "        break\n",
    "print('DONE')"
   ]
  },
  {
   "cell_type": "code",
   "execution_count": 53,
   "id": "36b8757d",
   "metadata": {},
   "outputs": [
    {
     "name": "stdout",
     "output_type": "stream",
     "text": [
      "컴퓨터가 발생한 임의의 수 : 9\n",
      "1~100 사이의 수를 맞춰 보세요(남은 기회는 5번) : 44\n",
      "DOWN↓\n",
      "1~43 사이의 수를 맞춰 보세요(남은 기회는 4번) : 88\n",
      "DOWN↓\n",
      "1~87 사이의 수를 맞춰 보세요(남은 기회는 3번) : 77\n",
      "DOWN↓\n",
      "1~76 사이의 수를 맞춰 보세요(남은 기회는 2번) : 22\n",
      "DOWN↓\n",
      "1~21 사이의 수를 맞춰 보세요(남은 기회는 1번) : 33\n",
      "DOWN↓\n",
      "기회를 모두 사용하셨습니다. 실패하셨습니다\n",
      "DONE\n"
     ]
    }
   ],
   "source": [
    "#3단계\n",
    "import random\n",
    "randomNum = random.randint(1,100)\n",
    "print(\"컴퓨터가 발생한 임의의 수 :\", randomNum)\n",
    "inputNum = 0 # 사용자가 맞출 수가 저장될 변수\n",
    "max_num = 100\n",
    "min_num = 1\n",
    "cnt=5;\n",
    "while cnt>0:\n",
    "    inputNum = int(input('{}~{} 사이의 수를 맞춰 보세요(남은 기회는 {}번) : '.format(min_num,max_num,cnt)))\n",
    "    if (inputNum<1) | (inputNum>100):\n",
    "        print('수의 범위를 벗어났습니다')\n",
    "    elif randomNum < inputNum:\n",
    "        print('DOWN↓')\n",
    "        max_num = inputNum-1\n",
    "    elif randomNum > inputNum:\n",
    "        print('UP↑')\n",
    "        min_num = inputNum+1\n",
    "    else:\n",
    "        print('축하 축하 맞추셨습니다.')\n",
    "        break\n",
    "    cnt -= 1\n",
    "if cnt == 0:\n",
    "    print('기회를 모두 사용하셨습니다. 실패하셨습니다')\n",
    "print('DONE')"
   ]
  }
 ],
 "metadata": {
  "kernelspec": {
   "display_name": "Python 3 (ipykernel)",
   "language": "python",
   "name": "python3"
  },
  "language_info": {
   "codemirror_mode": {
    "name": "ipython",
    "version": 3
   },
   "file_extension": ".py",
   "mimetype": "text/x-python",
   "name": "python",
   "nbconvert_exporter": "python",
   "pygments_lexer": "ipython3",
   "version": "3.10.9"
  },
  "toc": {
   "base_numbering": 1,
   "nav_menu": {},
   "number_sections": true,
   "sideBar": true,
   "skip_h1_title": false,
   "title_cell": "Table of Contents",
   "title_sidebar": "Contents",
   "toc_cell": false,
   "toc_position": {
    "height": "calc(100% - 180px)",
    "left": "10px",
    "top": "150px",
    "width": "165px"
   },
   "toc_section_display": true,
   "toc_window_display": true
  }
 },
 "nbformat": 4,
 "nbformat_minor": 5
}
