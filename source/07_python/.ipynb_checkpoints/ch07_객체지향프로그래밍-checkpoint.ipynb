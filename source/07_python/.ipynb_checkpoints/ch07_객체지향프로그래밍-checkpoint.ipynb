{
 "cells": [
  {
   "cell_type": "markdown",
   "id": "eae2486b",
   "metadata": {},
   "source": [
    "<b><font size=\"6\" color=\"red\">ch07. 객체지향프로그래밍</font></b>"
   ]
  },
  {
   "cell_type": "markdown",
   "id": "29097f06",
   "metadata": {},
   "source": [
    "# 1절. 객체와 클래스\n",
    "```\n",
    "class 클래스명(상속받을 클래스명):\n",
    "    변수나 함수들\n",
    "```"
   ]
  },
  {
   "cell_type": "code",
   "execution_count": null,
   "id": "0a424c8d",
   "metadata": {},
   "outputs": [],
   "source": [
    "class Person:\n",
    "    '''\n",
    "    Person 어쩌구 저쩌구 설명하는 독스트링\n",
    "    class Person{}\n",
    "    '''\n",
    "    pass\n",
    "p = Person()"
   ]
  },
  {
   "cell_type": "code",
   "execution_count": null,
   "id": "36329c5b",
   "metadata": {},
   "outputs": [],
   "source": [
    "type(p)"
   ]
  },
  {
   "cell_type": "code",
   "execution_count": null,
   "id": "3fec0abb",
   "metadata": {},
   "outputs": [],
   "source": [
    "print(p)"
   ]
  },
  {
   "cell_type": "code",
   "execution_count": null,
   "id": "fd56b3e5",
   "metadata": {},
   "outputs": [],
   "source": [
    "isinstance(p, Person)"
   ]
  },
  {
   "cell_type": "code",
   "execution_count": null,
   "id": "7cbac06a",
   "metadata": {},
   "outputs": [],
   "source": [
    "print(p.__doc__)"
   ]
  },
  {
   "cell_type": "markdown",
   "id": "6de8a405",
   "metadata": {},
   "source": [
    "# 2절. 변수와 메소드\n",
    "- 클래스변수 vs. 인스턴스변수 vs. static 변수\n",
    "- 인스턴스메소드 vs static메소드 vs 클래스메소드"
   ]
  },
  {
   "cell_type": "code",
   "execution_count": null,
   "id": "796f3610",
   "metadata": {},
   "outputs": [],
   "source": [
    "# 클래스 변수 추가 : 클래스 내부에 선언되며,\n",
    "# 생성된 못든 인스턴스에서 동일한 값 가진다.\n",
    "# 클래스명.클래스변수를 수정하면 모든 인스턴스에 반영될 수 있음\n",
    "# 인스턴스.클래스변수로 수정하면 해당 인스턴스에만 반영됨\n",
    "class Person:\n",
    "    name = '홍길동'\n",
    "    gender = '남자'\n",
    "print(Person.name, Person.gender)\n",
    "print(Person)"
   ]
  },
  {
   "cell_type": "code",
   "execution_count": null,
   "id": "7f595a45",
   "metadata": {},
   "outputs": [],
   "source": [
    "p1 = Person()\n",
    "p2 = Person()\n",
    "print('클래스 영역 변수 :', Person.name, Person.gender)\n",
    "print('p1객체의 변수 :', p1.name, p1.gender)\n",
    "print('p2객체의 변수 :', p2.name, p2.gender)"
   ]
  },
  {
   "cell_type": "code",
   "execution_count": null,
   "id": "b380df17",
   "metadata": {},
   "outputs": [],
   "source": [
    "p1.name = '이순신'\n",
    "print('클래스 영역 변수 :', Person.name, Person.gender)\n",
    "print('p1객체의 변수 :', p1.name, p1.gender)\n",
    "print('p2객체의 변수 :', p2.name, p2.gender)"
   ]
  },
  {
   "cell_type": "code",
   "execution_count": null,
   "id": "ba5e707a",
   "metadata": {},
   "outputs": [],
   "source": [
    "Person.name = '유관순'\n",
    "Person.gender = '여자'\n",
    "print('클래스 영역 변수 :', Person.name, Person.gender)\n",
    "print('p1객체의 변수 :', p1.name, p1.gender)\n",
    "print('p2객체의 변수 :', p2.name, p2.gender)"
   ]
  },
  {
   "cell_type": "code",
   "execution_count": null,
   "id": "068f0330",
   "metadata": {},
   "outputs": [],
   "source": [
    "# 메소드 추가\n",
    "class Person:\n",
    "    name = '홍길동'\n",
    "    gender = '남자'\n",
    "    def print_info():\n",
    "        print('Person 메소드')\n",
    "        print(\"{}은 {}입니다\".format(Person.name, Person.gender))"
   ]
  },
  {
   "cell_type": "code",
   "execution_count": null,
   "id": "e254027c",
   "metadata": {},
   "outputs": [],
   "source": [
    "print(Person.name, Person.gender)\n",
    "Person.print_info()"
   ]
  },
  {
   "cell_type": "code",
   "execution_count": null,
   "id": "f68f8e52",
   "metadata": {},
   "outputs": [],
   "source": [
    "p1 = Person()\n",
    "p1.name = '유관순'\n",
    "p1.gender = '여자'\n",
    "print('클래스 영역 :',Person.name, Person.gender)\n",
    "print('객체 영역 :',p1.name, p1.gender)\n",
    "p1.print_info()"
   ]
  },
  {
   "cell_type": "code",
   "execution_count": null,
   "id": "c3f80272",
   "metadata": {},
   "outputs": [],
   "source": [
    "# 에러나는 이유는 인스턴스 메소드도 아니고, 클래스 메소드도 아니고 staticmethod도 아님\n",
    "# staticmethod처럼 실행은 가능"
   ]
  },
  {
   "cell_type": "markdown",
   "id": "3cba1aff",
   "metadata": {},
   "source": [
    "※ 인스턴스 메소드 & 클래스 메소드 & static 메소드\n",
    "- 인스턴스 메소드 : 첫번째 인자에 self를 꼭 명시. 객체를 통해서만 호출할 메소드\n",
    "- 클래스 메소드 : @classmethod 선언한 메소드. 첫번째 인자에 cls(clz) 꼭 명시\n",
    "- static 메소드 : 메소드 위에 @staticmethod 선언한 메소드. 디폴트 인자를 넣지 않음"
   ]
  },
  {
   "cell_type": "code",
   "execution_count": null,
   "id": "62e26d9e",
   "metadata": {},
   "outputs": [],
   "source": [
    "# 인스턴스 메소드(객체가 호출할 수 있는 함수)\n",
    "class Person:\n",
    "    name = \"홍길동\"\n",
    "    gender = \"남자\"\n",
    "    age = 30\n",
    "    # 인스턴스 메소드 선언시 첫번째 인자에 self넣고 선언.\n",
    "    # 실제 호출시에는 매개변수 self 이용 안함. self의 의미는 자바에서의 this\n",
    "    def print_info(self):\n",
    "        print('인스턴스 정보 : {}는 {}살이고, {}입니다.'.format(self.name, self.age, self.gender))\n",
    "        print('클래스 정보 : {}는 {}살이고, {}입니다.'.format(Person.name, Person.age, Person.gender))\n",
    "    "
   ]
  },
  {
   "cell_type": "code",
   "execution_count": null,
   "id": "40e22f70",
   "metadata": {},
   "outputs": [],
   "source": [
    "print(Person.name, Person.gender, Person.age)\n",
    "p1 = Person()\n",
    "p2 = Person()\n",
    "p1.name = \"신사임당\"\n",
    "p1.print_info()"
   ]
  },
  {
   "cell_type": "code",
   "execution_count": null,
   "id": "8e0bf9e9",
   "metadata": {},
   "outputs": [],
   "source": [
    "Person.print_info(p1)  # 이렇게는 거의 안 써요"
   ]
  },
  {
   "cell_type": "code",
   "execution_count": null,
   "id": "a9c49a3d",
   "metadata": {},
   "outputs": [],
   "source": [
    "p2.print_info()"
   ]
  },
  {
   "cell_type": "code",
   "execution_count": null,
   "id": "5e45d54c",
   "metadata": {},
   "outputs": [],
   "source": [
    "# 객체의 변수를 추가\n",
    "p1.address = \"서울시\"\n",
    "p1.nickname = \"곰돌이 푸\""
   ]
  },
  {
   "cell_type": "code",
   "execution_count": null,
   "id": "43954d44",
   "metadata": {},
   "outputs": [],
   "source": [
    "print(p1.name, p1.gender, p1.age, p1.address, p1.nickname)\n",
    "print(p2.name, p2.gender, p2.age)"
   ]
  },
  {
   "cell_type": "code",
   "execution_count": null,
   "id": "89165307",
   "metadata": {},
   "outputs": [],
   "source": [
    "p1.print_info()"
   ]
  },
  {
   "cell_type": "code",
   "execution_count": null,
   "id": "b3bbf292",
   "metadata": {},
   "outputs": [],
   "source": [
    "# 3가지 메소드를 다 사용\n",
    "class Person:\n",
    "    name = \"홍길동\"\n",
    "    gender = \"남자\"\n",
    "    def print_info(self): # 변수.print_info()로 호출\n",
    "        print(\"일반(인스턴스=객체) 메소드) - {}는 {}입니다\".format(self.name, self.gender))\n",
    "    def change_info(self, name, gender=\"남자\"): # 변수.change_info(\"신길숙\", \"여자\")로 호출\n",
    "        self.name = name\n",
    "        self.gender = gender\n",
    "        print(\"일반(인스턴스) 메소드를 통해 {}로 이름 변경 완료\".format(self.name))\n",
    "    @classmethod\n",
    "    def do_(clz): # clz == Person. 클래스 변수를 이용한 로직\n",
    "        clz.name = '신사임당' # 클래스영역의 클래스 변수 수정\n",
    "        clz.gender = '여자'\n",
    "        print(\"클래스 메소드 - {}는 {}입니다.\".format(clz.name, clz.gender))\n",
    "    @staticmethod\n",
    "    def that_(): # 클래스 변수를 이용하는 경우보다는 로직이 우선일 경우\n",
    "        print(\"static 메소드 - {}는 {}입니다\".format(Person.name, Person.gender))"
   ]
  },
  {
   "cell_type": "code",
   "execution_count": null,
   "id": "a4f14065",
   "metadata": {},
   "outputs": [],
   "source": [
    "p1 = Person()\n",
    "p1.print_info()\n",
    "p1.change_info(\"이순신\", \"남자\")\n",
    "p1.print_info()"
   ]
  },
  {
   "cell_type": "code",
   "execution_count": null,
   "id": "23e4f153",
   "metadata": {},
   "outputs": [],
   "source": [
    "Person.do_() # 클래스 변수 수정\n",
    "p1.print_info()"
   ]
  },
  {
   "cell_type": "code",
   "execution_count": null,
   "id": "4ca9396f",
   "metadata": {},
   "outputs": [],
   "source": [
    "p2 = Person()\n",
    "p2.print_info()"
   ]
  },
  {
   "cell_type": "code",
   "execution_count": null,
   "id": "0f2fea71",
   "metadata": {},
   "outputs": [],
   "source": [
    "Person.that_() # 클래스 변수 수정"
   ]
  },
  {
   "cell_type": "code",
   "execution_count": null,
   "id": "d8a8d10c",
   "metadata": {},
   "outputs": [],
   "source": [
    "p2.print_info()"
   ]
  },
  {
   "cell_type": "code",
   "execution_count": null,
   "id": "8a3cd8ec",
   "metadata": {},
   "outputs": [],
   "source": [
    "Person.do_()\n",
    "p2.print_info()"
   ]
  },
  {
   "cell_type": "code",
   "execution_count": null,
   "id": "304801d9",
   "metadata": {},
   "outputs": [],
   "source": [
    "p2.age = 30"
   ]
  },
  {
   "cell_type": "code",
   "execution_count": null,
   "id": "82eb4705",
   "metadata": {},
   "outputs": [],
   "source": [
    "p1.print_info()\n",
    "p2.print_info()"
   ]
  },
  {
   "cell_type": "markdown",
   "id": "2ec7ea1b",
   "metadata": {},
   "source": [
    "# 3절. 생성자(__init__)와 소멸자(__del__)\n",
    "```\n",
    "생성자 : __init__(self, 매개변수...) 객체가 생성될 때 자동 실행\n",
    "        생성시 필요한 코드(인스턴스 변수 초기화)를 포함\n",
    "소멸자 : __del__(self) : 객체가 소멸될 때 자동 실행\n",
    "        소멸시 필요한 코드를 포함\n",
    "        인스턴스 객체의 레퍼런스 카운트가 0이 될 때 실행\n",
    "```"
   ]
  },
  {
   "cell_type": "code",
   "execution_count": null,
   "id": "c5a18573",
   "metadata": {},
   "outputs": [],
   "source": [
    "class Person:\n",
    "    # 생성자를 이용한 인스턴스 변수 초기화\n",
    "    def __init__(self, name = '홍길동', gender='남자'):\n",
    "        self.name = name # 인스턴스 변수\n",
    "        self.gender = gender\n",
    "        print('Person 객체를 생성합니다')\n",
    "        \n",
    "    def __del__(self):\n",
    "        print('Person 객체를 소멸합니다')\n",
    "        \n",
    "    def print_info(self):\n",
    "        print(\"{}는 {}입니다\".format(self.name, self.gender))\n",
    "        \n",
    "    def __str__(self):\n",
    "       return \"%s는 %s\" % (self.name, self.gender)"
   ]
  },
  {
   "cell_type": "code",
   "execution_count": null,
   "id": "606481f3",
   "metadata": {},
   "outputs": [],
   "source": [
    "p1 = Person(\"홍길동\",\"남자\")\n",
    "p2 = Person(gender=\"여자\", name=\"홍길숙\")\n",
    "p3 = Person(\"신길동\") # 성별은 기본값 '남자'로 생성\n",
    "p4 = Person(gender=\"여자\") # 이름은 기본값 '홍길동'으로 생성\n",
    "p5 = Person()"
   ]
  },
  {
   "cell_type": "code",
   "execution_count": null,
   "id": "c7088689",
   "metadata": {},
   "outputs": [],
   "source": [
    "id(p1), id(p2), id(p3), id(p4), id(p5)"
   ]
  },
  {
   "cell_type": "code",
   "execution_count": null,
   "id": "661da030",
   "metadata": {},
   "outputs": [],
   "source": [
    "p1.print_info()\n",
    "p2.print_info()\n",
    "p3.print_info()\n",
    "p4.print_info()\n",
    "p5.print_info()"
   ]
  },
  {
   "cell_type": "code",
   "execution_count": null,
   "id": "0a7e754f",
   "metadata": {},
   "outputs": [],
   "source": [
    "print('p1 =',p1) # p1.__str__() 자동 호출\n",
    "print('p2 =',p2)\n",
    "print('p3 =',p3)\n",
    "print('p4 =',p4)\n",
    "print('p5 =',p5)"
   ]
  },
  {
   "cell_type": "code",
   "execution_count": null,
   "id": "5685a1ed",
   "metadata": {},
   "outputs": [],
   "source": [
    "del p5"
   ]
  },
  {
   "cell_type": "code",
   "execution_count": null,
   "id": "e1cc0a56",
   "metadata": {},
   "outputs": [],
   "source": [
    "del p2, p3, p4"
   ]
  },
  {
   "cell_type": "code",
   "execution_count": null,
   "id": "36b2cd6e",
   "metadata": {},
   "outputs": [],
   "source": [
    "print(p1)"
   ]
  },
  {
   "cell_type": "code",
   "execution_count": null,
   "id": "73a1d465",
   "metadata": {},
   "outputs": [],
   "source": [
    "p2 = p1"
   ]
  },
  {
   "cell_type": "code",
   "execution_count": null,
   "id": "1e132864",
   "metadata": {},
   "outputs": [],
   "source": [
    "id(p1), id(p2) # 한객체를 두 인스턴스 변수가 참조(객체의 레퍼런스 카운트가 2)"
   ]
  },
  {
   "cell_type": "code",
   "execution_count": null,
   "id": "f06bffc8",
   "metadata": {},
   "outputs": [],
   "source": [
    "del p1 # 객체 레퍼런스 카운트가 1이여서 소멸자 생성 안 함"
   ]
  },
  {
   "cell_type": "code",
   "execution_count": null,
   "id": "fd908e78",
   "metadata": {},
   "outputs": [],
   "source": [
    "del p2"
   ]
  },
  {
   "cell_type": "markdown",
   "id": "eab27572",
   "metadata": {},
   "source": [
    "# 4절. static 변수\n",
    "- 변수종류 :\n",
    "    * 인스턴스변수 : 생성자를 통함\n",
    "    * 클래스변수 : 클래스내선언\n",
    "    * static 변수 : 클래스 내에 선언한 변수 중 변수명앞에 __(under score 2개)를 붙임\n",
    "```\n",
    "            변수명앞에 __을 붙이면, 클래스명._클래스명__static변수명으로 참조함\n",
    "            클래스 변수는 클래스나 인스턴스에서 바로 접근 가능.\n",
    "            반면, __로 시작하는 변수는 바로 접근 불가 클래스명._클래스명__static변수명으로 접근\n",
    "```"
   ]
  },
  {
   "cell_type": "code",
   "execution_count": null,
   "id": "746d5fda",
   "metadata": {},
   "outputs": [],
   "source": [
    "class Person:\n",
    "    name = \"홍길동\"\n",
    "    __count = 0\n",
    "p = Person()\n",
    "p.name"
   ]
  },
  {
   "cell_type": "code",
   "execution_count": null,
   "id": "d0a19658",
   "metadata": {},
   "outputs": [],
   "source": [
    "Person._Person__count"
   ]
  },
  {
   "cell_type": "markdown",
   "id": "2fb10f8f",
   "metadata": {},
   "source": [
    "# 5절. 상속과 재정의"
   ]
  },
  {
   "cell_type": "code",
   "execution_count": null,
   "id": "ffc28464",
   "metadata": {},
   "outputs": [],
   "source": [
    "class Cal:\n",
    "    def __init__(self, num1=1, num2=2):\n",
    "        print('두수를 초기화')\n",
    "        self.num1 = num1\n",
    "        self.num2 = num2\n",
    "    def add(self):\n",
    "        return self.num1+self.num2\n",
    "    def sub(self):\n",
    "        return self.num1-self.num2 if self.num1>self.num2 else self.num2-self.num1\n",
    "#         if self.num1>self.num2:\n",
    "#             return self.num1-self.num2\n",
    "#         else:\n",
    "#             return self.num2-self.num1\n",
    "    def __str__(self):\n",
    "        return 'num1은 %d, num2는 %d' % (self.num1, self.num2)\n",
    "    \n",
    "class Cal_inherit(Cal):\n",
    "    def mul(self):\n",
    "        return self.num1*self.num2\n",
    "\n",
    "obj = Cal_inherit(2, 2)\n",
    "print(obj)"
   ]
  },
  {
   "cell_type": "code",
   "execution_count": null,
   "id": "7714e1cf",
   "metadata": {},
   "outputs": [],
   "source": [
    "print(obj.add())\n",
    "print(obj.sub())\n",
    "print(obj.mul())"
   ]
  },
  {
   "cell_type": "code",
   "execution_count": null,
   "id": "4aa71b35",
   "metadata": {},
   "outputs": [],
   "source": [
    "class Person:\n",
    "    'Person은 이름과 성별 멤버변수가 있고, 어쩌구 저쩌구....'\n",
    "\n",
    "    def __init__(self, name, gender):\n",
    "        print('Person 객체 생성')\n",
    "        self.name = name\n",
    "        self.gender = gender\n",
    "\n",
    "    def __del__(self):\n",
    "        print('Person 객체 소멸됩니다')\n",
    "\n",
    "    def print_info(self):\n",
    "        '객체 이름과 성별을 출력합니다'\n",
    "        print('{}님은 {}입니다'.format(self.name, self.gender))\n",
    "\n",
    "    def __str__(self):\n",
    "        return '{}님은 {}입니다'.format(self.name, self.gender)"
   ]
  },
  {
   "cell_type": "markdown",
   "id": "9f07a514",
   "metadata": {},
   "source": [
    "## super() 이용"
   ]
  },
  {
   "cell_type": "code",
   "execution_count": null,
   "id": "d8a4ced0",
   "metadata": {},
   "outputs": [],
   "source": [
    "class Student(Person):\n",
    "    'name과 gender(상속받음)에 major변수를 갖는 Student 타입'\n",
    "\n",
    "    def __init__(self, name, gender, major):\n",
    "        # 부모클래스의 생성자를 호출해서 name과 gender초기화\n",
    "        # Person.__init__(self, name, gender)\n",
    "        super().__init__(name, gender)\n",
    "        self.major = major\n",
    "\n",
    "    def __del__(self):\n",
    "        pass\n",
    "\n",
    "    def print_info(self):  # 재정의(override)\n",
    "        #         print(\"{}는 {}입니다 \\n 전공은 {}입니다\".format(self.name, self.gender, self.major))\n",
    "        super().print_info()  # 상위 클래스 Person의 print_info()\n",
    "        print(\"전공은 {}입니다\".format(self.major))\n",
    "\n",
    "    def __str__(self):\n",
    "        return super().__str__() + \" 그리고 전공은 {}입니다\".format(self.major)\n",
    "\n",
    "\n",
    "#         return Person.__str__(self) + \"그리고 전공은 {}입니다\".format(self.major)"
   ]
  },
  {
   "cell_type": "code",
   "execution_count": null,
   "id": "94ec1817",
   "metadata": {},
   "outputs": [],
   "source": [
    "s1 = Student(\"홍길동\", \"남자\", \"AI 빅데이터\")\n",
    "print(s1)"
   ]
  },
  {
   "cell_type": "code",
   "execution_count": null,
   "id": "ac00a839",
   "metadata": {},
   "outputs": [],
   "source": [
    "print(isinstance(s1, Student))\n",
    "print(isinstance(s1, Person))"
   ]
  },
  {
   "cell_type": "markdown",
   "id": "4030dc1e",
   "metadata": {},
   "source": [
    "## 상속과 static 변수 활용"
   ]
  },
  {
   "cell_type": "code",
   "execution_count": null,
   "id": "b262aa88",
   "metadata": {},
   "outputs": [],
   "source": [
    "class Person:\n",
    "    'Person = name, gender'\n",
    "\n",
    "    def __init__(self, name, gender):\n",
    "        self.name = name\n",
    "        self.gender = gender\n",
    "\n",
    "    def print_info(self):  # 추상메소드 흉내\n",
    "        raise Exception('이 메소드는 반드시 구현되어야 합니다')\n",
    "\n",
    "    def __str__(self):\n",
    "        return '{}님은 {}'.format(self.name, self.gender)\n",
    "\n",
    "\n",
    "class Student(Person):\n",
    "    '''\n",
    "    name과 gender(상속)에 major변수는 갖는 Student 타입\n",
    "    객체 생성마다 몇번째 객체인지 저장(static 변수)\n",
    "    '''\n",
    "    __count = 0  # static 변수(객체 갯수가 저장될 변수)\n",
    "\n",
    "    # 변수명앞에 __붙으면, \"클래스명._클래스명__static변수\"로 사용\n",
    "    def __init__(self, name, gender, major):\n",
    "        Student._Student__count += 1  # __count += 1 은 불가\n",
    "        # Person.__init__(self, name, gender)\n",
    "        super().__init__(name, gender)\n",
    "        self.major = major\n",
    "\n",
    "    def __del__(self):\n",
    "        Student._Student__count -= 1\n",
    "        # 객체가 생성될 때마다 __count 1증가\n",
    "        # 객체가 소멸될 때마다 __count 1감소\n",
    "    def print_info(self):\n",
    "        print(\"{}님은 {}, 전공은 {}입니다 - 이상 {}번째 인스턴트입니다\".format(\n",
    "            self.name, self.gender, self.major, Student._Student__count))\n",
    "    def __str__(self):\n",
    "        # return Person.__str__(self)\n",
    "        return super().__str__() + ', 전공은 {}입니다'.format(self.major)\n",
    "    @classmethod\n",
    "    def get_count(cls):\n",
    "        return Student._Student__count\n",
    "        # return cls._Student__count"
   ]
  },
  {
   "cell_type": "code",
   "execution_count": null,
   "id": "7ef19aa5",
   "metadata": {},
   "outputs": [],
   "source": [
    "p = Person(\"홍길동\",\"남자\")\n",
    "print(p)"
   ]
  },
  {
   "cell_type": "code",
   "execution_count": null,
   "id": "f2f9ad90",
   "metadata": {},
   "outputs": [],
   "source": [
    "# p.print_info() 강제 예외 발생"
   ]
  },
  {
   "cell_type": "code",
   "execution_count": null,
   "id": "2b8583df",
   "metadata": {},
   "outputs": [],
   "source": [
    "s1 = Student(\"홍학생\",\"남자\",\"AI 빅데이터\")\n",
    "print(s1)\n",
    "print('객체의 갯수 :',Student.get_count())\n",
    "print('객체의 갯수 :',Student._Student__count)"
   ]
  },
  {
   "cell_type": "code",
   "execution_count": null,
   "id": "fbf6d75e",
   "metadata": {},
   "outputs": [],
   "source": [
    "s1.print_info()"
   ]
  },
  {
   "cell_type": "code",
   "execution_count": null,
   "id": "0d4eb9dc",
   "metadata": {},
   "outputs": [],
   "source": [
    "s2 = Student(\"신길숙\",\"여자\",\"통계학\")\n",
    "s2.print_info()\n",
    "print('객체 갯수 :', Student.get_count())"
   ]
  },
  {
   "cell_type": "code",
   "execution_count": null,
   "id": "75b0210f",
   "metadata": {},
   "outputs": [],
   "source": [
    "s2.__dict__ # 클래스의 멤버 변수들을 딕셔너리 형태로 출력"
   ]
  },
  {
   "cell_type": "code",
   "execution_count": null,
   "id": "b70d3aa9",
   "metadata": {},
   "outputs": [],
   "source": [
    "del s1\n",
    "print('객체 갯수 : ', Student.get_count())"
   ]
  },
  {
   "cell_type": "code",
   "execution_count": null,
   "id": "e10285ba",
   "metadata": {},
   "outputs": [],
   "source": [
    "class Product:\n",
    "    __count = 100\n",
    "    def __init__(self, name, price):\n",
    "        Product._Product__count += 1\n",
    "        self.serialno = Product._Product__count\n",
    "        self.name = name\n",
    "        self.price = price\n",
    "    def __str__(self):\n",
    "        return 'serialNo : {}\\n상품명 : {}\\n가격 : {}'.format(self.serialno, self.name, self.price)"
   ]
  },
  {
   "cell_type": "code",
   "execution_count": null,
   "id": "a39aaedf",
   "metadata": {},
   "outputs": [],
   "source": [
    "p1 = Product('새우깡', 1600)\n",
    "p2 = Product('양파깡', 1800)\n",
    "p3 = Product('페르로쉐', 10000)"
   ]
  },
  {
   "cell_type": "code",
   "execution_count": null,
   "id": "aa060e9c",
   "metadata": {},
   "outputs": [],
   "source": [
    "print(p1)\n",
    "print(p2)\n",
    "print(p3)"
   ]
  },
  {
   "cell_type": "code",
   "execution_count": null,
   "id": "bf0205aa",
   "metadata": {},
   "outputs": [],
   "source": [
    "print('생성된 최종 시리얼 번호 :', Product._Product__count)"
   ]
  },
  {
   "cell_type": "markdown",
   "id": "d4206a5e",
   "metadata": {},
   "source": [
    "# 연습문제"
   ]
  },
  {
   "cell_type": "markdown",
   "id": "c9b852e6",
   "metadata": {},
   "source": [
    "```\n",
    " 도형(Shape)클래스와 삼각형(Triangle) 클래스를 만들어야 합니다.\n",
    " 도형(Shape)클래스\n",
    "• 생성자를 통해 x, y좌표를 초기화할 수 있습니다. x, y좌표의 기본값은 0, 0입니다.\n",
    "• x, y좌표를 이동시킬 수 있는 move 함수가 있습니다.\n",
    "• x, y좌표값 정보를 문자열로 리턴하는 __str__ 함수가 있습니다\n",
    "• 도형의 면적을 구하는 함수(calc_area)가 있습니다. 다만 도형 클래스의 calc_area()는\n",
    "  구현되어 있지 않아 호출하면 오류가 발생합니다(파이썬은 추상메소드가 없음. 추상메소\n",
    "  드 역할을 구현)\n",
    "• 정적메소드(staticmethod)를 하나 이상 구현합니다.\n",
    " ‘삼각형(Triangle)클래스는 도형(Shape)클래스이다’관계가 성립해야 합니다\n",
    " 생성자를 통해, width, height, x, y좌표를 초기화하고 x, y 좌표의 기본값은 0, 0입니다\n",
    " 삼각형의 면적을 구하는 메소드 calc_area를 재정의합니다\n",
    " 삼각형의 정보를 문자열로 반환하는 __str__() 함수가 있습니다.\n",
    " 삼각형 객체가 몇 개가 만들어져 있는지 정보를 저장하는 클래스 변수를 추가하고 생성자\n",
    "   에서 객체를 만들 때마다 증가시키고 소멸자에서 객체를 소멸시킬 때마다 감소합니다.\n",
    "```"
   ]
  },
  {
   "cell_type": "code",
   "execution_count": 1,
   "id": "ba15582f",
   "metadata": {},
   "outputs": [],
   "source": [
    "class Shape:\n",
    "    def __init__(self, x = 0, y = 0):\n",
    "        self.x = x\n",
    "        self.y = y\n",
    "    def move(self, x, y):\n",
    "        self.x = x\n",
    "        self.y = y\n",
    "    def __str__(self):\n",
    "        return 'x : {}, y : {}'.format(self.x, self.y)\n",
    "    def calc_area(self):\n",
    "        raise Exception('미구현 구현요')\n",
    "    @staticmethod\n",
    "    def test():\n",
    "        print('staticmethod 구현함수입니다')"
   ]
  },
  {
   "cell_type": "code",
   "execution_count": 2,
   "id": "517502c8",
   "metadata": {},
   "outputs": [],
   "source": [
    "class Triangle(Shape):\n",
    "    __count = 0\n",
    "    def __init__(self, width, height,x = 0, y = 0):\n",
    "        Triangle._Triangle__count += 1\n",
    "        super().__init__(x, y)\n",
    "        self.width = width\n",
    "        self.height = height\n",
    "    def calc_area(self):\n",
    "        return (self.width * self.height) / 2\n",
    "    def __del__():\n",
    "        Triangle._Triangle__count -= 1\n",
    "    def __str__(self):\n",
    "        return super().__str__() + ' 삼각형의 밑변 : {}, 삼각형의 높이 : {}, 삼각형의 넓이 : {}'.format(self.width,self.height,self.calc_area())"
   ]
  },
  {
   "cell_type": "code",
   "execution_count": 3,
   "id": "e5c6a9f7",
   "metadata": {},
   "outputs": [
    {
     "name": "stdout",
     "output_type": "stream",
     "text": [
      "x : 0, y : 0 삼각형의 밑변 : 3, 삼각형의 높이 : 6, 삼각형의 넓이 : 9.0\n",
      "True\n",
      "True\n"
     ]
    }
   ],
   "source": [
    "t1 = Triangle(3,6)\n",
    "print(t1)\n",
    "print(isinstance(t1, Shape))\n",
    "print(isinstance(t1, Triangle))"
   ]
  },
  {
   "cell_type": "code",
   "execution_count": 4,
   "id": "bc564b41",
   "metadata": {},
   "outputs": [
    {
     "name": "stdout",
     "output_type": "stream",
     "text": [
      "staticmethod 구현함수입니다\n"
     ]
    }
   ],
   "source": [
    "Shape.test()"
   ]
  },
  {
   "cell_type": "code",
   "execution_count": 5,
   "id": "bca80d59",
   "metadata": {},
   "outputs": [
    {
     "name": "stdout",
     "output_type": "stream",
     "text": [
      "x : 0, y : 0 삼각형의 밑변 : 3, 삼각형의 높이 : 6, 삼각형의 넓이 : 9.0\n",
      "True\n",
      "True\n",
      "2\n"
     ]
    }
   ],
   "source": [
    "t2 = Triangle(3,6)\n",
    "print(t2)\n",
    "print(isinstance(t2, Shape))\n",
    "print(isinstance(t2, Triangle))\n",
    "print(Triangle._Triangle__count)"
   ]
  },
  {
   "cell_type": "code",
   "execution_count": 6,
   "id": "a5620a2a",
   "metadata": {},
   "outputs": [],
   "source": [
    "#1 1\n",
    "#2 2\n",
    "#3 4\n",
    "#4 3\n",
    "#5 2\n",
    "#6 3\n",
    "#7 2\n",
    "#8 3\n",
    "#9 2"
   ]
  },
  {
   "cell_type": "code",
   "execution_count": null,
   "id": "47d3d1b9",
   "metadata": {},
   "outputs": [],
   "source": []
  }
 ],
 "metadata": {
  "kernelspec": {
   "display_name": "Python 3 (ipykernel)",
   "language": "python",
   "name": "python3"
  },
  "language_info": {
   "codemirror_mode": {
    "name": "ipython",
    "version": 3
   },
   "file_extension": ".py",
   "mimetype": "text/x-python",
   "name": "python",
   "nbconvert_exporter": "python",
   "pygments_lexer": "ipython3",
   "version": "3.10.9"
  },
  "toc": {
   "base_numbering": 1,
   "nav_menu": {},
   "number_sections": true,
   "sideBar": true,
   "skip_h1_title": false,
   "title_cell": "Table of Contents",
   "title_sidebar": "Contents",
   "toc_cell": false,
   "toc_position": {},
   "toc_section_display": true,
   "toc_window_display": false
  }
 },
 "nbformat": 4,
 "nbformat_minor": 5
}
