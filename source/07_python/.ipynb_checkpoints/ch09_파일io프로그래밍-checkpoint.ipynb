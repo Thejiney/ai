{
 "cells": [
  {
   "cell_type": "markdown",
   "id": "643e38a3",
   "metadata": {},
   "source": [
    "<font color=\"red\" size=\"6\"><b>ch09.파일 i/o 프로그래밍</b></font>"
   ]
  },
  {
   "cell_type": "markdown",
   "id": "ed8fe921",
   "metadata": {},
   "source": [
    "# 1절. 파일에 데이터 저장하고 불러오기"
   ]
  },
  {
   "cell_type": "code",
   "execution_count": null,
   "id": "4213820a",
   "metadata": {},
   "outputs": [],
   "source": [
    "# w 또는 wt : 기존의 파일이 있는 경우 덮어쓰기, 파일이 없는 경우 생성하여 쓰기\n",
    "# a 또는 at : 기본의 파일이 있는 경우 append, 파일이 없는 경우 생성하여 쓰기\n",
    "#            쓰기 모드는 폴더가 없는 경우 예외 발생\n",
    "# r 또는 rt : 기본의 파일을 읽는 경우, 파일 없는 경우 예외 발생\n",
    "f = open('data/ch09_sample.txt', 'w')\n",
    "print(f.writable())"
   ]
  },
  {
   "cell_type": "code",
   "execution_count": null,
   "id": "82a320b9",
   "metadata": {},
   "outputs": [],
   "source": [
    "f.write('Hellow\\nWorld\\nHello\\nPython\\n') # 한글을 write하면 CP949로 저장(win)\n",
    "f.close()"
   ]
  },
  {
   "cell_type": "code",
   "execution_count": null,
   "id": "0e1d9da4",
   "metadata": {},
   "outputs": [],
   "source": [
    "# with구문을 사용하면 매번 close하는 코드가 불필요\n",
    "with open('data/ch09_sample.txt', 'wt') as f:\n",
    "    print('쓰기 가능한지 여부 :',f.writable())\n",
    "    f.write('Python is easy.\\nPython is smart.\\n')"
   ]
  },
  {
   "cell_type": "code",
   "execution_count": null,
   "id": "7dc9e4a1",
   "metadata": {},
   "outputs": [],
   "source": [
    "with open('data/ch09_sample.txt', 'at') as f:\n",
    "    print('프린트 함수로 파일 쓰기가 가능합니다-콘솔 출력')\n",
    "    print('프린트 함수로 파일 쓰기가 가능합니다-파일 출력', file=f)"
   ]
  },
  {
   "cell_type": "markdown",
   "id": "64bf3f77",
   "metadata": {},
   "source": [
    "- euc-kr : 한글 완성형 (믜x)\n",
    "- cp949 : 확장된 한글완성형 (믜o) - 엑셀에서\n",
    "- utf-8 : 한글조합형(초중종성 따로 조합해서 저장) - 주피터노트북에서"
   ]
  },
  {
   "cell_type": "code",
   "execution_count": null,
   "id": "c615bbb8",
   "metadata": {},
   "outputs": [],
   "source": [
    "with open('data/ch09_sample.txt', 'w', encoding='utf-8') as f:\n",
    "    f.write('= 여러 줄의 text를 쓰기 =\\n')\n",
    "    f.write('1방법: Hello\\nWorld\\n')\n",
    "    textlist = ['홍길동, 30, 서울\\n','김길동, 20, 안양\\n']\n",
    "    f.write('2방법 : \\n')\n",
    "    for line in textlist:\n",
    "        f.write(line)\n",
    "    f.write('3방법 :\\n')\n",
    "    f.writelines(textlist)"
   ]
  },
  {
   "cell_type": "code",
   "execution_count": null,
   "id": "1a434681",
   "metadata": {},
   "outputs": [],
   "source": [
    "# 파일을 한줄씩 읽고 출력, 한줄 읽고 출력, ...\n",
    "with open('data/ch09_sample.txt','r',encoding='utf-8') as f:\n",
    "    line = f.readline() # 한줄 읽기\n",
    "    while line != '':\n",
    "        print(line, end='') # 파일에 \\n이 포함되어서 출력시 개행은 제거\n",
    "        line = f.readline()"
   ]
  },
  {
   "cell_type": "code",
   "execution_count": null,
   "id": "01196ad4",
   "metadata": {},
   "outputs": [],
   "source": [
    "# 파일을 한꺼번에 여러줄 읽어 list를 return\n",
    "with open('data/ch09_sample.txt','rt',encoding='utf-8') as f:\n",
    "    lines = f.readlines() # list로 return\n",
    "    print(lines)"
   ]
  },
  {
   "cell_type": "code",
   "execution_count": null,
   "id": "536ebee6",
   "metadata": {},
   "outputs": [],
   "source": [
    "for line in lines:\n",
    "    print(line, end='')"
   ]
  },
  {
   "cell_type": "markdown",
   "id": "2f8afa1e",
   "metadata": {},
   "source": [
    "# 2절. 피클을 이용한 객체 저장 및 불러오기\n",
    "## 2.1 형식이 있는 텍스트 데이터 불러오기"
   ]
  },
  {
   "cell_type": "code",
   "execution_count": null,
   "id": "dbd403d8",
   "metadata": {},
   "outputs": [],
   "source": [
    "with open('data/ch09_member.txt', 'r', encoding='utf-8') as f:\n",
    "    lines = f.readlines()\n",
    "    # print(lines)\n",
    "for line in lines:\n",
    "    # print(line)\n",
    "    data = line.strip().split(',')\n",
    "    name = data[0]\n",
    "    age = int(data[1].strip()) # strip은 앞뒤 white space 제거\n",
    "    email = data[2].strip()\n",
    "    address = data[3].strip()\n",
    "    print('이름:{}, 나이:{}, 메일:{},\\t주소:{}'.format(name,age,email,address))"
   ]
  },
  {
   "cell_type": "code",
   "execution_count": null,
   "id": "23f98a68",
   "metadata": {},
   "outputs": [],
   "source": [
    "class Member:\n",
    "    def __init__(self, anme, age, email, address):\n",
    "        self.name = name\n",
    "        self.age = age\n",
    "        self.email = email\n",
    "        self.address = address\n",
    "\n",
    "    def __str__(self):\n",
    "        return \"이름:{}, 나이:{}, 메일:{},\\t주소:{}\".format(self.name, self.age,\n",
    "                                                    self.email, self.address)\n",
    "\n",
    "    def as_dict(self):  # 객체를 딕셔너리로 바꿔 return\n",
    "        return {\n",
    "            'name': self.name,\n",
    "            'age': self.age,\n",
    "            'email': self.email,\n",
    "            'address': self.address\n",
    "        }"
   ]
  },
  {
   "cell_type": "code",
   "execution_count": null,
   "id": "4b12e34d",
   "metadata": {},
   "outputs": [],
   "source": [
    "user = Member('홍길동',22,'hong@hong.com','서울') # 생성자 test\n",
    "print(user) # __str__ test\n",
    "print(user.as_dict()) # as_dict test"
   ]
  },
  {
   "cell_type": "code",
   "execution_count": null,
   "id": "6395a1a0",
   "metadata": {},
   "outputs": [],
   "source": [
    "# 파일의 내용을 읽어 들여 list로 읽기\n",
    "user_list = [] # member list\n",
    "user_dict = [] # 딕셔너리 list\n",
    "with open('data/ch09_member.txt', 'r', encoding='utf-8') as f:\n",
    "    lines = f.readlines()\n",
    "for line in lines:\n",
    "    data = line.strip().split(',')\n",
    "    name = data[0]\n",
    "    age = int(data[1].strip())\n",
    "    email = data[2].strip()\n",
    "    address = data[3].strip()\n",
    "    user = Member(name, age, email, address)\n",
    "    user_list.append(user)\n",
    "    user_dict.append(user.as_dict())"
   ]
  },
  {
   "cell_type": "code",
   "execution_count": null,
   "id": "16aa51d0",
   "metadata": {},
   "outputs": [],
   "source": [
    "# user_list (객체 list)\n",
    "for user in user_list:\n",
    "    print(user)"
   ]
  },
  {
   "cell_type": "code",
   "execution_count": null,
   "id": "1768a8b2",
   "metadata": {},
   "outputs": [],
   "source": [
    "# user_dict (딕셔너리 list)\n",
    "user_dict"
   ]
  },
  {
   "cell_type": "markdown",
   "id": "865a9240",
   "metadata": {},
   "source": [
    "## 2.2 피클링"
   ]
  },
  {
   "cell_type": "code",
   "execution_count": null,
   "id": "0b765128",
   "metadata": {},
   "outputs": [],
   "source": [
    "class Member:\n",
    "    def __init__(self, anme, age, email, address):\n",
    "        self.name = name\n",
    "        self.age = age\n",
    "        self.email = email\n",
    "        self.address = address\n",
    "\n",
    "    def __str__(self):\n",
    "        return \"이름:{}, 나이:{}, 메일:{},\\t주소:{}\".format(self.name, self.age,\n",
    "                                                    self.email, self.address)\n",
    "\n",
    "    def __eq__(self, other):\n",
    "        '''\n",
    "        user1.__eq__(user2) 호출시 user1의 속성변수들과 user2의 속성변수들이 모두 같은 여부 return\n",
    "        '''\n",
    "        if isinstance(other, Member):\n",
    "            return self.name == other.name and self.age == other.age and self.email == other.email and self.address == other.address\n",
    "\n",
    "    def as_dict(self):  # 객체를 딕셔너리로 바꿔 return\n",
    "        return {\n",
    "            'name': self.name,\n",
    "            'age': self.age,\n",
    "            'email': self.email,\n",
    "            'address': self.address\n",
    "        }"
   ]
  },
  {
   "cell_type": "code",
   "execution_count": null,
   "id": "8e540157",
   "metadata": {},
   "outputs": [],
   "source": [
    "user1 = Member(\"홍길동\",20,'h@h.com','서울')\n",
    "user2 = Member(\"홍길동\",20,'h@h.com','서울')"
   ]
  },
  {
   "cell_type": "code",
   "execution_count": null,
   "id": "deb56f9e",
   "metadata": {},
   "outputs": [],
   "source": [
    "print(user1.__eq__(user2))\n",
    "print(user1 == user2)"
   ]
  },
  {
   "cell_type": "code",
   "execution_count": null,
   "id": "003dcfd7",
   "metadata": {},
   "outputs": [],
   "source": [
    "print(user1)"
   ]
  },
  {
   "cell_type": "code",
   "execution_count": null,
   "id": "5796bcfe",
   "metadata": {},
   "outputs": [],
   "source": [
    "user1 = Member(\"홍길동\",20,'h@h.com','서울')\n",
    "user2 = Member(\"김길동\",25,'k@h.com','인천')\n",
    "user3 = Member(\"신길동\",30,'s@h.com','포천')\n",
    "user_list = [user1, user2, user3]"
   ]
  },
  {
   "cell_type": "code",
   "execution_count": null,
   "id": "6f4e2d1f",
   "metadata": {},
   "outputs": [],
   "source": [
    "for user in user_list:\n",
    "    print(user)"
   ]
  },
  {
   "cell_type": "code",
   "execution_count": null,
   "id": "85d41ad7",
   "metadata": {},
   "outputs": [],
   "source": [
    "# 피클링을 이용한 객체를 파일에 저장하기\n",
    "import pickle\n",
    "with open('data/ch09_member.data', 'wb') as f:\n",
    "    pickle.dump(user_list, f)"
   ]
  },
  {
   "cell_type": "code",
   "execution_count": null,
   "id": "1182660f",
   "metadata": {},
   "outputs": [],
   "source": [
    "del user1, user2, user3"
   ]
  },
  {
   "cell_type": "code",
   "execution_count": null,
   "id": "95c8a9de",
   "metadata": {},
   "outputs": [],
   "source": [
    "# 피클링을 이용한 파일에서 객체 데이터 읽기\n",
    "with open('data/ch09_member.data', 'rb') as f:\n",
    "    load_user_list = pickle.load(f)"
   ]
  },
  {
   "cell_type": "code",
   "execution_count": null,
   "id": "d80fbd35",
   "metadata": {},
   "outputs": [],
   "source": [
    "for user in load_user_list:\n",
    "    print(user)"
   ]
  },
  {
   "cell_type": "code",
   "execution_count": null,
   "id": "8e92c93e",
   "metadata": {},
   "outputs": [],
   "source": [
    "# user_list와 load_user_list가 모두 같은지 여부\n",
    "result = []\n",
    "for idx in range(len(user_list)):\n",
    "    result.append(user_list[idx] == load_user_list[idx])\n",
    "result"
   ]
  },
  {
   "cell_type": "code",
   "execution_count": null,
   "id": "e77314ef",
   "metadata": {},
   "outputs": [],
   "source": [
    "all(result) # 모든 요소들이 True인지 여부"
   ]
  },
  {
   "cell_type": "markdown",
   "id": "f907e8fa",
   "metadata": {},
   "source": [
    "# 3절. csv 형식 파일 읽기/쓰기\n",
    " - CSV 파일의 자료를 리스트 데이터로 읽기    3.1과 3.2\n",
    " - CSV 파일의 자료를 딕셔너리 데이터로 읽기  3.3과 3.4\n",
    " \n",
    "## 3.1 reader"
   ]
  },
  {
   "cell_type": "code",
   "execution_count": null,
   "id": "38cc70a3",
   "metadata": {},
   "outputs": [],
   "source": [
    "# utf-8로 인코딩된 csv파일 읽기\n",
    "import csv\n",
    "with open('data/ch09_member1.csv','r',encoding='utf-8') as f:\n",
    "    reader = csv.reader(f)\n",
    "    # print(list(reader))\n",
    "    for row in reader:\n",
    "        print(row)"
   ]
  },
  {
   "cell_type": "code",
   "execution_count": null,
   "id": "8f343083",
   "metadata": {},
   "outputs": [],
   "source": [
    "# CP949로 인코딩된 csv 파일 read\n",
    "with open('data/ch09_member1-cp.csv') as f:\n",
    "    reader = csv.reader(f)\n",
    "    result = list(reader)\n",
    "# print(result)\n",
    "for row in result:\n",
    "    print( ' - '.join(row))"
   ]
  },
  {
   "cell_type": "code",
   "execution_count": null,
   "id": "8fa4a147",
   "metadata": {},
   "outputs": [],
   "source": [
    "# \"\"(따옴표)가 없는 데이터는 numeric으로\n",
    "with open('data/ch09_member1.csv','r',encoding='utf-8') as f:\n",
    "    reader = csv.reader(f, quotechar='\"', quoting=csv.QUOTE_NONNUMERIC)\n",
    "    for row in reader:\n",
    "        print(row)"
   ]
  },
  {
   "cell_type": "code",
   "execution_count": null,
   "id": "ea36dfb0",
   "metadata": {},
   "outputs": [],
   "source": [
    "# csv 파일의 내용을 딕셔너리 리스트로 가져오기\n",
    "user_dict = []\n",
    "with open('data/ch09_member1.csv', encoding='utf-8') as f:\n",
    "    reader = csv.reader(f, quotechar='\"', quoting=csv.QUOTE_NONNUMERIC)\n",
    "    for row in reader:\n",
    "        user_dict.append({'name': row[0], 'age':row[1], 'email':row[2], 'address':row[3]})\n",
    "\n",
    "print('파일에서 읽어온 딕셔너리 리스트')\n",
    "print(user_dict)"
   ]
  },
  {
   "cell_type": "markdown",
   "id": "59bb7189",
   "metadata": {},
   "source": [
    "## 3.2 writer"
   ]
  },
  {
   "cell_type": "code",
   "execution_count": null,
   "id": "3ead4dcf",
   "metadata": {},
   "outputs": [],
   "source": [
    "user_list = [['홍길동',20,'hong@hong.com','서울'],\n",
    "             ['신길동',30,'shin@hong.com','인천'],]"
   ]
  },
  {
   "cell_type": "code",
   "execution_count": null,
   "id": "75ac2bf9",
   "metadata": {},
   "outputs": [],
   "source": [
    "try:\n",
    "    with open('data\\ch09_member2-write-cp.csv','w',newline='') as f:\n",
    "        write = csv.writer(f)\n",
    "        for user in user_list:\n",
    "            write.writerow(user)\n",
    "except FileNotFoundError as e:\n",
    "    print(e)"
   ]
  },
  {
   "cell_type": "code",
   "execution_count": null,
   "id": "92df91bc",
   "metadata": {},
   "outputs": [],
   "source": [
    "with open('data/ch09_member2-write.csv','w',encoding='utf-8') as f:\n",
    "    writer = csv.writer(f, quoting=csv.QUOTE_NONNUMERIC)\n",
    "    writer.writerows(user_list)"
   ]
  },
  {
   "cell_type": "markdown",
   "id": "4a6ef730",
   "metadata": {},
   "source": [
    "## 3.3 DictReader\n",
    "- csv파일의 자료를 딕셔너리 데이터 읽기"
   ]
  },
  {
   "cell_type": "code",
   "execution_count": null,
   "id": "97549f2f",
   "metadata": {},
   "outputs": [],
   "source": [
    "# header가 있는 csv 파일을 딕셔너리로 읽기(ch09_member3.csv)\n",
    "with open('data/ch09_member3.csv','r',encoding='utf-8') as f:\n",
    "    dict_reader = csv.DictReader(f)\n",
    "    # print(list(dict_reader))\n",
    "    for row in dict_reader:\n",
    "        if row['job'] is None:\n",
    "            print(row['name'],row['age'],row['email'],row['address'])\n",
    "        else:\n",
    "            print(row['name'],row['age'],row['email'],row['address'],row['job'])"
   ]
  },
  {
   "cell_type": "code",
   "execution_count": null,
   "id": "2c37f665",
   "metadata": {},
   "outputs": [],
   "source": [
    "# cf. csv파일을 데이터프레임으로\n",
    "import pandas as pd\n",
    "member = pd.read_csv('data/ch09_member3.csv') # encoding='utf-8'이 기본rkqt\n",
    "member"
   ]
  },
  {
   "cell_type": "code",
   "execution_count": null,
   "id": "9ff7f668",
   "metadata": {},
   "outputs": [],
   "source": [
    "type(member)"
   ]
  },
  {
   "cell_type": "code",
   "execution_count": null,
   "id": "d59d96ee",
   "metadata": {},
   "outputs": [],
   "source": [
    "# header가 없는 csv 파일을 딕셔너리로 읽기(ch09_member1-cp.csv)\n",
    "with open('data/ch09_member1-cp.csv', 'r', encoding='cp949;') as f:\n",
    "    dict_reader = csv.DictReader(f, fieldnames=['Name','Age','Email','Address','Job'])\n",
    "    for row in dict_reader:\n",
    "        #print(row)\n",
    "        print(row['Name'], row['Age'], row['Email'], row['Address'], row['Job'])"
   ]
  },
  {
   "cell_type": "code",
   "execution_count": null,
   "id": "5e99adb8",
   "metadata": {},
   "outputs": [],
   "source": [
    "# header가 없는 csv 파일을 딕셔너리로 읽기(ch09_member1-cp.csv)\n",
    "with open('data/ch09_member1-cp.csv', 'r', encoding='cp949') as f:\n",
    "    dict_reader = csv.DictReader(f, fieldnames=['Name','Age','Email','Address'], restkey='Job')\n",
    "    for row in dict_reader:\n",
    "        # print(row)\n",
    "        if row['Job'][0] == '':\n",
    "            print(row['Name'], row['Age'], row['Email'], row['Address'])\n",
    "        else:\n",
    "            print(row['Name'], row['Age'], row['Email'], row['Address'], row['Job'][0])"
   ]
  },
  {
   "cell_type": "code",
   "execution_count": null,
   "id": "b442f0fd",
   "metadata": {},
   "outputs": [],
   "source": [
    "# ch09_member1-cp.csv의 내용을 딕셔너리 list로 받아 보세요\n",
    "userlist = [] # 딕셔너리 list\n",
    "# 파일의 내용을 userlist에 담기\n",
    "with open('data/ch09_member1-cp.csv', 'r', encoding='cp949') as f:\n",
    "    dict_reader = csv.DictReader(f, fieldnames=['Name','Age','Email','Address','Job'])\n",
    "    for row in dict_reader:\n",
    "        userlist.append(row)\n",
    "userlist"
   ]
  },
  {
   "cell_type": "markdown",
   "id": "f325ee34",
   "metadata": {},
   "source": [
    "## 3.4 DictWriter\n",
    "- 딕셔너리 리스트를 csv파일로 쓰기"
   ]
  },
  {
   "cell_type": "code",
   "execution_count": null,
   "id": "9256c0cc",
   "metadata": {},
   "outputs": [],
   "source": [
    "user1 = {'name':'홍길동','age':20,'email':'h@hong.com','address':'서울'}\n",
    "user2 = {'name':'신길동','age':25,'email':'s@hong.com','address':'부산'}\n",
    "user3 = {'name':'김길동','age':35,'email':'k@hong.com','address':'인천'}\n",
    "user_list = [user1, user2, user3]\n",
    "fieldnames = list(user1.keys())\n",
    "print(fieldnames)"
   ]
  },
  {
   "cell_type": "markdown",
   "id": "6e0d4783",
   "metadata": {},
   "source": [
    "```\n",
    "csv 파일 내용\n",
    "name,age,email,address\n",
    "홍길동,20,h@hong.com,서울\n",
    "```"
   ]
  },
  {
   "cell_type": "code",
   "execution_count": null,
   "id": "c2c70ced",
   "metadata": {},
   "outputs": [],
   "source": [
    "with open('data/ch09_member4.csv','w',encoding='UTF-8', newline='') as f:\n",
    "    dict_writer = csv.DictWriter(f, fieldnames=fieldnames)\n",
    "#     dict_writer.writerheader() # header 한줄 쓰기\n",
    "#     for user in user_list:\n",
    "#         dict_writer.writerow(user)\n",
    "    dict_writer.writerows(user_list)"
   ]
  },
  {
   "cell_type": "markdown",
   "id": "a7ff626c",
   "metadata": {},
   "source": [
    "# 4절. JSON 파일에 저장하고 불러오기(dump,load)\n",
    "[{'name':'홍', 'age':20}, {'name':'박', 'age':30},]\n",
    "## 4.1 JSON dump(파일에 저장)\n",
    "1. 딕셔너리 리스트 데이터를 json파일로\n",
    "2. 객체 리스트 데이터를 json파일로"
   ]
  },
  {
   "cell_type": "code",
   "execution_count": null,
   "id": "b79afb35",
   "metadata": {},
   "outputs": [],
   "source": [
    "data = [{\"name\":\"홍길동\",\"age\":20, \"email\":\"h@h.com\",\"address\":\"서울\"},\n",
    "        {\"name\":\"김길동\",\"age\":30, \"email\":\"k@h.com\",\"address\":\"부산\"},\n",
    "        {\"name\":\"신길동\",\"age\":40, \"email\":\"s@h.com\",\"address\":\"안양\"},]"
   ]
  },
  {
   "cell_type": "code",
   "execution_count": null,
   "id": "fe465e95",
   "metadata": {},
   "outputs": [],
   "source": [
    "# 1. 딕셔너리 리스트를 json파일로 저장(dump)\n",
    "# ensure_ascii옵션의 역할 : ASCII 코드 범위를 넘어선 문자는 어떻게 처리할지\n",
    "# True(기본값) : ASCII 코드 범위를 넘어선 한글은 유니코드로 저장\n",
    "# False : 비 ASCII 문자 원래 형태로 그대로 저장\n",
    "import json\n",
    "with open('data/ch09_member1.json', 'w') as jsonfile:\n",
    "    json.dump(data, jsonfile, ensure_ascii=False, indent=' ')"
   ]
  },
  {
   "cell_type": "code",
   "execution_count": null,
   "id": "7fd33863",
   "metadata": {},
   "outputs": [],
   "source": [
    "# 2. 객체 리스트를 json 파일로 저장(dump)\n",
    "class Member:\n",
    "    def __init__(self, name, age, email, address):\n",
    "        self.name = name\n",
    "        self.age = age\n",
    "        self.email = email\n",
    "        self.address = address\n",
    "\n",
    "    def as_dict(self):\n",
    "        '객체를 딕셔너리로 바꿔 return (json.dump시 필요)'\n",
    "        return {\n",
    "            \"name\": self.name,\n",
    "            \"age\": self.age,\n",
    "            \"email\": self.email,\n",
    "            \"address\": self.address\n",
    "        }\n",
    "\n",
    "    def __str__(self):\n",
    "        return \"이름:{}, 나이:{}살, 메일:{},\\t주소:{}\".format(self.name, self.age,\n",
    "                                                     self.email, self.address)\n",
    "\n",
    "    def __eq__(self, other):\n",
    "        '''\n",
    "        m1.__eq__(m2) 호출시 속성변수들의 값이 모두 일치하는지 여부\n",
    "        m1 == m2 구현시 두 객체의 속성변수들 값이 모두 일치하는지 여부\n",
    "        '''\n",
    "        if isinstance(other, Member):\n",
    "            return self.name == other.name and self.age == other.age and self.email == other.email and self.address == other.address\n",
    "        else:\n",
    "            return false"
   ]
  },
  {
   "cell_type": "code",
   "execution_count": null,
   "id": "204629cc",
   "metadata": {},
   "outputs": [],
   "source": [
    "member_list = [Member(\"홍길동\", 30, \"h@h.com\", \"서울\"), \n",
    "              Member(\"김길동\", 25, \"kim@h.com\", \"부산\"),\n",
    "              Member(\"신길동\", 35, \"shin@h.com\", \"대전\"),]"
   ]
  },
  {
   "cell_type": "code",
   "execution_count": null,
   "id": "ce280ff9",
   "metadata": {},
   "outputs": [],
   "source": [
    "for member in member_list:\n",
    "    print(member)"
   ]
  },
  {
   "cell_type": "code",
   "execution_count": null,
   "id": "f0b6b5f8",
   "metadata": {},
   "outputs": [],
   "source": [
    "with open('data/ch09_member2.json', 'a', encoding=\"utf-8\") as jsonfile:\n",
    "    json.dump(member_list, # 객체 리스트\n",
    "             jsonfile,ensure_ascii=False, indent= ' ',\n",
    "             default=Member.as_dict) # 객체를 딕셔너리형태로 return 하는 인스턴스 함수"
   ]
  },
  {
   "cell_type": "code",
   "execution_count": null,
   "id": "62a80d77",
   "metadata": {},
   "outputs": [],
   "source": [
    "# 현재 세션(현재 실행중인 jupyter notebook)에 존재하는 변수들의 목록\n",
    "    # 매직명령어 : jupyter notebook의 IPYTON 환경에서만 제공"
   ]
  },
  {
   "cell_type": "markdown",
   "id": "fd12053c",
   "metadata": {},
   "source": [
    "## 4.2 JSON load(파일 읽기)\n",
    "1. json파일을 딕셔너리 리스트 변수로 읽기\n",
    "2. json파일을 객체 리스트 변수로 읽기"
   ]
  },
  {
   "cell_type": "code",
   "execution_count": null,
   "id": "403edf8e",
   "metadata": {},
   "outputs": [],
   "source": [
    "# 1. json파일을 딕셔너리 리스트로\n",
    "with open('data/ch09_member1.json', 'r', encoding='cp949') as jsonfile:\n",
    "    load_data = json.load(jsonfile)\n",
    "for row in load_data:\n",
    "    print(row)"
   ]
  },
  {
   "cell_type": "code",
   "execution_count": null,
   "id": "ebf4d869",
   "metadata": {},
   "outputs": [],
   "source": [
    "type(load_data), type(load_data[0])"
   ]
  },
  {
   "cell_type": "code",
   "execution_count": null,
   "id": "bcac54aa",
   "metadata": {},
   "outputs": [],
   "source": [
    "# 2. json 파일(ch09_member2.json)을 객체 리스트로"
   ]
  },
  {
   "cell_type": "code",
   "execution_count": null,
   "id": "fdc499c8",
   "metadata": {},
   "outputs": [],
   "source": [
    "def as_member(dic):\n",
    "    '딕셔너리 데이터를 매개변수로 받아 객체로 반환하는 함수'\n",
    "    return Member(dic['name'],dic['age'],dic['email'],dic['address'])"
   ]
  },
  {
   "cell_type": "code",
   "execution_count": null,
   "id": "33cce1e4",
   "metadata": {},
   "outputs": [],
   "source": [
    "with open('data/ch09_member2.json', 'r', encoding='utf-8') as jsonfile:\n",
    "    load_member_list = json.load(jsonfile, object_hook=as_member)"
   ]
  },
  {
   "cell_type": "code",
   "execution_count": null,
   "id": "c8f16127",
   "metadata": {},
   "outputs": [],
   "source": [
    "type(load_member_list), type(load_member_list[0])"
   ]
  },
  {
   "cell_type": "code",
   "execution_count": null,
   "id": "373f0e8e",
   "metadata": {},
   "outputs": [],
   "source": [
    "# member_list => ch09_member2.json => load_member_list"
   ]
  },
  {
   "cell_type": "code",
   "execution_count": null,
   "id": "36eb04ec",
   "metadata": {},
   "outputs": [],
   "source": [
    "# member_list와 load_member_list의 모든 데이터가 일치하는지 여부\n",
    "result = []\n",
    "for idx in range(len(member_list)):\n",
    "#     result.append(member_list[idx].__eq__(load_member_list[idx]))\n",
    "    result.append(member_list[idx] == load_member_list[idx])\n",
    "print('두 객체 리스트의 모든 데이터가 일치하는지 여부 :',all(result))"
   ]
  },
  {
   "cell_type": "code",
   "execution_count": null,
   "id": "0a929bb9",
   "metadata": {},
   "outputs": [],
   "source": [
    "# json파일을 데이터프레임으로 읽기\n",
    "import pandas as pd\n",
    "member = pd.read_json('data/ch09_member2.json') # encoding='utf-8'기본\n",
    "member"
   ]
  },
  {
   "cell_type": "code",
   "execution_count": null,
   "id": "89d834e6",
   "metadata": {},
   "outputs": [],
   "source": [
    "# open함수의 기본 encoding은 cp949, pd.read_~함수의 기본 encoding은 utf-8\n",
    "member = pd.read_json('data/ch09_member1.json', encoding='cp949') # encoding='utf-8'기본\n",
    "member"
   ]
  },
  {
   "cell_type": "code",
   "execution_count": null,
   "id": "71ba1596",
   "metadata": {},
   "outputs": [],
   "source": [
    "type(member)"
   ]
  },
  {
   "cell_type": "markdown",
   "id": "0b532301",
   "metadata": {},
   "source": [
    "# 5절. hdf5 파일 읽기/쓰기(딕셔녀리, 데이터프레임)\n",
    "- h5py 사용\n",
    "## 5.1 hdf5파일 쓰기\n",
    "1. 딕셔너리 데이터를 hdf5파일에 쓰기\n",
    "2. 데이터프레임을 hdf5파일에 쓰기"
   ]
  },
  {
   "cell_type": "code",
   "execution_count": null,
   "id": "1de2f881",
   "metadata": {},
   "outputs": [],
   "source": [
    "import seaborn as sns\n",
    "iris_df = sns.load_dataset(\"iris\")\n",
    "display(iris_df)"
   ]
  },
  {
   "cell_type": "code",
   "execution_count": null,
   "id": "2e99e238",
   "metadata": {},
   "outputs": [],
   "source": [
    "type(iris_df)"
   ]
  },
  {
   "cell_type": "code",
   "execution_count": null,
   "id": "4c2b235b",
   "metadata": {},
   "outputs": [],
   "source": [
    "iris_df.head()"
   ]
  },
  {
   "cell_type": "code",
   "execution_count": null,
   "id": "d8728013",
   "metadata": {},
   "outputs": [],
   "source": [
    "iris_dic = iris_df.to_dict() # 데이터 프레임변수를 딕셔너리로 형변환\n",
    "iris_dic"
   ]
  },
  {
   "cell_type": "code",
   "execution_count": null,
   "id": "c744839c",
   "metadata": {},
   "outputs": [],
   "source": [
    "list(iris_dic.keys()) #hdf파일 출력시 group이 될 키"
   ]
  },
  {
   "cell_type": "code",
   "execution_count": null,
   "id": "d1af418e",
   "metadata": {},
   "outputs": [],
   "source": [
    "for group, value in iris_dic.items():\n",
    "    print('그룹명 : ',group)\n",
    "    print(value)"
   ]
  },
  {
   "cell_type": "code",
   "execution_count": null,
   "id": "c8111437",
   "metadata": {},
   "outputs": [],
   "source": [
    "for group, value in iris_dic.items():\n",
    "    print('그룹 :', group)\n",
    "    for key, data in value.items():\n",
    "        print('{}:{}'.format(str(key), data), end='\\t')\n",
    "    print()"
   ]
  },
  {
   "cell_type": "code",
   "execution_count": null,
   "id": "e2233bfc",
   "metadata": {},
   "outputs": [],
   "source": [
    "import h5py\n",
    "with h5py.File('data/ch09_iris.hdf5','w') as f:\n",
    "    for group, value in iris_dic.items():\n",
    "        grp = f.create_group(group)\n",
    "        for key, data in value.items():\n",
    "            grp.create_dataset(str(key), data=data)"
   ]
  },
  {
   "cell_type": "code",
   "execution_count": null,
   "id": "83fb5042",
   "metadata": {},
   "outputs": [],
   "source": [
    "# 데이터프레임을 hdf파일로 쓰기\n",
    "iris_df.to_hdf('data/ch09_iris2.hdf5', key='iris')"
   ]
  },
  {
   "cell_type": "code",
   "execution_count": null,
   "id": "4f66ec06",
   "metadata": {},
   "outputs": [],
   "source": [
    "iris_df"
   ]
  },
  {
   "cell_type": "code",
   "execution_count": null,
   "id": "151735ca",
   "metadata": {},
   "outputs": [],
   "source": [
    "# hdf5파일에서 데이터프레임 변수로 읽어오기\n",
    "load_iris_df = pd.read_hdf('data/ch09_iris2.hdf5', key='iris')\n",
    "load_iris_df"
   ]
  },
  {
   "cell_type": "code",
   "execution_count": null,
   "id": "7f72385e",
   "metadata": {},
   "outputs": [],
   "source": [
    "# hdf파일을 딕셔너리 변수로 읽어오기"
   ]
  },
  {
   "cell_type": "code",
   "execution_count": null,
   "id": "40d8fab8",
   "metadata": {},
   "outputs": [],
   "source": [
    "dict_data = {}\n",
    "dict_data['name']= '홍길동'\n",
    "dict_data"
   ]
  },
  {
   "cell_type": "code",
   "execution_count": null,
   "id": "ff1a596d",
   "metadata": {},
   "outputs": [],
   "source": [
    "dict_data = {}\n",
    "dict_data.update({'name':'홍길동'})\n",
    "dict_data"
   ]
  },
  {
   "cell_type": "code",
   "execution_count": null,
   "id": "6313bfb1",
   "metadata": {},
   "outputs": [],
   "source": [
    "# hdf5 파일의 내용을 읽어 출력\n",
    "with h5py.File('data/ch09_iris.hdf5','r') as f:\n",
    "    for group,value in f.items():\n",
    "        print('그룹 :', group)\n",
    "        for key,data in value.items():\n",
    "            print(\"{}:{}\".format(key, data[()]), end='\\t')"
   ]
  },
  {
   "cell_type": "code",
   "execution_count": null,
   "id": "4df726d0",
   "metadata": {},
   "outputs": [],
   "source": [
    "# hdf5 파일의 내용을 딕셔너리에 담기\n",
    "iris_dic2 = {}\n",
    "with h5py.File('data/ch09_iris.hdf5','r') as f:\n",
    "    for group,value in f.items():\n",
    "        cols = {}\n",
    "        for key,data in value.items():\n",
    "            # cols[int(key) = data[()]]\n",
    "            cols.update({int(key): data[()]})\n",
    "        # iris_dic2[group] = cols\n",
    "        iris_dic2.update({group:cols})"
   ]
  },
  {
   "cell_type": "code",
   "execution_count": null,
   "id": "252d4808",
   "metadata": {},
   "outputs": [],
   "source": [
    "for group, value in iris_dic2.items():\n",
    "    print('그룹 :', group)\n",
    "    print(value)\n",
    "    print()"
   ]
  },
  {
   "cell_type": "markdown",
   "id": "64be9b21",
   "metadata": {},
   "source": [
    "# 6절. 연습문제 : 고객관리\n",
    "- 프로그램 실행 시작시 :\n",
    " * 'data/ch09_customers.txt'(프로그램 실행시 백업용 데이터)파일이 있으면 파일 input\n",
    " * 'data/ch09_customers.txt' 파일이 없으면 빈 파일 생성\n",
    " * 'data/ch09_customers.txt'파일 내용 :\n",
    "```\n",
    "    홍길동, 010-9999-9999, hong@mega_it.com, 30, 열심히\n",
    "    홍길동, 010-8888-8888, hong2@abc.com, 31, abc\n",
    "    유길동, 010-5432-2222, yu@hong.com, 20, 가칠해\n",
    "```\n",
    "- Customer 클래스 작성(고객데이터 타입) Customer('홍길동','010','h@h',30,5,'기타')\n",
    " * __init__, __str__, as_dic(csv파일출력을위해서), to_list_style(txt파일 출력을 위해 list)\n",
    "- 1입력"
   ]
  },
  {
   "cell_type": "code",
   "execution_count": 20,
   "id": "9e9dba43",
   "metadata": {},
   "outputs": [],
   "source": [
    "class Customer:\n",
    "    def __init__(self, name, phone, email, age, grade, etc):\n",
    "        self.name = name\n",
    "        self.phone = phone\n",
    "        self.email = email\n",
    "        self.age = age\n",
    "        self.grade = grade\n",
    "        self.etc = etc\n",
    "\n",
    "    def as_dic(self):  # 객체를 딕셔너리데이터로 반환 (csv파일 저장시)\n",
    "        return {\n",
    "            'name': self.name,\n",
    "            'phone': self.phone,\n",
    "            'email': self.email,\n",
    "            'age': self.age,\n",
    "            'grade': self.grade,\n",
    "            'etc': self.etc\n",
    "        }\n",
    "\n",
    "    def to_list_style(self): # 객체를 list return([홍길동, 010-8999-9999, e@e.com, 20, 3, 까칠해])\n",
    "        return '{}, {}, {}, {}, {}, {}\\n'.format(self.name,self.phone,self.email,self.age,self.grade,self.etc)\n",
    "\n",
    "    def __str__(self):  # *** 홍길동 010-8999-9999 e@e.com 20 까칠해\n",
    "        if(len(self.email)<16):\n",
    "            return '{:>5}\\t{}\\t{}\\t{}\\t\\t{}\\t{}'.format('*' * self.grade, self.name, self.phone,self.email,\n",
    "                                          self.age, self.etc)\n",
    "        else:\n",
    "            return '{:>5}\\t{}\\t{}\\t{}\\t{}\\t{}'.format('*' * self.grade, self.name, self.phone,self.email,\n",
    "                                          self.age, self.etc)"
   ]
  },
  {
   "cell_type": "code",
   "execution_count": 21,
   "id": "c7365bc9",
   "metadata": {},
   "outputs": [],
   "source": [
    "def to_customer(row): # txt 파일 내용 한줄(홍길동, 010-8999-9999, e@e.com, 20, 3, 까칠해)을 Customer 객체로 반환\n",
    "    return Customer(row[0],row[1],row[2],row[3],row[4], row[5])"
   ]
  },
  {
   "cell_type": "code",
   "execution_count": 38,
   "id": "ecc91537",
   "metadata": {},
   "outputs": [],
   "source": [
    "# 0. 실행하면 data/ch09_customers.txt 파일의 내용을 load(customer_list)\n",
    "# data/ch09_customers.txt이 존재하지 않으면\n",
    "# 빈 data/ch09_customers.txt파일을 생성하고\n",
    "# 데이터는 acustomer_list=[]   \n",
    "def load_customers():\n",
    "    result = []\n",
    "    try:\n",
    "        with open('data/ch09_customers.txt','r',encoding='utf-8') as f:\n",
    "            lines = f.readlines()\n",
    "            for line in lines:\n",
    "                data = line.strip().split(',')\n",
    "                name = data[0]\n",
    "                phone = data[1].strip()\n",
    "                email = data[2].strip()\n",
    "                age = int(data[3].strip())\n",
    "                grade = int(data[4].strip())\n",
    "                etc = data[5].strip()\n",
    "                \n",
    "                customer = Customer(name, phone, email, age, grade, etc)\n",
    "                result.append(customer)\n",
    "    except:\n",
    "        with open('data/ch09_customers.txt','w',encoding='utf-8') as f:\n",
    "            pass\n",
    "    finally:\n",
    "        return result"
   ]
  },
  {
   "cell_type": "code",
   "execution_count": 39,
   "id": "8d79b90c",
   "metadata": {},
   "outputs": [],
   "source": [
    "# 1. 입력\n",
    "def fn1_insert_customer_info():\n",
    "    name = input(\"이름>\")\n",
    "    tel = input(\"전화번호>\")\n",
    "    email = input(\"E-Mail>\")\n",
    "    age = int(input(\"나이>\"))\n",
    "    grade = int(input(\"등급>\"))\n",
    "    etc = input(\"기타>\")\n",
    "    return Customer(name,tel,email,age,grade,etc)"
   ]
  },
  {
   "cell_type": "code",
   "execution_count": 40,
   "id": "56d83019",
   "metadata": {},
   "outputs": [],
   "source": [
    "# 2. 전체 출력\n",
    "def fn2_print_customers(customer_list):\n",
    "    print('='*80)\n",
    "    print('{:^80}'.format('고객 정보'))\n",
    "    print('-'*80)\n",
    "    print('{}\\t{}\\t{}\\t\\t{}\\t\\t\\t{}\\t{}'.format('GRADE','이름','전화','메일','나이','기타'))\n",
    "    if(customer_list==[]):\n",
    "        print('고객정보가 없습니다')\n",
    "    else:\n",
    "        for customer in customer_list:\n",
    "            print(customer)\n",
    "    print('='*80)\n"
   ]
  },
  {
   "cell_type": "code",
   "execution_count": 41,
   "id": "0e95a5d6",
   "metadata": {},
   "outputs": [],
   "source": [
    "# 3. 삭제 (동명이인이 있다고 할지 동명이인이 없다고 할지 미리 정해놓고 구현)\n",
    "def fn3_delete_customer(customer_list):\n",
    "    cnt = 0\n",
    "    i = 0\n",
    "    name=input('삭제할 사람의 이름>')\n",
    "    for customer in customer_list:\n",
    "        if(name==customer.name):\n",
    "            cnt += 1 \n",
    "    while cnt > i:\n",
    "        for customer in customer_list:\n",
    "            if(name==customer.name):\n",
    "                customer_list.remove(customer)\n",
    "                i += 1\n",
    "    fn2_print_customers(customer_list)"
   ]
  },
  {
   "cell_type": "code",
   "execution_count": 46,
   "id": "259b8076",
   "metadata": {},
   "outputs": [],
   "source": [
    "# 4. 이름찾기 (동명이인이 있다고 할지 없다고 할지 정한대로 구현)\n",
    "def fn4_search_customer(customer_list):\n",
    "    name=input('검색할 사람의 이름>')\n",
    "    cnt = 0\n",
    "    print('='*80)\n",
    "    print('{:^80}'.format('고객 정보'))\n",
    "    print('-'*80)\n",
    "    print('{}\\t{}\\t{}\\t\\t{}\\t\\t\\t{}\\t{}'.format('GRADE','이름','전화','메일','나이','기타'))\n",
    "    for customer in customer_list:\n",
    "        if(name==customer.name):\n",
    "            print(customer)\n",
    "            cnt += 1\n",
    "    if(cnt==0):\n",
    "        print('고객정보가 없습니다')\n",
    "    print('='*80)\n"
   ]
  },
  {
   "cell_type": "code",
   "execution_count": 43,
   "id": "9b53b533",
   "metadata": {},
   "outputs": [],
   "source": [
    "# 5. 내보내기(CSV)\n",
    "def fn5_save_customer_csv(customer_list):\n",
    "    with open('data/ch09_customer.csv','w',encoding='UTF-8', newline='') as f:\n",
    "        dict_writer = csv.DictWriter(f, fieldnames=fieldnames)\n",
    "        for customer in customer_list:\n",
    "            dict_writer.writerow(customer.as_dic())"
   ]
  },
  {
   "cell_type": "code",
   "execution_count": 44,
   "id": "2adaae73",
   "metadata": {},
   "outputs": [],
   "source": [
    "# 9. 종료 (종료하기 전 customer_list를 txt파일에 저장하고 종료)\n",
    "def fn9_save_customer_txt(customer_list):\n",
    "    with open('data/ch09_customer.txt','w',encoding='utf-8') as f:\n",
    "        for customer in customer_list:\n",
    "            f.write(customer.to_list_style())"
   ]
  },
  {
   "cell_type": "code",
   "execution_count": 47,
   "id": "c917730d",
   "metadata": {},
   "outputs": [
    {
     "name": "stdout",
     "output_type": "stream",
     "text": [
      "1:입력 | 2:전체출력 | 3:삭제 | 4:이름찾기 | 5:내보내기(CSV) | 9:종료 메뉴선택 : 4\n",
      "검색할 사람의 이름>감자\n",
      "================================================================================\n",
      "                                     고객 정보                                      \n",
      "--------------------------------------------------------------------------------\n",
      "GRADE\t이름\t전화\t\t메일\t\t\t나이\t기타\n",
      "고객정보가 없습니다\n",
      "================================================================================\n",
      "1:입력 | 2:전체출력 | 3:삭제 | 4:이름찾기 | 5:내보내기(CSV) | 9:종료 메뉴선택 : 9\n"
     ]
    }
   ],
   "source": [
    "import csv\n",
    "fieldnames=['name', 'phone', 'email', 'age', 'grade', 'etc']\n",
    "def main():\n",
    "    global customer_list\n",
    "    customer_list = load_customers() # ch09_customers.txt의 내용을 load\n",
    "    while True:\n",
    "        print(\"1:입력\",\"2:전체출력\",\"3:삭제\",\"4:이름찾기\",\"5:내보내기(CSV)\", \"9:종료\", sep=' | ', end=' ')\n",
    "        fn = int(input('메뉴선택 : '))\n",
    "        if fn == 1:\n",
    "            customer = fn1_insert_customer_info() # 입력받은 내용으로 customer객체를 반환\n",
    "            customer_list.append(customer)\n",
    "        elif fn == 2:\n",
    "            fn2_print_customers(customer_list)\n",
    "        elif fn == 3:\n",
    "            fn3_delete_customer(customer_list)\n",
    "        elif fn == 4:\n",
    "            fn4_search_customer(customer_list)\n",
    "        elif fn == 5:\n",
    "            fn5_save_customer_csv(customer_list)\n",
    "        elif fn == 9:\n",
    "            fn9_save_customer_txt(customer_list)\n",
    "            break\n",
    "if __name__ == '__main__':\n",
    "    main()"
   ]
  },
  {
   "cell_type": "code",
   "execution_count": null,
   "id": "a51c6a1c",
   "metadata": {},
   "outputs": [],
   "source": [
    "#1 3\n",
    "#2 4\n",
    "#3 1"
   ]
  }
 ],
 "metadata": {
  "kernelspec": {
   "display_name": "Python 3 (ipykernel)",
   "language": "python",
   "name": "python3"
  },
  "language_info": {
   "codemirror_mode": {
    "name": "ipython",
    "version": 3
   },
   "file_extension": ".py",
   "mimetype": "text/x-python",
   "name": "python",
   "nbconvert_exporter": "python",
   "pygments_lexer": "ipython3",
   "version": "3.10.9"
  },
  "toc": {
   "base_numbering": 1,
   "nav_menu": {},
   "number_sections": true,
   "sideBar": true,
   "skip_h1_title": false,
   "title_cell": "Table of Contents",
   "title_sidebar": "Contents",
   "toc_cell": false,
   "toc_position": {
    "height": "calc(100% - 180px)",
    "left": "10px",
    "top": "150px",
    "width": "426.667px"
   },
   "toc_section_display": true,
   "toc_window_display": true
  }
 },
 "nbformat": 4,
 "nbformat_minor": 5
}
