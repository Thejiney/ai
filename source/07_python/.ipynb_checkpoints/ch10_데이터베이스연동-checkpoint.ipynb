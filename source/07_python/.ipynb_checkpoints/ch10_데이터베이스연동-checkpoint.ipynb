{
 "cells": [
  {
   "cell_type": "markdown",
   "id": "4bd3c02c",
   "metadata": {},
   "source": [
    "<font color=\"red\" size=\"6\"><b>ch10.데이터 베이스 연동</b></font>"
   ]
  },
  {
   "cell_type": "markdown",
   "id": "e146e05b",
   "metadata": {},
   "source": [
    "# 1절. SQLite 데이터 베이스 연결\n",
    "- SQLite 데이터 베이스는 별도의 DBMS없이 SQL을 이용하여 DB 엑세스 할 수 있도록 만든 간단한 디스크 기반의 DB 제공\n",
    "- C 라이브러리\n",
    "- SQLite는 프로토타입을 만들 때 사용\n",
    "- 프로젝트 단계 : 분석 → 설계 → 구현 → 테스트 → 고객에게 배포 → 유지보수\n",
    "-               프로토타입         시제품       완제품(Oracle, MySql, Maria, ...)\n",
    "-\n",
    "-\n",
    "- [DB browser for SQLite](https://sqlitebrowser.org/dl/)\n",
    "## 1.1 SQLite broswer 설치 및 sqlite3 패키지 load"
   ]
  },
  {
   "cell_type": "code",
   "execution_count": null,
   "id": "8ebb4caa",
   "metadata": {},
   "outputs": [],
   "source": [
    "import sqlite3\n",
    "sqlite3.sqlite_version # sqlite3 패키지의 버전"
   ]
  },
  {
   "cell_type": "code",
   "execution_count": null,
   "id": "71c6fb64",
   "metadata": {},
   "outputs": [],
   "source": [
    "import pandas as pd\n",
    "pd.__version__"
   ]
  },
  {
   "cell_type": "code",
   "execution_count": null,
   "id": "781293fa",
   "metadata": {},
   "outputs": [],
   "source": [
    "import numpy as np\n",
    "np.__version__"
   ]
  },
  {
   "cell_type": "markdown",
   "id": "4e82ea33",
   "metadata": {},
   "source": [
    "## 1.2 데이터베이스 생성 및 연결\n",
    "- SQLite로 DB 연결시, DB파일이 있으면 연결, DB파일이 없으면 빈 DB 파일 생성"
   ]
  },
  {
   "cell_type": "code",
   "execution_count": null,
   "id": "74774774",
   "metadata": {},
   "outputs": [],
   "source": [
    "# DB 연결\n",
    "conn = sqlite3.connect('data/ch10_example.db')\n",
    "conn"
   ]
  },
  {
   "cell_type": "code",
   "execution_count": null,
   "id": "82fa7c67",
   "metadata": {},
   "outputs": [],
   "source": [
    "# 커서 객체 생성 커서는 SQL문 실행시키고, 결과데이터를 조회(select, 그외)하는데 사용하는 객체\n",
    "cursor = conn.cursor()\n",
    "cursor"
   ]
  },
  {
   "cell_type": "code",
   "execution_count": null,
   "id": "6e041bb4",
   "metadata": {},
   "outputs": [],
   "source": [
    "cursor.execute('''\n",
    "    CREATE TABLE MEMBER (\n",
    "        NAME TEXT,\n",
    "        AGE INT,\n",
    "        EMAIL TEXT\n",
    "    )\n",
    "''')"
   ]
  },
  {
   "cell_type": "code",
   "execution_count": null,
   "id": "6c505108",
   "metadata": {},
   "outputs": [],
   "source": [
    "cursor.execute('INSERT INTO MEMBER VALUES (\\'홍길동\\', 20, \\'h@h.com\\')')\n",
    "print('수행 결과 행수 :', cursor.rowcount)\n",
    "sql = \"INSERT INTO MEMBER VALUES ('신길동', 25, 'S@S.COM')\"\n",
    "cursor.execute(sql)\n",
    "print('수행 결과 행수 :', cursor.rowcount)\n",
    "cursor.execute('INSERT INTO MEMBER VALUES (\\'신림동\\', 30, \\'l@h.com\\')')\n",
    "print('수행 결과 행수 :', cursor.rowcount)"
   ]
  },
  {
   "cell_type": "code",
   "execution_count": null,
   "id": "12411832",
   "metadata": {},
   "outputs": [],
   "source": [
    "conn.commit() # 反. conn.rollback() DML문에서만 commit"
   ]
  },
  {
   "cell_type": "code",
   "execution_count": null,
   "id": "f7f655be",
   "metadata": {},
   "outputs": [],
   "source": [
    "# SQL 전송 결과는 cursor가 가리킴\n",
    "cursor.execute(\"SELECT * FROM MEMBER ORDER BY NAME\")"
   ]
  },
  {
   "cell_type": "code",
   "execution_count": null,
   "id": "e913135f",
   "metadata": {},
   "outputs": [],
   "source": [
    "# insert, update, delete 문 실행결과 : cursor.rowcount\n",
    "# select문 실행 결과를 받는 함수들\n",
    "    ## fetchone() : 결과를 한행씩 받을 때 (튜플)\n",
    "    ## fetchall() : 결과를 모두 받을 때 (튜플 list)\n",
    "    ## fetchmany(n) : 결과를 n행 받을 때 (튜플 list)\n",
    "print(cursor.fetchall())"
   ]
  },
  {
   "cell_type": "code",
   "execution_count": null,
   "id": "725ecec3",
   "metadata": {},
   "outputs": [],
   "source": [
    "print(cursor.fetchall()) # 한 번 소요된 cursor 객체는 다시 fetch할 수 없음"
   ]
  },
  {
   "cell_type": "code",
   "execution_count": null,
   "id": "8bd7e4f4",
   "metadata": {},
   "outputs": [],
   "source": [
    "cursor.execute('SELECT NAME, AGE, EMAIL FROM MEMBER ORDER BY AGE')\n",
    "members = cursor.fetchall()\n",
    "members # 튜플 리스트"
   ]
  },
  {
   "cell_type": "code",
   "execution_count": null,
   "id": "37b49cac",
   "metadata": {},
   "outputs": [],
   "source": [
    "for member in members:\n",
    "    print(member)"
   ]
  },
  {
   "cell_type": "code",
   "execution_count": null,
   "id": "19ec4a1f",
   "metadata": {},
   "outputs": [],
   "source": [
    "# 한줄씩 읽기\n",
    "cursor.execute(\"SELECT NAME, AGE, EMAIL FROM MEMBER ORDER BY AGE\")\n",
    "member_list = []\n",
    "while True:\n",
    "    member = cursor.fetchone() # SQL문 수행 결과 한줄 가져오기\n",
    "    if member is None:\n",
    "        break\n",
    "    #print(member)\n",
    "    member_list.append( {'name':member[0], 'age':member[1],'email':member[2]})"
   ]
  },
  {
   "cell_type": "code",
   "execution_count": null,
   "id": "907000b8",
   "metadata": {},
   "outputs": [],
   "source": [
    "member_list"
   ]
  },
  {
   "cell_type": "code",
   "execution_count": null,
   "id": "81b4a3ac",
   "metadata": {},
   "outputs": [],
   "source": [
    "# 최상위 n행 읽기\n",
    "cursor.execute('SELECT NAME, AGE, EMAIL FROM MEMBER ORDER BY AGE')\n",
    "for member in cursor.fetchmany(10):\n",
    "    print(member)"
   ]
  },
  {
   "cell_type": "code",
   "execution_count": null,
   "id": "5f9b741e",
   "metadata": {},
   "outputs": [],
   "source": [
    "# 결과 한 줄당 객체로 받기\n",
    "class Member:\n",
    "    'Member 테이블의 내용을 받을 객체 타입'\n",
    "    def __init__(self,name,age,email):\n",
    "        self.name = name\n",
    "        self.age = age\n",
    "        self.email = email\n",
    "    def as_dic(self): #inser문 전송시 필요\n",
    "        return{'name':self.name,'age':self.age,'email':self.email}\n",
    "    def __str__(self):\n",
    "        return \"{}\\t{}\\t{}\".format(self.name, self.age, self.email)\n",
    "\n",
    "def to_member(*row): # 튜플 데이터를 매개변수로 받아 Member형 객체로 return\n",
    "    return Member(row[0], row[1], row[2])"
   ]
  },
  {
   "cell_type": "code",
   "execution_count": null,
   "id": "1e845f97",
   "metadata": {},
   "outputs": [],
   "source": [
    "dbreadmember = ('홍길동', 20 ,'h@h.com')\n",
    "m = to_member(*dbreadmember) # 튜플 언패킹\n",
    "print(m)\n",
    "print(m.as_dic())"
   ]
  },
  {
   "cell_type": "code",
   "execution_count": null,
   "id": "af0a1951",
   "metadata": {},
   "outputs": [],
   "source": [
    "# DB 검색 결과를 객체 list로\n",
    "cursor.execute('SELECT NAME, AGE, EMAIL FROM MEMBER')\n",
    "member_list = [] # sql문 수행 결과를 담을 객체 list\n",
    "members = cursor.fetchall() # 튜플 list\n",
    "# print(members)\n",
    "for member in members:\n",
    "    member_list.append(to_member(*member))"
   ]
  },
  {
   "cell_type": "code",
   "execution_count": null,
   "id": "cd08cd53",
   "metadata": {},
   "outputs": [],
   "source": [
    "type(member[0]), type(member_list[0])"
   ]
  },
  {
   "cell_type": "code",
   "execution_count": null,
   "id": "c9f4e846",
   "metadata": {},
   "outputs": [],
   "source": [
    "for member in member_list:\n",
    "    print(member)"
   ]
  },
  {
   "cell_type": "code",
   "execution_count": null,
   "id": "af4b82c4",
   "metadata": {},
   "outputs": [],
   "source": [
    "cursor.close() # cursor.close()는 생략 가능\n",
    "conn.close()"
   ]
  },
  {
   "cell_type": "markdown",
   "id": "5dcdb774",
   "metadata": {},
   "source": [
    "## 1.3 SQL 구문에 파라미터 사용하기\n",
    "- qmark(DB에 따라 불가한 경우가 있음)\n",
    "- named(추천)"
   ]
  },
  {
   "cell_type": "code",
   "execution_count": null,
   "id": "a822c028",
   "metadata": {},
   "outputs": [],
   "source": [
    "conn = sqlite3.connect('data/ch10_example.db')\n",
    "cursor = conn.cursor()\n",
    "cursor.execute(\"SELECT * FROM MEMBER WHERE NAME IN ('홍길동','신길동')\")\n",
    "cursor.fetchall()"
   ]
  },
  {
   "cell_type": "code",
   "execution_count": null,
   "id": "52f90a18",
   "metadata": {},
   "outputs": [],
   "source": [
    "# 파라미터 사용하기 : qmark 방법 이용\n",
    "name1 = input('검색할 이름1 :')\n",
    "name2 = input('검색할 이름2 :')\n",
    "names = (name1, name2)\n",
    "cursor.execute(\"SELECT * FROM MEMBER WHERE NAME IN (?,?)\", names)\n",
    "cursor.fetchall()"
   ]
  },
  {
   "cell_type": "code",
   "execution_count": null,
   "id": "4cac39fd",
   "metadata": {},
   "outputs": [],
   "source": [
    "# 파라미터 사용하기 : named 방법 이용\n",
    "name1 = input('검색할 이름 > ')\n",
    "cursor.execute(\"SELECT * FROM MEMBER WHERE NAME=:name\", {'name':name})\n",
    "members = cursor.fetchall()\n",
    "if len(members):\n",
    "    print(members)\n",
    "else:\n",
    "    print('해당 이름의 데이터가 없습니다')"
   ]
  },
  {
   "cell_type": "code",
   "execution_count": null,
   "id": "699dfc30",
   "metadata": {},
   "outputs": [],
   "source": [
    "# 파라미터 사용하기 : named 방법 이용\n",
    "name1 = input('검색할 이름1 :')\n",
    "name2 = input('검색할 이름2 :')\n",
    "names = {'name1':name1,'name2':name2}\n",
    "cursor.execute(\"SELECT * FROM MEMBER WHERE NAME IN (:name1, :name2)\", {'name1':name1,'name2':name2})\n",
    "cursor.execute(\"SELECT * FROM MEMBER WHERE NAME IN (:name1, :name2)\", names)\n",
    "cursor.fetchall()"
   ]
  },
  {
   "cell_type": "code",
   "execution_count": null,
   "id": "a37f1ddf",
   "metadata": {},
   "outputs": [],
   "source": [
    "# MEMBER 테이블에 입력(사용자로부터 이름, 나이, 메일을 입력받아 insert)\n",
    "try:\n",
    "    name = input('입력할 이름은 : ')\n",
    "    age = int(input('입력할 나이는 : '))\n",
    "except ValueError:\n",
    "    print('유효하지 않은 나이를 입력하신 경우 18세로 초기화')\n",
    "    age = 18\n",
    "finally:\n",
    "    email = input('입력할 메일은 :')\n",
    "inputdata = {'name':name, 'age':age, 'email':email} # named 방식\n",
    "inputdata2 = (name, age, email) # qmark 방식\n",
    "# cursor.execute('INSERT INTO MEMBER VALUES (?,?,?)', inputdata2)\n",
    "cursor.excute('INSERT INTO MEMBER VALUES (:name,:age,:email)', inputdata)\n",
    "conn.commit()\n",
    "if cursor.rowcount == 1:\n",
    "    print('저장완료')"
   ]
  },
  {
   "cell_type": "code",
   "execution_count": null,
   "id": "4c5adb2d",
   "metadata": {},
   "outputs": [],
   "source": [
    "try:\n",
    "    name = input('입력할 이름은 : ')\n",
    "    age = int(input('입력할 나이는 : '))\n",
    "except ValueError:\n",
    "    print('유효하지 않은 나이를 입력하신 경우 18세로 초기화')\n",
    "    age = 18\n",
    "finally:\n",
    "    email = input('입력할 메일은 :')\n",
    "\n",
    "newMember = Member(name, age, email)\n",
    "# print(newMember.as_dic())\n",
    "cursor.execute('INSERT INTO MEMBER VALUES (:name, :age, :email)', newMember.as_dic())\n",
    "conn.commit()\n",
    "if cursor.rowcount == 1:\n",
    "    print('입력 성공')"
   ]
  },
  {
   "cell_type": "code",
   "execution_count": null,
   "id": "13fa3d62",
   "metadata": {},
   "outputs": [],
   "source": [
    "# member 테이블에 데이터를 n번 입력하고\n",
    "# 이름에 0을 입력할 때까지 이름, 나이, 메일을 받아 insert\n",
    "# 이름에 0을 입력하면 이때까지 입력한 데이터들을 출력하고 몇명을 입력했는지도 출력\n",
    "\n",
    "member_list=[] # 입력한 member들이 저장될 lsit변수\n",
    "\n",
    "while True:\n",
    "    try:\n",
    "        name = input('입력할 이름은 : ')\n",
    "        if name == '0':\n",
    "            break\n",
    "        age = int(input('입력할 나이는 : '))\n",
    "        email = input('입력할 메일은 :')\n",
    "    except ValueError:\n",
    "        print('유효하지 않은 나이를 입력하신 경우 18세로 초기화')\n",
    "        age = 18\n",
    "        email = input('입력할 메일은 :')\n",
    "       \n",
    "    newMember = Member(name, age, email)\n",
    "    cursor.execute('INSERT INTO MEMBER VALUES (:name, :age, :email)', newMember.as_dic())\n",
    "    member_list.append(newMember)\n",
    "\n",
    "conn.commit()\n",
    "\n",
    "for member in member_list:\n",
    "    print(member)\n",
    "\n",
    "print('{}명 입력'.format(len(member_list)))"
   ]
  },
  {
   "cell_type": "code",
   "execution_count": null,
   "id": "9d572e90",
   "metadata": {},
   "outputs": [],
   "source": [
    "cursor.execute('SELECT * FROM MEMBER')\n",
    "cursor.fetchall()"
   ]
  },
  {
   "cell_type": "code",
   "execution_count": null,
   "id": "d1275946",
   "metadata": {},
   "outputs": [],
   "source": [
    "cursor.close()\n",
    "conn.close()"
   ]
  },
  {
   "cell_type": "markdown",
   "id": "c85366ac",
   "metadata": {},
   "source": [
    "# 2절. 오라클 데이터 베이스 연결\n",
    "- cx_Oracle"
   ]
  },
  {
   "cell_type": "code",
   "execution_count": null,
   "id": "0e73990c",
   "metadata": {},
   "outputs": [],
   "source": [
    "import cx_Oracle"
   ]
  },
  {
   "cell_type": "code",
   "execution_count": null,
   "id": "1eda32b7",
   "metadata": {},
   "outputs": [],
   "source": [
    "# conn 얻어오는 방법1\n",
    "oracle_dsn = cx_Oracle.makedsn(host=\"localhost\", port=1521, sid='xe')\n",
    "print(oracle_dsn)\n",
    "conn=cx_Oracle.connect('scott','tiger',dsn=oracle_dsn)\n",
    "conn\n",
    "# 여기서 예외가 날 경우 VC_redist.x64.exe 인스톨"
   ]
  },
  {
   "cell_type": "code",
   "execution_count": null,
   "id": "956e7aba",
   "metadata": {},
   "outputs": [],
   "source": [
    "conn.close()"
   ]
  },
  {
   "cell_type": "code",
   "execution_count": null,
   "id": "a1ddeda7",
   "metadata": {},
   "outputs": [],
   "source": [
    "# conn 얻어오는 방법2\n",
    "conn = cx_Oracle.connect('scott','tiger','localhost:1521/xe')\n",
    "conn"
   ]
  },
  {
   "cell_type": "code",
   "execution_count": null,
   "id": "a7e39641",
   "metadata": {},
   "outputs": [],
   "source": [
    "# cursor 객체 생성\n",
    "cursor = conn.cursor()\n",
    "sql = \"SELECT * FROM EMP\"\n",
    "cursor.execute(sql)\n",
    "emp = cursor.fetchall()"
   ]
  },
  {
   "cell_type": "code",
   "execution_count": null,
   "id": "1c504178",
   "metadata": {},
   "outputs": [],
   "source": [
    "for e in emp:\n",
    "    print(e)"
   ]
  },
  {
   "cell_type": "code",
   "execution_count": null,
   "id": "cfa4ba27",
   "metadata": {},
   "outputs": [],
   "source": [
    "import pandas as pd\n",
    "emp_df = pd.DataFrame(emp)\n",
    "emp_df.head()"
   ]
  },
  {
   "cell_type": "code",
   "execution_count": null,
   "id": "7fc2c0dc",
   "metadata": {},
   "outputs": [],
   "source": [
    "# select문 수행한 필드 정보\n",
    "cursor.description"
   ]
  },
  {
   "cell_type": "code",
   "execution_count": null,
   "id": "8ad26ee2",
   "metadata": {},
   "outputs": [],
   "source": [
    "result = []\n",
    "for description in cursor.description:\n",
    "    result.append(description[0])\n",
    "result"
   ]
  },
  {
   "cell_type": "code",
   "execution_count": null,
   "id": "77f779d2",
   "metadata": {},
   "outputs": [],
   "source": [
    "[row[0] for row in cursor.description]"
   ]
  },
  {
   "cell_type": "code",
   "execution_count": null,
   "id": "f1207e60",
   "metadata": {},
   "outputs": [],
   "source": [
    "emp_df.columns"
   ]
  },
  {
   "cell_type": "code",
   "execution_count": null,
   "id": "b37a3794",
   "metadata": {},
   "outputs": [],
   "source": [
    "emp_df.columns = [row[0] for row in cursor.description]\n",
    "emp_df"
   ]
  },
  {
   "cell_type": "code",
   "execution_count": null,
   "id": "6a95f332",
   "metadata": {},
   "outputs": [],
   "source": [
    "# 검색할 이름을 사용자에게 받아 해당 내용을 출력\n",
    "ename = input('검색할 이름은 : ')\n",
    "sql = \"SELECT * FROM EMP WHERE ENAME=UPPER(:name)\"\n",
    "cursor.execute(sql,{'name':ename})\n",
    "emp = cursor.fetchall()\n",
    "if len(emp):\n",
    "    for e in emp:\n",
    "        print(e)\n",
    "else:\n",
    "    print('입력하신 이름의 데이터는 없습니다')"
   ]
  },
  {
   "cell_type": "code",
   "execution_count": null,
   "id": "70fd497e",
   "metadata": {},
   "outputs": [],
   "source": [
    "fieldnames = [description[0] for description in cursor.description]\n",
    "print(fieldnames)\n",
    "print(e)"
   ]
  },
  {
   "cell_type": "code",
   "execution_count": null,
   "id": "2d9a7402",
   "metadata": {},
   "outputs": [],
   "source": [
    "for idx in range(len(e)):\n",
    "    print(\"{}:{}\".format(fieldnames[idx], e[idx] if e[idx] is not None else ''))"
   ]
  },
  {
   "cell_type": "code",
   "execution_count": null,
   "id": "b22f2ceb",
   "metadata": {},
   "outputs": [],
   "source": [
    "list(zip(fieldnames, e))"
   ]
  },
  {
   "cell_type": "code",
   "execution_count": null,
   "id": "c8047b76",
   "metadata": {},
   "outputs": [],
   "source": [
    "for fieldname, data in zip(fieldnames, e):\n",
    "    print(\"{}:{}\".format(fieldname, data if data is not None else '-'))"
   ]
  },
  {
   "cell_type": "code",
   "execution_count": null,
   "id": "58ca454d",
   "metadata": {},
   "outputs": [],
   "source": [
    "cursor.close()\n",
    "conn.close()"
   ]
  },
  {
   "cell_type": "markdown",
   "id": "851d9013",
   "metadata": {},
   "source": [
    "## 3. 연습문제"
   ]
  },
  {
   "cell_type": "code",
   "execution_count": 44,
   "id": "6595d976",
   "metadata": {},
   "outputs": [
    {
     "name": "stdout",
     "output_type": "stream",
     "text": [
      "1.입력 | 2.전체 조회 | 3.이름 찾기 | 4.메일 삭제 | 5.CSV 내보내기 | 0.종료\n",
      "메뉴 선택: 2\n",
      "================================================================================\n",
      "                                     고객 정보                                      \n",
      "--------------------------------------------------------------------------------\n",
      "GRADE\t이름\t전화\t\t메일\t\t나이\t기타\n",
      "*****\t김형진\t010-5555-5555\th@h.com\t\t30\t없음\n",
      "*****\t이현주\t010-6666-6666\tl@l.com\t\t24\t짝꿍\n",
      "*****\t김민준\t010-6566\tk@k.com\t\t31\t형\n",
      "================================================================================\n",
      "1.입력 | 2.전체 조회 | 3.이름 찾기 | 4.메일 삭제 | 5.CSV 내보내기 | 0.종료\n",
      "메뉴 선택: 0\n"
     ]
    }
   ],
   "source": [
    "def main():\n",
    "    while True:\n",
    "        print(\"1.입력\", \"2.전체 조회\", \"3.이름 찾기\", \"4.메일 삭제\", \"5.CSV 내보내기\", \"0.종료\",sep=\" | \")\n",
    "        try:\n",
    "            menu = int(input(\"메뉴 선택: \"))\n",
    "        except:\n",
    "            print(\"유효하지 않은 값을 입력하였습니다. 다시 선택해주세요.\")\n",
    "        if menu==1:\n",
    "            insert_member()\n",
    "        elif menu==2:\n",
    "            select_all()\n",
    "        elif menu==3:\n",
    "            select_name()\n",
    "        elif menu==4:\n",
    "            delete_email()\n",
    "        elif menu==5:\n",
    "            save_csv()\n",
    "        elif menu==0:\n",
    "            close_sql()\n",
    "            break\n",
    "if __name__=='__main__':\n",
    "    import sqlite3\n",
    "    global conn\n",
    "    conn = sqlite3.connect('data/data.db')\n",
    "    main()"
   ]
  },
  {
   "cell_type": "code",
   "execution_count": 35,
   "id": "31bce680",
   "metadata": {},
   "outputs": [],
   "source": [
    "class Member:\n",
    "    def __init__(self, name, phone, email, age, grade, etc):\n",
    "        self.name = name\n",
    "        self.phone = phone\n",
    "        self.email = email\n",
    "        self.age = age\n",
    "        self.grade = grade\n",
    "        self.etc = etc\n",
    "        \n",
    "    def __str__(self):\n",
    "        if(len(self.email)<8):\n",
    "            return '{:>5}\\t{}\\t{}\\t{}\\t\\t{}\\t{}'.format('*' * self.grade, self.name, self.phone,self.email,\n",
    "                                          self.age, self.etc)\n",
    "        else:\n",
    "            return '{:>5}\\t{}\\t{}\\t{}\\t{}\\t{}'.format('*' * self.grade, self.name, self.phone,self.email,\n",
    "                                          self.age, self.etc)\n",
    "        \n",
    "    def as_dict(self):\n",
    "        return {'name':self.name, 'phone':self.phone, 'email':self.email,'age':self.age,'grade':self.grade,'etc':self.etc}"
   ]
  },
  {
   "cell_type": "code",
   "execution_count": 36,
   "id": "ed3a3206",
   "metadata": {},
   "outputs": [],
   "source": [
    "def to_member(*row): # 튜플 데이터를 매개변수로 받아 Member형 객체로 반환\n",
    "    return Member(row[0],row[1],row[2],row[3],row[4],row[5])"
   ]
  },
  {
   "cell_type": "code",
   "execution_count": 37,
   "id": "a4e1c9e0",
   "metadata": {},
   "outputs": [],
   "source": [
    "# 1.입력\n",
    "def insert_member():\n",
    "    cursor = conn.cursor()\n",
    "    sql = \"INSERT INTO MEMBER VALUES (:name, :phone, :email, :age, :grade, :etc)\"\n",
    "    name = input(\"이름>\")\n",
    "    phone = input(\"전화번호>\")\n",
    "    email = input(\"이메일>\")\n",
    "    try:\n",
    "        age = int(input(\"나이>\"))\n",
    "        if age <= 0 :\n",
    "            raise ValueError\n",
    "    except ValueError:\n",
    "        age = 18\n",
    "        print('유효하지 않은 값을 입력하여 18세로 설정')\n",
    "    try:\n",
    "        grade = int(input(\"등급>\"))\n",
    "        if not (1<= grade <= 5):\n",
    "            raise ValueError\n",
    "    except ValueError:\n",
    "        grade = 1\n",
    "        print('유효하지 않은 값을 입력하여 1등급으로 설정')\n",
    "    etc = input(\"기타>\")\n",
    "    new_member=Member(name,phone,email,age,grade,etc)\n",
    "    cursor.execute(sql,new_member.as_dict())"
   ]
  },
  {
   "cell_type": "code",
   "execution_count": 38,
   "id": "13504b5f",
   "metadata": {},
   "outputs": [],
   "source": [
    "# 2. 전체 출력\n",
    "def select_all():\n",
    "    cursor = conn.cursor()\n",
    "    sql = \"SELECT * FROM MEMBER\"\n",
    "    cursor.execute(sql)\n",
    "    results = cursor.fetchall()\n",
    "    member_list=[]\n",
    "    \n",
    "    for result in results:\n",
    "        member_list.append(Member(*result))\n",
    "    print('='*80)\n",
    "    print('{:^80}'.format('고객 정보'))\n",
    "    print('-'*80)\n",
    "    print('{}\\t{}\\t{}\\t\\t{}\\t\\t{}\\t{}'.format('GRADE','이름','전화','메일','나이','기타'))\n",
    "    if len(member_list):\n",
    "        for member in member_list:\n",
    "            print(member)\n",
    "    else:\n",
    "        print(\"데이터가 없습니다\")\n",
    "    print('='*80)"
   ]
  },
  {
   "cell_type": "code",
   "execution_count": 40,
   "id": "b1fbb53e",
   "metadata": {},
   "outputs": [],
   "source": [
    "# 3. 이름 검색\n",
    "def select_name():\n",
    "    cursor = conn.cursor()\n",
    "    sql = \"SELECT * FROM MEMBER WHERE NAME = (:name)\"\n",
    "    name=input(\"이름>\")\n",
    "    cursor.execute(sql,{'name':name})\n",
    "    \n",
    "    results = cursor.fetchall()\n",
    "    member_list=[]\n",
    "    \n",
    "    for result in results:\n",
    "        member_list.append(Member(*result))\n",
    "    print('='*80)\n",
    "    print('{:^80}'.format('고객 정보'))\n",
    "    print('-'*80)\n",
    "    print('{}\\t{}\\t{}\\t\\t{}\\t\\t{}\\t{}'.format('GRADE','이름','전화','메일','나이','기타'))\n",
    "    if len(member_list):\n",
    "        for member in member_list:\n",
    "            print(member)\n",
    "    else:\n",
    "        print(\"데이터가 없습니다\")\n",
    "    print('='*80)"
   ]
  },
  {
   "cell_type": "code",
   "execution_count": 41,
   "id": "7aea68e3",
   "metadata": {},
   "outputs": [],
   "source": [
    "# 4. 메일 삭제\n",
    "def delete_email():\n",
    "    cursor = conn.cursor()\n",
    "    sql = \"DELETE FROM MEMBER WHERE EMAIL = (:email)\"\n",
    "    email = input(\"메일>\")\n",
    "    cursor.execute(sql,{'email':email})\n",
    "    print('{}명 삭제'.format(cursor.rowcount))"
   ]
  },
  {
   "cell_type": "code",
   "execution_count": 42,
   "id": "177a0874",
   "metadata": {},
   "outputs": [],
   "source": [
    "# 5. CSV 내보내기\n",
    "def save_csv():\n",
    "    import csv\n",
    "    \n",
    "    cursor = conn.cursor()\n",
    "    sql = \"SELECT * FROM MEMBER\"\n",
    "    cursor.execute(sql)\n",
    "    results = cursor.fetchall()\n",
    "    member_list=[]\n",
    "    \n",
    "    for result in results:\n",
    "        member_list.append(Member(*result).as_dict())\n",
    "    \n",
    "    fieldnames = [description[0] for description in cursor.description]\n",
    "    \n",
    "    with open('data/data.csv','w',encoding='utf-8',newline='') as f:\n",
    "        dict_writer=csv.DictWriter(f,fieldnames)\n",
    "        dict_writer.writerows(member_list)\n",
    "    \n",
    "    print(\"저장완료\")"
   ]
  },
  {
   "cell_type": "code",
   "execution_count": 43,
   "id": "e6176488",
   "metadata": {},
   "outputs": [],
   "source": [
    "def close_sql():\n",
    "    conn.commit()\n",
    "    conn.close()"
   ]
  },
  {
   "cell_type": "code",
   "execution_count": 46,
   "id": "409f4c25",
   "metadata": {},
   "outputs": [
    {
     "name": "stdout",
     "output_type": "stream",
     "text": [
      "1.입력 | 2.전체 조회 | 3.이름 찾기 | 4.메일 삭제 | 5.CSV 내보내기 | 0.종료\n",
      "메뉴 선택: 2\n",
      "================================================================================\n",
      "                                     고객 정보                                      \n",
      "--------------------------------------------------------------------------------\n",
      "GRADE\t이름\t전화\t\t메일\t\t나이\t기타\n",
      "*****\t김형진\t010-5555-5555\th@h.com\t\t30\t없음\n",
      "================================================================================\n",
      "1.입력 | 2.전체 조회 | 3.이름 찾기 | 4.메일 삭제 | 5.CSV 내보내기 | 0.종료\n",
      "메뉴 선택: 0\n"
     ]
    }
   ],
   "source": [
    "def main():\n",
    "    while True:\n",
    "        print(\"1.입력\", \"2.전체 조회\", \"3.이름 찾기\", \"4.메일 삭제\", \"5.CSV 내보내기\", \"0.종료\",sep=\" | \")\n",
    "        try:\n",
    "            menu = int(input(\"메뉴 선택: \"))\n",
    "        except:\n",
    "            print(\"유효하지 않은 값을 입력하였습니다. 다시 선택해주세요.\")\n",
    "        if menu==1:\n",
    "            insert_member()\n",
    "        elif menu==2:\n",
    "            select_all()\n",
    "        elif menu==3:\n",
    "            select_name()\n",
    "        elif menu==4:\n",
    "            delete_email()\n",
    "        elif menu==5:\n",
    "            save_csv()\n",
    "        elif menu==0:\n",
    "            close_sql()\n",
    "            break\n",
    "if __name__=='__main__':\n",
    "    import cx_Oracle\n",
    "    global conn\n",
    "    conn = cx_Oracle.connect('scott','tiger','localhost:1521/xe')\n",
    "    main()"
   ]
  },
  {
   "cell_type": "code",
   "execution_count": null,
   "id": "0d748d1f",
   "metadata": {},
   "outputs": [],
   "source": [
    "#1 4\n",
    "#2 2"
   ]
  }
 ],
 "metadata": {
  "kernelspec": {
   "display_name": "Python 3 (ipykernel)",
   "language": "python",
   "name": "python3"
  },
  "language_info": {
   "codemirror_mode": {
    "name": "ipython",
    "version": 3
   },
   "file_extension": ".py",
   "mimetype": "text/x-python",
   "name": "python",
   "nbconvert_exporter": "python",
   "pygments_lexer": "ipython3",
   "version": "3.10.9"
  },
  "toc": {
   "base_numbering": 1,
   "nav_menu": {},
   "number_sections": true,
   "sideBar": true,
   "skip_h1_title": false,
   "title_cell": "Table of Contents",
   "title_sidebar": "Contents",
   "toc_cell": false,
   "toc_position": {},
   "toc_section_display": true,
   "toc_window_display": false
  }
 },
 "nbformat": 4,
 "nbformat_minor": 5
}
