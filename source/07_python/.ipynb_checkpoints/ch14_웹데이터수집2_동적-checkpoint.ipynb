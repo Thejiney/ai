{
 "cells": [
  {
   "cell_type": "markdown",
   "id": "db1538e6",
   "metadata": {},
   "source": [
    "<b><font color=\"red\" size=\"6\">ch14. 웹데이터 수집</font></b>\n",
    "# 1절. Selenium을 이용한 동적 웹크롤링 문법\n",
    "- https://selenium-python.readthedocs.io/index.html\n",
    "<br>`pip install selenium`"
   ]
  },
  {
   "cell_type": "code",
   "execution_count": null,
   "id": "20e30682",
   "metadata": {},
   "outputs": [],
   "source": [
    "from selenium import webdriver\n",
    "from selenium.webdriver.common.by import By\n",
    "import time"
   ]
  },
  {
   "cell_type": "code",
   "execution_count": null,
   "id": "5b5c36f7",
   "metadata": {},
   "outputs": [],
   "source": [
    "dv = webdriver.Chrome()\n",
    "dv.get('http://python.org')\n",
    "elem = dv.find_element(By.NAME, 'q')\n",
    "elem.clear()\n",
    "elem.send_keys('pycon')"
   ]
  },
  {
   "cell_type": "code",
   "execution_count": null,
   "id": "0ee99a3c",
   "metadata": {},
   "outputs": [],
   "source": [
    "from selenium.webdriver.common.keys import Keys\n",
    "elem.send_keys(Keys.RETURN) # enter키 효과"
   ]
  },
  {
   "cell_type": "code",
   "execution_count": null,
   "id": "d9b11cbb",
   "metadata": {},
   "outputs": [],
   "source": [
    "btn_elem = dv.find_element(By.CSS_SELECTOR, 'button#submit')\n",
    "btn_elem.click()"
   ]
  },
  {
   "cell_type": "code",
   "execution_count": null,
   "id": "c33a28d6",
   "metadata": {},
   "outputs": [],
   "source": [
    "result_list = dv.find_elements(By.CSS_SELECTOR, 'li > h3 > a')\n",
    "for result in result_list:\n",
    "    print(\"%s - %s\" % (result.text, result.get_attribute('href')))"
   ]
  },
  {
   "cell_type": "code",
   "execution_count": null,
   "id": "13219ef0",
   "metadata": {},
   "outputs": [],
   "source": [
    "from bs4 import BeautifulSoup\n",
    "soup = BeautifulSoup(dv.page_source, 'html.parser')\n",
    "result_list = soup.select('li > h3 > a')\n",
    "for result in result_list:\n",
    "    print('%s - %s' % (result.text, result.attrs['href']))"
   ]
  },
  {
   "cell_type": "code",
   "execution_count": null,
   "id": "195069bc",
   "metadata": {},
   "outputs": [],
   "source": [
    "from urllib.parse import urlparse\n",
    "current_url = dv.current_url # 셀레니윰을 통해 접근한 현재 url\n",
    "print('현재주소 :',current_url)\n",
    "parse_url = urlparse(current_url)\n",
    "print(parse_url,parse_url.scheme, parse_url.netloc)\n",
    "domain = f'{parse_url.scheme}://{parse_url.netloc}'\n",
    "domain = '{}://{}'.format(parse_url.scheme, parse_url.netloc)\n",
    "print('도메인 :',domain)"
   ]
  },
  {
   "cell_type": "code",
   "execution_count": null,
   "id": "404ea417",
   "metadata": {},
   "outputs": [],
   "source": [
    "from bs4 import BeautifulSoup\n",
    "soup = BeautifulSoup(dv.page_source, 'html.parser')\n",
    "result_list = soup.select('li > h3 > a')\n",
    "for result in result_list:\n",
    "    print('%s - %s' % (result.text, domain+result.attrs['href']))"
   ]
  },
  {
   "cell_type": "code",
   "execution_count": null,
   "id": "3781b847",
   "metadata": {},
   "outputs": [],
   "source": [
    "dv.close() # 브라우저 종료"
   ]
  },
  {
   "cell_type": "markdown",
   "id": "91b7b10e",
   "metadata": {},
   "source": [
    "# 2절. 동적웹크롤링 예제\n",
    "## 2-1 다음 뉴스 검색"
   ]
  },
  {
   "cell_type": "code",
   "execution_count": null,
   "id": "ae91eebb",
   "metadata": {},
   "outputs": [],
   "source": [
    "from selenium import webdriver\n",
    "from selenium.webdriver.common.by import By\n",
    "from selenium.webdriver.common.keys import Keys\n",
    "import time\n",
    "driver = webdriver.Chrome()\n",
    "url = 'https://daum.net'\n",
    "driver.get(url)\n",
    "# driver.implicitly_wait(0.5) # 0.5초 요소를 찾을 때까지 대기시간\n",
    "time.sleep(0.5) # 0.5초 대기\n",
    "driver.find_element(By.CLASS_NAME, 'tf_keyword').click()\n",
    "query = input('검색할 단어는 ?')\n",
    "driver.find_element(By.CSS_SELECTOR, 'input[type=\"text\"]').send_keys(query)\n",
    "driver.find_element(By.CLASS_NAME, 'btn_ksearch').click()"
   ]
  },
  {
   "cell_type": "code",
   "execution_count": null,
   "id": "61497a7d",
   "metadata": {},
   "outputs": [],
   "source": [
    "# 뉴스 탭 클릭\n",
    "driver.find_elements(By.CSS_SELECTOR, 'ul.list_tab > li')[1].click()"
   ]
  },
  {
   "cell_type": "code",
   "execution_count": null,
   "id": "83514013",
   "metadata": {},
   "outputs": [],
   "source": [
    "news_list = []\n",
    "bodies = driver.find_elements(By.CSS_SELECTOR, 'div.item-title > strong.tit-g.clamp-g')\n",
    "bodies = driver.find_elements(By.CSS_SELECTOR, 'div[class=\"item-title\"] > strong.tit-g.clamp-g')\n",
    "# print(len(bodies))\n",
    "\n",
    "for body in bodies:\n",
    "    a = body.find_element(By.TAG_NAME, 'a')\n",
    "    title = a.text\n",
    "    link = a.get_attribute('href')\n",
    "    news_list.append([title, link])\n",
    "    print(title,link)"
   ]
  },
  {
   "cell_type": "code",
   "execution_count": null,
   "id": "a314cb5e",
   "metadata": {},
   "outputs": [],
   "source": [
    "page_nav = driver.find_element(By.CSS_SELECTOR, 'div.inner_paging')\n",
    "next_page = page_nav.find_element(By.LINK_TEXT, '2')\n",
    "next_page.click()"
   ]
  },
  {
   "cell_type": "markdown",
   "id": "c8b83199",
   "metadata": {},
   "source": [
    "## 2-2 페이징 처리\n",
    "- 다음 뉴스 페이징 처리"
   ]
  },
  {
   "cell_type": "code",
   "execution_count": null,
   "id": "1f2a563e",
   "metadata": {},
   "outputs": [],
   "source": [
    "# 원하는 페이지 만큼 검색하여 검색 결과 데이터프레임으로 출력\n",
    "driver = webdriver.Chrome()\n",
    "time.sleep(1)\n",
    "\n",
    "url = 'https://daum.net'\n",
    "driver.get(url)\n",
    "# driver.implicitly_wait(0.5) # 0.5초 요소를 찾을 때까지 대기시간\n",
    "driver.find_element(By.CLASS_NAME, 'tf_keyword').click()\n",
    "query = input('검색할 단어는 ?')\n",
    "driver.find_element(By.CSS_SELECTOR, 'input[type=\"text\"]').send_keys(query)\n",
    "driver.find_element(By.CLASS_NAME, 'btn_ksearch').click()\n",
    "\n",
    "# 뉴스 탭 클릭\n",
    "driver.find_elements(By.CSS_SELECTOR, 'ul.list_tab > li')[1].click()\n",
    "\n",
    "news_list = []\n",
    "\n",
    "page_numbers = int(input('몇 페이지 크롤링 할까요?'))\n",
    "for page_number in range(1, page_numbers+1):\n",
    "    \n",
    "    bodies = driver.find_elements(By.CSS_SELECTOR, 'div.item-title > strong.tit-g.clamp-g')\n",
    "    bodies = driver.find_elements(By.CSS_SELECTOR, 'div[class=\"item-title\"] > strong.tit-g.clamp-g')\n",
    "    # print(len(bodies))\n",
    "    print(f'----------------{page_number}page 크롤링 결과----------------')\n",
    "    for body in bodies:\n",
    "        a = body.find_element(By.TAG_NAME, 'a')\n",
    "        title = a.text\n",
    "        link = a.get_attribute('href')\n",
    "        news_list.append([title, link])\n",
    "        print(title,link)\n",
    "\n",
    "    page_nav = driver.find_element(By.CSS_SELECTOR, 'div.inner_paging')\n",
    "    next_page = page_nav.find_element(By.LINK_TEXT, str(page_number+1))\n",
    "    next_page.click()\n",
    "    time.sleep(1)\n",
    "driver.close()\n",
    "import pandas as pd\n",
    "display(pd.DataFrame(news_list, columns=['title','link']).head())\n"
   ]
  },
  {
   "cell_type": "markdown",
   "id": "92c4f995",
   "metadata": {},
   "source": [
    "## 2-3 맞춤법 검사기\n",
    "- 네이버 맞춤법 검사기 이용"
   ]
  },
  {
   "cell_type": "code",
   "execution_count": null,
   "id": "354dbc8c",
   "metadata": {},
   "outputs": [],
   "source": [
    "from selenium import webdriver\n",
    "from selenium.webdriver.common.keys import Keys\n",
    "from selenium.webdriver.common.by import By\n",
    "from bs4 import BeautifulSoup\n",
    "import time"
   ]
  },
  {
   "cell_type": "code",
   "execution_count": null,
   "id": "32a8b078",
   "metadata": {},
   "outputs": [],
   "source": [
    "driver = webdriver.Chrome()\n",
    "time.sleep(0.5)\n",
    "driver.get('https://www.naver.com/')\n",
    "elem = driver.find_element(By.CSS_SELECTOR, 'input#query')\n",
    "elem.send_keys('맞춤법 검사기')\n",
    "elem.send_keys(Keys.RETURN) # enter 키\n",
    "\n",
    "textarea = driver.find_element(By.CLASS_NAME, 'txt_gray')\n",
    "textarea.send_keys('안녕하세요. 안뇽하세요. 방갑습니다')\n",
    "\n",
    "button = driver.find_element(By.CLASS_NAME, 'btn_check')\n",
    "button.click()\n",
    "\n",
    "time.sleep(0.5)\n",
    "soup = BeautifulSoup(driver.page_source, 'html.parser')\n",
    "result = soup.select_one('p._result_text.stand_txt').text\n",
    "driver.close()\n",
    "result"
   ]
  },
  {
   "cell_type": "markdown",
   "id": "dff76b7e",
   "metadata": {},
   "source": [
    "### 맞춤법 검사 전 text파일을 맞춤법 검사 완료된 text파일로 output"
   ]
  },
  {
   "cell_type": "code",
   "execution_count": null,
   "id": "cc0c76aa",
   "metadata": {},
   "outputs": [],
   "source": [
    "# f = open('data/ch14_맞춤법검사전.txt','r',encoding='utf-8')\n",
    "# text = f.read()\n",
    "# f.close()"
   ]
  },
  {
   "cell_type": "code",
   "execution_count": null,
   "id": "67773831",
   "metadata": {},
   "outputs": [],
   "source": [
    "with open('data/ch14_맞춤법검사전.txt', 'r', encoding = 'utf-8') as f:\n",
    "    text = f.read()\n",
    "ready_list = []\n",
    "while(len(text) > 300):\n",
    "    temp = text[:300]\n",
    "    last_dot_index = temp.rfind('\\n')\n",
    "    ready_list.append(text[:last_dot_index+1])\n",
    "    print(last_dot_index)\n",
    "    text = text[last_dot_index+1 : ]\n",
    "ready_list.append(text[1:])"
   ]
  },
  {
   "cell_type": "code",
   "execution_count": null,
   "id": "673db532",
   "metadata": {},
   "outputs": [],
   "source": [
    "# ready_list 확인\n",
    "[len(ready) for ready in ready_list]"
   ]
  },
  {
   "cell_type": "code",
   "execution_count": null,
   "id": "31efb23d",
   "metadata": {},
   "outputs": [],
   "source": [
    "driver = webdriver.Chrome()\n",
    "time.sleep(1)\n",
    "driver.get('https://www.naver.com')\n",
    "elem = driver.find_element(By.NAME,'query')\n",
    "elem.send_keys('맞춤법 검사기')\n",
    "elem.send_keys(Keys.RETURN)\n",
    "time.sleep(1) # 1초 대기\n",
    "# driver.implicitly_wait(1)\n",
    "\n",
    "results = '' # 맞춤법 검사 완료된 text\n",
    "textarea = driver.find_element(By.CLASS_NAME,'txt_gray')\n",
    "\n",
    "for ready in ready_list:\n",
    "    textarea.send_keys(Keys.CONTROL, 'a') # ctrl + a\n",
    "    textarea.send_keys(ready)\n",
    "    button = driver.find_element(By.CLASS_NAME,'btn_check')\n",
    "    button.click()\n",
    "    time.sleep(1)\n",
    "    soup = BeautifulSoup(driver.page_source, 'html.parser')\n",
    "    result = soup.select_one('p._result_text').text\n",
    "    results += result+'\\n'\n",
    "driver.close()"
   ]
  },
  {
   "cell_type": "code",
   "execution_count": null,
   "id": "f5062155",
   "metadata": {},
   "outputs": [],
   "source": [
    "print(results)"
   ]
  },
  {
   "cell_type": "code",
   "execution_count": null,
   "id": "5cc4f2aa",
   "metadata": {},
   "outputs": [],
   "source": [
    "# 맞춤법 결과 result를 data/ch14_맞춤법검사후.txt로 출력\n",
    "with open('data/ch14_맞춤법검사후.txt','w',encoding='utf-8')as f:\n",
    "    f.write(results)"
   ]
  },
  {
   "cell_type": "markdown",
   "id": "d7e4cc53",
   "metadata": {},
   "source": [
    "# 연습문제"
   ]
  },
  {
   "cell_type": "code",
   "execution_count": 30,
   "id": "87f59143",
   "metadata": {},
   "outputs": [],
   "source": [
    "# 필요한 package import\n",
    "from selenium import webdriver\n",
    "from selenium.webdriver.common.keys import Keys\n",
    "from selenium.webdriver.common.by import By\n",
    "from bs4 import BeautifulSoup\n",
    "import time\n",
    "\n",
    "\n",
    "# 파일 읽어오기\n",
    "with open('data/ch14_맞춤법검사후.txt','r',encoding='utf-8')as f:\n",
    "    text=f.read()\n",
    "\n",
    "\n",
    "# 검색할 text 재단\n",
    "text_list=[]\n",
    "while(len(text)>1000):\n",
    "    temp = text[:1000]\n",
    "    last_dot_index=temp.rfind('.')\n",
    "    text_list.append(temp[:last_dot_index+1])\n",
    "    text=text[last_dot_index+1:]\n",
    "text_list.append(text)\n",
    "\n",
    "\n",
    "# 브라우저 실행\n",
    "driver = webdriver.Chrome()\n",
    "driver.get('https://translate.kakao.com/')\n",
    "\n",
    "\n",
    "# 검색과 for문 결합\n",
    "results = ''\n",
    "for text in text_list:\n",
    "    # 검색할 text 입력 및 버튼 실행\n",
    "    elem = driver.find_element(By.CLASS_NAME, 'translate_area')\n",
    "    elem.clear()\n",
    "    elem.send_keys(text)\n",
    "    button = driver.find_element(By.CLASS_NAME, 'btn_translate')\n",
    "    button.click()\n",
    "    # 검색후 결과 읽어오기\n",
    "    time.sleep(1)\n",
    "    soup = BeautifulSoup(driver.page_source, 'html.parser')\n",
    "    results += soup.select_one('div.result_area').text+'\\n'\n",
    "    \n",
    "#브라우저 종료 후 파일 출력\n",
    "driver.close()\n",
    "with open('data/ch14_영문번역.txt','w',encoding='utf-8') as f:\n",
    "    f.write(results)"
   ]
  },
  {
   "cell_type": "markdown",
   "id": "81f30ab4",
   "metadata": {},
   "source": [
    "# 3절. 자동화\n",
    "## 3-1. 컴퓨터가 파이썬을 실행\n",
    "    - unix : corn\n",
    "    - win : 작업스케쥴러\n",
    "        * window + R : taskschd.msc\n",
    "## 3-2. 파이썬 프로그램에서 스케쥴링\n",
    "    - pip install schedule\n",
    "        "
   ]
  },
  {
   "cell_type": "code",
   "execution_count": null,
   "id": "8f1ff993",
   "metadata": {},
   "outputs": [],
   "source": [
    "import schedule\n",
    "import time\n",
    "\n",
    "def job():\n",
    "    print('작업이 실행되었습니다.')\n",
    "# job함수는 10초마다 수행할 거야\n",
    "schedule.every(10).seconds.do(job)\n",
    "\n",
    "# schedule.every().day.at('17:59').do(job)\n",
    "# schedule.every().hour.do(job)\n",
    "# schedule.every(1).minutes.do(job)"
   ]
  }
 ],
 "metadata": {
  "kernelspec": {
   "display_name": "Python 3 (ipykernel)",
   "language": "python",
   "name": "python3"
  },
  "language_info": {
   "codemirror_mode": {
    "name": "ipython",
    "version": 3
   },
   "file_extension": ".py",
   "mimetype": "text/x-python",
   "name": "python",
   "nbconvert_exporter": "python",
   "pygments_lexer": "ipython3",
   "version": "3.10.9"
  },
  "toc": {
   "base_numbering": 1,
   "nav_menu": {},
   "number_sections": true,
   "sideBar": true,
   "skip_h1_title": false,
   "title_cell": "Table of Contents",
   "title_sidebar": "Contents",
   "toc_cell": false,
   "toc_position": {},
   "toc_section_display": true,
   "toc_window_display": false
  }
 },
 "nbformat": 4,
 "nbformat_minor": 5
}
