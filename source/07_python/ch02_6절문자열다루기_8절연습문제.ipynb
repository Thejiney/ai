{
 "cells": [
  {
   "cell_type": "markdown",
   "id": "db9f745a",
   "metadata": {},
   "source": [
    "# 6절.문자열 다루기\n",
    "- 문자열슬라이싱변수[from:to:by]\n",
    "- len(문자열변수)\n",
    "- upper() : 대문자\n",
    "- lower() : 소문자\n",
    "- title() : 각 음절의 앞글자만 대문자로 변경\n",
    "- capitalize() : 첫문자만 대문자로\n",
    "- count('찾을문자열') : '찾을문자열' 이 몇개 들어있는지 갯수 반환\n",
    "- find('찾을문자열') : '찾을문자열' 이 왼쪽부터 시작하여 몇번째에 있는지 index를 반환                                (찾을 문자열이 없으면 -1을 반환)\n",
    "- rfind('찾을문자열') : '찾을문자열' 이 맨 오른쪽부터 시작하여 몇번째에 있는지 index를 반환                           (찾을 문자열이 없으면 -1을 반환)\n",
    "- cf.index('찾을문자열') : '찾을문자열' 이 왼쪽부터 시작하여 몇번째 있는지 index를 반환                                 (찾을 문자열이 없으면 오류가 발생함)\n",
    "- startswith('특정문자열') : '특정문자열' 로 시작하는지 여부 를 반환\n",
    "- endswith('특정문자열') : '특정문자열' 로 끝나는지 여부 를 반환\n",
    "- strip() : 좌우 공백 제거(trim)\n",
    "- rstrip() : 오른쪽 공백 제거\n",
    "- lstrip() : 왼쪽 공백 제거\n",
    "- split() : 문자열을 공백이나 다른 문자 기준으로 나누어 리스트로 반환\n",
    "- isdigit() : 문자열이 숫자 문자열인지 여부 반환\n",
    "- islower() : 문자열이 소문자인지 여부 반환\n",
    "- isupper() : 문자열이 대문자인지 여부 반환\n",
    "- replace(oldStr, newStr) : oldStr을 newStr을 변경"
   ]
  },
  {
   "cell_type": "code",
   "execution_count": 11,
   "id": "1ef78e95",
   "metadata": {},
   "outputs": [
    {
     "data": {
      "text/plain": [
       "('python is easy. python is smart. python', 39)"
      ]
     },
     "execution_count": 11,
     "metadata": {},
     "output_type": "execute_result"
    }
   ],
   "source": [
    "temp = \"python is easy. python is smart. python\"\n",
    "temp, len(temp)"
   ]
  },
  {
   "cell_type": "code",
   "execution_count": 13,
   "id": "446919e1",
   "metadata": {},
   "outputs": [
    {
     "name": "stdout",
     "output_type": "stream",
     "text": [
      "첫번째 글자는 p이고, 마지막 글자는 n입니다\n"
     ]
    }
   ],
   "source": [
    "print('첫번째 글자는 {}이고, 마지막 글자는 {}입니다'.format(temp[0], temp[-1]))"
   ]
  },
  {
   "cell_type": "code",
   "execution_count": 14,
   "id": "46f5b695",
   "metadata": {},
   "outputs": [
    {
     "name": "stdout",
     "output_type": "stream",
     "text": [
      "전화번호 끝자리:  2132\n"
     ]
    }
   ],
   "source": [
    "tel = \"010-7894-2132\"\n",
    "print('전화번호 끝자리: ' , tel[-4:])"
   ]
  },
  {
   "cell_type": "code",
   "execution_count": 43,
   "id": "818c64b1",
   "metadata": {},
   "outputs": [
    {
     "name": "stdout",
     "output_type": "stream",
     "text": [
      "대문자로 : PYTHON IS EASY. PYTHON IS SMART. PYTHON\n",
      "소문자로 : python is easy. python is smart. python\n",
      "title() : Python Is Easy. Python Is Smart. Python\n",
      "capitalize(): Python is easy. python is smart. python\n",
      "python이 몇번 나오는지 : 2\n",
      "대소문자 구분없이 python이 몇번 나오는지 : 3\n",
      "대소문자 구분없이 python이 몇번 나오는지 : 3\n",
      "대소문자 구분없이 python이 몇번 나오는지 : 3\n",
      "python이 나오는 첫 index 위치 : 0\n",
      "python이 나오는 마지막 index 위치 : 33\n",
      "Java가 나오는 첫 index 위치 : -1\n",
      "python이 나오는 첫 index 위치 : 0\n",
      "python으로 시작하는 문자열인지 : False\n",
      "python으로 끝나는 문자열인지 : True\n",
      "python대신 R로 변경 : R is easy. R is smart. R\n"
     ]
    }
   ],
   "source": [
    "temp = \"python is easy. pyTHon is smart. python\"\n",
    "#       012345678901234567890123456789012345678\n",
    "print('대문자로 :', temp.upper())\n",
    "print('소문자로 :', temp.lower())\n",
    "print('title() :', temp.title())\n",
    "print('capitalize():', temp.capitalize())\n",
    "print('python이 몇번 나오는지 :', temp.count('python'))\n",
    "print('대소문자 구분없이 python이 몇번 나오는지 :', temp.upper().count('PYTHON'))\n",
    "print('대소문자 구분없이 python이 몇번 나오는지 :', temp.lower().count('python'))\n",
    "print('대소문자 구분없이 python이 몇번 나오는지 :', temp.title().count('Python'))\n",
    "print('python이 나오는 첫 index 위치 :', temp.find('python'))\n",
    "print('python이 나오는 마지막 index 위치 :', temp.rfind('python'))\n",
    "print('Java가 나오는 첫 index 위치 :', temp.find('Java'))\n",
    "print('python이 나오는 첫 index 위치 :', temp.index('python'))\n",
    "# print('Java가 나오는 첫 index 위치 :', temp.index('Java'))\n",
    "print('python으로 시작하는 문자열인지 :',temp.startswith('Python'))\n",
    "print('python으로 끝나는 문자열인지 :',temp.endswith('python'))\n",
    "print('python대신 R로 변경 :', temp.replace('python','R').replace('pyTHon','R'))"
   ]
  },
  {
   "cell_type": "code",
   "execution_count": 53,
   "id": "f5d349c2",
   "metadata": {},
   "outputs": [
    {
     "name": "stdout",
     "output_type": "stream",
     "text": [
      "strip() : [python is easy]\n",
      "lstrip() : [python is easy   ]\n",
      "rstrip() : [   python is easy]\n",
      "isdigit() : True\n",
      "대문자인지 : False\n",
      "소문자인지 : True\n"
     ]
    }
   ],
   "source": [
    "temp = '   python is easy   '\n",
    "notdisit = '1,234'\n",
    "print('strip() : [{}]'.format(temp.strip()))\n",
    "print('lstrip() : [{}]'.format(temp.lstrip()))\n",
    "print('rstrip() : [{}]'.format(temp.rstrip()))\n",
    "print('isdigit() : {}'.format(notdisit.replace(',','').isdigit()))\n",
    "print('대문자인지 : {}'.format(temp.isupper()))\n",
    "print('소문자인지 : {}'.format(temp.islower()))"
   ]
  },
  {
   "cell_type": "code",
   "execution_count": 55,
   "id": "f353563b",
   "metadata": {},
   "outputs": [
    {
     "name": "stdout",
     "output_type": "stream",
     "text": [
      "space 단위로 temp를 분리(list로 반환) : ['홍길동', '김길동', '신길똥', '유길뚱']\n"
     ]
    }
   ],
   "source": [
    "temp = '     홍길동     김길동 신길똥 유길뚱'\n",
    "print('space 단위로 temp를 분리(list로 반환) :', temp.split())"
   ]
  },
  {
   "cell_type": "code",
   "execution_count": 57,
   "id": "ae942dc9",
   "metadata": {},
   "outputs": [
    {
     "name": "stdout",
     "output_type": "stream",
     "text": [
      "- 단위로 date를 분리(list로 반환)합니다\n",
      "년 : 2024\n",
      "월 : 11\n",
      "일 : 05\n"
     ]
    }
   ],
   "source": [
    "date = '2024-11-05'\n",
    "print('- 단위로 date를 분리(list로 반환)합니다')\n",
    "date_list = date.split('-')\n",
    "date_list\n",
    "print('년 :', date_list[0])\n",
    "print('월 :', date_list[1])\n",
    "print('일 :', date_list[2])"
   ]
  },
  {
   "cell_type": "code",
   "execution_count": 63,
   "id": "274027d1",
   "metadata": {},
   "outputs": [
    {
     "name": "stdout",
     "output_type": "stream",
     "text": [
      "원 temp : Java - Oracle - 웹표준 - JSP - PYTHON\n",
      "분리된 temp : ['Java', 'Oracle', '웹표준', 'JSP', 'PYTHON']\n",
      "joined_temp : Java/Oracle/웹표준/JSP/PYTHON\n"
     ]
    }
   ],
   "source": [
    "# ' - '을 '/'로 바꾸기\n",
    "temp = \"Java - Oracle - 웹표준 - JSP - PYTHON\"\n",
    "print('원 temp :',temp)\n",
    "splited_temp = temp.split(' - ')\n",
    "print('분리된 temp :',splited_temp)\n",
    "joined_temp = '/'.join(splited_temp)\n",
    "print('joined_temp :', joined_temp)"
   ]
  },
  {
   "cell_type": "code",
   "execution_count": 64,
   "id": "3a197cf0",
   "metadata": {},
   "outputs": [
    {
     "name": "stdout",
     "output_type": "stream",
     "text": [
      "A\n",
      "B\n",
      "C\n"
     ]
    }
   ],
   "source": [
    "str_='ABC' # ['A','B','C']\n",
    "for s in str_:\n",
    "    print(s)"
   ]
  },
  {
   "cell_type": "code",
   "execution_count": 65,
   "id": "b7abd307",
   "metadata": {},
   "outputs": [
    {
     "name": "stdout",
     "output_type": "stream",
     "text": [
      "A\n",
      "B\n",
      "C\n"
     ]
    }
   ],
   "source": [
    "str_list=['A','B','C']\n",
    "for s in str_list:\n",
    "    print(s)"
   ]
  },
  {
   "cell_type": "code",
   "execution_count": 66,
   "id": "d204ff48",
   "metadata": {},
   "outputs": [
    {
     "data": {
      "text/plain": [
       "['__add__',\n",
       " '__class__',\n",
       " '__contains__',\n",
       " '__delattr__',\n",
       " '__dir__',\n",
       " '__doc__',\n",
       " '__eq__',\n",
       " '__format__',\n",
       " '__ge__',\n",
       " '__getattribute__',\n",
       " '__getitem__',\n",
       " '__getnewargs__',\n",
       " '__gt__',\n",
       " '__hash__',\n",
       " '__init__',\n",
       " '__init_subclass__',\n",
       " '__iter__',\n",
       " '__le__',\n",
       " '__len__',\n",
       " '__lt__',\n",
       " '__mod__',\n",
       " '__mul__',\n",
       " '__ne__',\n",
       " '__new__',\n",
       " '__reduce__',\n",
       " '__reduce_ex__',\n",
       " '__repr__',\n",
       " '__rmod__',\n",
       " '__rmul__',\n",
       " '__setattr__',\n",
       " '__sizeof__',\n",
       " '__str__',\n",
       " '__subclasshook__',\n",
       " 'capitalize',\n",
       " 'casefold',\n",
       " 'center',\n",
       " 'count',\n",
       " 'encode',\n",
       " 'endswith',\n",
       " 'expandtabs',\n",
       " 'find',\n",
       " 'format',\n",
       " 'format_map',\n",
       " 'index',\n",
       " 'isalnum',\n",
       " 'isalpha',\n",
       " 'isascii',\n",
       " 'isdecimal',\n",
       " 'isdigit',\n",
       " 'isidentifier',\n",
       " 'islower',\n",
       " 'isnumeric',\n",
       " 'isprintable',\n",
       " 'isspace',\n",
       " 'istitle',\n",
       " 'isupper',\n",
       " 'join',\n",
       " 'ljust',\n",
       " 'lower',\n",
       " 'lstrip',\n",
       " 'maketrans',\n",
       " 'partition',\n",
       " 'removeprefix',\n",
       " 'removesuffix',\n",
       " 'replace',\n",
       " 'rfind',\n",
       " 'rindex',\n",
       " 'rjust',\n",
       " 'rpartition',\n",
       " 'rsplit',\n",
       " 'rstrip',\n",
       " 'split',\n",
       " 'splitlines',\n",
       " 'startswith',\n",
       " 'strip',\n",
       " 'swapcase',\n",
       " 'title',\n",
       " 'translate',\n",
       " 'upper',\n",
       " 'zfill']"
      ]
     },
     "execution_count": 66,
     "metadata": {},
     "output_type": "execute_result"
    }
   ],
   "source": [
    "# 문자열을 다룰 수 있는 함수들 목록\n",
    "dir(str)"
   ]
  },
  {
   "cell_type": "code",
   "execution_count": null,
   "id": "4e3bf848",
   "metadata": {},
   "outputs": [],
   "source": []
  }
 ],
 "metadata": {
  "kernelspec": {
   "display_name": "Python 3 (ipykernel)",
   "language": "python",
   "name": "python3"
  },
  "language_info": {
   "codemirror_mode": {
    "name": "ipython",
    "version": 3
   },
   "file_extension": ".py",
   "mimetype": "text/x-python",
   "name": "python",
   "nbconvert_exporter": "python",
   "pygments_lexer": "ipython3",
   "version": "3.10.9"
  },
  "toc": {
   "base_numbering": 1,
   "nav_menu": {},
   "number_sections": true,
   "sideBar": true,
   "skip_h1_title": false,
   "title_cell": "Table of Contents",
   "title_sidebar": "Contents",
   "toc_cell": false,
   "toc_position": {
    "height": "calc(100% - 180px)",
    "left": "10px",
    "top": "150px",
    "width": "304px"
   },
   "toc_section_display": true,
   "toc_window_display": true
  }
 },
 "nbformat": 4,
 "nbformat_minor": 5
}
