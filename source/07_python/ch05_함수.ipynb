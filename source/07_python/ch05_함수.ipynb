{
 "cells": [
  {
   "cell_type": "markdown",
   "id": "2a4d6714",
   "metadata": {},
   "source": [
    "<b><font color='red' size='6'>ch05. 함수</font></b>\n",
    "- 반복해서 사용할 코드를 묶어 놓고 그것에 이름을 붙인 것.\n",
    "- 오버로딩 불가\n",
    "- 함수의 정의\n",
    "```\n",
    "def 함수명([매개변수1, 매개변수2, ..]):\n",
    "    명령어1\n",
    "    명령어2\n",
    "```"
   ]
  },
  {
   "cell_type": "markdown",
   "id": "9a2f6d5c",
   "metadata": {},
   "source": [
    "# 1절. 함수의 정의 및 사용\n",
    "## 1.1 함수정의하기"
   ]
  },
  {
   "cell_type": "code",
   "execution_count": null,
   "id": "50725fe3",
   "metadata": {},
   "outputs": [],
   "source": [
    "def my_hello(x, msg): #함수 정의\n",
    "    for i in range(x): # x번 반복\n",
    "         print(i, msg)"
   ]
  },
  {
   "cell_type": "code",
   "execution_count": null,
   "id": "37f25171",
   "metadata": {},
   "outputs": [],
   "source": [
    "my_hello(5, 'Hello, python') # 함수 호출"
   ]
  },
  {
   "cell_type": "code",
   "execution_count": null,
   "id": "56dd6445",
   "metadata": {},
   "outputs": [],
   "source": [
    "type(my_hello)"
   ]
  },
  {
   "cell_type": "code",
   "execution_count": null,
   "id": "85aa5c1a",
   "metadata": {},
   "outputs": [],
   "source": [
    "my_hello = 10\n",
    "type(my_hello)"
   ]
  },
  {
   "cell_type": "code",
   "execution_count": null,
   "id": "70d41c53",
   "metadata": {},
   "outputs": [],
   "source": [
    "my_hello(5, 'Hello, python')"
   ]
  },
  {
   "cell_type": "code",
   "execution_count": null,
   "id": "919af2ff",
   "metadata": {},
   "outputs": [],
   "source": [
    "del my_hello"
   ]
  },
  {
   "cell_type": "code",
   "execution_count": null,
   "id": "8352f14e",
   "metadata": {},
   "outputs": [],
   "source": [
    "def my_hello(x, msg): #함수 정의\n",
    "    for i in range(x): # x번 반복\n",
    "         print(i, msg)"
   ]
  },
  {
   "cell_type": "code",
   "execution_count": null,
   "id": "e3b0b223",
   "metadata": {},
   "outputs": [],
   "source": [
    "def my_hello():\n",
    "    print('Hello, Python')\n",
    "    print('Hello, World')"
   ]
  },
  {
   "cell_type": "code",
   "execution_count": null,
   "id": "9695d114",
   "metadata": {},
   "outputs": [],
   "source": [
    "my_hello()"
   ]
  },
  {
   "cell_type": "code",
   "execution_count": null,
   "id": "7ef28792",
   "metadata": {},
   "outputs": [],
   "source": [
    "my_hello"
   ]
  },
  {
   "cell_type": "code",
   "execution_count": null,
   "id": "b55eb72d",
   "metadata": {},
   "outputs": [],
   "source": [
    "__name__"
   ]
  },
  {
   "cell_type": "code",
   "execution_count": null,
   "id": "d1b009ee",
   "metadata": {},
   "outputs": [],
   "source": [
    "if __name__ == '__main__':\n",
    "    my_hello()"
   ]
  },
  {
   "cell_type": "code",
   "execution_count": null,
   "id": "98010f96",
   "metadata": {},
   "outputs": [],
   "source": [
    "import a"
   ]
  },
  {
   "cell_type": "code",
   "execution_count": null,
   "id": "8e44d2e7",
   "metadata": {},
   "outputs": [],
   "source": [
    "a.test()"
   ]
  },
  {
   "cell_type": "code",
   "execution_count": null,
   "id": "9e66e4fd",
   "metadata": {},
   "outputs": [],
   "source": [
    "from a import test # a 모듈안의 test 로드"
   ]
  },
  {
   "cell_type": "code",
   "execution_count": null,
   "id": "cdc17a2a",
   "metadata": {},
   "outputs": [],
   "source": [
    "test()"
   ]
  },
  {
   "cell_type": "markdown",
   "id": "d1e77bee",
   "metadata": {},
   "source": [
    "## 1.2 docstring"
   ]
  },
  {
   "cell_type": "code",
   "execution_count": null,
   "id": "f7d2bbe0",
   "metadata": {},
   "outputs": [],
   "source": [
    "def my_function():\n",
    "    \"\"\"\n",
    "    함수의 첫 라인에 독스트링을 포함할 수 있습니다.\n",
    "    독스트링은 함수의 설명서를 달아주는 역할.\n",
    "    주석보다 많은 기능(함수 호출시 shift+tab으로 독스트링을 볼 수 있음)\n",
    "    \"\"\"\n",
    "    pass"
   ]
  },
  {
   "cell_type": "code",
   "execution_count": null,
   "id": "be2b4fe1",
   "metadata": {},
   "outputs": [],
   "source": [
    "def fibonacci(n):\n",
    "    '''\n",
    "    매개변수로 들어온 n값 미만의 피보나치 수열을 출력합니다\n",
    "    ex. n=10 : 0, 1, 1, 2, 3, 5, 8\n",
    "    '''\n",
    "    a, b = 0, 1\n",
    "    while a < n :\n",
    "        print (a, end=' ')\n",
    "        a, b = b, a+b\n",
    "    print()"
   ]
  },
  {
   "cell_type": "code",
   "execution_count": null,
   "id": "493af3f1",
   "metadata": {},
   "outputs": [],
   "source": [
    "fibonacci(1000)"
   ]
  },
  {
   "cell_type": "markdown",
   "id": "f713cc4d",
   "metadata": {},
   "source": [
    "## 1.3 지역변수(local var)와 전역변수(global var)"
   ]
  },
  {
   "cell_type": "code",
   "execution_count": null,
   "id": "4564f191",
   "metadata": {},
   "outputs": [],
   "source": [
    "global_var = 100 # 전역변수\n",
    "def func1():\n",
    "    print('함수안 :',global_var)\n",
    "func1()\n",
    "print('함수밖 :', global_var)"
   ]
  },
  {
   "cell_type": "code",
   "execution_count": null,
   "id": "29a96e1f",
   "metadata": {},
   "outputs": [],
   "source": [
    "def func2():\n",
    "    local_var = 200 # 지역변수\n",
    "    print('함수안 :',local_var)\n",
    "func2()\n",
    "print('함수밖 :', local_var)"
   ]
  },
  {
   "cell_type": "code",
   "execution_count": null,
   "id": "5b088c39",
   "metadata": {},
   "outputs": [],
   "source": [
    "g_var = 100 # 전역변수(변수 선언과 할당)\n",
    "def func3():\n",
    "    g_var = 200 # 지역변수(변수 선언과 할당)\n",
    "    print('지역변수 g_var :',g_var)\n",
    "func3()\n",
    "print('전역변수 g_var :', g_var)"
   ]
  },
  {
   "cell_type": "code",
   "execution_count": 3,
   "id": "0d1e7f0a",
   "metadata": {},
   "outputs": [
    {
     "name": "stdout",
     "output_type": "stream",
     "text": [
      "함수안 g_var : 100\n",
      "함수밖 g_var : 200\n"
     ]
    }
   ],
   "source": [
    "# 렉시컬 특성\n",
    "g_var = 100 # 전역변수\n",
    "def func3():\n",
    "    global g_var # func3 함수내에서의 g_var는 전역변수\n",
    "    print('함수안 g_var :', g_var)\n",
    "    g_var = 200 # 지역변수\n",
    "func3()\n",
    "print('함수밖 g_var :', g_var)"
   ]
  },
  {
   "cell_type": "markdown",
   "id": "eeb0e515",
   "metadata": {},
   "source": [
    "## 1.4 값에 의한 호출\n",
    "- 함수에 인수로 전달되는 변수가 스칼라변수(문자, 숫자, 논리형)일때"
   ]
  },
  {
   "cell_type": "code",
   "execution_count": 11,
   "id": "696399dc",
   "metadata": {},
   "outputs": [
    {
     "data": {
      "text/plain": [
       "1947753932784"
      ]
     },
     "execution_count": 11,
     "metadata": {},
     "output_type": "execute_result"
    }
   ],
   "source": [
    "foo = 'a' # 전역변수\n",
    "id(foo)"
   ]
  },
  {
   "cell_type": "code",
   "execution_count": 13,
   "id": "23e9f82b",
   "metadata": {},
   "outputs": [],
   "source": [
    "def func1(f): # 매개변수는 지역변수\n",
    "    print('Before :', f,'의 주소는 ',id(f))\n",
    "    f = f*3 # aaa\n",
    "    print('After :', f, '의 주소는 ',id(f))"
   ]
  },
  {
   "cell_type": "code",
   "execution_count": 14,
   "id": "a6c2eb37",
   "metadata": {},
   "outputs": [
    {
     "name": "stdout",
     "output_type": "stream",
     "text": [
      "Before : a 의 주소는  1947753932784\n",
      "After : aaa 의 주소는  1945704815856\n"
     ]
    }
   ],
   "source": [
    "func1(foo)"
   ]
  },
  {
   "cell_type": "code",
   "execution_count": 15,
   "id": "d2aabbeb",
   "metadata": {},
   "outputs": [
    {
     "name": "stdout",
     "output_type": "stream",
     "text": [
      "foo = a 의 주소는  1947753932784\n"
     ]
    }
   ],
   "source": [
    "print('foo =', foo, '의 주소는 ',id(foo))"
   ]
  },
  {
   "cell_type": "markdown",
   "id": "526ecf12",
   "metadata": {},
   "source": [
    "## 1.5 참조에 의한 호출\n",
    "- 함수에 인수로 전달되는 변수가 리스트, 튜플, 셋, 딕셔너리, 객체일 경우"
   ]
  },
  {
   "cell_type": "code",
   "execution_count": 20,
   "id": "47a3930c",
   "metadata": {},
   "outputs": [
    {
     "data": {
      "text/plain": [
       "1945684437376"
      ]
     },
     "execution_count": 20,
     "metadata": {},
     "output_type": "execute_result"
    }
   ],
   "source": [
    "L = [1,2,3,4,5]\n",
    "id(L)"
   ]
  },
  {
   "cell_type": "code",
   "execution_count": 21,
   "id": "a73b70b8",
   "metadata": {},
   "outputs": [
    {
     "name": "stdout",
     "output_type": "stream",
     "text": [
      "before : [1, 2, 3, 4, 5] 의 주소는  1945684437376\n",
      "after : [1, 2, 3, 4, 5, 6] 의 주소는  1945684437376\n"
     ]
    }
   ],
   "source": [
    "def func2(f) : # 매개변수는 지역변수\n",
    "    print('before :',f,'의 주소는 ', id(f))\n",
    "    f.append(6)\n",
    "    print('after :',f,'의 주소는 ', id(f))\n",
    "func2(L)"
   ]
  },
  {
   "cell_type": "markdown",
   "id": "ed0ce712",
   "metadata": {},
   "source": []
  },
  {
   "cell_type": "code",
   "execution_count": 24,
   "id": "aac0e914",
   "metadata": {},
   "outputs": [
    {
     "name": "stdout",
     "output_type": "stream",
     "text": [
      "L= [1, 2, 3, 4, 5, 6] 의 주소는  1945684437376\n"
     ]
    }
   ],
   "source": [
    "print('L=', L, '의 주소는 ', id(L))"
   ]
  },
  {
   "cell_type": "markdown",
   "id": "ff221868",
   "metadata": {},
   "source": [
    "## 1.6 함수의 이름 변경\n",
    "- Python : 함수형언어, 객체지향언어"
   ]
  },
  {
   "cell_type": "code",
   "execution_count": 50,
   "id": "14e5361c",
   "metadata": {},
   "outputs": [
    {
     "data": {
      "text/plain": [
       "[0, 1, 1, 2, 3, 5, 8, 13]"
      ]
     },
     "execution_count": 50,
     "metadata": {},
     "output_type": "execute_result"
    }
   ],
   "source": [
    "fibonacci(20)"
   ]
  },
  {
   "cell_type": "code",
   "execution_count": null,
   "id": "5c0755e6",
   "metadata": {},
   "outputs": [],
   "source": [
    "fibo = fibonacci # fibonacci 함수이름을 fibo로도 사용가능"
   ]
  },
  {
   "cell_type": "code",
   "execution_count": null,
   "id": "b077d99c",
   "metadata": {},
   "outputs": [],
   "source": [
    "fibo(20)"
   ]
  },
  {
   "cell_type": "markdown",
   "id": "8cfcf849",
   "metadata": {},
   "source": [
    "# 2절. 함수의 실행결과"
   ]
  },
  {
   "cell_type": "code",
   "execution_count": 33,
   "id": "fafd58f7",
   "metadata": {},
   "outputs": [],
   "source": [
    "def fibonacci_print(n):\n",
    "    '''\n",
    "    매개변수로 들어온 n값 미만의 피보나치 수열을 출력합니다\n",
    "    ex. n=10 : 0, 1, 1, 2, 3, 5, 8\n",
    "    '''\n",
    "    a, b = 0, 1\n",
    "    while a < n :\n",
    "        print (a, end=' ')\n",
    "        a, b = b, a+b\n",
    "    print()\n",
    "def fibonacci(n):\n",
    "    '''\n",
    "    매개변수로 들어온 n값 미만의 피보나치 수열을 리스트로 return\n",
    "    '''\n",
    "    result = []\n",
    "    a, b = 0, 1\n",
    "    while a < n :\n",
    "        result.append(a)\n",
    "        a, b = b, a+b\n",
    "    return result"
   ]
  },
  {
   "cell_type": "code",
   "execution_count": 30,
   "id": "6f1642b8",
   "metadata": {},
   "outputs": [
    {
     "name": "stdout",
     "output_type": "stream",
     "text": [
      "0 1 1 2 3 5 8 \n",
      "None\n",
      "<class 'NoneType'>\n"
     ]
    }
   ],
   "source": [
    "x = fibonacci_print(10)\n",
    "print(x)\n",
    "print(type(x))"
   ]
  },
  {
   "cell_type": "code",
   "execution_count": 34,
   "id": "d018326c",
   "metadata": {},
   "outputs": [
    {
     "name": "stdout",
     "output_type": "stream",
     "text": [
      "[0, 1, 1, 2, 3, 5, 8]\n"
     ]
    }
   ],
   "source": [
    "x = fibonacci(10)\n",
    "print(x)"
   ]
  },
  {
   "cell_type": "markdown",
   "id": "fead2dcc",
   "metadata": {},
   "source": [
    "## 여러 개 값 return"
   ]
  },
  {
   "cell_type": "code",
   "execution_count": 36,
   "id": "57d282a5",
   "metadata": {},
   "outputs": [],
   "source": [
    "def swap(a, b):\n",
    "    '''\n",
    "    매개변수의 순서를 바꿔서 return\n",
    "    '''\n",
    "    return b, a"
   ]
  },
  {
   "cell_type": "code",
   "execution_count": 40,
   "id": "37c965e7",
   "metadata": {},
   "outputs": [
    {
     "name": "stdout",
     "output_type": "stream",
     "text": [
      "함수 실행 전 x, y =  5 10\n",
      "함수 실행 후 x, y =  10 5\n"
     ]
    }
   ],
   "source": [
    "x, y = 5, 10\n",
    "print('함수 실행 전 x, y = ', x, y)\n",
    "x, y=swap(x, y)\n",
    "print('함수 실행 후 x, y = ', x, y)"
   ]
  },
  {
   "cell_type": "code",
   "execution_count": 42,
   "id": "da898331",
   "metadata": {},
   "outputs": [
    {
     "name": "stdout",
     "output_type": "stream",
     "text": [
      "<class 'tuple'>\n",
      "(20, 10)\n"
     ]
    }
   ],
   "source": [
    "a = swap(10, 20)\n",
    "print(type(a))\n",
    "print(a)"
   ]
  },
  {
   "cell_type": "markdown",
   "id": "0f332139",
   "metadata": {},
   "source": [
    "# 3절. 함수의 매개변수 ★\n",
    "## 3.1 기본값을 갖는 매개변수"
   ]
  },
  {
   "cell_type": "code",
   "execution_count": 43,
   "id": "6ca6817b",
   "metadata": {},
   "outputs": [],
   "source": [
    "def make_url(ip,port=80): # 순서인수>기본값을갖는매개변수\n",
    "    return \"http://{}:{}\".format(ip, port)"
   ]
  },
  {
   "cell_type": "code",
   "execution_count": 47,
   "id": "4aa3bab1",
   "metadata": {},
   "outputs": [
    {
     "name": "stdout",
     "output_type": "stream",
     "text": [
      "http://localhost:8090\n",
      "http://localhost:80\n",
      "http://www.naver.com:9090\n"
     ]
    }
   ],
   "source": [
    "print(make_url('localhost', 8090))\n",
    "print(make_url('localhost'))\n",
    "print(make_url(port=9090, ip='www.naver.com'))"
   ]
  },
  {
   "cell_type": "markdown",
   "id": "3aebb5b5",
   "metadata": {},
   "source": [
    "## 3.2 기본변수를 갖는 매개변수\n",
    "- 기본변수가 스칼라 변수(문자,숫자,논리형)일 때\n",
    "- 기본변수가 리스트, 셋, 딕셔너리 또는 객체일 때"
   ]
  },
  {
   "cell_type": "code",
   "execution_count": 48,
   "id": "ebce9f63",
   "metadata": {},
   "outputs": [],
   "source": [
    "i = 5\n",
    "# 기본변수가 스칼라변수일 때: arg의 기본값은 함수가 정의되는 시점으로 셋팅\n",
    "def func2(arg=i):\n",
    "    print('arg =', arg)"
   ]
  },
  {
   "cell_type": "code",
   "execution_count": 49,
   "id": "a05747e1",
   "metadata": {},
   "outputs": [
    {
     "name": "stdout",
     "output_type": "stream",
     "text": [
      "arg = 5\n"
     ]
    }
   ],
   "source": [
    "i = 10\n",
    "func2()"
   ]
  },
  {
   "cell_type": "code",
   "execution_count": 58,
   "id": "9f39548c",
   "metadata": {},
   "outputs": [
    {
     "name": "stdout",
     "output_type": "stream",
     "text": [
      "[10]\n",
      "list_ : [10]\n"
     ]
    }
   ],
   "source": [
    "# 기본변수가 리스트, 셋, 딕셔너리, 객체일 때 : 실행되는 시점\n",
    "list_ = []\n",
    "def func3(a, L=list_):\n",
    "    L.append(a)\n",
    "    return L\n",
    "print(func3(10))\n",
    "print('list_ :', list_)"
   ]
  },
  {
   "cell_type": "code",
   "execution_count": 59,
   "id": "a078a1c6",
   "metadata": {},
   "outputs": [
    {
     "name": "stdout",
     "output_type": "stream",
     "text": [
      "[10, 20]\n",
      "list_ : [10, 20]\n"
     ]
    }
   ],
   "source": [
    "print(func3(20))\n",
    "print('list_ :', list_)"
   ]
  },
  {
   "cell_type": "code",
   "execution_count": 60,
   "id": "215b205a",
   "metadata": {},
   "outputs": [
    {
     "name": "stdout",
     "output_type": "stream",
     "text": [
      "[10, 20, 30]\n",
      "list_: [10, 20, 30]\n"
     ]
    }
   ],
   "source": [
    "print(func3(30))\n",
    "print('list_:',list_)"
   ]
  },
  {
   "cell_type": "code",
   "execution_count": 63,
   "id": "209121d5",
   "metadata": {},
   "outputs": [
    {
     "name": "stdout",
     "output_type": "stream",
     "text": [
      "[10]\n",
      "[1, 2, 3, 10]\n"
     ]
    }
   ],
   "source": [
    "def func3(a, L=[]):\n",
    "    L.append(a)\n",
    "    return L\n",
    "print(func3(10))\n",
    "print(func3(10, [1,2,3,]))"
   ]
  },
  {
   "cell_type": "markdown",
   "id": "2575eaca",
   "metadata": {},
   "source": [
    "## 3.3 순서인수, 키워드인수\n",
    "- 순서인수 : 함수에 정의도니 순서대로 전달방식\n",
    "- 키워드인수 : 인수의 이름을 명시적으로 전달방식\n",
    "- 함수 정의시 순서인수와 키워드 인수가 같이 올 때는 순서인수 > 키워드인수 순으로\n",
    "```\n",
    "def function명(변수명1, 변수명2, ... 변수명n=기본값):\n",
    "```"
   ]
  },
  {
   "cell_type": "code",
   "execution_count": 64,
   "id": "5de33776",
   "metadata": {},
   "outputs": [],
   "source": [
    "def fun(a, b):\n",
    "    return a*10+b"
   ]
  },
  {
   "cell_type": "code",
   "execution_count": 65,
   "id": "6b5f40d0",
   "metadata": {},
   "outputs": [
    {
     "data": {
      "text/plain": [
       "43"
      ]
     },
     "execution_count": 65,
     "metadata": {},
     "output_type": "execute_result"
    }
   ],
   "source": [
    "fun(b=3, a=4)"
   ]
  },
  {
   "cell_type": "code",
   "execution_count": 66,
   "id": "af5b2684",
   "metadata": {},
   "outputs": [],
   "source": [
    "def func4(a, L=None):\n",
    "    if L is None:\n",
    "        L = []\n",
    "    L.append(a)\n",
    "    return L"
   ]
  },
  {
   "cell_type": "code",
   "execution_count": 71,
   "id": "419d11db",
   "metadata": {},
   "outputs": [
    {
     "name": "stdout",
     "output_type": "stream",
     "text": [
      "[10]\n",
      "[10, 10]\n",
      "[20]\n",
      "[20]\n"
     ]
    }
   ],
   "source": [
    "lst = []\n",
    "print(func4(10, lst))\n",
    "print(func4(L=lst, a=10))\n",
    "print(func4(20))\n",
    "print(func4(20,None))"
   ]
  },
  {
   "cell_type": "markdown",
   "id": "d7d88fe5",
   "metadata": {},
   "source": [
    "## 3.4 튜플 매개변수를 이요한 가변인수 설정"
   ]
  },
  {
   "cell_type": "code",
   "execution_count": 72,
   "id": "ae7d05bc",
   "metadata": {},
   "outputs": [],
   "source": [
    "def add(a,b):\n",
    "    return a+b\n",
    "def add(a, b, c): # 덮어씌움\n",
    "    return a+b+c"
   ]
  },
  {
   "cell_type": "code",
   "execution_count": 73,
   "id": "ea0f78f0",
   "metadata": {},
   "outputs": [
    {
     "data": {
      "text/plain": [
       "6"
      ]
     },
     "execution_count": 73,
     "metadata": {},
     "output_type": "execute_result"
    }
   ],
   "source": [
    "add(1,2,3)"
   ]
  },
  {
   "cell_type": "code",
   "execution_count": 74,
   "id": "19465d26",
   "metadata": {},
   "outputs": [
    {
     "ename": "TypeError",
     "evalue": "add() missing 1 required positional argument: 'c'",
     "output_type": "error",
     "traceback": [
      "\u001b[1;31m---------------------------------------------------------------------------\u001b[0m",
      "\u001b[1;31mTypeError\u001b[0m                                 Traceback (most recent call last)",
      "Cell \u001b[1;32mIn[74], line 1\u001b[0m\n\u001b[1;32m----> 1\u001b[0m \u001b[43madd\u001b[49m\u001b[43m(\u001b[49m\u001b[38;5;241;43m1\u001b[39;49m\u001b[43m,\u001b[49m\u001b[38;5;241;43m2\u001b[39;49m\u001b[43m)\u001b[49m\n",
      "\u001b[1;31mTypeError\u001b[0m: add() missing 1 required positional argument: 'c'"
     ]
    }
   ],
   "source": [
    "add(1,2)"
   ]
  },
  {
   "cell_type": "code",
   "execution_count": 80,
   "id": "1b8ce0b0",
   "metadata": {},
   "outputs": [],
   "source": [
    "# args 앞의 * : args가 튜플로 전달\n",
    "def add(*args):\n",
    "    '전달받은 매개변수들의 합을 return, 매개변수가 없는 경우 0을 return'\n",
    "#     print(args)\n",
    "    sum = 0 # 누적변수\n",
    "    for num in args:\n",
    "        sum += num\n",
    "    return sum"
   ]
  },
  {
   "cell_type": "code",
   "execution_count": 83,
   "id": "7d18f530",
   "metadata": {},
   "outputs": [
    {
     "name": "stdout",
     "output_type": "stream",
     "text": [
      "1\n",
      "3\n",
      "11\n",
      "0\n"
     ]
    }
   ],
   "source": [
    "print(add(1))\n",
    "print(add(1,2))\n",
    "print(add(1,2,3,5))\n",
    "print(add())"
   ]
  },
  {
   "cell_type": "code",
   "execution_count": null,
   "id": "633d9742",
   "metadata": {},
   "outputs": [],
   "source": [
    "subject = 'Java','Oracle','Web','Python'\n",
    "'-'.join(subject)"
   ]
  },
  {
   "cell_type": "code",
   "execution_count": 88,
   "id": "45f14ca9",
   "metadata": {},
   "outputs": [],
   "source": [
    "def concat(*subject, sep):\n",
    "    return sep.join(subject)"
   ]
  },
  {
   "cell_type": "code",
   "execution_count": 89,
   "id": "340c9bc7",
   "metadata": {},
   "outputs": [
    {
     "ename": "TypeError",
     "evalue": "concat() missing 1 required keyword-only argument: 'sep'",
     "output_type": "error",
     "traceback": [
      "\u001b[1;31m---------------------------------------------------------------------------\u001b[0m",
      "\u001b[1;31mTypeError\u001b[0m                                 Traceback (most recent call last)",
      "Cell \u001b[1;32mIn[89], line 1\u001b[0m\n\u001b[1;32m----> 1\u001b[0m \u001b[43mconcat\u001b[49m\u001b[43m(\u001b[49m\u001b[38;5;124;43m'\u001b[39;49m\u001b[38;5;124;43mJava\u001b[39;49m\u001b[38;5;124;43m'\u001b[39;49m\u001b[43m,\u001b[49m\u001b[43m \u001b[49m\u001b[38;5;124;43m'\u001b[39;49m\u001b[38;5;124;43mOracle\u001b[39;49m\u001b[38;5;124;43m'\u001b[39;49m\u001b[43m,\u001b[49m\u001b[38;5;124;43m'\u001b[39;49m\u001b[38;5;124;43mWeb\u001b[39;49m\u001b[38;5;124;43m'\u001b[39;49m\u001b[43m,\u001b[49m\u001b[38;5;124;43m'\u001b[39;49m\u001b[38;5;124;43mPython\u001b[39;49m\u001b[38;5;124;43m'\u001b[39;49m\u001b[43m,\u001b[49m\u001b[43m \u001b[49m\u001b[38;5;124;43m'\u001b[39;49m\u001b[38;5;124;43m ~ \u001b[39;49m\u001b[38;5;124;43m'\u001b[39;49m\u001b[43m)\u001b[49m\n",
      "\u001b[1;31mTypeError\u001b[0m: concat() missing 1 required keyword-only argument: 'sep'"
     ]
    }
   ],
   "source": [
    "concat('Java', 'Oracle','Web','Python', ' ~ ')"
   ]
  },
  {
   "cell_type": "code",
   "execution_count": 90,
   "id": "5f4cc41f",
   "metadata": {},
   "outputs": [
    {
     "data": {
      "text/plain": [
       "'Java ~ Oracle ~ Web ~ Python'"
      ]
     },
     "execution_count": 90,
     "metadata": {},
     "output_type": "execute_result"
    }
   ],
   "source": [
    "# 해결책1 : 파라미터이름을 지정해서 호출\n",
    "concat('Java', 'Oracle','Web','Python', sep=' ~ ')"
   ]
  },
  {
   "cell_type": "code",
   "execution_count": 93,
   "id": "249754f7",
   "metadata": {},
   "outputs": [],
   "source": [
    "# 해결책2 : 기본값을 갖는 키워드인수 사용\n",
    "def concat(*subject, sep= ' '): # 튜플인수 > 키워드인수\n",
    "    return sep.join(subject)"
   ]
  },
  {
   "cell_type": "code",
   "execution_count": 94,
   "id": "01355323",
   "metadata": {},
   "outputs": [
    {
     "data": {
      "text/plain": [
       "'Java Oracle Web Python'"
      ]
     },
     "execution_count": 94,
     "metadata": {},
     "output_type": "execute_result"
    }
   ],
   "source": [
    "concat('Java', 'Oracle','Web','Python')"
   ]
  },
  {
   "cell_type": "code",
   "execution_count": 96,
   "id": "0acecc21",
   "metadata": {},
   "outputs": [
    {
     "data": {
      "text/plain": [
       "'Java Oracle Web Python ~'"
      ]
     },
     "execution_count": 96,
     "metadata": {},
     "output_type": "execute_result"
    }
   ],
   "source": [
    "concat('Java','Oracle','Web','Python','~')"
   ]
  },
  {
   "cell_type": "code",
   "execution_count": 98,
   "id": "bc07ebfa",
   "metadata": {},
   "outputs": [
    {
     "data": {
      "text/plain": [
       "'Java~Oracle~Web~Python'"
      ]
     },
     "execution_count": 98,
     "metadata": {},
     "output_type": "execute_result"
    }
   ],
   "source": [
    "concat('Java','Oracle','Web','Python',sep='~')"
   ]
  },
  {
   "cell_type": "code",
   "execution_count": 99,
   "id": "d148a025",
   "metadata": {},
   "outputs": [],
   "source": [
    "# 해결책3 : sep을 순서인수로 앞으로 선언\n",
    "def concat(sep, *subject):\n",
    "    return sep.join(subject)"
   ]
  },
  {
   "cell_type": "code",
   "execution_count": 100,
   "id": "cc13beef",
   "metadata": {},
   "outputs": [
    {
     "data": {
      "text/plain": [
       "'Java~Oracle~Python'"
      ]
     },
     "execution_count": 100,
     "metadata": {},
     "output_type": "execute_result"
    }
   ],
   "source": [
    "concat('~','Java','Oracle','Python')"
   ]
  },
  {
   "cell_type": "markdown",
   "id": "8b2b3f41",
   "metadata": {},
   "source": [
    "## 3.5 딕셔너리 매개변수\n",
    "- 딕셔너리인수 ; 여러개의 키워드인수를 딕셔너리 형태로 받아서 가변 키워드 인수로 처리"
   ]
  },
  {
   "cell_type": "code",
   "execution_count": 105,
   "id": "125fd2e5",
   "metadata": {},
   "outputs": [],
   "source": [
    "def func5(**args):\n",
    "    print(args)\n",
    "    print(type(args))\n",
    "    for key, value in args.items():\n",
    "        print(\"{}:{}\".format(key, value))"
   ]
  },
  {
   "cell_type": "code",
   "execution_count": 106,
   "id": "4f9f986d",
   "metadata": {},
   "outputs": [
    {
     "name": "stdout",
     "output_type": "stream",
     "text": [
      "{'name': '홍길동', 'age': 33}\n",
      "<class 'dict'>\n",
      "name:홍길동\n",
      "age:33\n"
     ]
    }
   ],
   "source": [
    "func5(name=\"홍길동\", age=33)"
   ]
  },
  {
   "cell_type": "code",
   "execution_count": 107,
   "id": "9ad34e23",
   "metadata": {},
   "outputs": [
    {
     "name": "stdout",
     "output_type": "stream",
     "text": [
      "{'name': '김길동', 'address': '서울', 'tel': '010-9999-9999'}\n",
      "<class 'dict'>\n",
      "name:김길동\n",
      "address:서울\n",
      "tel:010-9999-9999\n"
     ]
    }
   ],
   "source": [
    "func5(name=\"김길동\", address=\"서울\", tel=\"010-9999-9999\")"
   ]
  },
  {
   "cell_type": "markdown",
   "id": "5e0a8c7d",
   "metadata": {},
   "source": [
    "## 3.6 함수 정의시 매개변수의 순서\n",
    "순서인수 > 튜플인수(*) > 키워드인수(기본값) > 딕셔너리 인수 (**)"
   ]
  },
  {
   "cell_type": "code",
   "execution_count": 109,
   "id": "0c352602",
   "metadata": {},
   "outputs": [],
   "source": [
    "# 순서인수 > 튜플인수 > 딕셔너리 인수\n",
    "def func6(a, b, *c, **d):\n",
    "    print('순서인수 a =', a)\n",
    "    print('순서인수 b =',b)\n",
    "    print('튜플인수 c = ',c)\n",
    "    print('딕셔너리 d =',d)"
   ]
  },
  {
   "cell_type": "code",
   "execution_count": 110,
   "id": "229bad0d",
   "metadata": {},
   "outputs": [
    {
     "name": "stdout",
     "output_type": "stream",
     "text": [
      "순서인수 a = 10\n",
      "순서인수 b = 20\n",
      "튜플인수 c =  (1, 2, 3, 4, 5, 6, 7)\n",
      "딕셔너리 d = {'anme': 'kim', 'age': 30}\n"
     ]
    }
   ],
   "source": [
    "func6(10,20,1,2,3,4,5,6,7, anme=\"kim\",age=30)"
   ]
  },
  {
   "cell_type": "code",
   "execution_count": 113,
   "id": "87d18d08",
   "metadata": {},
   "outputs": [],
   "source": [
    "# 순서인수 > 튜플인수(*) > 키워드인수(기본값) > 딕셔너리 인수 (**)\n",
    "def func7(a, b, c, *d, e=10, **f):\n",
    "    print('a =',a)\n",
    "    print('b =',b)\n",
    "    print('c =',c)\n",
    "    print('d =',d)\n",
    "    print('e =',e)\n",
    "    print('f =',f)"
   ]
  },
  {
   "cell_type": "code",
   "execution_count": 117,
   "id": "d0ed36f5",
   "metadata": {},
   "outputs": [
    {
     "name": "stdout",
     "output_type": "stream",
     "text": [
      "a = 10\n",
      "b = 20\n",
      "c = 30\n",
      "d = (1, 2, 3, 4, 5)\n",
      "e = 100\n",
      "f = {'shape': 'rect', 'width': 20, 'height': 30}\n"
     ]
    }
   ],
   "source": [
    "func7(10,20,30,1,2,3,4,5,e=100,shape=\"rect\", width=20, height=30)"
   ]
  },
  {
   "cell_type": "code",
   "execution_count": 118,
   "id": "bdaad69a",
   "metadata": {},
   "outputs": [
    {
     "name": "stdout",
     "output_type": "stream",
     "text": [
      "a = 10\n",
      "b = 20\n",
      "c = 30\n",
      "d = ()\n",
      "e = 10\n",
      "f = {}\n"
     ]
    }
   ],
   "source": [
    "func7(10,20,30)"
   ]
  },
  {
   "cell_type": "code",
   "execution_count": 119,
   "id": "879f3608",
   "metadata": {},
   "outputs": [
    {
     "name": "stdout",
     "output_type": "stream",
     "text": [
      "a = 10\n",
      "b = 20\n",
      "c = 30\n",
      "d = ()\n",
      "e = 100\n",
      "f = {}\n"
     ]
    }
   ],
   "source": [
    "func7(10,20,30, e = 100)"
   ]
  },
  {
   "cell_type": "markdown",
   "id": "91e225d6",
   "metadata": {},
   "source": [
    "## 3.7 인수의 언패킹"
   ]
  },
  {
   "cell_type": "markdown",
   "id": "856c7bb3",
   "metadata": {},
   "source": [
    "### 튜플인수 언패킹"
   ]
  },
  {
   "cell_type": "code",
   "execution_count": 120,
   "id": "24ec3541",
   "metadata": {},
   "outputs": [],
   "source": [
    "def add(*args):\n",
    "    sum = 0\n",
    "    for num in args:\n",
    "        sum += num\n",
    "    return sum"
   ]
  },
  {
   "cell_type": "code",
   "execution_count": 121,
   "id": "12a747be",
   "metadata": {},
   "outputs": [
    {
     "data": {
      "text/plain": [
       "15"
      ]
     },
     "execution_count": 121,
     "metadata": {},
     "output_type": "execute_result"
    }
   ],
   "source": [
    "add(1,2,3,4,5)"
   ]
  },
  {
   "cell_type": "code",
   "execution_count": 122,
   "id": "83a382da",
   "metadata": {},
   "outputs": [
    {
     "data": {
      "text/plain": [
       "15"
      ]
     },
     "execution_count": 122,
     "metadata": {},
     "output_type": "execute_result"
    }
   ],
   "source": [
    "numbers = (1,2,3,4,5)\n",
    "add(*numbers) # 튜플 언패킹\n",
    "add(numbers[0],numbers[1],numbers[2],numbers[3],numbers[4])"
   ]
  },
  {
   "cell_type": "code",
   "execution_count": 123,
   "id": "ac90986e",
   "metadata": {},
   "outputs": [
    {
     "data": {
      "text/plain": [
       "6"
      ]
     },
     "execution_count": 123,
     "metadata": {},
     "output_type": "execute_result"
    }
   ],
   "source": [
    "num_lst = [1,2,3]\n",
    "add(*num_lst)"
   ]
  },
  {
   "cell_type": "markdown",
   "id": "6c285d06",
   "metadata": {},
   "source": [
    "### 딕셔너리 인수 언패킹"
   ]
  },
  {
   "cell_type": "code",
   "execution_count": 126,
   "id": "2b4415b3",
   "metadata": {},
   "outputs": [
    {
     "name": "stdout",
     "output_type": "stream",
     "text": [
      "('shape', 'rect')\n",
      "('height', 30)\n",
      "('width', 40)\n"
     ]
    }
   ],
   "source": [
    "def func8(**data):\n",
    "    for item in data.items():\n",
    "        print(item)\n",
    "func8(shape=\"rect\", height=30, width=40)"
   ]
  },
  {
   "cell_type": "code",
   "execution_count": 131,
   "id": "f1c55ae9",
   "metadata": {},
   "outputs": [
    {
     "data": {
      "text/plain": [
       "{'shape': 'triangle', 'height': 40, 'width': 30}"
      ]
     },
     "execution_count": 131,
     "metadata": {},
     "output_type": "execute_result"
    }
   ],
   "source": [
    "info = {'shape':'triangle', 'height':40, 'width':30}\n",
    "info"
   ]
  },
  {
   "cell_type": "code",
   "execution_count": 135,
   "id": "757acd52",
   "metadata": {},
   "outputs": [
    {
     "name": "stdout",
     "output_type": "stream",
     "text": [
      "('shape', 'triangle')\n",
      "('height', 40)\n",
      "('width', 30)\n"
     ]
    }
   ],
   "source": [
    "func8(**info)"
   ]
  },
  {
   "cell_type": "code",
   "execution_count": null,
   "id": "6cd63d32",
   "metadata": {},
   "outputs": [],
   "source": []
  }
 ],
 "metadata": {
  "kernelspec": {
   "display_name": "Python 3 (ipykernel)",
   "language": "python",
   "name": "python3"
  },
  "language_info": {
   "codemirror_mode": {
    "name": "ipython",
    "version": 3
   },
   "file_extension": ".py",
   "mimetype": "text/x-python",
   "name": "python",
   "nbconvert_exporter": "python",
   "pygments_lexer": "ipython3",
   "version": "3.10.9"
  },
  "toc": {
   "base_numbering": 1,
   "nav_menu": {},
   "number_sections": true,
   "sideBar": true,
   "skip_h1_title": false,
   "title_cell": "Table of Contents",
   "title_sidebar": "Contents",
   "toc_cell": false,
   "toc_position": {
    "height": "calc(100% - 180px)",
    "left": "10px",
    "top": "150px",
    "width": "165px"
   },
   "toc_section_display": true,
   "toc_window_display": true
  }
 },
 "nbformat": 4,
 "nbformat_minor": 5
}
