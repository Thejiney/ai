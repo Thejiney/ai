{
 "cells": [
  {
   "cell_type": "markdown",
   "id": "657788c2",
   "metadata": {},
   "source": [
    "<b><font size=\"6\" color=\"red\">ch06. 모듈과 패키지</font></b>\n",
    "# 1절. 파이썬 표준 모듈 사용\n",
    "- 모듈 : 함수, 변수, 클래스 등을 담고 있는 파이썬 코드 파일(*.py)\n",
    "- 파이썬 표준 모듈 200여개는 파이썬 인터프리터와 함께 install 됨\n",
    "- anaconda는 1500개 이상의 패키지 install(정확한 갯수는 버전마다 상이)"
   ]
  },
  {
   "cell_type": "code",
   "execution_count": null,
   "id": "10b85b4a",
   "metadata": {},
   "outputs": [],
   "source": [
    "# 1. import 모듈명 : 모듈안의 함수, 클래스, 변수를 모듈명.함수명(), .. 사용\n",
    "import time # time모듈안의 함수, 변수, 클래스가 모두 메모리 로드\n",
    "time.ctime()"
   ]
  },
  {
   "cell_type": "code",
   "execution_count": null,
   "id": "04649f12",
   "metadata": {},
   "outputs": [],
   "source": [
    "time.time() # 1970.1.1부터의 밀리세컨"
   ]
  },
  {
   "cell_type": "code",
   "execution_count": null,
   "id": "9bef41ec",
   "metadata": {},
   "outputs": [],
   "source": [
    "del time # time 모듈을 메모리에서 unload"
   ]
  },
  {
   "cell_type": "code",
   "execution_count": null,
   "id": "1b7040e6",
   "metadata": {},
   "outputs": [],
   "source": [
    "# 2. from 모듈(A) import 함수또는클래스또는변수(B)\n",
    "#    from 패키지(A) import 모듈(B) : A패키지안의 B모듈 로드\n",
    "#    from 패키지(A).모듈명(B) import 함수명(C) : A안의 B안의 C함수만 로드\n",
    "from time import ctime, time\n",
    "ctime()"
   ]
  },
  {
   "cell_type": "code",
   "execution_count": null,
   "id": "1a69aacb",
   "metadata": {},
   "outputs": [],
   "source": [
    "time()"
   ]
  },
  {
   "cell_type": "code",
   "execution_count": null,
   "id": "f30993d1",
   "metadata": {},
   "outputs": [],
   "source": [
    "del ctime\n",
    "del time"
   ]
  },
  {
   "cell_type": "code",
   "execution_count": null,
   "id": "8342822a",
   "metadata": {},
   "outputs": [],
   "source": [
    "# 3. import 모듈명 as 별칭 : 모듈을 메모리에서 로드하고 별칭으로 사용\n",
    "import time as t\n",
    "t.ctime()"
   ]
  },
  {
   "cell_type": "code",
   "execution_count": null,
   "id": "6f56aaf0",
   "metadata": {},
   "outputs": [],
   "source": [
    "del t"
   ]
  },
  {
   "cell_type": "code",
   "execution_count": null,
   "id": "9f957cf7",
   "metadata": {},
   "outputs": [],
   "source": [
    "# 4.from 모듈명 import 함수명 as 별칭\n",
    "#   from 패키지명 import 모듈명 as 별칭\n",
    "#   from 패키지명.모듈명 import 함수명 as 별칭\n",
    "from time import ctime as ct\n",
    "ct()"
   ]
  },
  {
   "cell_type": "markdown",
   "id": "bd61006d",
   "metadata": {},
   "source": [
    "```\n",
    "import A             - A 모듈을 로드\n",
    "import A as B        - A 모듈을 B이름으로 로드\n",
    "from A import B      - A 모듈안의 B함수(클래스|변수)를 가져옴\n",
    "from A import B as C - A모듈안의 B함수를 C이름으로 \n",
    "\n",
    "from A import B        - A패키지안의 B모듈을 가져옴\n",
    "from A.B import C      - A패키지안의 B모듈안의 C함수를 가져옴\n",
    "from A import B as C   - A패키지안의 B모듈을 C이름으로 가져옴\n",
    "from A.B import C as D - A패키지안의 B모듈안의 C함수를 D이름으로 가져옴\n",
    "```"
   ]
  },
  {
   "cell_type": "code",
   "execution_count": null,
   "id": "02b0efc6",
   "metadata": {},
   "outputs": [],
   "source": [
    "import time\n",
    "dir(time) # time내의 변수, 함수, 클래스 등이 list로 출력"
   ]
  },
  {
   "cell_type": "markdown",
   "id": "8b461291",
   "metadata": {},
   "source": [
    "# 2절. 사용자 정의 모듈\n",
    "- 함수나 클래스등을 파이썬 파일에 저장해서 모듈을 만들고 재사용할 수 있음\n",
    "- 모듈을 가져오는 순서 (1)표준모듈 (2)sys.path 변수에 저장된 경로"
   ]
  },
  {
   "cell_type": "code",
   "execution_count": null,
   "id": "a0131421",
   "metadata": {},
   "outputs": [],
   "source": [
    "import sys\n",
    "# dir(sys)\n",
    "sys.path"
   ]
  },
  {
   "cell_type": "code",
   "execution_count": null,
   "id": "b12abd02",
   "metadata": {},
   "outputs": [],
   "source": [
    "'D:/ai/source/pylib'\n",
    "r'D:\\ai\\source\\pylib' == 'D:\\\\ai\\\\source\\\\pylib'"
   ]
  },
  {
   "cell_type": "code",
   "execution_count": 1,
   "id": "0aeac4c5",
   "metadata": {},
   "outputs": [
    {
     "data": {
      "text/plain": [
       "['D:\\\\ai\\\\source\\\\07_python',\n",
       " 'C:\\\\Users\\\\4545\\\\anaconda3\\\\python310.zip',\n",
       " 'C:\\\\Users\\\\4545\\\\anaconda3\\\\DLLs',\n",
       " 'C:\\\\Users\\\\4545\\\\anaconda3\\\\lib',\n",
       " 'C:\\\\Users\\\\4545\\\\anaconda3',\n",
       " '',\n",
       " 'C:\\\\Users\\\\4545\\\\anaconda3\\\\lib\\\\site-packages',\n",
       " 'C:\\\\Users\\\\4545\\\\anaconda3\\\\lib\\\\site-packages\\\\win32',\n",
       " 'C:\\\\Users\\\\4545\\\\anaconda3\\\\lib\\\\site-packages\\\\win32\\\\lib',\n",
       " 'C:\\\\Users\\\\4545\\\\anaconda3\\\\lib\\\\site-packages\\\\Pythonwin',\n",
       " 'D:\\\\ai\\\\source\\\\pylib']"
      ]
     },
     "execution_count": 1,
     "metadata": {},
     "output_type": "execute_result"
    }
   ],
   "source": [
    "# 사용자 정의 모듈을 저장할 폴더 : d:/ai/source/pylib\n",
    "import sys\n",
    "sys.path.append(r'D:\\ai\\source\\pylib')\n",
    "sys.path"
   ]
  },
  {
   "cell_type": "code",
   "execution_count": null,
   "id": "42cf75b8",
   "metadata": {},
   "outputs": [],
   "source": [
    "# 1. import 모듈명\n",
    "import fibonacci"
   ]
  },
  {
   "cell_type": "code",
   "execution_count": null,
   "id": "5af01d49",
   "metadata": {},
   "outputs": [],
   "source": [
    "fibonacci.fibo_print(100)"
   ]
  },
  {
   "cell_type": "code",
   "execution_count": null,
   "id": "57ebeea7",
   "metadata": {},
   "outputs": [],
   "source": [
    "fibonacci.fibo_return(100)"
   ]
  },
  {
   "cell_type": "code",
   "execution_count": null,
   "id": "ee477006",
   "metadata": {},
   "outputs": [],
   "source": [
    "! python d:/ai/source/pylib/fibonacci.py 200"
   ]
  },
  {
   "cell_type": "code",
   "execution_count": null,
   "id": "59295c1c",
   "metadata": {},
   "outputs": [],
   "source": [
    "del fibonacci"
   ]
  },
  {
   "cell_type": "code",
   "execution_count": null,
   "id": "e49ffb1d",
   "metadata": {},
   "outputs": [],
   "source": [
    "# 2. from A import B\n",
    "from fibonacci import fibo_print, fibo_return\n",
    "fibo_print(100)"
   ]
  },
  {
   "cell_type": "code",
   "execution_count": null,
   "id": "bcf54bed",
   "metadata": {},
   "outputs": [],
   "source": [
    "fibo_return(200)"
   ]
  },
  {
   "cell_type": "code",
   "execution_count": null,
   "id": "25bdfdda",
   "metadata": {},
   "outputs": [],
   "source": [
    "del fibo_print\n",
    "del fibo_return"
   ]
  },
  {
   "cell_type": "code",
   "execution_count": null,
   "id": "71c8ec76",
   "metadata": {},
   "outputs": [],
   "source": [
    "# 3. import 모듈명 as 별칭\n",
    "import fibonacci as f\n",
    "f.fibo_print(100)"
   ]
  },
  {
   "cell_type": "code",
   "execution_count": null,
   "id": "c6aa1684",
   "metadata": {},
   "outputs": [],
   "source": [
    "f.fibo_return(100)"
   ]
  },
  {
   "cell_type": "code",
   "execution_count": null,
   "id": "bedfe4d9",
   "metadata": {},
   "outputs": [],
   "source": [
    "del f # import된 모듈을 unload"
   ]
  },
  {
   "cell_type": "code",
   "execution_count": null,
   "id": "bd5b2fdd",
   "metadata": {},
   "outputs": [],
   "source": [
    "# 4. from 모듈명 import 함수명 as 별칭\n",
    "from fibonacci import fibo_print as fibo_p"
   ]
  },
  {
   "cell_type": "code",
   "execution_count": null,
   "id": "ac95e46f",
   "metadata": {},
   "outputs": [],
   "source": [
    "fibo_p(100)"
   ]
  },
  {
   "cell_type": "code",
   "execution_count": null,
   "id": "0fff9137",
   "metadata": {},
   "outputs": [],
   "source": [
    "import info"
   ]
  },
  {
   "cell_type": "code",
   "execution_count": null,
   "id": "8a7eafa3",
   "metadata": {},
   "outputs": [],
   "source": [
    "print(info.PI)"
   ]
  },
  {
   "cell_type": "code",
   "execution_count": null,
   "id": "14fc43b8",
   "metadata": {},
   "outputs": [],
   "source": [
    "obj = info.Cal(10, 5)"
   ]
  },
  {
   "cell_type": "code",
   "execution_count": null,
   "id": "28ff5407",
   "metadata": {},
   "outputs": [],
   "source": [
    "print(isinstance(obj, info.Cal))\n",
    "print('add test:',obj.add())\n",
    "print('sub test:',obj.sub())"
   ]
  },
  {
   "cell_type": "code",
   "execution_count": null,
   "id": "f07791ad",
   "metadata": {},
   "outputs": [],
   "source": [
    "del info"
   ]
  },
  {
   "cell_type": "code",
   "execution_count": null,
   "id": "aef667ab",
   "metadata": {},
   "outputs": [],
   "source": [
    "import info as i\n",
    "obj = i.Cal(10,5)"
   ]
  },
  {
   "cell_type": "code",
   "execution_count": null,
   "id": "c0e2b7ea",
   "metadata": {},
   "outputs": [],
   "source": [
    "del i"
   ]
  },
  {
   "cell_type": "code",
   "execution_count": null,
   "id": "b36f55ea",
   "metadata": {},
   "outputs": [],
   "source": [
    "from info import Cal"
   ]
  },
  {
   "cell_type": "code",
   "execution_count": null,
   "id": "48ded345",
   "metadata": {},
   "outputs": [],
   "source": [
    "obj = Cal(10, 5)\n",
    "print('obj.num1 :', obj.num1)\n",
    "print('obj.num2 :', obj.num2)\n",
    "print('add test :', obj.add())\n",
    "print('sub test :', obj.sub())"
   ]
  },
  {
   "cell_type": "code",
   "execution_count": null,
   "id": "45f5ed00",
   "metadata": {},
   "outputs": [],
   "source": [
    "from info import Cal as Calculate\n",
    "obj = Calculate(10, 5)\n",
    "print('obj.num1 :', obj.num1)\n",
    "print('obj.num2 :', obj.num2)\n",
    "print('add test :', obj.add())\n",
    "print('sub test :', obj.sub())"
   ]
  },
  {
   "cell_type": "markdown",
   "id": "d2b77544",
   "metadata": {},
   "source": [
    "# 3절. 패키지\n",
    "- 여러 모듈이 들어있는 폴더(엄밀히는 모듈만 들어있는 것은 아님)"
   ]
  },
  {
   "cell_type": "code",
   "execution_count": null,
   "id": "dcd14c0d",
   "metadata": {},
   "outputs": [],
   "source": [
    "# 상위 패키지를 import 한다고 하위 패키지가 import 되지 않습니다\n",
    "import sample_pac"
   ]
  },
  {
   "cell_type": "code",
   "execution_count": null,
   "id": "3f4cedad",
   "metadata": {},
   "outputs": [],
   "source": [
    "import sample_pac.ab"
   ]
  },
  {
   "cell_type": "code",
   "execution_count": null,
   "id": "9e731b2f",
   "metadata": {},
   "outputs": [],
   "source": [
    "from sample_pac import cd"
   ]
  },
  {
   "cell_type": "code",
   "execution_count": null,
   "id": "805429a6",
   "metadata": {},
   "outputs": [],
   "source": [
    "print(sample_pac.__file__)"
   ]
  },
  {
   "cell_type": "code",
   "execution_count": null,
   "id": "ece896a3",
   "metadata": {},
   "outputs": [],
   "source": [
    "print(sample_pac.__path__)"
   ]
  },
  {
   "cell_type": "code",
   "execution_count": null,
   "id": "3e90987d",
   "metadata": {},
   "outputs": [],
   "source": [
    "del sample_pac.ab\n",
    "del cd"
   ]
  },
  {
   "cell_type": "code",
   "execution_count": null,
   "id": "e5d49a5e",
   "metadata": {},
   "outputs": [],
   "source": [
    "from sample_pac.ab import * # ab패키지의 __init__.py안의 __all__속성인 a.py만 로드"
   ]
  },
  {
   "cell_type": "code",
   "execution_count": null,
   "id": "b7ae54aa",
   "metadata": {},
   "outputs": [],
   "source": [
    "a.hello()"
   ]
  },
  {
   "cell_type": "code",
   "execution_count": null,
   "id": "53f002fc",
   "metadata": {},
   "outputs": [],
   "source": [
    "from sample_pac.ab import b\n",
    "b.world()"
   ]
  },
  {
   "cell_type": "code",
   "execution_count": null,
   "id": "d179e2d0",
   "metadata": {},
   "outputs": [],
   "source": [
    "from sample_pac.ab.b import world\n",
    "world()"
   ]
  },
  {
   "cell_type": "code",
   "execution_count": null,
   "id": "8a369c77",
   "metadata": {},
   "outputs": [],
   "source": [
    "del a"
   ]
  },
  {
   "cell_type": "code",
   "execution_count": 2,
   "id": "6a120436",
   "metadata": {},
   "outputs": [
    {
     "name": "stdout",
     "output_type": "stream",
     "text": [
      "sample_pac 패키지를 로드했는지 확인하는 print입니다\n",
      "sample_pac 패키지 안의 cd 패키지 로드\n",
      "sample_pac 패키지 안의 ab 패키지가 로드되었습니다\n"
     ]
    }
   ],
   "source": [
    "import sample_pac.cd.c as c\n",
    "# from sample_pac.cd import c\n",
    "# cd패키지는 ab패키지 일부를 참조"
   ]
  },
  {
   "cell_type": "code",
   "execution_count": 5,
   "id": "02563eea",
   "metadata": {},
   "outputs": [
    {
     "name": "stdout",
     "output_type": "stream",
     "text": [
      "sample_pac/cd안의 c모듈안의 nice\n",
      "sample_pac/ab/a모듈의 Hello\n"
     ]
    }
   ],
   "source": [
    "c.nice()"
   ]
  },
  {
   "cell_type": "code",
   "execution_count": 3,
   "id": "326dc252",
   "metadata": {},
   "outputs": [
    {
     "name": "stdout",
     "output_type": "stream",
     "text": [
      "sample_pac/ab/a모듈의 Hello\n"
     ]
    }
   ],
   "source": [
    "c.a.hello()"
   ]
  },
  {
   "cell_type": "markdown",
   "id": "4c67d2fd",
   "metadata": {},
   "source": [
    "# 4절. 패키지 설치 및 삭제\n",
    "```\n",
    "- 패키지 설치 : pip install 패키지명[==버전]   / conda install 패키지명[==버전]\n",
    "- 패키지 확인 : pip show 패키지명             / conda list 패키지명\n",
    "- 패키지 삭제 ; pip uninstall 패키지명        / conda remove 패키지명\n",
    "```"
   ]
  },
  {
   "cell_type": "code",
   "execution_count": 7,
   "id": "36775fcc",
   "metadata": {},
   "outputs": [],
   "source": [
    "import objgraph # 메모리 사용량 출력하는 함수"
   ]
  },
  {
   "cell_type": "code",
   "execution_count": 8,
   "id": "aa10ac82",
   "metadata": {},
   "outputs": [
    {
     "name": "stdout",
     "output_type": "stream",
     "text": [
      "dict                       34159\n",
      "list                       19680\n",
      "function                   18954\n",
      "Token                      16782\n",
      "tuple                      12491\n",
      "ReferenceType              5498\n",
      "DFAPlan                    5418\n",
      "Name                       3934\n",
      "builtin_function_or_method 3274\n",
      "NFAArc                     2738\n"
     ]
    }
   ],
   "source": [
    "objgraph.show_most_common_types() # 메모리 사용량 출력"
   ]
  },
  {
   "cell_type": "code",
   "execution_count": 32,
   "id": "43ba680e",
   "metadata": {},
   "outputs": [],
   "source": [
    "l = [2]\n",
    "for i in range(1000000):\n",
    "    l.append('aaaa')\n",
    "    l.append('bbbb')\n"
   ]
  },
  {
   "cell_type": "code",
   "execution_count": 33,
   "id": "2015d1c2",
   "metadata": {},
   "outputs": [
    {
     "name": "stdout",
     "output_type": "stream",
     "text": [
      "dict                       34178\n",
      "list                       19693\n",
      "function                   18971\n",
      "Token                      16782\n",
      "tuple                      12448\n",
      "ReferenceType              5530\n",
      "DFAPlan                    5418\n",
      "Name                       3934\n",
      "builtin_function_or_method 3278\n",
      "NFAArc                     2738\n"
     ]
    }
   ],
   "source": [
    "objgraph.show_most_common_types() # 메모리 사용량 출력"
   ]
  },
  {
   "cell_type": "markdown",
   "id": "9792073c",
   "metadata": {},
   "source": [
    "# 5절. 연습문제"
   ]
  },
  {
   "cell_type": "code",
   "execution_count": 34,
   "id": "aacb3638",
   "metadata": {},
   "outputs": [],
   "source": [
    "#1.3"
   ]
  },
  {
   "cell_type": "code",
   "execution_count": 35,
   "id": "fe372880",
   "metadata": {},
   "outputs": [],
   "source": [
    "#2.4"
   ]
  },
  {
   "cell_type": "code",
   "execution_count": 36,
   "id": "85e18909",
   "metadata": {},
   "outputs": [],
   "source": [
    "#3.__init__.py"
   ]
  },
  {
   "cell_type": "code",
   "execution_count": 37,
   "id": "a75e2d9e",
   "metadata": {},
   "outputs": [],
   "source": [
    "#4.__all__"
   ]
  },
  {
   "cell_type": "code",
   "execution_count": null,
   "id": "71a8ef2a",
   "metadata": {},
   "outputs": [],
   "source": [
    "#5.1"
   ]
  }
 ],
 "metadata": {
  "kernelspec": {
   "display_name": "Python 3 (ipykernel)",
   "language": "python",
   "name": "python3"
  },
  "language_info": {
   "codemirror_mode": {
    "name": "ipython",
    "version": 3
   },
   "file_extension": ".py",
   "mimetype": "text/x-python",
   "name": "python",
   "nbconvert_exporter": "python",
   "pygments_lexer": "ipython3",
   "version": "3.10.9"
  },
  "toc": {
   "base_numbering": 1,
   "nav_menu": {},
   "number_sections": true,
   "sideBar": true,
   "skip_h1_title": false,
   "title_cell": "Table of Contents",
   "title_sidebar": "Contents",
   "toc_cell": false,
   "toc_position": {},
   "toc_section_display": true,
   "toc_window_display": false
  }
 },
 "nbformat": 4,
 "nbformat_minor": 5
}
