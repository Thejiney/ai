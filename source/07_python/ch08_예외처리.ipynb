{
 "cells": [
  {
   "cell_type": "markdown",
   "id": "61f48bc9",
   "metadata": {},
   "source": [
    "<font color=\"red\" size=\"6\"><b>ch08. 예외 처리</b></font>"
   ]
  },
  {
   "cell_type": "markdown",
   "id": "18ccb1f0",
   "metadata": {},
   "source": [
    "# 1절. 예외처리\n",
    "```\n",
    "- 예외가 날 가능성이 있는 부분에 대해 미리 예상하고, 그에 대한 처리를 프로그래밍하는 것\n",
    "    (이유 : 좀 더 안정적으로 실행할 수 있도록 함)\n",
    "    ex. 파일을 다룰 때, 파일이 없거나, 쓰기 금지로 인한 오류\n",
    "    ex. 데이터베이스 프로그래밍 시 제약조건 등에 의한 CRUD 명령 수행 오류. DBMS 서버 오류\n",
    "    ex. 네트워크 프로그래밍 시 네트워크 연결 실패 오류\n",
    "    ex. 웹 프로그래밍 작성시 웹 서버 오류\n",
    "    ex. 리스트나 튜플의 인덱스를 벗어난 참조로 인한 오류\n",
    "    ex. 웹크롤링시\n",
    "try: \n",
    "    데이터 수집코드\n",
    "except: \n",
    "    오류가 났을 경우 대신 실행할 코드\n",
    "```"
   ]
  },
  {
   "cell_type": "code",
   "execution_count": 8,
   "id": "e48748e3",
   "metadata": {},
   "outputs": [
    {
     "name": "stdout",
     "output_type": "stream",
     "text": [
      "파일명?\n"
     ]
    },
    {
     "ename": "PermissionError",
     "evalue": "[Errno 13] Permission denied: 'data/'",
     "output_type": "error",
     "traceback": [
      "\u001b[1;31m---------------------------------------------------------------------------\u001b[0m",
      "\u001b[1;31mPermissionError\u001b[0m                           Traceback (most recent call last)",
      "Cell \u001b[1;32mIn[8], line 2\u001b[0m\n\u001b[0;32m      1\u001b[0m filename \u001b[38;5;241m=\u001b[39m \u001b[38;5;28minput\u001b[39m(\u001b[38;5;124m'\u001b[39m\u001b[38;5;124m파일명?\u001b[39m\u001b[38;5;124m'\u001b[39m) \u001b[38;5;66;03m#ch08.txt\u001b[39;00m\n\u001b[1;32m----> 2\u001b[0m f \u001b[38;5;241m=\u001b[39m \u001b[38;5;28;43mopen\u001b[39;49m\u001b[43m(\u001b[49m\u001b[38;5;124;43m'\u001b[39;49m\u001b[38;5;124;43mdata/\u001b[39;49m\u001b[38;5;124;43m'\u001b[39;49m\u001b[38;5;241;43m+\u001b[39;49m\u001b[43mfilename\u001b[49m\u001b[43m,\u001b[49m\u001b[43m \u001b[49m\u001b[38;5;124;43m'\u001b[39;49m\u001b[38;5;124;43mr\u001b[39;49m\u001b[38;5;124;43m'\u001b[39;49m\u001b[43m)\u001b[49m \u001b[38;5;66;03m# 읽기 전용으로 파일을 열기(읽기 전용 steam 객체 생성)\u001b[39;00m\n\u001b[0;32m      3\u001b[0m \u001b[38;5;28mprint\u001b[39m(f\u001b[38;5;241m.\u001b[39mread())\n",
      "File \u001b[1;32m~\\anaconda3\\lib\\site-packages\\IPython\\core\\interactiveshell.py:282\u001b[0m, in \u001b[0;36m_modified_open\u001b[1;34m(file, *args, **kwargs)\u001b[0m\n\u001b[0;32m    275\u001b[0m \u001b[38;5;28;01mif\u001b[39;00m file \u001b[38;5;129;01min\u001b[39;00m {\u001b[38;5;241m0\u001b[39m, \u001b[38;5;241m1\u001b[39m, \u001b[38;5;241m2\u001b[39m}:\n\u001b[0;32m    276\u001b[0m     \u001b[38;5;28;01mraise\u001b[39;00m \u001b[38;5;167;01mValueError\u001b[39;00m(\n\u001b[0;32m    277\u001b[0m         \u001b[38;5;124mf\u001b[39m\u001b[38;5;124m\"\u001b[39m\u001b[38;5;124mIPython won\u001b[39m\u001b[38;5;124m'\u001b[39m\u001b[38;5;124mt let you open fd=\u001b[39m\u001b[38;5;132;01m{\u001b[39;00mfile\u001b[38;5;132;01m}\u001b[39;00m\u001b[38;5;124m by default \u001b[39m\u001b[38;5;124m\"\u001b[39m\n\u001b[0;32m    278\u001b[0m         \u001b[38;5;124m\"\u001b[39m\u001b[38;5;124mas it is likely to crash IPython. If you know what you are doing, \u001b[39m\u001b[38;5;124m\"\u001b[39m\n\u001b[0;32m    279\u001b[0m         \u001b[38;5;124m\"\u001b[39m\u001b[38;5;124myou can use builtins\u001b[39m\u001b[38;5;124m'\u001b[39m\u001b[38;5;124m open.\u001b[39m\u001b[38;5;124m\"\u001b[39m\n\u001b[0;32m    280\u001b[0m     )\n\u001b[1;32m--> 282\u001b[0m \u001b[38;5;28;01mreturn\u001b[39;00m io_open(file, \u001b[38;5;241m*\u001b[39margs, \u001b[38;5;241m*\u001b[39m\u001b[38;5;241m*\u001b[39mkwargs)\n",
      "\u001b[1;31mPermissionError\u001b[0m: [Errno 13] Permission denied: 'data/'"
     ]
    }
   ],
   "source": [
    "filename = input('파일명?') #ch08.txt\n",
    "f = open('data/'+filename, 'r') # 읽기 전용으로 파일을 열기(읽기 전용 steam 객체 생성)\n",
    "print(f.read())"
   ]
  },
  {
   "cell_type": "code",
   "execution_count": 9,
   "id": "b7723d20",
   "metadata": {},
   "outputs": [
    {
     "name": "stdout",
     "output_type": "stream",
     "text": [
      "파일명?\n"
     ]
    },
    {
     "ename": "PermissionError",
     "evalue": "[Errno 13] Permission denied: 'data/'",
     "output_type": "error",
     "traceback": [
      "\u001b[1;31m---------------------------------------------------------------------------\u001b[0m",
      "\u001b[1;31mPermissionError\u001b[0m                           Traceback (most recent call last)",
      "Cell \u001b[1;32mIn[9], line 2\u001b[0m\n\u001b[0;32m      1\u001b[0m filename \u001b[38;5;241m=\u001b[39m \u001b[38;5;28minput\u001b[39m(\u001b[38;5;124m'\u001b[39m\u001b[38;5;124m파일명?\u001b[39m\u001b[38;5;124m'\u001b[39m) \u001b[38;5;66;03m# \u001b[39;00m\n\u001b[1;32m----> 2\u001b[0m f \u001b[38;5;241m=\u001b[39m \u001b[38;5;28;43mopen\u001b[39;49m\u001b[43m(\u001b[49m\u001b[38;5;124;43m'\u001b[39;49m\u001b[38;5;124;43mdata/\u001b[39;49m\u001b[38;5;124;43m'\u001b[39;49m\u001b[38;5;241;43m+\u001b[39;49m\u001b[43mfilename\u001b[49m\u001b[43m,\u001b[49m\u001b[43m \u001b[49m\u001b[38;5;124;43m'\u001b[39;49m\u001b[38;5;124;43mr\u001b[39;49m\u001b[38;5;124;43m'\u001b[39;49m\u001b[43m)\u001b[49m \u001b[38;5;66;03m# 읽기 전용으로 파일을 열기(읽기 전용 stream 객체 생성)\u001b[39;00m\n\u001b[0;32m      3\u001b[0m \u001b[38;5;28mprint\u001b[39m(f\u001b[38;5;241m.\u001b[39mread())\n",
      "File \u001b[1;32m~\\anaconda3\\lib\\site-packages\\IPython\\core\\interactiveshell.py:282\u001b[0m, in \u001b[0;36m_modified_open\u001b[1;34m(file, *args, **kwargs)\u001b[0m\n\u001b[0;32m    275\u001b[0m \u001b[38;5;28;01mif\u001b[39;00m file \u001b[38;5;129;01min\u001b[39;00m {\u001b[38;5;241m0\u001b[39m, \u001b[38;5;241m1\u001b[39m, \u001b[38;5;241m2\u001b[39m}:\n\u001b[0;32m    276\u001b[0m     \u001b[38;5;28;01mraise\u001b[39;00m \u001b[38;5;167;01mValueError\u001b[39;00m(\n\u001b[0;32m    277\u001b[0m         \u001b[38;5;124mf\u001b[39m\u001b[38;5;124m\"\u001b[39m\u001b[38;5;124mIPython won\u001b[39m\u001b[38;5;124m'\u001b[39m\u001b[38;5;124mt let you open fd=\u001b[39m\u001b[38;5;132;01m{\u001b[39;00mfile\u001b[38;5;132;01m}\u001b[39;00m\u001b[38;5;124m by default \u001b[39m\u001b[38;5;124m\"\u001b[39m\n\u001b[0;32m    278\u001b[0m         \u001b[38;5;124m\"\u001b[39m\u001b[38;5;124mas it is likely to crash IPython. If you know what you are doing, \u001b[39m\u001b[38;5;124m\"\u001b[39m\n\u001b[0;32m    279\u001b[0m         \u001b[38;5;124m\"\u001b[39m\u001b[38;5;124myou can use builtins\u001b[39m\u001b[38;5;124m'\u001b[39m\u001b[38;5;124m open.\u001b[39m\u001b[38;5;124m\"\u001b[39m\n\u001b[0;32m    280\u001b[0m     )\n\u001b[1;32m--> 282\u001b[0m \u001b[38;5;28;01mreturn\u001b[39;00m io_open(file, \u001b[38;5;241m*\u001b[39margs, \u001b[38;5;241m*\u001b[39m\u001b[38;5;241m*\u001b[39mkwargs)\n",
      "\u001b[1;31mPermissionError\u001b[0m: [Errno 13] Permission denied: 'data/'"
     ]
    }
   ],
   "source": [
    "filename = input('파일명?') # \n",
    "f = open('data/'+filename, 'r') # 읽기 전용으로 파일을 열기(읽기 전용 stream 객체 생성)\n",
    "print(f.read())"
   ]
  },
  {
   "cell_type": "code",
   "execution_count": 10,
   "id": "16f920c7",
   "metadata": {},
   "outputs": [
    {
     "ename": "ZeroDivisionError",
     "evalue": "division by zero",
     "output_type": "error",
     "traceback": [
      "\u001b[1;31m---------------------------------------------------------------------------\u001b[0m",
      "\u001b[1;31mZeroDivisionError\u001b[0m                         Traceback (most recent call last)",
      "Cell \u001b[1;32mIn[10], line 1\u001b[0m\n\u001b[1;32m----> 1\u001b[0m \u001b[38;5;241;43m4\u001b[39;49m\u001b[43m \u001b[49m\u001b[38;5;241;43m/\u001b[39;49m\u001b[43m \u001b[49m\u001b[38;5;241;43m0\u001b[39;49m\n",
      "\u001b[1;31mZeroDivisionError\u001b[0m: division by zero"
     ]
    }
   ],
   "source": [
    "4 / 0"
   ]
  },
  {
   "cell_type": "code",
   "execution_count": 11,
   "id": "bcb122a0",
   "metadata": {},
   "outputs": [
    {
     "ename": "IndexError",
     "evalue": "list index out of range",
     "output_type": "error",
     "traceback": [
      "\u001b[1;31m---------------------------------------------------------------------------\u001b[0m",
      "\u001b[1;31mIndexError\u001b[0m                                Traceback (most recent call last)",
      "Cell \u001b[1;32mIn[11], line 2\u001b[0m\n\u001b[0;32m      1\u001b[0m a \u001b[38;5;241m=\u001b[39m [\u001b[38;5;241m1\u001b[39m,\u001b[38;5;241m2\u001b[39m,\u001b[38;5;241m3\u001b[39m]\n\u001b[1;32m----> 2\u001b[0m \u001b[43ma\u001b[49m\u001b[43m[\u001b[49m\u001b[38;5;241;43m3\u001b[39;49m\u001b[43m]\u001b[49m\n",
      "\u001b[1;31mIndexError\u001b[0m: list index out of range"
     ]
    }
   ],
   "source": [
    "a = [1,2,3]\n",
    "a[3]"
   ]
  },
  {
   "cell_type": "markdown",
   "id": "5b5fae1a",
   "metadata": {},
   "source": [
    "# 2절 try~except로 예외처리\n",
    "## 2.1 try~except\n",
    "```\n",
    "try:\n",
    "    예외가 발생할 가능성이 있는 명령어들.\n",
    "    ..\n",
    "except:\n",
    "    예외가 발생했을 경우 실행할 명령어들\n",
    "```"
   ]
  },
  {
   "cell_type": "code",
   "execution_count": 12,
   "id": "bab3ff3d",
   "metadata": {},
   "outputs": [
    {
     "name": "stdout",
     "output_type": "stream",
     "text": [
      "정수를 입력하세요 :\n",
      "유효한 정수가 아닙니다\n"
     ]
    }
   ],
   "source": [
    "# 100을 입력받은 정수값으로 나눠 출력\n",
    "# ValueError : 수를 입력하지 않았을 경우 예외 타입\n",
    "# ZeroDivisionError : 0을 입력했을 경우 예외 타입\n",
    "try:\n",
    "    x = int(input('정수를 입력하세요 :'))\n",
    "    print('입력한 정수는 {}'.format(x))\n",
    "    print('100을 입력한 정수로 나누면 {:.2f}'.format(100/x))\n",
    "except:\n",
    "    print('유효한 정수가 아닙니다')"
   ]
  },
  {
   "cell_type": "code",
   "execution_count": 13,
   "id": "a526e0b2",
   "metadata": {},
   "outputs": [
    {
     "name": "stdout",
     "output_type": "stream",
     "text": [
      "100을 나눌 정수는 ?\n",
      "유효한 정수가 아닙니다. 다시 입력하세요\n",
      "100을 나눌 정수는 ?\n",
      "유효한 정수가 아닙니다. 다시 입력하세요\n",
      "100을 나눌 정수는 ?\n",
      "유효한 정수가 아닙니다. 다시 입력하세요\n",
      "100을 나눌 정수는 ?\n",
      "유효한 정수가 아닙니다. 다시 입력하세요\n",
      "100을 나눌 정수는 ?\n",
      "유효한 정수가 아닙니다. 다시 입력하세요\n",
      "100을 나눌 정수는 ?\n",
      "유효한 정수가 아닙니다. 다시 입력하세요\n",
      "100을 나눌 정수는 ?1\n",
      "입력한 정수는 1\n",
      "100을 입력한 정수로 나누면 100.000\n"
     ]
    }
   ],
   "source": [
    "# 100을 나눌 유효한 정수를 입력할 때까지 입력받아\n",
    "# 유효한 정수를 입력하면 입력한 정수와 100을 입력한 수로 나눈 결과를 출력\n",
    "# ValueError : 수를 입력하지 않았을 경우 예외 타입\n",
    "# ZeroDivisionError : 0을 입력했을 경우 예외 타입\n",
    "while True:\n",
    "    try:\n",
    "        x = int(input('100을 나눌 정수는 ?'))\n",
    "        print('입력한 정수는 {}'.format(x))\n",
    "        print('100을 입력한 정수로 나누면 {:.3f}'.format(100/x))\n",
    "        break\n",
    "    except:\n",
    "        print('유효한 정수가 아닙니다. 다시 입력하세요')"
   ]
  },
  {
   "cell_type": "markdown",
   "id": "ebd3aa51",
   "metadata": {},
   "source": [
    "## 2.2 예외를 지정한 처리\n",
    "```\n",
    "try:\n",
    "    예외가 발생할 수도 있는 문장들\n",
    "except 예외타입1:\n",
    "    해당 예외가 발생할 경우 실행할 문장\n",
    "except 예외타입2:\n",
    "    해당 예외가 발생할 경우 실행할 문장\n",
    "...\n",
    "```"
   ]
  },
  {
   "cell_type": "code",
   "execution_count": 14,
   "id": "4f4e1366",
   "metadata": {},
   "outputs": [
    {
     "name": "stdout",
     "output_type": "stream",
     "text": [
      "100을 나눌 정수는 ?\n",
      "유효한 정수가 아닙니다. 다시 입력하세요\n",
      "100을 나눌 정수는 ?1\n",
      "입력한 정수는 1\n",
      "100을 입력한 정수로 나누면 100.000\n"
     ]
    }
   ],
   "source": [
    "# 100을 나눌 유효한 정수를 입력할 때까지 입력받아\n",
    "# 유효한 정수를 입력하면 입력한 정수와 100을 입력한 수로 나눈 결과를 출력\n",
    "# ValueError : 수를 입력하지 않았을 경우 예외 타입\n",
    "# ZeroDivisionError : 0을 입력했을 경우 예외 타입\n",
    "while True:\n",
    "    try:\n",
    "        x = int(input('100을 나눌 정수는 ?'))\n",
    "        print('입력한 정수는 {}'.format(x))\n",
    "        print('100을 입력한 정수로 나누면 {:.3f}'.format(100/x))\n",
    "        break\n",
    "    except (ValueError, ZeroDivisionError):\n",
    "        print('유효한 정수가 아닙니다. 다시 입력하세요')\n",
    "    except Exception: # 그 외 모든 예외\n",
    "        print('다시 시도하세요')"
   ]
  },
  {
   "cell_type": "markdown",
   "id": "aac8c210",
   "metadata": {},
   "source": [
    "## 2.3 예외인수(e)\n",
    "```\n",
    "try{\n",
    "    예외가 발생할 수도 있는 문장;\n",
    "} catch(예외타입 e){\n",
    "    sysout(e.getMessage());\n",
    "}\n",
    "try:\n",
    "    예외가 발생할 수도 있는 문장\n",
    "except 예외타입 as e:\n",
    "    print(e)\n",
    "    print(e.args[0])\n",
    "```"
   ]
  },
  {
   "cell_type": "code",
   "execution_count": 15,
   "id": "b2aeb968",
   "metadata": {},
   "outputs": [
    {
     "name": "stdout",
     "output_type": "stream",
     "text": [
      "100을 나눌 정수는 ?1\n",
      "입력한 정수는 1\n",
      "100을 입력한 정수로 나누면 100.000\n"
     ]
    }
   ],
   "source": [
    "# 100을 나눌 유효한 정수를 입력할 때까지 입력받아\n",
    "# 유효한 정수를 입력하면 입력한 정수와 100을 입력한 수로 나눈 결과를 출력\n",
    "# ValueError : 수를 입력하지 않았을 경우 예외 타입\n",
    "# ZeroDivisionError : 0을 입력했을 경우 예외 타입\n",
    "while True:\n",
    "    try:\n",
    "        x = int(input('100을 나눌 정수는 ?'))\n",
    "        print('입력한 정수는 {}'.format(x))\n",
    "        print('100을 입력한 정수로 나누면 {:.3f}'.format(100/x))\n",
    "        break\n",
    "    except (ValueError, ZeroDivisionError) as e:\n",
    "        print('예외 유형 :',type(e))\n",
    "        print('예외메세지 :',e) # ★\n",
    "        print('예외메세지 :',e.args)\n",
    "        print('예외메세지 :',e.args[0]) # 예외메세지가 있는 곳\n",
    "        print('모든 예외객체 e는 Exception 타입인지 :', isinstance(e, Exception))\n",
    "    except Exception: # 그 외 모든 예외\n",
    "        print('다시 시도하세요')"
   ]
  },
  {
   "cell_type": "code",
   "execution_count": 16,
   "id": "cd9cb34d",
   "metadata": {},
   "outputs": [
    {
     "name": "stdout",
     "output_type": "stream",
     "text": [
      "list index out of range\n"
     ]
    }
   ],
   "source": [
    "try:\n",
    "    a = [1,2,3]\n",
    "    a[3]\n",
    "except IndexError as e:\n",
    "    print(e)"
   ]
  },
  {
   "cell_type": "markdown",
   "id": "dfa614f2",
   "metadata": {},
   "source": [
    "```\n",
    "try:\n",
    "    ~\n",
    "except [예외타입 [as e]]:\n",
    "    ~\n",
    "[else:\n",
    "                       ]\n",
    "finally:\n",
    "    ~\n",
    "try절을 수행하다가 예외가 발생되면 except 블록 실행하고 finally 블록 수행\n",
    "try절을 수행하다가 예외가 발생안되면, else 절을 수행하고, finally 블록 수행\n",
    "```"
   ]
  },
  {
   "cell_type": "code",
   "execution_count": 15,
   "id": "9d7d1be0",
   "metadata": {},
   "outputs": [
    {
     "name": "stdout",
     "output_type": "stream",
     "text": [
      "Hello\n",
      "\n"
     ]
    }
   ],
   "source": [
    "try:\n",
    "    f = open('data/ch08.txt', 'r')\n",
    "    data = f. read()\n",
    "    print(data)\n",
    "except FileNotFoundError as e:\n",
    "    print('해당 파일이 없습니다')\n",
    "    print(e)\n",
    "else:\n",
    "    data = f.read()\n",
    "    print(data)\n",
    "finally:\n",
    "    f.close()"
   ]
  },
  {
   "cell_type": "markdown",
   "id": "9f76b0f2",
   "metadata": {},
   "source": [
    "# 3절. raise\n",
    "- 강제 예외 발생"
   ]
  },
  {
   "cell_type": "code",
   "execution_count": 1,
   "id": "7cf13848",
   "metadata": {},
   "outputs": [
    {
     "ename": "NameError",
     "evalue": "",
     "output_type": "error",
     "traceback": [
      "\u001b[1;31m---------------------------------------------------------------------------\u001b[0m",
      "\u001b[1;31mNameError\u001b[0m                                 Traceback (most recent call last)",
      "Cell \u001b[1;32mIn[1], line 1\u001b[0m\n\u001b[1;32m----> 1\u001b[0m \u001b[38;5;28;01mraise\u001b[39;00m \u001b[38;5;167;01mNameError\u001b[39;00m()\n",
      "\u001b[1;31mNameError\u001b[0m: "
     ]
    }
   ],
   "source": [
    "raise NameError()"
   ]
  },
  {
   "cell_type": "code",
   "execution_count": 7,
   "id": "98e090b6",
   "metadata": {},
   "outputs": [],
   "source": [
    "# 사용자 정의 예외 : Exception 클래스 또는 그 하위 클래스를 상속받아 구현\n",
    "class LengthZeroError(Exception):\n",
    "    '길이가 0일때 발생하는 예외'\n",
    "    pass\n",
    "#     def __init__(self,message):\n",
    "#         Exception.__init__(self, message)\n",
    "#         super().__init__(message) # 상위클래스의 생성자에서 예외 메세지 셋팅"
   ]
  },
  {
   "cell_type": "code",
   "execution_count": 17,
   "id": "beac0a1d",
   "metadata": {},
   "outputs": [],
   "source": [
    "def insert(*data): #튜플 매개변수\n",
    "    if len(data)==0:\n",
    "        raise LengthZeroError('매개변수 길이가 0 이면 예외예요(사용자 정의 예외)')\n",
    "    for item in data:\n",
    "        print(item, end= ' ')\n",
    "    print('등을 입력하셨습니다')"
   ]
  },
  {
   "cell_type": "code",
   "execution_count": 18,
   "id": "a5f64133",
   "metadata": {},
   "outputs": [
    {
     "name": "stdout",
     "output_type": "stream",
     "text": [
      "매개변수 길이가 0 이면 예외예요(사용자 정의 예외)\n",
      "무조건 실행 - DONE\n"
     ]
    }
   ],
   "source": [
    "data = ()\n",
    "try:\n",
    "    insert(*data) # 튜플이나 리스트 언패킹\n",
    "except LengthZeroError as e:\n",
    "    print(e)\n",
    "#     print('매개변수 길이가 0 이면 예외예요(사용자 정의 예외)')\n",
    "else:\n",
    "    print('정상 실행')\n",
    "finally:\n",
    "    print('무조건 실행 - DONE')"
   ]
  },
  {
   "cell_type": "code",
   "execution_count": 19,
   "id": "b7be1e3e",
   "metadata": {},
   "outputs": [
    {
     "name": "stdout",
     "output_type": "stream",
     "text": [
      "1 2 3 4 등을 입력하셨습니다\n"
     ]
    }
   ],
   "source": [
    "insert(1,2,3,4)"
   ]
  },
  {
   "cell_type": "markdown",
   "id": "bd96d273",
   "metadata": {},
   "source": [
    "# 4절. 추상클래스\n",
    "```\n",
    "- python은 추상클래스를 생성할 수 없으나, raise를 이용해서 추상클래스를 흉내냄\n",
    "\n",
    "- 추상클래스 : 추상메소드가 1개 이상 포함된 객체를 생성할 수 없는 클래스\n",
    "             추상메소드는 상속받은 클래스에서 구현해야 함\n",
    "```"
   ]
  },
  {
   "cell_type": "code",
   "execution_count": 20,
   "id": "f75b215c",
   "metadata": {},
   "outputs": [],
   "source": [
    "class Shape:\n",
    "    def __init__(self):\n",
    "        raise NotImplementedError('추상클래스 역할')\n",
    "    def calc_area(self):\n",
    "        raise NotImplementedError('추상 메소드 역할')"
   ]
  },
  {
   "cell_type": "code",
   "execution_count": 21,
   "id": "c23990f1",
   "metadata": {},
   "outputs": [
    {
     "ename": "NotImplementedError",
     "evalue": "추상클래스 역할",
     "output_type": "error",
     "traceback": [
      "\u001b[1;31m---------------------------------------------------------------------------\u001b[0m",
      "\u001b[1;31mNotImplementedError\u001b[0m                       Traceback (most recent call last)",
      "Cell \u001b[1;32mIn[21], line 1\u001b[0m\n\u001b[1;32m----> 1\u001b[0m s \u001b[38;5;241m=\u001b[39m \u001b[43mShape\u001b[49m\u001b[43m(\u001b[49m\u001b[43m)\u001b[49m\n",
      "Cell \u001b[1;32mIn[20], line 3\u001b[0m, in \u001b[0;36mShape.__init__\u001b[1;34m(self)\u001b[0m\n\u001b[0;32m      2\u001b[0m \u001b[38;5;28;01mdef\u001b[39;00m \u001b[38;5;21m__init__\u001b[39m(\u001b[38;5;28mself\u001b[39m):\n\u001b[1;32m----> 3\u001b[0m     \u001b[38;5;28;01mraise\u001b[39;00m \u001b[38;5;167;01mNotImplementedError\u001b[39;00m(\u001b[38;5;124m'\u001b[39m\u001b[38;5;124m추상클래스 역할\u001b[39m\u001b[38;5;124m'\u001b[39m)\n",
      "\u001b[1;31mNotImplementedError\u001b[0m: 추상클래스 역할"
     ]
    }
   ],
   "source": [
    "s = Shape()"
   ]
  },
  {
   "cell_type": "code",
   "execution_count": 24,
   "id": "01858cbf",
   "metadata": {},
   "outputs": [],
   "source": [
    "import numpy as np # numpy라는 패키지를 np라는 이름으로 메모리 로드"
   ]
  },
  {
   "cell_type": "code",
   "execution_count": 25,
   "id": "08eb7338",
   "metadata": {},
   "outputs": [],
   "source": [
    "class Circle(Shape):\n",
    "    def __init__(self, radius=3):\n",
    "        self.radius = radius\n",
    "    def calc_area(self):\n",
    "        '원이 넓이를 return하는 함수'\n",
    "        return np.pi * (self.radius ** 2)"
   ]
  },
  {
   "cell_type": "code",
   "execution_count": 26,
   "id": "92b5470d",
   "metadata": {},
   "outputs": [
    {
     "data": {
      "text/plain": [
       "78.53981633974483"
      ]
     },
     "execution_count": 26,
     "metadata": {},
     "output_type": "execute_result"
    }
   ],
   "source": [
    "myCircle = Circle(5)\n",
    "myCircle.calc_area()"
   ]
  },
  {
   "cell_type": "markdown",
   "id": "85539308",
   "metadata": {},
   "source": [
    "# 5절. 파일 정리 작업"
   ]
  },
  {
   "cell_type": "code",
   "execution_count": 28,
   "id": "5b88c2e7",
   "metadata": {},
   "outputs": [
    {
     "name": "stdout",
     "output_type": "stream",
     "text": [
      "['Hello']\n"
     ]
    }
   ],
   "source": [
    "try:\n",
    "    f = open('data/ch08.txt','r')\n",
    "    lines = f.readlines() # 한줄한줄 모든 줄을 한꺼번에 읽어 list로 return\n",
    "    print(lines)    \n",
    "except FileNotFoundError as e:\n",
    "   print(e)\n",
    "finally:\n",
    "    f.close() # 제일 중요"
   ]
  },
  {
   "cell_type": "code",
   "execution_count": 29,
   "id": "c3ddb690",
   "metadata": {},
   "outputs": [],
   "source": [
    "# with절 이후에는 자동적으로 close() 실행"
   ]
  },
  {
   "cell_type": "code",
   "execution_count": 30,
   "id": "ae0713b2",
   "metadata": {},
   "outputs": [
    {
     "name": "stdout",
     "output_type": "stream",
     "text": [
      "['Hello']\n"
     ]
    }
   ],
   "source": [
    "with open('data/ch08.txt') as f:\n",
    "    lines = f.readlines()\n",
    "print(lines)"
   ]
  },
  {
   "cell_type": "code",
   "execution_count": 31,
   "id": "a8d1d5e2",
   "metadata": {},
   "outputs": [
    {
     "name": "stdout",
     "output_type": "stream",
     "text": [
      "['Hello']\n"
     ]
    }
   ],
   "source": [
    "try:\n",
    "    with open('data/ch08.txt') as f:\n",
    "        lines = f.readlines()\n",
    "    print(lines)\n",
    "except FileNotFoundError as e:\n",
    "    print(e)"
   ]
  },
  {
   "cell_type": "markdown",
   "id": "2428958d",
   "metadata": {},
   "source": [
    "# 6절. 연습문제"
   ]
  },
  {
   "cell_type": "markdown",
   "id": "04e422cb",
   "metadata": {},
   "source": [
    "## 실습형"
   ]
  },
  {
   "cell_type": "code",
   "execution_count": 41,
   "id": "56d1adb4",
   "metadata": {},
   "outputs": [
    {
     "name": "stdout",
     "output_type": "stream",
     "text": [
      "첫 번째 숫자를 입력하세요: 3.5\n",
      "두 번째 숫자를 입력하세요: 2\n",
      "입력한 수는 3.5와 2.0입니다.\n",
      "3.5을 2.0로 나누면 1.75입니다.\n"
     ]
    }
   ],
   "source": [
    "#1\n",
    "try:\n",
    "    num1 = float(input('첫 번째 숫자를 입력하세요: '))\n",
    "    num2 = float(input('두 번째 숫자를 입력하세요: '))\n",
    "    print('입력한 수는 {}와 {}입니다.'.format(num1,num2))\n",
    "    result=num1/num2\n",
    "    print('{}을 {}로 나누면 {}입니다.'.format(num1,num2,result))\n",
    "except:\n",
    "    print('유효한 숫자가 아닙니다. 다시 시도하세요')"
   ]
  },
  {
   "cell_type": "code",
   "execution_count": 46,
   "id": "a5120abe",
   "metadata": {},
   "outputs": [
    {
     "name": "stdout",
     "output_type": "stream",
     "text": [
      "첫 번째 숫자를 입력하세요: 5\n",
      "두 번째 숫자를 입력하세요: 3\n",
      "입력한 수는 5.0와 3.0입니다.\n",
      "5.0을 3.0로 나누면 1.6666666666666667입니다.\n"
     ]
    }
   ],
   "source": [
    "#2\n",
    "try:\n",
    "    num1 = float(input('첫 번째 숫자를 입력하세요: '))\n",
    "    num2 = float(input('두 번째 숫자를 입력하세요: '))\n",
    "    print('입력한 수는 {}와 {}입니다.'.format(num1,num2))\n",
    "    result=num1/num2\n",
    "    print('{}을 {}로 나누면 {}입니다.'.format(num1,num2,result))\n",
    "except ValueError:\n",
    "    print('유효한 숫자가 아닙니다. 다시 시도하세요.')\n",
    "except ZeroDivisionError:\n",
    "    print('0으로 나눌 수 없습니다. 다시 시도하세요.')"
   ]
  },
  {
   "cell_type": "markdown",
   "id": "6c7be8e4",
   "metadata": {},
   "source": [
    "## 문제풀이형"
   ]
  },
  {
   "cell_type": "code",
   "execution_count": 47,
   "id": "12041946",
   "metadata": {},
   "outputs": [],
   "source": [
    "#1 3\n",
    "#2 2\n",
    "#3 4\n",
    "#4 3"
   ]
  },
  {
   "cell_type": "code",
   "execution_count": null,
   "id": "b77d356b",
   "metadata": {},
   "outputs": [],
   "source": []
  }
 ],
 "metadata": {
  "kernelspec": {
   "display_name": "Python 3 (ipykernel)",
   "language": "python",
   "name": "python3"
  },
  "language_info": {
   "codemirror_mode": {
    "name": "ipython",
    "version": 3
   },
   "file_extension": ".py",
   "mimetype": "text/x-python",
   "name": "python",
   "nbconvert_exporter": "python",
   "pygments_lexer": "ipython3",
   "version": "3.10.9"
  },
  "toc": {
   "base_numbering": 1,
   "nav_menu": {},
   "number_sections": true,
   "sideBar": true,
   "skip_h1_title": false,
   "title_cell": "Table of Contents",
   "title_sidebar": "Contents",
   "toc_cell": false,
   "toc_position": {},
   "toc_section_display": true,
   "toc_window_display": false
  }
 },
 "nbformat": 4,
 "nbformat_minor": 5
}
