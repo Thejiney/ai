{
 "cells": [
  {
   "cell_type": "markdown",
   "id": "4bd3c02c",
   "metadata": {},
   "source": [
    "<font color=\"red\" size=\"6\"><b>ch10.데이터 베이스 연동</b></font>"
   ]
  },
  {
   "cell_type": "markdown",
   "id": "e146e05b",
   "metadata": {},
   "source": [
    "# 1절. SQLite 데이터 베이스 연결\n",
    "- SQLite 데이터 베이스는 별도의 DBMS없이 SQL을 이용하여 DB 엑세스 할 수 있도록 만든 간단한 디스크 기반의 DB 제공\n",
    "- C 라이브러리\n",
    "- SQLite는 프로토타입을 만들 때 사용\n",
    "- 프로젝트 단계 : 분석 → 설계 → 구현 → 테스트 → 고객에게 배포 → 유지보수\n",
    "-               프로토타입         시제품       완제품(Oracle, MySql, Maria, ...)\n",
    "-\n",
    "-\n",
    "- [DB browser for SQLite](https://sqlitebrowser.org/dl/)\n",
    "## 1.1 SQLite broswer 설치 및 sqlite3 패키지 load"
   ]
  },
  {
   "cell_type": "code",
   "execution_count": null,
   "id": "8ebb4caa",
   "metadata": {},
   "outputs": [],
   "source": [
    "import sqlite3\n",
    "sqlite3.sqlite_version # sqlite3 패키지의 버전"
   ]
  },
  {
   "cell_type": "code",
   "execution_count": null,
   "id": "71c6fb64",
   "metadata": {},
   "outputs": [],
   "source": [
    "import pandas as pd\n",
    "pd.__version__"
   ]
  },
  {
   "cell_type": "code",
   "execution_count": null,
   "id": "781293fa",
   "metadata": {},
   "outputs": [],
   "source": [
    "import numpy as np\n",
    "np.__version__"
   ]
  },
  {
   "cell_type": "markdown",
   "id": "4e82ea33",
   "metadata": {},
   "source": [
    "## 1.2 데이터베이스 생성 및 연결\n",
    "- SQLite로 DB 연결시, DB파일이 있으면 연결, DB파일이 없으면 빈 DB 파일 생성"
   ]
  },
  {
   "cell_type": "code",
   "execution_count": null,
   "id": "74774774",
   "metadata": {},
   "outputs": [],
   "source": [
    "# DB 연결\n",
    "conn = sqlite3.connect('data/ch10_example.db')\n",
    "conn"
   ]
  },
  {
   "cell_type": "code",
   "execution_count": null,
   "id": "82fa7c67",
   "metadata": {},
   "outputs": [],
   "source": [
    "# 커서 객체 생성 커서는 SQL문 실행시키고, 결과데이터를 조회(select, 그외)하는데 사용하는 객체\n",
    "cursor = conn.cursor()\n",
    "cursor"
   ]
  },
  {
   "cell_type": "code",
   "execution_count": null,
   "id": "6e041bb4",
   "metadata": {},
   "outputs": [],
   "source": [
    "cursor.execute('''\n",
    "    CREATE TABLE MEMBER (\n",
    "        NAME TEXT,\n",
    "        AGE INT,\n",
    "        EMAIL TEXT\n",
    "    )\n",
    "''')"
   ]
  },
  {
   "cell_type": "code",
   "execution_count": null,
   "id": "6c505108",
   "metadata": {},
   "outputs": [],
   "source": [
    "cursor.execute('INSERT INTO MEMBER VALUES (\\'홍길동\\', 20, \\'h@h.com\\')')\n",
    "print('수행 결과 행수 :', cursor.rowcount)\n",
    "sql = \"INSERT INTO MEMBER VALUES ('신길동', 25, 'S@S.COM')\"\n",
    "cursor.execute(sql)\n",
    "print('수행 결과 행수 :', cursor.rowcount)\n",
    "cursor.execute('INSERT INTO MEMBER VALUES (\\'신림동\\', 30, \\'l@h.com\\')')\n",
    "print('수행 결과 행수 :', cursor.rowcount)"
   ]
  },
  {
   "cell_type": "code",
   "execution_count": null,
   "id": "12411832",
   "metadata": {},
   "outputs": [],
   "source": [
    "conn.commit() # 反. conn.rollback() DML문에서만 commit"
   ]
  },
  {
   "cell_type": "code",
   "execution_count": null,
   "id": "f7f655be",
   "metadata": {},
   "outputs": [],
   "source": [
    "# SQL 전송 결과는 cursor가 가리킴\n",
    "cursor.execute(\"SELECT * FROM MEMBER ORDER BY NAME\")"
   ]
  },
  {
   "cell_type": "code",
   "execution_count": null,
   "id": "e913135f",
   "metadata": {},
   "outputs": [],
   "source": [
    "# insert, update, delete 문 실행결과 : cursor.rowcount\n",
    "# select문 실행 결과를 받는 함수들\n",
    "    ## fetchone() : 결과를 한행씩 받을 때 (튜플)\n",
    "    ## fetchall() : 결과를 모두 받을 때 (튜플 list)\n",
    "    ## fetchmany(n) : 결과를 n행 받을 때 (튜플 list)\n",
    "print(cursor.fetchall())"
   ]
  },
  {
   "cell_type": "code",
   "execution_count": null,
   "id": "725ecec3",
   "metadata": {},
   "outputs": [],
   "source": [
    "print(cursor.fetchall()) # 한 번 소요된 cursor 객체는 다시 fetch할 수 없음"
   ]
  },
  {
   "cell_type": "code",
   "execution_count": null,
   "id": "8bd7e4f4",
   "metadata": {},
   "outputs": [],
   "source": [
    "cursor.execute('SELECT NAME, AGE, EMAIL FROM MEMBER ORDER BY AGE')\n",
    "members = cursor.fetchall()\n",
    "members # 튜플 리스트"
   ]
  },
  {
   "cell_type": "code",
   "execution_count": null,
   "id": "37b49cac",
   "metadata": {},
   "outputs": [],
   "source": [
    "for member in members:\n",
    "    print(member)"
   ]
  },
  {
   "cell_type": "code",
   "execution_count": null,
   "id": "19ec4a1f",
   "metadata": {},
   "outputs": [],
   "source": [
    "# 한줄씩 읽기\n",
    "cursor.execute(\"SELECT NAME, AGE, EMAIL FROM MEMBER ORDER BY AGE\")\n",
    "member_list = []\n",
    "while True:\n",
    "    member = cursor.fetchone() # SQL문 수행 결과 한줄 가져오기\n",
    "    if member is None:\n",
    "        break\n",
    "    #print(member)\n",
    "    member_list.append( {'name':member[0], 'age':member[1],'email':member[2]})"
   ]
  },
  {
   "cell_type": "code",
   "execution_count": null,
   "id": "907000b8",
   "metadata": {},
   "outputs": [],
   "source": [
    "member_list"
   ]
  },
  {
   "cell_type": "code",
   "execution_count": null,
   "id": "81b4a3ac",
   "metadata": {},
   "outputs": [],
   "source": [
    "# 최상위 n행 읽기\n",
    "cursor.execute('SELECT NAME, AGE, EMAIL FROM MEMBER ORDER BY AGE')\n",
    "for member in cursor.fetchmany(10):\n",
    "    print(member)"
   ]
  },
  {
   "cell_type": "code",
   "execution_count": null,
   "id": "5f9b741e",
   "metadata": {},
   "outputs": [],
   "source": [
    "# 결과 한 줄당 객체로 받기\n",
    "class Member:\n",
    "    'Member 테이블의 내용을 받을 객체 타입'\n",
    "    def __init__(self,name,age,email):\n",
    "        self.name = name\n",
    "        self.age = age\n",
    "        self.email = email\n",
    "    def as_dic(self): #inser문 전송시 필요\n",
    "        return{'name':self.name,'age':self.age,'email':self.email}\n",
    "    def __str__(self):\n",
    "        return \"{}\\t{}\\t{}\".format(self.name, self.age, self.email)\n",
    "\n",
    "def to_member(*row): # 튜플 데이터를 매개변수로 받아 Member형 객체로 return\n",
    "    return Member(row[0], row[1], row[2])"
   ]
  },
  {
   "cell_type": "code",
   "execution_count": null,
   "id": "1e845f97",
   "metadata": {},
   "outputs": [],
   "source": [
    "dbreadmember = ('홍길동', 20 ,'h@h.com')\n",
    "m = to_member(*dbreadmember) # 튜플 언패킹\n",
    "print(m)\n",
    "print(m.as_dic())"
   ]
  },
  {
   "cell_type": "code",
   "execution_count": null,
   "id": "af0a1951",
   "metadata": {},
   "outputs": [],
   "source": [
    "# DB 검색 결과를 객체 list로\n",
    "cursor.execute('SELECT NAME, AGE, EMAIL FROM MEMBER')\n",
    "member_list = [] # sql문 수행 결과를 담을 객체 list\n",
    "members = cursor.fetchall() # 튜플 list\n",
    "# print(members)\n",
    "for member in members:\n",
    "    member_list.append(to_member(*member))"
   ]
  },
  {
   "cell_type": "code",
   "execution_count": null,
   "id": "cd08cd53",
   "metadata": {},
   "outputs": [],
   "source": [
    "type(member[0]), type(member_list[0])"
   ]
  },
  {
   "cell_type": "code",
   "execution_count": null,
   "id": "c9f4e846",
   "metadata": {},
   "outputs": [],
   "source": [
    "for member in member_list:\n",
    "    print(member)"
   ]
  },
  {
   "cell_type": "code",
   "execution_count": null,
   "id": "af4b82c4",
   "metadata": {},
   "outputs": [],
   "source": [
    "cursor.close() # cursor.close()는 생략 가능\n",
    "conn.close()"
   ]
  },
  {
   "cell_type": "markdown",
   "id": "5dcdb774",
   "metadata": {},
   "source": [
    "## 1.3 SQL 구문에 파라미터 사용하기\n",
    "- qmark(DB에 따라 불가한 경우가 있음)\n",
    "- named(추천)"
   ]
  },
  {
   "cell_type": "code",
   "execution_count": 25,
   "id": "a822c028",
   "metadata": {},
   "outputs": [
    {
     "data": {
      "text/plain": [
       "[('홍길동', 20, 'h@h.com'), ('신길동', 25, 'S@S.COM')]"
      ]
     },
     "execution_count": 25,
     "metadata": {},
     "output_type": "execute_result"
    }
   ],
   "source": [
    "conn = sqlite3.connect('data/ch10_example.db')\n",
    "cursor = conn.cursor()\n",
    "cursor.execute(\"SELECT * FROM MEMBER WHERE NAME IN ('홍길동','신길동')\")\n",
    "cursor.fetchall()"
   ]
  },
  {
   "cell_type": "code",
   "execution_count": 26,
   "id": "52f90a18",
   "metadata": {},
   "outputs": [
    {
     "ename": "KeyboardInterrupt",
     "evalue": "Interrupted by user",
     "output_type": "error",
     "traceback": [
      "\u001b[1;31m---------------------------------------------------------------------------\u001b[0m",
      "\u001b[1;31mKeyboardInterrupt\u001b[0m                         Traceback (most recent call last)",
      "Cell \u001b[1;32mIn[26], line 2\u001b[0m\n\u001b[0;32m      1\u001b[0m \u001b[38;5;66;03m# 파라미터 사용하기 : qmark 방법 이용\u001b[39;00m\n\u001b[1;32m----> 2\u001b[0m name1 \u001b[38;5;241m=\u001b[39m \u001b[38;5;28;43minput\u001b[39;49m\u001b[43m(\u001b[49m\u001b[38;5;124;43m'\u001b[39;49m\u001b[38;5;124;43m검색할 이름1 :\u001b[39;49m\u001b[38;5;124;43m'\u001b[39;49m\u001b[43m)\u001b[49m\n\u001b[0;32m      3\u001b[0m name2 \u001b[38;5;241m=\u001b[39m \u001b[38;5;28minput\u001b[39m(\u001b[38;5;124m'\u001b[39m\u001b[38;5;124m검색할 이름2 :\u001b[39m\u001b[38;5;124m'\u001b[39m)\n\u001b[0;32m      4\u001b[0m names \u001b[38;5;241m=\u001b[39m (name1, name2)\n",
      "File \u001b[1;32m~\\anaconda3\\lib\\site-packages\\ipykernel\\kernelbase.py:1175\u001b[0m, in \u001b[0;36mKernel.raw_input\u001b[1;34m(self, prompt)\u001b[0m\n\u001b[0;32m   1171\u001b[0m \u001b[38;5;28;01mif\u001b[39;00m \u001b[38;5;129;01mnot\u001b[39;00m \u001b[38;5;28mself\u001b[39m\u001b[38;5;241m.\u001b[39m_allow_stdin:\n\u001b[0;32m   1172\u001b[0m     \u001b[38;5;28;01mraise\u001b[39;00m StdinNotImplementedError(\n\u001b[0;32m   1173\u001b[0m         \u001b[38;5;124m\"\u001b[39m\u001b[38;5;124mraw_input was called, but this frontend does not support input requests.\u001b[39m\u001b[38;5;124m\"\u001b[39m\n\u001b[0;32m   1174\u001b[0m     )\n\u001b[1;32m-> 1175\u001b[0m \u001b[38;5;28;01mreturn\u001b[39;00m \u001b[38;5;28;43mself\u001b[39;49m\u001b[38;5;241;43m.\u001b[39;49m\u001b[43m_input_request\u001b[49m\u001b[43m(\u001b[49m\n\u001b[0;32m   1176\u001b[0m \u001b[43m    \u001b[49m\u001b[38;5;28;43mstr\u001b[39;49m\u001b[43m(\u001b[49m\u001b[43mprompt\u001b[49m\u001b[43m)\u001b[49m\u001b[43m,\u001b[49m\n\u001b[0;32m   1177\u001b[0m \u001b[43m    \u001b[49m\u001b[38;5;28;43mself\u001b[39;49m\u001b[38;5;241;43m.\u001b[39;49m\u001b[43m_parent_ident\u001b[49m\u001b[43m[\u001b[49m\u001b[38;5;124;43m\"\u001b[39;49m\u001b[38;5;124;43mshell\u001b[39;49m\u001b[38;5;124;43m\"\u001b[39;49m\u001b[43m]\u001b[49m\u001b[43m,\u001b[49m\n\u001b[0;32m   1178\u001b[0m \u001b[43m    \u001b[49m\u001b[38;5;28;43mself\u001b[39;49m\u001b[38;5;241;43m.\u001b[39;49m\u001b[43mget_parent\u001b[49m\u001b[43m(\u001b[49m\u001b[38;5;124;43m\"\u001b[39;49m\u001b[38;5;124;43mshell\u001b[39;49m\u001b[38;5;124;43m\"\u001b[39;49m\u001b[43m)\u001b[49m\u001b[43m,\u001b[49m\n\u001b[0;32m   1179\u001b[0m \u001b[43m    \u001b[49m\u001b[43mpassword\u001b[49m\u001b[38;5;241;43m=\u001b[39;49m\u001b[38;5;28;43;01mFalse\u001b[39;49;00m\u001b[43m,\u001b[49m\n\u001b[0;32m   1180\u001b[0m \u001b[43m\u001b[49m\u001b[43m)\u001b[49m\n",
      "File \u001b[1;32m~\\anaconda3\\lib\\site-packages\\ipykernel\\kernelbase.py:1217\u001b[0m, in \u001b[0;36mKernel._input_request\u001b[1;34m(self, prompt, ident, parent, password)\u001b[0m\n\u001b[0;32m   1214\u001b[0m             \u001b[38;5;28;01mbreak\u001b[39;00m\n\u001b[0;32m   1215\u001b[0m \u001b[38;5;28;01mexcept\u001b[39;00m \u001b[38;5;167;01mKeyboardInterrupt\u001b[39;00m:\n\u001b[0;32m   1216\u001b[0m     \u001b[38;5;66;03m# re-raise KeyboardInterrupt, to truncate traceback\u001b[39;00m\n\u001b[1;32m-> 1217\u001b[0m     \u001b[38;5;28;01mraise\u001b[39;00m \u001b[38;5;167;01mKeyboardInterrupt\u001b[39;00m(\u001b[38;5;124m\"\u001b[39m\u001b[38;5;124mInterrupted by user\u001b[39m\u001b[38;5;124m\"\u001b[39m) \u001b[38;5;28;01mfrom\u001b[39;00m \u001b[38;5;28mNone\u001b[39m\n\u001b[0;32m   1218\u001b[0m \u001b[38;5;28;01mexcept\u001b[39;00m \u001b[38;5;167;01mException\u001b[39;00m:\n\u001b[0;32m   1219\u001b[0m     \u001b[38;5;28mself\u001b[39m\u001b[38;5;241m.\u001b[39mlog\u001b[38;5;241m.\u001b[39mwarning(\u001b[38;5;124m\"\u001b[39m\u001b[38;5;124mInvalid Message:\u001b[39m\u001b[38;5;124m\"\u001b[39m, exc_info\u001b[38;5;241m=\u001b[39m\u001b[38;5;28;01mTrue\u001b[39;00m)\n",
      "\u001b[1;31mKeyboardInterrupt\u001b[0m: Interrupted by user"
     ]
    }
   ],
   "source": [
    "# 파라미터 사용하기 : qmark 방법 이용\n",
    "name1 = input('검색할 이름1 :')\n",
    "name2 = input('검색할 이름2 :')\n",
    "names = (name1, name2)\n",
    "cursor.execute(\"SELECT * FROM MEMBER WHERE NAME IN (?,?)\", names)\n",
    "cursor.fetchall()"
   ]
  },
  {
   "cell_type": "code",
   "execution_count": null,
   "id": "4cac39fd",
   "metadata": {},
   "outputs": [],
   "source": [
    "# 파라미터 사용하기 : named 방법 이용\n",
    "name1 = input('검색할 이름 > ')\n",
    "cursor.execute(\"SELECT * FROM MEMBER WHERE NAME=:name\", {'name':name})\n",
    "members = cursor.fetchall()\n",
    "if len(members):\n",
    "    print(members)\n",
    "else:\n",
    "    print('해당 이름의 데이터가 없습니다')"
   ]
  },
  {
   "cell_type": "code",
   "execution_count": 27,
   "id": "699dfc30",
   "metadata": {},
   "outputs": [
    {
     "name": "stdout",
     "output_type": "stream",
     "text": [
      "검색할 이름1 :신길동\n",
      "검색할 이름2 :홍길동\n"
     ]
    },
    {
     "data": {
      "text/plain": [
       "[('홍길동', 20, 'h@h.com'), ('신길동', 25, 'S@S.COM')]"
      ]
     },
     "execution_count": 27,
     "metadata": {},
     "output_type": "execute_result"
    }
   ],
   "source": [
    "# 파라미터 사용하기 : named 방법 이용\n",
    "name1 = input('검색할 이름1 :')\n",
    "name2 = input('검색할 이름2 :')\n",
    "names = {'name1':name1,'name2':name2}\n",
    "cursor.execute(\"SELECT * FROM MEMBER WHERE NAME IN (:name1, :name2)\", {'name1':name1,'name2':name2})\n",
    "cursor.execute(\"SELECT * FROM MEMBER WHERE NAME IN (:name1, :name2)\", names)\n",
    "cursor.fetchall()"
   ]
  },
  {
   "cell_type": "code",
   "execution_count": null,
   "id": "a37f1ddf",
   "metadata": {},
   "outputs": [],
   "source": [
    "# MEMBER 테이블에 입력(사용자로부터 이름, 나이, 메일을 입력받아 insert)\n",
    "try:\n",
    "    name = input('입력할 이름은 : ')\n",
    "    age = int(input('입력할 나이는 : '))\n",
    "except ValueError:\n",
    "    print('유효하지 않은 나이를 입력하신 경우 18세로 초기화')\n",
    "    age = 18\n",
    "finally:\n",
    "    email = input('입력할 메일은 :')\n",
    "inputdata = {'name':name, 'age':age, 'email':email} # named 방식\n",
    "inputdata2 = (name, age, email) # qmark 방식\n",
    "# cursor.execute('INSERT INTO MEMBER VALUES (?,?,?)', inputdata2)\n",
    "cursor.excute('INSERT INTO MEMBER VALUES (:name,:age,:email)', inputdata)\n",
    "conn.commit()\n",
    "if cursor.rowcount == 1:\n",
    "    print('저장완료')"
   ]
  },
  {
   "cell_type": "code",
   "execution_count": null,
   "id": "4c5adb2d",
   "metadata": {},
   "outputs": [],
   "source": [
    "try:\n",
    "    name = input('입력할 이름은 : ')\n",
    "    age = int(input('입력할 나이는 : '))\n",
    "except ValueError:\n",
    "    print('유효하지 않은 나이를 입력하신 경우 18세로 초기화')\n",
    "    age = 18\n",
    "finally:\n",
    "    email = input('입력할 메일은 :')\n",
    "\n",
    "newMember = Member(name, age, email)\n",
    "# print(newMember.as_dic())\n",
    "cursor.execute('INSERT INTO MEMBER VALUES (:name, :age, :email)', newMember.as_dic())\n",
    "conn.commit()\n",
    "if cursor.rowcount == 1:\n",
    "    print('입력 성공')"
   ]
  },
  {
   "cell_type": "code",
   "execution_count": null,
   "id": "13fa3d62",
   "metadata": {},
   "outputs": [],
   "source": [
    "# member 테이블에 데이터를 n번 입력하고\n",
    "# 이름에 0을 입력할 때까지 이름, 나이, 메일을 받아 insert\n",
    "# 이름에 0을 입력하면 이때까지 입력한 데이터들을 출력하고 몇명을 입력했는지도 출력\n",
    "\n",
    "member_list=[] # 입력한 member들이 저장될 lsit변수\n",
    "\n",
    "while True:\n",
    "    try:\n",
    "        name = input('입력할 이름은 : ')\n",
    "        if name == '0':\n",
    "            break\n",
    "        age = int(input('입력할 나이는 : '))\n",
    "        email = input('입력할 메일은 :')\n",
    "    except ValueError:\n",
    "        print('유효하지 않은 나이를 입력하신 경우 18세로 초기화')\n",
    "        age = 18\n",
    "        email = input('입력할 메일은 :')\n",
    "       \n",
    "    newMember = Member(name, age, email)\n",
    "    cursor.execute('INSERT INTO MEMBER VALUES (:name, :age, :email)', newMember.as_dic())\n",
    "    member_list.append(newMember)\n",
    "\n",
    "conn.commit()\n",
    "\n",
    "for member in member_list:\n",
    "    print(member)\n",
    "\n",
    "print('{}명 입력'.format(len(member_list)))"
   ]
  },
  {
   "cell_type": "code",
   "execution_count": null,
   "id": "9d572e90",
   "metadata": {},
   "outputs": [],
   "source": [
    "cursor.execute('SELECT * FROM MEMBER')\n",
    "cursor.fetchall()"
   ]
  },
  {
   "cell_type": "code",
   "execution_count": null,
   "id": "d1275946",
   "metadata": {},
   "outputs": [],
   "source": [
    "cursor.close()\n",
    "conn.close()"
   ]
  },
  {
   "cell_type": "markdown",
   "id": "c85366ac",
   "metadata": {},
   "source": [
    "# 2절. 오라클 데이터 베이스 연결\n",
    "- cx_Oracle"
   ]
  },
  {
   "cell_type": "code",
   "execution_count": null,
   "id": "0e73990c",
   "metadata": {},
   "outputs": [],
   "source": [
    "import cx_Oracle"
   ]
  },
  {
   "cell_type": "code",
   "execution_count": null,
   "id": "1eda32b7",
   "metadata": {},
   "outputs": [],
   "source": [
    "# conn 얻어오는 방법1\n",
    "oracle_dsn = cx_Oracle.makedsn(host=\"localhost\", port=1521, sid='xe')\n",
    "print(oracle_dsn)\n",
    "conn=cx_Oracle.connect('scott','tiger',dsn=oracle_dsn)\n",
    "conn\n",
    "# 여기서 예외가 날 경우 VC_redist.x64.exe 인스톨"
   ]
  },
  {
   "cell_type": "code",
   "execution_count": null,
   "id": "956e7aba",
   "metadata": {},
   "outputs": [],
   "source": [
    "conn.close()"
   ]
  },
  {
   "cell_type": "code",
   "execution_count": 23,
   "id": "a1ddeda7",
   "metadata": {},
   "outputs": [
    {
     "ename": "NameError",
     "evalue": "name 'cx_Oracle' is not defined",
     "output_type": "error",
     "traceback": [
      "\u001b[1;31m---------------------------------------------------------------------------\u001b[0m",
      "\u001b[1;31mNameError\u001b[0m                                 Traceback (most recent call last)",
      "Cell \u001b[1;32mIn[23], line 2\u001b[0m\n\u001b[0;32m      1\u001b[0m \u001b[38;5;66;03m# conn 얻어오는 방법2\u001b[39;00m\n\u001b[1;32m----> 2\u001b[0m conn \u001b[38;5;241m=\u001b[39m \u001b[43mcx_Oracle\u001b[49m\u001b[38;5;241m.\u001b[39mconnect(\u001b[38;5;124m'\u001b[39m\u001b[38;5;124mscott\u001b[39m\u001b[38;5;124m'\u001b[39m,\u001b[38;5;124m'\u001b[39m\u001b[38;5;124mtiger\u001b[39m\u001b[38;5;124m'\u001b[39m,\u001b[38;5;124m'\u001b[39m\u001b[38;5;124mlocalhost:1521/xe\u001b[39m\u001b[38;5;124m'\u001b[39m)\n\u001b[0;32m      3\u001b[0m conn\n",
      "\u001b[1;31mNameError\u001b[0m: name 'cx_Oracle' is not defined"
     ]
    }
   ],
   "source": [
    "# conn 얻어오는 방법2\n",
    "conn = cx_Oracle.connect('scott','tiger','localhost:1521/xe')\n",
    "conn"
   ]
  },
  {
   "cell_type": "code",
   "execution_count": 24,
   "id": "a7e39641",
   "metadata": {},
   "outputs": [
    {
     "ename": "OperationalError",
     "evalue": "no such table: EMP",
     "output_type": "error",
     "traceback": [
      "\u001b[1;31m---------------------------------------------------------------------------\u001b[0m",
      "\u001b[1;31mOperationalError\u001b[0m                          Traceback (most recent call last)",
      "Cell \u001b[1;32mIn[24], line 4\u001b[0m\n\u001b[0;32m      2\u001b[0m cursor \u001b[38;5;241m=\u001b[39m conn\u001b[38;5;241m.\u001b[39mcursor()\n\u001b[0;32m      3\u001b[0m sql \u001b[38;5;241m=\u001b[39m \u001b[38;5;124m\"\u001b[39m\u001b[38;5;124mSELECT * FROM EMP\u001b[39m\u001b[38;5;124m\"\u001b[39m\n\u001b[1;32m----> 4\u001b[0m \u001b[43mcursor\u001b[49m\u001b[38;5;241;43m.\u001b[39;49m\u001b[43mexecute\u001b[49m\u001b[43m(\u001b[49m\u001b[43msql\u001b[49m\u001b[43m)\u001b[49m\n\u001b[0;32m      5\u001b[0m emp \u001b[38;5;241m=\u001b[39m cursor\u001b[38;5;241m.\u001b[39mfetchall()\n",
      "\u001b[1;31mOperationalError\u001b[0m: no such table: EMP"
     ]
    }
   ],
   "source": [
    "# cursor 객체 생성\n",
    "cursor = conn.cursor()\n",
    "sql = \"SELECT * FROM EMP\"\n",
    "cursor.execute(sql)\n",
    "emp = cursor.fetchall()"
   ]
  },
  {
   "cell_type": "code",
   "execution_count": null,
   "id": "1c504178",
   "metadata": {},
   "outputs": [],
   "source": [
    "for e in emp:\n",
    "    print(e)"
   ]
  },
  {
   "cell_type": "code",
   "execution_count": null,
   "id": "cfa4ba27",
   "metadata": {},
   "outputs": [],
   "source": [
    "import pandas as pd\n",
    "emp_df = pd.DataFrame(emp)\n",
    "emp_df.head()"
   ]
  },
  {
   "cell_type": "code",
   "execution_count": null,
   "id": "7fc2c0dc",
   "metadata": {},
   "outputs": [],
   "source": [
    "# select문 수행한 필드 정보\n",
    "cursor.description"
   ]
  },
  {
   "cell_type": "code",
   "execution_count": null,
   "id": "8ad26ee2",
   "metadata": {},
   "outputs": [],
   "source": [
    "result = []\n",
    "for description in cursor.description:\n",
    "    result.append(description[0])\n",
    "result"
   ]
  },
  {
   "cell_type": "code",
   "execution_count": null,
   "id": "77f779d2",
   "metadata": {},
   "outputs": [],
   "source": [
    "[row[0] for row in cursor.description]"
   ]
  },
  {
   "cell_type": "code",
   "execution_count": null,
   "id": "f1207e60",
   "metadata": {},
   "outputs": [],
   "source": [
    "emp_df.columns"
   ]
  },
  {
   "cell_type": "code",
   "execution_count": null,
   "id": "b37a3794",
   "metadata": {},
   "outputs": [],
   "source": [
    "emp_df.columns = [row[0] for row in cursor.description]\n",
    "emp_df"
   ]
  },
  {
   "cell_type": "code",
   "execution_count": null,
   "id": "6a95f332",
   "metadata": {},
   "outputs": [],
   "source": [
    "# 검색할 이름을 사용자에게 받아 해당 내용을 출력\n",
    "ename = input('검색할 이름은 : ')\n",
    "sql = \"SELECT * FROM EMP WHERE ENAME=UPPER(:name)\"\n",
    "cursor.execute(sql,{'name':ename})\n",
    "emp = cursor.fetchall()\n",
    "if len(emp):\n",
    "    for e in emp:\n",
    "        print(e)\n",
    "else:\n",
    "    print('입력하신 이름의 데이터는 없습니다')"
   ]
  },
  {
   "cell_type": "code",
   "execution_count": null,
   "id": "70fd497e",
   "metadata": {},
   "outputs": [],
   "source": [
    "fieldnames = [description[0] for description in cursor.description]\n",
    "print(fieldnames)\n",
    "print(e)"
   ]
  },
  {
   "cell_type": "code",
   "execution_count": null,
   "id": "2d9a7402",
   "metadata": {},
   "outputs": [],
   "source": [
    "for idx in range(len(e)):\n",
    "    print(\"{}:{}\".format(fieldnames[idx], e[idx] if e[idx] is not None else ''))"
   ]
  },
  {
   "cell_type": "code",
   "execution_count": null,
   "id": "b22f2ceb",
   "metadata": {},
   "outputs": [],
   "source": [
    "list(zip(fieldnames, e))"
   ]
  },
  {
   "cell_type": "code",
   "execution_count": null,
   "id": "c8047b76",
   "metadata": {},
   "outputs": [],
   "source": [
    "for fieldname, data in zip(fieldnames, e):\n",
    "    print(\"{}:{}\".format(fieldname, data if data is not None else '-'))"
   ]
  },
  {
   "cell_type": "code",
   "execution_count": null,
   "id": "58ca454d",
   "metadata": {},
   "outputs": [],
   "source": [
    "cursor.close()\n",
    "conn.close()"
   ]
  },
  {
   "cell_type": "markdown",
   "id": "851d9013",
   "metadata": {},
   "source": [
    "## 3. 연습문제"
   ]
  },
  {
   "cell_type": "code",
   "execution_count": 12,
   "id": "6595d976",
   "metadata": {},
   "outputs": [
    {
     "name": "stdout",
     "output_type": "stream",
     "text": [
      "1.입력 | 2.전체 조회 | 3.이름 찾기 | 4.메일 삭제 | 5.CSV 내보내기 | 0.종료\n",
      "메뉴 선택: 0\n"
     ]
    }
   ],
   "source": [
    "def main():\n",
    "    while True:\n",
    "        print(\"1.입력\", \"2.전체 조회\", \"3.이름 찾기\", \"4.메일 삭제\", \"5.CSV 내보내기\", \"0.종료\",sep=\" | \")\n",
    "        try:\n",
    "            menu = int(input(\"메뉴 선택: \"))\n",
    "        except:\n",
    "            print(\"유효하지 않은 값을 입력하였습니다. 다시 선택해주세요.\")\n",
    "        if menu==1:\n",
    "            insert_member()\n",
    "        elif menu==2:\n",
    "            select_all()\n",
    "        elif menu==3:\n",
    "            select_name()\n",
    "        elif menu==4:\n",
    "            delete_email()\n",
    "        elif menu==5:\n",
    "            save_csv()\n",
    "        elif menu==0:\n",
    "            close_sql()\n",
    "            break\n",
    "if __name__=='__main__':\n",
    "    import sqlite3\n",
    "    global conn\n",
    "    conn = sqlite3.connect('data/data.db')\n",
    "    main()"
   ]
  },
  {
   "cell_type": "code",
   "execution_count": 2,
   "id": "31bce680",
   "metadata": {},
   "outputs": [],
   "source": [
    "class Member:\n",
    "    def __init__(self, name, phone, email, age, grade, etc):\n",
    "        self.name = name\n",
    "        self.phone = phone\n",
    "        self.email = email\n",
    "        self.age = age\n",
    "        self.grade = grade\n",
    "        self.etc = etc\n",
    "        \n",
    "    def __str__(self):\n",
    "        return 'name:{}, phone:{}, email:{}, age:{}, grade:{}, etc:{}'.format(self.name,self.phone,self.email,self.age,self.grade,self.etc)\n",
    "        \n",
    "    def as_dict(self):\n",
    "        return {'name':self.name, 'phone':self.phone, 'email':self.email,'age':self.age,'grade':self.grade,'etc':self.etc}"
   ]
  },
  {
   "cell_type": "code",
   "execution_count": 3,
   "id": "ed3a3206",
   "metadata": {},
   "outputs": [],
   "source": [
    "def to_member(*row): # 튜플 데이터를 매개변수로 받아 Member형 객체로 반환\n",
    "    return Member(row[0],row[1],row[2],row[3],row[4],row[5])"
   ]
  },
  {
   "cell_type": "code",
   "execution_count": 4,
   "id": "a4e1c9e0",
   "metadata": {},
   "outputs": [],
   "source": [
    "# 1.입력\n",
    "def insert_member():\n",
    "    cursor = conn.cursor()\n",
    "    sql = \"INSERT INTO MEMBER VALUES (:name, :phone, :email, :age, :grade, :etc)\"\n",
    "    name = input(\"이름>\")\n",
    "    phone = input(\"전화번호>\")\n",
    "    email = input(\"이메일>\")\n",
    "    age = int(input(\"나이>\"))\n",
    "    grade = int(input(\"등급>\"))\n",
    "    etc = input(\"기타>\")\n",
    "    new_member=Member(name,phone,email,age,grade,etc)\n",
    "    cursor.execute(sql,new_member.as_dict())"
   ]
  },
  {
   "cell_type": "code",
   "execution_count": 6,
   "id": "13504b5f",
   "metadata": {},
   "outputs": [],
   "source": [
    "# 2. 전체 출력\n",
    "def select_all():\n",
    "    cursor = conn.cursor()\n",
    "    sql = \"SELECT * FROM MEMBER\"\n",
    "    cursor.execute(sql)\n",
    "    results = cursor.fetchall()\n",
    "    member_list=[]\n",
    "    \n",
    "    for result in results:\n",
    "        member_list.append(Member(*result))\n",
    "        \n",
    "    if len(member_list):\n",
    "        for member in member_list:\n",
    "            print(member)\n",
    "    else:\n",
    "        print(\"데이터가 없습니다\")"
   ]
  },
  {
   "cell_type": "code",
   "execution_count": 7,
   "id": "b1fbb53e",
   "metadata": {},
   "outputs": [],
   "source": [
    "# 3. 이름 검색\n",
    "def select_name():\n",
    "    cursor = conn.cursor()\n",
    "    sql = \"SELECT * FROM MEMBER WHERE NAME = ?\"\n",
    "    name=input(\"이름>\")\n",
    "    cursor.execute(sql,(name,))\n",
    "    \n",
    "    results = cursor.fetchall()\n",
    "    member_list=[]\n",
    "    \n",
    "    for result in results:\n",
    "        member_list.append(Member(*result))\n",
    "        \n",
    "    if len(member_list):\n",
    "        for member in member_list:\n",
    "            print(member)\n",
    "    else:\n",
    "        print(\"데이터가 없습니다\")"
   ]
  },
  {
   "cell_type": "code",
   "execution_count": 8,
   "id": "7aea68e3",
   "metadata": {},
   "outputs": [],
   "source": [
    "# 4. 메일 삭제\n",
    "def delete_email():\n",
    "    cursor = conn.cursor()\n",
    "    sql = \"DELETE FROM MEMBER WHERE EMAIL = ?\"\n",
    "    email = input(\"메일>\")\n",
    "    cursor.execute(sql,(email,))\n",
    "    print('{}명 삭제'.format(cursor.rowcount))"
   ]
  },
  {
   "cell_type": "code",
   "execution_count": 9,
   "id": "177a0874",
   "metadata": {},
   "outputs": [],
   "source": [
    "# 5. CSV 내보내기\n",
    "def save_csv():\n",
    "    import csv\n",
    "    \n",
    "    cursor = conn.cursor()\n",
    "    sql = \"SELECT * FROM MEMBER\"\n",
    "    cursor.execute(sql)\n",
    "    results = cursor.fetchall()\n",
    "    member_list=[]\n",
    "    \n",
    "    for result in results:\n",
    "        member_list.append(Member(*result).as_dict())\n",
    "    \n",
    "    fieldnames = [description[0] for description in cursor.description]\n",
    "    \n",
    "    with open('data/data.csv','w',encoding='utf-8',newline='') as f:\n",
    "        dict_writer=csv.DictWriter(f,fieldnames)\n",
    "        dict_writer.writerows(member_list)\n",
    "    \n",
    "    print(\"저장완료\")"
   ]
  },
  {
   "cell_type": "code",
   "execution_count": 11,
   "id": "e6176488",
   "metadata": {},
   "outputs": [],
   "source": [
    "def close_sql():\n",
    "    conn.commit()\n",
    "    conn.close()"
   ]
  },
  {
   "cell_type": "code",
   "execution_count": null,
   "id": "0d748d1f",
   "metadata": {},
   "outputs": [],
   "source": [
    "#1 4\n",
    "#2 2"
   ]
  }
 ],
 "metadata": {
  "kernelspec": {
   "display_name": "Python 3 (ipykernel)",
   "language": "python",
   "name": "python3"
  },
  "language_info": {
   "codemirror_mode": {
    "name": "ipython",
    "version": 3
   },
   "file_extension": ".py",
   "mimetype": "text/x-python",
   "name": "python",
   "nbconvert_exporter": "python",
   "pygments_lexer": "ipython3",
   "version": "3.10.9"
  },
  "toc": {
   "base_numbering": 1,
   "nav_menu": {},
   "number_sections": true,
   "sideBar": true,
   "skip_h1_title": false,
   "title_cell": "Table of Contents",
   "title_sidebar": "Contents",
   "toc_cell": false,
   "toc_position": {},
   "toc_section_display": true,
   "toc_window_display": false
  }
 },
 "nbformat": 4,
 "nbformat_minor": 5
}
