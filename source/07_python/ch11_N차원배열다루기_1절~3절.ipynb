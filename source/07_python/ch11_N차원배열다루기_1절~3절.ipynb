{
 "cells": [
  {
   "cell_type": "markdown",
   "id": "2e3fef10",
   "metadata": {},
   "source": [
    "<b><font color=\"red\" size=\"6\">ch11. N차원 배열 다루기</font></b>\n",
    "- [numpy](https://numpy.org/)\n",
    "- [numpy docs](https://numpy.org/doc/stable/)\n",
    "- N차원 배열 객체\n",
    "- 2차원 배열은 행렬개념으로 이해\n",
    "- numpy 패키지를 이용(C언어로 구현된 고성능 수치계산 패키지)"
   ]
  },
  {
   "cell_type": "markdown",
   "id": "fd1c3b1d",
   "metadata": {},
   "source": [
    "# 1절. 넘파이 패키지"
   ]
  },
  {
   "cell_type": "code",
   "execution_count": null,
   "id": "d512dfbf",
   "metadata": {},
   "outputs": [],
   "source": [
    "import numpy as np\n",
    "np.__version__"
   ]
  },
  {
   "cell_type": "code",
   "execution_count": null,
   "id": "2bffaade",
   "metadata": {},
   "outputs": [],
   "source": [
    "a = np.arange(15) # 0부터 15앞까지 1씩 증가하는 1차원 배열\n",
    "a"
   ]
  },
  {
   "cell_type": "code",
   "execution_count": null,
   "id": "11ae3613",
   "metadata": {},
   "outputs": [],
   "source": [
    "from numpy import arange\n",
    "a = arange(15).reshape(3,5) # 3행5열짜리 2차원 배열\n",
    "a"
   ]
  },
  {
   "cell_type": "code",
   "execution_count": null,
   "id": "3c6aa015",
   "metadata": {},
   "outputs": [],
   "source": [
    "type(a) # a배열 변수의 타입"
   ]
  },
  {
   "cell_type": "code",
   "execution_count": null,
   "id": "04fd3537",
   "metadata": {},
   "outputs": [],
   "source": [
    "a.dtype # a배열변수의 요소들의 type"
   ]
  },
  {
   "cell_type": "code",
   "execution_count": null,
   "id": "a46a0134",
   "metadata": {},
   "outputs": [],
   "source": [
    "a.dtype.name"
   ]
  },
  {
   "cell_type": "code",
   "execution_count": null,
   "id": "de8940f4",
   "metadata": {},
   "outputs": [],
   "source": [
    "a.itemsize # 한 요소의 bytesize (int32의 경우 : 4byte)"
   ]
  },
  {
   "cell_type": "code",
   "execution_count": null,
   "id": "629aab43",
   "metadata": {},
   "outputs": [],
   "source": [
    "a.ndim # 축수(차원수)"
   ]
  },
  {
   "cell_type": "code",
   "execution_count": null,
   "id": "a4881eec",
   "metadata": {},
   "outputs": [],
   "source": [
    "a.size # 배열 요소의 갯수"
   ]
  },
  {
   "cell_type": "code",
   "execution_count": null,
   "id": "9be941b0",
   "metadata": {},
   "outputs": [],
   "source": [
    "a.shape # 배열의 구조(3행5열)"
   ]
  },
  {
   "cell_type": "code",
   "execution_count": null,
   "id": "2bf76af6",
   "metadata": {},
   "outputs": [],
   "source": [
    "print('shape 조정 전 a:\\n', a)\n",
    "a.shape = (5,3)\n",
    "print('shape 수정 후 a :\\n', a)"
   ]
  },
  {
   "cell_type": "code",
   "execution_count": null,
   "id": "40abebb0",
   "metadata": {},
   "outputs": [],
   "source": [
    "# 배열 요소의 타입을 수정\n",
    "a = np.arange(12).reshape(3,4)\n",
    "a"
   ]
  },
  {
   "cell_type": "code",
   "execution_count": null,
   "id": "7bcfc9fd",
   "metadata": {},
   "outputs": [],
   "source": [
    "a.size # 요소의 갯수"
   ]
  },
  {
   "cell_type": "code",
   "execution_count": null,
   "id": "5e41e675",
   "metadata": {},
   "outputs": [],
   "source": [
    "a.dtype"
   ]
  },
  {
   "cell_type": "code",
   "execution_count": null,
   "id": "65168af8",
   "metadata": {},
   "outputs": [],
   "source": [
    "a.itemsize"
   ]
  },
  {
   "cell_type": "code",
   "execution_count": null,
   "id": "03c9be96",
   "metadata": {},
   "outputs": [],
   "source": [
    "a.dtype = np.int64\n",
    "a.dtype"
   ]
  },
  {
   "cell_type": "code",
   "execution_count": null,
   "id": "4ea7ec02",
   "metadata": {},
   "outputs": [],
   "source": [
    "a.itemsize # 요소의 byte 사이즈"
   ]
  },
  {
   "cell_type": "code",
   "execution_count": null,
   "id": "594451da",
   "metadata": {},
   "outputs": [],
   "source": [
    "a.size"
   ]
  },
  {
   "cell_type": "code",
   "execution_count": null,
   "id": "fe79cecf",
   "metadata": {},
   "outputs": [],
   "source": [
    "a"
   ]
  },
  {
   "cell_type": "code",
   "execution_count": null,
   "id": "dc552a65",
   "metadata": {},
   "outputs": [],
   "source": [
    "a.ravel() # flatten 됨()"
   ]
  },
  {
   "cell_type": "markdown",
   "id": "d702b674",
   "metadata": {},
   "source": [
    "# 2절. 넘파이 배열\n",
    "- array()함수를 이용한 다른 파이썬 구조(list, tuple)를 배열로 변환\n",
    "- 기타 함수들 : arange, ones, zeros, empty\n",
    "- 랜덤값을 갖는 함수들 ....\n",
    "- [넘파이 doc](https://numpy.org/doc/stable/)\n",
    "- [넘파이 함수들](https://numpy.org/doc/stable/reference/index.html#reference)"
   ]
  },
  {
   "cell_type": "markdown",
   "id": "10d64235",
   "metadata": {},
   "source": [
    "## 2.1 array()함수로 넘파이 배열 만들기\n",
    "- array(obj, dtype=np.xx, copy=T/F)"
   ]
  },
  {
   "cell_type": "code",
   "execution_count": null,
   "id": "f534410c",
   "metadata": {},
   "outputs": [],
   "source": [
    "a = np.array([2, 4, 6], dtype=np.int16) # 정수의 기본타입 int32\n",
    "a"
   ]
  },
  {
   "cell_type": "code",
   "execution_count": null,
   "id": "3d90e1b0",
   "metadata": {},
   "outputs": [],
   "source": [
    "a[0], a[1], a[2]"
   ]
  },
  {
   "cell_type": "code",
   "execution_count": null,
   "id": "df24fb2f",
   "metadata": {},
   "outputs": [],
   "source": [
    "for i in a:\n",
    "    print(i, end='\\t')"
   ]
  },
  {
   "cell_type": "code",
   "execution_count": null,
   "id": "f6140099",
   "metadata": {},
   "outputs": [],
   "source": [
    "a.dtype"
   ]
  },
  {
   "cell_type": "code",
   "execution_count": null,
   "id": "84e23b10",
   "metadata": {},
   "outputs": [],
   "source": [
    "b = np.array([[1.5, 2.3],  # 실수의 기본 타입은 float64\n",
    "              [4,5]])      # 동일 자료형으로 배열 생성 : 정수>실수>문자\n",
    "b"
   ]
  },
  {
   "cell_type": "code",
   "execution_count": null,
   "id": "fe903a52",
   "metadata": {},
   "outputs": [],
   "source": [
    "b[0][0], b[0,0] # 2차원 [axis0행, axis1열]"
   ]
  },
  {
   "cell_type": "code",
   "execution_count": null,
   "id": "2dc3f086",
   "metadata": {},
   "outputs": [],
   "source": [
    "b = np.array([(1.5, 2.3),  # 실수의 기본 타입은 float64\n",
    "              (4,5)])      # 동일 자료형으로 배열 생성 : 정수>실수>문자\n",
    "b"
   ]
  },
  {
   "cell_type": "code",
   "execution_count": null,
   "id": "1d0ba663",
   "metadata": {},
   "outputs": [],
   "source": [
    "a = np.array([[1.5, 2.3], [4,5]]).reshape(1,4) # 2행2열짜리 배열을 1행 4열로 shape 변환\n",
    "a"
   ]
  },
  {
   "cell_type": "code",
   "execution_count": null,
   "id": "f0595a53",
   "metadata": {},
   "outputs": [],
   "source": [
    "a.dtype"
   ]
  },
  {
   "cell_type": "code",
   "execution_count": null,
   "id": "c6798c49",
   "metadata": {},
   "outputs": [],
   "source": [
    "a = np.array([1.5, 2.3, 4,5], dtype=np.float32).reshape(2,2)\n",
    "a"
   ]
  },
  {
   "cell_type": "code",
   "execution_count": null,
   "id": "a5883ca3",
   "metadata": {},
   "outputs": [],
   "source": [
    "a.itemsize # 한 요소의 byte 수"
   ]
  },
  {
   "cell_type": "code",
   "execution_count": null,
   "id": "8991e8c3",
   "metadata": {},
   "outputs": [],
   "source": [
    "a.dtype"
   ]
  },
  {
   "cell_type": "code",
   "execution_count": null,
   "id": "56826664",
   "metadata": {},
   "outputs": [],
   "source": [
    "# a.dtype = np.float64 안 됨\n",
    "a = a.astype(np.float64) # 배열 요소의 타입을 바꾸는 함수\n",
    "a"
   ]
  },
  {
   "cell_type": "code",
   "execution_count": null,
   "id": "8dd1b8e5",
   "metadata": {},
   "outputs": [],
   "source": [
    "a.dtype"
   ]
  },
  {
   "cell_type": "code",
   "execution_count": null,
   "id": "bda8f695",
   "metadata": {},
   "outputs": [],
   "source": [
    "l = [[1, 2], [3.4, 4.5]]\n",
    "for row in l:\n",
    "    for data in row:\n",
    "        print(data, end='\\t')\n",
    "    print()"
   ]
  },
  {
   "cell_type": "code",
   "execution_count": null,
   "id": "d7a53acf",
   "metadata": {},
   "outputs": [],
   "source": [
    "for i, row in enumerate(l):\n",
    "    for j, data in enumerate(row):\n",
    "        print(\"{}행{}열 : {}\".format(i, j, data), end='\\t')\n",
    "    print()"
   ]
  },
  {
   "cell_type": "code",
   "execution_count": null,
   "id": "cdee35ae",
   "metadata": {},
   "outputs": [],
   "source": [
    "print(l[0][0]) # 리스트의 인덱싱\n",
    "print(l[0:2][0]) # 슬라이싱"
   ]
  },
  {
   "cell_type": "code",
   "execution_count": null,
   "id": "8a323bc3",
   "metadata": {},
   "outputs": [],
   "source": [
    "# 2차원 배열\n",
    "b = np.array([[1, 2, 3, 4, 5], [6, 7, 8, 9, 10]], dtype=np.int16)\n",
    "b"
   ]
  },
  {
   "cell_type": "code",
   "execution_count": null,
   "id": "2b473519",
   "metadata": {},
   "outputs": [],
   "source": [
    "for row in b:\n",
    "    for data in row:\n",
    "        print(data, end='\\t')\n",
    "    print()"
   ]
  },
  {
   "cell_type": "code",
   "execution_count": null,
   "id": "549d8cc8",
   "metadata": {},
   "outputs": [],
   "source": [
    "for i, row in enumerate(b):\n",
    "    for j, data in enumerate(row):\n",
    "        print(\"{}행{}열:{}\".format(i, j, data), end='\\t')\n",
    "    print()"
   ]
  },
  {
   "cell_type": "code",
   "execution_count": null,
   "id": "1af99809",
   "metadata": {},
   "outputs": [],
   "source": [
    "print(b[0,0]) # 인덱싱\n",
    "print(b[0:2, 1:3]) # 슬라이싱(행과 열을 모두 슬라싱하면 2차원 배열)"
   ]
  },
  {
   "cell_type": "code",
   "execution_count": null,
   "id": "88547d22",
   "metadata": {},
   "outputs": [],
   "source": [
    "print(b[0, 1:3]) # 0행을 슬라이싱하면 1차원 배열"
   ]
  },
  {
   "cell_type": "code",
   "execution_count": null,
   "id": "e6dc9b65",
   "metadata": {},
   "outputs": [],
   "source": [
    "print(b[:,-1]) # 모든 행의 마지막 열만 추출"
   ]
  },
  {
   "cell_type": "code",
   "execution_count": null,
   "id": "17f6a655",
   "metadata": {},
   "outputs": [],
   "source": [
    "print(b[:, -2:]) # 모든 행의 마지막 2열을 추출"
   ]
  },
  {
   "cell_type": "code",
   "execution_count": null,
   "id": "a4e95741",
   "metadata": {},
   "outputs": [],
   "source": [
    "# 스칼라 변수\n",
    "a=10\n",
    "b=a\n",
    "print('a={}, b={}'.format(a,b))\n",
    "b=-1\n",
    "print('a={}, b={}'.format(a, b))"
   ]
  },
  {
   "cell_type": "code",
   "execution_count": null,
   "id": "50a93457",
   "metadata": {},
   "outputs": [],
   "source": [
    "# numpy 배열\n",
    "c= np.array([[1,2,],[3,4,]])\n",
    "d = np.array(c, copy=False) # d = c 동일 : 얕은 복사\n",
    "\n",
    "print('c=', c, sep='\\n')\n",
    "print('d=', d, sep='\\n')\n",
    "print('두변수의 주소 :',id(c),id(d))\n",
    "\n",
    "d[0,0] = 9\n",
    "print('c=', c, sep='\\n')\n",
    "print('d=', d, sep='\\n')\n",
    "print('c.dtype=',c.dtype, 'd.dtype=',d.dtype)"
   ]
  },
  {
   "cell_type": "code",
   "execution_count": null,
   "id": "981f6c6f",
   "metadata": {},
   "outputs": [],
   "source": [
    "# numpy 배열\n",
    "c= np.array([[1,2,],[3,4,]])\n",
    "d = np.array(c, copy=True) # d = c.copy() 동일 : 깊은 복사\n",
    "\n",
    "print('c=', c, sep='\\n')\n",
    "print('d=', d, sep='\\n')\n",
    "print('두변수의 주소 :',id(c),id(d))\n",
    "\n",
    "d[0,0] = 9\n",
    "print('c=', c, sep='\\n')\n",
    "print('d=', d, sep='\\n')\n",
    "print('c.dtype=',c.dtype, 'd.dtype=',d.dtype)"
   ]
  },
  {
   "cell_type": "code",
   "execution_count": null,
   "id": "3777b3b3",
   "metadata": {},
   "outputs": [],
   "source": [
    "# copy=False 넣었지만 깊은 복사가 되는 경우\n",
    "c = np.array([[1,2,],[3,4,]], dtype=np.int32) # 기본타입이 int32\n",
    "d = np.array(c, copy=False, dtype=np.int16) # dtype이 바뀌면 자동 깊은 복사\n",
    "d[0,0] = 9\n",
    "print('두변수의 주소 :', id(c), id(d))\n",
    "print('두변수의 dtype :', c.dtype, d.dtype)\n",
    "print('c = ', c, sep='\\n')\n",
    "print('d = ', d, sep='\\n')"
   ]
  },
  {
   "cell_type": "markdown",
   "id": "3e4c72d1",
   "metadata": {},
   "source": [
    "## 2.2 기본값이 있는 배열 만들기\n",
    "```\n",
    "- np.zeros(tup) : 요소들이 다 0\n",
    "- np.ones(tup) : 요소들이 다 1\n",
    "- np.full(tup, 기본값) : 요소들이 다 두번째 매개변수인 기본값\n",
    "- np.empty(tup) : 초기 내용은 임의값인 배열(메모리 상태에 따라 달라짐)\n",
    "※ 위 함수를 이용해서 생성된 배열은 기본 dtype이 float64. dtype 속성을 따로 지정할 수 있음\n",
    "```"
   ]
  },
  {
   "cell_type": "code",
   "execution_count": null,
   "id": "9aa9e80b",
   "metadata": {},
   "outputs": [],
   "source": [
    "np.zeros( (3,5))# 3행5열짜리 2차원 float64 배열(요소들은 다 0)"
   ]
  },
  {
   "cell_type": "code",
   "execution_count": null,
   "id": "18ef799e",
   "metadata": {},
   "outputs": [],
   "source": [
    "x = np. zeros((2,5),dtype=np.int16)\n",
    "print(x)\n",
    "print(x.dtype)\n",
    "print(x.itemsize) # 한 요소의 byte 사이즈"
   ]
  },
  {
   "cell_type": "code",
   "execution_count": null,
   "id": "7862fbb3",
   "metadata": {},
   "outputs": [],
   "source": [
    "np.ones((2,5))"
   ]
  },
  {
   "cell_type": "code",
   "execution_count": null,
   "id": "6d87b0c1",
   "metadata": {},
   "outputs": [],
   "source": [
    "np.ones((2,5),dtype=np.complex64)"
   ]
  },
  {
   "cell_type": "code",
   "execution_count": null,
   "id": "75c6bab6",
   "metadata": {},
   "outputs": [],
   "source": [
    "np.full( (2,5), -1.2)"
   ]
  },
  {
   "cell_type": "code",
   "execution_count": null,
   "id": "b48a5456",
   "metadata": {},
   "outputs": [],
   "source": [
    "np.empty( (3,2)) # 초기값이 메모리 상태에 따라 임의의 값"
   ]
  },
  {
   "cell_type": "markdown",
   "id": "d43c49b1",
   "metadata": {},
   "source": [
    "## 2.3 랜덤값을 갖는 배열 만들기\n",
    "- np.random.random(tup): 0부터 1미만의 균등분포를 갖는 랜덤값\n",
    "- np.random.uniform(low=0, high= 1.0, size=tup) : low부터 high미만까지 균등분포를 갖는 랜덤값\n",
    "- np.random.normal(loc=0.0, scale=1.0, size=tup) : 평균 loc과 표준편차 scale을 갖는 정규분포를 갖는 랜덤값\n",
    "\n",
    "- np.random.rand(n) : 균등분포의 1차원 난수 배열발생 (난수 n개)\n",
    "- np.random.randn(n) : 표준정규분포의 1차원 난수 배열 발생 (난수 n개)\n",
    "\n",
    "- np.random.randint(n) : 0부터 n미만의 정수 난수 1개 발생"
   ]
  },
  {
   "cell_type": "code",
   "execution_count": null,
   "id": "18917c4e",
   "metadata": {},
   "outputs": [],
   "source": [
    "# rand()가 균등분포에서 난수 발생 확인\n",
    "import matplotlib.pyplot as plt\n",
    "x = np.random.rand(100000)\n",
    "plt.figure(figsize=(5,2)) # 그래프 크기 figsize=(가로, 세로)\n",
    "plt.hist(x)\n",
    "plt.show()"
   ]
  },
  {
   "cell_type": "code",
   "execution_count": null,
   "id": "dba6e1f6",
   "metadata": {},
   "outputs": [],
   "source": [
    "# randn() : 표준정규분포에서 난수 발생\n",
    "x = np.random.randn(100000)\n",
    "plt.figure(figsize=(5,2)) # 그래프 사이즈 조정\n",
    "plt.hist(x, bins=100)\n",
    "plt.show()"
   ]
  },
  {
   "cell_type": "code",
   "execution_count": null,
   "id": "ef785de2",
   "metadata": {},
   "outputs": [],
   "source": [
    "# 2차원 난수 배열\n",
    "np.random.random( (2,5) ) # 2행 5열짜리 난수 (0이상 1미만의 균등분포 실수 난수) 배열"
   ]
  },
  {
   "cell_type": "code",
   "execution_count": null,
   "id": "31333a14",
   "metadata": {},
   "outputs": [],
   "source": [
    "np.random.uniform(-2, 10, (2,5)) # 2행 5열짜리 난수(-2~10미만의 균등분포 실수 난수) 배열"
   ]
  },
  {
   "cell_type": "code",
   "execution_count": null,
   "id": "409ba180",
   "metadata": {},
   "outputs": [],
   "source": [
    "np.random.normal (-2, 2,(2,4)) # 2행 4열짜리 평균 -2, 표준편차2인 정규분포 난수 발생"
   ]
  },
  {
   "cell_type": "code",
   "execution_count": null,
   "id": "f8a59ba4",
   "metadata": {},
   "outputs": [],
   "source": [
    "# 정수 난수 1개 발생\n",
    "np.random.randint(45) # 0~44사이의 정수 난수 1개 발생(균등분포)"
   ]
  },
  {
   "cell_type": "markdown",
   "id": "156c0d93",
   "metadata": {},
   "source": [
    "## 2.4 연속된 값을 갖는 배열 만들기\n",
    "- np.arange(from, to, by, dtype) : from부터 to 앞까지 by씩 건너뛴 값을 1차원 배열로 생성\n",
    "- np.linspace(from, to, num) : from부터 to까지 num개 숫자들을 1차원 배열로 생성"
   ]
  },
  {
   "cell_type": "code",
   "execution_count": null,
   "id": "54d9931e",
   "metadata": {},
   "outputs": [],
   "source": [
    "np.arange(10,30,5,dtype=np.float64)"
   ]
  },
  {
   "cell_type": "code",
   "execution_count": null,
   "id": "466cf0a2",
   "metadata": {},
   "outputs": [],
   "source": [
    "np.arange(0, 2.1, 0.3).reshape(4,2)"
   ]
  },
  {
   "cell_type": "code",
   "execution_count": null,
   "id": "12c0b2c7",
   "metadata": {},
   "outputs": [],
   "source": [
    "np.linspace(0,2,20)"
   ]
  },
  {
   "cell_type": "code",
   "execution_count": null,
   "id": "f66e4d7d",
   "metadata": {},
   "outputs": [],
   "source": [
    "np.linspace(0,2,20).reshape(4,5)"
   ]
  },
  {
   "cell_type": "code",
   "execution_count": null,
   "id": "405850cd",
   "metadata": {},
   "outputs": [],
   "source": [
    "# linspace : 많은 수의 점들을 생성할 때 유용\n",
    "from numpy import linspace, pi\n",
    "x = linspace(0, 2*np.pi, 100)\n",
    "f = np.sin(x)"
   ]
  },
  {
   "cell_type": "code",
   "execution_count": null,
   "id": "8b56e494",
   "metadata": {},
   "outputs": [],
   "source": [
    "import matplotlib.pyplot as plt\n",
    "plt.figure(figsize=(5,2))\n",
    "plt.plot(x, f)\n",
    "plt.show()"
   ]
  },
  {
   "cell_type": "markdown",
   "id": "8ce13f57",
   "metadata": {},
   "source": [
    "## 2.5 배열의 차원 변경하기\n",
    "```\n",
    "- reshape(행수, 열수) : -1이 올 수\n",
    "- resize( (행수, 열수) ) -1이 불가\n",
    "- T : 전치행렬로 변환\n",
    "- transpose() : 전치행렬로 변환\n",
    "\n",
    "※ 실행결과가 출력되면 배열이 수정되지 않고, 실행결과가 없으면 배열이 수정됨\n",
    "```"
   ]
  },
  {
   "cell_type": "code",
   "execution_count": 3,
   "id": "7361536e",
   "metadata": {},
   "outputs": [
    {
     "data": {
      "text/plain": [
       "array([[0.2871192 , 0.66264757, 0.90810107],\n",
       "       [0.51678429, 0.71154179, 0.83424295]])"
      ]
     },
     "execution_count": 3,
     "metadata": {},
     "output_type": "execute_result"
    }
   ],
   "source": [
    "t = np.random.random((2,3))\n",
    "t"
   ]
  },
  {
   "cell_type": "code",
   "execution_count": 4,
   "id": "f2234ad7",
   "metadata": {},
   "outputs": [
    {
     "data": {
      "text/plain": [
       "array([[2., 6., 9.],\n",
       "       [5., 7., 8.]])"
      ]
     },
     "execution_count": 4,
     "metadata": {},
     "output_type": "execute_result"
    }
   ],
   "source": [
    "a = np.floor(t*10)\n",
    "a"
   ]
  },
  {
   "cell_type": "code",
   "execution_count": 5,
   "id": "a50fd7cb",
   "metadata": {},
   "outputs": [
    {
     "data": {
      "text/plain": [
       "array([[2, 6, 9],\n",
       "       [5, 7, 8]], dtype=int16)"
      ]
     },
     "execution_count": 5,
     "metadata": {},
     "output_type": "execute_result"
    }
   ],
   "source": [
    "a = a.astype(np.int16)\n",
    "a # 2행 3열 2차원 배열"
   ]
  },
  {
   "cell_type": "code",
   "execution_count": 6,
   "id": "aae5ef9f",
   "metadata": {},
   "outputs": [
    {
     "data": {
      "text/plain": [
       "array([[2, 6],\n",
       "       [9, 5],\n",
       "       [7, 8]], dtype=int16)"
      ]
     },
     "execution_count": 6,
     "metadata": {},
     "output_type": "execute_result"
    }
   ],
   "source": [
    "a = a.reshape(3, 2) # 3행2열로 차원 변경\n",
    "a"
   ]
  },
  {
   "cell_type": "code",
   "execution_count": 7,
   "id": "b58bb408",
   "metadata": {},
   "outputs": [
    {
     "data": {
      "text/plain": [
       "array([[2, 6, 9],\n",
       "       [5, 7, 8]], dtype=int16)"
      ]
     },
     "execution_count": 7,
     "metadata": {},
     "output_type": "execute_result"
    }
   ],
   "source": [
    "a.reshape(2, -1) # -1이 주어지면 해당 차원의 크기가 자동 계산"
   ]
  },
  {
   "cell_type": "code",
   "execution_count": 8,
   "id": "7678a84b",
   "metadata": {},
   "outputs": [
    {
     "data": {
      "text/plain": [
       "array([[2, 6, 9],\n",
       "       [5, 7, 8]], dtype=int16)"
      ]
     },
     "execution_count": 8,
     "metadata": {},
     "output_type": "execute_result"
    }
   ],
   "source": [
    "a.reshape(-1,3) # -1이 주어지면 해당 차원의 크기가 자동 계산"
   ]
  },
  {
   "cell_type": "code",
   "execution_count": 9,
   "id": "42ec8857",
   "metadata": {},
   "outputs": [
    {
     "data": {
      "text/plain": [
       "array([[2],\n",
       "       [6],\n",
       "       [9],\n",
       "       [5],\n",
       "       [7],\n",
       "       [8]], dtype=int16)"
      ]
     },
     "execution_count": 9,
     "metadata": {},
     "output_type": "execute_result"
    }
   ],
   "source": [
    "a.reshape(6,-1)"
   ]
  },
  {
   "cell_type": "code",
   "execution_count": 10,
   "id": "3e0bb106",
   "metadata": {},
   "outputs": [
    {
     "data": {
      "text/plain": [
       "array([[2, 6, 9],\n",
       "       [5, 7, 8]], dtype=int16)"
      ]
     },
     "execution_count": 10,
     "metadata": {},
     "output_type": "execute_result"
    }
   ],
   "source": [
    "a.resize( (2,3))\n",
    "a"
   ]
  },
  {
   "cell_type": "code",
   "execution_count": 11,
   "id": "7facedec",
   "metadata": {},
   "outputs": [
    {
     "ename": "ValueError",
     "evalue": "negative dimensions not allowed",
     "output_type": "error",
     "traceback": [
      "\u001b[1;31m---------------------------------------------------------------------------\u001b[0m",
      "\u001b[1;31mValueError\u001b[0m                                Traceback (most recent call last)",
      "Cell \u001b[1;32mIn[11], line 1\u001b[0m\n\u001b[1;32m----> 1\u001b[0m \u001b[43ma\u001b[49m\u001b[38;5;241;43m.\u001b[39;49m\u001b[43mresize\u001b[49m\u001b[43m(\u001b[49m\u001b[38;5;241;43m-\u001b[39;49m\u001b[38;5;241;43m1\u001b[39;49m\u001b[43m,\u001b[49m\u001b[38;5;241;43m6\u001b[39;49m\u001b[43m)\u001b[49m\n",
      "\u001b[1;31mValueError\u001b[0m: negative dimensions not allowed"
     ]
    }
   ],
   "source": [
    "a.resize(-1,6) # resize는 -1 사용 불가"
   ]
  },
  {
   "cell_type": "code",
   "execution_count": null,
   "id": "d5dc31d5",
   "metadata": {},
   "outputs": [],
   "source": [
    "a"
   ]
  },
  {
   "cell_type": "code",
   "execution_count": null,
   "id": "753b158b",
   "metadata": {},
   "outputs": [],
   "source": [
    "a.T # a의 전치행렬 (행과 열을 뒤바꾼 행렬)"
   ]
  },
  {
   "cell_type": "code",
   "execution_count": null,
   "id": "29e2532b",
   "metadata": {},
   "outputs": [],
   "source": [
    "a.transpose() # a의 전치행렬"
   ]
  },
  {
   "cell_type": "markdown",
   "id": "61946c90",
   "metadata": {},
   "source": [
    "## 2.6 배열 인쇄"
   ]
  },
  {
   "cell_type": "code",
   "execution_count": null,
   "id": "a9869a9d",
   "metadata": {},
   "outputs": [],
   "source": [
    "# 배열이 커서 출력이 안 될 경우\n",
    "print(np.arange(10000))"
   ]
  },
  {
   "cell_type": "code",
   "execution_count": null,
   "id": "a0634ccd",
   "metadata": {},
   "outputs": [],
   "source": [
    "np.arange(10000).reshape(100,100)"
   ]
  },
  {
   "cell_type": "code",
   "execution_count": null,
   "id": "23f62d7c",
   "metadata": {},
   "outputs": [],
   "source": [
    "# 배열이 너무 커서 인쇄할 수 없는 경우는 자동으로 건너뛰고 모서리 부분만 출력\n",
    "# 넘파이의 인쇄 옵션 변경 (인쇄할 사이즈를 최대치)\n",
    "import sys\n",
    "np.set_printoptions(threshold=10000) # 배열 10000개까지 출력하도록 옵션\n",
    "np.set_printoptions(threshold=sys.maxsize)\n",
    "np.set_printoptions(threshold=np.inf) # np.inf:무한대\n",
    "# 커널 재시작시 다시 옵션 복귀"
   ]
  },
  {
   "cell_type": "code",
   "execution_count": 1,
   "id": "d0959810",
   "metadata": {},
   "outputs": [
    {
     "data": {
      "text/plain": [
       "array([[   0,    1,    2, ...,   97,   98,   99],\n",
       "       [ 100,  101,  102, ...,  197,  198,  199],\n",
       "       [ 200,  201,  202, ...,  297,  298,  299],\n",
       "       ...,\n",
       "       [9700, 9701, 9702, ..., 9797, 9798, 9799],\n",
       "       [9800, 9801, 9802, ..., 9897, 9898, 9899],\n",
       "       [9900, 9901, 9902, ..., 9997, 9998, 9999]])"
      ]
     },
     "execution_count": 1,
     "metadata": {},
     "output_type": "execute_result"
    }
   ],
   "source": [
    "import numpy as np\n",
    "np.arange(10000).reshape(100,100)"
   ]
  },
  {
   "cell_type": "markdown",
   "id": "438dad83",
   "metadata": {},
   "source": [
    "## 2.7 기본 연산 동작"
   ]
  },
  {
   "cell_type": "markdown",
   "id": "ca1ed6bf",
   "metadata": {},
   "source": [
    "### 1) 배열의 요소별 연산"
   ]
  },
  {
   "cell_type": "code",
   "execution_count": null,
   "id": "3bf2d2ea",
   "metadata": {},
   "outputs": [],
   "source": [
    "a = np.array([20,30,40,50,])\n",
    "b = np.array([0,1,2,3,])\n",
    "print(a)\n",
    "print(b)"
   ]
  },
  {
   "cell_type": "code",
   "execution_count": null,
   "id": "d6aa91db",
   "metadata": {},
   "outputs": [],
   "source": [
    "a+b # 요소별 + 연산"
   ]
  },
  {
   "cell_type": "code",
   "execution_count": null,
   "id": "dc77129c",
   "metadata": {},
   "outputs": [],
   "source": [
    "a ** b"
   ]
  },
  {
   "cell_type": "code",
   "execution_count": null,
   "id": "beb25ae9",
   "metadata": {},
   "outputs": [],
   "source": [
    "a += b # a = a+b\n",
    "a"
   ]
  },
  {
   "cell_type": "code",
   "execution_count": null,
   "id": "6cdd7701",
   "metadata": {},
   "outputs": [],
   "source": [
    "a < 40"
   ]
  },
  {
   "cell_type": "code",
   "execution_count": null,
   "id": "51dbd9fc",
   "metadata": {},
   "outputs": [],
   "source": [
    "# a배열에서 40보다 작은 데이터만 추출하려면 인덱스에서 식을 사용\n",
    "a[a<40]"
   ]
  },
  {
   "cell_type": "code",
   "execution_count": null,
   "id": "8762993f",
   "metadata": {},
   "outputs": [],
   "source": [
    "a * b # 요소별 곱"
   ]
  },
  {
   "cell_type": "markdown",
   "id": "415c3789",
   "metadata": {},
   "source": [
    "### 2) 행렬의 곱(@, dot함수)cf. *(요소별 곱)"
   ]
  },
  {
   "cell_type": "code",
   "execution_count": null,
   "id": "d8ab4af3",
   "metadata": {},
   "outputs": [],
   "source": [
    "A = np.array([ [1, 1],\n",
    "             [0, 1]])\n",
    "B = np.array([ [2, 0],\n",
    "             [3, 4]])\n",
    "A, B"
   ]
  },
  {
   "cell_type": "code",
   "execution_count": null,
   "id": "3a8bb014",
   "metadata": {},
   "outputs": [],
   "source": [
    "print('요소별 곱 A*B =', A*B, sep='\\n')\n",
    "print('행렬곱 A@B =', A@B, sep='\\n')\n",
    "print('행렬곱 A.dot(B)=', A.dot(B), sep='\\n')"
   ]
  },
  {
   "cell_type": "code",
   "execution_count": null,
   "id": "bef5234f",
   "metadata": {},
   "outputs": [],
   "source": [
    "A = np.array([ [1, 0],\n",
    "             [0, 1]])\n",
    "B = np.array([ [2, 0],\n",
    "             [3, 4]])\n",
    "A, B"
   ]
  },
  {
   "cell_type": "code",
   "execution_count": null,
   "id": "5b62e23d",
   "metadata": {},
   "outputs": [],
   "source": [
    "print('B@단위행렬 = ', B@A, sep='\\n')"
   ]
  },
  {
   "cell_type": "code",
   "execution_count": null,
   "id": "b20ddc69",
   "metadata": {},
   "outputs": [],
   "source": [
    "print('단위행렬@B = ', A@B, sep='\\n')"
   ]
  },
  {
   "cell_type": "markdown",
   "id": "47e60a83",
   "metadata": {},
   "source": [
    "### 3) 복합 대입 연산자 사용 (-=, +=, ...)"
   ]
  },
  {
   "cell_type": "code",
   "execution_count": null,
   "id": "38ed0c31",
   "metadata": {},
   "outputs": [],
   "source": [
    "a = np.ones( (2, 3), dtype=int) # 2행 3열짜리 int32 배열\n",
    "a"
   ]
  },
  {
   "cell_type": "code",
   "execution_count": null,
   "id": "3dcce4fb",
   "metadata": {},
   "outputs": [],
   "source": [
    "b = np.random.random( (2,3) ) # 2행 3열짜리 float64 배열\n",
    "b"
   ]
  },
  {
   "cell_type": "code",
   "execution_count": null,
   "id": "cd83b0b3",
   "metadata": {},
   "outputs": [],
   "source": [
    "a += 3 # a = a+3\n",
    "a"
   ]
  },
  {
   "cell_type": "code",
   "execution_count": null,
   "id": "4f64bd6a",
   "metadata": {},
   "outputs": [],
   "source": [
    "b += a # b = b+a\n",
    "b"
   ]
  },
  {
   "cell_type": "code",
   "execution_count": null,
   "id": "6409b849",
   "metadata": {},
   "outputs": [],
   "source": [
    "\n",
    "a += b # a = a+b"
   ]
  },
  {
   "cell_type": "markdown",
   "id": "fa86ba48",
   "metadata": {},
   "source": [
    "### 4) 배열 요소별 집계\n",
    "- sum, min, max, mean, var(분산), std(표준편차)"
   ]
  },
  {
   "cell_type": "code",
   "execution_count": 2,
   "id": "10dd7ee1",
   "metadata": {},
   "outputs": [
    {
     "data": {
      "text/plain": [
       "array([[2, 2, 2, 3],\n",
       "       [4, 3, 2, 1]])"
      ]
     },
     "execution_count": 2,
     "metadata": {},
     "output_type": "execute_result"
    }
   ],
   "source": [
    "a = np.array([[2,2,2,3],\n",
    "             [4,3,2,1]])\n",
    "a"
   ]
  },
  {
   "cell_type": "code",
   "execution_count": null,
   "id": "d8fcf145",
   "metadata": {},
   "outputs": [],
   "source": [
    "print('전체 합 :', a.sum(), np.sum(a))\n",
    "print('전체 평균 :', a.mean(), np.mean(a))\n",
    "print('전체 최소값 :', a.min(), np.min(a))\n",
    "print('전체 최대값 :', a.max(), np.max(a))\n",
    "print('전체 분산 :', a.var(), np.var(a))\n",
    "print('전체 표준편차 :', a.std(), np.std(a))"
   ]
  },
  {
   "cell_type": "markdown",
   "id": "5c7a99ce",
   "metadata": {},
   "source": [
    "### 5) 배열 축별 집계\n",
    "- 축별 sum, min, max, mean, var(분산), std(표준편차), argmax"
   ]
  },
  {
   "cell_type": "code",
   "execution_count": null,
   "id": "2b043076",
   "metadata": {},
   "outputs": [],
   "source": [
    "a"
   ]
  },
  {
   "cell_type": "code",
   "execution_count": null,
   "id": "cc7b518a",
   "metadata": {},
   "outputs": [],
   "source": [
    "# axis=1(1축)들의 합\n",
    "print('a 행별 합 :', a.sum(axis=1), np.sum(a, axis=1))"
   ]
  },
  {
   "cell_type": "code",
   "execution_count": null,
   "id": "296d3f3b",
   "metadata": {},
   "outputs": [],
   "source": [
    "# 열을 고정하고, 0축의 합\n",
    "print('a 열별 합 :', a.sum(axis=0), np.sum(a, axis=0))"
   ]
  },
  {
   "cell_type": "code",
   "execution_count": null,
   "id": "4779d3ca",
   "metadata": {},
   "outputs": [],
   "source": [
    "print('a 행별 최대값 :', a.max(axis=1), np.max(a, axis=1))"
   ]
  },
  {
   "cell_type": "code",
   "execution_count": null,
   "id": "a2117daf",
   "metadata": {},
   "outputs": [],
   "source": [
    "print('a 열별 최대값 :', a.max(axis=0), np.max(a, axis=0))"
   ]
  },
  {
   "cell_type": "code",
   "execution_count": null,
   "id": "9de32cb6",
   "metadata": {},
   "outputs": [],
   "source": [
    "print('a 행별 최대값 위치 :', a.argmax(axis=1))"
   ]
  },
  {
   "cell_type": "code",
   "execution_count": 26,
   "id": "c7146078",
   "metadata": {},
   "outputs": [
    {
     "data": {
      "text/plain": [
       "array([[[ 0,  1,  2,  3],\n",
       "        [ 4,  5,  6,  7],\n",
       "        [ 8,  9, 10, 11]],\n",
       "\n",
       "       [[12, 13, 14, 15],\n",
       "        [16, 17, 18, 19],\n",
       "        [20, 21, 22, 23]]])"
      ]
     },
     "execution_count": 26,
     "metadata": {},
     "output_type": "execute_result"
    }
   ],
   "source": [
    "# 3차원 배열의 집계\n",
    "import numpy as np\n",
    "b = np.arange(24).reshape(2,3,4) # 2면 3행 4열\n",
    "b"
   ]
  },
  {
   "cell_type": "code",
   "execution_count": 27,
   "id": "05387d8d",
   "metadata": {},
   "outputs": [
    {
     "data": {
      "text/plain": [
       "(276, 276, 0, 23, 11.5, 6.922186552431729, 47.916666666666664)"
      ]
     },
     "execution_count": 27,
     "metadata": {},
     "output_type": "execute_result"
    }
   ],
   "source": [
    "b.sum(), np.sum(b), b.min(), b.max(), b.mean(), b.std(), b.var() # 배열 전체에 대한 집계값"
   ]
  },
  {
   "cell_type": "code",
   "execution_count": 28,
   "id": "dc4b8979",
   "metadata": {},
   "outputs": [
    {
     "data": {
      "text/plain": [
       "6.922186552431729"
      ]
     },
     "execution_count": 28,
     "metadata": {},
     "output_type": "execute_result"
    }
   ],
   "source": [
    "# 분산에 루트 씌우면 표준편차\n",
    "import math\n",
    "math.sqrt(b.var()) # math.sqrt(): 스칼라 값에 루트 씌운 값"
   ]
  },
  {
   "cell_type": "code",
   "execution_count": 29,
   "id": "96fa734c",
   "metadata": {},
   "outputs": [
    {
     "data": {
      "text/plain": [
       "array([[12, 14, 16, 18],\n",
       "       [20, 22, 24, 26],\n",
       "       [28, 30, 32, 34]])"
      ]
     },
     "execution_count": 29,
     "metadata": {},
     "output_type": "execute_result"
    }
   ],
   "source": [
    "np.sum(b, axis = 0) # 행과 열은 고정으로 하고 0축들을 합"
   ]
  },
  {
   "cell_type": "code",
   "execution_count": 30,
   "id": "9506d5d4",
   "metadata": {},
   "outputs": [
    {
     "data": {
      "text/plain": [
       "array([[12, 15, 18, 21],\n",
       "       [48, 51, 54, 57]])"
      ]
     },
     "execution_count": 30,
     "metadata": {},
     "output_type": "execute_result"
    }
   ],
   "source": [
    "np.sum(b, axis = 1) # 면과 열은 고정으로 하고 1축들을 합"
   ]
  },
  {
   "cell_type": "code",
   "execution_count": 33,
   "id": "d547c4ff",
   "metadata": {},
   "outputs": [
    {
     "data": {
      "text/plain": [
       "array([[ 6, 22, 38],\n",
       "       [54, 70, 86]])"
      ]
     },
     "execution_count": 33,
     "metadata": {},
     "output_type": "execute_result"
    }
   ],
   "source": [
    "np.sum(b, axis = 2) # 면과 행은 고정으로 하고 2축들을 합"
   ]
  },
  {
   "cell_type": "markdown",
   "id": "889894ae",
   "metadata": {},
   "source": [
    "## 2.8 그 외 요소별 계산하는 범용함수들\n",
    "- 출력인수를 사용하면 메모리를 더 효율적으로 사용할 수 있음\n",
    "\n",
    "    - np.sqrt(배열) : 제곱근 / math.sqrt(스칼라변수)\n",
    "    - np.add(A, B, C) : C=np.add(A,B)와 동일\n",
    "    - np.multiply(A, B, C) : C = A*B와 동일\n",
    "    - np.subtract(A, B, C)\n",
    "    ...."
   ]
  },
  {
   "cell_type": "code",
   "execution_count": 34,
   "id": "f09bbb5b",
   "metadata": {},
   "outputs": [
    {
     "data": {
      "text/plain": [
       "(array([1, 2]), array([3, 4]), array([7.09706732e-312, 0.00000000e+000]))"
      ]
     },
     "execution_count": 34,
     "metadata": {},
     "output_type": "execute_result"
    }
   ],
   "source": [
    "a = np.array([1,2])\n",
    "b = np.array([3,4])\n",
    "c = np.empty((2))\n",
    "a, b, c"
   ]
  },
  {
   "cell_type": "code",
   "execution_count": 35,
   "id": "75e08f75",
   "metadata": {},
   "outputs": [
    {
     "data": {
      "text/plain": [
       "array([4., 6.])"
      ]
     },
     "execution_count": 35,
     "metadata": {},
     "output_type": "execute_result"
    }
   ],
   "source": [
    "np.add(a, b, c) # c = np.add(a, b) # c = a+b\n",
    "c"
   ]
  },
  {
   "cell_type": "code",
   "execution_count": 38,
   "id": "91f4bc42",
   "metadata": {},
   "outputs": [
    {
     "data": {
      "text/plain": [
       "array([1., 2., 3., 4.])"
      ]
     },
     "execution_count": 38,
     "metadata": {},
     "output_type": "execute_result"
    }
   ],
   "source": [
    "a = np.array([1, 4, 9, 16])\n",
    "b = np.empty(4)\n",
    "np.sqrt(a,b) # math.sqrt(a) 불가 스칼라 변수만 가능\n",
    "b"
   ]
  },
  {
   "cell_type": "code",
   "execution_count": 40,
   "id": "f0dfd566",
   "metadata": {},
   "outputs": [
    {
     "name": "stdout",
     "output_type": "stream",
     "text": [
      "The memory_profiler extension is already loaded. To reload it, use:\n",
      "  %reload_ext memory_profiler\n"
     ]
    }
   ],
   "source": [
    "# 메모리 사용량과 속도 측정해주는 메모리 프로파일러를 로드\n",
    "# 아나콘다 프롬프트에서 pip install memory_profiler\n",
    "%load_ext memory_profiler\n",
    "A = np.random.randn(100000000) # 1억개 요소\n",
    "B = np.random.randn(100000000)\n",
    "C = np.random.randn(100000000)"
   ]
  },
  {
   "cell_type": "code",
   "execution_count": 41,
   "id": "5b04a969",
   "metadata": {},
   "outputs": [],
   "source": [
    "# %%time : 셀을 실행할 때 소요시간 출력\n",
    "# %memit : 메모리 사용량 출력"
   ]
  },
  {
   "cell_type": "code",
   "execution_count": 42,
   "id": "7777b9d7",
   "metadata": {},
   "outputs": [
    {
     "name": "stdout",
     "output_type": "stream",
     "text": [
      "peak memory: 3811.32 MiB, increment: 1415.01 MiB\n",
      "[-0.35095578  0.87463834 -3.97436758 ... -1.8169748  -0.02789403\n",
      "  0.45524799]\n",
      "CPU times: total: 1.09 s\n",
      "Wall time: 2.48 s\n"
     ]
    }
   ],
   "source": [
    "%%time\n",
    "%memit G = A*B+C\n",
    "print(G)"
   ]
  },
  {
   "cell_type": "code",
   "execution_count": 43,
   "id": "13d9d3e3",
   "metadata": {},
   "outputs": [
    {
     "name": "stdout",
     "output_type": "stream",
     "text": [
      "peak memory: 4564.46 MiB, increment: 1405.08 MiB\n",
      "[-0.35095578  0.87463834 -3.97436758 ... -1.8169748  -0.02789403\n",
      "  0.45524799]\n",
      "CPU times: total: 1.05 s\n",
      "Wall time: 2.47 s\n"
     ]
    }
   ],
   "source": [
    "%%time\n",
    "%memit T = A*B; G=T+C; del T\n",
    "print(G)"
   ]
  },
  {
   "cell_type": "code",
   "execution_count": 44,
   "id": "59c12828",
   "metadata": {},
   "outputs": [
    {
     "name": "stdout",
     "output_type": "stream",
     "text": [
      "peak memory: 3869.88 MiB, increment: 710.50 MiB\n",
      "[-0.35095578  0.87463834 -3.97436758 ... -1.8169748  -0.02789403\n",
      "  0.45524799]\n",
      "CPU times: total: 656 ms\n",
      "Wall time: 2 s\n"
     ]
    }
   ],
   "source": [
    "%%time\n",
    "%memit G = A*B; G+=C\n",
    "print(G)"
   ]
  },
  {
   "cell_type": "code",
   "execution_count": 46,
   "id": "103108b3",
   "metadata": {},
   "outputs": [
    {
     "name": "stdout",
     "output_type": "stream",
     "text": [
      "peak memory: 3159.39 MiB, increment: 0.00 MiB\n",
      "[-0.35095578  0.87463834 -3.97436758 ... -1.8169748  -0.02789403\n",
      "  0.45524799]\n",
      "CPU times: total: 391 ms\n",
      "Wall time: 1.73 s\n"
     ]
    }
   ],
   "source": [
    "%%time\n",
    "%memit np.multiply(A, B, G); np.add(G, C, G)\n",
    "print(G)"
   ]
  },
  {
   "cell_type": "markdown",
   "id": "2366b367",
   "metadata": {},
   "source": [
    "## 2.9 브로드 캐스팅\n",
    "- 서로 다른 크기의 배열간 연산을 수행할 수 있도록 해주는 강력한 기능"
   ]
  },
  {
   "cell_type": "code",
   "execution_count": 50,
   "id": "d8c14a05",
   "metadata": {},
   "outputs": [
    {
     "name": "stdout",
     "output_type": "stream",
     "text": [
      "[11 12 13]\n",
      "[11 12 13]\n"
     ]
    }
   ],
   "source": [
    "# 1차원 배열인 경우\n",
    "a = np.array([1,2,3])\n",
    "b = np.array([10])\n",
    "print(a+b)\n",
    "print(np.add(a,b))"
   ]
  },
  {
   "cell_type": "code",
   "execution_count": 51,
   "id": "5a06213b",
   "metadata": {},
   "outputs": [
    {
     "data": {
      "text/plain": [
       "(array([[ 0,  1,  2],\n",
       "        [10, 11, 12],\n",
       "        [20, 21, 22],\n",
       "        [30, 31, 32]]),\n",
       " array([[ 0,  0,  0],\n",
       "        [ 0, 10, 20],\n",
       "        [ 0, 20, 40],\n",
       "        [ 0, 30, 60]]))"
      ]
     },
     "execution_count": 51,
     "metadata": {},
     "output_type": "execute_result"
    }
   ],
   "source": [
    "# 2차원 배열인 경우\n",
    "a = np.array([[0,0,0], # 4행 3열짜리 2차원\n",
    "              [10,10,10],\n",
    "              [20,20,20],\n",
    "              [30,30,30],])\n",
    "b = np.array([0,1,2]) # 3열짜리 1차원\n",
    "np.add(a, b), np.multiply(a,b)"
   ]
  },
  {
   "cell_type": "code",
   "execution_count": 52,
   "id": "f235231c",
   "metadata": {},
   "outputs": [
    {
     "data": {
      "text/plain": [
       "(array([[ 5,  5,  5],\n",
       "        [15, 15, 15],\n",
       "        [25, 25, 25],\n",
       "        [35, 35, 35]]),\n",
       " array([[  0,   0,   0],\n",
       "        [ 50,  50,  50],\n",
       "        [100, 100, 100],\n",
       "        [150, 150, 150]]))"
      ]
     },
     "execution_count": 52,
     "metadata": {},
     "output_type": "execute_result"
    }
   ],
   "source": [
    "# 2차원 배열인 경우\n",
    "a = np.array([[0,0,0], # 4행 3열짜리 2차원\n",
    "              [10,10,10],\n",
    "              [20,20,20],\n",
    "              [30,30,30],])\n",
    "b = np.array([[5],\n",
    "              [5],\n",
    "              [5],\n",
    "              [5]]) # 4행 1열짜리 2차원\n",
    "np.add(a, b), np.multiply(a,b)"
   ]
  },
  {
   "cell_type": "code",
   "execution_count": 53,
   "id": "8f81dfdf",
   "metadata": {},
   "outputs": [],
   "source": [
    "a = np.array([0,10,20,30])\n",
    "b = np.array([1,2,3])"
   ]
  },
  {
   "cell_type": "code",
   "execution_count": 72,
   "id": "2f62e84f",
   "metadata": {},
   "outputs": [
    {
     "data": {
      "text/plain": [
       "array([[ 0],\n",
       "       [10],\n",
       "       [20],\n",
       "       [30]])"
      ]
     },
     "execution_count": 72,
     "metadata": {},
     "output_type": "execute_result"
    }
   ],
   "source": [
    "from numpy import newaxis\n",
    "# np.newaxis 연산자를 이용하여 배열에 새로운 축을 추가하여 2차원\n",
    "A = a[:,newaxis]\n",
    "A"
   ]
  },
  {
   "cell_type": "code",
   "execution_count": 59,
   "id": "c0723691",
   "metadata": {},
   "outputs": [
    {
     "name": "stdout",
     "output_type": "stream",
     "text": [
      "[[ 1  2  3]\n",
      " [11 12 13]\n",
      " [21 22 23]\n",
      " [31 32 33]]\n",
      "[[ 1  2  3]\n",
      " [11 12 13]\n",
      " [21 22 23]\n",
      " [31 32 33]]\n"
     ]
    }
   ],
   "source": [
    "print(A + b)\n",
    "print(np.add(A, b))"
   ]
  },
  {
   "cell_type": "markdown",
   "id": "37309a9c",
   "metadata": {},
   "source": [
    "# 3절. 배열합치기/배열분리하기\n",
    "- 인덱싱과 슬라이싱\n",
    "- 두배열을 합치는 함수\n",
    "- r_, c_\n",
    "- 하나의 배열을 여러개 작은 배열로 분리하는 함수\n",
    "## 3.1 인덱싱과 슬라이싱\n",
    "- 교안 pdf 31p\n",
    "    - [인덱싱 docs](https://docs.scipy.org/doc/numpy/user/basics.indexing.html)\n",
    "    - [배열 인덱싱 docs](https://docs.scipy.org/doc/numpy/reference/arrays.indexing.html)\n",
    "    - [newaxis](https://docs.scipy.org/doc/numpy/reference/constants.html#numpy.newaxis)"
   ]
  },
  {
   "cell_type": "code",
   "execution_count": 73,
   "id": "28a6ea8b",
   "metadata": {},
   "outputs": [
    {
     "data": {
      "text/plain": [
       "array([ 0,  3,  6,  9, 12, 15, 18, 21, 24, 27])"
      ]
     },
     "execution_count": 73,
     "metadata": {},
     "output_type": "execute_result"
    }
   ],
   "source": [
    "a = np.arange(10)*3\n",
    "a"
   ]
  },
  {
   "cell_type": "code",
   "execution_count": 74,
   "id": "263b07db",
   "metadata": {},
   "outputs": [
    {
     "data": {
      "text/plain": [
       "(6, 27)"
      ]
     },
     "execution_count": 74,
     "metadata": {},
     "output_type": "execute_result"
    }
   ],
   "source": [
    "# 인덱싱 : 없는 인덱싱 사용시 에러\n",
    "a[2],a[-1]"
   ]
  },
  {
   "cell_type": "code",
   "execution_count": 75,
   "id": "e50b306f",
   "metadata": {},
   "outputs": [
    {
     "data": {
      "text/plain": [
       "3"
      ]
     },
     "execution_count": 75,
     "metadata": {},
     "output_type": "execute_result"
    }
   ],
   "source": [
    "a[1]"
   ]
  },
  {
   "cell_type": "code",
   "execution_count": 76,
   "id": "a3c58f4d",
   "metadata": {},
   "outputs": [
    {
     "data": {
      "text/plain": [
       "array([ 3,  9, 15, 21])"
      ]
     },
     "execution_count": 76,
     "metadata": {},
     "output_type": "execute_result"
    }
   ],
   "source": [
    "# 슬라이싱 : 없는 인덱스 값도 가능\n",
    "a[1:9:2]"
   ]
  },
  {
   "cell_type": "code",
   "execution_count": 77,
   "id": "d311341c",
   "metadata": {},
   "outputs": [
    {
     "data": {
      "text/plain": [
       "array([ 0,  3,  6,  9, 12, 15, 18, 21, 24, 27])"
      ]
     },
     "execution_count": 77,
     "metadata": {},
     "output_type": "execute_result"
    }
   ],
   "source": [
    "a"
   ]
  },
  {
   "cell_type": "code",
   "execution_count": 78,
   "id": "048bd7a9",
   "metadata": {},
   "outputs": [
    {
     "data": {
      "text/plain": [
       "array([99,  3, 99,  9, 99, 15, 99, 21, 99, 27])"
      ]
     },
     "execution_count": 78,
     "metadata": {},
     "output_type": "execute_result"
    }
   ],
   "source": [
    "a[::2] = 99\n",
    "a"
   ]
  },
  {
   "cell_type": "code",
   "execution_count": 79,
   "id": "1a8764d7",
   "metadata": {},
   "outputs": [
    {
     "data": {
      "text/plain": [
       "array([99,  3, 99,  9, 99, 15, 99, 21, 99, 27])"
      ]
     },
     "execution_count": 79,
     "metadata": {},
     "output_type": "execute_result"
    }
   ],
   "source": [
    "a[:100]"
   ]
  },
  {
   "cell_type": "code",
   "execution_count": 80,
   "id": "118906d7",
   "metadata": {},
   "outputs": [
    {
     "data": {
      "text/plain": [
       "array([[ 0,  1,  2,  3],\n",
       "       [ 4,  5,  6,  7],\n",
       "       [ 8,  9, 10, 11],\n",
       "       [12, 13, 14, 15],\n",
       "       [16, 17, 18, 19]])"
      ]
     },
     "execution_count": 80,
     "metadata": {},
     "output_type": "execute_result"
    }
   ],
   "source": [
    "b = np.arange(20).reshape(5,4)\n",
    "b"
   ]
  },
  {
   "cell_type": "code",
   "execution_count": 81,
   "id": "24b88bf9",
   "metadata": {},
   "outputs": [
    {
     "data": {
      "text/plain": [
       "6"
      ]
     },
     "execution_count": 81,
     "metadata": {},
     "output_type": "execute_result"
    }
   ],
   "source": [
    "b[1,2]"
   ]
  },
  {
   "cell_type": "code",
   "execution_count": 82,
   "id": "e5eba460",
   "metadata": {},
   "outputs": [
    {
     "data": {
      "text/plain": [
       "array([[ 0,  1,  2],\n",
       "       [ 4,  5,  6],\n",
       "       [ 8,  9, 10],\n",
       "       [12, 13, 14],\n",
       "       [16, 17, 18]])"
      ]
     },
     "execution_count": 82,
     "metadata": {},
     "output_type": "execute_result"
    }
   ],
   "source": [
    "b[:, 0: -1] # 모든 행의 마지막 열 앞까지(종속변수를 제외하는 용도)"
   ]
  },
  {
   "cell_type": "code",
   "execution_count": 83,
   "id": "86fda352",
   "metadata": {},
   "outputs": [
    {
     "data": {
      "text/plain": [
       "array([ 3,  7, 11, 15, 19])"
      ]
     },
     "execution_count": 83,
     "metadata": {},
     "output_type": "execute_result"
    }
   ],
   "source": [
    "b[:,-1]  # 모든행의 마지막 열만 추출(종속변수 추출하는 용도)"
   ]
  },
  {
   "cell_type": "code",
   "execution_count": 87,
   "id": "9e0219a5",
   "metadata": {},
   "outputs": [
    {
     "data": {
      "text/plain": [
       "(array([[0, 1, 2, 3],\n",
       "        [4, 5, 6, 7]]),\n",
       " array([[0, 1, 2, 3],\n",
       "        [4, 5, 6, 7]]),\n",
       " array([[0, 1, 2, 3],\n",
       "        [4, 5, 6, 7]]),\n",
       " array([[0, 1, 2, 3],\n",
       "        [4, 5, 6, 7]]))"
      ]
     },
     "execution_count": 87,
     "metadata": {},
     "output_type": "execute_result"
    }
   ],
   "source": [
    "# 0~1행까지 모든 열 추출 (열을 생략할 경우 모든 열)\n",
    "b[0:2, :] , b[0:2, ], b[0:2], b[0:2, ...]"
   ]
  },
  {
   "cell_type": "code",
   "execution_count": 89,
   "id": "13702364",
   "metadata": {},
   "outputs": [
    {
     "data": {
      "text/plain": [
       "(array([ 3,  7, 11, 15, 19]), array([ 3,  7, 11, 15, 19]))"
      ]
     },
     "execution_count": 89,
     "metadata": {},
     "output_type": "execute_result"
    }
   ],
   "source": [
    "# 모든행의 마지막 열만 추출(종속변수 추출하는 용도)\n",
    "# 선행축은 생략 불가\n",
    "b[:, -1], b[...,-1]"
   ]
  },
  {
   "cell_type": "code",
   "execution_count": 90,
   "id": "11018d8d",
   "metadata": {},
   "outputs": [],
   "source": [
    "# 모든행의 마지막 열을 추출해서 2차원으로 변경(5열 -> 5행 1열)"
   ]
  },
  {
   "cell_type": "code",
   "execution_count": 91,
   "id": "141f83ba",
   "metadata": {},
   "outputs": [
    {
     "data": {
      "text/plain": [
       "array([[ 3],\n",
       "       [ 7],\n",
       "       [11],\n",
       "       [15],\n",
       "       [19]])"
      ]
     },
     "execution_count": 91,
     "metadata": {},
     "output_type": "execute_result"
    }
   ],
   "source": [
    "b[:, -1][:, newaxis]"
   ]
  },
  {
   "cell_type": "code",
   "execution_count": 93,
   "id": "9bb8df23",
   "metadata": {},
   "outputs": [
    {
     "data": {
      "text/plain": [
       "array([[ 3],\n",
       "       [ 7],\n",
       "       [11],\n",
       "       [15],\n",
       "       [19]])"
      ]
     },
     "execution_count": 93,
     "metadata": {},
     "output_type": "execute_result"
    }
   ],
   "source": [
    "b[...,-1].reshape(5,1)"
   ]
  },
  {
   "cell_type": "code",
   "execution_count": 96,
   "id": "4cfe5750",
   "metadata": {},
   "outputs": [
    {
     "data": {
      "text/plain": [
       "array([[ 3],\n",
       "       [ 7],\n",
       "       [11],\n",
       "       [15],\n",
       "       [19]])"
      ]
     },
     "execution_count": 96,
     "metadata": {},
     "output_type": "execute_result"
    }
   ],
   "source": [
    "b[...,-1:]"
   ]
  },
  {
   "cell_type": "code",
   "execution_count": 99,
   "id": "9c7dbc8f",
   "metadata": {},
   "outputs": [
    {
     "data": {
      "text/plain": [
       "(array([[ 5,  6],\n",
       "        [ 9, 10],\n",
       "        [13, 14]]),\n",
       " array([[ 5,  6],\n",
       "        [ 9, 10],\n",
       "        [13, 14]]))"
      ]
     },
     "execution_count": 99,
     "metadata": {},
     "output_type": "execute_result"
    }
   ],
   "source": [
    "b[1:4,1:3], b[1:-1, 1:-1]"
   ]
  },
  {
   "cell_type": "code",
   "execution_count": 102,
   "id": "a27e53ec",
   "metadata": {},
   "outputs": [
    {
     "data": {
      "text/plain": [
       "array([[[ 0,  1,  2,  3],\n",
       "        [ 4,  5,  6,  7],\n",
       "        [ 8,  9, 10, 11]],\n",
       "\n",
       "       [[12, 13, 14, 15],\n",
       "        [16, 17, 18, 19],\n",
       "        [20, 21, 22, 23]]])"
      ]
     },
     "execution_count": 102,
     "metadata": {},
     "output_type": "execute_result"
    }
   ],
   "source": [
    "# 3차원 배열의 인덱싱, 슬라이싱\n",
    "c = np.arange(24).reshape(2, 3, 4)\n",
    "c"
   ]
  },
  {
   "cell_type": "code",
   "execution_count": 103,
   "id": "7cbe613b",
   "metadata": {},
   "outputs": [
    {
     "data": {
      "text/plain": [
       "17"
      ]
     },
     "execution_count": 103,
     "metadata": {},
     "output_type": "execute_result"
    }
   ],
   "source": [
    "c[1,1,1]"
   ]
  },
  {
   "cell_type": "code",
   "execution_count": 104,
   "id": "525e478d",
   "metadata": {},
   "outputs": [
    {
     "data": {
      "text/plain": [
       "array([[ 0,  1,  2,  3],\n",
       "       [ 4,  5,  6,  7],\n",
       "       [ 8,  9, 10, 11]])"
      ]
     },
     "execution_count": 104,
     "metadata": {},
     "output_type": "execute_result"
    }
   ],
   "source": [
    "# 선행축은 생략불가 ,후행축은 생략가능\n",
    "c[0], c[0,], c[, ...]"
   ]
  },
  {
   "cell_type": "code",
   "execution_count": 106,
   "id": "7b450b5e",
   "metadata": {},
   "outputs": [
    {
     "data": {
      "text/plain": [
       "(array([12, 13, 14, 15]), array([12, 13, 14, 15]), array([12, 13, 14, 15]))"
      ]
     },
     "execution_count": 106,
     "metadata": {},
     "output_type": "execute_result"
    }
   ],
   "source": [
    "# 1면 0행의 모든 열\n",
    "c[1, 0, :], c[1,0,], c[1, 0, ...]"
   ]
  },
  {
   "cell_type": "code",
   "execution_count": 107,
   "id": "aa3d12ce",
   "metadata": {},
   "outputs": [
    {
     "data": {
      "text/plain": [
       "(array([13, 17, 21]), array([13, 17, 21]))"
      ]
     },
     "execution_count": 107,
     "metadata": {},
     "output_type": "execute_result"
    }
   ],
   "source": [
    "# 1면 모든 행의 1열 데이터\n",
    "c[1, :, 1], c[1, ..., 1],"
   ]
  },
  {
   "cell_type": "code",
   "execution_count": 109,
   "id": "0ed485b5",
   "metadata": {},
   "outputs": [
    {
     "data": {
      "text/plain": [
       "array([[[ 0,  1,  2,  3],\n",
       "        [ 4,  5,  6,  7],\n",
       "        [ 8,  9, 10, 11]],\n",
       "\n",
       "       [[12, 13, 14, 15],\n",
       "        [16, 17, 18, 19],\n",
       "        [20, 21, 22, 23]]])"
      ]
     },
     "execution_count": 109,
     "metadata": {},
     "output_type": "execute_result"
    }
   ],
   "source": [
    "c"
   ]
  },
  {
   "cell_type": "code",
   "execution_count": 110,
   "id": "3843d4f4",
   "metadata": {},
   "outputs": [
    {
     "data": {
      "text/plain": [
       "array([[[ 1,  2],\n",
       "        [ 5,  6]],\n",
       "\n",
       "       [[13, 14],\n",
       "        [17, 18]]])"
      ]
     },
     "execution_count": 110,
     "metadata": {},
     "output_type": "execute_result"
    }
   ],
   "source": [
    "c[:, 0:2, 1:3]"
   ]
  },
  {
   "cell_type": "markdown",
   "id": "df5b5ca7",
   "metadata": {},
   "source": [
    "## 3.2 두 배열을 쌓아 합치는 함수\n",
    "**- vstack(tup) : 아래에 추가하는 방식으로 쌓아 합침**<br>\n",
    "**- hstack(tup) : 옆으로 추가하는 방식으로 합침**<br>\n",
    "**- dstack(tup) : 마지막 축(열)을 쌓아 합침. depth방향으로 합치는 함수(차원증가)**"
   ]
  },
  {
   "cell_type": "code",
   "execution_count": 118,
   "id": "003c31fc",
   "metadata": {},
   "outputs": [
    {
     "name": "stdout",
     "output_type": "stream",
     "text": [
      "vstack 아래로 합치기 :\n",
      "[[1 2 3]\n",
      " [4 5 6]]\n",
      "(2, 3)\n",
      "hstack 옆으로 합치기 :\n",
      "[1 2 3 4 5 6]\n",
      "(6,)\n",
      "dstack 축을 depth로 합치기:\n",
      "[[[1 4]\n",
      "  [2 5]\n",
      "  [3 6]]]\n",
      "(1, 3, 2)\n"
     ]
    }
   ],
   "source": [
    "c = np.array([1,2,3])\n",
    "d = np.array([4,5,6])\n",
    "v = np.vstack((c,d))\n",
    "print('vstack 아래로 합치기 :', v, v.shape, sep='\\n')\n",
    "h = np.hstack((c,d))\n",
    "print('hstack 옆으로 합치기 :', h, h.shape, sep='\\n')\n",
    "d = np.dstack( (c, d) )\n",
    "print('dstack 축을 depth로 합치기:', d, d.shape, sep='\\n')"
   ]
  },
  {
   "cell_type": "code",
   "execution_count": 119,
   "id": "589d3277",
   "metadata": {},
   "outputs": [
    {
     "data": {
      "text/plain": [
       "array([[[ 0,  1,  2,  3],\n",
       "        [ 4,  5,  6,  7],\n",
       "        [ 8,  9, 10, 11]],\n",
       "\n",
       "       [[12, 13, 14, 15],\n",
       "        [16, 17, 18, 19],\n",
       "        [20, 21, 22, 23]]])"
      ]
     },
     "execution_count": 119,
     "metadata": {},
     "output_type": "execute_result"
    }
   ],
   "source": [
    "c = np.arange(24).reshape(2, 3, 4)\n",
    "c"
   ]
  },
  {
   "cell_type": "code",
   "execution_count": 120,
   "id": "9fa1145a",
   "metadata": {},
   "outputs": [
    {
     "data": {
      "text/plain": [
       "(array([[ 0,  1,  2,  3],\n",
       "        [ 4,  5,  6,  7],\n",
       "        [ 8,  9, 10, 11]]),\n",
       " array([[12, 13, 14, 15],\n",
       "        [16, 17, 18, 19],\n",
       "        [20, 21, 22, 23]]))"
      ]
     },
     "execution_count": 120,
     "metadata": {},
     "output_type": "execute_result"
    }
   ],
   "source": [
    "a, b = c[0], c[1]\n",
    "a, b"
   ]
  },
  {
   "cell_type": "code",
   "execution_count": 121,
   "id": "e7fd65aa",
   "metadata": {},
   "outputs": [
    {
     "data": {
      "text/plain": [
       "array([[ 0,  1,  2,  3],\n",
       "       [ 4,  5,  6,  7],\n",
       "       [ 8,  9, 10, 11],\n",
       "       [12, 13, 14, 15],\n",
       "       [16, 17, 18, 19],\n",
       "       [20, 21, 22, 23]])"
      ]
     },
     "execution_count": 121,
     "metadata": {},
     "output_type": "execute_result"
    }
   ],
   "source": [
    "# 수직으로 합치기\n",
    "np.vstack( (a,b) )"
   ]
  },
  {
   "cell_type": "code",
   "execution_count": 124,
   "id": "2ee14105",
   "metadata": {},
   "outputs": [
    {
     "data": {
      "text/plain": [
       "array([[ 0,  1,  2,  3],\n",
       "       [ 4,  5,  6,  7],\n",
       "       [ 8,  9, 10, 11],\n",
       "       [12, 13, 14, 15],\n",
       "       [16, 17, 18, 19],\n",
       "       [20, 21, 22, 23]])"
      ]
     },
     "execution_count": 124,
     "metadata": {},
     "output_type": "execute_result"
    }
   ],
   "source": [
    "np.concatenate((a,b), axis=0) # axis=0 : 기본값"
   ]
  },
  {
   "cell_type": "code",
   "execution_count": 125,
   "id": "1eeb3162",
   "metadata": {},
   "outputs": [
    {
     "data": {
      "text/plain": [
       "array([[ 0,  1,  2,  3, 12, 13, 14, 15],\n",
       "       [ 4,  5,  6,  7, 16, 17, 18, 19],\n",
       "       [ 8,  9, 10, 11, 20, 21, 22, 23]])"
      ]
     },
     "execution_count": 125,
     "metadata": {},
     "output_type": "execute_result"
    }
   ],
   "source": [
    "np.concatenate((a, b), axis=1)"
   ]
  },
  {
   "cell_type": "code",
   "execution_count": 127,
   "id": "611e97a8",
   "metadata": {},
   "outputs": [
    {
     "data": {
      "text/plain": [
       "array([[ 0,  1,  2,  3, 12, 13, 14, 15],\n",
       "       [ 4,  5,  6,  7, 16, 17, 18, 19],\n",
       "       [ 8,  9, 10, 11, 20, 21, 22, 23]])"
      ]
     },
     "execution_count": 127,
     "metadata": {},
     "output_type": "execute_result"
    }
   ],
   "source": [
    "np.hstack((a,b)) # 옆으로 합치기"
   ]
  },
  {
   "cell_type": "code",
   "execution_count": 132,
   "id": "a7200cde",
   "metadata": {},
   "outputs": [
    {
     "data": {
      "text/plain": [
       "(array([[ 0,  1,  2,  3],\n",
       "        [ 4,  5,  6,  7],\n",
       "        [ 8,  9, 10, 11]]),\n",
       " array([[12, 13, 14, 15],\n",
       "        [16, 17, 18, 19],\n",
       "        [20, 21, 22, 23]]))"
      ]
     },
     "execution_count": 132,
     "metadata": {},
     "output_type": "execute_result"
    }
   ],
   "source": [
    "a, b # 마지막축(열)끼리 쌓아 면을 이룸 (2차원 배열을 dstack하면 3차원 배열로 됨)"
   ]
  },
  {
   "cell_type": "code",
   "execution_count": 131,
   "id": "612e0323",
   "metadata": {},
   "outputs": [
    {
     "data": {
      "text/plain": [
       "array([[[ 0, 12],\n",
       "        [ 1, 13],\n",
       "        [ 2, 14],\n",
       "        [ 3, 15]],\n",
       "\n",
       "       [[ 4, 16],\n",
       "        [ 5, 17],\n",
       "        [ 6, 18],\n",
       "        [ 7, 19]],\n",
       "\n",
       "       [[ 8, 20],\n",
       "        [ 9, 21],\n",
       "        [10, 22],\n",
       "        [11, 23]]])"
      ]
     },
     "execution_count": 131,
     "metadata": {},
     "output_type": "execute_result"
    }
   ],
   "source": [
    "np.dstack((a,b))"
   ]
  },
  {
   "cell_type": "markdown",
   "id": "baca7812",
   "metadata": {},
   "source": [
    "- column_stack(tup) : 1차원 배열을 열단위로 합침\n",
    "- row_stack(tup) : 행단위로 합침 == vstack()"
   ]
  },
  {
   "cell_type": "code",
   "execution_count": 133,
   "id": "656d52c9",
   "metadata": {},
   "outputs": [
    {
     "data": {
      "text/plain": [
       "array([[ 1,  5,  9],\n",
       "       [ 2,  6, 10],\n",
       "       [ 3,  7, 11],\n",
       "       [ 4,  8, 12]])"
      ]
     },
     "execution_count": 133,
     "metadata": {},
     "output_type": "execute_result"
    }
   ],
   "source": [
    "a = np.array([1,2,3,4])\n",
    "b = np.array([5,6,7,8])\n",
    "c = np.array([9,10,11,12])\n",
    "np.column_stack((a,b,c))"
   ]
  },
  {
   "cell_type": "code",
   "execution_count": 134,
   "id": "575e57ce",
   "metadata": {},
   "outputs": [
    {
     "data": {
      "text/plain": [
       "array([ 1,  2,  3,  4,  5,  6,  7,  8,  9, 10, 11, 12])"
      ]
     },
     "execution_count": 134,
     "metadata": {},
     "output_type": "execute_result"
    }
   ],
   "source": [
    "np.hstack((a,b,c))"
   ]
  },
  {
   "cell_type": "code",
   "execution_count": 136,
   "id": "9f0fd7fa",
   "metadata": {},
   "outputs": [
    {
     "data": {
      "text/plain": [
       "array([[ 1,  5,  9],\n",
       "       [ 2,  6, 10],\n",
       "       [ 3,  7, 11],\n",
       "       [ 4,  8, 12]])"
      ]
     },
     "execution_count": 136,
     "metadata": {},
     "output_type": "execute_result"
    }
   ],
   "source": [
    "np.hstack((a[:, newaxis], b[:, newaxis], c[:,newaxis]))"
   ]
  },
  {
   "cell_type": "code",
   "execution_count": 137,
   "id": "5b08791f",
   "metadata": {},
   "outputs": [
    {
     "data": {
      "text/plain": [
       "array([[ 1,  2,  3,  4],\n",
       "       [ 5,  6,  7,  8],\n",
       "       [ 9, 10, 11, 12]])"
      ]
     },
     "execution_count": 137,
     "metadata": {},
     "output_type": "execute_result"
    }
   ],
   "source": [
    "np.row_stack((a,b,c))"
   ]
  },
  {
   "cell_type": "code",
   "execution_count": 138,
   "id": "b7c77687",
   "metadata": {},
   "outputs": [
    {
     "data": {
      "text/plain": [
       "array([[ 1,  2,  3,  4],\n",
       "       [ 5,  6,  7,  8],\n",
       "       [ 9, 10, 11, 12]])"
      ]
     },
     "execution_count": 138,
     "metadata": {},
     "output_type": "execute_result"
    }
   ],
   "source": [
    "np.vstack((a,b,c))"
   ]
  },
  {
   "cell_type": "markdown",
   "id": "96abfe23",
   "metadata": {},
   "source": [
    "- stack(tup, axis=n) : axis 속성에 따라 배열을 합침. axis 음수차원이 가능\n",
    "    - axis=0 : 첫번째 차원, axis=-1이면 마지막차원(열)"
   ]
  },
  {
   "cell_type": "code",
   "execution_count": 140,
   "id": "b692d606",
   "metadata": {},
   "outputs": [
    {
     "data": {
      "text/plain": [
       "(array([[ 0,  1,  2,  3],\n",
       "        [ 4,  5,  6,  7],\n",
       "        [ 8,  9, 10, 11]]),\n",
       " array([[12, 13, 14, 15],\n",
       "        [16, 17, 18, 19],\n",
       "        [20, 21, 22, 23]]))"
      ]
     },
     "execution_count": 140,
     "metadata": {},
     "output_type": "execute_result"
    }
   ],
   "source": [
    "a = np.arange(12).reshape(3, 4)\n",
    "b = np.arange(12,24).reshape(3,4)\n",
    "a,b"
   ]
  },
  {
   "cell_type": "code",
   "execution_count": 142,
   "id": "ec12e8d8",
   "metadata": {},
   "outputs": [
    {
     "data": {
      "text/plain": [
       "array([[[ 0,  1,  2,  3],\n",
       "        [ 4,  5,  6,  7],\n",
       "        [ 8,  9, 10, 11]],\n",
       "\n",
       "       [[12, 13, 14, 15],\n",
       "        [16, 17, 18, 19],\n",
       "        [20, 21, 22, 23]]])"
      ]
     },
     "execution_count": 142,
     "metadata": {},
     "output_type": "execute_result"
    }
   ],
   "source": [
    "np.stack((a,b),axis=0) #0면에 a, 1면 b"
   ]
  },
  {
   "cell_type": "code",
   "execution_count": 143,
   "id": "3c9188f8",
   "metadata": {},
   "outputs": [
    {
     "data": {
      "text/plain": [
       "array([[[ 0,  1,  2,  3],\n",
       "        [12, 13, 14, 15]],\n",
       "\n",
       "       [[ 4,  5,  6,  7],\n",
       "        [16, 17, 18, 19]],\n",
       "\n",
       "       [[ 8,  9, 10, 11],\n",
       "        [20, 21, 22, 23]]])"
      ]
     },
     "execution_count": 143,
     "metadata": {},
     "output_type": "execute_result"
    }
   ],
   "source": [
    "np.stack((a,b),axis=1) # 행(1축)끼리 합쳐 면을 이룸"
   ]
  },
  {
   "cell_type": "code",
   "execution_count": 146,
   "id": "62e93d7a",
   "metadata": {},
   "outputs": [
    {
     "data": {
      "text/plain": [
       "(array([[[ 0, 12],\n",
       "         [ 1, 13],\n",
       "         [ 2, 14],\n",
       "         [ 3, 15]],\n",
       " \n",
       "        [[ 4, 16],\n",
       "         [ 5, 17],\n",
       "         [ 6, 18],\n",
       "         [ 7, 19]],\n",
       " \n",
       "        [[ 8, 20],\n",
       "         [ 9, 21],\n",
       "         [10, 22],\n",
       "         [11, 23]]]),\n",
       " array([[[ 0, 12],\n",
       "         [ 1, 13],\n",
       "         [ 2, 14],\n",
       "         [ 3, 15]],\n",
       " \n",
       "        [[ 4, 16],\n",
       "         [ 5, 17],\n",
       "         [ 6, 18],\n",
       "         [ 7, 19]],\n",
       " \n",
       "        [[ 8, 20],\n",
       "         [ 9, 21],\n",
       "         [10, 22],\n",
       "         [11, 23]]]))"
      ]
     },
     "execution_count": 146,
     "metadata": {},
     "output_type": "execute_result"
    }
   ],
   "source": [
    "np.stack((a,b), axis=-1) # 열끼리 합쳐서 면을 이룸"
   ]
  },
  {
   "cell_type": "markdown",
   "id": "833a1f50",
   "metadata": {},
   "source": [
    "## 3.3 r, c_\n",
    "- 나열 객체"
   ]
  },
  {
   "cell_type": "code",
   "execution_count": 150,
   "id": "099cd18b",
   "metadata": {},
   "outputs": [],
   "source": [
    "import numpy as np\n",
    "a = np.array([1,2,3,4])\n",
    "b = np.array([5,6,7,8])\n",
    "c = np.array([9,10,11,12])"
   ]
  },
  {
   "cell_type": "code",
   "execution_count": 151,
   "id": "dca47525",
   "metadata": {},
   "outputs": [
    {
     "data": {
      "text/plain": [
       "array([ 1,  2,  3,  4,  5,  6,  7,  8,  9, 10, 11, 12])"
      ]
     },
     "execution_count": 151,
     "metadata": {},
     "output_type": "execute_result"
    }
   ],
   "source": [
    "np.r_[a, b, c] # 한행"
   ]
  },
  {
   "cell_type": "code",
   "execution_count": 153,
   "id": "4f65e0c5",
   "metadata": {},
   "outputs": [
    {
     "data": {
      "text/plain": [
       "array([[ 1,  2,  3,  4],\n",
       "       [ 5,  6,  7,  8],\n",
       "       [ 9, 10, 11, 12]])"
      ]
     },
     "execution_count": 153,
     "metadata": {},
     "output_type": "execute_result"
    }
   ],
   "source": [
    "np.r_[[a],[b],[c]]"
   ]
  },
  {
   "cell_type": "code",
   "execution_count": 154,
   "id": "1417db80",
   "metadata": {},
   "outputs": [
    {
     "data": {
      "text/plain": [
       "array([[ 1,  5,  9],\n",
       "       [ 2,  6, 10],\n",
       "       [ 3,  7, 11],\n",
       "       [ 4,  8, 12]])"
      ]
     },
     "execution_count": 154,
     "metadata": {},
     "output_type": "execute_result"
    }
   ],
   "source": [
    "np.c_[a,b,c]"
   ]
  },
  {
   "cell_type": "code",
   "execution_count": 155,
   "id": "31abdcef",
   "metadata": {},
   "outputs": [
    {
     "data": {
      "text/plain": [
       "array([[ 1,  5,  9],\n",
       "       [ 2,  6, 10],\n",
       "       [ 3,  7, 11],\n",
       "       [ 4,  8, 12]])"
      ]
     },
     "execution_count": 155,
     "metadata": {},
     "output_type": "execute_result"
    }
   ],
   "source": [
    "np.column_stack((a,b,c))"
   ]
  },
  {
   "cell_type": "markdown",
   "id": "4aa4177b",
   "metadata": {},
   "source": [
    "## 3.4 배열 분리하는 함수\n",
    "- vsplit(ary, 정수나 벡터) : 첫번째 축(2차원의 경우 가로축)을 따라 분할\n",
    "- hsplit(ary, 정수나 벡터) : 두번째 축(2차원의 경우 세로축)을 따라 분할\n",
    "- dsplit(ary, 정수나 벡터) : depth를 따라 나눔. 3차원 이상에서만 동작\n",
    "\n",
    "   * 정수 n : n개 분리\n",
    "   * [n] : n번째 인덱스를 기점으로 분리\n",
    "   * [n, m] : n번째, m번째 인덱스를 기점으로 분리"
   ]
  },
  {
   "cell_type": "code",
   "execution_count": 156,
   "id": "0de5abeb",
   "metadata": {},
   "outputs": [
    {
     "data": {
      "text/plain": [
       "array([[ 0,  1,  2,  3],\n",
       "       [ 4,  5,  6,  7],\n",
       "       [ 8,  9, 10, 11]])"
      ]
     },
     "execution_count": 156,
     "metadata": {},
     "output_type": "execute_result"
    }
   ],
   "source": [
    "a = np.arange(12).reshape(3, 4)\n",
    "a"
   ]
  },
  {
   "cell_type": "code",
   "execution_count": 158,
   "id": "8aba6c1b",
   "metadata": {},
   "outputs": [
    {
     "data": {
      "text/plain": [
       "[array([[0, 1, 2, 3]]), array([[4, 5, 6, 7]]), array([[ 8,  9, 10, 11]])]"
      ]
     },
     "execution_count": 158,
     "metadata": {},
     "output_type": "execute_result"
    }
   ],
   "source": [
    "# 가로축을 따라 3개로 배열 분할. 분할 후에는 원래의 차원유지\n",
    "a_vsplit = np.vsplit(a, 3) # 2개로 분리는 에러\n",
    "a_vsplit"
   ]
  },
  {
   "cell_type": "code",
   "execution_count": 160,
   "id": "74447e1f",
   "metadata": {},
   "outputs": [
    {
     "data": {
      "text/plain": [
       "[array([[0, 1, 2, 3],\n",
       "        [4, 5, 6, 7]]),\n",
       " array([[ 8,  9, 10, 11]])]"
      ]
     },
     "execution_count": 160,
     "metadata": {},
     "output_type": "execute_result"
    }
   ],
   "source": [
    "a_vsplit = np.vsplit(a, [2]) # 2는 분할 기점이 될 인덱스\n",
    "a_vsplit"
   ]
  },
  {
   "cell_type": "code",
   "execution_count": 161,
   "id": "12e0e9e3",
   "metadata": {},
   "outputs": [
    {
     "data": {
      "text/plain": [
       "[array([[0, 1, 2, 3]]), array([[4, 5, 6, 7]]), array([[ 8,  9, 10, 11]])]"
      ]
     },
     "execution_count": 161,
     "metadata": {},
     "output_type": "execute_result"
    }
   ],
   "source": [
    "a_vsplit = np.vsplit(a, [1, 2]) # 1, 2는 분할 기점이 될 인덱스\n",
    "a_vsplit"
   ]
  },
  {
   "cell_type": "code",
   "execution_count": 163,
   "id": "a67b2d2a",
   "metadata": {},
   "outputs": [
    {
     "data": {
      "text/plain": [
       "(2, 2, 2)"
      ]
     },
     "execution_count": 163,
     "metadata": {},
     "output_type": "execute_result"
    }
   ],
   "source": [
    "a_vsplit[0].ndim, a_vsplit[1].ndim, a_vsplit[2].ndim #분할 후 차원유지"
   ]
  },
  {
   "cell_type": "code",
   "execution_count": 165,
   "id": "e014b4fb",
   "metadata": {},
   "outputs": [
    {
     "data": {
      "text/plain": [
       "[array([[0],\n",
       "        [4],\n",
       "        [8]]),\n",
       " array([[1],\n",
       "        [5],\n",
       "        [9]]),\n",
       " array([[ 2],\n",
       "        [ 6],\n",
       "        [10]]),\n",
       " array([[ 3],\n",
       "        [ 7],\n",
       "        [11]])]"
      ]
     },
     "execution_count": 165,
     "metadata": {},
     "output_type": "execute_result"
    }
   ],
   "source": [
    "np.hsplit(a,4)"
   ]
  },
  {
   "cell_type": "code",
   "execution_count": 166,
   "id": "e5d1f320",
   "metadata": {},
   "outputs": [
    {
     "data": {
      "text/plain": [
       "array([[[ 0,  1,  2,  3],\n",
       "        [ 4,  5,  6,  7],\n",
       "        [ 8,  9, 10, 11]],\n",
       "\n",
       "       [[12, 13, 14, 15],\n",
       "        [16, 17, 18, 19],\n",
       "        [20, 21, 22, 23]]])"
      ]
     },
     "execution_count": 166,
     "metadata": {},
     "output_type": "execute_result"
    }
   ],
   "source": [
    "# dsplit은 3차원 이상만 가능\n",
    "b = np.arange(24).reshape(2, 3, 4)\n",
    "b"
   ]
  },
  {
   "cell_type": "code",
   "execution_count": 168,
   "id": "98e7de62",
   "metadata": {},
   "outputs": [
    {
     "data": {
      "text/plain": [
       "[array([[[ 0,  1,  2,  3],\n",
       "         [ 4,  5,  6,  7],\n",
       "         [ 8,  9, 10, 11]]]),\n",
       " array([[[12, 13, 14, 15],\n",
       "         [16, 17, 18, 19],\n",
       "         [20, 21, 22, 23]]])]"
      ]
     },
     "execution_count": 168,
     "metadata": {},
     "output_type": "execute_result"
    }
   ],
   "source": [
    "b_vsplit = np.vsplit(b, 2) # 첫번째 축을 기준으로 2개로 분할\n",
    "b_vsplit"
   ]
  },
  {
   "cell_type": "code",
   "execution_count": 169,
   "id": "7eb43850",
   "metadata": {},
   "outputs": [
    {
     "data": {
      "text/plain": [
       "[array([[[ 0,  1,  2,  3]],\n",
       " \n",
       "        [[12, 13, 14, 15]]]),\n",
       " array([[[ 4,  5,  6,  7]],\n",
       " \n",
       "        [[16, 17, 18, 19]]]),\n",
       " array([[[ 8,  9, 10, 11]],\n",
       " \n",
       "        [[20, 21, 22, 23]]])]"
      ]
     },
     "execution_count": 169,
     "metadata": {},
     "output_type": "execute_result"
    }
   ],
   "source": [
    "b_hsplit = np.hsplit(b, 3)\n",
    "b_hsplit"
   ]
  },
  {
   "cell_type": "code",
   "execution_count": 171,
   "id": "67bfb823",
   "metadata": {},
   "outputs": [
    {
     "data": {
      "text/plain": [
       "[array([[[ 0,  1],\n",
       "         [ 4,  5],\n",
       "         [ 8,  9]],\n",
       " \n",
       "        [[12, 13],\n",
       "         [16, 17],\n",
       "         [20, 21]]]),\n",
       " array([[[ 2,  3],\n",
       "         [ 6,  7],\n",
       "         [10, 11]],\n",
       " \n",
       "        [[14, 15],\n",
       "         [18, 19],\n",
       "         [22, 23]]])]"
      ]
     },
     "execution_count": 171,
     "metadata": {},
     "output_type": "execute_result"
    }
   ],
   "source": [
    "np.dsplit(b, 2)"
   ]
  },
  {
   "cell_type": "markdown",
   "id": "2bfa4abe",
   "metadata": {},
   "source": [
    "- split(ary, 갯수나 인덱스 벡터, axis=?)\n",
    "    * axis=0 : vsplit() 동일\n",
    "    * axis=1 : hsplit() 동일\n",
    "    * axis=2 : 3차원 이상에서만 동작. dsplit() 동일\n",
    "- array_split(ary, 갯수나 인덱스 벡터, axis=?)\n",
    "    * split()과 차이점은 나눠지지 않는 정수로도 사용가능"
   ]
  },
  {
   "cell_type": "code",
   "execution_count": null,
   "id": "3bfe6a23",
   "metadata": {},
   "outputs": [],
   "source": []
  }
 ],
 "metadata": {
  "kernelspec": {
   "display_name": "Python 3 (ipykernel)",
   "language": "python",
   "name": "python3"
  },
  "language_info": {
   "codemirror_mode": {
    "name": "ipython",
    "version": 3
   },
   "file_extension": ".py",
   "mimetype": "text/x-python",
   "name": "python",
   "nbconvert_exporter": "python",
   "pygments_lexer": "ipython3",
   "version": "3.10.9"
  },
  "toc": {
   "base_numbering": 1,
   "nav_menu": {},
   "number_sections": true,
   "sideBar": true,
   "skip_h1_title": false,
   "title_cell": "Table of Contents",
   "title_sidebar": "Contents",
   "toc_cell": false,
   "toc_position": {
    "height": "calc(100% - 180px)",
    "left": "10px",
    "top": "150px",
    "width": "375px"
   },
   "toc_section_display": true,
   "toc_window_display": true
  }
 },
 "nbformat": 4,
 "nbformat_minor": 5
}
