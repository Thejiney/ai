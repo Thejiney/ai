{
 "cells": [
  {
   "cell_type": "markdown",
   "id": "4abbfa9d",
   "metadata": {},
   "source": [
    "<b><font color=\"red\" size=\"6\">ch14. 웹데이터수집</font></b>\n",
    "# 1절. BeautifulSoup과 parser\n",
    "pip install bs4 아나콘다를 설치하면 자동 설치되는 패키지 7500개에 포함\n",
    "- 공식 사이트\n",
    "▪ https://www.crummy.com/software/BeautifulSoup/\n",
    "-Documentation\n",
    "▪ https://www.crummy.com/software/BeautifulSoup/bs4/doc/"
   ]
  },
  {
   "cell_type": "code",
   "execution_count": 3,
   "id": "065aafd5",
   "metadata": {},
   "outputs": [],
   "source": [
    "import requests\n",
    "from requests_file import FileAdapter"
   ]
  },
  {
   "cell_type": "code",
   "execution_count": 4,
   "id": "805d9622",
   "metadata": {},
   "outputs": [
    {
     "data": {
      "text/plain": [
       "<Response [200]>"
      ]
     },
     "execution_count": 4,
     "metadata": {},
     "output_type": "execute_result"
    }
   ],
   "source": [
    "s = requests.Session() # HTTP 요청관리를 위한 세션 객체\n",
    "s.mount(\"file://\", FileAdapter())\n",
    "response = s.get('file:///ai/source/07_python/ch14_sample.html')\n",
    "response"
   ]
  },
  {
   "cell_type": "code",
   "execution_count": 5,
   "id": "6d725665",
   "metadata": {},
   "outputs": [
    {
     "data": {
      "text/plain": [
       "b'<!<!DOCTYPE html>\\r\\n<html lang=\"ko\" xmlns=\"http://www.w3.org/1999/xhtml\">\\r\\n<head>\\r\\n  <meta charset=\"UTF-8\" />\\r\\n  <script>\\r\\n    \\r\\n  </script>\\r\\n</head>\\r\\n<body>\\r\\n  <h1 class=\"greeting css\" id=\"text\">Hello, CSS</h1>\\r\\n  <h1 class=\"css\">Hi, CSS</h1>\\r\\n  <div id=\"subject\">subject \\xec\\x84\\xa0\\xed\\x83\\x9d\\xec\\x9e\\x90 \\xec\\x95\\x88\\xec\\x9d\\x98 \\xeb\\x82\\xb4\\xec\\x9a\\xa9</div>\\r\\n  <p>CSS \\xec\\x84\\xa0\\xed\\x83\\x9d\\xec\\x9e\\x90\\xeb\\x8a\\x94 \\xeb\\x8b\\xa4\\xec\\x96\\x91\\xed\\x95\\x9c \\xea\\xb3\\xb3\\xec\\x97\\x90\\xec\\x84\\x9c \\xed\\x99\\x9c\\xec\\x9a\\xa9</p>\\r\\n  <div class=\"contents\">\\r\\n    \\xec\\x84\\xa0\\xed\\x83\\x9d\\xec\\x9e\\x90\\xeb\\xa5\\xbc \\xec\\x96\\xb4\\xeb\\x96\\xbb\\xea\\xb2\\x8c \\xec\\x9e\\x91\\xec\\x84\\xb1\\xed\\x95\\x98\\xeb\\x8a\\x90\\xeb\\x83\\x90\\xec\\x97\\x90 \\xeb\\x94\\xb0\\xeb\\x9d\\xbc\\r\\n    <span>\\xeb\\x8b\\xa4\\xeb\\xa5\\xb8<b>\\xec\\x9a\\x94\\xec\\x86\\x8c\\xea\\xb0\\x80 \\xeb\\xb0\\x98\\xed\\x99\\x98</b></span>\\xeb\\x90\\xa9\\xeb\\x8b\\x88\\xeb\\x8b\\xa4\\r\\n  </div>\\r\\n  <div>CSS \\xec\\x84\\xa0\\xed\\x83\\x9d\\xec\\x9e\\x90\\xeb\\x8a\\x94 \\xeb\\x8b\\xa4\\xec\\x96\\x91\\xed\\x95\\x9c \\xea\\xb3\\xb3\\xec\\x97\\x90 <b>\\xed\\x99\\x9c\\xec\\x9a\\xa9</b>\\xeb\\x90\\xa9\\xeb\\x8b\\x88\\xeb\\x8b\\xa4</div>\\r\\n</body>\\r\\n</html>'"
      ]
     },
     "execution_count": 5,
     "metadata": {},
     "output_type": "execute_result"
    }
   ],
   "source": [
    "ex = response.content\n",
    "ex"
   ]
  },
  {
   "cell_type": "code",
   "execution_count": 6,
   "id": "3b27cedb",
   "metadata": {},
   "outputs": [
    {
     "data": {
      "text/plain": [
       "'<!<!DOCTYPE html>\\r\\n<html lang=\"ko\" xmlns=\"http://www.w3.org/1999/xhtml\">\\r\\n<head>\\r\\n  <meta charset=\"UTF-8\" />\\r\\n  <script>\\r\\n    \\r\\n  </script>\\r\\n</head>\\r\\n<body>\\r\\n  <h1 class=\"greeting css\" id=\"text\">Hello, CSS</h1>\\r\\n  <h1 class=\"css\">Hi, CSS</h1>\\r\\n  <div id=\"subject\">subject 선택자 안의 내용</div>\\r\\n  <p>CSS 선택자는 다양한 곳에서 활용</p>\\r\\n  <div class=\"contents\">\\r\\n    선택자를 어떻게 작성하느냐에 따라\\r\\n    <span>다른<b>요소가 반환</b></span>됩니다\\r\\n  </div>\\r\\n  <div>CSS 선택자는 다양한 곳에 <b>활용</b>됩니다</div>\\r\\n</body>\\r\\n</html>'"
      ]
     },
     "execution_count": 6,
     "metadata": {},
     "output_type": "execute_result"
    }
   ],
   "source": [
    "response.content.decode('utf-8')"
   ]
  },
  {
   "cell_type": "code",
   "execution_count": 7,
   "id": "12c412f6",
   "metadata": {},
   "outputs": [
    {
     "data": {
      "text/plain": [
       "'<!<!DOCTYPE html>\\r\\n<html lang=\"ko\" xmlns=\"http://www.w3.org/1999/xhtml\">\\r\\n<head>\\r\\n  <meta charset=\"UTF-8\" />\\r\\n  <script>\\r\\n    \\r\\n  </script>\\r\\n</head>\\r\\n<body>\\r\\n  <h1 class=\"greeting css\" id=\"text\">Hello, CSS</h1>\\r\\n  <h1 class=\"css\">Hi, CSS</h1>\\r\\n  <div id=\"subject\">subject 선택자 안의 내용</div>\\r\\n  <p>CSS 선택자는 다양한 곳에서 활용</p>\\r\\n  <div class=\"contents\">\\r\\n    선택자를 어떻게 작성하느냐에 따라\\r\\n    <span>다른<b>요소가 반환</b></span>됩니다\\r\\n  </div>\\r\\n  <div>CSS 선택자는 다양한 곳에 <b>활용</b>됩니다</div>\\r\\n</body>\\r\\n</html>'"
      ]
     },
     "execution_count": 7,
     "metadata": {},
     "output_type": "execute_result"
    }
   ],
   "source": [
    "response.text"
   ]
  },
  {
   "cell_type": "code",
   "execution_count": 9,
   "id": "ec2e15f1",
   "metadata": {},
   "outputs": [],
   "source": [
    "# html 파씽\n",
    "from bs4 import BeautifulSoup\n",
    "soup = BeautifulSoup(response.content, # response.text\n",
    "                     \"html.parser\")\n",
    "# soup"
   ]
  },
  {
   "cell_type": "code",
   "execution_count": 16,
   "id": "c40dbda0",
   "metadata": {},
   "outputs": [
    {
     "name": "stdout",
     "output_type": "stream",
     "text": [
      "el : <h1 class=\"greeting css\" id=\"text\">Hello, CSS</h1>\n",
      "el.text : Hello, CSS\n",
      "el.string : Hello, CSS\n",
      "el의 속성들 : {'class': ['greeting', 'css'], 'id': 'text'}\n",
      "el의 class 속성 ['greeting', 'css']\n",
      "el의 name : h1\n"
     ]
    }
   ],
   "source": [
    "# soup.select_one('선택자') : 해당 선택자 처음 하나만\n",
    "el = soup.select_one('h1') # 처음 나오는 h1태그 하나만\n",
    "print('el :', el)\n",
    "print('el.text :', el.text)\n",
    "print('el.string :', el.string)\n",
    "print('el의 속성들 :', el.attrs)\n",
    "print('el의 class 속성', el.attrs['class']) # class 속성은 하나라도 list로 생성\n",
    "print('el의 name :', el.name)"
   ]
  },
  {
   "cell_type": "code",
   "execution_count": 26,
   "id": "0f10965e",
   "metadata": {},
   "outputs": [
    {
     "name": "stdout",
     "output_type": "stream",
     "text": [
      "el : [<h1 class=\"greeting css\" id=\"text\">Hello, CSS</h1>, <h1 class=\"css\">Hi, CSS</h1>]\n",
      "el들의 text : ['Hello, CSS', 'Hi, CSS']\n",
      "el들의 string : ['Hello, CSS', 'Hi, CSS']\n",
      "el들의 속성들 : [{'class': ['greeting', 'css'], 'id': 'text'}, {'class': ['css']}]\n",
      "el들의 class 속성 : [['greeting', 'css'], ['css']]\n"
     ]
    }
   ],
   "source": [
    "# soup.select('선택자') : 해당 선택자 모든 엘리먼트를 리스트로\n",
    "el = soup.select('h1')\n",
    "print('el :', el)\n",
    "print('el들의 text :',[e.text for e in el])\n",
    "print('el들의 string :',[e.string for e in el])\n",
    "print('el들의 속성들 :',[e.attrs for e in el])\n",
    "print('el들의 class 속성 :',[e.attrs['class'] for e in el])"
   ]
  },
  {
   "cell_type": "code",
   "execution_count": 41,
   "id": "d4702917",
   "metadata": {},
   "outputs": [
    {
     "name": "stdout",
     "output_type": "stream",
     "text": [
      "모든 h1, span태그(select) : \n",
      "[<h1 class=\"greeting css\" id=\"text\">Hello, CSS</h1>, <h1 class=\"css\">Hi, CSS</h1>, <span>다른<b>요소가 반환</b></span>]\n",
      "모든 h1, span태그(find_ all) :\n",
      "[<h1 class=\"greeting css\" id=\"text\">Hello, CSS</h1>, <h1 class=\"css\">Hi, CSS</h1>]\n",
      "select_one :\n",
      "<h1 class=\"greeting css\" id=\"text\">Hello, CSS</h1>\n",
      "find : \n",
      "<h1 class=\"greeting css\" id=\"text\">Hello, CSS</h1>\n",
      "find : \n",
      "[]\n",
      "find : \n",
      "None\n"
     ]
    }
   ],
   "source": [
    "# select(선택자)와 find_all(태그)\n",
    "print('모든 h1, span태그(select) : ', soup.select('h1.css, span'), sep='\\n')\n",
    "print('모든 h1, span태그(find_ all) :', soup.find_all(['h1','span'],\n",
    "                                                 class_=['css']), sep='\\n')\n",
    "\n",
    "# select_one(선택자)와 find(태그, 속성)\n",
    "print('select_one :', soup.select_one('h1.css'), sep='\\n')\n",
    "print('find : ', soup.find('h1', class_='css'), sep='\\n')\n",
    "\n",
    "print('find : ', soup.find_all('a', class_='css'), sep='\\n')\n",
    "print('find : ', soup.find('a', class_='css'), sep='\\n')"
   ]
  },
  {
   "cell_type": "markdown",
   "id": "3502176b",
   "metadata": {},
   "source": [
    "# 2절. 정적 웹 데이터 수집(정적 웹크롤링)\n",
    "\n",
    "## 2.1 JSON파일 - request모듈(get) / urllib.request 모듈(urlopen)"
   ]
  },
  {
   "cell_type": "code",
   "execution_count": 46,
   "id": "7d29528c",
   "metadata": {},
   "outputs": [],
   "source": [
    "# 크롤링 허용범위는 사이트마다 ~/robots.txt에서 확인할 수 있습니다.\n",
    "#     User-agent: 모든 크롤링을 허용(*), 지침을 적용할 크롤러를 지정\n",
    "#     Allow, Disallow: 크롤링을 제한할 경로"
   ]
  },
  {
   "cell_type": "code",
   "execution_count": 45,
   "id": "22a01b01",
   "metadata": {},
   "outputs": [
    {
     "data": {
      "text/plain": [
       "(<Response [200]>, 200)"
      ]
     },
     "execution_count": 45,
     "metadata": {},
     "output_type": "execute_result"
    }
   ],
   "source": [
    "# 방법1\n",
    "import requests\n",
    "response = requests.get('http://api.github.com')\n",
    "response, response.status_code"
   ]
  },
  {
   "cell_type": "code",
   "execution_count": 47,
   "id": "a498c539",
   "metadata": {},
   "outputs": [
    {
     "data": {
      "text/plain": [
       "b'{\"current_user_url\":\"https://api.github.com/user\",\"current_user_authorizations_html_url\":\"https://github.com/settings/connections/applications{/client_id}\",\"authorizations_url\":\"https://api.github.com/authorizations\",\"code_search_url\":\"https://api.github.com/search/code?q={query}{&page,per_page,sort,order}\",\"commit_search_url\":\"https://api.github.com/search/commits?q={query}{&page,per_page,sort,order}\",\"emails_url\":\"https://api.github.com/user/emails\",\"emojis_url\":\"https://api.github.com/emojis\",\"events_url\":\"https://api.github.com/events\",\"feeds_url\":\"https://api.github.com/feeds\",\"followers_url\":\"https://api.github.com/user/followers\",\"following_url\":\"https://api.github.com/user/following{/target}\",\"gists_url\":\"https://api.github.com/gists{/gist_id}\",\"hub_url\":\"https://api.github.com/hub\",\"issue_search_url\":\"https://api.github.com/search/issues?q={query}{&page,per_page,sort,order}\",\"issues_url\":\"https://api.github.com/issues\",\"keys_url\":\"https://api.github.com/user/keys\",\"label_search_url\":\"https://api.github.com/search/labels?q={query}&repository_id={repository_id}{&page,per_page}\",\"notifications_url\":\"https://api.github.com/notifications\",\"organization_url\":\"https://api.github.com/orgs/{org}\",\"organization_repositories_url\":\"https://api.github.com/orgs/{org}/repos{?type,page,per_page,sort}\",\"organization_teams_url\":\"https://api.github.com/orgs/{org}/teams\",\"public_gists_url\":\"https://api.github.com/gists/public\",\"rate_limit_url\":\"https://api.github.com/rate_limit\",\"repository_url\":\"https://api.github.com/repos/{owner}/{repo}\",\"repository_search_url\":\"https://api.github.com/search/repositories?q={query}{&page,per_page,sort,order}\",\"current_user_repositories_url\":\"https://api.github.com/user/repos{?type,page,per_page,sort}\",\"starred_url\":\"https://api.github.com/user/starred{/owner}{/repo}\",\"starred_gists_url\":\"https://api.github.com/gists/starred\",\"topic_search_url\":\"https://api.github.com/search/topics?q={query}{&page,per_page}\",\"user_url\":\"https://api.github.com/users/{user}\",\"user_organizations_url\":\"https://api.github.com/user/orgs\",\"user_repositories_url\":\"https://api.github.com/users/{user}/repos{?type,page,per_page,sort}\",\"user_search_url\":\"https://api.github.com/search/users?q={query}{&page,per_page,sort,order}\"}'"
      ]
     },
     "execution_count": 47,
     "metadata": {},
     "output_type": "execute_result"
    }
   ],
   "source": [
    "response.content # response.text"
   ]
  },
  {
   "cell_type": "code",
   "execution_count": 48,
   "id": "d73a82f8",
   "metadata": {},
   "outputs": [
    {
     "data": {
      "text/plain": [
       "dict"
      ]
     },
     "execution_count": 48,
     "metadata": {},
     "output_type": "execute_result"
    }
   ],
   "source": [
    "jsondata = response.json()\n",
    "type(jsondata)"
   ]
  },
  {
   "cell_type": "code",
   "execution_count": 49,
   "id": "7078ec46",
   "metadata": {},
   "outputs": [
    {
     "data": {
      "text/plain": [
       "200"
      ]
     },
     "execution_count": 49,
     "metadata": {},
     "output_type": "execute_result"
    }
   ],
   "source": [
    "# 방법2 \n",
    "from urllib.request import urlopen\n",
    "response = urlopen('http://api.github.com')\n",
    "response.status"
   ]
  },
  {
   "cell_type": "markdown",
   "id": "6fe3e4dd",
   "metadata": {},
   "source": [
    "## 2.2 BeautifulSoup 모듈을 활용 html 웹 데이터 수집\n",
    "### 1) 환율정보 가져오기 (네이버증권 > 시장지표)\n",
    "- https://finance.naver.com/marketindex/"
   ]
  },
  {
   "cell_type": "code",
   "execution_count": 66,
   "id": "e53bfcfc",
   "metadata": {},
   "outputs": [],
   "source": [
    "# 방법1\n",
    "import requests\n",
    "from bs4 import BeautifulSoup\n",
    "url = 'https://finance.naver.com/marketindex/'\n",
    "response = requests.get(url)\n",
    "soup = BeautifulSoup(response.text, 'html.parser')"
   ]
  },
  {
   "cell_type": "code",
   "execution_count": 67,
   "id": "21796c0c",
   "metadata": {},
   "outputs": [],
   "source": [
    "# 방법2\n",
    "from urllib.request import urlopen\n",
    "url = 'https://finance.naver.com/marketindex/'\n",
    "response = urlopen(url)\n",
    "soup = BeautifulSoup(response, 'html.parser')"
   ]
  },
  {
   "cell_type": "code",
   "execution_count": 68,
   "id": "8044ee7b",
   "metadata": {},
   "outputs": [
    {
     "data": {
      "text/plain": [
       "[1419.0,\n",
       " 946.41,\n",
       " 1500.17,\n",
       " 195.36,\n",
       " 150.44,\n",
       " 1.06,\n",
       " 1.28,\n",
       " 105.7,\n",
       " 68.3,\n",
       " 1644.05,\n",
       " 2648.4,\n",
       " 120302.62]"
      ]
     },
     "execution_count": 68,
     "metadata": {},
     "output_type": "execute_result"
    }
   ],
   "source": [
    "price = soup.select('div.head_info > span.value')\n",
    "[round(float(''.join(p.text.split(','))),2) for p in price]\n",
    "[round(float(p.text.replace(',','')),2) for p in price]"
   ]
  },
  {
   "cell_type": "code",
   "execution_count": 71,
   "id": "1bdaf809",
   "metadata": {},
   "outputs": [
    {
     "name": "stdout",
     "output_type": "stream",
     "text": [
      "미국 USD\t일본 JPY(100엔)\t유럽연합 EUR\t중국 CNY\t달러/일본 엔\t유로/달러\t영국 파운드/달러\t달러인덱스\tWTI\t휘발유\t국제 금\t국내 금\t"
     ]
    }
   ],
   "source": [
    "title = soup.select('h3.h_lst > span.blind')\n",
    "for t in title:\n",
    "    print(t.text, end='\\t')"
   ]
  },
  {
   "cell_type": "code",
   "execution_count": 74,
   "id": "ca533739",
   "metadata": {},
   "outputs": [
    {
     "data": {
      "text/plain": [
       "['원', '원', '원', '원', '엔', '달러', '달러', '', '달러', '원', '달러', '원']"
      ]
     },
     "execution_count": 74,
     "metadata": {},
     "output_type": "execute_result"
    }
   ],
   "source": [
    "unit = soup.select('div.head_info > span > span.blind')\n",
    "unit = [u.text for u in unit]\n",
    "unit.insert(7, '')\n",
    "unit"
   ]
  },
  {
   "cell_type": "code",
   "execution_count": 76,
   "id": "aba966ee",
   "metadata": {},
   "outputs": [
    {
     "name": "stdout",
     "output_type": "stream",
     "text": [
      "상승\t상승\t상승\t상승\t하락\t상승\t상승\t하락\t하락\t상승\t하락\t상승\t"
     ]
    }
   ],
   "source": [
    "status = soup.select('div.head_info > span.blind')\n",
    "for idx in range(len(status)):\n",
    "    print(status[idx].text, end='\\t')"
   ]
  },
  {
   "cell_type": "code",
   "execution_count": 77,
   "id": "a04e0d61",
   "metadata": {},
   "outputs": [
    {
     "data": {
      "text/plain": [
       "(12, 12, 12, 12)"
      ]
     },
     "execution_count": 77,
     "metadata": {},
     "output_type": "execute_result"
    }
   ],
   "source": [
    "len(title), len(price), len(unit), len(status)"
   ]
  },
  {
   "cell_type": "code",
   "execution_count": 79,
   "id": "35a001e0",
   "metadata": {},
   "outputs": [
    {
     "name": "stdout",
     "output_type": "stream",
     "text": [
      "미국 USD : 1,419.00 원 - 상승\n",
      "일본 JPY(100엔) : 946.41 원 - 상승\n",
      "유럽연합 EUR : 1,500.17 원 - 상승\n",
      "중국 CNY : 195.36 원 - 상승\n",
      "달러/일본 엔 : 150.4400 엔 - 하락\n",
      "유로/달러 : 1.0575 달러 - 상승\n",
      "영국 파운드/달러 : 1.2758 달러 - 상승\n",
      "달러인덱스 : 105.7000  - 하락\n",
      "WTI : 68.3 달러 - 하락\n",
      "휘발유 : 1644.05 원 - 상승\n",
      "국제 금 : 2648.4 달러 - 하락\n",
      "국내 금 : 120302.62 원 - 상승\n"
     ]
    }
   ],
   "source": [
    "for idx in range(len(title)):\n",
    "    print(\"{} : {} {} - {}\".format(title[idx].text,\n",
    "                                 price[idx].text,\n",
    "                                 unit[idx],\n",
    "                                status[idx].text))"
   ]
  },
  {
   "cell_type": "code",
   "execution_count": 80,
   "id": "de428194",
   "metadata": {},
   "outputs": [
    {
     "name": "stdout",
     "output_type": "stream",
     "text": [
      "미국 USD : 1,419.00원 - 상승\n",
      "일본 JPY(100엔) : 946.41원 - 상승\n",
      "유럽연합 EUR : 1,500.17원 - 상승\n",
      "중국 CNY : 195.36원 - 상승\n",
      "달러/일본 엔 : 150.4400엔 - 하락\n",
      "유로/달러 : 1.0575달러 - 상승\n",
      "영국 파운드/달러 : 1.2758달러 - 상승\n",
      "달러인덱스 : 105.7000 - 하락\n",
      "WTI : 68.3달러 - 하락\n",
      "휘발유 : 1644.05원 - 상승\n",
      "국제 금 : 2648.4달러 - 하락\n",
      "국내 금 : 120302.62원 - 상승\n"
     ]
    }
   ],
   "source": [
    "for t, p, u, s in zip(title, price, unit, status):\n",
    "    print(\"{} : {}{} - {}\".format(t.text, p.text, u, s.text))"
   ]
  },
  {
   "cell_type": "markdown",
   "id": "597370e6",
   "metadata": {},
   "source": [
    "### 2) 이번주 로또 번호 출력\n",
    "- https://dhlottery.co.kr/gameResult.do?method=byWin\n",
    "```\n",
    "1148회 (2024년11월30일 추첨)\n",
    "당첨번호 : [3, 6, 13, 15, 16, 22]\n",
    "보너스번호 : 40\n",
    "```"
   ]
  },
  {
   "cell_type": "code",
   "execution_count": 87,
   "id": "c18a6503",
   "metadata": {},
   "outputs": [],
   "source": [
    "# 방법1\n",
    "import requests\n",
    "response = requests.get('https://dhlottery.co.kr/gameResult.do?method=byWin')\n",
    "soup = BeautifulSoup(response.text, 'html.parser')"
   ]
  },
  {
   "cell_type": "code",
   "execution_count": 98,
   "id": "258c24ed",
   "metadata": {},
   "outputs": [
    {
     "data": {
      "text/plain": [
       "'1148회'"
      ]
     },
     "execution_count": 98,
     "metadata": {},
     "output_type": "execute_result"
    }
   ],
   "source": [
    "title=soup.select_one('div.win_result > h4 > strong')\n",
    "title=title.text\n",
    "title"
   ]
  },
  {
   "cell_type": "code",
   "execution_count": 135,
   "id": "632993cb",
   "metadata": {},
   "outputs": [
    {
     "data": {
      "text/plain": [
       "'1148회'"
      ]
     },
     "execution_count": 135,
     "metadata": {},
     "output_type": "execute_result"
    }
   ],
   "source": [
    "winresult=soup.find('div',class_='win_result')\n",
    "title = winresult.find('strong').text\n",
    "title"
   ]
  },
  {
   "cell_type": "code",
   "execution_count": 101,
   "id": "94dae1a9",
   "metadata": {},
   "outputs": [
    {
     "data": {
      "text/plain": [
       "'(2024년 11월 30일 추첨)'"
      ]
     },
     "execution_count": 101,
     "metadata": {},
     "output_type": "execute_result"
    }
   ],
   "source": [
    "subtitle=soup.select_one('p.desc')\n",
    "subtitle = subtitle.text\n",
    "subtitle"
   ]
  },
  {
   "cell_type": "code",
   "execution_count": 139,
   "id": "6cce9fe4",
   "metadata": {},
   "outputs": [
    {
     "data": {
      "text/plain": [
       "'(2024년 11월 30일 추첨)'"
      ]
     },
     "execution_count": 139,
     "metadata": {},
     "output_type": "execute_result"
    }
   ],
   "source": [
    "presult=soup.find('p',class_='desc')\n",
    "subtitle=presult.text\n",
    "subtitle"
   ]
  },
  {
   "cell_type": "code",
   "execution_count": 119,
   "id": "6ae80c8e",
   "metadata": {},
   "outputs": [
    {
     "data": {
      "text/plain": [
       "[3, 6, 13, 15, 16, 22, 32]"
      ]
     },
     "execution_count": 119,
     "metadata": {},
     "output_type": "execute_result"
    }
   ],
   "source": [
    "rightnum=soup.select('div.num > p > span')\n",
    "rightnum=[int(rn.text) for rn in rightnum]\n",
    "rightnum"
   ]
  },
  {
   "cell_type": "code",
   "execution_count": 123,
   "id": "18bbba70",
   "metadata": {},
   "outputs": [
    {
     "name": "stdout",
     "output_type": "stream",
     "text": [
      "1148회 (2024년 11월 30일 추첨)\n",
      "당첨번호 : [3, 6, 13, 15, 16, 22]\n",
      "보너스번호 : 32\n"
     ]
    }
   ],
   "source": [
    "print(title,subtitle)\n",
    "print('당첨번호 :',rightnum[:-1])\n",
    "print('보너스번호 :',rightnum[-1])"
   ]
  },
  {
   "cell_type": "markdown",
   "id": "7a9d6131",
   "metadata": {},
   "source": [
    "### 3) 다음 검색 리스트\n",
    "```\n",
    "no title                                                       href\n",
    "0  \"비트코인 8800만원에 주운 사람이 승자\"…한밤 불태운 코인 투자자들    http://v.daum.net/v/20241204113454203\n",
    "1  [속보] 비상계엄 선포에 비트코인 '쇼크'…30% 급락                  http://v.daum.net/v/20241203231205730\n",
    "2  10만 달러 찍은 비트코인… 더 오를까, 내릴까                       http://v.daum.net/v/20241206151520972\n",
    "```"
   ]
  },
  {
   "cell_type": "code",
   "execution_count": 177,
   "id": "f545b694",
   "metadata": {},
   "outputs": [
    {
     "data": {
      "text/html": [
       "<div>\n",
       "<style scoped>\n",
       "    .dataframe tbody tr th:only-of-type {\n",
       "        vertical-align: middle;\n",
       "    }\n",
       "\n",
       "    .dataframe tbody tr th {\n",
       "        vertical-align: top;\n",
       "    }\n",
       "\n",
       "    .dataframe thead th {\n",
       "        text-align: right;\n",
       "    }\n",
       "</style>\n",
       "<table border=\"1\" class=\"dataframe\">\n",
       "  <thead>\n",
       "    <tr style=\"text-align: right;\">\n",
       "      <th></th>\n",
       "      <th>no</th>\n",
       "      <th>title</th>\n",
       "      <th>link</th>\n",
       "    </tr>\n",
       "  </thead>\n",
       "  <tbody>\n",
       "    <tr>\n",
       "      <th>0</th>\n",
       "      <td>0</td>\n",
       "      <td>\"비트코인 8800만원에 주운 사람이 승자\"…한밤 불태운 코인 투자자들</td>\n",
       "      <td>http://v.daum.net/v/20241204113454203</td>\n",
       "    </tr>\n",
       "    <tr>\n",
       "      <th>1</th>\n",
       "      <td>1</td>\n",
       "      <td>[속보] 비상계엄 선포에 비트코인 '쇼크'…30% 급락</td>\n",
       "      <td>http://v.daum.net/v/20241203231205730</td>\n",
       "    </tr>\n",
       "    <tr>\n",
       "      <th>2</th>\n",
       "      <td>2</td>\n",
       "      <td>10만 달러 찍은 비트코인… 더 오를까, 내릴까</td>\n",
       "      <td>http://v.daum.net/v/20241206151520972</td>\n",
       "    </tr>\n",
       "    <tr>\n",
       "      <th>3</th>\n",
       "      <td>3</td>\n",
       "      <td>비트코인 갑론을박...\"20만달러 vs 단기조정\"</td>\n",
       "      <td>http://v.daum.net/v/20241206103251287</td>\n",
       "    </tr>\n",
       "    <tr>\n",
       "      <th>4</th>\n",
       "      <td>4</td>\n",
       "      <td>'10만 달러' 넘어선 비트코인...\"고점 아직\"vs\"과열\"</td>\n",
       "      <td>http://v.daum.net/v/20241206135550190</td>\n",
       "    </tr>\n",
       "    <tr>\n",
       "      <th>5</th>\n",
       "      <td>5</td>\n",
       "      <td>비트코인, 다시 10만 달러 붕괴…향후 전망은?</td>\n",
       "      <td>http://v.daum.net/v/20241206090709632</td>\n",
       "    </tr>\n",
       "    <tr>\n",
       "      <th>6</th>\n",
       "      <td>6</td>\n",
       "      <td>'10만 달러' 넘은 비트코인, 어디까지 갈까 [글로벌 뉴스픽]</td>\n",
       "      <td>http://v.daum.net/v/20241206062101852</td>\n",
       "    </tr>\n",
       "    <tr>\n",
       "      <th>7</th>\n",
       "      <td>7</td>\n",
       "      <td>‘10만 돌파’ 비트코인, 금 대체한다...번스타인 주장</td>\n",
       "      <td>http://v.daum.net/v/20241206163907954</td>\n",
       "    </tr>\n",
       "    <tr>\n",
       "      <th>8</th>\n",
       "      <td>8</td>\n",
       "      <td>비트코인, 세계 7위 자산 등극[엠블록레터]</td>\n",
       "      <td>http://v.daum.net/v/20241206161800233</td>\n",
       "    </tr>\n",
       "    <tr>\n",
       "      <th>9</th>\n",
       "      <td>9</td>\n",
       "      <td>꿈의 '10만달러' 넘긴 비트코인…얼마나 더 오를까</td>\n",
       "      <td>http://v.daum.net/v/20241206070009297</td>\n",
       "    </tr>\n",
       "  </tbody>\n",
       "</table>\n",
       "</div>"
      ],
      "text/plain": [
       "   no                                      title  \\\n",
       "0   0   \"비트코인 8800만원에 주운 사람이 승자\"…한밤 불태운 코인 투자자들    \n",
       "1   1            [속보] 비상계엄 선포에 비트코인 '쇼크'…30% 급락    \n",
       "2   2                10만 달러 찍은 비트코인… 더 오를까, 내릴까    \n",
       "3   3               비트코인 갑론을박...\"20만달러 vs 단기조정\"    \n",
       "4   4         '10만 달러' 넘어선 비트코인...\"고점 아직\"vs\"과열\"    \n",
       "5   5                비트코인, 다시 10만 달러 붕괴…향후 전망은?    \n",
       "6   6       '10만 달러' 넘은 비트코인, 어디까지 갈까 [글로벌 뉴스픽]    \n",
       "7   7           ‘10만 돌파’ 비트코인, 금 대체한다...번스타인 주장    \n",
       "8   8                  비트코인, 세계 7위 자산 등극[엠블록레터]    \n",
       "9   9              꿈의 '10만달러' 넘긴 비트코인…얼마나 더 오를까    \n",
       "\n",
       "                                    link  \n",
       "0  http://v.daum.net/v/20241204113454203  \n",
       "1  http://v.daum.net/v/20241203231205730  \n",
       "2  http://v.daum.net/v/20241206151520972  \n",
       "3  http://v.daum.net/v/20241206103251287  \n",
       "4  http://v.daum.net/v/20241206135550190  \n",
       "5  http://v.daum.net/v/20241206090709632  \n",
       "6  http://v.daum.net/v/20241206062101852  \n",
       "7  http://v.daum.net/v/20241206163907954  \n",
       "8  http://v.daum.net/v/20241206161800233  \n",
       "9  http://v.daum.net/v/20241206070009297  "
      ]
     },
     "execution_count": 177,
     "metadata": {},
     "output_type": "execute_result"
    }
   ],
   "source": [
    "import requests\n",
    "from bs4 import BeautifulSoup\n",
    "url = 'https://search.daum.net/search?nil_suggest=btn&w=news&DA=PGD&cluster=y&q=%EB%B9%84%ED%8A%B8%EC%BD%94%EC%9D%B8&p=1'\n",
    "response = requests.get(url)\n",
    "soup = BeautifulSoup(response.text, 'html.parser')\n",
    "items_find_list=[] # 검색한 결과를 담을 dict 리스트\n",
    "items_el = soup.select('div.item-title > strong.tit-g > a')\n",
    "for idx, item in enumerate(items_el):\n",
    "    items_find_list.append({'no':idx,\n",
    "                            'title':item.text,\n",
    "                            'link':item.attrs['href']\n",
    "                           })\n",
    "import pandas as pd\n",
    "pd.DataFrame(items_find_list)"
   ]
  },
  {
   "cell_type": "code",
   "execution_count": 180,
   "id": "713d0b26",
   "metadata": {
    "scrolled": true
   },
   "outputs": [
    {
     "data": {
      "text/html": [
       "<div>\n",
       "<style scoped>\n",
       "    .dataframe tbody tr th:only-of-type {\n",
       "        vertical-align: middle;\n",
       "    }\n",
       "\n",
       "    .dataframe tbody tr th {\n",
       "        vertical-align: top;\n",
       "    }\n",
       "\n",
       "    .dataframe thead th {\n",
       "        text-align: right;\n",
       "    }\n",
       "</style>\n",
       "<table border=\"1\" class=\"dataframe\">\n",
       "  <thead>\n",
       "    <tr style=\"text-align: right;\">\n",
       "      <th></th>\n",
       "      <th>no</th>\n",
       "      <th>title</th>\n",
       "      <th>link</th>\n",
       "    </tr>\n",
       "  </thead>\n",
       "  <tbody>\n",
       "    <tr>\n",
       "      <th>0</th>\n",
       "      <td>0</td>\n",
       "      <td>'10만 달러' 넘어선 비트코인...\"고점 아직\"vs\"과열\"</td>\n",
       "      <td>http://v.daum.net/v/20241206135550190</td>\n",
       "    </tr>\n",
       "    <tr>\n",
       "      <th>1</th>\n",
       "      <td>1</td>\n",
       "      <td>트럼프 “비트코인 10만 달러, 천만에요”</td>\n",
       "      <td>http://v.daum.net/v/20241205230018960</td>\n",
       "    </tr>\n",
       "    <tr>\n",
       "      <th>2</th>\n",
       "      <td>2</td>\n",
       "      <td>비트코인, 차익 실현 매물에 5% 급락…1억3700만원대</td>\n",
       "      <td>http://v.daum.net/v/20241206092917378</td>\n",
       "    </tr>\n",
       "    <tr>\n",
       "      <th>3</th>\n",
       "      <td>3</td>\n",
       "      <td>비트코인 5%↑ 10만달러 돌파…급등 이유 2가지(종합2)</td>\n",
       "      <td>http://v.daum.net/v/20241205122727799</td>\n",
       "    </tr>\n",
       "    <tr>\n",
       "      <th>4</th>\n",
       "      <td>4</td>\n",
       "      <td>10만 달러 찍은 비트코인… 더 오를까, 내릴까</td>\n",
       "      <td>http://v.daum.net/v/20241206151520972</td>\n",
       "    </tr>\n",
       "    <tr>\n",
       "      <th>5</th>\n",
       "      <td>5</td>\n",
       "      <td>비트코인 갑론을박...\"20만달러 vs 단기조정\"</td>\n",
       "      <td>http://v.daum.net/v/20241206103251287</td>\n",
       "    </tr>\n",
       "    <tr>\n",
       "      <th>6</th>\n",
       "      <td>6</td>\n",
       "      <td>비트코인, 다시 10만 달러 붕괴…향후 전망은?</td>\n",
       "      <td>http://v.daum.net/v/20241206090709632</td>\n",
       "    </tr>\n",
       "    <tr>\n",
       "      <th>7</th>\n",
       "      <td>7</td>\n",
       "      <td>'10만 달러' 넘은 비트코인, 어디까지 갈까 [글로벌 뉴스픽]</td>\n",
       "      <td>http://v.daum.net/v/20241206062101852</td>\n",
       "    </tr>\n",
       "    <tr>\n",
       "      <th>8</th>\n",
       "      <td>8</td>\n",
       "      <td>‘10만 돌파’ 비트코인, 금 대체한다...번스타인 주장</td>\n",
       "      <td>http://v.daum.net/v/20241206163907954</td>\n",
       "    </tr>\n",
       "    <tr>\n",
       "      <th>9</th>\n",
       "      <td>9</td>\n",
       "      <td>비트코인, 세계 7위 자산 등극[엠블록레터]</td>\n",
       "      <td>http://v.daum.net/v/20241206161800233</td>\n",
       "    </tr>\n",
       "  </tbody>\n",
       "</table>\n",
       "</div>"
      ],
      "text/plain": [
       "   no                                  title  \\\n",
       "0   0     '10만 달러' 넘어선 비트코인...\"고점 아직\"vs\"과열\"    \n",
       "1   1               트럼프 “비트코인 10만 달러, 천만에요”    \n",
       "2   2       비트코인, 차익 실현 매물에 5% 급락…1억3700만원대    \n",
       "3   3      비트코인 5%↑ 10만달러 돌파…급등 이유 2가지(종합2)    \n",
       "4   4            10만 달러 찍은 비트코인… 더 오를까, 내릴까    \n",
       "5   5           비트코인 갑론을박...\"20만달러 vs 단기조정\"    \n",
       "6   6            비트코인, 다시 10만 달러 붕괴…향후 전망은?    \n",
       "7   7   '10만 달러' 넘은 비트코인, 어디까지 갈까 [글로벌 뉴스픽]    \n",
       "8   8       ‘10만 돌파’ 비트코인, 금 대체한다...번스타인 주장    \n",
       "9   9              비트코인, 세계 7위 자산 등극[엠블록레터]    \n",
       "\n",
       "                                    link  \n",
       "0  http://v.daum.net/v/20241206135550190  \n",
       "1  http://v.daum.net/v/20241205230018960  \n",
       "2  http://v.daum.net/v/20241206092917378  \n",
       "3  http://v.daum.net/v/20241205122727799  \n",
       "4  http://v.daum.net/v/20241206151520972  \n",
       "5  http://v.daum.net/v/20241206103251287  \n",
       "6  http://v.daum.net/v/20241206090709632  \n",
       "7  http://v.daum.net/v/20241206062101852  \n",
       "8  http://v.daum.net/v/20241206163907954  \n",
       "9  http://v.daum.net/v/20241206161800233  "
      ]
     },
     "execution_count": 180,
     "metadata": {},
     "output_type": "execute_result"
    }
   ],
   "source": [
    "import requests\n",
    "from bs4 import BeautifulSoup\n",
    "url = 'https://search.daum.net/search?nil_suggest=btn&w=news&DA=PGD&cluster=y&q=%EB%B9%84%ED%8A%B8%EC%BD%94%EC%9D%B8&p=1'\n",
    "response = requests.get(url)\n",
    "soup = BeautifulSoup(response.text, 'html.parser')\n",
    "items_find_list=[] # 검색한 결과를 2차원 리스트\n",
    "items_el = soup.select('div.item-title > strong.tit-g > a')\n",
    "for idx, item in enumerate(items_el):\n",
    "    items_find_list.append([idx, item.text, item.attrs['href']])\n",
    "# print(items_find_list)\n",
    "import pandas as pd\n",
    "pd.DataFrame(items_find_list, columns=['no','title','link'])"
   ]
  },
  {
   "cell_type": "code",
   "execution_count": 188,
   "id": "eafbc615",
   "metadata": {},
   "outputs": [
    {
     "data": {
      "text/html": [
       "<div>\n",
       "<style scoped>\n",
       "    .dataframe tbody tr th:only-of-type {\n",
       "        vertical-align: middle;\n",
       "    }\n",
       "\n",
       "    .dataframe tbody tr th {\n",
       "        vertical-align: top;\n",
       "    }\n",
       "\n",
       "    .dataframe thead th {\n",
       "        text-align: right;\n",
       "    }\n",
       "</style>\n",
       "<table border=\"1\" class=\"dataframe\">\n",
       "  <thead>\n",
       "    <tr style=\"text-align: right;\">\n",
       "      <th></th>\n",
       "      <th>no</th>\n",
       "      <th>title</th>\n",
       "      <th>link</th>\n",
       "    </tr>\n",
       "  </thead>\n",
       "  <tbody>\n",
       "    <tr>\n",
       "      <th>0</th>\n",
       "      <td>0</td>\n",
       "      <td>'10만 달러' 넘어선 비트코인...\"고점 아직\"vs\"과열\"</td>\n",
       "      <td>http://v.daum.net/v/20241206135550190</td>\n",
       "    </tr>\n",
       "    <tr>\n",
       "      <th>1</th>\n",
       "      <td>1</td>\n",
       "      <td>트럼프 “비트코인 10만 달러, 천만에요”</td>\n",
       "      <td>http://v.daum.net/v/20241205230018960</td>\n",
       "    </tr>\n",
       "    <tr>\n",
       "      <th>2</th>\n",
       "      <td>2</td>\n",
       "      <td>비트코인, 차익 실현 매물에 5% 급락…1억3700만원대</td>\n",
       "      <td>http://v.daum.net/v/20241206092917378</td>\n",
       "    </tr>\n",
       "    <tr>\n",
       "      <th>3</th>\n",
       "      <td>3</td>\n",
       "      <td>비트코인 5%↑ 10만달러 돌파…급등 이유 2가지(종합2)</td>\n",
       "      <td>http://v.daum.net/v/20241205122727799</td>\n",
       "    </tr>\n",
       "    <tr>\n",
       "      <th>4</th>\n",
       "      <td>4</td>\n",
       "      <td>10만 달러 찍은 비트코인… 더 오를까, 내릴까</td>\n",
       "      <td>http://v.daum.net/v/20241206151520972</td>\n",
       "    </tr>\n",
       "    <tr>\n",
       "      <th>5</th>\n",
       "      <td>5</td>\n",
       "      <td>비트코인 갑론을박...\"20만달러 vs 단기조정\"</td>\n",
       "      <td>http://v.daum.net/v/20241206103251287</td>\n",
       "    </tr>\n",
       "    <tr>\n",
       "      <th>6</th>\n",
       "      <td>6</td>\n",
       "      <td>비트코인, 다시 10만 달러 붕괴…향후 전망은?</td>\n",
       "      <td>http://v.daum.net/v/20241206090709632</td>\n",
       "    </tr>\n",
       "    <tr>\n",
       "      <th>7</th>\n",
       "      <td>7</td>\n",
       "      <td>'10만 달러' 넘은 비트코인, 어디까지 갈까 [글로벌 뉴스픽]</td>\n",
       "      <td>http://v.daum.net/v/20241206062101852</td>\n",
       "    </tr>\n",
       "    <tr>\n",
       "      <th>8</th>\n",
       "      <td>8</td>\n",
       "      <td>‘10만 돌파’ 비트코인, 금 대체한다...번스타인 주장</td>\n",
       "      <td>http://v.daum.net/v/20241206163907954</td>\n",
       "    </tr>\n",
       "    <tr>\n",
       "      <th>9</th>\n",
       "      <td>9</td>\n",
       "      <td>비트코인, 세계 7위 자산 등극[엠블록레터]</td>\n",
       "      <td>http://v.daum.net/v/20241206161800233</td>\n",
       "    </tr>\n",
       "  </tbody>\n",
       "</table>\n",
       "</div>"
      ],
      "text/plain": [
       "   no                                  title  \\\n",
       "0   0     '10만 달러' 넘어선 비트코인...\"고점 아직\"vs\"과열\"    \n",
       "1   1               트럼프 “비트코인 10만 달러, 천만에요”    \n",
       "2   2       비트코인, 차익 실현 매물에 5% 급락…1억3700만원대    \n",
       "3   3      비트코인 5%↑ 10만달러 돌파…급등 이유 2가지(종합2)    \n",
       "4   4            10만 달러 찍은 비트코인… 더 오를까, 내릴까    \n",
       "5   5           비트코인 갑론을박...\"20만달러 vs 단기조정\"    \n",
       "6   6            비트코인, 다시 10만 달러 붕괴…향후 전망은?    \n",
       "7   7   '10만 달러' 넘은 비트코인, 어디까지 갈까 [글로벌 뉴스픽]    \n",
       "8   8       ‘10만 돌파’ 비트코인, 금 대체한다...번스타인 주장    \n",
       "9   9              비트코인, 세계 7위 자산 등극[엠블록레터]    \n",
       "\n",
       "                                    link  \n",
       "0  http://v.daum.net/v/20241206135550190  \n",
       "1  http://v.daum.net/v/20241205230018960  \n",
       "2  http://v.daum.net/v/20241206092917378  \n",
       "3  http://v.daum.net/v/20241205122727799  \n",
       "4  http://v.daum.net/v/20241206151520972  \n",
       "5  http://v.daum.net/v/20241206103251287  \n",
       "6  http://v.daum.net/v/20241206090709632  \n",
       "7  http://v.daum.net/v/20241206062101852  \n",
       "8  http://v.daum.net/v/20241206163907954  \n",
       "9  http://v.daum.net/v/20241206161800233  "
      ]
     },
     "execution_count": 188,
     "metadata": {},
     "output_type": "execute_result"
    }
   ],
   "source": [
    "items_find_list = [] # 검색한 결과를 담을 2차원 리스트(div.item-title > strong.tit-g > a)\n",
    "item_titles =soup.find_all('div', class_='item-title')\n",
    "\n",
    "for idx, item in enumerate(item_titles):\n",
    "    strong = item.find('strong')\n",
    "    if strong:\n",
    "        a = strong.find('a')\n",
    "        items_find_list.append([idx, a.text, a.attrs['href']])\n",
    "pd.DataFrame(items_find_list, columns=['no','title','link'])"
   ]
  },
  {
   "cell_type": "code",
   "execution_count": 189,
   "id": "666e1236",
   "metadata": {},
   "outputs": [],
   "source": [
    "# 다음검색(원하는 키워드를 원하는 페이지 수)"
   ]
  },
  {
   "cell_type": "code",
   "execution_count": 221,
   "id": "39fbed69",
   "metadata": {},
   "outputs": [],
   "source": [
    "import requests\n",
    "from bs4 import BeautifulSoup\n",
    "import time\n",
    "import pandas as pd\n",
    "# print하는 함수\n",
    "def collection_list(keyword, page):\n",
    "    'keyword로 page에 Daum 검색한 결과를 출력'\n",
    "#     url = 'https://search.daum.net/search?w=news&nil_search=btn&DA=PGD&enc=utf8&cluster=y&cluster_page=1&'.format(keyword,page)\n",
    "#     response = requests.get(url)\n",
    "    url = 'https://search.daum.net/search?w=news&nil_search=btn&DA=PGD&enc=utf8&cluster=y&cluster_page=1'\n",
    "    params = {'q':keyword, 'p':page}\n",
    "    response = requests.get(url, params=params)\n",
    "    soup = BeautifulSoup(response.text, 'html.parser')\n",
    "    items_find_list = [] # 검색한 결과를 담을 2차원 리스트(div.item-title > strong.tit-g > a)\n",
    "    item_titles =soup.find_all('div', class_='item-title')\n",
    "\n",
    "    for idx, item in enumerate(item_titles):\n",
    "        strong = item.find('strong')\n",
    "        if strong:\n",
    "            a = strong.find('a')\n",
    "            items_find_list.append([(page-1)*10+idx, a.text, a.attrs['href']])\n",
    "    return items_find_list"
   ]
  },
  {
   "cell_type": "code",
   "execution_count": 222,
   "id": "5f5a7a03",
   "metadata": {},
   "outputs": [
    {
     "data": {
      "text/plain": [
       "[[0,\n",
       "  ' 56세 채시라, 흰티+청바지핏 20대 뺨쳐‥평생이 예쁘네 ',\n",
       "  'http://v.daum.net/v/20241205102113139'],\n",
       " [1, ' 50대의 흰티·청바지, 채시라 걸그룹 몸매 인증 ', 'http://v.daum.net/v/20241206020014186'],\n",
       " [2,\n",
       "  ' 채시라, 흰티+청바지 완벽 소화…50대 나이 안 믿기는 몸매 [MD★스타] ',\n",
       "  'http://v.daum.net/v/20241206162024306'],\n",
       " [3,\n",
       "  ' 이시영, 얼어죽어도 美! 폭설 속 찢어진 청바지에 돼지코 신발로 시선 강탈! ',\n",
       "  'http://v.daum.net/v/20241127170304793'],\n",
       " [4, ' 고우리 ‘청바지가 잘 어울려’ [MK포토] ', 'http://v.daum.net/v/20241205164814052'],\n",
       " [5,\n",
       "  ' ‘미스쓰리랑’ 김소연, 박상민과 ‘청바지 아가씨’ 즉석 화음 ',\n",
       "  'http://v.daum.net/v/20241129012015847'],\n",
       " [6,\n",
       "  \" 미스전남 진 이하정 '청바지가 잘 어울리는 여자' [포토] \",\n",
       "  'http://v.daum.net/v/20241205173202831'],\n",
       " [7,\n",
       "  ' 서주경, 전성기 파격 패션 “몸매 예뻐 청바지 오픈” (퍼펙트)[결정적장면] ',\n",
       "  'http://v.daum.net/v/20241128060836398'],\n",
       " [8,\n",
       "  ' 집에 굴러다니는 청바지 하나로 리사처럼 멋 내는 법 ',\n",
       "  'http://v.daum.net/v/20241127172605719'],\n",
       " [9,\n",
       "  \" [ET포토] 베이비몬스터 아현, '셔츠에 청바지면 완벽' \",\n",
       "  'http://v.daum.net/v/20241204153708872']]"
      ]
     },
     "execution_count": 222,
     "metadata": {},
     "output_type": "execute_result"
    }
   ],
   "source": [
    "collection_list('청바지',1)"
   ]
  },
  {
   "cell_type": "code",
   "execution_count": null,
   "id": "e9eaf7c6",
   "metadata": {},
   "outputs": [],
   "source": []
  }
 ],
 "metadata": {
  "kernelspec": {
   "display_name": "Python 3 (ipykernel)",
   "language": "python",
   "name": "python3"
  },
  "language_info": {
   "codemirror_mode": {
    "name": "ipython",
    "version": 3
   },
   "file_extension": ".py",
   "mimetype": "text/x-python",
   "name": "python",
   "nbconvert_exporter": "python",
   "pygments_lexer": "ipython3",
   "version": "3.10.9"
  },
  "toc": {
   "base_numbering": 1,
   "nav_menu": {},
   "number_sections": true,
   "sideBar": true,
   "skip_h1_title": false,
   "title_cell": "Table of Contents",
   "title_sidebar": "Contents",
   "toc_cell": false,
   "toc_position": {},
   "toc_section_display": true,
   "toc_window_display": false
  }
 },
 "nbformat": 4,
 "nbformat_minor": 5
}
