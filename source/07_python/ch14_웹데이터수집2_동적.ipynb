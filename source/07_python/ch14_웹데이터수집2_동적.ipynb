{
 "cells": [
  {
   "cell_type": "markdown",
   "id": "db1538e6",
   "metadata": {},
   "source": [
    "<b><font color=\"red\" size=\"6\">ch14. 웹데이터 수집</font></b>\n",
    "# 1절. Selenium을 이용한 동적 웹크롤링 문법\n",
    "- https://selenium-python.readthedocs.io/index.html\n",
    "<br>`pip install selenium`"
   ]
  },
  {
   "cell_type": "code",
   "execution_count": null,
   "id": "20e30682",
   "metadata": {},
   "outputs": [],
   "source": [
    "from selenium import webdriver\n",
    "from selenium.webdriver.common.by import By\n",
    "import time"
   ]
  },
  {
   "cell_type": "code",
   "execution_count": null,
   "id": "5b5c36f7",
   "metadata": {},
   "outputs": [],
   "source": [
    "dv = webdriver.Chrome()\n",
    "dv.get('http://python.org')\n",
    "elem = dv.find_element(By.NAME, 'q')\n",
    "elem.clear()\n",
    "elem.send_keys('pycon')"
   ]
  },
  {
   "cell_type": "code",
   "execution_count": null,
   "id": "813dab65",
   "metadata": {},
   "outputs": [],
   "source": [
    "from selenium.webdriver.common.keys import Keys\n",
    "elem.send_keys(Keys.RETURN) # enter키 효과"
   ]
  },
  {
   "cell_type": "code",
   "execution_count": null,
   "id": "a4fc3f72",
   "metadata": {},
   "outputs": [],
   "source": [
    "btn_elem = dv.find_element(By.CSS_SELECTOR, 'button#submit')\n",
    "btn_elem.click()"
   ]
  },
  {
   "cell_type": "code",
   "execution_count": null,
   "id": "c01363eb",
   "metadata": {},
   "outputs": [],
   "source": [
    "result_list = dv.find_elements(By.CSS_SELECTOR, 'li > h3 > a')\n",
    "for result in result_list:\n",
    "    print(\"%s - %s\" % (result.text, result.get_attribute('href')))"
   ]
  },
  {
   "cell_type": "code",
   "execution_count": null,
   "id": "6dff86c2",
   "metadata": {},
   "outputs": [],
   "source": [
    "from bs4 import BeautifulSoup\n",
    "soup = BeautifulSoup(dv.page_source, 'html.parser')\n",
    "result_list = soup.select('li > h3 > a')\n",
    "for result in result_list:\n",
    "    print('%s - %s' % (result.text, result.attrs['href']))"
   ]
  },
  {
   "cell_type": "code",
   "execution_count": null,
   "id": "22518ac1",
   "metadata": {},
   "outputs": [],
   "source": [
    "from urllib.parse import urlparse\n",
    "current_url = dv.current_url # 셀레니윰을 통해 접근한 현재 url\n",
    "print('현재주소 :',current_url)\n",
    "parse_url = urlparse(current_url)\n",
    "print(parse_url,parse_url.scheme, parse_url.netloc)\n",
    "domain = f'{parse_url.scheme}://{parse_url.netloc}'\n",
    "domain = '{}://{}'.format(parse_url.scheme, parse_url.netloc)\n",
    "print('도메인 :',domain)"
   ]
  },
  {
   "cell_type": "code",
   "execution_count": null,
   "id": "2706b9f0",
   "metadata": {},
   "outputs": [],
   "source": [
    "from bs4 import BeautifulSoup\n",
    "soup = BeautifulSoup(dv.page_source, 'html.parser')\n",
    "result_list = soup.select('li > h3 > a')\n",
    "for result in result_list:\n",
    "    print('%s - %s' % (result.text, domain+result.attrs['href']))"
   ]
  },
  {
   "cell_type": "code",
   "execution_count": null,
   "id": "5fcbd47d",
   "metadata": {},
   "outputs": [],
   "source": [
    "dv.close() # 브라우저 종료"
   ]
  },
  {
   "cell_type": "markdown",
   "id": "49b89a3b",
   "metadata": {},
   "source": [
    "# 2절. 동적웹크롤링 예제\n",
    "## 2-1 다음 뉴스 검색"
   ]
  },
  {
   "cell_type": "code",
   "execution_count": null,
   "id": "a4e21648",
   "metadata": {},
   "outputs": [],
   "source": [
    "from selenium import webdriver\n",
    "from selenium.webdriver.common.by import By\n",
    "from selenium.webdriver.common.keys import Keys\n",
    "import time\n",
    "driver = webdriver.Chrome()\n",
    "url = 'https://daum.net'\n",
    "driver.get(url)\n",
    "# driver.implicitly_wait(0.5) # 0.5초 요소를 찾을 때까지 대기시간\n",
    "time.sleep(0.5) # 0.5초 대기\n",
    "driver.find_element(By.CLASS_NAME, 'tf_keyword').click()\n",
    "query = input('검색할 단어는 ?')\n",
    "driver.find_element(By.CSS_SELECTOR, 'input[type=\"text\"]').send_keys(query)\n",
    "driver.find_element(By.CLASS_NAME, 'btn_ksearch').click()"
   ]
  },
  {
   "cell_type": "code",
   "execution_count": null,
   "id": "8ea165cd",
   "metadata": {},
   "outputs": [],
   "source": [
    "# 뉴스 탭 클릭\n",
    "driver.find_elements(By.CSS_SELECTOR, 'ul.list_tab > li')[1].click()"
   ]
  },
  {
   "cell_type": "code",
   "execution_count": null,
   "id": "b5517122",
   "metadata": {},
   "outputs": [],
   "source": [
    "news_list = []\n",
    "bodies = driver.find_elements(By.CSS_SELECTOR, 'div.item-title > strong.tit-g.clamp-g')\n",
    "bodies = driver.find_elements(By.CSS_SELECTOR, 'div[class=\"item-title\"] > strong.tit-g.clamp-g')\n",
    "# print(len(bodies))\n",
    "\n",
    "for body in bodies:\n",
    "    a = body.find_element(By.TAG_NAME, 'a')\n",
    "    title = a.text\n",
    "    link = a.get_attribute('href')\n",
    "    news_list.append([title, link])\n",
    "    print(title,link)"
   ]
  },
  {
   "cell_type": "code",
   "execution_count": null,
   "id": "54809938",
   "metadata": {},
   "outputs": [],
   "source": [
    "page_nav = driver.find_element(By.CSS_SELECTOR, 'div.inner_paging')\n",
    "next_page = page_nav.find_element(By.LINK_TEXT, '2')\n",
    "next_page.click()"
   ]
  },
  {
   "cell_type": "markdown",
   "id": "cb052541",
   "metadata": {},
   "source": [
    "## 2-2 페이징 처리\n",
    "- 다음 뉴스 페이징 처리"
   ]
  },
  {
   "cell_type": "code",
   "execution_count": null,
   "id": "d3f143ca",
   "metadata": {},
   "outputs": [],
   "source": [
    "# 원하는 페이지 만큼 검색하여 검색 결과 데이터프레임으로 출력\n",
    "driver = webdriver.Chrome()\n",
    "time.sleep(1)\n",
    "\n",
    "url = 'https://daum.net'\n",
    "driver.get(url)\n",
    "# driver.implicitly_wait(0.5) # 0.5초 요소를 찾을 때까지 대기시간\n",
    "driver.find_element(By.CLASS_NAME, 'tf_keyword').click()\n",
    "query = input('검색할 단어는 ?')\n",
    "driver.find_element(By.CSS_SELECTOR, 'input[type=\"text\"]').send_keys(query)\n",
    "driver.find_element(By.CLASS_NAME, 'btn_ksearch').click()\n",
    "\n",
    "# 뉴스 탭 클릭\n",
    "driver.find_elements(By.CSS_SELECTOR, 'ul.list_tab > li')[1].click()\n",
    "\n",
    "news_list = []\n",
    "\n",
    "page_numbers = int(input('몇 페이지 크롤링 할까요?'))\n",
    "for page_number in range(1, page_numbers+1):\n",
    "    \n",
    "    bodies = driver.find_elements(By.CSS_SELECTOR, 'div.item-title > strong.tit-g.clamp-g')\n",
    "    bodies = driver.find_elements(By.CSS_SELECTOR, 'div[class=\"item-title\"] > strong.tit-g.clamp-g')\n",
    "    # print(len(bodies))\n",
    "    print(f'----------------{page_number}page 크롤링 결과----------------')\n",
    "    for body in bodies:\n",
    "        a = body.find_element(By.TAG_NAME, 'a')\n",
    "        title = a.text\n",
    "        link = a.get_attribute('href')\n",
    "        news_list.append([title, link])\n",
    "        print(title,link)\n",
    "\n",
    "    page_nav = driver.find_element(By.CSS_SELECTOR, 'div.inner_paging')\n",
    "    next_page = page_nav.find_element(By.LINK_TEXT, str(page_number+1))\n",
    "    next_page.click()\n",
    "    time.sleep(1)\n",
    "driver.close()\n",
    "import pandas as pd\n",
    "display(pd.DataFrame(news_list, columns=['title','link']).head())\n"
   ]
  },
  {
   "cell_type": "markdown",
   "id": "83d01975",
   "metadata": {},
   "source": [
    "## 2-3 맞춤법 검사기\n",
    "- 네이버 맞춤법 검사기 이용"
   ]
  },
  {
   "cell_type": "code",
   "execution_count": null,
   "id": "ef414d82",
   "metadata": {},
   "outputs": [],
   "source": [
    "from selenium import webdriver\n",
    "from selenium.webdriver.common.keys import Keys\n",
    "from selenium.webdriver.common.by import By\n",
    "from bs4 import BeautifulSoup\n",
    "import time"
   ]
  },
  {
   "cell_type": "code",
   "execution_count": null,
   "id": "dd2507d3",
   "metadata": {},
   "outputs": [],
   "source": [
    "driver = webdriver.Chrome()\n",
    "time.sleep(0.5)\n",
    "driver.get('https://www.naver.com/')\n",
    "elem = driver.find_element(By.CSS_SELECTOR, 'input#query')\n",
    "elem.send_keys('맞춤법 검사기')\n",
    "elem.send_keys(Keys.RETURN) # enter 키\n",
    "\n",
    "textarea = driver.find_element(By.CLASS_NAME, 'txt_gray')\n",
    "textarea.send_keys('안녕하세요. 안뇽하세요. 방갑습니다')\n",
    "\n",
    "button = driver.find_element(By.CLASS_NAME, 'btn_check')\n",
    "button.click()\n",
    "\n",
    "time.sleep(0.5)\n",
    "soup = BeautifulSoup(driver.page_source, 'html.parser')\n",
    "result = soup.select_one('p._result_text.stand_txt').text\n",
    "driver.close()\n",
    "result"
   ]
  },
  {
   "cell_type": "markdown",
   "id": "8f599451",
   "metadata": {},
   "source": [
    "### 맞춤법 검사 전 text파일을 맞춤법 검사 완료된 text파일로 output"
   ]
  },
  {
   "cell_type": "code",
   "execution_count": null,
   "id": "c996eb61",
   "metadata": {},
   "outputs": [],
   "source": [
    "# f = open('data/ch14_맞춤법검사전.txt','r',encoding='utf-8')\n",
    "# text = f.read()\n",
    "# f.close()"
   ]
  },
  {
   "cell_type": "code",
   "execution_count": null,
   "id": "3355fd80",
   "metadata": {},
   "outputs": [],
   "source": [
    "with open('data/ch14_맞춤법검사전.txt', 'r', encoding = 'utf-8') as f:\n",
    "    text = f.read()\n",
    "ready_list = []\n",
    "while(len(text) > 300):\n",
    "    temp = text[:300]\n",
    "    last_dot_index = temp.rfind('\\n')\n",
    "    ready_list.append(text[:last_dot_index+1])\n",
    "    print(last_dot_index)\n",
    "    text = text[last_dot_index+1 : ]\n",
    "ready_list.append(text[1:])"
   ]
  },
  {
   "cell_type": "code",
   "execution_count": null,
   "id": "f71f2b43",
   "metadata": {},
   "outputs": [],
   "source": [
    "# ready_list 확인\n",
    "[len(ready) for ready in ready_list]"
   ]
  },
  {
   "cell_type": "code",
   "execution_count": null,
   "id": "cde73045",
   "metadata": {},
   "outputs": [],
   "source": [
    "driver = webdriver.Chrome()\n",
    "time.sleep(1)\n",
    "driver.get('https://www.naver.com')\n",
    "elem = driver.find_element(By.NAME,'query')\n",
    "elem.send_keys('맞춤법 검사기')\n",
    "elem.send_keys(Keys.RETURN)\n",
    "time.sleep(1) # 1초 대기\n",
    "# driver.implicitly_wait(1)\n",
    "\n",
    "results = '' # 맞춤법 검사 완료된 text\n",
    "textarea = driver.find_element(By.CLASS_NAME,'txt_gray')\n",
    "\n",
    "for ready in ready_list:\n",
    "    textarea.send_keys(Keys.CONTROL, 'a') # ctrl + a\n",
    "    textarea.send_keys(ready)\n",
    "    button = driver.find_element(By.CLASS_NAME,'btn_check')\n",
    "    button.click()\n",
    "    time.sleep(1)\n",
    "    soup = BeautifulSoup(driver.page_source, 'html.parser')\n",
    "    result = soup.select_one('p._result_text').text\n",
    "    results += result+'\\n'\n",
    "driver.close()"
   ]
  },
  {
   "cell_type": "code",
   "execution_count": null,
   "id": "086ed454",
   "metadata": {},
   "outputs": [],
   "source": [
    "print(results)"
   ]
  },
  {
   "cell_type": "code",
   "execution_count": null,
   "id": "3bbc648a",
   "metadata": {},
   "outputs": [],
   "source": [
    "# 맞춤법 결과 result를 data/ch14_맞춤법검사후.txt로 출력\n",
    "with open('data/ch14_맞춤법검사후.txt','w',encoding='utf-8')as f:\n",
    "    f.write(results)"
   ]
  },
  {
   "cell_type": "markdown",
   "id": "f9ffc39b",
   "metadata": {},
   "source": [
    "# 연습문제"
   ]
  },
  {
   "cell_type": "code",
   "execution_count": 30,
   "id": "ff75c488",
   "metadata": {},
   "outputs": [],
   "source": [
    "# 필요한 package import\n",
    "from selenium import webdriver\n",
    "from selenium.webdriver.common.keys import Keys\n",
    "from selenium.webdriver.common.by import By\n",
    "from bs4 import BeautifulSoup\n",
    "import time\n",
    "\n",
    "\n",
    "# 파일 읽어오기\n",
    "with open('data/ch14_맞춤법검사후.txt','r',encoding='utf-8')as f:\n",
    "    text=f.read()\n",
    "\n",
    "\n",
    "# 검색할 text 재단\n",
    "text_list=[]\n",
    "while(len(text)>1000):\n",
    "    temp = text[:1000]\n",
    "    last_dot_index=temp.rfind('.')\n",
    "    text_list.append(temp[:last_dot_index+1])\n",
    "    text=text[last_dot_index+1:]\n",
    "text_list.append(text)\n",
    "\n",
    "\n",
    "# 브라우저 실행\n",
    "driver = webdriver.Chrome()\n",
    "driver.get('https://translate.kakao.com/')\n",
    "\n",
    "\n",
    "# 검색과 for문 결합\n",
    "results = ''\n",
    "for text in text_list:\n",
    "    # 검색할 text 입력 및 버튼 실행\n",
    "    elem = driver.find_element(By.CLASS_NAME, 'translate_area')\n",
    "    elem.clear()\n",
    "    elem.send_keys(text)\n",
    "    button = driver.find_element(By.CLASS_NAME, 'btn_translate')\n",
    "    button.click()\n",
    "    # 검색후 결과 읽어오기\n",
    "    time.sleep(1)\n",
    "    soup = BeautifulSoup(driver.page_source, 'html.parser')\n",
    "    results += soup.select_one('div.result_area').text+'\\n'\n",
    "    \n",
    "#브라우저 종료 후 파일 출력\n",
    "driver.close()\n",
    "with open('data/ch14_영문번역.txt','w',encoding='utf-8') as f:\n",
    "    f.write(results)"
   ]
  },
  {
   "cell_type": "markdown",
   "id": "9bb6bf01",
   "metadata": {},
   "source": [
    "# 3절. 자동화\n",
    "## 3-1. 컴퓨터가 파이썬을 실행\n",
    "    - unix : corn\n",
    "    - win : 작업스케쥴러\n",
    "        * window + R : taskschd.msc\n",
    "## 3-2. 파이썬 프로그램에서 스케쥴링\n",
    "    - pip install schedule\n",
    "        "
   ]
  },
  {
   "cell_type": "code",
   "execution_count": 31,
   "id": "94052bd3",
   "metadata": {},
   "outputs": [
    {
     "name": "stdout",
     "output_type": "stream",
     "text": [
      "작업이 실행되었습니다.\n",
      "작업이 실행되었습니다.\n",
      "작업이 실행되었습니다.\n",
      "작업이 실행되었습니다.\n",
      "작업이 실행되었습니다.\n",
      "작업이 실행되었습니다.\n",
      "작업이 실행되었습니다.\n",
      "작업이 실행되었습니다.\n",
      "작업이 실행되었습니다.\n",
      "작업이 실행되었습니다.\n",
      "작업이 실행되었습니다.\n",
      "작업이 실행되었습니다.\n",
      "작업이 실행되었습니다.\n",
      "작업이 실행되었습니다.\n",
      "작업이 실행되었습니다.\n",
      "작업이 실행되었습니다.\n",
      "작업이 실행되었습니다.\n",
      "작업이 실행되었습니다.\n",
      "작업이 실행되었습니다.\n",
      "작업이 실행되었습니다.\n",
      "작업이 실행되었습니다.\n"
     ]
    },
    {
     "ename": "KeyboardInterrupt",
     "evalue": "",
     "output_type": "error",
     "traceback": [
      "\u001b[1;31m---------------------------------------------------------------------------\u001b[0m",
      "\u001b[1;31mKeyboardInterrupt\u001b[0m                         Traceback (most recent call last)",
      "Cell \u001b[1;32mIn[31], line 16\u001b[0m\n\u001b[0;32m     14\u001b[0m \u001b[38;5;28;01mwhile\u001b[39;00m \u001b[38;5;28;01mTrue\u001b[39;00m:\n\u001b[0;32m     15\u001b[0m     schedule\u001b[38;5;241m.\u001b[39mrun_pending()\n\u001b[1;32m---> 16\u001b[0m     \u001b[43mtime\u001b[49m\u001b[38;5;241;43m.\u001b[39;49m\u001b[43msleep\u001b[49m\u001b[43m(\u001b[49m\u001b[38;5;241;43m1\u001b[39;49m\u001b[43m)\u001b[49m\n",
      "\u001b[1;31mKeyboardInterrupt\u001b[0m: "
     ]
    }
   ],
   "source": [
    "import schedule\n",
    "import time\n",
    "\n",
    "def job():\n",
    "    print('작업이 실행되었습니다.')\n",
    "# job함수는 10초마다 수행할 거야\n",
    "schedule.every(10).seconds.do(job)\n",
    "\n",
    "# schedule.every().day.at('17:59').do(job)\n",
    "# schedule.every().hour.do(job)\n",
    "# schedule.every(1).minutes.do(job)\n",
    "\n",
    "# 무한 루프를 돌며 스케쥴된 작업이 있는지 확인하고 자동화\n",
    "while True:\n",
    "    schedule.run_pending()\n",
    "    time.sleep(1)"
   ]
  },
  {
   "cell_type": "code",
   "execution_count": null,
   "id": "cc24edb1",
   "metadata": {},
   "outputs": [],
   "source": []
  }
 ],
 "metadata": {
  "kernelspec": {
   "display_name": "Python 3 (ipykernel)",
   "language": "python",
   "name": "python3"
  },
  "language_info": {
   "codemirror_mode": {
    "name": "ipython",
    "version": 3
   },
   "file_extension": ".py",
   "mimetype": "text/x-python",
   "name": "python",
   "nbconvert_exporter": "python",
   "pygments_lexer": "ipython3",
   "version": "3.10.9"
  },
  "toc": {
   "base_numbering": 1,
   "nav_menu": {},
   "number_sections": true,
   "sideBar": true,
   "skip_h1_title": false,
   "title_cell": "Table of Contents",
   "title_sidebar": "Contents",
   "toc_cell": false,
   "toc_position": {},
   "toc_section_display": true,
   "toc_window_display": false
  }
 },
 "nbformat": 4,
 "nbformat_minor": 5
}
