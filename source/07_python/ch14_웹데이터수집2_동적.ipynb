{
 "cells": [
  {
   "cell_type": "markdown",
   "id": "db1538e6",
   "metadata": {},
   "source": [
    "<b><font color=\"red\" size=\"6\">ch14. 웹데이터 수집</font></b>\n",
    "# 1절. Selenium을 이용한 동적 웹크롤링 문법\n",
    "- https://selenium-python.readthedocs.io/index.html\n",
    "<br>`pip install selenium`"
   ]
  },
  {
   "cell_type": "code",
   "execution_count": 1,
   "id": "20e30682",
   "metadata": {},
   "outputs": [],
   "source": [
    "from selenium import webdriver\n",
    "from selenium.webdriver.common.by import By\n",
    "import time"
   ]
  },
  {
   "cell_type": "code",
   "execution_count": 2,
   "id": "5b5c36f7",
   "metadata": {},
   "outputs": [],
   "source": [
    "dv = webdriver.Chrome()\n",
    "dv.get('http://python.org')\n",
    "elem = dv.find_element(By.NAME, 'q')\n",
    "elem.clear()\n",
    "elem.send_keys('pycon')"
   ]
  },
  {
   "cell_type": "code",
   "execution_count": 3,
   "id": "813dab65",
   "metadata": {},
   "outputs": [],
   "source": [
    "from selenium.webdriver.common.keys import Keys\n",
    "elem.send_keys(Keys.RETURN) # enter키 효과"
   ]
  },
  {
   "cell_type": "code",
   "execution_count": 4,
   "id": "a4fc3f72",
   "metadata": {},
   "outputs": [],
   "source": [
    "btn_elem = dv.find_element(By.CSS_SELECTOR, 'button#submit')\n",
    "btn_elem.click()"
   ]
  },
  {
   "cell_type": "code",
   "execution_count": 5,
   "id": "c01363eb",
   "metadata": {},
   "outputs": [
    {
     "name": "stdout",
     "output_type": "stream",
     "text": [
      "PSF PyCon Trademark Usage Policy - https://www.python.org/psf/trademarks/pycon\n",
      "PyCon Italia 2016 (PyCon Sette) - https://www.python.org/events/python-events/378/\n",
      "PyCon Australia 2013 - https://www.python.org/events/python-events/57/\n",
      "PyCon AU 2019 - https://www.python.org/events/python-events/776/\n",
      "PyCon Australia 2014 - https://www.python.org/events/python-events/10/\n",
      "PyCon Ireland 2012 - https://www.python.org/events/python-events/76/\n",
      "PyCon Ireland 2016 - https://www.python.org/events/python-events/429/\n",
      "PyCon Ireland 2022 - https://www.python.org/events/python-events/1320/\n",
      "PyCon Australia 2014 - https://www.python.org/events/python-events/1447/\n",
      "PyCon Ireland 2024 - https://www.python.org/events/python-events/1862/\n",
      "PyCon APAC 2025 - https://www.python.org/events/python-events/1879/\n",
      "PyCon AU 2018 - https://www.python.org/events/python-events/696/\n",
      "PyCon APAC 2022 - https://www.python.org/events/python-events/1216/\n",
      "PyCon PH 2024 - https://www.python.org/events/python-events/1661/\n",
      "PyCon Ireland 2023 - https://www.python.org/events/python-events/1568/\n",
      "PyCon PL 2014 - https://www.python.org/events/python-events/191/\n",
      "PyCon MY 2015 - https://www.python.org/events/python-events/313/\n",
      "PyCon Ireland 2015 - https://www.python.org/events/python-events/333/\n",
      "PyCon AU 2015 - https://www.python.org/events/python-events/273/\n",
      "PyCon Australia 2016 - https://www.python.org/events/python-events/357/\n"
     ]
    }
   ],
   "source": [
    "result_list = dv.find_elements(By.CSS_SELECTOR, 'li > h3 > a')\n",
    "for result in result_list:\n",
    "    print(\"%s - %s\" % (result.text, result.get_attribute('href')))"
   ]
  },
  {
   "cell_type": "code",
   "execution_count": 6,
   "id": "6dff86c2",
   "metadata": {},
   "outputs": [
    {
     "name": "stdout",
     "output_type": "stream",
     "text": [
      "PSF PyCon Trademark Usage Policy - /psf/trademarks/pycon\n",
      "PyCon Italia 2016 (PyCon Sette) - /events/python-events/378/\n",
      "PyCon Australia 2013 - /events/python-events/57/\n",
      "PyCon AU 2019 - /events/python-events/776/\n",
      "PyCon Australia 2014 - /events/python-events/10/\n",
      "PyCon Ireland 2012 - /events/python-events/76/\n",
      "PyCon Ireland 2016 - /events/python-events/429/\n",
      "PyCon Ireland 2022 - /events/python-events/1320/\n",
      "PyCon Australia 2014 - /events/python-events/1447/\n",
      "PyCon Ireland 2024 - /events/python-events/1862/\n",
      "PyCon APAC 2025 - /events/python-events/1879/\n",
      "PyCon AU 2018 - /events/python-events/696/\n",
      "PyCon APAC 2022 - /events/python-events/1216/\n",
      "PyCon PH 2024 - /events/python-events/1661/\n",
      "PyCon Ireland 2023 - /events/python-events/1568/\n",
      "PyCon PL 2014 - /events/python-events/191/\n",
      "PyCon MY 2015 - /events/python-events/313/\n",
      "PyCon Ireland 2015 - /events/python-events/333/\n",
      "PyCon AU 2015 - /events/python-events/273/\n",
      "PyCon Australia 2016 - /events/python-events/357/\n"
     ]
    }
   ],
   "source": [
    "from bs4 import BeautifulSoup\n",
    "soup = BeautifulSoup(dv.page_source, 'html.parser')\n",
    "result_list = soup.select('li > h3 > a')\n",
    "for result in result_list:\n",
    "    print('%s - %s' % (result.text, result.attrs['href']))"
   ]
  },
  {
   "cell_type": "code",
   "execution_count": 7,
   "id": "22518ac1",
   "metadata": {},
   "outputs": [
    {
     "name": "stdout",
     "output_type": "stream",
     "text": [
      "현재주소 : https://www.python.org/search/?q=pycon&submit=\n",
      "ParseResult(scheme='https', netloc='www.python.org', path='/search/', params='', query='q=pycon&submit=', fragment='') https www.python.org\n",
      "도메인 : https://www.python.org\n"
     ]
    }
   ],
   "source": [
    "from urllib.parse import urlparse\n",
    "current_url = dv.current_url # 셀레니윰을 통해 접근한 현재 url\n",
    "print('현재주소 :',current_url)\n",
    "parse_url = urlparse(current_url)\n",
    "print(parse_url,parse_url.scheme, parse_url.netloc)\n",
    "domain = f'{parse_url.scheme}://{parse_url.netloc}'\n",
    "domain = '{}://{}'.format(parse_url.scheme, parse_url.netloc)\n",
    "print('도메인 :',domain)"
   ]
  },
  {
   "cell_type": "code",
   "execution_count": 8,
   "id": "2706b9f0",
   "metadata": {},
   "outputs": [
    {
     "name": "stdout",
     "output_type": "stream",
     "text": [
      "PSF PyCon Trademark Usage Policy - https://www.python.org/psf/trademarks/pycon\n",
      "PyCon Italia 2016 (PyCon Sette) - https://www.python.org/events/python-events/378/\n",
      "PyCon Australia 2013 - https://www.python.org/events/python-events/57/\n",
      "PyCon AU 2019 - https://www.python.org/events/python-events/776/\n",
      "PyCon Australia 2014 - https://www.python.org/events/python-events/10/\n",
      "PyCon Ireland 2012 - https://www.python.org/events/python-events/76/\n",
      "PyCon Ireland 2016 - https://www.python.org/events/python-events/429/\n",
      "PyCon Ireland 2022 - https://www.python.org/events/python-events/1320/\n",
      "PyCon Australia 2014 - https://www.python.org/events/python-events/1447/\n",
      "PyCon Ireland 2024 - https://www.python.org/events/python-events/1862/\n",
      "PyCon APAC 2025 - https://www.python.org/events/python-events/1879/\n",
      "PyCon AU 2018 - https://www.python.org/events/python-events/696/\n",
      "PyCon APAC 2022 - https://www.python.org/events/python-events/1216/\n",
      "PyCon PH 2024 - https://www.python.org/events/python-events/1661/\n",
      "PyCon Ireland 2023 - https://www.python.org/events/python-events/1568/\n",
      "PyCon PL 2014 - https://www.python.org/events/python-events/191/\n",
      "PyCon MY 2015 - https://www.python.org/events/python-events/313/\n",
      "PyCon Ireland 2015 - https://www.python.org/events/python-events/333/\n",
      "PyCon AU 2015 - https://www.python.org/events/python-events/273/\n",
      "PyCon Australia 2016 - https://www.python.org/events/python-events/357/\n"
     ]
    }
   ],
   "source": [
    "from bs4 import BeautifulSoup\n",
    "soup = BeautifulSoup(dv.page_source, 'html.parser')\n",
    "result_list = soup.select('li > h3 > a')\n",
    "for result in result_list:\n",
    "    print('%s - %s' % (result.text, domain+result.attrs['href']))"
   ]
  },
  {
   "cell_type": "code",
   "execution_count": 9,
   "id": "5fcbd47d",
   "metadata": {},
   "outputs": [],
   "source": [
    "dv.close() # 브라우저 종료"
   ]
  },
  {
   "cell_type": "markdown",
   "id": "49b89a3b",
   "metadata": {},
   "source": [
    "# 2절. 동적웹크롤링 예제\n",
    "## 2-1 다음 뉴스 검색"
   ]
  },
  {
   "cell_type": "code",
   "execution_count": 15,
   "id": "a4e21648",
   "metadata": {},
   "outputs": [
    {
     "name": "stdout",
     "output_type": "stream",
     "text": [
      "검색할 단어는 ?비트코인\n"
     ]
    }
   ],
   "source": [
    "from selenium import webdriver\n",
    "from selenium.webdriver.common.by import By\n",
    "from selenium.webdriver.common.keys import Keys\n",
    "import time\n",
    "driver = webdriver.Chrome()\n",
    "url = 'https://daum.net'\n",
    "driver.get(url)\n",
    "# driver.implicitly_wait(0.5) # 0.5초 요소를 찾을 때까지 대기시간\n",
    "time.sleep(0.5) # 0.5초 대기\n",
    "driver.find_element(By.CLASS_NAME, 'tf_keyword').click()\n",
    "query = input('검색할 단어는 ?')\n",
    "driver.find_element(By.CSS_SELECTOR, 'input[type=\"text\"]').send_keys(query)\n",
    "driver.find_element(By.CLASS_NAME, 'btn_ksearch').click()"
   ]
  },
  {
   "cell_type": "code",
   "execution_count": 16,
   "id": "8ea165cd",
   "metadata": {},
   "outputs": [],
   "source": [
    "# 뉴스 탭 클릭\n",
    "driver.find_elements(By.CSS_SELECTOR, 'ul.list_tab > li')[1].click()"
   ]
  },
  {
   "cell_type": "code",
   "execution_count": 17,
   "id": "b5517122",
   "metadata": {},
   "outputs": [
    {
     "name": "stdout",
     "output_type": "stream",
     "text": [
      "월가 차트분석 달인 \"비트코인 85K 추락 가능성\" http://v.daum.net/v/20241211104920355\n",
      "'트럼프 효과 다했나'...비트코인 등 가상화폐 급락 http://v.daum.net/v/20241211232526095\n",
      "새로운 머스크 수혜주 등장?…美대선 이후 주가 4배 껑충 http://v.daum.net/v/20241211175004287\n",
      "가상화폐 ‘트럼프 효과’ 끝? 비트코인 10만 달러 밑으로 http://v.daum.net/v/20241211184115944\n",
      "코인 전문가 오태민 \"계엄 당일 우리나라만 폭락?..'리플'·'테더' 관심집중 http://v.daum.net/v/20241211191806736\n",
      "구글 양자컴퓨터 출시에 비트코인 흔들...\"영향없다\" 반론도 http://v.daum.net/v/20241211135155454\n",
      "\"비트코인 투자하면 주가 올라\" 설득했지만…MS 주주들은 '반대' http://v.daum.net/v/20241211133550900\n",
      "숨 고르기 들어간 비트코인? http://v.daum.net/v/20241211142129680\n",
      "비트코인 레버리지·공매도 버젓이… 당국은 `나 몰라라` http://v.daum.net/v/20241211150512600\n",
      "트럼프 효과 끝?…비트코인 9만5천달러 하회 http://v.daum.net/v/20241211142219721\n"
     ]
    }
   ],
   "source": [
    "news_list = []\n",
    "bodies = driver.find_elements(By.CSS_SELECTOR, 'div.item-title > strong.tit-g.clamp-g')\n",
    "bodies = driver.find_elements(By.CSS_SELECTOR, 'div[class=\"item-title\"] > strong.tit-g.clamp-g')\n",
    "# print(len(bodies))\n",
    "\n",
    "for body in bodies:\n",
    "    a = body.find_element(By.TAG_NAME, 'a')\n",
    "    title = a.text\n",
    "    link = a.get_attribute('href')\n",
    "    news_list.append([title, link])\n",
    "    print(title,link)"
   ]
  },
  {
   "cell_type": "code",
   "execution_count": 18,
   "id": "54809938",
   "metadata": {},
   "outputs": [],
   "source": [
    "page_nav = driver.find_element(By.CSS_SELECTOR, 'div.inner_paging')\n",
    "next_page = page_nav.find_element(By.LINK_TEXT, '2')\n",
    "next_page.click()"
   ]
  },
  {
   "cell_type": "markdown",
   "id": "cb052541",
   "metadata": {},
   "source": [
    "## 2-2 페이징 처리\n",
    "- 다음 뉴스 페이징 처리"
   ]
  },
  {
   "cell_type": "code",
   "execution_count": 19,
   "id": "d3f143ca",
   "metadata": {},
   "outputs": [
    {
     "name": "stdout",
     "output_type": "stream",
     "text": [
      "검색할 단어는 ?비트코인\n",
      "몇 페이지 크롤링 할까요?3\n",
      "----------------1page 크롤링 결과----------------\n",
      "월가 차트분석 달인 \"비트코인 85K 추락 가능성\" http://v.daum.net/v/20241211104920355\n",
      "'트럼프 효과 다했나'...비트코인 등 가상화폐 급락 http://v.daum.net/v/20241211232526095\n",
      "새로운 머스크 수혜주 등장?…美대선 이후 주가 4배 껑충 http://v.daum.net/v/20241211175004287\n",
      "가상화폐 ‘트럼프 효과’ 끝? 비트코인 10만 달러 밑으로 http://v.daum.net/v/20241211184115944\n",
      "코인 전문가 오태민 \"계엄 당일 우리나라만 폭락?..'리플'·'테더' 관심집중 http://v.daum.net/v/20241211191806736\n",
      "구글 양자컴퓨터 출시에 비트코인 흔들...\"영향없다\" 반론도 http://v.daum.net/v/20241211135155454\n",
      "\"비트코인 투자하면 주가 올라\" 설득했지만…MS 주주들은 '반대' http://v.daum.net/v/20241211133550900\n",
      "숨 고르기 들어간 비트코인? http://v.daum.net/v/20241211142129680\n",
      "비트코인 레버리지·공매도 버젓이… 당국은 `나 몰라라` http://v.daum.net/v/20241211150512600\n",
      "트럼프 효과 끝?…비트코인 9만5천달러 하회 http://v.daum.net/v/20241211142219721\n",
      "----------------2page 크롤링 결과----------------\n",
      "비트코인 전략 제안 거부한 마이크로소프트…주주 선택은 '안정' http://v.daum.net/v/20241211085553764\n",
      "[코인뉴스] \"죄다 파란불이네\"...비트코인 조정 국면에 알트코인도 일제히 하락 http://v.daum.net/v/20241211105754759\n",
      "비트코인, 1억3600만원선까지 ‘폭락’…고점대비 10%↓ http://v.daum.net/v/20241211110153040\n",
      "비트코인 10만달러 시대…\"비트코인 가격 추가 상승할 것\"-메리츠 http://v.daum.net/v/20241211084759570\n",
      "[김대호 박사의 오늘의 키워드] 양자컴퓨팅·비트코인 빨간불·화웨이 금지법·트럼프 당근 http://v.daum.net/v/20241211071025706\n",
      "가상화폐 급락...비트코인 9만 5천 달러선 밑돌아 http://v.daum.net/v/20241211071504791\n",
      "이젠 예비 며느리까지…트럼프, 그리스 대사에 기용 http://v.daum.net/v/20241212000315356\n",
      "美증시 CPI에 안도 랠리…나스닥 1% 넘게 상승 출발 http://v.daum.net/v/20241212000704503\n",
      "\"미국만 코인 보유하나\"…중러도 '비트코인 비축' 카드 만지작 http://v.daum.net/v/20241210194912818\n",
      "계엄 선포날, 업비트에선 불났다…한국거래소보다 커진 코인거래소 http://v.daum.net/v/20241211151212917\n",
      "----------------3page 크롤링 결과----------------\n",
      "MS도 가상화폐 투자?…주주들 \"NO\" http://v.daum.net/v/20241211165628246\n",
      "비트코인 조정 구간 돌입…MS 주주들, 비트코인 매입 반대[코인브리핑] http://v.daum.net/v/20241211110145033\n",
      "한국인이 사랑하는 리플, 스테이블코인 승인에 20% 급등[매일코인] http://v.daum.net/v/20241211140606053\n",
      "‘초미의 관심’ MS의 비트코인 투자 여부…주주들은 “반대” 이유는 http://v.daum.net/v/20241211091115348\n",
      "가상자산, ‘천적’ 양자컴퓨터 등장에 하락…코인 개미들 ‘긴장’ http://v.daum.net/v/20241211152218374\n",
      "레버리지 투자자의 눈물… 상승베팅, 하락베팅 모두 마이너스 http://v.daum.net/v/20241211164954994\n",
      "양자컴퓨터, 가상자산에 위협이 될까 [코인 브리핑] http://v.daum.net/v/20241211144353633\n",
      "트럼프 차남 \"가장 '親암호화폐'적 대통령 볼 것\" http://v.daum.net/v/20241211142110661\n",
      "마이크로소프트 주주들 비트코인 투자에 반대 http://v.daum.net/v/20241211064322197\n",
      "구글 양자컴퓨터 개발 소식에…알파벳 주가 5% 급등 http://v.daum.net/v/20241211162003872\n"
     ]
    },
    {
     "data": {
      "text/html": [
       "<div>\n",
       "<style scoped>\n",
       "    .dataframe tbody tr th:only-of-type {\n",
       "        vertical-align: middle;\n",
       "    }\n",
       "\n",
       "    .dataframe tbody tr th {\n",
       "        vertical-align: top;\n",
       "    }\n",
       "\n",
       "    .dataframe thead th {\n",
       "        text-align: right;\n",
       "    }\n",
       "</style>\n",
       "<table border=\"1\" class=\"dataframe\">\n",
       "  <thead>\n",
       "    <tr style=\"text-align: right;\">\n",
       "      <th></th>\n",
       "      <th>title</th>\n",
       "      <th>link</th>\n",
       "    </tr>\n",
       "  </thead>\n",
       "  <tbody>\n",
       "    <tr>\n",
       "      <th>0</th>\n",
       "      <td>월가 차트분석 달인 \"비트코인 85K 추락 가능성\"</td>\n",
       "      <td>http://v.daum.net/v/20241211104920355</td>\n",
       "    </tr>\n",
       "    <tr>\n",
       "      <th>1</th>\n",
       "      <td>'트럼프 효과 다했나'...비트코인 등 가상화폐 급락</td>\n",
       "      <td>http://v.daum.net/v/20241211232526095</td>\n",
       "    </tr>\n",
       "    <tr>\n",
       "      <th>2</th>\n",
       "      <td>새로운 머스크 수혜주 등장?…美대선 이후 주가 4배 껑충</td>\n",
       "      <td>http://v.daum.net/v/20241211175004287</td>\n",
       "    </tr>\n",
       "    <tr>\n",
       "      <th>3</th>\n",
       "      <td>가상화폐 ‘트럼프 효과’ 끝? 비트코인 10만 달러 밑으로</td>\n",
       "      <td>http://v.daum.net/v/20241211184115944</td>\n",
       "    </tr>\n",
       "    <tr>\n",
       "      <th>4</th>\n",
       "      <td>코인 전문가 오태민 \"계엄 당일 우리나라만 폭락?..'리플'·'테더' 관심집중</td>\n",
       "      <td>http://v.daum.net/v/20241211191806736</td>\n",
       "    </tr>\n",
       "  </tbody>\n",
       "</table>\n",
       "</div>"
      ],
      "text/plain": [
       "                                         title  \\\n",
       "0                 월가 차트분석 달인 \"비트코인 85K 추락 가능성\"   \n",
       "1                '트럼프 효과 다했나'...비트코인 등 가상화폐 급락   \n",
       "2              새로운 머스크 수혜주 등장?…美대선 이후 주가 4배 껑충   \n",
       "3             가상화폐 ‘트럼프 효과’ 끝? 비트코인 10만 달러 밑으로   \n",
       "4  코인 전문가 오태민 \"계엄 당일 우리나라만 폭락?..'리플'·'테더' 관심집중   \n",
       "\n",
       "                                    link  \n",
       "0  http://v.daum.net/v/20241211104920355  \n",
       "1  http://v.daum.net/v/20241211232526095  \n",
       "2  http://v.daum.net/v/20241211175004287  \n",
       "3  http://v.daum.net/v/20241211184115944  \n",
       "4  http://v.daum.net/v/20241211191806736  "
      ]
     },
     "metadata": {},
     "output_type": "display_data"
    }
   ],
   "source": [
    "# 원하는 페이지 만큼 검색하여 검색 결과 데이터프레임으로 출력\n",
    "driver = webdriver.Chrome()\n",
    "time.sleep(1)\n",
    "\n",
    "url = 'https://daum.net'\n",
    "driver.get(url)\n",
    "# driver.implicitly_wait(0.5) # 0.5초 요소를 찾을 때까지 대기시간\n",
    "driver.find_element(By.CLASS_NAME, 'tf_keyword').click()\n",
    "query = input('검색할 단어는 ?')\n",
    "driver.find_element(By.CSS_SELECTOR, 'input[type=\"text\"]').send_keys(query)\n",
    "driver.find_element(By.CLASS_NAME, 'btn_ksearch').click()\n",
    "\n",
    "# 뉴스 탭 클릭\n",
    "driver.find_elements(By.CSS_SELECTOR, 'ul.list_tab > li')[1].click()\n",
    "\n",
    "news_list = []\n",
    "\n",
    "page_numbers = int(input('몇 페이지 크롤링 할까요?'))\n",
    "for page_number in range(1, page_numbers+1):\n",
    "    \n",
    "    bodies = driver.find_elements(By.CSS_SELECTOR, 'div.item-title > strong.tit-g.clamp-g')\n",
    "    bodies = driver.find_elements(By.CSS_SELECTOR, 'div[class=\"item-title\"] > strong.tit-g.clamp-g')\n",
    "    # print(len(bodies))\n",
    "    print(f'----------------{page_number}page 크롤링 결과----------------')\n",
    "    for body in bodies:\n",
    "        a = body.find_element(By.TAG_NAME, 'a')\n",
    "        title = a.text\n",
    "        link = a.get_attribute('href')\n",
    "        news_list.append([title, link])\n",
    "        print(title,link)\n",
    "\n",
    "    page_nav = driver.find_element(By.CSS_SELECTOR, 'div.inner_paging')\n",
    "    next_page = page_nav.find_element(By.LINK_TEXT, str(page_number+1))\n",
    "    next_page.click()\n",
    "    time.sleep(1)\n",
    "driver.close()\n",
    "import pandas as pd\n",
    "display(pd.DataFrame(news_list, columns=['title','link']).head())\n"
   ]
  },
  {
   "cell_type": "markdown",
   "id": "83d01975",
   "metadata": {},
   "source": [
    "## 2-3 맞춤법 검사기\n",
    "- 네이버 맞춤법 검사기 이용"
   ]
  },
  {
   "cell_type": "code",
   "execution_count": 20,
   "id": "ef414d82",
   "metadata": {},
   "outputs": [],
   "source": [
    "from selenium import webdriver\n",
    "from selenium.webdriver.common.keys import Keys\n",
    "from selenium.webdriver.common.by import By\n",
    "from bs4 import BeautifulSoup\n",
    "import time"
   ]
  },
  {
   "cell_type": "code",
   "execution_count": 21,
   "id": "dd2507d3",
   "metadata": {},
   "outputs": [
    {
     "data": {
      "text/plain": [
       "'안녕하세요. 안녕하세요. 반갑습니다'"
      ]
     },
     "execution_count": 21,
     "metadata": {},
     "output_type": "execute_result"
    }
   ],
   "source": [
    "driver = webdriver.Chrome()\n",
    "time.sleep(0.5)\n",
    "driver.get('https://www.naver.com/')\n",
    "elem = driver.find_element(By.CSS_SELECTOR, 'input#query')\n",
    "elem.send_keys('맞춤법 검사기')\n",
    "elem.send_keys(Keys.RETURN) # enter 키\n",
    "\n",
    "textarea = driver.find_element(By.CLASS_NAME, 'txt_gray')\n",
    "textarea.send_keys('안녕하세요. 안뇽하세요. 방갑습니다')\n",
    "\n",
    "button = driver.find_element(By.CLASS_NAME, 'btn_check')\n",
    "button.click()\n",
    "\n",
    "time.sleep(0.5)\n",
    "soup = BeautifulSoup(driver.page_source, 'html.parser')\n",
    "result = soup.select_one('p._result_text.stand_txt').text\n",
    "driver.close()\n",
    "result"
   ]
  },
  {
   "cell_type": "markdown",
   "id": "8f599451",
   "metadata": {},
   "source": [
    "### 맞춤법 검사 전 text파일을 맞춤법 검사 완료된 text파일로 output"
   ]
  },
  {
   "cell_type": "code",
   "execution_count": 22,
   "id": "c996eb61",
   "metadata": {},
   "outputs": [],
   "source": [
    "# f = open('data/ch14_맞춤법검사전.txt','r',encoding='utf-8')\n",
    "# text = f.read()\n",
    "# f.close()"
   ]
  },
  {
   "cell_type": "code",
   "execution_count": 23,
   "id": "3355fd80",
   "metadata": {},
   "outputs": [
    {
     "name": "stdout",
     "output_type": "stream",
     "text": [
      "198\n",
      "198\n",
      "221\n"
     ]
    }
   ],
   "source": [
    "with open('data/ch14_맞춤법검사전.txt', 'r', encoding = 'utf-8') as f:\n",
    "    text = f.read()\n",
    "ready_list = []\n",
    "while(len(text) > 300):\n",
    "    temp = text[:300]\n",
    "    last_dot_index = temp.rfind('\\n')\n",
    "    ready_list.append(text[:last_dot_index+1])\n",
    "    print(last_dot_index)\n",
    "    text = text[last_dot_index+1 : ]\n",
    "ready_list.append(text[1:])"
   ]
  },
  {
   "cell_type": "code",
   "execution_count": 24,
   "id": "f71f2b43",
   "metadata": {},
   "outputs": [
    {
     "data": {
      "text/plain": [
       "[199, 199, 222, 296]"
      ]
     },
     "execution_count": 24,
     "metadata": {},
     "output_type": "execute_result"
    }
   ],
   "source": [
    "# ready_list 확인\n",
    "[len(ready) for ready in ready_list]"
   ]
  },
  {
   "cell_type": "code",
   "execution_count": 25,
   "id": "cde73045",
   "metadata": {},
   "outputs": [],
   "source": [
    "driver = webdriver.Chrome()\n",
    "time.sleep(1)\n",
    "driver.get('https://www.naver.com')\n",
    "elem = driver.find_element(By.NAME,'query')\n",
    "elem.send_keys('맞춤법 검사기')\n",
    "elem.send_keys(Keys.RETURN)\n",
    "time.sleep(1) # 1초 대기\n",
    "# driver.implicitly_wait(1)\n",
    "\n",
    "results = '' # 맞춤법 검사 완료된 text\n",
    "textarea = driver.find_element(By.CLASS_NAME,'txt_gray')\n",
    "\n",
    "for ready in ready_list:\n",
    "    textarea.send_keys(Keys.CONTROL, 'a') # ctrl + a\n",
    "    textarea.send_keys(ready)\n",
    "    button = driver.find_element(By.CLASS_NAME,'btn_check')\n",
    "    button.click()\n",
    "    time.sleep(1)\n",
    "    soup = BeautifulSoup(driver.page_source, 'html.parser')\n",
    "    result = soup.select_one('p._result_text').text\n",
    "    results += result+'\\n'\n",
    "driver.close()"
   ]
  },
  {
   "cell_type": "code",
   "execution_count": 26,
   "id": "086ed454",
   "metadata": {},
   "outputs": [
    {
     "name": "stdout",
     "output_type": "stream",
     "text": [
      "노벨문학상은 매년 세계에서 뛰어난 문학적 업적을 이룬 작가에게 수여되는 상으로, 스웨덴의 발명가 알프레드 노벨의 유언에 따라 1901년부터 재정되었습니다. 노벨은 자신의 제산을 사용하여 인류에 공헌한 분야에 상을 주기로 하였고, 그중 하나가 바로 문학이었습니다. 매년 수상자는 스웨덴 왕이 공식 발표하며, 시상식은 이듬해 12월 스톡홀름에서 열립니다.\n",
      "이 상은 특정 장르에 재한을 두지 않고, 다양한 분야에서 뛰어난 업적을 이룬 작가들에게 주어집니다. 주로 소설가, 시인, 극작가 등이 수상자로 선정되며, 문학적 기여를 인정받은 작가에게 수여됩니다. 노벨문학상은 그저 문학적 성취를 인정하는 것에 그치지 않고, 작가의 작품이 인류에 끼친 영향, 사회적 메시지, 그리고 문화적 기여 등을 평가하는 상입니다.\n",
      "노벨문학상의 수상자들은 종종 사회적 문제를 다룬 작품을 통해 큰 영행을 미칩니다. 예를 들어, 알베르 카뮈는 실존주의와 부조리 문제를 다룬 작품으로, 토니 모리슨은 아프리카계 미국인의 역사와 문화를 탐구하는 작품으로 수상했습니다. 이처럼 노벨문학상은 단순히 뛰어난 문학 작품을 인정하는 것 이상으로, 작가가 창조한 작품을 통해 세계의 문제를 성찰하고 해결책을 제시하는 데 중요한 역할을 합니다.\n",
      "근에는 현대 사회의 다양한 이슈들이 문학작품의 주제로 등장하면서, 노벨문학상도 그 방향에 영향을 받고 있습니다. 환경 문제, 인종 문제, 디지털 문학 등 새로운 시대적 흐름을 반영하는 작품들이 수상작으로 선정되는 추세입니다. 예를 들어, 2023년에는 일본의 소설가 오카자키 아미가 수상했으며, 그녀는 인간관계의 복잡성과 심리적 깊이를 탐구하는 작품으로 인정받았습니다.노벨문학상은 전 세계 문학계에서 가장 권위 있는 상으로, 작가들에게 큰 명예를 안겨주며, 그들의 작품이 전 세계에 더 널리 퍼질 수 있는 기회를 제공합니다.\n",
      "\n"
     ]
    }
   ],
   "source": [
    "print(results)"
   ]
  },
  {
   "cell_type": "code",
   "execution_count": 27,
   "id": "3bbc648a",
   "metadata": {},
   "outputs": [],
   "source": [
    "# 맞춤법 결과 result를 data/ch14_맞춤법검사후.txt로 출력\n",
    "with open('data/ch14_맞춤법검사후.txt','w',encoding='utf-8')as f:\n",
    "    f.write(results)"
   ]
  },
  {
   "cell_type": "markdown",
   "id": "f9ffc39b",
   "metadata": {},
   "source": [
    "# 연습문제"
   ]
  },
  {
   "cell_type": "code",
   "execution_count": 28,
   "id": "ff75c488",
   "metadata": {},
   "outputs": [],
   "source": [
    "# 필요한 package import\n",
    "from selenium import webdriver\n",
    "from selenium.webdriver.common.keys import Keys\n",
    "from selenium.webdriver.common.by import By\n",
    "from bs4 import BeautifulSoup\n",
    "import time\n",
    "\n",
    "\n",
    "# 파일 읽어오기\n",
    "with open('data/ch14_맞춤법검사후.txt','r',encoding='utf-8')as f:\n",
    "    text=f.read()\n",
    "\n",
    "\n",
    "# 검색할 text 재단\n",
    "text_list=[]\n",
    "while(len(text)>1000):\n",
    "    temp = text[:1000]\n",
    "    last_dot_index=temp.rfind('.')\n",
    "    text_list.append(temp[:last_dot_index+1])\n",
    "    text=text[last_dot_index+1:]\n",
    "text_list.append(text)\n",
    "\n",
    "\n",
    "# 브라우저 실행\n",
    "driver = webdriver.Chrome()\n",
    "driver.get('https://translate.kakao.com/')\n",
    "\n",
    "\n",
    "# 검색과 for문 결합\n",
    "results = ''\n",
    "for text in text_list:\n",
    "    # 검색할 text 입력 및 버튼 실행\n",
    "    elem = driver.find_element(By.CLASS_NAME, 'translate_area')\n",
    "    elem.clear()\n",
    "    elem.send_keys(text)\n",
    "    button = driver.find_element(By.CLASS_NAME, 'btn_translate')\n",
    "    button.click()\n",
    "    # 검색후 결과 읽어오기\n",
    "    time.sleep(1)\n",
    "    soup = BeautifulSoup(driver.page_source, 'html.parser')\n",
    "    results += soup.select_one('div.result_area').text+'\\n'\n",
    "    \n",
    "#브라우저 종료 후 파일 출력\n",
    "driver.close()\n",
    "with open('data/ch14_영문번역.txt','w',encoding='utf-8') as f:\n",
    "    f.write(results)"
   ]
  },
  {
   "cell_type": "markdown",
   "id": "9bb6bf01",
   "metadata": {},
   "source": [
    "# 3절. 자동화\n",
    "## 3-1. 컴퓨터가 파이썬을 실행\n",
    "    - unix : corn\n",
    "    - win : 작업스케쥴러\n",
    "        * window + R : taskschd.msc\n",
    "## 3-2. 파이썬 프로그램에서 스케쥴링\n",
    "    - pip install schedule\n",
    "        "
   ]
  },
  {
   "cell_type": "code",
   "execution_count": 30,
   "id": "94052bd3",
   "metadata": {},
   "outputs": [
    {
     "name": "stdout",
     "output_type": "stream",
     "text": [
      "작업이 실행되었습니다.\n"
     ]
    },
    {
     "ename": "KeyboardInterrupt",
     "evalue": "",
     "output_type": "error",
     "traceback": [
      "\u001b[1;31m---------------------------------------------------------------------------\u001b[0m",
      "\u001b[1;31mKeyboardInterrupt\u001b[0m                         Traceback (most recent call last)",
      "Cell \u001b[1;32mIn[30], line 16\u001b[0m\n\u001b[0;32m     14\u001b[0m \u001b[38;5;28;01mwhile\u001b[39;00m \u001b[38;5;28;01mTrue\u001b[39;00m:\n\u001b[0;32m     15\u001b[0m     schedule\u001b[38;5;241m.\u001b[39mrun_pending()\n\u001b[1;32m---> 16\u001b[0m     \u001b[43mtime\u001b[49m\u001b[38;5;241;43m.\u001b[39;49m\u001b[43msleep\u001b[49m\u001b[43m(\u001b[49m\u001b[38;5;241;43m1\u001b[39;49m\u001b[43m)\u001b[49m\n",
      "\u001b[1;31mKeyboardInterrupt\u001b[0m: "
     ]
    }
   ],
   "source": [
    "import schedule\n",
    "import time\n",
    "\n",
    "def job():\n",
    "    print('작업이 실행되었습니다.')\n",
    "# job함수는 10초마다 수행할 거야\n",
    "schedule.every(10).seconds.do(job)\n",
    "\n",
    "# schedule.every().day.at('17:59').do(job)\n",
    "# schedule.every().hour.do(job)\n",
    "# schedule.every(1).minutes.do(job)\n",
    "\n",
    "# 무한 루프를 돌며 스케쥴된 작업이 있는지 확인하고 자동화\n",
    "while True:\n",
    "    schedule.run_pending()\n",
    "    time.sleep(1)"
   ]
  },
  {
   "cell_type": "code",
   "execution_count": null,
   "id": "526300cd",
   "metadata": {},
   "outputs": [],
   "source": []
  }
 ],
 "metadata": {
  "kernelspec": {
   "display_name": "Python 3 (ipykernel)",
   "language": "python",
   "name": "python3"
  },
  "language_info": {
   "codemirror_mode": {
    "name": "ipython",
    "version": 3
   },
   "file_extension": ".py",
   "mimetype": "text/x-python",
   "name": "python",
   "nbconvert_exporter": "python",
   "pygments_lexer": "ipython3",
   "version": "3.10.9"
  },
  "toc": {
   "base_numbering": 1,
   "nav_menu": {},
   "number_sections": true,
   "sideBar": true,
   "skip_h1_title": false,
   "title_cell": "Table of Contents",
   "title_sidebar": "Contents",
   "toc_cell": false,
   "toc_position": {},
   "toc_section_display": true,
   "toc_window_display": false
  }
 },
 "nbformat": 4,
 "nbformat_minor": 5
}
