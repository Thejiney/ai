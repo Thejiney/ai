{
 "cells": [
  {
   "cell_type": "markdown",
   "id": "868a9227",
   "metadata": {},
   "source": [
    "<b><font size=\"6\" color=\"red\">ch02. 딥러닝 분류분석</font></b>"
   ]
  },
  {
   "cell_type": "code",
   "execution_count": 2,
   "id": "2e721c1b",
   "metadata": {},
   "outputs": [
    {
     "name": "stdout",
     "output_type": "stream",
     "text": [
      "2.10.0\n"
     ]
    },
    {
     "data": {
      "text/plain": [
       "[]"
      ]
     },
     "execution_count": 2,
     "metadata": {},
     "output_type": "execute_result"
    }
   ],
   "source": [
    "# GPU 사용 여부 확인\n",
    "import tensorflow as tf\n",
    "print(tf.__version__)\n",
    "tf.config.list_physical_devices('GPU')"
   ]
  },
  {
   "cell_type": "markdown",
   "id": "7b792f06",
   "metadata": {},
   "source": [
    "## 머신러닝/딥러닝 : 데이터의 법칙성을 추출\n",
    "    - 다양한 분야에서 응용 : 글씨인식, 문장분류, 질병진단, 얼굴식별, etc...\n",
    "    \n",
    "    - 지도학습(회귀, 분류) vs 비지도학습(군집) vs 강화학습(게임)\n",
    "    \n",
    "- 1. 데이터 확보 및 생성(inputdata, outputdata)\n",
    "- 2. 데이터 전처리 (결측치, 스케일조정, 훈련데이터셋과 검증데이터셋, 시험데이터셋으로 분류....)\n",
    "- 3. 모델 구성\n",
    "- 4. 모델 학습 과정 설정(손실함수, 옵티마이저, 평가지표)\n",
    "- 5. 모델 학습시키기\n",
    "- 6. 모델 평가(시험데이터셋으로)\n",
    "- 7. 모델 사용(모델 저장 후, 저장된 모델을 이용하여, 입력값이 주어지면 예측값 받기)"
   ]
  },
  {
   "cell_type": "markdown",
   "id": "7778d899",
   "metadata": {},
   "source": [
    "# 1. 데이터 셋 생성\n",
    "# 2. 데이터 전처리"
   ]
  },
  {
   "cell_type": "code",
   "execution_count": 3,
   "id": "9d276354",
   "metadata": {},
   "outputs": [],
   "source": [
    "import numpy as np\n",
    "from tensorflow.keras.utils import to_categorical # 분류분석시 원핫인코딩\n",
    "from tensorflow.keras.models import Sequential # 모델 생성\n",
    "from tensorflow.keras.layers import Dense, Input # 모델에 레이어 추가시"
   ]
  },
  {
   "cell_type": "code",
   "execution_count": 17,
   "id": "20c88f24",
   "metadata": {},
   "outputs": [],
   "source": [
    "# 학습데이터 == 훈련데이터\n",
    "X_train = np.array([1,2,3,4,5,6,7,8,9]*10)\n",
    "Y_train = np.array([2,4,6,8,10,12,14,16,18]*10)\n",
    "# 검증데이터\n",
    "X_val = np.array([1,2,3,4,5,6,7,8,9])\n",
    "Y_val = np.array([2,4,6,8,10,12,14,16,18])"
   ]
  },
  {
   "cell_type": "code",
   "execution_count": 18,
   "id": "5222bf7c",
   "metadata": {},
   "outputs": [
    {
     "name": "stdout",
     "output_type": "stream",
     "text": [
      "원 데이터 : ['a' 'b' 'b' 'b' 'c']\n",
      "라벨인코딩된 데이터 : [0 1 1 1 2]\n",
      "원핫인코딩된 데이터 :\n",
      " [[1. 0. 0.]\n",
      " [0. 1. 0.]\n",
      " [0. 1. 0.]\n",
      " [0. 1. 0.]\n",
      " [0. 0. 1.]]\n"
     ]
    }
   ],
   "source": [
    "# 분류분석을 위한 인코딩 종류\n",
    "data = np.array(['a','b','b','b','c'])\n",
    "print('원 데이터 :',data)\n",
    "from sklearn.preprocessing import LabelEncoder\n",
    "le = LabelEncoder()\n",
    "labeling_data = le.fit_transform(data)\n",
    "print('라벨인코딩된 데이터 :', labeling_data)\n",
    "one_hot_encoding_data = to_categorical(labeling_data)\n",
    "print('원핫인코딩된 데이터 :\\n', one_hot_encoding_data)"
   ]
  },
  {
   "cell_type": "code",
   "execution_count": 19,
   "id": "ed8fbcc7",
   "metadata": {},
   "outputs": [
    {
     "name": "stdout",
     "output_type": "stream",
     "text": [
      "원 데이터 :  [1 2 2 5 9]\n",
      "to_categorical을 이용한 원 핫 인코딩\n",
      " [[0. 1. 0. 0. 0. 0. 0. 0. 0. 0.]\n",
      " [0. 0. 1. 0. 0. 0. 0. 0. 0. 0.]\n",
      " [0. 0. 1. 0. 0. 0. 0. 0. 0. 0.]\n",
      " [0. 0. 0. 0. 0. 1. 0. 0. 0. 0.]\n",
      " [0. 0. 0. 0. 0. 0. 0. 0. 0. 1.]]\n"
     ]
    },
    {
     "data": {
      "text/plain": [
       "'get_dummies를 이용한 원핫인코딩(데이터프레임)'"
      ]
     },
     "metadata": {},
     "output_type": "display_data"
    },
    {
     "data": {
      "text/html": [
       "<div>\n",
       "<style scoped>\n",
       "    .dataframe tbody tr th:only-of-type {\n",
       "        vertical-align: middle;\n",
       "    }\n",
       "\n",
       "    .dataframe tbody tr th {\n",
       "        vertical-align: top;\n",
       "    }\n",
       "\n",
       "    .dataframe thead th {\n",
       "        text-align: right;\n",
       "    }\n",
       "</style>\n",
       "<table border=\"1\" class=\"dataframe\">\n",
       "  <thead>\n",
       "    <tr style=\"text-align: right;\">\n",
       "      <th></th>\n",
       "      <th>1</th>\n",
       "      <th>2</th>\n",
       "      <th>5</th>\n",
       "      <th>9</th>\n",
       "    </tr>\n",
       "  </thead>\n",
       "  <tbody>\n",
       "    <tr>\n",
       "      <th>0</th>\n",
       "      <td>1</td>\n",
       "      <td>0</td>\n",
       "      <td>0</td>\n",
       "      <td>0</td>\n",
       "    </tr>\n",
       "    <tr>\n",
       "      <th>1</th>\n",
       "      <td>0</td>\n",
       "      <td>1</td>\n",
       "      <td>0</td>\n",
       "      <td>0</td>\n",
       "    </tr>\n",
       "    <tr>\n",
       "      <th>2</th>\n",
       "      <td>0</td>\n",
       "      <td>1</td>\n",
       "      <td>0</td>\n",
       "      <td>0</td>\n",
       "    </tr>\n",
       "    <tr>\n",
       "      <th>3</th>\n",
       "      <td>0</td>\n",
       "      <td>0</td>\n",
       "      <td>1</td>\n",
       "      <td>0</td>\n",
       "    </tr>\n",
       "    <tr>\n",
       "      <th>4</th>\n",
       "      <td>0</td>\n",
       "      <td>0</td>\n",
       "      <td>0</td>\n",
       "      <td>1</td>\n",
       "    </tr>\n",
       "  </tbody>\n",
       "</table>\n",
       "</div>"
      ],
      "text/plain": [
       "   1  2  5  9\n",
       "0  1  0  0  0\n",
       "1  0  1  0  0\n",
       "2  0  1  0  0\n",
       "3  0  0  1  0\n",
       "4  0  0  0  1"
      ]
     },
     "metadata": {},
     "output_type": "display_data"
    }
   ],
   "source": [
    "# 분류분석을 위한 원핫인코딩 방법\n",
    "data = np.array([1,2,2,5,9])\n",
    "print('원 데이터 : ', data)\n",
    "categorical_one_hot = to_categorical(data)\n",
    "print('to_categorical을 이용한 원 핫 인코딩\\n', categorical_one_hot)\n",
    "import pandas as pd\n",
    "display('get_dummies를 이용한 원핫인코딩(데이터프레임)',pd.get_dummies(data))"
   ]
  },
  {
   "cell_type": "code",
   "execution_count": 20,
   "id": "67b2019e",
   "metadata": {},
   "outputs": [],
   "source": [
    "# 분류분석을 위해 종속변수(target변수)를 원핫인코딩\n",
    "Y_train = to_categorical(Y_train, 19)\n",
    "Y_val = to_categorical(Y_val)"
   ]
  },
  {
   "cell_type": "code",
   "execution_count": 21,
   "id": "51264841",
   "metadata": {},
   "outputs": [
    {
     "data": {
      "text/plain": [
       "array([[0., 0., 1., 0., 0., 0., 0., 0., 0., 0., 0., 0., 0., 0., 0., 0.,\n",
       "        0., 0., 0.],\n",
       "       [0., 0., 0., 0., 1., 0., 0., 0., 0., 0., 0., 0., 0., 0., 0., 0.,\n",
       "        0., 0., 0.]], dtype=float32)"
      ]
     },
     "execution_count": 21,
     "metadata": {},
     "output_type": "execute_result"
    }
   ],
   "source": [
    "Y_train[:2]"
   ]
  },
  {
   "cell_type": "code",
   "execution_count": 22,
   "id": "644a3414",
   "metadata": {},
   "outputs": [
    {
     "data": {
      "text/plain": [
       "((90,), (90, 19), (9,), (9, 19))"
      ]
     },
     "execution_count": 22,
     "metadata": {},
     "output_type": "execute_result"
    }
   ],
   "source": [
    "X_train.shape, Y_train.shape, X_val.shape, Y_val.shape"
   ]
  },
  {
   "cell_type": "code",
   "execution_count": 23,
   "id": "fd805850",
   "metadata": {},
   "outputs": [
    {
     "data": {
      "text/plain": [
       "array([1, 2])"
      ]
     },
     "execution_count": 23,
     "metadata": {},
     "output_type": "execute_result"
    }
   ],
   "source": [
    "X_train[:2]"
   ]
  },
  {
   "cell_type": "code",
   "execution_count": 24,
   "id": "a60867ec",
   "metadata": {},
   "outputs": [
    {
     "data": {
      "text/plain": [
       "array([[0., 0., 1., 0., 0., 0., 0., 0., 0., 0., 0., 0., 0., 0., 0., 0.,\n",
       "        0., 0., 0.],\n",
       "       [0., 0., 0., 0., 1., 0., 0., 0., 0., 0., 0., 0., 0., 0., 0., 0.,\n",
       "        0., 0., 0.]], dtype=float32)"
      ]
     },
     "execution_count": 24,
     "metadata": {},
     "output_type": "execute_result"
    }
   ],
   "source": [
    "Y_train[:2]"
   ]
  },
  {
   "cell_type": "markdown",
   "id": "4749babd",
   "metadata": {},
   "source": [
    "# 3. 모델 구성"
   ]
  },
  {
   "cell_type": "code",
   "execution_count": 25,
   "id": "a01af90a",
   "metadata": {},
   "outputs": [
    {
     "name": "stdout",
     "output_type": "stream",
     "text": [
      "Model: \"sequential\"\n",
      "_________________________________________________________________\n",
      " Layer (type)                Output Shape              Param #   \n",
      "=================================================================\n",
      " dense (Dense)               (None, 38)                76        \n",
      "                                                                 \n",
      " dense_1 (Dense)             (None, 64)                2496      \n",
      "                                                                 \n",
      " dense_2 (Dense)             (None, 32)                2080      \n",
      "                                                                 \n",
      " dense_3 (Dense)             (None, 19)                627       \n",
      "                                                                 \n",
      "=================================================================\n",
      "Total params: 5,279\n",
      "Trainable params: 5,279\n",
      "Non-trainable params: 0\n",
      "_________________________________________________________________\n",
      "None\n"
     ]
    }
   ],
   "source": [
    "model = Sequential()\n",
    "model.add(Input(shape=(1,)))\n",
    "model.add(Dense(units=38, activation='sigmoid')) # units: 출력수, activation(활성화함수)\n",
    "model.add(Dense(units=64, activation='elu'))\n",
    "model.add(Dense(units=32, activation='elu'))\n",
    "model.add(Dense(units=19, activation='softmax'))\n",
    "# activation='softmax' : 모든 출력의 합이 1. 분류분석의 마지막 layer에서 activation함수로 사용\n",
    "print(model.summary())"
   ]
  },
  {
   "cell_type": "markdown",
   "id": "539ae028",
   "metadata": {},
   "source": [
    "# 4. 모델 학습과정 설정\n",
    "- 손실함수, 옵티마이저, 평가지표\n",
    "    * loss='categorical_crossentropy' : 딥러닝 훈련시 다중분류분석에서 사용"
   ]
  },
  {
   "cell_type": "code",
   "execution_count": 26,
   "id": "9f962d75",
   "metadata": {},
   "outputs": [],
   "source": [
    "model.compile(loss='categorical_crossentropy', optimizer='adam', metrics=['accuracy'])"
   ]
  },
  {
   "cell_type": "markdown",
   "id": "ea19d07d",
   "metadata": {},
   "source": [
    "# 5. 모델 학습시키기"
   ]
  },
  {
   "cell_type": "code",
   "execution_count": 27,
   "id": "18231ae4",
   "metadata": {},
   "outputs": [
    {
     "name": "stdout",
     "output_type": "stream",
     "text": [
      "Epoch 1/300\n",
      "9/9 - 1s - loss: 2.9082 - accuracy: 0.1111 - val_loss: 2.7453 - val_accuracy: 0.1111 - 1s/epoch - 116ms/step\n",
      "Epoch 2/300\n",
      "9/9 - 0s - loss: 2.6884 - accuracy: 0.1778 - val_loss: 2.6004 - val_accuracy: 0.1111 - 50ms/epoch - 6ms/step\n",
      "Epoch 3/300\n",
      "9/9 - 0s - loss: 2.5548 - accuracy: 0.1556 - val_loss: 2.4825 - val_accuracy: 0.2222 - 48ms/epoch - 5ms/step\n",
      "Epoch 4/300\n",
      "9/9 - 0s - loss: 2.4401 - accuracy: 0.1889 - val_loss: 2.3717 - val_accuracy: 0.2222 - 48ms/epoch - 5ms/step\n",
      "Epoch 5/300\n",
      "9/9 - 0s - loss: 2.3366 - accuracy: 0.2222 - val_loss: 2.2678 - val_accuracy: 0.2222 - 48ms/epoch - 5ms/step\n",
      "Epoch 6/300\n",
      "9/9 - 0s - loss: 2.2363 - accuracy: 0.3000 - val_loss: 2.1687 - val_accuracy: 0.4444 - 47ms/epoch - 5ms/step\n",
      "Epoch 7/300\n",
      "9/9 - 0s - loss: 2.1344 - accuracy: 0.4000 - val_loss: 2.0789 - val_accuracy: 0.5556 - 47ms/epoch - 5ms/step\n",
      "Epoch 8/300\n",
      "9/9 - 0s - loss: 2.0516 - accuracy: 0.3222 - val_loss: 1.9944 - val_accuracy: 0.3333 - 44ms/epoch - 5ms/step\n",
      "Epoch 9/300\n",
      "9/9 - 0s - loss: 1.9663 - accuracy: 0.2222 - val_loss: 1.9134 - val_accuracy: 0.2222 - 44ms/epoch - 5ms/step\n",
      "Epoch 10/300\n",
      "9/9 - 0s - loss: 1.8906 - accuracy: 0.2222 - val_loss: 1.8397 - val_accuracy: 0.2222 - 43ms/epoch - 5ms/step\n",
      "Epoch 11/300\n",
      "9/9 - 0s - loss: 1.8189 - accuracy: 0.2222 - val_loss: 1.7713 - val_accuracy: 0.2222 - 43ms/epoch - 5ms/step\n",
      "Epoch 12/300\n",
      "9/9 - 0s - loss: 1.7584 - accuracy: 0.2889 - val_loss: 1.7061 - val_accuracy: 0.3333 - 44ms/epoch - 5ms/step\n",
      "Epoch 13/300\n",
      "9/9 - 0s - loss: 1.6939 - accuracy: 0.4333 - val_loss: 1.6432 - val_accuracy: 0.5556 - 41ms/epoch - 5ms/step\n",
      "Epoch 14/300\n",
      "9/9 - 0s - loss: 1.6279 - accuracy: 0.2889 - val_loss: 1.5861 - val_accuracy: 0.4444 - 44ms/epoch - 5ms/step\n",
      "Epoch 15/300\n",
      "9/9 - 0s - loss: 1.5679 - accuracy: 0.4889 - val_loss: 1.5295 - val_accuracy: 0.4444 - 43ms/epoch - 5ms/step\n",
      "Epoch 16/300\n",
      "9/9 - 0s - loss: 1.5210 - accuracy: 0.3889 - val_loss: 1.4817 - val_accuracy: 0.4444 - 44ms/epoch - 5ms/step\n",
      "Epoch 17/300\n",
      "9/9 - 0s - loss: 1.4757 - accuracy: 0.3778 - val_loss: 1.4343 - val_accuracy: 0.5556 - 41ms/epoch - 5ms/step\n",
      "Epoch 18/300\n",
      "9/9 - 0s - loss: 1.4288 - accuracy: 0.5222 - val_loss: 1.3907 - val_accuracy: 0.5556 - 43ms/epoch - 5ms/step\n",
      "Epoch 19/300\n",
      "9/9 - 0s - loss: 1.3867 - accuracy: 0.5556 - val_loss: 1.3488 - val_accuracy: 0.5556 - 43ms/epoch - 5ms/step\n",
      "Epoch 20/300\n",
      "9/9 - 0s - loss: 1.3501 - accuracy: 0.5444 - val_loss: 1.3142 - val_accuracy: 0.5556 - 41ms/epoch - 5ms/step\n",
      "Epoch 21/300\n",
      "9/9 - 0s - loss: 1.3202 - accuracy: 0.5111 - val_loss: 1.2765 - val_accuracy: 0.5556 - 43ms/epoch - 5ms/step\n",
      "Epoch 22/300\n",
      "9/9 - 0s - loss: 1.2725 - accuracy: 0.5556 - val_loss: 1.2408 - val_accuracy: 0.6667 - 41ms/epoch - 5ms/step\n",
      "Epoch 23/300\n",
      "9/9 - 0s - loss: 1.2422 - accuracy: 0.6444 - val_loss: 1.2118 - val_accuracy: 0.7778 - 43ms/epoch - 5ms/step\n",
      "Epoch 24/300\n",
      "9/9 - 0s - loss: 1.2061 - accuracy: 0.7667 - val_loss: 1.1793 - val_accuracy: 0.8889 - 45ms/epoch - 5ms/step\n",
      "Epoch 25/300\n",
      "9/9 - 0s - loss: 1.1831 - accuracy: 0.7111 - val_loss: 1.1506 - val_accuracy: 0.7778 - 44ms/epoch - 5ms/step\n",
      "Epoch 26/300\n",
      "9/9 - 0s - loss: 1.1487 - accuracy: 0.7778 - val_loss: 1.1203 - val_accuracy: 0.7778 - 44ms/epoch - 5ms/step\n",
      "Epoch 27/300\n",
      "9/9 - 0s - loss: 1.1231 - accuracy: 0.8000 - val_loss: 1.0938 - val_accuracy: 0.8889 - 41ms/epoch - 5ms/step\n",
      "Epoch 28/300\n",
      "9/9 - 0s - loss: 1.0899 - accuracy: 0.8556 - val_loss: 1.0650 - val_accuracy: 0.8889 - 46ms/epoch - 5ms/step\n",
      "Epoch 29/300\n",
      "9/9 - 0s - loss: 1.0637 - accuracy: 0.8444 - val_loss: 1.0376 - val_accuracy: 0.7778 - 45ms/epoch - 5ms/step\n",
      "Epoch 30/300\n",
      "9/9 - 0s - loss: 1.0433 - accuracy: 0.8111 - val_loss: 1.0150 - val_accuracy: 0.8889 - 43ms/epoch - 5ms/step\n",
      "Epoch 31/300\n",
      "9/9 - 0s - loss: 1.0146 - accuracy: 0.8889 - val_loss: 0.9895 - val_accuracy: 0.8889 - 41ms/epoch - 5ms/step\n",
      "Epoch 32/300\n",
      "9/9 - 0s - loss: 0.9918 - accuracy: 0.9111 - val_loss: 0.9647 - val_accuracy: 0.8889 - 46ms/epoch - 5ms/step\n",
      "Epoch 33/300\n",
      "9/9 - 0s - loss: 0.9633 - accuracy: 0.8444 - val_loss: 0.9404 - val_accuracy: 0.7778 - 45ms/epoch - 5ms/step\n",
      "Epoch 34/300\n",
      "9/9 - 0s - loss: 0.9499 - accuracy: 0.8889 - val_loss: 0.9175 - val_accuracy: 1.0000 - 43ms/epoch - 5ms/step\n",
      "Epoch 35/300\n",
      "9/9 - 0s - loss: 0.9238 - accuracy: 0.8889 - val_loss: 0.8969 - val_accuracy: 0.8889 - 42ms/epoch - 5ms/step\n",
      "Epoch 36/300\n",
      "9/9 - 0s - loss: 0.8970 - accuracy: 0.8889 - val_loss: 0.8781 - val_accuracy: 0.8889 - 46ms/epoch - 5ms/step\n",
      "Epoch 37/300\n",
      "9/9 - 0s - loss: 0.8769 - accuracy: 0.8889 - val_loss: 0.8549 - val_accuracy: 0.8889 - 44ms/epoch - 5ms/step\n",
      "Epoch 38/300\n",
      "9/9 - 0s - loss: 0.8549 - accuracy: 0.8778 - val_loss: 0.8321 - val_accuracy: 1.0000 - 44ms/epoch - 5ms/step\n",
      "Epoch 39/300\n",
      "9/9 - 0s - loss: 0.8362 - accuracy: 0.9556 - val_loss: 0.8087 - val_accuracy: 0.8889 - 42ms/epoch - 5ms/step\n",
      "Epoch 40/300\n",
      "9/9 - 0s - loss: 0.8155 - accuracy: 0.9333 - val_loss: 0.7905 - val_accuracy: 1.0000 - 43ms/epoch - 5ms/step\n",
      "Epoch 41/300\n",
      "9/9 - 0s - loss: 0.7957 - accuracy: 0.8889 - val_loss: 0.7681 - val_accuracy: 0.8889 - 43ms/epoch - 5ms/step\n",
      "Epoch 42/300\n",
      "9/9 - 0s - loss: 0.7787 - accuracy: 0.8889 - val_loss: 0.7498 - val_accuracy: 0.8889 - 43ms/epoch - 5ms/step\n",
      "Epoch 43/300\n",
      "9/9 - 0s - loss: 0.7582 - accuracy: 0.9333 - val_loss: 0.7378 - val_accuracy: 1.0000 - 41ms/epoch - 5ms/step\n",
      "Epoch 44/300\n",
      "9/9 - 0s - loss: 0.7343 - accuracy: 0.9778 - val_loss: 0.7139 - val_accuracy: 0.8889 - 50ms/epoch - 6ms/step\n",
      "Epoch 45/300\n",
      "9/9 - 0s - loss: 0.7204 - accuracy: 0.8889 - val_loss: 0.6979 - val_accuracy: 0.8889 - 39ms/epoch - 4ms/step\n",
      "Epoch 46/300\n",
      "9/9 - 0s - loss: 0.6951 - accuracy: 0.8889 - val_loss: 0.6753 - val_accuracy: 1.0000 - 44ms/epoch - 5ms/step\n",
      "Epoch 47/300\n",
      "9/9 - 0s - loss: 0.6815 - accuracy: 1.0000 - val_loss: 0.6599 - val_accuracy: 1.0000 - 44ms/epoch - 5ms/step\n",
      "Epoch 48/300\n",
      "9/9 - 0s - loss: 0.6693 - accuracy: 1.0000 - val_loss: 0.6429 - val_accuracy: 1.0000 - 42ms/epoch - 5ms/step\n",
      "Epoch 49/300\n",
      "9/9 - 0s - loss: 0.6404 - accuracy: 1.0000 - val_loss: 0.6217 - val_accuracy: 1.0000 - 48ms/epoch - 5ms/step\n",
      "Epoch 50/300\n",
      "9/9 - 0s - loss: 0.6344 - accuracy: 0.9000 - val_loss: 0.6100 - val_accuracy: 1.0000 - 50ms/epoch - 6ms/step\n",
      "Epoch 51/300\n",
      "9/9 - 0s - loss: 0.6168 - accuracy: 1.0000 - val_loss: 0.5955 - val_accuracy: 1.0000 - 48ms/epoch - 5ms/step\n",
      "Epoch 52/300\n",
      "9/9 - 0s - loss: 0.5929 - accuracy: 0.9333 - val_loss: 0.5745 - val_accuracy: 1.0000 - 48ms/epoch - 5ms/step\n",
      "Epoch 53/300\n",
      "9/9 - 0s - loss: 0.5745 - accuracy: 1.0000 - val_loss: 0.5593 - val_accuracy: 1.0000 - 49ms/epoch - 5ms/step\n",
      "Epoch 54/300\n",
      "9/9 - 0s - loss: 0.5586 - accuracy: 1.0000 - val_loss: 0.5387 - val_accuracy: 1.0000 - 46ms/epoch - 5ms/step\n",
      "Epoch 55/300\n",
      "9/9 - 0s - loss: 0.5406 - accuracy: 1.0000 - val_loss: 0.5244 - val_accuracy: 1.0000 - 45ms/epoch - 5ms/step\n",
      "Epoch 56/300\n",
      "9/9 - 0s - loss: 0.5353 - accuracy: 0.9556 - val_loss: 0.5084 - val_accuracy: 1.0000 - 46ms/epoch - 5ms/step\n",
      "Epoch 57/300\n",
      "9/9 - 0s - loss: 0.5166 - accuracy: 0.9333 - val_loss: 0.4971 - val_accuracy: 0.8889 - 40ms/epoch - 4ms/step\n",
      "Epoch 58/300\n",
      "9/9 - 0s - loss: 0.5040 - accuracy: 0.9889 - val_loss: 0.4801 - val_accuracy: 1.0000 - 42ms/epoch - 5ms/step\n",
      "Epoch 59/300\n",
      "9/9 - 0s - loss: 0.4889 - accuracy: 1.0000 - val_loss: 0.4655 - val_accuracy: 1.0000 - 42ms/epoch - 5ms/step\n",
      "Epoch 60/300\n",
      "9/9 - 0s - loss: 0.4656 - accuracy: 1.0000 - val_loss: 0.4521 - val_accuracy: 1.0000 - 42ms/epoch - 5ms/step\n",
      "Epoch 61/300\n",
      "9/9 - 0s - loss: 0.4525 - accuracy: 1.0000 - val_loss: 0.4365 - val_accuracy: 1.0000 - 42ms/epoch - 5ms/step\n",
      "Epoch 62/300\n",
      "9/9 - 0s - loss: 0.4368 - accuracy: 1.0000 - val_loss: 0.4212 - val_accuracy: 1.0000 - 41ms/epoch - 5ms/step\n",
      "Epoch 63/300\n",
      "9/9 - 0s - loss: 0.4283 - accuracy: 1.0000 - val_loss: 0.4084 - val_accuracy: 1.0000 - 42ms/epoch - 5ms/step\n",
      "Epoch 64/300\n",
      "9/9 - 0s - loss: 0.4182 - accuracy: 0.9667 - val_loss: 0.3992 - val_accuracy: 1.0000 - 46ms/epoch - 5ms/step\n",
      "Epoch 65/300\n",
      "9/9 - 0s - loss: 0.3979 - accuracy: 1.0000 - val_loss: 0.3850 - val_accuracy: 1.0000 - 42ms/epoch - 5ms/step\n",
      "Epoch 66/300\n",
      "9/9 - 0s - loss: 0.3863 - accuracy: 1.0000 - val_loss: 0.3688 - val_accuracy: 1.0000 - 44ms/epoch - 5ms/step\n",
      "Epoch 67/300\n",
      "9/9 - 0s - loss: 0.3689 - accuracy: 1.0000 - val_loss: 0.3581 - val_accuracy: 1.0000 - 45ms/epoch - 5ms/step\n",
      "Epoch 68/300\n",
      "9/9 - 0s - loss: 0.3636 - accuracy: 1.0000 - val_loss: 0.3483 - val_accuracy: 1.0000 - 43ms/epoch - 5ms/step\n"
     ]
    },
    {
     "name": "stdout",
     "output_type": "stream",
     "text": [
      "Epoch 69/300\n",
      "9/9 - 0s - loss: 0.3570 - accuracy: 1.0000 - val_loss: 0.3420 - val_accuracy: 1.0000 - 43ms/epoch - 5ms/step\n",
      "Epoch 70/300\n",
      "9/9 - 0s - loss: 0.3443 - accuracy: 1.0000 - val_loss: 0.3285 - val_accuracy: 1.0000 - 44ms/epoch - 5ms/step\n",
      "Epoch 71/300\n",
      "9/9 - 0s - loss: 0.3298 - accuracy: 1.0000 - val_loss: 0.3140 - val_accuracy: 1.0000 - 43ms/epoch - 5ms/step\n",
      "Epoch 72/300\n",
      "9/9 - 0s - loss: 0.3076 - accuracy: 1.0000 - val_loss: 0.3009 - val_accuracy: 1.0000 - 44ms/epoch - 5ms/step\n",
      "Epoch 73/300\n",
      "9/9 - 0s - loss: 0.2997 - accuracy: 1.0000 - val_loss: 0.2949 - val_accuracy: 1.0000 - 45ms/epoch - 5ms/step\n",
      "Epoch 74/300\n",
      "9/9 - 0s - loss: 0.3001 - accuracy: 1.0000 - val_loss: 0.2958 - val_accuracy: 1.0000 - 43ms/epoch - 5ms/step\n",
      "Epoch 75/300\n",
      "9/9 - 0s - loss: 0.3251 - accuracy: 0.9333 - val_loss: 0.3152 - val_accuracy: 1.0000 - 47ms/epoch - 5ms/step\n",
      "Epoch 76/300\n",
      "9/9 - 0s - loss: 0.3051 - accuracy: 1.0000 - val_loss: 0.2779 - val_accuracy: 1.0000 - 44ms/epoch - 5ms/step\n",
      "Epoch 77/300\n",
      "9/9 - 0s - loss: 0.2687 - accuracy: 1.0000 - val_loss: 0.2540 - val_accuracy: 1.0000 - 42ms/epoch - 5ms/step\n",
      "Epoch 78/300\n",
      "9/9 - 0s - loss: 0.2637 - accuracy: 1.0000 - val_loss: 0.2479 - val_accuracy: 1.0000 - 42ms/epoch - 5ms/step\n",
      "Epoch 79/300\n",
      "9/9 - 0s - loss: 0.2443 - accuracy: 1.0000 - val_loss: 0.2362 - val_accuracy: 1.0000 - 41ms/epoch - 5ms/step\n",
      "Epoch 80/300\n",
      "9/9 - 0s - loss: 0.2400 - accuracy: 1.0000 - val_loss: 0.2323 - val_accuracy: 1.0000 - 40ms/epoch - 4ms/step\n",
      "Epoch 81/300\n",
      "9/9 - 0s - loss: 0.2290 - accuracy: 1.0000 - val_loss: 0.2214 - val_accuracy: 1.0000 - 40ms/epoch - 4ms/step\n",
      "Epoch 82/300\n",
      "9/9 - 0s - loss: 0.2218 - accuracy: 1.0000 - val_loss: 0.2126 - val_accuracy: 1.0000 - 42ms/epoch - 5ms/step\n",
      "Epoch 83/300\n",
      "9/9 - 0s - loss: 0.2146 - accuracy: 1.0000 - val_loss: 0.2075 - val_accuracy: 1.0000 - 43ms/epoch - 5ms/step\n",
      "Epoch 84/300\n",
      "9/9 - 0s - loss: 0.2090 - accuracy: 1.0000 - val_loss: 0.2027 - val_accuracy: 1.0000 - 43ms/epoch - 5ms/step\n",
      "Epoch 85/300\n",
      "9/9 - 0s - loss: 0.2029 - accuracy: 1.0000 - val_loss: 0.1945 - val_accuracy: 1.0000 - 42ms/epoch - 5ms/step\n",
      "Epoch 86/300\n",
      "9/9 - 0s - loss: 0.2010 - accuracy: 1.0000 - val_loss: 0.1928 - val_accuracy: 1.0000 - 43ms/epoch - 5ms/step\n",
      "Epoch 87/300\n",
      "9/9 - 0s - loss: 0.1893 - accuracy: 1.0000 - val_loss: 0.1806 - val_accuracy: 1.0000 - 42ms/epoch - 5ms/step\n",
      "Epoch 88/300\n",
      "9/9 - 0s - loss: 0.1783 - accuracy: 1.0000 - val_loss: 0.1698 - val_accuracy: 1.0000 - 42ms/epoch - 5ms/step\n",
      "Epoch 89/300\n",
      "9/9 - 0s - loss: 0.1684 - accuracy: 1.0000 - val_loss: 0.1648 - val_accuracy: 1.0000 - 43ms/epoch - 5ms/step\n",
      "Epoch 90/300\n",
      "9/9 - 0s - loss: 0.1673 - accuracy: 1.0000 - val_loss: 0.1591 - val_accuracy: 1.0000 - 44ms/epoch - 5ms/step\n",
      "Epoch 91/300\n",
      "9/9 - 0s - loss: 0.1605 - accuracy: 1.0000 - val_loss: 0.1552 - val_accuracy: 1.0000 - 40ms/epoch - 4ms/step\n",
      "Epoch 92/300\n",
      "9/9 - 0s - loss: 0.1601 - accuracy: 1.0000 - val_loss: 0.1480 - val_accuracy: 1.0000 - 44ms/epoch - 5ms/step\n",
      "Epoch 93/300\n",
      "9/9 - 0s - loss: 0.1498 - accuracy: 1.0000 - val_loss: 0.1420 - val_accuracy: 1.0000 - 42ms/epoch - 5ms/step\n",
      "Epoch 94/300\n",
      "9/9 - 0s - loss: 0.1411 - accuracy: 1.0000 - val_loss: 0.1366 - val_accuracy: 1.0000 - 42ms/epoch - 5ms/step\n",
      "Epoch 95/300\n",
      "9/9 - 0s - loss: 0.1360 - accuracy: 1.0000 - val_loss: 0.1316 - val_accuracy: 1.0000 - 42ms/epoch - 5ms/step\n",
      "Epoch 96/300\n",
      "9/9 - 0s - loss: 0.1308 - accuracy: 1.0000 - val_loss: 0.1258 - val_accuracy: 1.0000 - 44ms/epoch - 5ms/step\n",
      "Epoch 97/300\n",
      "9/9 - 0s - loss: 0.1263 - accuracy: 1.0000 - val_loss: 0.1220 - val_accuracy: 1.0000 - 43ms/epoch - 5ms/step\n",
      "Epoch 98/300\n",
      "9/9 - 0s - loss: 0.1215 - accuracy: 1.0000 - val_loss: 0.1171 - val_accuracy: 1.0000 - 41ms/epoch - 5ms/step\n",
      "Epoch 99/300\n",
      "9/9 - 0s - loss: 0.1198 - accuracy: 1.0000 - val_loss: 0.1151 - val_accuracy: 1.0000 - 43ms/epoch - 5ms/step\n",
      "Epoch 100/300\n",
      "9/9 - 0s - loss: 0.1154 - accuracy: 1.0000 - val_loss: 0.1130 - val_accuracy: 1.0000 - 41ms/epoch - 5ms/step\n",
      "Epoch 101/300\n",
      "9/9 - 0s - loss: 0.1117 - accuracy: 1.0000 - val_loss: 0.1053 - val_accuracy: 1.0000 - 42ms/epoch - 5ms/step\n",
      "Epoch 102/300\n",
      "9/9 - 0s - loss: 0.1078 - accuracy: 1.0000 - val_loss: 0.1022 - val_accuracy: 1.0000 - 42ms/epoch - 5ms/step\n",
      "Epoch 103/300\n",
      "9/9 - 0s - loss: 0.1021 - accuracy: 1.0000 - val_loss: 0.0976 - val_accuracy: 1.0000 - 43ms/epoch - 5ms/step\n",
      "Epoch 104/300\n",
      "9/9 - 0s - loss: 0.0998 - accuracy: 1.0000 - val_loss: 0.0951 - val_accuracy: 1.0000 - 41ms/epoch - 5ms/step\n",
      "Epoch 105/300\n",
      "9/9 - 0s - loss: 0.1017 - accuracy: 1.0000 - val_loss: 0.1079 - val_accuracy: 1.0000 - 43ms/epoch - 5ms/step\n",
      "Epoch 106/300\n",
      "9/9 - 0s - loss: 0.1003 - accuracy: 1.0000 - val_loss: 0.0901 - val_accuracy: 1.0000 - 44ms/epoch - 5ms/step\n",
      "Epoch 107/300\n",
      "9/9 - 0s - loss: 0.0897 - accuracy: 1.0000 - val_loss: 0.0840 - val_accuracy: 1.0000 - 43ms/epoch - 5ms/step\n",
      "Epoch 108/300\n",
      "9/9 - 0s - loss: 0.0845 - accuracy: 1.0000 - val_loss: 0.0809 - val_accuracy: 1.0000 - 47ms/epoch - 5ms/step\n",
      "Epoch 109/300\n",
      "9/9 - 0s - loss: 0.0820 - accuracy: 1.0000 - val_loss: 0.0795 - val_accuracy: 1.0000 - 41ms/epoch - 5ms/step\n",
      "Epoch 110/300\n",
      "9/9 - 0s - loss: 0.0805 - accuracy: 1.0000 - val_loss: 0.0761 - val_accuracy: 1.0000 - 40ms/epoch - 4ms/step\n",
      "Epoch 111/300\n",
      "9/9 - 0s - loss: 0.0777 - accuracy: 1.0000 - val_loss: 0.0735 - val_accuracy: 1.0000 - 42ms/epoch - 5ms/step\n",
      "Epoch 112/300\n",
      "9/9 - 0s - loss: 0.0734 - accuracy: 1.0000 - val_loss: 0.0721 - val_accuracy: 1.0000 - 43ms/epoch - 5ms/step\n",
      "Epoch 113/300\n",
      "9/9 - 0s - loss: 0.0721 - accuracy: 1.0000 - val_loss: 0.0681 - val_accuracy: 1.0000 - 40ms/epoch - 4ms/step\n",
      "Epoch 114/300\n",
      "9/9 - 0s - loss: 0.0711 - accuracy: 1.0000 - val_loss: 0.0666 - val_accuracy: 1.0000 - 43ms/epoch - 5ms/step\n",
      "Epoch 115/300\n",
      "9/9 - 0s - loss: 0.0666 - accuracy: 1.0000 - val_loss: 0.0667 - val_accuracy: 1.0000 - 41ms/epoch - 5ms/step\n",
      "Epoch 116/300\n",
      "9/9 - 0s - loss: 0.0647 - accuracy: 1.0000 - val_loss: 0.0616 - val_accuracy: 1.0000 - 42ms/epoch - 5ms/step\n",
      "Epoch 117/300\n",
      "9/9 - 0s - loss: 0.0637 - accuracy: 1.0000 - val_loss: 0.0605 - val_accuracy: 1.0000 - 41ms/epoch - 5ms/step\n",
      "Epoch 118/300\n",
      "9/9 - 0s - loss: 0.0607 - accuracy: 1.0000 - val_loss: 0.0581 - val_accuracy: 1.0000 - 43ms/epoch - 5ms/step\n",
      "Epoch 119/300\n",
      "9/9 - 0s - loss: 0.0576 - accuracy: 1.0000 - val_loss: 0.0555 - val_accuracy: 1.0000 - 41ms/epoch - 5ms/step\n",
      "Epoch 120/300\n",
      "9/9 - 0s - loss: 0.0552 - accuracy: 1.0000 - val_loss: 0.0538 - val_accuracy: 1.0000 - 42ms/epoch - 5ms/step\n",
      "Epoch 121/300\n",
      "9/9 - 0s - loss: 0.0541 - accuracy: 1.0000 - val_loss: 0.0522 - val_accuracy: 1.0000 - 42ms/epoch - 5ms/step\n",
      "Epoch 122/300\n",
      "9/9 - 0s - loss: 0.0527 - accuracy: 1.0000 - val_loss: 0.0505 - val_accuracy: 1.0000 - 42ms/epoch - 5ms/step\n",
      "Epoch 123/300\n",
      "9/9 - 0s - loss: 0.0511 - accuracy: 1.0000 - val_loss: 0.0495 - val_accuracy: 1.0000 - 45ms/epoch - 5ms/step\n",
      "Epoch 124/300\n",
      "9/9 - 0s - loss: 0.0496 - accuracy: 1.0000 - val_loss: 0.0476 - val_accuracy: 1.0000 - 50ms/epoch - 6ms/step\n",
      "Epoch 125/300\n",
      "9/9 - 0s - loss: 0.0482 - accuracy: 1.0000 - val_loss: 0.0464 - val_accuracy: 1.0000 - 49ms/epoch - 5ms/step\n",
      "Epoch 126/300\n",
      "9/9 - 0s - loss: 0.0465 - accuracy: 1.0000 - val_loss: 0.0447 - val_accuracy: 1.0000 - 49ms/epoch - 5ms/step\n",
      "Epoch 127/300\n",
      "9/9 - 0s - loss: 0.0449 - accuracy: 1.0000 - val_loss: 0.0435 - val_accuracy: 1.0000 - 46ms/epoch - 5ms/step\n",
      "Epoch 128/300\n",
      "9/9 - 0s - loss: 0.0431 - accuracy: 1.0000 - val_loss: 0.0420 - val_accuracy: 1.0000 - 43ms/epoch - 5ms/step\n",
      "Epoch 129/300\n",
      "9/9 - 0s - loss: 0.0427 - accuracy: 1.0000 - val_loss: 0.0409 - val_accuracy: 1.0000 - 46ms/epoch - 5ms/step\n",
      "Epoch 130/300\n",
      "9/9 - 0s - loss: 0.0430 - accuracy: 1.0000 - val_loss: 0.0402 - val_accuracy: 1.0000 - 47ms/epoch - 5ms/step\n",
      "Epoch 131/300\n",
      "9/9 - 0s - loss: 0.0418 - accuracy: 1.0000 - val_loss: 0.0394 - val_accuracy: 1.0000 - 42ms/epoch - 5ms/step\n",
      "Epoch 132/300\n",
      "9/9 - 0s - loss: 0.0387 - accuracy: 1.0000 - val_loss: 0.0381 - val_accuracy: 1.0000 - 41ms/epoch - 5ms/step\n",
      "Epoch 133/300\n",
      "9/9 - 0s - loss: 0.0385 - accuracy: 1.0000 - val_loss: 0.0380 - val_accuracy: 1.0000 - 42ms/epoch - 5ms/step\n",
      "Epoch 134/300\n",
      "9/9 - 0s - loss: 0.0375 - accuracy: 1.0000 - val_loss: 0.0373 - val_accuracy: 1.0000 - 41ms/epoch - 5ms/step\n",
      "Epoch 135/300\n",
      "9/9 - 0s - loss: 0.0357 - accuracy: 1.0000 - val_loss: 0.0349 - val_accuracy: 1.0000 - 40ms/epoch - 4ms/step\n"
     ]
    },
    {
     "name": "stdout",
     "output_type": "stream",
     "text": [
      "Epoch 136/300\n",
      "9/9 - 0s - loss: 0.0358 - accuracy: 1.0000 - val_loss: 0.0336 - val_accuracy: 1.0000 - 42ms/epoch - 5ms/step\n",
      "Epoch 137/300\n",
      "9/9 - 0s - loss: 0.0333 - accuracy: 1.0000 - val_loss: 0.0325 - val_accuracy: 1.0000 - 45ms/epoch - 5ms/step\n",
      "Epoch 138/300\n",
      "9/9 - 0s - loss: 0.0327 - accuracy: 1.0000 - val_loss: 0.0318 - val_accuracy: 1.0000 - 43ms/epoch - 5ms/step\n",
      "Epoch 139/300\n",
      "9/9 - 0s - loss: 0.0321 - accuracy: 1.0000 - val_loss: 0.0311 - val_accuracy: 1.0000 - 43ms/epoch - 5ms/step\n",
      "Epoch 140/300\n",
      "9/9 - 0s - loss: 0.0309 - accuracy: 1.0000 - val_loss: 0.0300 - val_accuracy: 1.0000 - 41ms/epoch - 5ms/step\n",
      "Epoch 141/300\n",
      "9/9 - 0s - loss: 0.0302 - accuracy: 1.0000 - val_loss: 0.0292 - val_accuracy: 1.0000 - 40ms/epoch - 4ms/step\n",
      "Epoch 142/300\n",
      "9/9 - 0s - loss: 0.0294 - accuracy: 1.0000 - val_loss: 0.0285 - val_accuracy: 1.0000 - 40ms/epoch - 4ms/step\n",
      "Epoch 143/300\n",
      "9/9 - 0s - loss: 0.0286 - accuracy: 1.0000 - val_loss: 0.0279 - val_accuracy: 1.0000 - 42ms/epoch - 5ms/step\n",
      "Epoch 144/300\n",
      "9/9 - 0s - loss: 0.0278 - accuracy: 1.0000 - val_loss: 0.0271 - val_accuracy: 1.0000 - 42ms/epoch - 5ms/step\n",
      "Epoch 145/300\n",
      "9/9 - 0s - loss: 0.0274 - accuracy: 1.0000 - val_loss: 0.0264 - val_accuracy: 1.0000 - 42ms/epoch - 5ms/step\n",
      "Epoch 146/300\n",
      "9/9 - 0s - loss: 0.0267 - accuracy: 1.0000 - val_loss: 0.0258 - val_accuracy: 1.0000 - 41ms/epoch - 5ms/step\n",
      "Epoch 147/300\n",
      "9/9 - 0s - loss: 0.0259 - accuracy: 1.0000 - val_loss: 0.0253 - val_accuracy: 1.0000 - 42ms/epoch - 5ms/step\n",
      "Epoch 148/300\n",
      "9/9 - 0s - loss: 0.0253 - accuracy: 1.0000 - val_loss: 0.0245 - val_accuracy: 1.0000 - 41ms/epoch - 5ms/step\n",
      "Epoch 149/300\n",
      "9/9 - 0s - loss: 0.0246 - accuracy: 1.0000 - val_loss: 0.0240 - val_accuracy: 1.0000 - 42ms/epoch - 5ms/step\n",
      "Epoch 150/300\n",
      "9/9 - 0s - loss: 0.0238 - accuracy: 1.0000 - val_loss: 0.0233 - val_accuracy: 1.0000 - 44ms/epoch - 5ms/step\n",
      "Epoch 151/300\n",
      "9/9 - 0s - loss: 0.0234 - accuracy: 1.0000 - val_loss: 0.0228 - val_accuracy: 1.0000 - 41ms/epoch - 5ms/step\n",
      "Epoch 152/300\n",
      "9/9 - 0s - loss: 0.0229 - accuracy: 1.0000 - val_loss: 0.0222 - val_accuracy: 1.0000 - 43ms/epoch - 5ms/step\n",
      "Epoch 153/300\n",
      "9/9 - 0s - loss: 0.0231 - accuracy: 1.0000 - val_loss: 0.0219 - val_accuracy: 1.0000 - 42ms/epoch - 5ms/step\n",
      "Epoch 154/300\n",
      "9/9 - 0s - loss: 0.0227 - accuracy: 1.0000 - val_loss: 0.0213 - val_accuracy: 1.0000 - 41ms/epoch - 5ms/step\n",
      "Epoch 155/300\n",
      "9/9 - 0s - loss: 0.0215 - accuracy: 1.0000 - val_loss: 0.0208 - val_accuracy: 1.0000 - 42ms/epoch - 5ms/step\n",
      "Epoch 156/300\n",
      "9/9 - 0s - loss: 0.0210 - accuracy: 1.0000 - val_loss: 0.0202 - val_accuracy: 1.0000 - 42ms/epoch - 5ms/step\n",
      "Epoch 157/300\n",
      "9/9 - 0s - loss: 0.0202 - accuracy: 1.0000 - val_loss: 0.0199 - val_accuracy: 1.0000 - 42ms/epoch - 5ms/step\n",
      "Epoch 158/300\n",
      "9/9 - 0s - loss: 0.0198 - accuracy: 1.0000 - val_loss: 0.0193 - val_accuracy: 1.0000 - 42ms/epoch - 5ms/step\n",
      "Epoch 159/300\n",
      "9/9 - 0s - loss: 0.0193 - accuracy: 1.0000 - val_loss: 0.0189 - val_accuracy: 1.0000 - 42ms/epoch - 5ms/step\n",
      "Epoch 160/300\n",
      "9/9 - 0s - loss: 0.0189 - accuracy: 1.0000 - val_loss: 0.0185 - val_accuracy: 1.0000 - 43ms/epoch - 5ms/step\n",
      "Epoch 161/300\n",
      "9/9 - 0s - loss: 0.0185 - accuracy: 1.0000 - val_loss: 0.0181 - val_accuracy: 1.0000 - 43ms/epoch - 5ms/step\n",
      "Epoch 162/300\n",
      "9/9 - 0s - loss: 0.0185 - accuracy: 1.0000 - val_loss: 0.0178 - val_accuracy: 1.0000 - 42ms/epoch - 5ms/step\n",
      "Epoch 163/300\n",
      "9/9 - 0s - loss: 0.0180 - accuracy: 1.0000 - val_loss: 0.0174 - val_accuracy: 1.0000 - 43ms/epoch - 5ms/step\n",
      "Epoch 164/300\n",
      "9/9 - 0s - loss: 0.0173 - accuracy: 1.0000 - val_loss: 0.0170 - val_accuracy: 1.0000 - 43ms/epoch - 5ms/step\n",
      "Epoch 165/300\n",
      "9/9 - 0s - loss: 0.0171 - accuracy: 1.0000 - val_loss: 0.0167 - val_accuracy: 1.0000 - 42ms/epoch - 5ms/step\n",
      "Epoch 166/300\n",
      "9/9 - 0s - loss: 0.0168 - accuracy: 1.0000 - val_loss: 0.0163 - val_accuracy: 1.0000 - 42ms/epoch - 5ms/step\n",
      "Epoch 167/300\n",
      "9/9 - 0s - loss: 0.0164 - accuracy: 1.0000 - val_loss: 0.0159 - val_accuracy: 1.0000 - 42ms/epoch - 5ms/step\n",
      "Epoch 168/300\n",
      "9/9 - 0s - loss: 0.0159 - accuracy: 1.0000 - val_loss: 0.0156 - val_accuracy: 1.0000 - 41ms/epoch - 5ms/step\n",
      "Epoch 169/300\n",
      "9/9 - 0s - loss: 0.0157 - accuracy: 1.0000 - val_loss: 0.0153 - val_accuracy: 1.0000 - 42ms/epoch - 5ms/step\n",
      "Epoch 170/300\n",
      "9/9 - 0s - loss: 0.0153 - accuracy: 1.0000 - val_loss: 0.0150 - val_accuracy: 1.0000 - 43ms/epoch - 5ms/step\n",
      "Epoch 171/300\n",
      "9/9 - 0s - loss: 0.0150 - accuracy: 1.0000 - val_loss: 0.0147 - val_accuracy: 1.0000 - 42ms/epoch - 5ms/step\n",
      "Epoch 172/300\n",
      "9/9 - 0s - loss: 0.0147 - accuracy: 1.0000 - val_loss: 0.0144 - val_accuracy: 1.0000 - 42ms/epoch - 5ms/step\n",
      "Epoch 173/300\n",
      "9/9 - 0s - loss: 0.0146 - accuracy: 1.0000 - val_loss: 0.0142 - val_accuracy: 1.0000 - 41ms/epoch - 5ms/step\n",
      "Epoch 174/300\n",
      "9/9 - 0s - loss: 0.0142 - accuracy: 1.0000 - val_loss: 0.0140 - val_accuracy: 1.0000 - 43ms/epoch - 5ms/step\n",
      "Epoch 175/300\n",
      "9/9 - 0s - loss: 0.0138 - accuracy: 1.0000 - val_loss: 0.0137 - val_accuracy: 1.0000 - 41ms/epoch - 5ms/step\n",
      "Epoch 176/300\n",
      "9/9 - 0s - loss: 0.0136 - accuracy: 1.0000 - val_loss: 0.0133 - val_accuracy: 1.0000 - 43ms/epoch - 5ms/step\n",
      "Epoch 177/300\n",
      "9/9 - 0s - loss: 0.0134 - accuracy: 1.0000 - val_loss: 0.0131 - val_accuracy: 1.0000 - 44ms/epoch - 5ms/step\n",
      "Epoch 178/300\n",
      "9/9 - 0s - loss: 0.0132 - accuracy: 1.0000 - val_loss: 0.0128 - val_accuracy: 1.0000 - 43ms/epoch - 5ms/step\n",
      "Epoch 179/300\n",
      "9/9 - 0s - loss: 0.0129 - accuracy: 1.0000 - val_loss: 0.0126 - val_accuracy: 1.0000 - 42ms/epoch - 5ms/step\n",
      "Epoch 180/300\n",
      "9/9 - 0s - loss: 0.0126 - accuracy: 1.0000 - val_loss: 0.0124 - val_accuracy: 1.0000 - 41ms/epoch - 5ms/step\n",
      "Epoch 181/300\n",
      "9/9 - 0s - loss: 0.0124 - accuracy: 1.0000 - val_loss: 0.0121 - val_accuracy: 1.0000 - 58ms/epoch - 6ms/step\n",
      "Epoch 182/300\n",
      "9/9 - 0s - loss: 0.0121 - accuracy: 1.0000 - val_loss: 0.0119 - val_accuracy: 1.0000 - 42ms/epoch - 5ms/step\n",
      "Epoch 183/300\n",
      "9/9 - 0s - loss: 0.0122 - accuracy: 1.0000 - val_loss: 0.0117 - val_accuracy: 1.0000 - 44ms/epoch - 5ms/step\n",
      "Epoch 184/300\n",
      "9/9 - 0s - loss: 0.0119 - accuracy: 1.0000 - val_loss: 0.0116 - val_accuracy: 1.0000 - 41ms/epoch - 5ms/step\n",
      "Epoch 185/300\n",
      "9/9 - 0s - loss: 0.0114 - accuracy: 1.0000 - val_loss: 0.0113 - val_accuracy: 1.0000 - 43ms/epoch - 5ms/step\n",
      "Epoch 186/300\n",
      "9/9 - 0s - loss: 0.0113 - accuracy: 1.0000 - val_loss: 0.0110 - val_accuracy: 1.0000 - 40ms/epoch - 4ms/step\n",
      "Epoch 187/300\n",
      "9/9 - 0s - loss: 0.0111 - accuracy: 1.0000 - val_loss: 0.0109 - val_accuracy: 1.0000 - 42ms/epoch - 5ms/step\n",
      "Epoch 188/300\n",
      "9/9 - 0s - loss: 0.0108 - accuracy: 1.0000 - val_loss: 0.0106 - val_accuracy: 1.0000 - 42ms/epoch - 5ms/step\n",
      "Epoch 189/300\n",
      "9/9 - 0s - loss: 0.0107 - accuracy: 1.0000 - val_loss: 0.0105 - val_accuracy: 1.0000 - 43ms/epoch - 5ms/step\n",
      "Epoch 190/300\n",
      "9/9 - 0s - loss: 0.0105 - accuracy: 1.0000 - val_loss: 0.0103 - val_accuracy: 1.0000 - 43ms/epoch - 5ms/step\n",
      "Epoch 191/300\n",
      "9/9 - 0s - loss: 0.0104 - accuracy: 1.0000 - val_loss: 0.0101 - val_accuracy: 1.0000 - 43ms/epoch - 5ms/step\n",
      "Epoch 192/300\n",
      "9/9 - 0s - loss: 0.0101 - accuracy: 1.0000 - val_loss: 0.0099 - val_accuracy: 1.0000 - 42ms/epoch - 5ms/step\n",
      "Epoch 193/300\n",
      "9/9 - 0s - loss: 0.0099 - accuracy: 1.0000 - val_loss: 0.0098 - val_accuracy: 1.0000 - 40ms/epoch - 4ms/step\n",
      "Epoch 194/300\n",
      "9/9 - 0s - loss: 0.0098 - accuracy: 1.0000 - val_loss: 0.0096 - val_accuracy: 1.0000 - 40ms/epoch - 4ms/step\n",
      "Epoch 195/300\n",
      "9/9 - 0s - loss: 0.0097 - accuracy: 1.0000 - val_loss: 0.0094 - val_accuracy: 1.0000 - 41ms/epoch - 5ms/step\n",
      "Epoch 196/300\n",
      "9/9 - 0s - loss: 0.0094 - accuracy: 1.0000 - val_loss: 0.0093 - val_accuracy: 1.0000 - 43ms/epoch - 5ms/step\n",
      "Epoch 197/300\n",
      "9/9 - 0s - loss: 0.0093 - accuracy: 1.0000 - val_loss: 0.0091 - val_accuracy: 1.0000 - 44ms/epoch - 5ms/step\n",
      "Epoch 198/300\n",
      "9/9 - 0s - loss: 0.0092 - accuracy: 1.0000 - val_loss: 0.0090 - val_accuracy: 1.0000 - 46ms/epoch - 5ms/step\n",
      "Epoch 199/300\n",
      "9/9 - 0s - loss: 0.0089 - accuracy: 1.0000 - val_loss: 0.0088 - val_accuracy: 1.0000 - 48ms/epoch - 5ms/step\n",
      "Epoch 200/300\n",
      "9/9 - 0s - loss: 0.0088 - accuracy: 1.0000 - val_loss: 0.0087 - val_accuracy: 1.0000 - 48ms/epoch - 5ms/step\n",
      "Epoch 201/300\n",
      "9/9 - 0s - loss: 0.0087 - accuracy: 1.0000 - val_loss: 0.0085 - val_accuracy: 1.0000 - 48ms/epoch - 5ms/step\n",
      "Epoch 202/300\n",
      "9/9 - 0s - loss: 0.0086 - accuracy: 1.0000 - val_loss: 0.0084 - val_accuracy: 1.0000 - 46ms/epoch - 5ms/step\n"
     ]
    },
    {
     "name": "stdout",
     "output_type": "stream",
     "text": [
      "Epoch 203/300\n",
      "9/9 - 0s - loss: 0.0084 - accuracy: 1.0000 - val_loss: 0.0083 - val_accuracy: 1.0000 - 46ms/epoch - 5ms/step\n",
      "Epoch 204/300\n",
      "9/9 - 0s - loss: 0.0084 - accuracy: 1.0000 - val_loss: 0.0081 - val_accuracy: 1.0000 - 48ms/epoch - 5ms/step\n",
      "Epoch 205/300\n",
      "9/9 - 0s - loss: 0.0082 - accuracy: 1.0000 - val_loss: 0.0080 - val_accuracy: 1.0000 - 42ms/epoch - 5ms/step\n",
      "Epoch 206/300\n",
      "9/9 - 0s - loss: 0.0080 - accuracy: 1.0000 - val_loss: 0.0079 - val_accuracy: 1.0000 - 40ms/epoch - 4ms/step\n",
      "Epoch 207/300\n",
      "9/9 - 0s - loss: 0.0079 - accuracy: 1.0000 - val_loss: 0.0078 - val_accuracy: 1.0000 - 42ms/epoch - 5ms/step\n",
      "Epoch 208/300\n",
      "9/9 - 0s - loss: 0.0077 - accuracy: 1.0000 - val_loss: 0.0076 - val_accuracy: 1.0000 - 40ms/epoch - 4ms/step\n",
      "Epoch 209/300\n",
      "9/9 - 0s - loss: 0.0077 - accuracy: 1.0000 - val_loss: 0.0075 - val_accuracy: 1.0000 - 42ms/epoch - 5ms/step\n",
      "Epoch 210/300\n",
      "9/9 - 0s - loss: 0.0075 - accuracy: 1.0000 - val_loss: 0.0074 - val_accuracy: 1.0000 - 41ms/epoch - 5ms/step\n",
      "Epoch 211/300\n",
      "9/9 - 0s - loss: 0.0074 - accuracy: 1.0000 - val_loss: 0.0073 - val_accuracy: 1.0000 - 41ms/epoch - 5ms/step\n",
      "Epoch 212/300\n",
      "9/9 - 0s - loss: 0.0074 - accuracy: 1.0000 - val_loss: 0.0072 - val_accuracy: 1.0000 - 42ms/epoch - 5ms/step\n",
      "Epoch 213/300\n",
      "9/9 - 0s - loss: 0.0072 - accuracy: 1.0000 - val_loss: 0.0071 - val_accuracy: 1.0000 - 41ms/epoch - 5ms/step\n",
      "Epoch 214/300\n",
      "9/9 - 0s - loss: 0.0071 - accuracy: 1.0000 - val_loss: 0.0070 - val_accuracy: 1.0000 - 41ms/epoch - 5ms/step\n",
      "Epoch 215/300\n",
      "9/9 - 0s - loss: 0.0070 - accuracy: 1.0000 - val_loss: 0.0069 - val_accuracy: 1.0000 - 42ms/epoch - 5ms/step\n",
      "Epoch 216/300\n",
      "9/9 - 0s - loss: 0.0069 - accuracy: 1.0000 - val_loss: 0.0068 - val_accuracy: 1.0000 - 40ms/epoch - 4ms/step\n",
      "Epoch 217/300\n",
      "9/9 - 0s - loss: 0.0067 - accuracy: 1.0000 - val_loss: 0.0067 - val_accuracy: 1.0000 - 45ms/epoch - 5ms/step\n",
      "Epoch 218/300\n",
      "9/9 - 0s - loss: 0.0067 - accuracy: 1.0000 - val_loss: 0.0066 - val_accuracy: 1.0000 - 43ms/epoch - 5ms/step\n",
      "Epoch 219/300\n",
      "9/9 - 0s - loss: 0.0066 - accuracy: 1.0000 - val_loss: 0.0065 - val_accuracy: 1.0000 - 51ms/epoch - 6ms/step\n",
      "Epoch 220/300\n",
      "9/9 - 0s - loss: 0.0066 - accuracy: 1.0000 - val_loss: 0.0064 - val_accuracy: 1.0000 - 42ms/epoch - 5ms/step\n",
      "Epoch 221/300\n",
      "9/9 - 0s - loss: 0.0064 - accuracy: 1.0000 - val_loss: 0.0064 - val_accuracy: 1.0000 - 43ms/epoch - 5ms/step\n",
      "Epoch 222/300\n",
      "9/9 - 0s - loss: 0.0063 - accuracy: 1.0000 - val_loss: 0.0062 - val_accuracy: 1.0000 - 49ms/epoch - 5ms/step\n",
      "Epoch 223/300\n",
      "9/9 - 0s - loss: 0.0063 - accuracy: 1.0000 - val_loss: 0.0061 - val_accuracy: 1.0000 - 45ms/epoch - 5ms/step\n",
      "Epoch 224/300\n",
      "9/9 - 0s - loss: 0.0062 - accuracy: 1.0000 - val_loss: 0.0060 - val_accuracy: 1.0000 - 47ms/epoch - 5ms/step\n",
      "Epoch 225/300\n",
      "9/9 - 0s - loss: 0.0060 - accuracy: 1.0000 - val_loss: 0.0059 - val_accuracy: 1.0000 - 48ms/epoch - 5ms/step\n",
      "Epoch 226/300\n",
      "9/9 - 0s - loss: 0.0060 - accuracy: 1.0000 - val_loss: 0.0059 - val_accuracy: 1.0000 - 43ms/epoch - 5ms/step\n",
      "Epoch 227/300\n",
      "9/9 - 0s - loss: 0.0058 - accuracy: 1.0000 - val_loss: 0.0058 - val_accuracy: 1.0000 - 41ms/epoch - 5ms/step\n",
      "Epoch 228/300\n",
      "9/9 - 0s - loss: 0.0058 - accuracy: 1.0000 - val_loss: 0.0057 - val_accuracy: 1.0000 - 45ms/epoch - 5ms/step\n",
      "Epoch 229/300\n",
      "9/9 - 0s - loss: 0.0057 - accuracy: 1.0000 - val_loss: 0.0056 - val_accuracy: 1.0000 - 43ms/epoch - 5ms/step\n",
      "Epoch 230/300\n",
      "9/9 - 0s - loss: 0.0056 - accuracy: 1.0000 - val_loss: 0.0055 - val_accuracy: 1.0000 - 46ms/epoch - 5ms/step\n",
      "Epoch 231/300\n",
      "9/9 - 0s - loss: 0.0056 - accuracy: 1.0000 - val_loss: 0.0055 - val_accuracy: 1.0000 - 44ms/epoch - 5ms/step\n",
      "Epoch 232/300\n",
      "9/9 - 0s - loss: 0.0055 - accuracy: 1.0000 - val_loss: 0.0054 - val_accuracy: 1.0000 - 42ms/epoch - 5ms/step\n",
      "Epoch 233/300\n",
      "9/9 - 0s - loss: 0.0054 - accuracy: 1.0000 - val_loss: 0.0053 - val_accuracy: 1.0000 - 40ms/epoch - 4ms/step\n",
      "Epoch 234/300\n",
      "9/9 - 0s - loss: 0.0053 - accuracy: 1.0000 - val_loss: 0.0052 - val_accuracy: 1.0000 - 43ms/epoch - 5ms/step\n",
      "Epoch 235/300\n",
      "9/9 - 0s - loss: 0.0052 - accuracy: 1.0000 - val_loss: 0.0052 - val_accuracy: 1.0000 - 43ms/epoch - 5ms/step\n",
      "Epoch 236/300\n",
      "9/9 - 0s - loss: 0.0052 - accuracy: 1.0000 - val_loss: 0.0051 - val_accuracy: 1.0000 - 41ms/epoch - 5ms/step\n",
      "Epoch 237/300\n",
      "9/9 - 0s - loss: 0.0051 - accuracy: 1.0000 - val_loss: 0.0050 - val_accuracy: 1.0000 - 43ms/epoch - 5ms/step\n",
      "Epoch 238/300\n",
      "9/9 - 0s - loss: 0.0050 - accuracy: 1.0000 - val_loss: 0.0050 - val_accuracy: 1.0000 - 44ms/epoch - 5ms/step\n",
      "Epoch 239/300\n",
      "9/9 - 0s - loss: 0.0050 - accuracy: 1.0000 - val_loss: 0.0049 - val_accuracy: 1.0000 - 42ms/epoch - 5ms/step\n",
      "Epoch 240/300\n",
      "9/9 - 0s - loss: 0.0049 - accuracy: 1.0000 - val_loss: 0.0048 - val_accuracy: 1.0000 - 42ms/epoch - 5ms/step\n",
      "Epoch 241/300\n",
      "9/9 - 0s - loss: 0.0048 - accuracy: 1.0000 - val_loss: 0.0048 - val_accuracy: 1.0000 - 42ms/epoch - 5ms/step\n",
      "Epoch 242/300\n",
      "9/9 - 0s - loss: 0.0047 - accuracy: 1.0000 - val_loss: 0.0047 - val_accuracy: 1.0000 - 41ms/epoch - 5ms/step\n",
      "Epoch 243/300\n",
      "9/9 - 0s - loss: 0.0047 - accuracy: 1.0000 - val_loss: 0.0047 - val_accuracy: 1.0000 - 42ms/epoch - 5ms/step\n",
      "Epoch 244/300\n",
      "9/9 - 0s - loss: 0.0047 - accuracy: 1.0000 - val_loss: 0.0046 - val_accuracy: 1.0000 - 41ms/epoch - 5ms/step\n",
      "Epoch 245/300\n",
      "9/9 - 0s - loss: 0.0046 - accuracy: 1.0000 - val_loss: 0.0045 - val_accuracy: 1.0000 - 40ms/epoch - 4ms/step\n",
      "Epoch 246/300\n",
      "9/9 - 0s - loss: 0.0046 - accuracy: 1.0000 - val_loss: 0.0045 - val_accuracy: 1.0000 - 44ms/epoch - 5ms/step\n",
      "Epoch 247/300\n",
      "9/9 - 0s - loss: 0.0045 - accuracy: 1.0000 - val_loss: 0.0044 - val_accuracy: 1.0000 - 41ms/epoch - 5ms/step\n",
      "Epoch 248/300\n",
      "9/9 - 0s - loss: 0.0044 - accuracy: 1.0000 - val_loss: 0.0044 - val_accuracy: 1.0000 - 48ms/epoch - 5ms/step\n",
      "Epoch 249/300\n",
      "9/9 - 0s - loss: 0.0044 - accuracy: 1.0000 - val_loss: 0.0043 - val_accuracy: 1.0000 - 43ms/epoch - 5ms/step\n",
      "Epoch 250/300\n",
      "9/9 - 0s - loss: 0.0043 - accuracy: 1.0000 - val_loss: 0.0043 - val_accuracy: 1.0000 - 42ms/epoch - 5ms/step\n",
      "Epoch 251/300\n",
      "9/9 - 0s - loss: 0.0043 - accuracy: 1.0000 - val_loss: 0.0042 - val_accuracy: 1.0000 - 42ms/epoch - 5ms/step\n",
      "Epoch 252/300\n",
      "9/9 - 0s - loss: 0.0042 - accuracy: 1.0000 - val_loss: 0.0042 - val_accuracy: 1.0000 - 40ms/epoch - 4ms/step\n",
      "Epoch 253/300\n",
      "9/9 - 0s - loss: 0.0042 - accuracy: 1.0000 - val_loss: 0.0041 - val_accuracy: 1.0000 - 44ms/epoch - 5ms/step\n",
      "Epoch 254/300\n",
      "9/9 - 0s - loss: 0.0041 - accuracy: 1.0000 - val_loss: 0.0040 - val_accuracy: 1.0000 - 41ms/epoch - 5ms/step\n",
      "Epoch 255/300\n",
      "9/9 - 0s - loss: 0.0040 - accuracy: 1.0000 - val_loss: 0.0040 - val_accuracy: 1.0000 - 39ms/epoch - 4ms/step\n",
      "Epoch 256/300\n",
      "9/9 - 0s - loss: 0.0040 - accuracy: 1.0000 - val_loss: 0.0039 - val_accuracy: 1.0000 - 57ms/epoch - 6ms/step\n",
      "Epoch 257/300\n",
      "9/9 - 0s - loss: 0.0039 - accuracy: 1.0000 - val_loss: 0.0039 - val_accuracy: 1.0000 - 64ms/epoch - 7ms/step\n",
      "Epoch 258/300\n",
      "9/9 - 0s - loss: 0.0039 - accuracy: 1.0000 - val_loss: 0.0039 - val_accuracy: 1.0000 - 46ms/epoch - 5ms/step\n",
      "Epoch 259/300\n",
      "9/9 - 0s - loss: 0.0039 - accuracy: 1.0000 - val_loss: 0.0038 - val_accuracy: 1.0000 - 92ms/epoch - 10ms/step\n",
      "Epoch 260/300\n",
      "9/9 - 0s - loss: 0.0038 - accuracy: 1.0000 - val_loss: 0.0038 - val_accuracy: 1.0000 - 46ms/epoch - 5ms/step\n",
      "Epoch 261/300\n",
      "9/9 - 0s - loss: 0.0038 - accuracy: 1.0000 - val_loss: 0.0037 - val_accuracy: 1.0000 - 51ms/epoch - 6ms/step\n",
      "Epoch 262/300\n",
      "9/9 - 0s - loss: 0.0037 - accuracy: 1.0000 - val_loss: 0.0037 - val_accuracy: 1.0000 - 43ms/epoch - 5ms/step\n",
      "Epoch 263/300\n",
      "9/9 - 0s - loss: 0.0037 - accuracy: 1.0000 - val_loss: 0.0036 - val_accuracy: 1.0000 - 40ms/epoch - 4ms/step\n",
      "Epoch 264/300\n",
      "9/9 - 0s - loss: 0.0037 - accuracy: 1.0000 - val_loss: 0.0036 - val_accuracy: 1.0000 - 45ms/epoch - 5ms/step\n",
      "Epoch 265/300\n",
      "9/9 - 0s - loss: 0.0036 - accuracy: 1.0000 - val_loss: 0.0035 - val_accuracy: 1.0000 - 44ms/epoch - 5ms/step\n",
      "Epoch 266/300\n",
      "9/9 - 0s - loss: 0.0036 - accuracy: 1.0000 - val_loss: 0.0035 - val_accuracy: 1.0000 - 45ms/epoch - 5ms/step\n",
      "Epoch 267/300\n",
      "9/9 - 0s - loss: 0.0035 - accuracy: 1.0000 - val_loss: 0.0035 - val_accuracy: 1.0000 - 42ms/epoch - 5ms/step\n",
      "Epoch 268/300\n",
      "9/9 - 0s - loss: 0.0035 - accuracy: 1.0000 - val_loss: 0.0034 - val_accuracy: 1.0000 - 44ms/epoch - 5ms/step\n",
      "Epoch 269/300\n",
      "9/9 - 0s - loss: 0.0034 - accuracy: 1.0000 - val_loss: 0.0034 - val_accuracy: 1.0000 - 47ms/epoch - 5ms/step\n"
     ]
    },
    {
     "name": "stdout",
     "output_type": "stream",
     "text": [
      "Epoch 270/300\n",
      "9/9 - 0s - loss: 0.0034 - accuracy: 1.0000 - val_loss: 0.0033 - val_accuracy: 1.0000 - 49ms/epoch - 5ms/step\n",
      "Epoch 271/300\n",
      "9/9 - 0s - loss: 0.0034 - accuracy: 1.0000 - val_loss: 0.0033 - val_accuracy: 1.0000 - 47ms/epoch - 5ms/step\n",
      "Epoch 272/300\n",
      "9/9 - 0s - loss: 0.0033 - accuracy: 1.0000 - val_loss: 0.0033 - val_accuracy: 1.0000 - 47ms/epoch - 5ms/step\n",
      "Epoch 273/300\n",
      "9/9 - 0s - loss: 0.0033 - accuracy: 1.0000 - val_loss: 0.0032 - val_accuracy: 1.0000 - 44ms/epoch - 5ms/step\n",
      "Epoch 274/300\n",
      "9/9 - 0s - loss: 0.0032 - accuracy: 1.0000 - val_loss: 0.0032 - val_accuracy: 1.0000 - 46ms/epoch - 5ms/step\n",
      "Epoch 275/300\n",
      "9/9 - 0s - loss: 0.0032 - accuracy: 1.0000 - val_loss: 0.0032 - val_accuracy: 1.0000 - 52ms/epoch - 6ms/step\n",
      "Epoch 276/300\n",
      "9/9 - 0s - loss: 0.0032 - accuracy: 1.0000 - val_loss: 0.0031 - val_accuracy: 1.0000 - 43ms/epoch - 5ms/step\n",
      "Epoch 277/300\n",
      "9/9 - 0s - loss: 0.0031 - accuracy: 1.0000 - val_loss: 0.0031 - val_accuracy: 1.0000 - 42ms/epoch - 5ms/step\n",
      "Epoch 278/300\n",
      "9/9 - 0s - loss: 0.0031 - accuracy: 1.0000 - val_loss: 0.0030 - val_accuracy: 1.0000 - 38ms/epoch - 4ms/step\n",
      "Epoch 279/300\n",
      "9/9 - 0s - loss: 0.0031 - accuracy: 1.0000 - val_loss: 0.0030 - val_accuracy: 1.0000 - 40ms/epoch - 4ms/step\n",
      "Epoch 280/300\n",
      "9/9 - 0s - loss: 0.0030 - accuracy: 1.0000 - val_loss: 0.0030 - val_accuracy: 1.0000 - 39ms/epoch - 4ms/step\n",
      "Epoch 281/300\n",
      "9/9 - 0s - loss: 0.0030 - accuracy: 1.0000 - val_loss: 0.0030 - val_accuracy: 1.0000 - 41ms/epoch - 5ms/step\n",
      "Epoch 282/300\n",
      "9/9 - 0s - loss: 0.0030 - accuracy: 1.0000 - val_loss: 0.0029 - val_accuracy: 1.0000 - 39ms/epoch - 4ms/step\n",
      "Epoch 283/300\n",
      "9/9 - 0s - loss: 0.0029 - accuracy: 1.0000 - val_loss: 0.0029 - val_accuracy: 1.0000 - 41ms/epoch - 5ms/step\n",
      "Epoch 284/300\n",
      "9/9 - 0s - loss: 0.0029 - accuracy: 1.0000 - val_loss: 0.0029 - val_accuracy: 1.0000 - 41ms/epoch - 5ms/step\n",
      "Epoch 285/300\n",
      "9/9 - 0s - loss: 0.0029 - accuracy: 1.0000 - val_loss: 0.0028 - val_accuracy: 1.0000 - 42ms/epoch - 5ms/step\n",
      "Epoch 286/300\n",
      "9/9 - 0s - loss: 0.0028 - accuracy: 1.0000 - val_loss: 0.0028 - val_accuracy: 1.0000 - 42ms/epoch - 5ms/step\n",
      "Epoch 287/300\n",
      "9/9 - 0s - loss: 0.0028 - accuracy: 1.0000 - val_loss: 0.0028 - val_accuracy: 1.0000 - 40ms/epoch - 4ms/step\n",
      "Epoch 288/300\n",
      "9/9 - 0s - loss: 0.0028 - accuracy: 1.0000 - val_loss: 0.0027 - val_accuracy: 1.0000 - 42ms/epoch - 5ms/step\n",
      "Epoch 289/300\n",
      "9/9 - 0s - loss: 0.0027 - accuracy: 1.0000 - val_loss: 0.0027 - val_accuracy: 1.0000 - 41ms/epoch - 5ms/step\n",
      "Epoch 290/300\n",
      "9/9 - 0s - loss: 0.0027 - accuracy: 1.0000 - val_loss: 0.0027 - val_accuracy: 1.0000 - 40ms/epoch - 4ms/step\n",
      "Epoch 291/300\n",
      "9/9 - 0s - loss: 0.0027 - accuracy: 1.0000 - val_loss: 0.0026 - val_accuracy: 1.0000 - 42ms/epoch - 5ms/step\n",
      "Epoch 292/300\n",
      "9/9 - 0s - loss: 0.0027 - accuracy: 1.0000 - val_loss: 0.0026 - val_accuracy: 1.0000 - 40ms/epoch - 4ms/step\n",
      "Epoch 293/300\n",
      "9/9 - 0s - loss: 0.0026 - accuracy: 1.0000 - val_loss: 0.0026 - val_accuracy: 1.0000 - 42ms/epoch - 5ms/step\n",
      "Epoch 294/300\n",
      "9/9 - 0s - loss: 0.0026 - accuracy: 1.0000 - val_loss: 0.0026 - val_accuracy: 1.0000 - 41ms/epoch - 5ms/step\n",
      "Epoch 295/300\n",
      "9/9 - 0s - loss: 0.0026 - accuracy: 1.0000 - val_loss: 0.0025 - val_accuracy: 1.0000 - 41ms/epoch - 5ms/step\n",
      "Epoch 296/300\n",
      "9/9 - 0s - loss: 0.0025 - accuracy: 1.0000 - val_loss: 0.0025 - val_accuracy: 1.0000 - 42ms/epoch - 5ms/step\n",
      "Epoch 297/300\n",
      "9/9 - 0s - loss: 0.0025 - accuracy: 1.0000 - val_loss: 0.0025 - val_accuracy: 1.0000 - 41ms/epoch - 5ms/step\n",
      "Epoch 298/300\n",
      "9/9 - 0s - loss: 0.0025 - accuracy: 1.0000 - val_loss: 0.0025 - val_accuracy: 1.0000 - 40ms/epoch - 4ms/step\n",
      "Epoch 299/300\n",
      "9/9 - 0s - loss: 0.0024 - accuracy: 1.0000 - val_loss: 0.0024 - val_accuracy: 1.0000 - 40ms/epoch - 4ms/step\n",
      "Epoch 300/300\n",
      "9/9 - 0s - loss: 0.0025 - accuracy: 1.0000 - val_loss: 0.0024 - val_accuracy: 1.0000 - 40ms/epoch - 4ms/step\n"
     ]
    }
   ],
   "source": [
    "hist = model.fit(X_train, Y_train, # 훈련(학습)데이터\n",
    "                 epochs=300, # 학습횟수\n",
    "                 batch_size=10, # 가중치를 조정하는 단위\n",
    "                 verbose=2, # 0:출력없음, 1:진행상황만출력, 2:에포크별 로그메세지 출력\n",
    "                 validation_data=(X_val, Y_val) # 검증 데이터셋\n",
    "                )"
   ]
  },
  {
   "cell_type": "markdown",
   "id": "6acf9858",
   "metadata": {},
   "source": [
    "# 6. 모델과정 평가하기\n",
    "- 학습과정 중 loss와 평가지표(accuracy)살펴보기, evalate함수)"
   ]
  },
  {
   "cell_type": "code",
   "execution_count": 29,
   "id": "30217667",
   "metadata": {},
   "outputs": [
    {
     "data": {
      "text/plain": [
       "dict_keys(['loss', 'accuracy', 'val_loss', 'val_accuracy'])"
      ]
     },
     "execution_count": 29,
     "metadata": {},
     "output_type": "execute_result"
    }
   ],
   "source": [
    "hist.history.keys()"
   ]
  },
  {
   "cell_type": "code",
   "execution_count": 41,
   "id": "7177412a",
   "metadata": {},
   "outputs": [
    {
     "data": {
      "image/png": "[encoded data removed]",
      "text/plain": [
       "<Figure size 1000x300 with 2 Axes>"
      ]
     },
     "metadata": {},
     "output_type": "display_data"
    }
   ],
   "source": [
    "# 학습과정 중의 loss와 accuracy\n",
    "import matplotlib.pyplot as plt\n",
    "fig, loss_ax = plt.subplots(figsize=(10,3))\n",
    "loss_ax.plot(hist.history['loss'], 'y', label='tain loss')\n",
    "loss_ax.plot(hist.history['val_loss'], 'r', label='val loss')\n",
    "acc_ax = loss_ax.twinx() # loss_ax와 x축을 공유하는 acc_ax 생성\n",
    "acc_ax.plot(hist.history['accuracy'],'g', label='train accuracy')\n",
    "acc_ax.plot(hist.history['val_accuracy'], 'b', label='val accuracy')\n",
    "\n",
    "loss_ax.set_xlabel('epoch')\n",
    "loss_ax.set_ylabel('loss')\n",
    "acc_ax.set_ylabel('accuracy')\n",
    "loss_ax.legend(loc='center')\n",
    "acc_ax.legend(loc = 'center right')\n",
    "\n",
    "plt.show()"
   ]
  },
  {
   "cell_type": "code",
   "execution_count": 42,
   "id": "a32f0286",
   "metadata": {},
   "outputs": [
    {
     "name": "stdout",
     "output_type": "stream",
     "text": [
      "3/3 [==============================] - 0s 9ms/step - loss: 0.0024 - accuracy: 1.0000\n"
     ]
    }
   ],
   "source": [
    "# 모델 평가하기\n",
    "score = model.evaluate(X_val, Y_val, batch_size=3)"
   ]
  },
  {
   "cell_type": "code",
   "execution_count": 44,
   "id": "0fdae77b",
   "metadata": {},
   "outputs": [
    {
     "data": {
      "text/plain": [
       "[0.002408406464383006, 1.0]"
      ]
     },
     "execution_count": 44,
     "metadata": {},
     "output_type": "execute_result"
    }
   ],
   "source": [
    "score"
   ]
  },
  {
   "cell_type": "code",
   "execution_count": 45,
   "id": "e4241f32",
   "metadata": {},
   "outputs": [
    {
     "name": "stdout",
     "output_type": "stream",
     "text": [
      "평가된 loss값 : 0.002408406464383006\n",
      "평가된 accuracy : 100.0 %\n"
     ]
    }
   ],
   "source": [
    "print('평가된 loss값 :',score[0])\n",
    "print('평가된 accuracy :',score[1]*100,'%')"
   ]
  },
  {
   "cell_type": "markdown",
   "id": "d2f31210",
   "metadata": {},
   "source": [
    "# 7. 모델 사용하기(모델을 사용해서 예측하기)"
   ]
  },
  {
   "cell_type": "code",
   "execution_count": 46,
   "id": "4f712462",
   "metadata": {},
   "outputs": [
    {
     "name": "stdout",
     "output_type": "stream",
     "text": [
      "1/1 [==============================] - 0s 157ms/step\n"
     ]
    },
    {
     "data": {
      "text/plain": [
       "array([[2.0306220e-17, 1.1750600e-23, 1.4951873e-16, 6.5429371e-17,\n",
       "        1.2718661e-09, 3.6427922e-16, 1.0118573e-03, 3.5088799e-18,\n",
       "        9.9757272e-01, 2.9769791e-20, 1.4154324e-03, 1.6772209e-17,\n",
       "        6.3887444e-11, 6.5063862e-21, 1.1385745e-20, 1.9639691e-17,\n",
       "        2.3192420e-21, 1.8353043e-18, 2.3816742e-33]], dtype=float32)"
      ]
     },
     "execution_count": 46,
     "metadata": {},
     "output_type": "execute_result"
    }
   ],
   "source": [
    "H = model.predict(np.array([4]))\n",
    "H"
   ]
  },
  {
   "cell_type": "code",
   "execution_count": 47,
   "id": "09a0b081",
   "metadata": {},
   "outputs": [
    {
     "name": "stdout",
     "output_type": "stream",
     "text": [
      "1/1 [==============================] - 0s 32ms/step\n"
     ]
    },
    {
     "data": {
      "text/plain": [
       "8"
      ]
     },
     "execution_count": 47,
     "metadata": {},
     "output_type": "execute_result"
    }
   ],
   "source": [
    "model.predict(np.array([4])).argmax()"
   ]
  },
  {
   "cell_type": "code",
   "execution_count": 48,
   "id": "d66663d0",
   "metadata": {},
   "outputs": [
    {
     "data": {
      "text/plain": [
       "0.9975727"
      ]
     },
     "execution_count": 48,
     "metadata": {},
     "output_type": "execute_result"
    }
   ],
   "source": [
    "# 몇%의 확률로 분류되었는지\n",
    "H[0, H.argmax()]"
   ]
  },
  {
   "cell_type": "markdown",
   "id": "d7ddb7b8",
   "metadata": {},
   "source": [
    "# 7. 모델 저장하기"
   ]
  },
  {
   "cell_type": "code",
   "execution_count": 49,
   "id": "74ce3e27",
   "metadata": {},
   "outputs": [],
   "source": [
    "model.save('model/2_deep_begin.h5')"
   ]
  },
  {
   "cell_type": "markdown",
   "id": "2c4a6c75",
   "metadata": {},
   "source": [
    "# 저장된 모델 사용하기"
   ]
  },
  {
   "cell_type": "code",
   "execution_count": 5,
   "id": "f844c571",
   "metadata": {},
   "outputs": [],
   "source": [
    "from tensorflow.keras.models import load_model\n",
    "import numpy as np\n",
    "model2 = load_model('model/2_deep_begin.h5')"
   ]
  },
  {
   "cell_type": "code",
   "execution_count": 7,
   "id": "6d1ff02d",
   "metadata": {},
   "outputs": [
    {
     "name": "stdout",
     "output_type": "stream",
     "text": [
      "1/1 [==============================] - 0s 27ms/step\n"
     ]
    },
    {
     "data": {
      "text/plain": [
       "4"
      ]
     },
     "execution_count": 7,
     "metadata": {},
     "output_type": "execute_result"
    }
   ],
   "source": [
    "H = model2.predict(np.array([2]))\n",
    "H.argmax()"
   ]
  },
  {
   "cell_type": "code",
   "execution_count": 8,
   "id": "6729034c",
   "metadata": {},
   "outputs": [
    {
     "data": {
      "text/plain": [
       "0.9986702"
      ]
     },
     "execution_count": 8,
     "metadata": {},
     "output_type": "execute_result"
    }
   ],
   "source": [
    "# 몇%의 확률로 분류되었는지\n",
    "H[0,H.argmax()]"
   ]
  },
  {
   "cell_type": "code",
   "execution_count": 12,
   "id": "be193756",
   "metadata": {},
   "outputs": [
    {
     "data": {
      "text/plain": [
       "[0.058, 99.867, 0.075]"
      ]
     },
     "execution_count": 12,
     "metadata": {},
     "output_type": "execute_result"
    }
   ],
   "source": [
    "[round(val*100, 3)for val in H[0,[2,4,6]]]"
   ]
  }
 ],
 "metadata": {
  "kernelspec": {
   "display_name": "Python 3 (ipykernel)",
   "language": "python",
   "name": "python3"
  },
  "language_info": {
   "codemirror_mode": {
    "name": "ipython",
    "version": 3
   },
   "file_extension": ".py",
   "mimetype": "text/x-python",
   "name": "python",
   "nbconvert_exporter": "python",
   "pygments_lexer": "ipython3",
   "version": "3.10.9"
  },
  "toc": {
   "base_numbering": 1,
   "nav_menu": {},
   "number_sections": true,
   "sideBar": true,
   "skip_h1_title": false,
   "title_cell": "Table of Contents",
   "title_sidebar": "Contents",
   "toc_cell": false,
   "toc_position": {},
   "toc_section_display": true,
   "toc_window_display": false
  }
 },
 "nbformat": 4,
 "nbformat_minor": 5
}
