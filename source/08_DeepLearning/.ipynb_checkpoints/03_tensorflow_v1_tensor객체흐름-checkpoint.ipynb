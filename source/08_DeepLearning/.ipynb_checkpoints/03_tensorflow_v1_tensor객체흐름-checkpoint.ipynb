{
 "cells": [
  {
   "cell_type": "markdown",
   "id": "b835916d",
   "metadata": {},
   "source": [
    "# 1. tensorflow v2.xx에서 v1 사용하기"
   ]
  },
  {
   "cell_type": "code",
   "execution_count": 11,
   "id": "d618281c",
   "metadata": {
    "scrolled": true
   },
   "outputs": [
    {
     "name": "stdout",
     "output_type": "stream",
     "text": [
      "WARNING:tensorflow:From C:\\Users\\4545\\anaconda3\\lib\\site-packages\\tensorflow\\python\\compat\\v2_compat.py:107: disable_resource_variables (from tensorflow.python.ops.variable_scope) is deprecated and will be removed in a future version.\n",
      "Instructions for updating:\n",
      "non-resource variables are not supported in the long term\n"
     ]
    }
   ],
   "source": [
    "import tensorflow.compat.v1 as tf\n",
    "tf.disable_v2_behavior() # v2비활성화하고 v1을 활성화"
   ]
  },
  {
   "cell_type": "markdown",
   "id": "c03d7063",
   "metadata": {},
   "source": [
    "## Tensorflow\n",
    "- 그래프 정의 (tensor객체의 흐름)\n",
    "- sess = tf.Session()을 실행\n",
    "- sess.run()을 통해 변수값을 확인할 수 있음"
   ]
  },
  {
   "cell_type": "code",
   "execution_count": 2,
   "id": "793c25a7",
   "metadata": {},
   "outputs": [
    {
     "name": "stdout",
     "output_type": "stream",
     "text": [
      "b'Hello, Tensorflow'\n",
      "Hello, Tensorflow\n"
     ]
    }
   ],
   "source": [
    "# tensor = data(상수,변수)와 연산\n",
    "node1 = tf.constant('Hello, Tensorflow')\n",
    "sess = tf.Session()\n",
    "print(sess.run(node1))\n",
    "print(sess.run(node1).decode())"
   ]
  },
  {
   "cell_type": "code",
   "execution_count": 3,
   "id": "d7c4625a",
   "metadata": {},
   "outputs": [
    {
     "name": "stdout",
     "output_type": "stream",
     "text": [
      "[10.0, 20.0, 30.0]\n"
     ]
    }
   ],
   "source": [
    "# 간단한 수학 연산 tensor 그래프\n",
    "node1 = tf.constant(10, dtype=tf.float16)\n",
    "node2 = tf.constant(20, dtype=tf.float16)\n",
    "node3 = tf.add(node1, node2)\n",
    "sess = tf.Session()\n",
    "print(sess.run([node1,node2,node3]))"
   ]
  },
  {
   "cell_type": "code",
   "execution_count": 4,
   "id": "85a6db4c",
   "metadata": {},
   "outputs": [
    {
     "data": {
      "text/plain": [
       "[array([1, 2, 3], dtype=int16), array([1., 2., 3.], dtype=float32)]"
      ]
     },
     "execution_count": 4,
     "metadata": {},
     "output_type": "execute_result"
    }
   ],
   "source": [
    "# 타입 변경\n",
    "import numpy as np\n",
    "node1 = tf.constant(np.array([1,2,3]), dtype=tf.int16)\n",
    "node2 = tf.cast(node1, dtype=tf.float32)\n",
    "sess = tf.Session()\n",
    "sess.run([node1, node2])"
   ]
  },
  {
   "cell_type": "code",
   "execution_count": 5,
   "id": "f43e6e9a",
   "metadata": {},
   "outputs": [
    {
     "data": {
      "text/plain": [
       "2.5"
      ]
     },
     "execution_count": 5,
     "metadata": {},
     "output_type": "execute_result"
    }
   ],
   "source": [
    "# 평균값 계산 : tf.reduce_mean()\n",
    "data = np.array([1., 2., 3., 4.])\n",
    "m = tf.reduce_mean(data)\n",
    "sess = tf.Session()\n",
    "sess.run(m)"
   ]
  },
  {
   "cell_type": "code",
   "execution_count": 6,
   "id": "ddcfaba4",
   "metadata": {},
   "outputs": [
    {
     "data": {
      "image/png": "[encoded data removed]",
      "text/plain": [
       "<Figure size 640x480 with 1 Axes>"
      ]
     },
     "metadata": {},
     "output_type": "display_data"
    }
   ],
   "source": [
    "# tf.random_normal([size]) : 평균0이고, 표준편차가 1인 난수 size 개 발생. 난수갯수:독립변수갯수\n",
    "import matplotlib.pyplot as plt\n",
    "tensor=tf.random_normal([1000]) # 평균0, 표준편차가 1인 난수 2\n",
    "sess = tf.Session()\n",
    "plt.hist(sess.run(tensor))\n",
    "plt.show()"
   ]
  },
  {
   "cell_type": "markdown",
   "id": "d907905d",
   "metadata": {},
   "source": [
    "# 2. tensorflow v1을 이용한 linear regression을 구현\n",
    "## 2.1 독립변수 x가 1개, 종속변수 y가 1개"
   ]
  },
  {
   "cell_type": "code",
   "execution_count": 7,
   "id": "85582545",
   "metadata": {},
   "outputs": [
    {
     "name": "stdout",
     "output_type": "stream",
     "text": [
      "0번째 cost:17.003135681152344, W=[-0.597252], b:[-0.7173149]\n",
      "300번째 cost:5.121897629578598e-06, W=[1.0026287], b:[-0.00597528]\n",
      "600번째 cost:1.2091480812159716e-06, W=[1.0012772], b:[-0.00290319]\n",
      "900번째 cost:2.857797198885237e-07, W=[1.0006208], b:[-0.00141144]\n",
      "1200번째 cost:6.773881722210717e-08, W=[1.0003027], b:[-0.00068709]\n",
      "1500번째 cost:1.6133613556235105e-08, W=[1.0001478], b:[-0.00033522]\n",
      "1800번째 cost:3.81871778643017e-09, W=[1.0000719], b:[-0.00016321]\n",
      "2100번째 cost:9.112107179909401e-10, W=[1.0000348], b:[-7.978817e-05]\n",
      "2400번째 cost:2.1924689841412714e-10, W=[1.0000173], b:[-3.893261e-05]\n",
      "2700번째 cost:6.695622528640754e-11, W=[1.0000098], b:[-2.1354124e-05]\n",
      "3000번째 cost:2.864176951167252e-11, W=[1.0000066], b:[-1.3781184e-05]\n",
      "3300번째 cost:1.722334774800771e-11, W=[1.0000051], b:[-1.0544409e-05]\n",
      "3600번째 cost:1.3732089250428903e-11, W=[1.0000045], b:[-9.287443e-06]\n",
      "3900번째 cost:1.3323502023876443e-11, W=[1.0000044], b:[-8.867204e-06]\n",
      "4200번째 cost:1.332346472732171e-11, W=[1.0000044], b:[-8.861246e-06]\n",
      "4500번째 cost:1.332346472732171e-11, W=[1.0000044], b:[-8.861246e-06]\n",
      "4800번째 cost:1.332346472732171e-11, W=[1.0000044], b:[-8.861246e-06]\n",
      "5100번째 cost:1.332346472732171e-11, W=[1.0000044], b:[-8.861246e-06]\n",
      "5400번째 cost:1.332346472732171e-11, W=[1.0000044], b:[-8.861246e-06]\n",
      "5700번째 cost:1.332346472732171e-11, W=[1.0000044], b:[-8.861246e-06]\n"
     ]
    }
   ],
   "source": [
    "# tensor 그래프(객체 흐름) 정의\n",
    "# data set(x, y)\n",
    "x = np.array([1,2,3])\n",
    "y = np.array([1,2,3])\n",
    "\n",
    "# weight와 bias (처음에는 랜덤값으로 셋팅했다가, 학습과정에서 변경)\n",
    "W = tf.Variable(tf.random.normal([1]),name='wieght')\n",
    "b = tf.Variable(tf.random.normal([1]), name='bias')\n",
    "\n",
    "# Hypothesis\n",
    "H = W*x + b\n",
    "\n",
    "# cost function (손실함수 = mse : 최소제곱법)\n",
    "cost = tf.reduce_mean(tf.square(H-y))\n",
    "'''\n",
    "학습 목적 :cost가 최소가 되는 W, b를 찾는 것\n",
    "cost 함수는 2차함수이므로 곡선 그래프. 곡선위 미분값이 줄어드는 방향으로 학습\n",
    "'''\n",
    "optimizer = tf.train.GradientDescentOptimizer(learning_rate=0.01)\n",
    "train = optimizer.minimize(cost)\n",
    "\n",
    "# Session 생성\n",
    "sess = tf.Session()\n",
    "\n",
    "# 변수(W, b) 초기화\n",
    "sess.run(tf.global_variables_initializer())\n",
    "\n",
    "# 6000번 학습 (v2에서의 fit함수)\n",
    "for step in range(6000):\n",
    "    _, cost_val, W_val, b_val=sess.run([train,cost,W,b])\n",
    "    if step%300 == 0:\n",
    "        print('{}번째 cost:{}, W={}, b:{}'.format(step,\n",
    "                                                cost_val,\n",
    "                                                W_val,\n",
    "                                                b_val))"
   ]
  },
  {
   "cell_type": "code",
   "execution_count": 8,
   "id": "24841da1",
   "metadata": {},
   "outputs": [
    {
     "data": {
      "text/plain": [
       "[array([1.0000044], dtype=float32), array([-8.861246e-06], dtype=float32)]"
      ]
     },
     "execution_count": 8,
     "metadata": {},
     "output_type": "execute_result"
    }
   ],
   "source": [
    "# 최종적으로 나온 회귀식 : H = W*x + b\n",
    "sess.run([W, b])"
   ]
  },
  {
   "cell_type": "code",
   "execution_count": 9,
   "id": "d012ae00",
   "metadata": {},
   "outputs": [
    {
     "data": {
      "text/plain": [
       "(array([1.0000044], dtype=float32), array([-8.861246e-06], dtype=float32))"
      ]
     },
     "execution_count": 9,
     "metadata": {},
     "output_type": "execute_result"
    }
   ],
   "source": [
    "W_, b_ = sess.run([W, b])\n",
    "W_, b_"
   ]
  },
  {
   "cell_type": "code",
   "execution_count": 10,
   "id": "5a686276",
   "metadata": {},
   "outputs": [
    {
     "name": "stdout",
     "output_type": "stream",
     "text": [
      "최종 회귀식 : H = 1.0000044107437134*x + -8.861245987645816e-06\n"
     ]
    }
   ],
   "source": [
    "print('최종 회귀식 : H = {}*x + {}'.format(W_[0], b_[0]))"
   ]
  },
  {
   "cell_type": "code",
   "execution_count": 11,
   "id": "f0c72e57",
   "metadata": {},
   "outputs": [],
   "source": [
    "def to_predict(x):\n",
    "    return W_[0]*x + b_[0]    "
   ]
  },
  {
   "cell_type": "code",
   "execution_count": 12,
   "id": "aeda111e",
   "metadata": {},
   "outputs": [
    {
     "data": {
      "text/plain": [
       "3.0000043709851525"
      ]
     },
     "execution_count": 12,
     "metadata": {},
     "output_type": "execute_result"
    }
   ],
   "source": [
    "to_predict(3)"
   ]
  },
  {
   "cell_type": "markdown",
   "id": "96d5c091",
   "metadata": {},
   "source": [
    "## 2.2 predict을 하기 위한 placeholder 이용\n",
    "- placeholder : 외부에서 데이터를 입력받을 수 있는 노드"
   ]
  },
  {
   "cell_type": "code",
   "execution_count": 13,
   "id": "b122dba6",
   "metadata": {},
   "outputs": [
    {
     "data": {
      "text/plain": [
       "[array(10., dtype=float16), array(20., dtype=float16), 30.0]"
      ]
     },
     "execution_count": 13,
     "metadata": {},
     "output_type": "execute_result"
    }
   ],
   "source": [
    "a = tf.placeholder(tf.float16)\n",
    "b = tf.placeholder(tf.float16)\n",
    "ab = tf.add(a, b)\n",
    "sess = tf.Session()\n",
    "sess.run([a,b,ab], feed_dict={a : 10,\n",
    "                        b : 20})"
   ]
  },
  {
   "cell_type": "code",
   "execution_count": 14,
   "id": "cf74dbb1",
   "metadata": {},
   "outputs": [
    {
     "data": {
      "text/plain": [
       "array([2., 4., 6.], dtype=float16)"
      ]
     },
     "execution_count": 14,
     "metadata": {},
     "output_type": "execute_result"
    }
   ],
   "source": [
    "sess.run(ab, feed_dict={a:np.array([1,2,3]),\n",
    "                       b:np.array([1,2,3]) })"
   ]
  },
  {
   "cell_type": "code",
   "execution_count": 15,
   "id": "f077b917",
   "metadata": {},
   "outputs": [
    {
     "name": "stdout",
     "output_type": "stream",
     "text": [
      "1/6000번째 cost:117.66902923583984, W=[-1.3807825], b:[0.67080283]\n",
      "301/6000번째 cost:0.006576424464583397, W=[1.950701], b:[1.1710676]\n",
      "601/6000번째 cost:0.0005424719420261681, W=[1.9858409], b:[1.0491316]\n",
      "901/6000번째 cost:4.4748558138962835e-05, W=[1.9959333], b:[1.0141114]\n",
      "1201/6000번째 cost:3.6923443076375406e-06, W=[1.9988319], b:[1.0040535]\n",
      "1501/6000번째 cost:3.048332359867345e-07, W=[1.9996643], b:[1.0011649]\n",
      "1801/6000번째 cost:2.5271333470300306e-08, W=[1.9999033], b:[1.0003351]\n",
      "2101/6000번째 cost:2.138634158654895e-09, W=[1.999972], b:[1.0000974]\n",
      "2401/6000번째 cost:2.0474999473663047e-10, W=[1.9999912], b:[1.0000304]\n",
      "2701/6000번째 cost:6.59952092973981e-11, W=[1.9999949], b:[1.0000172]\n",
      "3001/6000번째 cost:6.59952092973981e-11, W=[1.9999949], b:[1.0000172]\n",
      "3301/6000번째 cost:6.59952092973981e-11, W=[1.9999949], b:[1.0000172]\n",
      "3601/6000번째 cost:6.59952092973981e-11, W=[1.9999949], b:[1.0000172]\n",
      "3901/6000번째 cost:6.59952092973981e-11, W=[1.9999949], b:[1.0000172]\n",
      "4201/6000번째 cost:6.59952092973981e-11, W=[1.9999949], b:[1.0000172]\n",
      "4501/6000번째 cost:6.59952092973981e-11, W=[1.9999949], b:[1.0000172]\n",
      "4801/6000번째 cost:6.59952092973981e-11, W=[1.9999949], b:[1.0000172]\n",
      "5101/6000번째 cost:6.59952092973981e-11, W=[1.9999949], b:[1.0000172]\n",
      "5401/6000번째 cost:6.59952092973981e-11, W=[1.9999949], b:[1.0000172]\n",
      "5701/6000번째 cost:6.59952092973981e-11, W=[1.9999949], b:[1.0000172]\n"
     ]
    }
   ],
   "source": [
    "# data set (H = 2x + 1)\n",
    "x_data = np.array([1,2,3,5])\n",
    "y_data = np.array([3,5,7,11])\n",
    "\n",
    "# placeholder 설정(x,y)\n",
    "x = tf.placeholder(dtype=tf.float32)\n",
    "y = tf.placeholder(dtype=tf.float32)\n",
    "\n",
    "# weight & bias\n",
    "W = tf.Variable(tf.random.normal([1]),name='wieght')\n",
    "b = tf.Variable(tf.random.normal([1]), name='bias')\n",
    "\n",
    "# Hypothesis\n",
    "H = W*x + b\n",
    "\n",
    "# cost function == loss function\n",
    "cost = tf.reduce_mean(tf.square(H-y))\n",
    "\n",
    "# 경사하강법\n",
    "optimizer = tf.train.GradientDescentOptimizer(learning_rate=0.01)\n",
    "train = optimizer.minimize(cost)\n",
    "\n",
    "# Session 생성 & 변수 초기화\n",
    "sess = tf.Session()\n",
    "sess.run(tf.global_variables_initializer())\n",
    "\n",
    "# 6000번 학습\n",
    "for step in range(6000):\n",
    "    _, cost_val, W_val, b_val=sess.run([train,cost,W,b],\n",
    "                                      feed_dict={x:x_data,\n",
    "                                                y:y_data})\n",
    "    if step%300 == 0:\n",
    "        print('{}/6000번째 cost:{}, W={}, b:{}'.format(step+1,\n",
    "                                                     cost_val,\n",
    "                                                     W_val,\n",
    "                                                     b_val))"
   ]
  },
  {
   "cell_type": "code",
   "execution_count": 16,
   "id": "ea57060e",
   "metadata": {},
   "outputs": [
    {
     "data": {
      "text/plain": [
       "[array([1.9999949], dtype=float32), array([1.0000172], dtype=float32)]"
      ]
     },
     "execution_count": 16,
     "metadata": {},
     "output_type": "execute_result"
    }
   ],
   "source": [
    "# 최종 W, b\n",
    "sess.run([W, b])"
   ]
  },
  {
   "cell_type": "code",
   "execution_count": 17,
   "id": "7dd40703",
   "metadata": {},
   "outputs": [
    {
     "data": {
      "text/plain": [
       "array([10.999991], dtype=float32)"
      ]
     },
     "execution_count": 17,
     "metadata": {},
     "output_type": "execute_result"
    }
   ],
   "source": [
    "# 예측하기\n",
    "sess.run(H, feed_dict={x:5})"
   ]
  },
  {
   "cell_type": "code",
   "execution_count": 18,
   "id": "01dfc3d9",
   "metadata": {},
   "outputs": [
    {
     "data": {
      "text/plain": [
       "array([10.999991, 12.999987, 14.999981], dtype=float32)"
      ]
     },
     "execution_count": 18,
     "metadata": {},
     "output_type": "execute_result"
    }
   ],
   "source": [
    "sess.run(H, feed_dict={x: np.array([5,6,7])})"
   ]
  },
  {
   "cell_type": "markdown",
   "id": "396c3397",
   "metadata": {},
   "source": [
    "## 2.3 scale 이 다른 데이터들의 linear regression"
   ]
  },
  {
   "cell_type": "code",
   "execution_count": 19,
   "id": "87c865cd",
   "metadata": {},
   "outputs": [
    {
     "name": "stdout",
     "output_type": "stream",
     "text": [
      "1/6000번째 cost:3588.22705078125, W=[0.4625033], b:[1.1726267]\n",
      "301/6000번째 cost:111.28271484375, W=[8.941738], b:[2.2697623]\n",
      "601/6000번째 cost:81.40166473388672, W=[9.732517], b:[2.3293707]\n",
      "901/6000번째 cost:81.07579040527344, W=[9.811306], b:[2.293656]\n",
      "1201/6000번째 cost:81.00572204589844, W=[9.824071], b:[2.2498405]\n",
      "1501/6000번째 cost:80.94021606445312, W=[9.830612], b:[2.2059982]\n",
      "1801/6000번째 cost:80.87702178955078, W=[9.836479], b:[2.162859]\n",
      "2101/6000번째 cost:80.81604766845703, W=[9.842202], b:[2.120487]\n",
      "2401/6000번째 cost:80.7572021484375, W=[9.84786], b:[2.0788534]\n",
      "2701/6000번째 cost:80.70047760009766, W=[9.853342], b:[2.0379605]\n",
      "3001/6000번째 cost:80.64570617675781, W=[9.858778], b:[1.9978001]\n",
      "3301/6000번째 cost:80.59281921386719, W=[9.864136], b:[1.9583367]\n",
      "3601/6000번째 cost:80.54183959960938, W=[9.86933], b:[1.9195788]\n",
      "3901/6000번째 cost:80.49263000488281, W=[9.87448], b:[1.8815138]\n",
      "4201/6000번째 cost:80.44515228271484, W=[9.879567], b:[1.8441097]\n",
      "4501/6000번째 cost:80.39933776855469, W=[9.884491], b:[1.8073721]\n",
      "4801/6000번째 cost:80.35514831542969, W=[9.889356], b:[1.7712941]\n",
      "5101/6000번째 cost:80.31248474121094, W=[9.894199], b:[1.7358446]\n",
      "5401/6000번째 cost:80.27132415771484, W=[9.898867], b:[1.7010206]\n",
      "5701/6000번째 cost:80.23161315917969, W=[9.903458], b:[1.6668231]\n"
     ]
    }
   ],
   "source": [
    "x_data = np.array([1,2,5,8,10])\n",
    "y_data = np.array([5,15,68,80,95])\n",
    "\n",
    "# placeholder 설정\n",
    "x = tf.placeholder(dtype=tf.float32)\n",
    "y = tf.placeholder(dtype=tf.float32)\n",
    "\n",
    "#weight & bias\n",
    "W = tf.Variable(tf.random.normal([1]), name='weight')\n",
    "b = tf.Variable(tf.random.normal([1]))\n",
    "\n",
    "# Hypothesis\n",
    "H = W*x+b\n",
    "\n",
    "#cost function(loss function : 손실함수)\n",
    "cost = tf.reduce_mean(tf.square(H-y))\n",
    "\n",
    "#경사하강법\n",
    "optimizer=tf.train.GradientDescentOptimizer(learning_rate=0.0001)\n",
    "train = optimizer.minimize(cost)\n",
    "\n",
    "# Session & Variable 초기화\n",
    "sess = tf.Session()\n",
    "sess.run(tf.global_variables_initializer())\n",
    "\n",
    "# 학습\n",
    "for step in range(1,6001):\n",
    "    _, cost_val, W_val, b_val=sess.run([train,cost,W,b],\n",
    "                                      feed_dict={x:x_data,\n",
    "                                                y:y_data})\n",
    "    if step%300 == 1:\n",
    "        print('{}/6000번째 cost:{}, W={}, b:{}'.format(step,\n",
    "                                                     cost_val,\n",
    "                                                     W_val,\n",
    "                                                     b_val))"
   ]
  },
  {
   "cell_type": "code",
   "execution_count": 20,
   "id": "0bc27bc8",
   "metadata": {},
   "outputs": [
    {
     "data": {
      "text/plain": [
       "array([51.17341], dtype=float32)"
      ]
     },
     "execution_count": 20,
     "metadata": {},
     "output_type": "execute_result"
    }
   ],
   "source": [
    "# 예측\n",
    "sess.run(H, feed_dict={x:5})"
   ]
  },
  {
   "cell_type": "code",
   "execution_count": 21,
   "id": "245d2e58",
   "metadata": {},
   "outputs": [],
   "source": [
    "# cost값이 멈춤 : local 최소값"
   ]
  },
  {
   "cell_type": "markdown",
   "id": "d3c4ce17",
   "metadata": {},
   "source": [
    "## 2.4 scale이 다른 데이터들의 linear regression을 구현(조정 O)\n",
    "### scale을 맞추는 방법 : 모든 데이터를 일정 범위내로 조정\n",
    "- normalization(정규화) : 데이터의 최대값을 1, 최소값을 0으로 조정\n",
    "```\n",
    "                      x - Xmin\n",
    "    normalization = ───────\n",
    "                    Xmax - Xmin\n",
    "        * 위의 식을 써도 되지만 라이브러리를 주로 씀(sklearn.preprocessing.MinMaxScaler이용)\n",
    "```\n",
    "- standardization(표준화) : 데이터의 평균을 0, 표준편차를 1로 조정\n",
    "```\n",
    "                        x - Xmean(평균)\n",
    "    standardization = ──────────\n",
    "                        Xstd(표준편차)\n",
    "        * 위의 식을 써도 되지만 라이브러리를 주로 씀(sklearn.preprocessing.StandardScaler이용)\n",
    "```\n"
   ]
  },
  {
   "cell_type": "code",
   "execution_count": 22,
   "id": "2b6c5b89",
   "metadata": {},
   "outputs": [
    {
     "name": "stdout",
     "output_type": "stream",
     "text": [
      "[0.         0.11111111 0.44444444 0.77777778 1.        ]\n",
      "[0.         0.11111111 0.7        0.83333333 1.        ]\n"
     ]
    }
   ],
   "source": [
    "# 라이브러리를 쓰지 않고 정규화 : 예측할 경우 x데이터의 스케일을하고, 스케일된 예측값을 변환\n",
    "x_data = np.array([1,2,5,8,10])\n",
    "y_data = np.array([5,15,68,80,95])\n",
    "\n",
    "scaled_x_data = (x_data - x_data.min())/(x_data.max()-x_data.min())\n",
    "scaled_y_data = (y_data - y_data.min())/(y_data.max()-y_data.min())\n",
    "\n",
    "print(scaled_x_data)\n",
    "print(scaled_y_data)"
   ]
  },
  {
   "cell_type": "code",
   "execution_count": 23,
   "id": "ee3aa2a5",
   "metadata": {},
   "outputs": [
    {
     "data": {
      "text/plain": [
       "array([[ 1.        ,  0.        ,  5.        ,  0.        ],\n",
       "       [ 2.        ,  0.11111111, 15.        ,  0.11111111],\n",
       "       [ 5.        ,  0.44444444, 68.        ,  0.7       ],\n",
       "       [ 8.        ,  0.77777778, 80.        ,  0.83333333],\n",
       "       [10.        ,  1.        , 95.        ,  1.        ]])"
      ]
     },
     "execution_count": 23,
     "metadata": {},
     "output_type": "execute_result"
    }
   ],
   "source": [
    "# sklearn.preprocessing.MinMaxScaler이용\n",
    "x_data = np.array([1,2,5,8,10]).reshape(-1,1)\n",
    "y_data = np.array([5,15,68,80,95]).reshape(-1,1)\n",
    "\n",
    "from sklearn.preprocessing import MinMaxScaler\n",
    "scaler_x = MinMaxScaler() # x_data를 표준화 시킬 객체\n",
    "scaler_x.fit(x_data)\n",
    "scaled_x_data = scaler_x.transform(x_data)\n",
    "\n",
    "scaler_y = MinMaxScaler() # y_data를 표준화 시킬 객체\n",
    "scaler_y.fit(y_data)\n",
    "scaled_y_data = scaler_y.transform(y_data)\n",
    "\n",
    "np.column_stack([x_data, scaled_x_data, y_data, scaled_y_data])"
   ]
  },
  {
   "cell_type": "code",
   "execution_count": 24,
   "id": "c7927272",
   "metadata": {},
   "outputs": [
    {
     "name": "stdout",
     "output_type": "stream",
     "text": [
      "1/10000번째 cost:7.723258972167969, W=[-2.450394], b:[-0.7707421]\n",
      "301/10000번째 cost:2.2750802040100098, W=[-1.7122275], b:[0.23950072]\n",
      "601/10000번째 cost:0.9861041903495789, W=[-1.2896256], b:[0.67844033]\n",
      "901/10000번째 cost:0.6365436315536499, W=[-1.0212213], b:[0.84981954]\n",
      "1201/10000번째 cost:0.5050833225250244, W=[-0.8303701], b:[0.8971074]\n",
      "1501/10000번째 cost:0.42935237288475037, W=[-0.6805098], b:[0.88798916]\n",
      "1801/10000번째 cost:0.3721291720867157, W=[-0.5540576], b:[0.8543212]\n",
      "2101/10000번째 cost:0.3243013024330139, W=[-0.44242886], b:[0.8110243]\n",
      "2401/10000번째 cost:0.28314444422721863, W=[-0.34130847], b:[0.76502216]\n",
      "2701/10000번째 cost:0.24745330214500427, W=[-0.24842079], b:[0.7194628]\n",
      "3001/10000번째 cost:0.21643981337547302, W=[-0.16246822], b:[0.67572033]\n",
      "3301/10000번째 cost:0.1894770711660385, W=[-0.08263241], b:[0.6343355]\n",
      "3601/10000번째 cost:0.16603286564350128, W=[-0.00833475], b:[0.59546304]\n",
      "3901/10000번째 cost:0.145647332072258, W=[0.060877], b:[0.5590815]\n",
      "4201/10000번째 cost:0.12792131304740906, W=[0.1253832], b:[0.52509314]\n",
      "4501/10000번째 cost:0.11250774562358856, W=[0.18551904], b:[0.4933692]\n",
      "4801/10000번째 cost:0.09910498559474945, W=[0.24158786], b:[0.4637729]\n",
      "5101/10000번째 cost:0.08745069801807404, W=[0.29386824], b:[0.43616787]\n",
      "5401/10000번째 cost:0.0773167684674263, W=[0.3426177], b:[0.41042307]\n",
      "5701/10000번째 cost:0.06850489974021912, W=[0.38807538], b:[0.3864149]\n",
      "6001/10000번째 cost:0.0608426034450531, W=[0.43046394], b:[0.36402676]\n",
      "6301/10000번째 cost:0.054179847240448, W=[0.46999118], b:[0.34314957]\n",
      "6601/10000번째 cost:0.04838631674647331, W=[0.50684965], b:[0.3236812]\n",
      "6901/10000번째 cost:0.043348610401153564, W=[0.5412199], b:[0.30552742]\n",
      "7201/10000번째 cost:0.03896811231970787, W=[0.57326984], b:[0.28859916]\n",
      "7501/10000번째 cost:0.03515907749533653, W=[0.6031561], b:[0.27281356]\n",
      "7801/10000번째 cost:0.03184695169329643, W=[0.63102496], b:[0.25809368]\n",
      "8101/10000번째 cost:0.02896694466471672, W=[0.65701216], b:[0.2443675]\n",
      "8401/10000번째 cost:0.026462623849511147, W=[0.6812453], b:[0.23156789]\n",
      "8701/10000번째 cost:0.02428499236702919, W=[0.70384276], b:[0.21963231]\n",
      "9001/10000번째 cost:0.022391462698578835, W=[0.72491455], b:[0.2085024]\n",
      "9301/10000번째 cost:0.02074495516717434, W=[0.74456376], b:[0.1981239]\n",
      "9601/10000번째 cost:0.01931324042379856, W=[0.7628867], b:[0.18844597]\n",
      "9901/10000번째 cost:0.01806829683482647, W=[0.7799727], b:[0.17942141]\n"
     ]
    }
   ],
   "source": [
    "# placeholder 설정\n",
    "x = tf.placeholder(dtype=tf.float32)\n",
    "y = tf.placeholder(dtype=tf.float32)\n",
    "\n",
    "#weight & bias\n",
    "W = tf.Variable(tf.random.normal([1]), name='weight')\n",
    "b = tf.Variable(tf.random.normal([1]), name='bias')\n",
    "\n",
    "# Hypothesis\n",
    "H = W*x+b\n",
    "\n",
    "#cost function(loss function : 손실함수)\n",
    "cost = tf.reduce_mean(tf.square(H-y))\n",
    "\n",
    "#경사하강법\n",
    "optimizer=tf.train.GradientDescentOptimizer(learning_rate=0.001)\n",
    "train = optimizer.minimize(cost)\n",
    "\n",
    "# Session & Variable 초기화\n",
    "sess = tf.Session()\n",
    "sess.run(tf.global_variables_initializer())\n",
    "\n",
    "# 학습\n",
    "for step in range(1,10001):\n",
    "    _, cost_val, W_val, b_val=sess.run([train,cost,W,b],\n",
    "                                      feed_dict={x:scaled_x_data,\n",
    "                                                y:scaled_y_data})\n",
    "    if step%300 == 1:\n",
    "        print('{}/10000번째 cost:{}, W={}, b:{}'.format(step,\n",
    "                                                     cost_val,\n",
    "                                                     W_val,\n",
    "                                                     b_val))"
   ]
  },
  {
   "cell_type": "code",
   "execution_count": 25,
   "id": "c3c5a69a",
   "metadata": {
    "scrolled": true
   },
   "outputs": [
    {
     "name": "stdout",
     "output_type": "stream",
     "text": [
      "2를 스케일 조정된 값 : [[0.11111111]]\n",
      "예측값 : [[28.743639]]\n"
     ]
    }
   ],
   "source": [
    "# 예측\n",
    "scaled_input=scaler_x.transform(np.array([[2]]))\n",
    "print('2를 스케일 조정된 값 :',scaled_input)\n",
    "scaled_output = sess.run(H, feed_dict={x:scaled_input})\n",
    "print('예측값 :', scaler_y.inverse_transform(scaled_output))"
   ]
  },
  {
   "cell_type": "code",
   "execution_count": 26,
   "id": "a87d8293",
   "metadata": {},
   "outputs": [
    {
     "data": {
      "text/plain": [
       "[array([0.78540766], dtype=float32), array([0.1765507], dtype=float32)]"
      ]
     },
     "execution_count": 26,
     "metadata": {},
     "output_type": "execute_result"
    }
   ],
   "source": [
    "sess.run([W,b])"
   ]
  },
  {
   "cell_type": "code",
   "execution_count": 27,
   "id": "7c84ca85",
   "metadata": {
    "scrolled": true
   },
   "outputs": [
    {
     "data": {
      "text/plain": [
       "array([[ 5.        , 20.88956261],\n",
       "       [15.        , 28.74363899],\n",
       "       [68.        , 52.30587006],\n",
       "       [80.        , 75.86810303],\n",
       "       [95.        , 91.57624817]])"
      ]
     },
     "execution_count": 27,
     "metadata": {},
     "output_type": "execute_result"
    }
   ],
   "source": [
    "# x_data들의 예측값\n",
    "scaled_y_hat = sess.run(H, feed_dict={x:scaled_x_data})\n",
    "y_hat = scaler_y.inverse_transform(scaled_y_hat)\n",
    "np.column_stack([y_data, y_hat])"
   ]
  },
  {
   "cell_type": "code",
   "execution_count": 28,
   "id": "2202f55d",
   "metadata": {},
   "outputs": [
    {
     "data": {
      "text/plain": [
       "[<matplotlib.lines.Line2D at 0x1df30cfc430>]"
      ]
     },
     "execution_count": 28,
     "metadata": {},
     "output_type": "execute_result"
    },
    {
     "data": {
      "image/png": "[encoded data removed]",
      "text/plain": [
       "<Figure size 640x480 with 1 Axes>"
      ]
     },
     "metadata": {},
     "output_type": "display_data"
    }
   ],
   "source": [
    "import matplotlib.pyplot as plt\n",
    "plt.plot(x_data, y_data)\n",
    "plt.plot(x_data, y_hat)"
   ]
  },
  {
   "cell_type": "code",
   "execution_count": 29,
   "id": "4d98ed92",
   "metadata": {},
   "outputs": [
    {
     "data": {
      "image/png": "[encoded data removed]",
      "text/plain": [
       "<Figure size 640x480 with 1 Axes>"
      ]
     },
     "metadata": {},
     "output_type": "display_data"
    }
   ],
   "source": [
    "import seaborn as sns\n",
    "import pandas as pd\n",
    "df = pd.DataFrame({'x':x_data[:,0],\n",
    "                  'y':y_data[:,0]})\n",
    "sns.regplot(data=df, x='x', y='y')\n",
    "plt.show()"
   ]
  },
  {
   "cell_type": "code",
   "execution_count": 30,
   "id": "9a7fb0dc",
   "metadata": {},
   "outputs": [
    {
     "name": "stdout",
     "output_type": "stream",
     "text": [
      "[-1.22474487 -0.93313895 -0.05832118  0.81649658  1.39970842] [-1.32373476 -1.04563922  0.42826713  0.76198177  1.17912508]\n"
     ]
    }
   ],
   "source": [
    "# 라이브러리를 쓰지 않고 표준화\n",
    "x_data = np.array([1,2,5,8,10])\n",
    "y_data = np.array([5,15,68,80,95])\n",
    "scaled_x_data = (x_data - x_data.mean())/x_data.std()\n",
    "scaled_y_data = (y_data - y_data.mean())/y_data.std()\n",
    "print(scaled_x_data,scaled_y_data)"
   ]
  },
  {
   "cell_type": "code",
   "execution_count": 31,
   "id": "878fe223",
   "metadata": {},
   "outputs": [
    {
     "name": "stdout",
     "output_type": "stream",
     "text": [
      "[[ 1.         -1.22474487]\n",
      " [ 2.         -0.93313895]\n",
      " [ 5.         -0.05832118]\n",
      " [ 8.          0.81649658]\n",
      " [10.          1.39970842]]\n",
      "[[ 5.         -1.32373476]\n",
      " [15.         -1.04563922]\n",
      " [68.          0.42826713]\n",
      " [80.          0.76198177]\n",
      " [95.          1.17912508]]\n"
     ]
    }
   ],
   "source": [
    "# 라이브러리를 써서 표준화\n",
    "x_data = np.array([1,2,5,8,10]).reshape(-1,1)\n",
    "y_data = np.array([5,15,68,80,95]).reshape(-1,1)\n",
    "\n",
    "from sklearn.preprocessing import StandardScaler\n",
    "scaler_x = StandardScaler()\n",
    "scaler_x.fit(x_data)\n",
    "scaled_x_data = scaler_x.transform(x_data)\n",
    "\n",
    "scaler_y = StandardScaler()\n",
    "scaler_y.fit(y_data)\n",
    "scaled_y_data = scaler_y.transform(y_data)\n",
    "print(np.column_stack([x_data, scaled_x_data]))\n",
    "print(np.column_stack([y_data, scaled_y_data]))"
   ]
  },
  {
   "cell_type": "code",
   "execution_count": 32,
   "id": "b35b27ab",
   "metadata": {},
   "outputs": [
    {
     "name": "stdout",
     "output_type": "stream",
     "text": [
      "1/10000번째 cost:2.356870174407959, W=[-0.12762445], b:[1.0455945]\n",
      "1001/10000번째 cost:0.10308259725570679, W=[0.8208115], b:[0.14122263]\n",
      "2001/10000번째 cost:0.061968136578798294, W=[0.9489114], b:[0.01907419]\n",
      "3001/10000번째 cost:0.06121812015771866, W=[0.966213], b:[0.00257625]\n",
      "4001/10000번째 cost:0.06120443344116211, W=[0.9685498], b:[0.00034796]\n",
      "5001/10000번째 cost:0.061204176396131516, W=[0.9688653], b:[4.699855e-05]\n",
      "6001/10000번째 cost:0.061204176396131516, W=[0.9688999], b:[6.353086e-06]\n",
      "7001/10000번째 cost:0.06120417267084122, W=[0.9688999], b:[8.6503474e-07]\n",
      "8001/10000번째 cost:0.061204176396131516, W=[0.9688999], b:[1.2772458e-07]\n",
      "9001/10000번째 cost:0.061204176396131516, W=[0.9688999], b:[3.557435e-08]\n"
     ]
    }
   ],
   "source": [
    "# placeholder 설정\n",
    "x = tf.placeholder(dtype=tf.float32)\n",
    "y = tf.placeholder(dtype=tf.float32)\n",
    "\n",
    "#weight & bias\n",
    "W = tf.Variable(tf.random.normal([1]), name='weight')\n",
    "b = tf.Variable(tf.random.normal([1]), name='bias')\n",
    "\n",
    "# Hypothesis\n",
    "H = W*x+b\n",
    "\n",
    "#cost function(loss function : 손실함수)\n",
    "cost = tf.reduce_mean(tf.square(H-y))\n",
    "\n",
    "#경사하강법\n",
    "optimizer=tf.train.GradientDescentOptimizer(learning_rate=0.001)\n",
    "train = optimizer.minimize(cost)\n",
    "\n",
    "# Session & Variable 초기화\n",
    "sess = tf.Session()\n",
    "sess.run(tf.global_variables_initializer())\n",
    "\n",
    "# 학습\n",
    "for step in range(1,10001):\n",
    "    _, cost_val, W_val, b_val=sess.run([train,cost,W,b],\n",
    "                                      feed_dict={x:scaled_x_data,\n",
    "                                                y:scaled_y_data})\n",
    "    if step%1000 == 1:\n",
    "        print('{}/10000번째 cost:{}, W={}, b:{}'.format(step,\n",
    "                                                     cost_val,\n",
    "                                                     W_val,\n",
    "                                                     b_val))"
   ]
  },
  {
   "cell_type": "code",
   "execution_count": 33,
   "id": "0ac1625c",
   "metadata": {},
   "outputs": [
    {
     "data": {
      "text/plain": [
       "array([[  5.        ,   9.92922401],\n",
       "       [ 15.        ,  20.08893394],\n",
       "       [ 68.        ,  50.56805801],\n",
       "       [ 80.        ,  81.04718018],\n",
       "       [ 95.        , 101.36660004]])"
      ]
     },
     "execution_count": 33,
     "metadata": {},
     "output_type": "execute_result"
    }
   ],
   "source": [
    "# x_data들의 예측값\n",
    "scaled_y_hat = sess.run(H, feed_dict={x:scaled_x_data})\n",
    "y_hat = scaler_y.inverse_transform(scaled_y_hat)\n",
    "np.column_stack([y_data, y_hat])"
   ]
  },
  {
   "cell_type": "code",
   "execution_count": 34,
   "id": "1fcfda1e",
   "metadata": {},
   "outputs": [
    {
     "data": {
      "text/plain": [
       "[<matplotlib.lines.Line2D at 0x1df310741c0>]"
      ]
     },
     "execution_count": 34,
     "metadata": {},
     "output_type": "execute_result"
    },
    {
     "data": {
      "image/png": "[encoded data removed]",
      "text/plain": [
       "<Figure size 640x480 with 1 Axes>"
      ]
     },
     "metadata": {},
     "output_type": "display_data"
    }
   ],
   "source": [
    "import matplotlib.pyplot as plt\n",
    "plt.plot(x_data, y_data)\n",
    "plt.plot(x_data, y_hat)"
   ]
  },
  {
   "cell_type": "markdown",
   "id": "314afa65",
   "metadata": {},
   "source": [
    "전국 평균 평당 분양가격(2013년 9월부터 2015년 8월까지).csv (지역명, 평당분양가격, 연도, 월)\n",
    "- 지역명2 : 지역명필드는 라벨인코딩하여 추가\n",
    "- 평당분양가격n : 평당분양가격의 정규화 스케일 조정하여 추가\n",
    "- 평당분양가격s : 평당분양가격의 표준화 스케일 조정하여 추가\n",
    "- 연도n : 연도의 정규화 스케일 조정하여 추가\n",
    "- 연도s : 연도의 표준화 스케일 조정하여 추가\n",
    "- 월n : 월의 정규화 스케일 조정하여 추가\n",
    "- 월s : 월의 정규화 스케일 조정하여 추가"
   ]
  },
  {
   "cell_type": "code",
   "execution_count": 7,
   "id": "67370431",
   "metadata": {},
   "outputs": [
    {
     "data": {
      "text/html": [
       "<div>\n",
       "<style scoped>\n",
       "    .dataframe tbody tr th:only-of-type {\n",
       "        vertical-align: middle;\n",
       "    }\n",
       "\n",
       "    .dataframe tbody tr th {\n",
       "        vertical-align: top;\n",
       "    }\n",
       "\n",
       "    .dataframe thead th {\n",
       "        text-align: right;\n",
       "    }\n",
       "</style>\n",
       "<table border=\"1\" class=\"dataframe\">\n",
       "  <thead>\n",
       "    <tr style=\"text-align: right;\">\n",
       "      <th></th>\n",
       "      <th>지역명</th>\n",
       "      <th>평당분양가격</th>\n",
       "      <th>연도</th>\n",
       "      <th>월</th>\n",
       "    </tr>\n",
       "  </thead>\n",
       "  <tbody>\n",
       "    <tr>\n",
       "      <th>0</th>\n",
       "      <td>서울</td>\n",
       "      <td>18189</td>\n",
       "      <td>2013</td>\n",
       "      <td>12</td>\n",
       "    </tr>\n",
       "    <tr>\n",
       "      <th>1</th>\n",
       "      <td>부산</td>\n",
       "      <td>8111</td>\n",
       "      <td>2013</td>\n",
       "      <td>12</td>\n",
       "    </tr>\n",
       "  </tbody>\n",
       "</table>\n",
       "</div>"
      ],
      "text/plain": [
       "  지역명  평당분양가격    연도   월\n",
       "0  서울   18189  2013  12\n",
       "1  부산    8111  2013  12"
      ]
     },
     "execution_count": 7,
     "metadata": {},
     "output_type": "execute_result"
    }
   ],
   "source": [
    "import pandas as pd\n",
    "df = pd.read_csv(r'D:\\ai\\Downloads\\shareData\\전국 평균 평당 분양가격(2013년 9월부터 2015년 8월까지).csv', encoding='cp949')\n",
    "new_df = df.melt(id_vars='지역', var_name='연도월', value_name='평당분양가격')\n",
    "new_df['연도']=new_df['연도월'].apply(lambda x : int(x.split('년')[0]))\n",
    "new_df['월']=new_df['연도월'].apply(lambda x : int(x.split('년')[1][:-1]))\n",
    "new_df.drop('연도월',axis=1,inplace=True)\n",
    "new_df=new_df.rename(columns={'지역':'지역명'})\n",
    "new_df.head(2)"
   ]
  },
  {
   "cell_type": "code",
   "execution_count": 6,
   "id": "d60e164d",
   "metadata": {},
   "outputs": [],
   "source": [
    "from sklearn.preprocessing import LabelEncoder\n",
    "\n",
    "le = LabelEncoder()\n",
    "new_df['지역명2'] = le.fit_transform(new_df['지역명'])"
   ]
  },
  {
   "cell_type": "code",
   "execution_count": 3,
   "id": "218d738e",
   "metadata": {},
   "outputs": [
    {
     "ename": "NameError",
     "evalue": "name 'np' is not defined",
     "output_type": "error",
     "traceback": [
      "\u001b[1;31m---------------------------------------------------------------------------\u001b[0m",
      "\u001b[1;31mNameError\u001b[0m                                 Traceback (most recent call last)",
      "Cell \u001b[1;32mIn[3], line 3\u001b[0m\n\u001b[0;32m      1\u001b[0m \u001b[38;5;28;01mfrom\u001b[39;00m \u001b[38;5;21;01msklearn\u001b[39;00m\u001b[38;5;21;01m.\u001b[39;00m\u001b[38;5;21;01mpreprocessing\u001b[39;00m \u001b[38;5;28;01mimport\u001b[39;00m MinMaxScaler\n\u001b[1;32m----> 3\u001b[0m price_data \u001b[38;5;241m=\u001b[39m \u001b[43mnp\u001b[49m\u001b[38;5;241m.\u001b[39marray(new_df[\u001b[38;5;124m'\u001b[39m\u001b[38;5;124m평당분양가격\u001b[39m\u001b[38;5;124m'\u001b[39m])\u001b[38;5;241m.\u001b[39mreshape(\u001b[38;5;241m-\u001b[39m\u001b[38;5;241m1\u001b[39m, \u001b[38;5;241m1\u001b[39m)\n\u001b[0;32m      4\u001b[0m scaler \u001b[38;5;241m=\u001b[39m MinMaxScaler()\n\u001b[0;32m      5\u001b[0m scaler\u001b[38;5;241m.\u001b[39mfit(price_data)\n",
      "\u001b[1;31mNameError\u001b[0m: name 'np' is not defined"
     ]
    }
   ],
   "source": [
    "from sklearn.preprocessing import MinMaxScaler\n",
    "\n",
    "price_data = np.array(new_df['평당분양가격']).reshape(-1, 1)\n",
    "scaler = MinMaxScaler()\n",
    "scaler.fit(price_data)\n",
    "price_scaled_data = scaler.transform(price_data)\n",
    "new_df['평당분양가격n'] = price_scaled_data\n",
    "\n",
    "year_data = np.array(new_df['연도']).reshape(-1, 1)\n",
    "scaler.fit(year_data)\n",
    "year_scaled_data = scaler.transform(year_data)\n",
    "new_df['연도n'] = year_scaled_data\n",
    "\n",
    "month_data = np.array(new_df['월']).reshape(-1, 1)\n",
    "scaler.fit(month_data)\n",
    "month_scaled_data = scaler.transform(month_data)\n",
    "new_df['월n'] = month_scaled_data\n",
    "\n",
    "from sklearn.preprocessing import StandardScaler\n",
    "\n",
    "scaler = StandardScaler()\n",
    "price_data = np.array(new_df['평당분양가격']).reshape(-1, 1)\n",
    "scaler.fit(price_data)\n",
    "price_scaled_data = scaler.transform(price_data)\n",
    "new_df['평당분양가격s'] = price_scaled_data\n",
    "\n",
    "year_data = np.array(new_df['연도']).reshape(-1, 1)\n",
    "scaler.fit(year_data)\n",
    "year_scaled_data = scaler.transform(year_data)\n",
    "new_df['연도s'] = year_scaled_data\n",
    "\n",
    "month_data = np.array(new_df['월']).reshape(-1, 1)\n",
    "scaler.fit(month_data)\n",
    "month_scaled_data = scaler.transform(month_data)\n",
    "new_df['월s'] = month_scaled_data"
   ]
  },
  {
   "cell_type": "code",
   "execution_count": null,
   "id": "05b07622",
   "metadata": {},
   "outputs": [],
   "source": [
    "new_df.to_csv(r'D:\\ai\\Downloads\\shareData\\전국 평당분양가격_scaling.csv', encoding='cp949')"
   ]
  },
  {
   "cell_type": "code",
   "execution_count": null,
   "id": "8cfdc101",
   "metadata": {},
   "outputs": [],
   "source": [
    "def scaling(df,column):\n",
    "    data = np.array(df[column])\n",
    "    scaled_data=(data-data.min())/(data.max()-data.min())\n",
    "    df[column+'n']=scaled_data\n",
    "scaling(new_df,'평당분양가격')\n",
    "scaling(new_df,'연도')\n",
    "scaling(new_df,'월')\n",
    "\n",
    "def scaling(df,column):\n",
    "    data = np.array(df[column])\n",
    "    scaled_data=(data-data.mean())/data.std()\n",
    "    df[column+'s']=scaled_data\n",
    "scaling(new_df,'평당분양가격')\n",
    "scaling(new_df,'연도')\n",
    "scaling(new_df,'월')\n",
    "new_df"
   ]
  },
  {
   "cell_type": "code",
   "execution_count": 9,
   "id": "9394eb19",
   "metadata": {},
   "outputs": [
    {
     "data": {
      "text/html": [
       "<div>\n",
       "<style scoped>\n",
       "    .dataframe tbody tr th:only-of-type {\n",
       "        vertical-align: middle;\n",
       "    }\n",
       "\n",
       "    .dataframe tbody tr th {\n",
       "        vertical-align: top;\n",
       "    }\n",
       "\n",
       "    .dataframe thead th {\n",
       "        text-align: right;\n",
       "    }\n",
       "</style>\n",
       "<table border=\"1\" class=\"dataframe\">\n",
       "  <thead>\n",
       "    <tr style=\"text-align: right;\">\n",
       "      <th></th>\n",
       "      <th>지역명</th>\n",
       "      <th>평당분양가격</th>\n",
       "      <th>연도</th>\n",
       "      <th>월</th>\n",
       "      <th>연도n</th>\n",
       "      <th>월n</th>\n",
       "      <th>평당분양가격n</th>\n",
       "    </tr>\n",
       "  </thead>\n",
       "  <tbody>\n",
       "    <tr>\n",
       "      <th>81</th>\n",
       "      <td>전남</td>\n",
       "      <td>5736</td>\n",
       "      <td>2014</td>\n",
       "      <td>4</td>\n",
       "      <td>0.5</td>\n",
       "      <td>0.272727</td>\n",
       "      <td>0.008432</td>\n",
       "    </tr>\n",
       "    <tr>\n",
       "      <th>332</th>\n",
       "      <td>강원</td>\n",
       "      <td>7019</td>\n",
       "      <td>2015</td>\n",
       "      <td>7</td>\n",
       "      <td>1.0</td>\n",
       "      <td>0.545455</td>\n",
       "      <td>0.093619</td>\n",
       "    </tr>\n",
       "    <tr>\n",
       "      <th>191</th>\n",
       "      <td>광주</td>\n",
       "      <td>7752</td>\n",
       "      <td>2014</td>\n",
       "      <td>11</td>\n",
       "      <td>0.5</td>\n",
       "      <td>0.909091</td>\n",
       "      <td>0.142288</td>\n",
       "    </tr>\n",
       "    <tr>\n",
       "      <th>14</th>\n",
       "      <td>경북</td>\n",
       "      <td>6168</td>\n",
       "      <td>2013</td>\n",
       "      <td>12</td>\n",
       "      <td>0.0</td>\n",
       "      <td>1.000000</td>\n",
       "      <td>0.037116</td>\n",
       "    </tr>\n",
       "    <tr>\n",
       "      <th>92</th>\n",
       "      <td>경기</td>\n",
       "      <td>10646</td>\n",
       "      <td>2014</td>\n",
       "      <td>5</td>\n",
       "      <td>0.5</td>\n",
       "      <td>0.363636</td>\n",
       "      <td>0.334440</td>\n",
       "    </tr>\n",
       "    <tr>\n",
       "      <th>252</th>\n",
       "      <td>경북</td>\n",
       "      <td>6953</td>\n",
       "      <td>2015</td>\n",
       "      <td>2</td>\n",
       "      <td>1.0</td>\n",
       "      <td>0.090909</td>\n",
       "      <td>0.089237</td>\n",
       "    </tr>\n",
       "    <tr>\n",
       "      <th>233</th>\n",
       "      <td>전북</td>\n",
       "      <td>6583</td>\n",
       "      <td>2015</td>\n",
       "      <td>1</td>\n",
       "      <td>1.0</td>\n",
       "      <td>0.000000</td>\n",
       "      <td>0.064670</td>\n",
       "    </tr>\n",
       "    <tr>\n",
       "      <th>328</th>\n",
       "      <td>대전</td>\n",
       "      <td>8079</td>\n",
       "      <td>2015</td>\n",
       "      <td>7</td>\n",
       "      <td>1.0</td>\n",
       "      <td>0.545455</td>\n",
       "      <td>0.164000</td>\n",
       "    </tr>\n",
       "    <tr>\n",
       "      <th>223</th>\n",
       "      <td>대구</td>\n",
       "      <td>8327</td>\n",
       "      <td>2015</td>\n",
       "      <td>1</td>\n",
       "      <td>1.0</td>\n",
       "      <td>0.000000</td>\n",
       "      <td>0.180466</td>\n",
       "    </tr>\n",
       "    <tr>\n",
       "      <th>246</th>\n",
       "      <td>세종</td>\n",
       "      <td>8560</td>\n",
       "      <td>2015</td>\n",
       "      <td>2</td>\n",
       "      <td>1.0</td>\n",
       "      <td>0.090909</td>\n",
       "      <td>0.195937</td>\n",
       "    </tr>\n",
       "  </tbody>\n",
       "</table>\n",
       "</div>"
      ],
      "text/plain": [
       "    지역명  평당분양가격    연도   월  연도n        월n   평당분양가격n\n",
       "81   전남    5736  2014   4  0.5  0.272727  0.008432\n",
       "332  강원    7019  2015   7  1.0  0.545455  0.093619\n",
       "191  광주    7752  2014  11  0.5  0.909091  0.142288\n",
       "14   경북    6168  2013  12  0.0  1.000000  0.037116\n",
       "92   경기   10646  2014   5  0.5  0.363636  0.334440\n",
       "252  경북    6953  2015   2  1.0  0.090909  0.089237\n",
       "233  전북    6583  2015   1  1.0  0.000000  0.064670\n",
       "328  대전    8079  2015   7  1.0  0.545455  0.164000\n",
       "223  대구    8327  2015   1  1.0  0.000000  0.180466\n",
       "246  세종    8560  2015   2  1.0  0.090909  0.195937"
      ]
     },
     "execution_count": 9,
     "metadata": {},
     "output_type": "execute_result"
    }
   ],
   "source": [
    "# 변수들 전체 스케일 조정\n",
    "from sklearn.preprocessing import MinMaxScaler\n",
    "import numpy as np\n",
    "scaler = MinMaxScaler()\n",
    "new_df[['연도n','월n','평당분양가격n']] = scaler.fit_transform(new_df[['연도','월','평당분양가격']])\n",
    "new_df.sample(10)"
   ]
  },
  {
   "cell_type": "markdown",
   "id": "8161c9d3",
   "metadata": {},
   "source": [
    "## 2.5 독립변수 x가 여러개인 linear Regression"
   ]
  },
  {
   "cell_type": "code",
   "execution_count": 18,
   "id": "465262cf",
   "metadata": {},
   "outputs": [
    {
     "name": "stdout",
     "output_type": "stream",
     "text": [
      "1번째 cost:27919.0625\n",
      "5001번째 cost:1.1186866760253906\n",
      "10001번째 cost:0.656325101852417\n",
      "15001번째 cost:0.5318796038627625\n",
      "20001번째 cost:0.45008769631385803\n",
      "25001번째 cost:0.38698452711105347\n",
      "30001번째 cost:0.337523877620697\n",
      "35001번째 cost:0.29871422052383423\n",
      "최종 cost:0.26827794313430786\n"
     ]
    }
   ],
   "source": [
    "# data set\n",
    "x_data = np.array([[73,80,75],\n",
    "                   [93,88,93],\n",
    "                   [89,91,90],\n",
    "                   [96,98,100],\n",
    "                   [73,66,70]])\n",
    "y_data = np.array([[152], [185], [180], [196], [142]])\n",
    "# tensor graph 정의\n",
    "# shape=[None, 3] : x_data([5,3]도 받고, 예측할때는 [1,3]. 3열만 고정)\n",
    "X = tf.placeholder(shape=[None, 3], dtype=tf.float32)\n",
    "Y = tf.placeholder(shape=[None, 1], dtype=tf.float32)\n",
    "# weight & bias (weight 3개, bias 1개)\n",
    "W = tf.Variable(tf.random_normal([3, 1]), name='weight')\n",
    "b = tf.Variable(tf.random_normal([1]), name='bais')\n",
    "# Hypothesis\n",
    "# H = X@W + b : tf.matmul(X, W) 행렬 곱\n",
    "H = tf.matmul(X, W) + b\n",
    "cost = tf.reduce_mean(tf.square(H-Y))\n",
    "#train\n",
    "train = tf.train.GradientDescentOptimizer(learning_rate=0.00001).minimize(cost)\n",
    "# session 생성과 Variable 초기화\n",
    "sess = tf.Session()\n",
    "sess.run(tf.global_variables_initializer())\n",
    "# 학습\n",
    "for step in range(1, 40001):\n",
    "    _, cost_val = sess.run([train, cost],\n",
    "                          feed_dict={X:x_data,\n",
    "                                    Y:y_data})\n",
    "    if step%5000==1:\n",
    "        print('{}번째 cost:{}'.format(step, cost_val))\n",
    "print('최종 cost:{}'.format(cost_val))"
   ]
  },
  {
   "cell_type": "code",
   "execution_count": 19,
   "id": "8c9d5d33",
   "metadata": {},
   "outputs": [
    {
     "data": {
      "text/plain": [
       "array([[152.27824],\n",
       "       [151.19969]], dtype=float32)"
      ]
     },
     "execution_count": 19,
     "metadata": {},
     "output_type": "execute_result"
    }
   ],
   "source": [
    "#예측\n",
    "sess.run(H, feed_dict={X: np.array([[73,80,77],\n",
    "                                   [73,80,72]])})"
   ]
  },
  {
   "cell_type": "markdown",
   "id": "f77abc4b",
   "metadata": {},
   "source": [
    "## csv를 array로 읽어오기"
   ]
  },
  {
   "cell_type": "code",
   "execution_count": 20,
   "id": "80dcf8c6",
   "metadata": {},
   "outputs": [
    {
     "data": {
      "text/plain": [
       "((111, 4), (111,))"
      ]
     },
     "execution_count": 20,
     "metadata": {},
     "output_type": "execute_result"
    }
   ],
   "source": [
    "# 방법1\n",
    "# 1. csv를 dataFrame 읽어와\n",
    "data = pd.read_csv('data/ozone.csv')\n",
    "# 2. 결측치 대체 or 삭제\n",
    "# data.fillna(value=data.mean(), inplace=True)\n",
    "data.dropna(how='any', axis=0, inplace=True)\n",
    "X = data[['Ozone','Solar.R','Wind','Temp']].values\n",
    "y = data['Ozone'].values\n",
    "X.shape, y.shape"
   ]
  },
  {
   "cell_type": "code",
   "execution_count": 22,
   "id": "30796b21",
   "metadata": {},
   "outputs": [
    {
     "data": {
      "text/plain": [
       "array([[ 41. , 190. ,   7.4,  67. ,   5. ,   1. ],\n",
       "       [ 36. , 118. ,   8. ,  72. ,   5. ,   2. ],\n",
       "       [ 12. , 149. ,  12.6,  74. ,   5. ,   3. ],\n",
       "       [ 18. , 313. ,  11.5,  62. ,   5. ,   4. ],\n",
       "       [  nan,   nan,  14.3,  56. ,   5. ,   5. ]])"
      ]
     },
     "execution_count": 22,
     "metadata": {},
     "output_type": "execute_result"
    }
   ],
   "source": [
    "# 방법2 : csv -> 넘파이배열\n",
    "# data = np.loadtxt('data/ozone_nonan.csv', delimiter=',') NAN이 없어야 함\n",
    "data = np.genfromtxt('data/ozone_nonan.csv', delimiter=',', skip_header=1, missing_values='NA', filling_values=np.nan)\n",
    "data[:5]"
   ]
  },
  {
   "cell_type": "code",
   "execution_count": 25,
   "id": "3f8103a9",
   "metadata": {},
   "outputs": [
    {
     "name": "stdout",
     "output_type": "stream",
     "text": [
      "<class 'pandas.core.frame.DataFrame'>\n",
      "RangeIndex: 153 entries, 0 to 152\n",
      "Data columns (total 6 columns):\n",
      " #   Column   Non-Null Count  Dtype  \n",
      "---  ------   --------------  -----  \n",
      " 0   Ozone    116 non-null    float64\n",
      " 1   Solar.R  146 non-null    float64\n",
      " 2   Wind     153 non-null    float64\n",
      " 3   Temp     153 non-null    int64  \n",
      " 4   Month    153 non-null    int64  \n",
      " 5   Day      153 non-null    int64  \n",
      "dtypes: float64(3), int64(3)\n",
      "memory usage: 7.3 KB\n"
     ]
    }
   ],
   "source": [
    "# csv파일 -> 데이터프레임 -> 결측치 -> 넘파이 배열 -> 머신러닝\n",
    "# import statsmodels.api as sm\n",
    "# sm.datasets.get_rdataset('airquality').data\n",
    "data = pd.read_csv('data/ozone.csv')\n",
    "data.info() # 결측치"
   ]
  },
  {
   "cell_type": "code",
   "execution_count": 30,
   "id": "9def28c7",
   "metadata": {},
   "outputs": [
    {
     "data": {
      "text/plain": [
       "Ozone       42.129310\n",
       "Solar.R    185.931507\n",
       "Wind         9.957516\n",
       "Temp        77.882353\n",
       "Month        6.993464\n",
       "Day         15.803922\n",
       "dtype: float64"
      ]
     },
     "execution_count": 30,
     "metadata": {},
     "output_type": "execute_result"
    }
   ],
   "source": [
    "data.mean(axis=0) # 열별 평균"
   ]
  },
  {
   "cell_type": "code",
   "execution_count": 40,
   "id": "99166743",
   "metadata": {},
   "outputs": [
    {
     "data": {
      "text/plain": [
       "23.615384615384617"
      ]
     },
     "execution_count": 40,
     "metadata": {},
     "output_type": "execute_result"
    }
   ],
   "source": [
    "# 결측치 처리 방법 1 : 결측치 행을 제거\n",
    "# data.dropna(how='any', axis=0).shape # axis=0 : 기본값 생략가능. 결측치가 한열이라도 있는 행 삭제\n",
    "# 결측치 처리 방법2 : 열별 평균값으로 대체\n",
    "# data.fillna(value=data.mean())\n",
    "# 결측치 처리 방법3 : 열별 월별 평균값으로 대체\n",
    "mean_data = data.groupby('Month')[['Ozone','Solar.R']].mean()\n",
    "mean_data.loc[5, 'Ozone']"
   ]
  },
  {
   "cell_type": "code",
   "execution_count": 45,
   "id": "84288adc",
   "metadata": {},
   "outputs": [
    {
     "data": {
      "text/html": [
       "<div>\n",
       "<style scoped>\n",
       "    .dataframe tbody tr th:only-of-type {\n",
       "        vertical-align: middle;\n",
       "    }\n",
       "\n",
       "    .dataframe tbody tr th {\n",
       "        vertical-align: top;\n",
       "    }\n",
       "\n",
       "    .dataframe thead th {\n",
       "        text-align: right;\n",
       "    }\n",
       "</style>\n",
       "<table border=\"1\" class=\"dataframe\">\n",
       "  <thead>\n",
       "    <tr style=\"text-align: right;\">\n",
       "      <th></th>\n",
       "      <th>Ozone</th>\n",
       "      <th>Solar.R</th>\n",
       "      <th>Wind</th>\n",
       "      <th>Temp</th>\n",
       "    </tr>\n",
       "  </thead>\n",
       "  <tbody>\n",
       "    <tr>\n",
       "      <th>0</th>\n",
       "      <td>41.000000</td>\n",
       "      <td>190.000000</td>\n",
       "      <td>7.4</td>\n",
       "      <td>67.0</td>\n",
       "    </tr>\n",
       "    <tr>\n",
       "      <th>1</th>\n",
       "      <td>36.000000</td>\n",
       "      <td>118.000000</td>\n",
       "      <td>8.0</td>\n",
       "      <td>72.0</td>\n",
       "    </tr>\n",
       "    <tr>\n",
       "      <th>2</th>\n",
       "      <td>12.000000</td>\n",
       "      <td>149.000000</td>\n",
       "      <td>12.6</td>\n",
       "      <td>74.0</td>\n",
       "    </tr>\n",
       "    <tr>\n",
       "      <th>3</th>\n",
       "      <td>18.000000</td>\n",
       "      <td>313.000000</td>\n",
       "      <td>11.5</td>\n",
       "      <td>62.0</td>\n",
       "    </tr>\n",
       "    <tr>\n",
       "      <th>4</th>\n",
       "      <td>23.615385</td>\n",
       "      <td>181.296296</td>\n",
       "      <td>14.3</td>\n",
       "      <td>56.0</td>\n",
       "    </tr>\n",
       "  </tbody>\n",
       "</table>\n",
       "</div>"
      ],
      "text/plain": [
       "       Ozone     Solar.R  Wind  Temp\n",
       "0  41.000000  190.000000   7.4  67.0\n",
       "1  36.000000  118.000000   8.0  72.0\n",
       "2  12.000000  149.000000  12.6  74.0\n",
       "3  18.000000  313.000000  11.5  62.0\n",
       "4  23.615385  181.296296  14.3  56.0"
      ]
     },
     "execution_count": 45,
     "metadata": {},
     "output_type": "execute_result"
    }
   ],
   "source": [
    "def fill_nan(row):\n",
    "    \"row['Ozone']과 row['Solar.R']값이 결측치면 mean_data[월, 열이름]으로 대체\"\n",
    "    # pd.options.mode.copy_on_write = True\n",
    "    row = row.copy()\n",
    "    if row.isna()['Ozone'] :\n",
    "        row['Ozone'] = mean_data.loc[row['Month'], 'Ozone']\n",
    "    if row.isna()['Solar.R'] :\n",
    "        row['Solar.R'] = mean_data.loc[row.Month, 'Solar.R']\n",
    "    return row    \n",
    "# fill_nan(data.loc[4]), data.loc[4]\n",
    "data = data.apply(fill_nan,axis=1)\n",
    "data = data[['Ozone', 'Solar.R', 'Wind', 'Temp']]\n",
    "data.head()"
   ]
  },
  {
   "cell_type": "code",
   "execution_count": 87,
   "id": "5cd2b9aa",
   "metadata": {
    "scrolled": true
   },
   "outputs": [
    {
     "name": "stdout",
     "output_type": "stream",
     "text": [
      "1번째 cost : 2996.902099609375\n",
      "2001번째 cost : 516.539306640625\n",
      "4001번째 cost : 475.32281494140625\n",
      "6001번째 cost : 464.95367431640625\n",
      "8001번째 cost : 462.33538818359375\n",
      "10001번째 cost : 461.66461181640625\n",
      "12001번째 cost : 461.48309326171875\n",
      "14001번째 cost : 461.42462158203125\n",
      "16001번째 cost : 461.3970031738281\n",
      "18001번째 cost : 461.3772888183594\n",
      "20001번째 cost : 461.359375\n",
      "22001번째 cost : 461.3420104980469\n",
      "24001번째 cost : 461.32476806640625\n",
      "26001번째 cost : 461.3075866699219\n",
      "28001번째 cost : 461.29034423828125\n",
      "30001번째 cost : 461.2730712890625\n",
      "32001번째 cost : 461.25592041015625\n",
      "34001번째 cost : 461.23870849609375\n",
      "36001번째 cost : 461.2214660644531\n",
      "38001번째 cost : 461.2042541503906\n",
      "최종 cost : 461.18719482421875, W:[[ 0.05531011]\n",
      " [-3.5701594 ]\n",
      " [ 0.8712127 ]], b:[-1.2509068]\n"
     ]
    }
   ],
   "source": [
    "# 독립변수 & 종속변수 (values:판다스 데이터를 넘파이배열로 )\n",
    "x_data = data[['Solar.R','Wind','Temp']].values\n",
    "x_data = data.iloc[:, 1:].values\n",
    "y_data = data['Ozone'].values.reshape(-1,1)\n",
    "y_data = data[['Ozone']].values\n",
    "# tensorflow 구현\n",
    "# 1. X, y\n",
    "X = tf.placeholder(shape=[None, 3], dtype=tf.float32)\n",
    "y = tf.placeholder(shape=[None, 1], dtype=tf.float32)\n",
    "# 2. 독립변수 3개, 종속변수 1개인 모델의 weight, bias\n",
    "W = tf.Variable(tf.random_normal([3,1]))\n",
    "b = tf.Variable(tf.random_normal([1]))\n",
    "# 3. Hypothesis\n",
    "H = tf.matmul(X,W)+b\n",
    "# 4. cost함수=loss함수=손실함수\n",
    "cost = tf.reduce_mean(tf.square(H-y))\n",
    "# 5. train\n",
    "train = tf.train.GradientDescentOptimizer(learning_rate=1e-5).minimize(cost)\n",
    "# sess 객체 생성 & W,b 변수 초기화\n",
    "sess = tf.Session()\n",
    "sess.run(tf.global_variables_initializer())\n",
    "# 학습\n",
    "for step in range(40001):\n",
    "    _, cost_val = sess.run([train, cost], feed_dict={X : x_data,\n",
    "                                                    y : y_data})\n",
    "    if step%2000==1:\n",
    "        print('{}번째 cost : {}'.format(step, cost_val))\n",
    "print('최종 cost : {}, W:{}, b:{}'.format(cost_val, sess.run(W),sess.run(b)))"
   ]
  },
  {
   "cell_type": "code",
   "execution_count": 88,
   "id": "c9a915d3",
   "metadata": {},
   "outputs": [
    {
     "data": {
      "text/plain": [
       "array([[39.441727]], dtype=float32)"
      ]
     },
     "execution_count": 88,
     "metadata": {},
     "output_type": "execute_result"
    }
   ],
   "source": [
    "input_data = np.array([[118, 8, 72]])\n",
    "predict_data = sess.run(H, feed_dict={X : input_data})\n",
    "predict_data"
   ]
  },
  {
   "cell_type": "code",
   "execution_count": 102,
   "id": "aa5afe71",
   "metadata": {},
   "outputs": [
    {
     "data": {
      "text/plain": [
       "((153, 3), (153, 1))"
      ]
     },
     "execution_count": 102,
     "metadata": {},
     "output_type": "execute_result"
    }
   ],
   "source": [
    "# MinMaxScaler 나 StandardScaler을 이용하여 스케일 조정 후 tensorflow 수행\n",
    "# 주로 0~1사이     주로 0근처\n",
    "data = pd.read_csv('data/ozone.csv')\n",
    "# 결측치 처리\n",
    "mean_data = data.groupby('Month')[['Ozone','Solar.R']].mean()\n",
    "mean_data.loc[5, 'Ozone']\n",
    "def fill_nan(row):\n",
    "    \"row['Ozone']과 row['Solar.R']값이 결측치면 mean_data[월, 열이름]으로 대체\"\n",
    "    # pd.options.mode.copy_on_write = True\n",
    "    row = row.copy()\n",
    "    if row.isna()['Ozone'] :\n",
    "        row['Ozone'] = mean_data.loc[row['Month'], 'Ozone']\n",
    "    if row.isna()['Solar.R'] :\n",
    "        row['Solar.R'] = mean_data.loc[row.Month, 'Solar.R']\n",
    "    return row\n",
    "# fill_nan(data.loc[4]), data.loc[4]\n",
    "data = data.apply(fill_nan,axis=1)\n",
    "data = data[['Ozone', 'Solar.R', 'Wind', 'Temp']]\n",
    "\n",
    "# 독립변수 & 종속변수 (values:판다스 데이터를 넘파이배열로 )\n",
    "x_data = data[['Solar.R','Wind','Temp']].values\n",
    "x_data = data.iloc[:, 1:].values\n",
    "y_data = data['Ozone'].values.reshape(-1,1)\n",
    "y_data = data[['Ozone']].values\n",
    "\n",
    "# 독립변수와 종속변수의 scale 조정\n",
    "from sklearn.preprocessing import StandardScaler\n",
    "scaler_x = StandardScaler()\n",
    "scaled_x_data = scaler_x.fit_transform(x_data)\n",
    "scaler_y = StandardScaler()\n",
    "scaled_y_data = scaler_y.fit_transform(y_data)\n",
    "scaled_x_data.shape, scaled_y_data.shape"
   ]
  },
  {
   "cell_type": "code",
   "execution_count": 113,
   "id": "d4b65f57",
   "metadata": {},
   "outputs": [
    {
     "name": "stdout",
     "output_type": "stream",
     "text": [
      "1번째 cost : 5.5405097007751465\n",
      "3001번째 cost : 4.873840808868408\n",
      "6001번째 cost : 4.299966812133789\n",
      "9001번째 cost : 3.805323362350464\n",
      "12001번째 cost : 3.378424644470215\n",
      "최종 cost : 3.0096490383148193, W:[[-0.7819896]\n",
      " [-1.2911329]\n",
      " [ 1.1368499]], b:[0.099939]\n"
     ]
    }
   ],
   "source": [
    "# tensorflow 구현\n",
    "# 1. X, y\n",
    "X = tf.placeholder(shape=[None, 3], dtype=tf.float32)\n",
    "y = tf.placeholder(shape=[None, 1], dtype=tf.float32)\n",
    "\n",
    "# 2. 독립변수 3개, 종속변수 1개인 모델의 weight, bias\n",
    "W = tf.Variable(tf.random_normal([3,1]))\n",
    "b = tf.Variable(tf.random_normal([1]))\n",
    "\n",
    "# 3. Hypothesis\n",
    "H = tf.matmul(X,W)+b\n",
    "\n",
    "# 4. cost함수=loss함수=손실함수\n",
    "cost = tf.reduce_mean(tf.square(H-y))\n",
    "\n",
    "# 5. train\n",
    "train = tf.train.GradientDescentOptimizer(learning_rate=1e-5).minimize(cost)\n",
    "\n",
    "# sess 객체 생성 & W,b 변수 초기화\n",
    "sess = tf.Session()\n",
    "sess.run(tf.global_variables_initializer())\n",
    "\n",
    "# 학습\n",
    "for step in range(15001):\n",
    "    _, cost_val = sess.run([train, cost], feed_dict={X : scaled_x_data,\n",
    "                                                    y : scaled_y_data})\n",
    "    if step%3000==1:\n",
    "        print('{}번째 cost : {}'.format(step, cost_val))\n",
    "print('최종 cost : {}, W:{}, b:{}'.format(cost_val, sess.run(W),sess.run(b)))"
   ]
  },
  {
   "cell_type": "code",
   "execution_count": 114,
   "id": "b1f417e8",
   "metadata": {
    "scrolled": true
   },
   "outputs": [
    {
     "data": {
      "text/plain": [
       "array([[61.88546]], dtype=float32)"
      ]
     },
     "execution_count": 114,
     "metadata": {},
     "output_type": "execute_result"
    }
   ],
   "source": [
    "# 예측하기 (독립변수 118, 8, 72면 종속변수는 얼마?)\n",
    "input_data = np.array([[118, 8, 72]])\n",
    "\n",
    "predict_data = sess.run(H, feed_dict={X : scaler_x.transform(input_data)})\n",
    "scaler_y.inverse_transform(predict_data)"
   ]
  },
  {
   "cell_type": "markdown",
   "id": "30c07d16",
   "metadata": {},
   "source": [
    "# 3. logistic Regression = Binary classification (binary 분류분석)\n",
    "- logistic 회귀분석 : 기존의 회귀분석과는 다른 처리가 필요"
   ]
  },
  {
   "cell_type": "code",
   "execution_count": 119,
   "id": "9d707e09",
   "metadata": {},
   "outputs": [
    {
     "data": {
      "image/png": "[encoded data removed]",
      "text/plain": [
       "<Figure size 500x200 with 1 Axes>"
      ]
     },
     "metadata": {},
     "output_type": "display_data"
    }
   ],
   "source": [
    "from scipy import stats\n",
    "import matplotlib.pyplot as plt\n",
    "plt.figure(figsize=(5,2))\n",
    "x = np.array([1, 2, 5, 8, 10])\n",
    "y = np.array([0, 0, 0, 1, 1]) # 실제값\n",
    "lm = stats.linregress(x, y)\n",
    "list(lm)\n",
    "H = lm[0]*x + lm[1] # 예측값\n",
    "plt.scatter(x, y)\n",
    "plt.plot(x, H, 'r')\n",
    "plt.show()"
   ]
  },
  {
   "cell_type": "code",
   "execution_count": 120,
   "id": "d9722b75",
   "metadata": {},
   "outputs": [
    {
     "data": {
      "image/png": "[encoded data removed]",
      "text/plain": [
       "<Figure size 500x200 with 1 Axes>"
      ]
     },
     "metadata": {},
     "output_type": "display_data"
    }
   ],
   "source": [
    "plt.figure(figsize=(5,2))\n",
    "x = np.array([1, 2, 5, 8, 10, 40])\n",
    "y = np.array([0, 0, 0, 1, 1, 1]) # 실제값\n",
    "lm = stats.linregress(x, y)\n",
    "list(lm)\n",
    "H = lm[0]*x + lm[1] # 예측값\n",
    "plt.scatter(x, y)\n",
    "plt.plot(x, H, 'r')\n",
    "plt.show()"
   ]
  },
  {
   "cell_type": "code",
   "execution_count": 129,
   "id": "f5df16f2",
   "metadata": {},
   "outputs": [
    {
     "name": "stdout",
     "output_type": "stream",
     "text": [
      "1번째 cost:3.7816109657287598\n",
      "601번째 cost:0.2215089648962021\n",
      "1201번째 cost:0.17962945997714996\n",
      "1801번째 cost:0.15530014038085938\n",
      "2401번째 cost:0.137562558054924\n",
      "3001번째 cost:0.12354416400194168\n",
      "3601번째 cost:0.1120392307639122\n",
      "4201번째 cost:0.10238965600728989\n",
      "4801번째 cost:0.09417591989040375\n",
      "5401번째 cost:0.08710464090108871\n",
      "6001번째 cost:0.08095992356538773\n",
      "6601번째 cost:0.07557713240385056\n",
      "7201번째 cost:0.07082808762788773\n",
      "7801번째 cost:0.0666111633181572\n",
      "8401번째 cost:0.06284496933221817\n",
      "9001번째 cost:0.05946340039372444\n",
      "9601번째 cost:0.056412409991025925\n",
      "최종 cost:0.054544150829315186\n"
     ]
    }
   ],
   "source": [
    "# 교안 pt. 50\n",
    "x_data = np.array([[10,0],\n",
    "                   [8, 1],\n",
    "                   [3, 3],\n",
    "                   [2, 3],\n",
    "                   [5, 1],\n",
    "                   [2, 0],\n",
    "                   [1, 0]])\n",
    "y_data = np.array([[1],\n",
    "                   [1],\n",
    "                   [1],\n",
    "                   [1],\n",
    "                   [0],\n",
    "                   [0],\n",
    "                   [0]])\n",
    "# X, y\n",
    "X = tf.placeholder(shape=[None,2], dtype=tf.float32)\n",
    "y = tf.placeholder(shape=[None,1], dtype=tf.float32)\n",
    "# 독립변수가 2개, 종속변수가 1개인 wight & bias\n",
    "W = tf.Variable(tf.random_normal([2,1]))\n",
    "b = tf.Variable(tf.random_normal([1]))\n",
    "# Hypothesis\n",
    "logits = tf.matmul(X, W) + b\n",
    "H = tf.sigmoid(logits)\n",
    "# cost 함수\n",
    "# cost = tf.reduce_mean(tf.square(H - y))\n",
    "cost = tf.reduce_mean(tf.nn.sigmoid_cross_entropy_with_logits(logits=logits, labels=y))\n",
    "\n",
    "#train\n",
    "train = tf.train.GradientDescentOptimizer(learning_rate=0.1).minimize(cost)\n",
    "# sess & 초기화\n",
    "sess = tf.Session()\n",
    "sess.run(tf.global_variables_initializer())\n",
    "#학습\n",
    "for step in range(1, 10001):\n",
    "    _, cost_val = sess.run([train, cost], feed_dict={X:x_data,\n",
    "                                                    y:y_data})\n",
    "    if step%600 == 1:\n",
    "        print(f\"{step}번째 cost:{cost_val}\")\n",
    "print(f'최종 cost:{cost_val}')"
   ]
  },
  {
   "cell_type": "code",
   "execution_count": 135,
   "id": "09e7b30e",
   "metadata": {},
   "outputs": [
    {
     "name": "stdout",
     "output_type": "stream",
     "text": [
      "모델의 정확도 : 100.0 %\n"
     ]
    }
   ],
   "source": [
    "# accuracy\n",
    "predict = tf.cast(H>0.5, dtype= tf.float32)\n",
    "# sess.run(predict, feed_dict={X:x_data})\n",
    "correct = tf.equal(predict, y)\n",
    "# sess.run(correct, feed_dict={X:x_data, y:y_data})\n",
    "accuracy = tf.reduce_mean(tf.cast(correct,dtype=tf.float32))\n",
    "print('모델의 정확도 :',sess.run(accuracy, feed_dict={X:x_data, y:y_data})*100,'%')"
   ]
  },
  {
   "cell_type": "code",
   "execution_count": 136,
   "id": "5e393bc6",
   "metadata": {},
   "outputs": [
    {
     "data": {
      "text/plain": [
       "array([[1.]], dtype=float32)"
      ]
     },
     "execution_count": 136,
     "metadata": {},
     "output_type": "execute_result"
    }
   ],
   "source": [
    "# 모델 사용하기 == 예측하기\n",
    "input_data = np.array([[10,3]])\n",
    "sess.run(predict,feed_dict={X:input_data})"
   ]
  },
  {
   "cell_type": "markdown",
   "id": "4b40de38",
   "metadata": {},
   "source": [
    "# 4. 분류분석\n",
    "- 종속변수가 2개 이상\n",
    "- 교안 54pt"
   ]
  },
  {
   "cell_type": "code",
   "execution_count": 142,
   "id": "9edb986f",
   "metadata": {},
   "outputs": [
    {
     "data": {
      "text/plain": [
       "((7, 4), (7, 3))"
      ]
     },
     "execution_count": 142,
     "metadata": {},
     "output_type": "execute_result"
    }
   ],
   "source": [
    "x_data = np.array([[10,7, 8, 5],\n",
    "                   [8, 8, 9, 4],\n",
    "                   [7, 8, 2, 3],\n",
    "                   [6, 3, 9, 3],\n",
    "                   [7, 5, 7, 4],\n",
    "                   [3, 5, 6, 2],\n",
    "                   [2, 4, 3, 1]])\n",
    "y_data = np.array([[\"A\"],\n",
    "                   [\"A\"],\n",
    "                   [\"B\"],\n",
    "                   [\"B\"],\n",
    "                   [\"B\"],\n",
    "                   [\"C\"],\n",
    "                   [\"C\"]])\n",
    "# 종속변수가 다중분류면 원핫 인코딩\n",
    "from sklearn.preprocessing import LabelEncoder\n",
    "from tensorflow.keras.utils import to_categorical\n",
    "\n",
    "# ls = LabelEncoder()\n",
    "\n",
    "# labeled_y_data = ls.fit_transform(y_data.ravel())\n",
    "# onehot_y_data = to_categorical(labeled_y_data)\n",
    "# onehot_y_data\n",
    "\n",
    "# 원핫 인코딩 방법2\n",
    "# from sklearn.preprocessing import LabelEncoder\n",
    "# import pandas as pd\n",
    "# ls = LabelEncoder()\n",
    "\n",
    "# labeled_y_data = ls.fit_transform(y_data.ravel())\n",
    "# onehot_y_data = pd.get_dummies(labeled_y_data).values\n",
    "# onehot_y_data\n",
    "\n",
    "# 원핫 인코딩 방법 3\n",
    "onehot_y_data = pd.get_dummies(pd.DataFrame(y_data)).values\n",
    "x_data.shape, onehot_y_data.shape"
   ]
  },
  {
   "cell_type": "code",
   "execution_count": 143,
   "id": "21572eda",
   "metadata": {},
   "outputs": [
    {
     "data": {
      "text/plain": [
       "array([[10,  7,  8,  5],\n",
       "       [ 8,  8,  9,  4],\n",
       "       [ 7,  8,  2,  3],\n",
       "       [ 6,  3,  9,  3],\n",
       "       [ 7,  5,  7,  4],\n",
       "       [ 3,  5,  6,  2],\n",
       "       [ 2,  4,  3,  1]])"
      ]
     },
     "execution_count": 143,
     "metadata": {},
     "output_type": "execute_result"
    }
   ],
   "source": [
    "x_data # 독립변수"
   ]
  },
  {
   "cell_type": "code",
   "execution_count": 144,
   "id": "ca33bf72",
   "metadata": {},
   "outputs": [
    {
     "data": {
      "text/plain": [
       "array([[1, 0, 0],\n",
       "       [1, 0, 0],\n",
       "       [0, 1, 0],\n",
       "       [0, 1, 0],\n",
       "       [0, 1, 0],\n",
       "       [0, 0, 1],\n",
       "       [0, 0, 1]], dtype=uint8)"
      ]
     },
     "execution_count": 144,
     "metadata": {},
     "output_type": "execute_result"
    }
   ],
   "source": [
    "onehot_y_data # 종속변수"
   ]
  },
  {
   "cell_type": "code",
   "execution_count": 150,
   "id": "9f24d613",
   "metadata": {},
   "outputs": [
    {
     "name": "stdout",
     "output_type": "stream",
     "text": [
      "1번째 cost:13.261122703552246\n",
      "601번째 cost:1.6443809270858765\n",
      "1201번째 cost:1.0108726024627686\n",
      "1801번째 cost:0.2507726550102234\n",
      "2401번째 cost:0.04550015181303024\n",
      "3001번째 cost:0.03958995267748833\n",
      "3601번째 cost:0.03542215749621391\n",
      "4201번째 cost:0.03218027949333191\n",
      "4801번째 cost:0.02953483723104\n",
      "5401번째 cost:0.027314739301800728\n",
      "6001번째 cost:0.0254161786288023\n",
      "6601번째 cost:0.023769918829202652\n",
      "7201번째 cost:0.02232658676803112\n",
      "7801번째 cost:0.02104983665049076\n",
      "8401번째 cost:0.019911672919988632\n",
      "9001번째 cost:0.01889050379395485\n",
      "9601번째 cost:0.01796885021030903\n",
      "최종 cost:0.017404083162546158\n"
     ]
    }
   ],
   "source": [
    "# X, y\n",
    "X = tf.placeholder(shape=[None,4], dtype=tf.float32)\n",
    "Y = tf.placeholder(shape=[None,3], dtype=tf.float32)\n",
    "\n",
    "# 독립변수가 4개, 종속변수가 3개인 wight & bias\n",
    "W = tf.Variable(tf.random_normal([4,3]))\n",
    "b = tf.Variable(tf.random_normal([3]))\n",
    "\n",
    "# Hypothesis\n",
    "logits = tf.matmul(X, W) + b\n",
    "# H = tf.sigmoid(logits)\n",
    "H=tf.nn.softmax(logits) # softmax ; 종속변수들의 합이 1\n",
    "\n",
    "# cost 함수\n",
    "# cost = tf.reduce_mean(tf.square(H - y))\n",
    "cost = tf.reduce_mean(tf.nn.softmax_cross_entropy_with_logits_v2(logits=logits, labels=Y))\n",
    "\n",
    "#train\n",
    "train = tf.train.GradientDescentOptimizer(learning_rate=0.1).minimize(cost)\n",
    "# sess & 초기화\n",
    "sess = tf.Session()\n",
    "sess.run(tf.global_variables_initializer())\n",
    "#학습\n",
    "for step in range(1, 10001):\n",
    "    _, cost_val = sess.run([train, cost], feed_dict={X:x_data,\n",
    "                                                    Y:onehot_y_data})\n",
    "    if step%600 == 1:\n",
    "        print(f\"{step}번째 cost:{cost_val}\")\n",
    "print(f'최종 cost:{cost_val}')"
   ]
  },
  {
   "cell_type": "code",
   "execution_count": 148,
   "id": "951eea34",
   "metadata": {},
   "outputs": [
    {
     "name": "stdout",
     "output_type": "stream",
     "text": [
      "[[9.6682781e-01 3.3172216e-02 1.9752353e-11]]\n",
      "[0]\n"
     ]
    }
   ],
   "source": [
    "# 예측하기\n",
    "input_data = np.array([[10,7,8,5]])\n",
    "y_hat = sess.run(H, feed_dict={X:input_data})\n",
    "print(y_hat)\n",
    "print(y_hat.argmax(axis=1)) # argmax(axis=1) : 행별 최대값이 있는 index"
   ]
  },
  {
   "cell_type": "code",
   "execution_count": 155,
   "id": "1a2b3366",
   "metadata": {},
   "outputs": [
    {
     "name": "stdout",
     "output_type": "stream",
     "text": [
      "100.0 %\n"
     ]
    }
   ],
   "source": [
    "#accuracy 측정\n",
    "# H : 0.99 0.005 0.005 -> H.argmax -> 0\n",
    "# y(실제값) : 1 0 0 -> y.argmax -> 0\n",
    "predict = tf.argmax(H, axis=1)\n",
    "# sess.run(predict, feed_dict={X:x_data})\n",
    "correct = tf.equal(predict, tf.argmax(Y, axis=1))\n",
    "# sess.run(correct, feed_dict={X:x_data, Y:onehot_y_data})\n",
    "accuracy = tf.reduce_mean(tf.cast(correct, dtype=tf.float32))\n",
    "print(sess.run(accuracy, feed_dict={X:x_data, Y:onehot_y_data})*100,'%')"
   ]
  },
  {
   "cell_type": "markdown",
   "id": "8200954c",
   "metadata": {},
   "source": [
    "# 5. XOR(교안 77pt)"
   ]
  },
  {
   "cell_type": "code",
   "execution_count": 157,
   "id": "718e082a",
   "metadata": {},
   "outputs": [],
   "source": [
    "# dataset\n",
    "x_data = np.array([[0,0],\n",
    "                  [0,1],\n",
    "                  [1,0],\n",
    "                  [1,1]])\n",
    "y_data = np.array([[0],\n",
    "                  [1],\n",
    "                  [1],\n",
    "                  [0]])"
   ]
  },
  {
   "cell_type": "code",
   "execution_count": 187,
   "id": "c39485e5",
   "metadata": {},
   "outputs": [
    {
     "name": "stdout",
     "output_type": "stream",
     "text": [
      "1번째 cost:0.7491270303726196\n",
      "601번째 cost:0.693351149559021\n",
      "1201번째 cost:0.6931489706039429\n",
      "1801번째 cost:0.6931471824645996\n",
      "2401번째 cost:0.6931471824645996\n",
      "3001번째 cost:0.6931471824645996\n",
      "3601번째 cost:0.6931471824645996\n",
      "4201번째 cost:0.6931471824645996\n",
      "4801번째 cost:0.6931471824645996\n",
      "5401번째 cost:0.6931471824645996\n",
      "6001번째 cost:0.6931471824645996\n",
      "6601번째 cost:0.6931471824645996\n",
      "7201번째 cost:0.6931471824645996\n",
      "7801번째 cost:0.6931471824645996\n",
      "8401번째 cost:0.6931471824645996\n",
      "9001번째 cost:0.6931471824645996\n",
      "9601번째 cost:0.6931471824645996\n",
      "최종 cost:0.6931471824645996\n"
     ]
    }
   ],
   "source": [
    "# X, y\n",
    "X = tf.placeholder(shape=[None,2], dtype=tf.float32)\n",
    "y = tf.placeholder(shape=[None,1], dtype=tf.float32)\n",
    "# 독립변수가 2개, 종속변수가 1개인 wight & bias\n",
    "W = tf.Variable(tf.random_normal([2,1]))\n",
    "b = tf.Variable(tf.random_normal([1]))\n",
    "# Hypothesis\n",
    "logits = tf.matmul(X, W) + b\n",
    "H = tf.sigmoid(logits)\n",
    "# cost 함수\n",
    "# cost = tf.reduce_mean(tf.square(H - y))\n",
    "cost = tf.reduce_mean(tf.nn.sigmoid_cross_entropy_with_logits(logits=logits, labels=y))\n",
    "\n",
    "#train\n",
    "train = tf.train.GradientDescentOptimizer(learning_rate=0.1).minimize(cost)\n",
    "# sess & 초기화\n",
    "sess = tf.Session()\n",
    "sess.run(tf.global_variables_initializer())\n",
    "#학습\n",
    "for step in range(1, 10001):\n",
    "    _, cost_val = sess.run([train, cost], feed_dict={X:x_data,\n",
    "                                                    y:y_data})\n",
    "    if step%600 == 1:\n",
    "        print(f\"{step}번째 cost:{cost_val}\")\n",
    "print(f'최종 cost:{cost_val}')"
   ]
  },
  {
   "cell_type": "code",
   "execution_count": 160,
   "id": "9c584e7b",
   "metadata": {},
   "outputs": [
    {
     "name": "stdout",
     "output_type": "stream",
     "text": [
      "모델의 정확도 : 75.0 %\n"
     ]
    }
   ],
   "source": [
    "# accuracy 측정\n",
    "predict = tf.cast(H>=0.5, dtype= tf.float32)\n",
    "# sess.run(predict, feed_dict={X:x_data})\n",
    "correct = tf.equal(predict, y)\n",
    "# sess.run(correct, feed_dict={X:x_data, y:y_data})\n",
    "accuracy = tf.reduce_mean(tf.cast(correct,dtype=tf.float32))\n",
    "print('모델의 정확도 :',sess.run(accuracy, feed_dict={X:x_data, y:y_data})*100,'%')"
   ]
  },
  {
   "cell_type": "markdown",
   "id": "1c1400b5",
   "metadata": {},
   "source": [
    "# 6. DeepLearning 예제"
   ]
  },
  {
   "cell_type": "code",
   "execution_count": 207,
   "id": "3c35f74b",
   "metadata": {},
   "outputs": [
    {
     "name": "stdout",
     "output_type": "stream",
     "text": [
      "1번째 cost:0.7358455657958984\n",
      "601번째 cost:0.09513936191797256\n",
      "1201번째 cost:0.026305872946977615\n",
      "1801번째 cost:0.014307555742561817\n",
      "2401번째 cost:0.009631984867155552\n",
      "3001번째 cost:0.007198526989668608\n",
      "3601번째 cost:0.005717525724321604\n",
      "4201번째 cost:0.0047301072627305984\n",
      "4801번째 cost:0.004020700231194496\n",
      "5401번째 cost:0.0034955902956426144\n",
      "6001번째 cost:0.003088539931923151\n",
      "6601번째 cost:0.0027625118382275105\n",
      "7201번째 cost:0.002497985027730465\n",
      "7801번째 cost:0.0022768606431782246\n",
      "8401번째 cost:0.002092517912387848\n",
      "9001번째 cost:0.0019350879592821002\n",
      "9601번째 cost:0.0017979714320972562\n",
      "최종 cost:0.0017171303043141961\n"
     ]
    }
   ],
   "source": [
    "# dataset\n",
    "x_data = np.array([[0,0],\n",
    "                  [0,1],\n",
    "                  [1,0],\n",
    "                  [1,1]])\n",
    "y_data = np.array([[0],\n",
    "                  [1],\n",
    "                  [1],\n",
    "                  [0]])\n",
    "\n",
    "# X, y\n",
    "X = tf.placeholder(shape=[None,2], dtype=tf.float32)\n",
    "Y = tf.placeholder(shape=[None,1], dtype=tf.float32)\n",
    "\n",
    "# layer1의 weight & bias (layer1 = 입력2, 출력4)\n",
    "W1 = tf.Variable(tf.random_normal([2,4]), name='weight1')\n",
    "b1 = tf.Variable(tf.random_normal([4]), name='bias1')\n",
    "# logits = tf.matmul(X, W1) + b1\n",
    "# H1 = tf.sigmoid(logits)\n",
    "layer1 = tf.nn.relu(tf.matmul(X, W1)+b1)\n",
    "\n",
    "#layer2의 weight & bias (layer2 = 입력4, 출력1)\n",
    "W2 = tf.Variable(tf.random_normal([4,1]), name = 'weight2')\n",
    "b2 = tf.Variable(tf.random_normal([1]), name='bias2')\n",
    "layer2 = tf.matmul(layer1, W2)+b2\n",
    "H=tf.sigmoid(layer2)\n",
    "\n",
    "# cost 함수\n",
    "# cost = tf.reduce_mean(tf.square(H - y))\n",
    "cost = tf.reduce_mean(tf.nn.sigmoid_cross_entropy_with_logits(logits=layer2, labels=Y))\n",
    "\n",
    "#train\n",
    "train = tf.train.GradientDescentOptimizer(learning_rate=0.1).minimize(cost)\n",
    "# sess & 초기화\n",
    "sess = tf.Session()\n",
    "sess.run(tf.global_variables_initializer())\n",
    "#학습\n",
    "for step in range(1, 10001):\n",
    "    _, cost_val = sess.run([train, cost], feed_dict={X:x_data,\n",
    "                                                    Y:y_data})\n",
    "    if step%600 == 1:\n",
    "        print(f\"{step}번째 cost:{cost_val}\")\n",
    "print(f'최종 cost:{cost_val}')"
   ]
  },
  {
   "cell_type": "code",
   "execution_count": 208,
   "id": "2b1823cf",
   "metadata": {},
   "outputs": [
    {
     "name": "stdout",
     "output_type": "stream",
     "text": [
      "모델의 정확도 : 100.0 %\n"
     ]
    }
   ],
   "source": [
    "# accuracy 측정\n",
    "predict = tf.cast(H>=0.5, dtype= tf.float32)\n",
    "# sess.run(predict, feed_dict={X:x_data})\n",
    "correct = tf.equal(predict, y_data)\n",
    "# sess.run(correct, feed_dict={X:x_data, y:y_data})\n",
    "accuracy = tf.reduce_mean(tf.cast(correct,dtype=tf.float32))\n",
    "print('모델의 정확도 :',sess.run(accuracy, feed_dict={X:x_data, y:y_data})*100,'%')"
   ]
  },
  {
   "cell_type": "markdown",
   "id": "27c4321f",
   "metadata": {},
   "source": [
    "## layer 층을 X2-> 10 -> 20 -> 10 -> y1\n",
    "                  입력층      hidden layer       출력층\n"
   ]
  },
  {
   "cell_type": "code",
   "execution_count": 206,
   "id": "19092ec9",
   "metadata": {
    "scrolled": true
   },
   "outputs": [
    {
     "name": "stdout",
     "output_type": "stream",
     "text": [
      "1번째 cost:12.997190475463867\n",
      "601번째 cost:0.0019859501626342535\n",
      "1201번째 cost:0.0009149133111350238\n",
      "1801번째 cost:0.0005866318242624402\n",
      "2401번째 cost:0.0004288010240998119\n",
      "3001번째 cost:0.0003365205484442413\n",
      "3601번째 cost:0.00027772944304160774\n",
      "4201번째 cost:0.00023738348681945354\n",
      "4801번째 cost:0.0002069913607556373\n",
      "5401번째 cost:0.0001833192363847047\n",
      "6001번째 cost:0.00016435272118542343\n",
      "6601번째 cost:0.00014961318811401725\n",
      "7201번째 cost:0.00013846502406522632\n",
      "7801번째 cost:0.00012884242460131645\n",
      "8401번째 cost:0.00012024045281577855\n",
      "9001번째 cost:0.00011269903188804165\n",
      "9601번째 cost:0.00010600590758258477\n",
      "최종 cost:0.0001019668416120112\n"
     ]
    }
   ],
   "source": [
    "# dataset\n",
    "x_data = np.array([[0,0],\n",
    "                  [0,1],\n",
    "                  [1,0],\n",
    "                  [1,1]])\n",
    "y_data = np.array([[0],\n",
    "                  [1],\n",
    "                  [1],\n",
    "                  [0]])\n",
    "\n",
    "# X, y\n",
    "X = tf.placeholder(shape=[None,2], dtype=tf.float32)\n",
    "y = tf.placeholder(shape=[None,1], dtype=tf.float32)\n",
    "\n",
    "# layer1의 weight & bias (layer1 = 입력2, 출력10)\n",
    "W1 = tf.Variable(tf.random_normal([2,10]), name='weight1')\n",
    "b1 = tf.Variable(tf.random_normal([10]), name='bias1')\n",
    "layer1 = tf.nn.relu(tf.matmul(X, W1)+b1)\n",
    "\n",
    "#layer2의 weight & bias (layer2 = 입력10, 출력20)\n",
    "W2 = tf.Variable(tf.random_normal([10,20]), name = 'weight2')\n",
    "b2 = tf.Variable(tf.random_normal([20]), name='bias2')\n",
    "layer2 = tf.nn.relu(tf.matmul(layer1, W2)+b2)\n",
    "\n",
    "#layer3의 weight & bias (layer3 = 입력20, 출력10)\n",
    "W3 = tf.Variable(tf.random_normal([20,10]), name = 'weight3')\n",
    "b3 = tf.Variable(tf.random_normal([10]), name='bias3')\n",
    "layer3 = tf.nn.relu(tf.matmul(layer2, W3)+b3)\n",
    "\n",
    "#layer4의 weight & bias (입력10, 출력1)\n",
    "W4 = tf.Variable(tf.random_normal([10,1]), name = 'weight4')\n",
    "b4 = tf.Variable(tf.random_normal([1]), name= 'bias4')\n",
    "logits= tf.matmul(layer3, W4)+b4\n",
    "H = tf.sigmoid(logits)\n",
    "                 \n",
    "# cost 함수\n",
    "# cost = tf.reduce_mean(tf.square(H - y))\n",
    "cost = tf.reduce_mean(tf.nn.sigmoid_cross_entropy_with_logits(logits=logits, labels=y))\n",
    "\n",
    "#train\n",
    "train = tf.train.GradientDescentOptimizer(learning_rate=0.01).minimize(cost)\n",
    "# sess & 초기화\n",
    "sess = tf.Session()\n",
    "sess.run(tf.global_variables_initializer())\n",
    "#학습\n",
    "for step in range(1, 10001):\n",
    "    _, cost_val = sess.run([train, cost], feed_dict={X:x_data,\n",
    "                                                    y:y_data})\n",
    "    if step%600 == 1:\n",
    "        print(f\"{step}번째 cost:{cost_val}\")\n",
    "print(f'최종 cost:{cost_val}')"
   ]
  },
  {
   "cell_type": "code",
   "execution_count": 209,
   "id": "95866e41",
   "metadata": {},
   "outputs": [
    {
     "name": "stdout",
     "output_type": "stream",
     "text": [
      "모델의 정확도 : 100.0 %\n"
     ]
    }
   ],
   "source": [
    "# accuracy 측정\n",
    "predict = tf.cast(H>=0.5, dtype= tf.float32)\n",
    "# sess.run(predict, feed_dict={X:x_data})\n",
    "correct = tf.equal(predict, y)\n",
    "# sess.run(correct, feed_dict={X:x_data, y:y_data})\n",
    "accuracy = tf.reduce_mean(tf.cast(correct,dtype=tf.float32))\n",
    "print('모델의 정확도 :',sess.run(accuracy, feed_dict={X:x_data, y:y_data})*100,'%')"
   ]
  },
  {
   "cell_type": "code",
   "execution_count": null,
   "id": "a29ebed1",
   "metadata": {},
   "outputs": [],
   "source": []
  }
 ],
 "metadata": {
  "kernelspec": {
   "display_name": "Python 3 (ipykernel)",
   "language": "python",
   "name": "python3"
  },
  "language_info": {
   "codemirror_mode": {
    "name": "ipython",
    "version": 3
   },
   "file_extension": ".py",
   "mimetype": "text/x-python",
   "name": "python",
   "nbconvert_exporter": "python",
   "pygments_lexer": "ipython3",
   "version": "3.10.9"
  },
  "toc": {
   "base_numbering": 1,
   "nav_menu": {},
   "number_sections": true,
   "sideBar": true,
   "skip_h1_title": false,
   "title_cell": "Table of Contents",
   "title_sidebar": "Contents",
   "toc_cell": false,
   "toc_position": {},
   "toc_section_display": true,
   "toc_window_display": false
  }
 },
 "nbformat": 4,
 "nbformat_minor": 5
}
