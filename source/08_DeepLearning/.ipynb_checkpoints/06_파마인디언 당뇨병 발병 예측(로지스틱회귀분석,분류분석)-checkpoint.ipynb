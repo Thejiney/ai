{
 "cells": [
  {
   "cell_type": "code",
   "execution_count": 1,
   "id": "55f4cc6c",
   "metadata": {},
   "outputs": [],
   "source": [
    "import numpy as np\n",
    "import pandas as pd\n",
    "import sys\n",
    "from tensorflow.keras import utils # utils.to_categorical\n",
    "from tensorflow.keras.models import Sequential # 모델생성\n",
    "from tensorflow.keras.layers import Dense, Input\n",
    "import matplotlib.pyplot as plt"
   ]
  },
  {
   "cell_type": "markdown",
   "id": "c6346b16",
   "metadata": {},
   "source": [
    "# 로지스틱회귀분석(이진분류)\n",
    "## 1. 데이터셋 생성 & 전처리"
   ]
  },
  {
   "cell_type": "code",
   "execution_count": 43,
   "id": "a0731d86",
   "metadata": {},
   "outputs": [
    {
     "data": {
      "text/plain": [
       "array([[  6.   , 148.   ,  72.   ,  35.   ,   0.   ,  33.6  ,   0.627,\n",
       "         50.   ,   1.   ],\n",
       "       [  1.   ,  85.   ,  66.   ,  29.   ,   0.   ,  26.6  ,   0.351,\n",
       "         31.   ,   0.   ]])"
      ]
     },
     "execution_count": 43,
     "metadata": {},
     "output_type": "execute_result"
    }
   ],
   "source": [
    "df = pd.read_csv('data/pima-indians-diabetes.csv', comment='#', header=None)\n",
    "df.values[:2]\n",
    "# 결측치 없으므로, csv파일을 바로 넘파이 배열로 읽어올 예정"
   ]
  },
  {
   "cell_type": "code",
   "execution_count": 44,
   "id": "73508a53",
   "metadata": {},
   "outputs": [],
   "source": [
    "# np.set_printoptions(threshold=sys.maxsize)"
   ]
  },
  {
   "cell_type": "code",
   "execution_count": 45,
   "id": "9cf1f117",
   "metadata": {},
   "outputs": [],
   "source": [
    "# 1. 임신횟수\n",
    "# 2. 2시간내 포도당 농도\n",
    "# 3. 혈압\n",
    "# 4. 피부접힘 두께\n",
    "# 5. 인슐린수치\n",
    "# 6. BMI체질량지수\n",
    "# 7. 가족력\n",
    "# 8. 나이\n",
    "# 9. 당뇨병발병여부"
   ]
  },
  {
   "cell_type": "code",
   "execution_count": 46,
   "id": "b6783418",
   "metadata": {},
   "outputs": [
    {
     "data": {
      "text/plain": [
       "(768, 9)"
      ]
     },
     "execution_count": 46,
     "metadata": {},
     "output_type": "execute_result"
    }
   ],
   "source": [
    "# csv파일을 numpy 배열로 읽어오기 np.loadtxt() np.genfromtxt() #이 있는 행은 제외하여 읽어옴\n",
    "dataset = np.loadtxt('data/pima-indians-diabetes.csv', delimiter=',')\n",
    "dataset.shape"
   ]
  },
  {
   "cell_type": "code",
   "execution_count": 47,
   "id": "692eedfa",
   "metadata": {},
   "outputs": [
    {
     "data": {
      "text/plain": [
       "((700, 8), (700,), (68, 8), (68,))"
      ]
     },
     "execution_count": 47,
     "metadata": {},
     "output_type": "execute_result"
    }
   ],
   "source": [
    "# 학습데이터셋(학습용 데이터) : 모델 학습시 사용\n",
    "X_train = dataset[:700, :-1]\n",
    "y_train = dataset[:700, -1]\n",
    "# 테스트데이터셋(시험용 데이터) : 모델 평가시 사용\n",
    "X_test = dataset[700:, :-1]\n",
    "y_test = dataset[700:,-1]\n",
    "X_train.shape, y_train.shape, X_test.shape, y_test.shape"
   ]
  },
  {
   "cell_type": "markdown",
   "id": "9b827bda",
   "metadata": {},
   "source": [
    "## 2. 모델 구성"
   ]
  },
  {
   "cell_type": "code",
   "execution_count": 63,
   "id": "373cb85f",
   "metadata": {},
   "outputs": [
    {
     "name": "stdout",
     "output_type": "stream",
     "text": [
      "Model: \"sequential_9\"\n",
      "_________________________________________________________________\n",
      " Layer (type)                Output Shape              Param #   \n",
      "=================================================================\n",
      " dense_28 (Dense)            (None, 12)                108       \n",
      "                                                                 \n",
      " dense_29 (Dense)            (None, 8)                 104       \n",
      "                                                                 \n",
      " dense_30 (Dense)            (None, 1)                 9         \n",
      "                                                                 \n",
      "=================================================================\n",
      "Total params: 221\n",
      "Trainable params: 221\n",
      "Non-trainable params: 0\n",
      "_________________________________________________________________\n"
     ]
    }
   ],
   "source": [
    "model = Sequential()\n",
    "model.add(Input(shape=(8,)))\n",
    "model.add(Dense(units=12, activation='relu'))\n",
    "model.add(Dense(units=8, activation='relu'))\n",
    "model.add(Dense(units=1, activation='sigmoid'))\n",
    "model.summary()"
   ]
  },
  {
   "cell_type": "markdown",
   "id": "a9901ff5",
   "metadata": {},
   "source": [
    "## 3. 학습과정 설정"
   ]
  },
  {
   "cell_type": "code",
   "execution_count": 64,
   "id": "d6341403",
   "metadata": {},
   "outputs": [],
   "source": [
    "# model.compile(loss='binary_crossentropy', optimizer='adam', metrics=['accuracy'])\n",
    "model.compile(loss='binary_crossentropy', optimizer='adam', metrics=['binary_accuracy'])"
   ]
  },
  {
   "cell_type": "markdown",
   "id": "4924313a",
   "metadata": {},
   "source": [
    "## 4. 학습"
   ]
  },
  {
   "cell_type": "code",
   "execution_count": 65,
   "id": "a7c1dda9",
   "metadata": {},
   "outputs": [],
   "source": [
    "hist = model.fit(X_train, y_train, # 훈련데이터\n",
    "                 epochs=200,\n",
    "                 # batch_size=350,\n",
    "                 # validation_split=0.2 # 검증 데이터 비율(훈련데이터셋 중 20%를 검증용 데이터로)\n",
    "                 verbose=0\n",
    "                )"
   ]
  },
  {
   "cell_type": "markdown",
   "id": "02f48271",
   "metadata": {},
   "source": [
    "## 5. 모델 평가하기(학습과정보기, 평가)"
   ]
  },
  {
   "cell_type": "code",
   "execution_count": 66,
   "id": "1e2c76f4",
   "metadata": {},
   "outputs": [
    {
     "data": {
      "text/plain": [
       "dict_keys(['loss', 'binary_accuracy'])"
      ]
     },
     "execution_count": 66,
     "metadata": {},
     "output_type": "execute_result"
    }
   ],
   "source": [
    "hist.history.keys()"
   ]
  },
  {
   "cell_type": "code",
   "execution_count": 67,
   "id": "640b8a00",
   "metadata": {},
   "outputs": [
    {
     "data": {
      "image/png": "[encoded data removed]",
      "text/plain": [
       "<Figure size 1000x500 with 2 Axes>"
      ]
     },
     "metadata": {},
     "output_type": "display_data"
    }
   ],
   "source": [
    "# 학습과정 표시하기(validation dataset 없는 경우)\n",
    "fig, loss_ax = plt.subplots(figsize=(10,5))\n",
    "loss_ax.plot(hist.history['loss'], 'r', label='train loss')\n",
    "loss_ax.set_xlabel('epoch')\n",
    "loss_ax.set_ylabel('loss')\n",
    "acc_ax = loss_ax.twinx()\n",
    "acc_ax.plot(hist.history['binary_accuracy'], 'b', label='train accuracy')\n",
    "acc_ax.set_ylabel('accuracy')\n",
    "loss_ax.legend(loc='center right')\n",
    "acc_ax.legend(bbox_to_anchor=(0.999, 0.65))\n",
    "plt.show()"
   ]
  },
  {
   "cell_type": "code",
   "execution_count": 68,
   "id": "c5638a7f",
   "metadata": {},
   "outputs": [
    {
     "name": "stdout",
     "output_type": "stream",
     "text": [
      "22/22 [==============================] - 0s 1ms/step - loss: 0.5074 - binary_accuracy: 0.7600\n"
     ]
    },
    {
     "data": {
      "text/plain": [
       "[0.507379949092865, 0.7599999904632568]"
      ]
     },
     "execution_count": 68,
     "metadata": {},
     "output_type": "execute_result"
    }
   ],
   "source": [
    "# 모델 평가(X)\n",
    "model.evaluate(X_train, y_train)"
   ]
  },
  {
   "cell_type": "code",
   "execution_count": 70,
   "id": "3c63bda8",
   "metadata": {},
   "outputs": [
    {
     "name": "stdout",
     "output_type": "stream",
     "text": [
      "3/3 [==============================] - 0s 2ms/step - loss: 0.6407 - binary_accuracy: 0.6912\n",
      "loss : 0.6407266855239868, 정확도 : 69.11764740943909%\n"
     ]
    }
   ],
   "source": [
    "# 모델 평가(o)\n",
    "score = model.evaluate(X_test, y_test)\n",
    "print(\"loss : {}, 정확도 : {}%\".format(score[0], score[1]*100))"
   ]
  },
  {
   "cell_type": "markdown",
   "id": "9800930f",
   "metadata": {},
   "source": [
    "## 6. 모델 사용하기"
   ]
  },
  {
   "cell_type": "code",
   "execution_count": 80,
   "id": "9b946fc6",
   "metadata": {},
   "outputs": [
    {
     "data": {
      "text/plain": [
       "(array([  4.   , 110.   ,  92.   ,   0.   ,   0.   ,  37.6  ,   0.191,\n",
       "         30.   ]),\n",
       " 0.0)"
      ]
     },
     "execution_count": 80,
     "metadata": {},
     "output_type": "execute_result"
    }
   ],
   "source": [
    "X_train[10], y_train[10]"
   ]
  },
  {
   "cell_type": "code",
   "execution_count": 74,
   "id": "686a8c19",
   "metadata": {},
   "outputs": [
    {
     "name": "stdout",
     "output_type": "stream",
     "text": [
      "1/1 [==============================] - 0s 51ms/step\n"
     ]
    },
    {
     "data": {
      "text/plain": [
       "array([[0.92922807]], dtype=float32)"
      ]
     },
     "execution_count": 74,
     "metadata": {},
     "output_type": "execute_result"
    }
   ],
   "source": [
    "model.predict([[6, 148, 62, 35, 0, 33.6, 0.627, 50]])"
   ]
  },
  {
   "cell_type": "code",
   "execution_count": 82,
   "id": "b2e4cf9a",
   "metadata": {},
   "outputs": [
    {
     "name": "stdout",
     "output_type": "stream",
     "text": [
      "1/1 [==============================] - 0s 50ms/step\n"
     ]
    },
    {
     "data": {
      "text/plain": [
       "array([[0],\n",
       "       [1]])"
      ]
     },
     "execution_count": 82,
     "metadata": {},
     "output_type": "execute_result"
    }
   ],
   "source": [
    "(model.predict([[4, 110, 92, 0, 0, 37.6, 0.191, 30],\n",
    "                [6, 148, 62, 35, 0, 33.6, 0.627, 50]]) > 0.5).astype(int)"
   ]
  },
  {
   "cell_type": "markdown",
   "id": "47d1ad0f",
   "metadata": {},
   "source": [
    "## 7. 교차표\n",
    "- 테스트 데이터셋의 실제값(y_test)과 예측값"
   ]
  },
  {
   "cell_type": "code",
   "execution_count": 85,
   "id": "8384b2dc",
   "metadata": {},
   "outputs": [
    {
     "name": "stdout",
     "output_type": "stream",
     "text": [
      "3/3 [==============================] - 0s 2ms/step\n",
      "21 6\n",
      "15 26\n"
     ]
    }
   ],
   "source": [
    "y_hat = (model.predict(X_test)>0.5).astype(float)\n",
    "cnt1=0; cnt2=0; cnt3=0; cnt4=0\n",
    "# y_hat.shape, y_test.shape\n",
    "for h, y in zip(y_hat.reshape(-1), y_test.reshape(-1)):\n",
    "    if h==1.0 and y==1.0:\n",
    "        cnt1+=1\n",
    "    elif y==1.0 and h==0.0:\n",
    "        cnt2 += 1\n",
    "    elif y==0.0 and h==1.0:\n",
    "        cnt3 += 1\n",
    "    else:\n",
    "        cnt4 += 1\n",
    "print(cnt1, cnt2)\n",
    "print(cnt3, cnt4)"
   ]
  },
  {
   "cell_type": "code",
   "execution_count": 89,
   "id": "22fba6ef",
   "metadata": {},
   "outputs": [
    {
     "data": {
      "text/html": [
       "<div>\n",
       "<style scoped>\n",
       "    .dataframe tbody tr th:only-of-type {\n",
       "        vertical-align: middle;\n",
       "    }\n",
       "\n",
       "    .dataframe tbody tr th {\n",
       "        vertical-align: top;\n",
       "    }\n",
       "\n",
       "    .dataframe thead th {\n",
       "        text-align: right;\n",
       "    }\n",
       "</style>\n",
       "<table border=\"1\" class=\"dataframe\">\n",
       "  <thead>\n",
       "    <tr style=\"text-align: right;\">\n",
       "      <th>예측값</th>\n",
       "      <th>0.0</th>\n",
       "      <th>1.0</th>\n",
       "    </tr>\n",
       "    <tr>\n",
       "      <th>실제값</th>\n",
       "      <th></th>\n",
       "      <th></th>\n",
       "    </tr>\n",
       "  </thead>\n",
       "  <tbody>\n",
       "    <tr>\n",
       "      <th>0.0</th>\n",
       "      <td>26</td>\n",
       "      <td>15</td>\n",
       "    </tr>\n",
       "    <tr>\n",
       "      <th>1.0</th>\n",
       "      <td>6</td>\n",
       "      <td>21</td>\n",
       "    </tr>\n",
       "  </tbody>\n",
       "</table>\n",
       "</div>"
      ],
      "text/plain": [
       "예측값  0.0  1.0\n",
       "실제값          \n",
       "0.0   26   15\n",
       "1.0    6   21"
      ]
     },
     "execution_count": 89,
     "metadata": {},
     "output_type": "execute_result"
    }
   ],
   "source": [
    "ctab = pd.crosstab(y_test, y_hat.reshape(-1))\n",
    "ctab.index.name = '실제값'\n",
    "ctab.columns.name = '예측값'\n",
    "ctab"
   ]
  },
  {
   "cell_type": "markdown",
   "id": "8b782cbb",
   "metadata": {},
   "source": [
    "# 분류분석\n",
    "```\n",
    "1. 데이터셋 생성 및 전처리 : 훈련셋600, 검증셋100, 테스트셋68으로 분리, 종속변수의 원핫인코딩\n",
    "2. 모델생성(input 8, target 2) : 출력층에서의 활성화함수 'softmax'\n",
    "    * model.summary()에서 파라미터 수 확인\n",
    "3. 모델학습과정 설정 (loss='categorical_crossentropy' metrics=['accuracy']\n",
    "4. 모델 학습 : validation_data=[X_val, y_val] 추가해서 학습\n",
    "5. 모델 학습 평가 : 그래프(hist.history.keys()를 확인후 4가지)\n",
    "                  평가(X_test, Y_test)\n",
    "                  교차표(pd.crosstab 이용)\n",
    "6. 모델 사용하기 - 예측\n",
    "                 0        1\n",
    "                 0.9912   0.00124\n",
    "```"
   ]
  },
  {
   "cell_type": "code",
   "execution_count": 2,
   "id": "398f4518",
   "metadata": {},
   "outputs": [
    {
     "data": {
      "text/plain": [
       "(768, 9)"
      ]
     },
     "execution_count": 2,
     "metadata": {},
     "output_type": "execute_result"
    }
   ],
   "source": [
    "# csv파일을 numpy 배열로 읽어오기 np.loadtxt() np.genfromtxt() #이 있는 행은 제외하여 읽어옴\n",
    "dataset = np.loadtxt('data/pima-indians-diabetes.csv', delimiter=',')\n",
    "dataset.shape"
   ]
  },
  {
   "cell_type": "code",
   "execution_count": 3,
   "id": "2e638777",
   "metadata": {},
   "outputs": [],
   "source": [
    "#1. 데이터셋 생성 및 전처리 : 훈련셋600, 검증셋100, 테스트셋68으로 분리, 종속변수의 원핫인코딩\n",
    "\n",
    "# 학습데이터셋(학습용 데이터)\n",
    "X_train = dataset[:600, :-1]\n",
    "Y_train = dataset[:600, -1]\n",
    "Y_train = utils.to_categorical(Y_train,2)\n",
    "# 검증데이터셋\n",
    "X_val = dataset[600:700, :-1]\n",
    "Y_val = dataset[600:700,-1]\n",
    "Y_val = utils.to_categorical(Y_val,2)\n",
    "# 테스트데이터셋(테스트 데이터)\n",
    "X_test = dataset[700:, :-1]\n",
    "Y_test = dataset[700:, -1]\n",
    "Y_test = utils.to_categorical(Y_test,2)"
   ]
  },
  {
   "cell_type": "code",
   "execution_count": 4,
   "id": "df2c608b",
   "metadata": {},
   "outputs": [
    {
     "name": "stdout",
     "output_type": "stream",
     "text": [
      "Model: \"sequential\"\n",
      "_________________________________________________________________\n",
      " Layer (type)                Output Shape              Param #   \n",
      "=================================================================\n",
      " dense (Dense)               (None, 12)                108       \n",
      "                                                                 \n",
      " dense_1 (Dense)             (None, 8)                 104       \n",
      "                                                                 \n",
      " dense_2 (Dense)             (None, 2)                 18        \n",
      "                                                                 \n",
      "=================================================================\n",
      "Total params: 230\n",
      "Trainable params: 230\n",
      "Non-trainable params: 0\n",
      "_________________________________________________________________\n"
     ]
    }
   ],
   "source": [
    "# 2. 모델생성(input 8, target 2) : 출력층에서의 활성화함수 'softmax'\n",
    "#     * model.summary()에서 파라미터 수 확인\n",
    "model = Sequential()\n",
    "model.add(Input(shape=8,))\n",
    "model.add(Dense(units=12, activation='elu'))\n",
    "model.add(Dense(units=8, activation='elu'))\n",
    "model.add(Dense(units=2, activation='softmax'))\n",
    "model.summary()"
   ]
  },
  {
   "cell_type": "code",
   "execution_count": 5,
   "id": "e3e774c6",
   "metadata": {},
   "outputs": [],
   "source": [
    "# 3. 모델학습과정 설정 (loss='categorical_crossentropy' metrics=['accuracy']\n",
    "model.compile(loss='categorical_crossentropy', optimizer='adam', metrics=['accuracy'])"
   ]
  },
  {
   "cell_type": "code",
   "execution_count": 6,
   "id": "e02ee085",
   "metadata": {
    "scrolled": true
   },
   "outputs": [
    {
     "name": "stdout",
     "output_type": "stream",
     "text": [
      "Epoch 1/200\n",
      "19/19 - 1s - loss: 12.3742 - accuracy: 0.3750 - val_loss: 9.1839 - val_accuracy: 0.3500 - 970ms/epoch - 51ms/step\n",
      "Epoch 2/200\n",
      "19/19 - 0s - loss: 5.0734 - accuracy: 0.5217 - val_loss: 4.4372 - val_accuracy: 0.4300 - 57ms/epoch - 3ms/step\n",
      "Epoch 3/200\n",
      "19/19 - 0s - loss: 3.1567 - accuracy: 0.5883 - val_loss: 3.2434 - val_accuracy: 0.5100 - 57ms/epoch - 3ms/step\n",
      "Epoch 4/200\n",
      "19/19 - 0s - loss: 2.7585 - accuracy: 0.6133 - val_loss: 2.8303 - val_accuracy: 0.5000 - 58ms/epoch - 3ms/step\n",
      "Epoch 5/200\n",
      "19/19 - 0s - loss: 2.3288 - accuracy: 0.6050 - val_loss: 2.4194 - val_accuracy: 0.5200 - 55ms/epoch - 3ms/step\n",
      "Epoch 6/200\n",
      "19/19 - 0s - loss: 1.9250 - accuracy: 0.5700 - val_loss: 1.8108 - val_accuracy: 0.5100 - 57ms/epoch - 3ms/step\n",
      "Epoch 7/200\n",
      "19/19 - 0s - loss: 1.4168 - accuracy: 0.5617 - val_loss: 1.1913 - val_accuracy: 0.5800 - 57ms/epoch - 3ms/step\n",
      "Epoch 8/200\n",
      "19/19 - 0s - loss: 1.0754 - accuracy: 0.6200 - val_loss: 0.8962 - val_accuracy: 0.6100 - 59ms/epoch - 3ms/step\n",
      "Epoch 9/200\n",
      "19/19 - 0s - loss: 0.8881 - accuracy: 0.6650 - val_loss: 0.8301 - val_accuracy: 0.5900 - 55ms/epoch - 3ms/step\n",
      "Epoch 10/200\n",
      "19/19 - 0s - loss: 0.7998 - accuracy: 0.6767 - val_loss: 0.7634 - val_accuracy: 0.6500 - 60ms/epoch - 3ms/step\n",
      "Epoch 11/200\n",
      "19/19 - 0s - loss: 0.7488 - accuracy: 0.6783 - val_loss: 0.7266 - val_accuracy: 0.6500 - 56ms/epoch - 3ms/step\n",
      "Epoch 12/200\n",
      "19/19 - 0s - loss: 0.7168 - accuracy: 0.6917 - val_loss: 0.7112 - val_accuracy: 0.6400 - 56ms/epoch - 3ms/step\n",
      "Epoch 13/200\n",
      "19/19 - 0s - loss: 0.6902 - accuracy: 0.6750 - val_loss: 0.6691 - val_accuracy: 0.6500 - 56ms/epoch - 3ms/step\n",
      "Epoch 14/200\n",
      "19/19 - 0s - loss: 0.6769 - accuracy: 0.6700 - val_loss: 0.6624 - val_accuracy: 0.6400 - 55ms/epoch - 3ms/step\n",
      "Epoch 15/200\n",
      "19/19 - 0s - loss: 0.6686 - accuracy: 0.6833 - val_loss: 0.6513 - val_accuracy: 0.6800 - 55ms/epoch - 3ms/step\n",
      "Epoch 16/200\n",
      "19/19 - 0s - loss: 0.6566 - accuracy: 0.6800 - val_loss: 0.6539 - val_accuracy: 0.6700 - 54ms/epoch - 3ms/step\n",
      "Epoch 17/200\n",
      "19/19 - 0s - loss: 0.6608 - accuracy: 0.6817 - val_loss: 0.6390 - val_accuracy: 0.6900 - 53ms/epoch - 3ms/step\n",
      "Epoch 18/200\n",
      "19/19 - 0s - loss: 0.6406 - accuracy: 0.6850 - val_loss: 0.6295 - val_accuracy: 0.7100 - 57ms/epoch - 3ms/step\n",
      "Epoch 19/200\n",
      "19/19 - 0s - loss: 0.6314 - accuracy: 0.7017 - val_loss: 0.6255 - val_accuracy: 0.7000 - 54ms/epoch - 3ms/step\n",
      "Epoch 20/200\n",
      "19/19 - 0s - loss: 0.6270 - accuracy: 0.6867 - val_loss: 0.6196 - val_accuracy: 0.7100 - 54ms/epoch - 3ms/step\n",
      "Epoch 21/200\n",
      "19/19 - 0s - loss: 0.6204 - accuracy: 0.6917 - val_loss: 0.6093 - val_accuracy: 0.7200 - 56ms/epoch - 3ms/step\n",
      "Epoch 22/200\n",
      "19/19 - 0s - loss: 0.6125 - accuracy: 0.6900 - val_loss: 0.6154 - val_accuracy: 0.6900 - 72ms/epoch - 4ms/step\n",
      "Epoch 23/200\n",
      "19/19 - 0s - loss: 0.6080 - accuracy: 0.6833 - val_loss: 0.6111 - val_accuracy: 0.6900 - 56ms/epoch - 3ms/step\n",
      "Epoch 24/200\n",
      "19/19 - 0s - loss: 0.6049 - accuracy: 0.7033 - val_loss: 0.6129 - val_accuracy: 0.6700 - 55ms/epoch - 3ms/step\n",
      "Epoch 25/200\n",
      "19/19 - 0s - loss: 0.5988 - accuracy: 0.6983 - val_loss: 0.5902 - val_accuracy: 0.7300 - 54ms/epoch - 3ms/step\n",
      "Epoch 26/200\n",
      "19/19 - 0s - loss: 0.5960 - accuracy: 0.6917 - val_loss: 0.6411 - val_accuracy: 0.6700 - 57ms/epoch - 3ms/step\n",
      "Epoch 27/200\n",
      "19/19 - 0s - loss: 0.6033 - accuracy: 0.6900 - val_loss: 0.5947 - val_accuracy: 0.7500 - 57ms/epoch - 3ms/step\n",
      "Epoch 28/200\n",
      "19/19 - 0s - loss: 0.5903 - accuracy: 0.7133 - val_loss: 0.5915 - val_accuracy: 0.6900 - 54ms/epoch - 3ms/step\n",
      "Epoch 29/200\n",
      "19/19 - 0s - loss: 0.5912 - accuracy: 0.6850 - val_loss: 0.5841 - val_accuracy: 0.7100 - 56ms/epoch - 3ms/step\n",
      "Epoch 30/200\n",
      "19/19 - 0s - loss: 0.5837 - accuracy: 0.7083 - val_loss: 0.5853 - val_accuracy: 0.7100 - 55ms/epoch - 3ms/step\n",
      "Epoch 31/200\n",
      "19/19 - 0s - loss: 0.5852 - accuracy: 0.7117 - val_loss: 0.5840 - val_accuracy: 0.7100 - 55ms/epoch - 3ms/step\n",
      "Epoch 32/200\n",
      "19/19 - 0s - loss: 0.5709 - accuracy: 0.7100 - val_loss: 0.5830 - val_accuracy: 0.7200 - 62ms/epoch - 3ms/step\n",
      "Epoch 33/200\n",
      "19/19 - 0s - loss: 0.5803 - accuracy: 0.7000 - val_loss: 0.5753 - val_accuracy: 0.7100 - 56ms/epoch - 3ms/step\n",
      "Epoch 34/200\n",
      "19/19 - 0s - loss: 0.5783 - accuracy: 0.7000 - val_loss: 0.5775 - val_accuracy: 0.6900 - 68ms/epoch - 4ms/step\n",
      "Epoch 35/200\n",
      "19/19 - 0s - loss: 0.5702 - accuracy: 0.7083 - val_loss: 0.5694 - val_accuracy: 0.7300 - 59ms/epoch - 3ms/step\n",
      "Epoch 36/200\n",
      "19/19 - 0s - loss: 0.5686 - accuracy: 0.7150 - val_loss: 0.5846 - val_accuracy: 0.7000 - 56ms/epoch - 3ms/step\n",
      "Epoch 37/200\n",
      "19/19 - 0s - loss: 0.5800 - accuracy: 0.7033 - val_loss: 0.5723 - val_accuracy: 0.6700 - 55ms/epoch - 3ms/step\n",
      "Epoch 38/200\n",
      "19/19 - 0s - loss: 0.5649 - accuracy: 0.7183 - val_loss: 0.5653 - val_accuracy: 0.6500 - 58ms/epoch - 3ms/step\n",
      "Epoch 39/200\n",
      "19/19 - 0s - loss: 0.5616 - accuracy: 0.7117 - val_loss: 0.6064 - val_accuracy: 0.6800 - 59ms/epoch - 3ms/step\n",
      "Epoch 40/200\n",
      "19/19 - 0s - loss: 0.5746 - accuracy: 0.7050 - val_loss: 0.5934 - val_accuracy: 0.7000 - 61ms/epoch - 3ms/step\n",
      "Epoch 41/200\n",
      "19/19 - 0s - loss: 0.5693 - accuracy: 0.7150 - val_loss: 0.5625 - val_accuracy: 0.7100 - 63ms/epoch - 3ms/step\n",
      "Epoch 42/200\n",
      "19/19 - 0s - loss: 0.5676 - accuracy: 0.7150 - val_loss: 0.5595 - val_accuracy: 0.7200 - 62ms/epoch - 3ms/step\n",
      "Epoch 43/200\n",
      "19/19 - 0s - loss: 0.5664 - accuracy: 0.7217 - val_loss: 0.5584 - val_accuracy: 0.7200 - 58ms/epoch - 3ms/step\n",
      "Epoch 44/200\n",
      "19/19 - 0s - loss: 0.5586 - accuracy: 0.7250 - val_loss: 0.5604 - val_accuracy: 0.7100 - 59ms/epoch - 3ms/step\n",
      "Epoch 45/200\n",
      "19/19 - 0s - loss: 0.5514 - accuracy: 0.7300 - val_loss: 0.5546 - val_accuracy: 0.7400 - 62ms/epoch - 3ms/step\n",
      "Epoch 46/200\n",
      "19/19 - 0s - loss: 0.5533 - accuracy: 0.7217 - val_loss: 0.5513 - val_accuracy: 0.7300 - 58ms/epoch - 3ms/step\n",
      "Epoch 47/200\n",
      "19/19 - 0s - loss: 0.5491 - accuracy: 0.7400 - val_loss: 0.5671 - val_accuracy: 0.7200 - 58ms/epoch - 3ms/step\n",
      "Epoch 48/200\n",
      "19/19 - 0s - loss: 0.5498 - accuracy: 0.7150 - val_loss: 0.5590 - val_accuracy: 0.7200 - 60ms/epoch - 3ms/step\n",
      "Epoch 49/200\n",
      "19/19 - 0s - loss: 0.5469 - accuracy: 0.7350 - val_loss: 0.5536 - val_accuracy: 0.7200 - 67ms/epoch - 4ms/step\n",
      "Epoch 50/200\n",
      "19/19 - 0s - loss: 0.5444 - accuracy: 0.7367 - val_loss: 0.5566 - val_accuracy: 0.7000 - 61ms/epoch - 3ms/step\n",
      "Epoch 51/200\n",
      "19/19 - 0s - loss: 0.5446 - accuracy: 0.7383 - val_loss: 0.5488 - val_accuracy: 0.6800 - 61ms/epoch - 3ms/step\n",
      "Epoch 52/200\n",
      "19/19 - 0s - loss: 0.5569 - accuracy: 0.7383 - val_loss: 0.5596 - val_accuracy: 0.7400 - 60ms/epoch - 3ms/step\n",
      "Epoch 53/200\n",
      "19/19 - 0s - loss: 0.5435 - accuracy: 0.7167 - val_loss: 0.5578 - val_accuracy: 0.6800 - 64ms/epoch - 3ms/step\n",
      "Epoch 54/200\n",
      "19/19 - 0s - loss: 0.5406 - accuracy: 0.7367 - val_loss: 0.5436 - val_accuracy: 0.7600 - 62ms/epoch - 3ms/step\n",
      "Epoch 55/200\n",
      "19/19 - 0s - loss: 0.5369 - accuracy: 0.7333 - val_loss: 0.5452 - val_accuracy: 0.7300 - 67ms/epoch - 4ms/step\n",
      "Epoch 56/200\n",
      "19/19 - 0s - loss: 0.5352 - accuracy: 0.7317 - val_loss: 0.5408 - val_accuracy: 0.7400 - 62ms/epoch - 3ms/step\n",
      "Epoch 57/200\n",
      "19/19 - 0s - loss: 0.5339 - accuracy: 0.7283 - val_loss: 0.5581 - val_accuracy: 0.7200 - 52ms/epoch - 3ms/step\n",
      "Epoch 58/200\n",
      "19/19 - 0s - loss: 0.5381 - accuracy: 0.7383 - val_loss: 0.5359 - val_accuracy: 0.7600 - 56ms/epoch - 3ms/step\n",
      "Epoch 59/200\n",
      "19/19 - 0s - loss: 0.5700 - accuracy: 0.7017 - val_loss: 0.5401 - val_accuracy: 0.7300 - 55ms/epoch - 3ms/step\n",
      "Epoch 60/200\n",
      "19/19 - 0s - loss: 0.5729 - accuracy: 0.7150 - val_loss: 0.5590 - val_accuracy: 0.6300 - 54ms/epoch - 3ms/step\n",
      "Epoch 61/200\n",
      "19/19 - 0s - loss: 0.5328 - accuracy: 0.7467 - val_loss: 0.5647 - val_accuracy: 0.6900 - 55ms/epoch - 3ms/step\n",
      "Epoch 62/200\n",
      "19/19 - 0s - loss: 0.5314 - accuracy: 0.7417 - val_loss: 0.5437 - val_accuracy: 0.7100 - 69ms/epoch - 4ms/step\n",
      "Epoch 63/200\n",
      "19/19 - 0s - loss: 0.5387 - accuracy: 0.7300 - val_loss: 0.5363 - val_accuracy: 0.7500 - 54ms/epoch - 3ms/step\n",
      "Epoch 64/200\n",
      "19/19 - 0s - loss: 0.5328 - accuracy: 0.7333 - val_loss: 0.5351 - val_accuracy: 0.7600 - 53ms/epoch - 3ms/step\n",
      "Epoch 65/200\n",
      "19/19 - 0s - loss: 0.5311 - accuracy: 0.7367 - val_loss: 0.5339 - val_accuracy: 0.7600 - 58ms/epoch - 3ms/step\n",
      "Epoch 66/200\n",
      "19/19 - 0s - loss: 0.5249 - accuracy: 0.7417 - val_loss: 0.5562 - val_accuracy: 0.6900 - 58ms/epoch - 3ms/step\n",
      "Epoch 67/200\n",
      "19/19 - 0s - loss: 0.5212 - accuracy: 0.7400 - val_loss: 0.5298 - val_accuracy: 0.7300 - 55ms/epoch - 3ms/step\n"
     ]
    },
    {
     "name": "stdout",
     "output_type": "stream",
     "text": [
      "Epoch 68/200\n",
      "19/19 - 0s - loss: 0.5244 - accuracy: 0.7467 - val_loss: 0.5481 - val_accuracy: 0.7300 - 55ms/epoch - 3ms/step\n",
      "Epoch 69/200\n",
      "19/19 - 0s - loss: 0.5432 - accuracy: 0.7433 - val_loss: 0.5411 - val_accuracy: 0.7100 - 56ms/epoch - 3ms/step\n",
      "Epoch 70/200\n",
      "19/19 - 0s - loss: 0.5375 - accuracy: 0.7467 - val_loss: 0.5497 - val_accuracy: 0.7300 - 56ms/epoch - 3ms/step\n",
      "Epoch 71/200\n",
      "19/19 - 0s - loss: 0.5215 - accuracy: 0.7550 - val_loss: 0.5324 - val_accuracy: 0.7500 - 60ms/epoch - 3ms/step\n",
      "Epoch 72/200\n",
      "19/19 - 0s - loss: 0.5318 - accuracy: 0.7283 - val_loss: 0.5386 - val_accuracy: 0.7200 - 55ms/epoch - 3ms/step\n",
      "Epoch 73/200\n",
      "19/19 - 0s - loss: 0.5179 - accuracy: 0.7483 - val_loss: 0.5341 - val_accuracy: 0.6800 - 53ms/epoch - 3ms/step\n",
      "Epoch 74/200\n",
      "19/19 - 0s - loss: 0.5175 - accuracy: 0.7567 - val_loss: 0.5667 - val_accuracy: 0.6900 - 53ms/epoch - 3ms/step\n",
      "Epoch 75/200\n",
      "19/19 - 0s - loss: 0.5303 - accuracy: 0.7433 - val_loss: 0.5281 - val_accuracy: 0.7500 - 54ms/epoch - 3ms/step\n",
      "Epoch 76/200\n",
      "19/19 - 0s - loss: 0.5200 - accuracy: 0.7583 - val_loss: 0.5360 - val_accuracy: 0.7200 - 53ms/epoch - 3ms/step\n",
      "Epoch 77/200\n",
      "19/19 - 0s - loss: 0.5162 - accuracy: 0.7450 - val_loss: 0.5449 - val_accuracy: 0.7200 - 54ms/epoch - 3ms/step\n",
      "Epoch 78/200\n",
      "19/19 - 0s - loss: 0.5242 - accuracy: 0.7567 - val_loss: 0.5484 - val_accuracy: 0.7100 - 53ms/epoch - 3ms/step\n",
      "Epoch 79/200\n",
      "19/19 - 0s - loss: 0.5239 - accuracy: 0.7550 - val_loss: 0.5549 - val_accuracy: 0.7200 - 54ms/epoch - 3ms/step\n",
      "Epoch 80/200\n",
      "19/19 - 0s - loss: 0.5192 - accuracy: 0.7550 - val_loss: 0.5221 - val_accuracy: 0.7700 - 57ms/epoch - 3ms/step\n",
      "Epoch 81/200\n",
      "19/19 - 0s - loss: 0.5140 - accuracy: 0.7567 - val_loss: 0.5480 - val_accuracy: 0.7100 - 53ms/epoch - 3ms/step\n",
      "Epoch 82/200\n",
      "19/19 - 0s - loss: 0.5294 - accuracy: 0.7533 - val_loss: 0.5408 - val_accuracy: 0.7300 - 53ms/epoch - 3ms/step\n",
      "Epoch 83/200\n",
      "19/19 - 0s - loss: 0.5423 - accuracy: 0.7250 - val_loss: 0.5389 - val_accuracy: 0.7100 - 57ms/epoch - 3ms/step\n",
      "Epoch 84/200\n",
      "19/19 - 0s - loss: 0.5176 - accuracy: 0.7517 - val_loss: 0.5307 - val_accuracy: 0.7300 - 56ms/epoch - 3ms/step\n",
      "Epoch 85/200\n",
      "19/19 - 0s - loss: 0.5216 - accuracy: 0.7533 - val_loss: 0.5642 - val_accuracy: 0.7100 - 57ms/epoch - 3ms/step\n",
      "Epoch 86/200\n",
      "19/19 - 0s - loss: 0.5470 - accuracy: 0.7317 - val_loss: 0.5794 - val_accuracy: 0.7100 - 54ms/epoch - 3ms/step\n",
      "Epoch 87/200\n",
      "19/19 - 0s - loss: 0.5223 - accuracy: 0.7367 - val_loss: 0.5338 - val_accuracy: 0.7000 - 54ms/epoch - 3ms/step\n",
      "Epoch 88/200\n",
      "19/19 - 0s - loss: 0.5063 - accuracy: 0.7533 - val_loss: 0.5339 - val_accuracy: 0.7200 - 55ms/epoch - 3ms/step\n",
      "Epoch 89/200\n",
      "19/19 - 0s - loss: 0.5120 - accuracy: 0.7517 - val_loss: 0.5148 - val_accuracy: 0.7800 - 58ms/epoch - 3ms/step\n",
      "Epoch 90/200\n",
      "19/19 - 0s - loss: 0.5139 - accuracy: 0.7517 - val_loss: 0.5130 - val_accuracy: 0.7600 - 59ms/epoch - 3ms/step\n",
      "Epoch 91/200\n",
      "19/19 - 0s - loss: 0.5087 - accuracy: 0.7650 - val_loss: 0.5157 - val_accuracy: 0.7800 - 60ms/epoch - 3ms/step\n",
      "Epoch 92/200\n",
      "19/19 - 0s - loss: 0.5050 - accuracy: 0.7517 - val_loss: 0.5186 - val_accuracy: 0.7600 - 58ms/epoch - 3ms/step\n",
      "Epoch 93/200\n",
      "19/19 - 0s - loss: 0.5132 - accuracy: 0.7550 - val_loss: 0.5233 - val_accuracy: 0.7600 - 55ms/epoch - 3ms/step\n",
      "Epoch 94/200\n",
      "19/19 - 0s - loss: 0.5029 - accuracy: 0.7667 - val_loss: 0.5276 - val_accuracy: 0.7300 - 54ms/epoch - 3ms/step\n",
      "Epoch 95/200\n",
      "19/19 - 0s - loss: 0.5138 - accuracy: 0.7467 - val_loss: 0.5148 - val_accuracy: 0.7500 - 53ms/epoch - 3ms/step\n",
      "Epoch 96/200\n",
      "19/19 - 0s - loss: 0.5101 - accuracy: 0.7533 - val_loss: 0.5184 - val_accuracy: 0.7300 - 57ms/epoch - 3ms/step\n",
      "Epoch 97/200\n",
      "19/19 - 0s - loss: 0.5219 - accuracy: 0.7567 - val_loss: 0.5124 - val_accuracy: 0.7800 - 58ms/epoch - 3ms/step\n",
      "Epoch 98/200\n",
      "19/19 - 0s - loss: 0.5278 - accuracy: 0.7567 - val_loss: 0.5223 - val_accuracy: 0.7800 - 54ms/epoch - 3ms/step\n",
      "Epoch 99/200\n",
      "19/19 - 0s - loss: 0.5044 - accuracy: 0.7617 - val_loss: 0.5198 - val_accuracy: 0.7100 - 57ms/epoch - 3ms/step\n",
      "Epoch 100/200\n",
      "19/19 - 0s - loss: 0.5079 - accuracy: 0.7483 - val_loss: 0.5390 - val_accuracy: 0.7200 - 60ms/epoch - 3ms/step\n",
      "Epoch 101/200\n",
      "19/19 - 0s - loss: 0.5082 - accuracy: 0.7633 - val_loss: 0.5153 - val_accuracy: 0.7700 - 53ms/epoch - 3ms/step\n",
      "Epoch 102/200\n",
      "19/19 - 0s - loss: 0.4993 - accuracy: 0.7683 - val_loss: 0.5151 - val_accuracy: 0.7800 - 53ms/epoch - 3ms/step\n",
      "Epoch 103/200\n",
      "19/19 - 0s - loss: 0.5074 - accuracy: 0.7683 - val_loss: 0.5591 - val_accuracy: 0.7300 - 54ms/epoch - 3ms/step\n",
      "Epoch 104/200\n",
      "19/19 - 0s - loss: 0.5090 - accuracy: 0.7650 - val_loss: 0.5081 - val_accuracy: 0.7800 - 54ms/epoch - 3ms/step\n",
      "Epoch 105/200\n",
      "19/19 - 0s - loss: 0.5137 - accuracy: 0.7567 - val_loss: 0.5204 - val_accuracy: 0.7200 - 57ms/epoch - 3ms/step\n",
      "Epoch 106/200\n",
      "19/19 - 0s - loss: 0.5047 - accuracy: 0.7550 - val_loss: 0.5041 - val_accuracy: 0.8000 - 59ms/epoch - 3ms/step\n",
      "Epoch 107/200\n",
      "19/19 - 0s - loss: 0.4974 - accuracy: 0.7600 - val_loss: 0.5103 - val_accuracy: 0.7200 - 59ms/epoch - 3ms/step\n",
      "Epoch 108/200\n",
      "19/19 - 0s - loss: 0.5142 - accuracy: 0.7400 - val_loss: 0.5149 - val_accuracy: 0.7500 - 64ms/epoch - 3ms/step\n",
      "Epoch 109/200\n",
      "19/19 - 0s - loss: 0.5038 - accuracy: 0.7467 - val_loss: 0.5064 - val_accuracy: 0.7700 - 58ms/epoch - 3ms/step\n",
      "Epoch 110/200\n",
      "19/19 - 0s - loss: 0.4995 - accuracy: 0.7500 - val_loss: 0.5048 - val_accuracy: 0.7600 - 61ms/epoch - 3ms/step\n",
      "Epoch 111/200\n",
      "19/19 - 0s - loss: 0.4991 - accuracy: 0.7567 - val_loss: 0.5103 - val_accuracy: 0.7700 - 57ms/epoch - 3ms/step\n",
      "Epoch 112/200\n",
      "19/19 - 0s - loss: 0.4917 - accuracy: 0.7617 - val_loss: 0.5074 - val_accuracy: 0.7500 - 58ms/epoch - 3ms/step\n",
      "Epoch 113/200\n",
      "19/19 - 0s - loss: 0.4982 - accuracy: 0.7567 - val_loss: 0.5136 - val_accuracy: 0.7300 - 61ms/epoch - 3ms/step\n",
      "Epoch 114/200\n",
      "19/19 - 0s - loss: 0.5006 - accuracy: 0.7600 - val_loss: 0.5091 - val_accuracy: 0.7400 - 58ms/epoch - 3ms/step\n",
      "Epoch 115/200\n",
      "19/19 - 0s - loss: 0.4938 - accuracy: 0.7633 - val_loss: 0.5120 - val_accuracy: 0.7700 - 60ms/epoch - 3ms/step\n",
      "Epoch 116/200\n",
      "19/19 - 0s - loss: 0.4967 - accuracy: 0.7600 - val_loss: 0.5108 - val_accuracy: 0.7400 - 62ms/epoch - 3ms/step\n",
      "Epoch 117/200\n",
      "19/19 - 0s - loss: 0.4908 - accuracy: 0.7767 - val_loss: 0.5068 - val_accuracy: 0.7800 - 70ms/epoch - 4ms/step\n",
      "Epoch 118/200\n",
      "19/19 - 0s - loss: 0.4934 - accuracy: 0.7617 - val_loss: 0.4977 - val_accuracy: 0.7800 - 52ms/epoch - 3ms/step\n",
      "Epoch 119/200\n",
      "19/19 - 0s - loss: 0.4959 - accuracy: 0.7633 - val_loss: 0.5093 - val_accuracy: 0.7600 - 53ms/epoch - 3ms/step\n",
      "Epoch 120/200\n",
      "19/19 - 0s - loss: 0.4940 - accuracy: 0.7767 - val_loss: 0.5005 - val_accuracy: 0.7900 - 54ms/epoch - 3ms/step\n",
      "Epoch 121/200\n",
      "19/19 - 0s - loss: 0.4897 - accuracy: 0.7733 - val_loss: 0.5089 - val_accuracy: 0.7600 - 54ms/epoch - 3ms/step\n",
      "Epoch 122/200\n",
      "19/19 - 0s - loss: 0.5018 - accuracy: 0.7650 - val_loss: 0.5335 - val_accuracy: 0.7200 - 56ms/epoch - 3ms/step\n",
      "Epoch 123/200\n",
      "19/19 - 0s - loss: 0.4997 - accuracy: 0.7583 - val_loss: 0.5344 - val_accuracy: 0.7700 - 55ms/epoch - 3ms/step\n",
      "Epoch 124/200\n",
      "19/19 - 0s - loss: 0.4973 - accuracy: 0.7783 - val_loss: 0.5249 - val_accuracy: 0.7200 - 79ms/epoch - 4ms/step\n",
      "Epoch 125/200\n",
      "19/19 - 0s - loss: 0.4907 - accuracy: 0.7700 - val_loss: 0.4955 - val_accuracy: 0.7900 - 57ms/epoch - 3ms/step\n",
      "Epoch 126/200\n",
      "19/19 - 0s - loss: 0.4937 - accuracy: 0.7767 - val_loss: 0.4933 - val_accuracy: 0.8000 - 62ms/epoch - 3ms/step\n",
      "Epoch 127/200\n",
      "19/19 - 0s - loss: 0.4927 - accuracy: 0.7633 - val_loss: 0.4956 - val_accuracy: 0.7800 - 65ms/epoch - 3ms/step\n",
      "Epoch 128/200\n",
      "19/19 - 0s - loss: 0.4875 - accuracy: 0.7733 - val_loss: 0.4951 - val_accuracy: 0.8000 - 55ms/epoch - 3ms/step\n",
      "Epoch 129/200\n",
      "19/19 - 0s - loss: 0.4851 - accuracy: 0.7817 - val_loss: 0.5098 - val_accuracy: 0.7600 - 57ms/epoch - 3ms/step\n",
      "Epoch 130/200\n",
      "19/19 - 0s - loss: 0.4840 - accuracy: 0.7717 - val_loss: 0.4954 - val_accuracy: 0.7800 - 57ms/epoch - 3ms/step\n",
      "Epoch 131/200\n",
      "19/19 - 0s - loss: 0.4884 - accuracy: 0.7717 - val_loss: 0.5003 - val_accuracy: 0.7700 - 61ms/epoch - 3ms/step\n",
      "Epoch 132/200\n",
      "19/19 - 0s - loss: 0.4875 - accuracy: 0.7650 - val_loss: 0.4963 - val_accuracy: 0.7800 - 53ms/epoch - 3ms/step\n",
      "Epoch 133/200\n",
      "19/19 - 0s - loss: 0.4895 - accuracy: 0.7700 - val_loss: 0.4996 - val_accuracy: 0.7800 - 53ms/epoch - 3ms/step\n"
     ]
    },
    {
     "name": "stdout",
     "output_type": "stream",
     "text": [
      "Epoch 134/200\n",
      "19/19 - 0s - loss: 0.4855 - accuracy: 0.7700 - val_loss: 0.4938 - val_accuracy: 0.7900 - 57ms/epoch - 3ms/step\n",
      "Epoch 135/200\n",
      "19/19 - 0s - loss: 0.4977 - accuracy: 0.7650 - val_loss: 0.5037 - val_accuracy: 0.7600 - 58ms/epoch - 3ms/step\n",
      "Epoch 136/200\n",
      "19/19 - 0s - loss: 0.4900 - accuracy: 0.7733 - val_loss: 0.5072 - val_accuracy: 0.7700 - 58ms/epoch - 3ms/step\n",
      "Epoch 137/200\n",
      "19/19 - 0s - loss: 0.4855 - accuracy: 0.7783 - val_loss: 0.5174 - val_accuracy: 0.7700 - 58ms/epoch - 3ms/step\n",
      "Epoch 138/200\n",
      "19/19 - 0s - loss: 0.4821 - accuracy: 0.7733 - val_loss: 0.5004 - val_accuracy: 0.7700 - 58ms/epoch - 3ms/step\n",
      "Epoch 139/200\n",
      "19/19 - 0s - loss: 0.4912 - accuracy: 0.7667 - val_loss: 0.5062 - val_accuracy: 0.7700 - 53ms/epoch - 3ms/step\n",
      "Epoch 140/200\n",
      "19/19 - 0s - loss: 0.4923 - accuracy: 0.7600 - val_loss: 0.4926 - val_accuracy: 0.7800 - 53ms/epoch - 3ms/step\n",
      "Epoch 141/200\n",
      "19/19 - 0s - loss: 0.4857 - accuracy: 0.7617 - val_loss: 0.4898 - val_accuracy: 0.7800 - 62ms/epoch - 3ms/step\n",
      "Epoch 142/200\n",
      "19/19 - 0s - loss: 0.4848 - accuracy: 0.7700 - val_loss: 0.6039 - val_accuracy: 0.7000 - 60ms/epoch - 3ms/step\n",
      "Epoch 143/200\n",
      "19/19 - 0s - loss: 0.4897 - accuracy: 0.7817 - val_loss: 0.4897 - val_accuracy: 0.7700 - 57ms/epoch - 3ms/step\n",
      "Epoch 144/200\n",
      "19/19 - 0s - loss: 0.4882 - accuracy: 0.7683 - val_loss: 0.4914 - val_accuracy: 0.7600 - 60ms/epoch - 3ms/step\n",
      "Epoch 145/200\n",
      "19/19 - 0s - loss: 0.4898 - accuracy: 0.7733 - val_loss: 0.4996 - val_accuracy: 0.7600 - 60ms/epoch - 3ms/step\n",
      "Epoch 146/200\n",
      "19/19 - 0s - loss: 0.4826 - accuracy: 0.7600 - val_loss: 0.4982 - val_accuracy: 0.7800 - 60ms/epoch - 3ms/step\n",
      "Epoch 147/200\n",
      "19/19 - 0s - loss: 0.4798 - accuracy: 0.7850 - val_loss: 0.5003 - val_accuracy: 0.7700 - 58ms/epoch - 3ms/step\n",
      "Epoch 148/200\n",
      "19/19 - 0s - loss: 0.4891 - accuracy: 0.7700 - val_loss: 0.4881 - val_accuracy: 0.7700 - 54ms/epoch - 3ms/step\n",
      "Epoch 149/200\n",
      "19/19 - 0s - loss: 0.4843 - accuracy: 0.7633 - val_loss: 0.4964 - val_accuracy: 0.7800 - 58ms/epoch - 3ms/step\n",
      "Epoch 150/200\n",
      "19/19 - 0s - loss: 0.4863 - accuracy: 0.7617 - val_loss: 0.4910 - val_accuracy: 0.7600 - 56ms/epoch - 3ms/step\n",
      "Epoch 151/200\n",
      "19/19 - 0s - loss: 0.4772 - accuracy: 0.7717 - val_loss: 0.4954 - val_accuracy: 0.7700 - 51ms/epoch - 3ms/step\n",
      "Epoch 152/200\n",
      "19/19 - 0s - loss: 0.4798 - accuracy: 0.7817 - val_loss: 0.4927 - val_accuracy: 0.7700 - 53ms/epoch - 3ms/step\n",
      "Epoch 153/200\n",
      "19/19 - 0s - loss: 0.4811 - accuracy: 0.7733 - val_loss: 0.4955 - val_accuracy: 0.7700 - 57ms/epoch - 3ms/step\n",
      "Epoch 154/200\n",
      "19/19 - 0s - loss: 0.4805 - accuracy: 0.7683 - val_loss: 0.5029 - val_accuracy: 0.7700 - 52ms/epoch - 3ms/step\n",
      "Epoch 155/200\n",
      "19/19 - 0s - loss: 0.4923 - accuracy: 0.7700 - val_loss: 0.4978 - val_accuracy: 0.7800 - 52ms/epoch - 3ms/step\n",
      "Epoch 156/200\n",
      "19/19 - 0s - loss: 0.4947 - accuracy: 0.7683 - val_loss: 0.4992 - val_accuracy: 0.7600 - 57ms/epoch - 3ms/step\n",
      "Epoch 157/200\n",
      "19/19 - 0s - loss: 0.4830 - accuracy: 0.7750 - val_loss: 0.5063 - val_accuracy: 0.7700 - 59ms/epoch - 3ms/step\n",
      "Epoch 158/200\n",
      "19/19 - 0s - loss: 0.4856 - accuracy: 0.7683 - val_loss: 0.4996 - val_accuracy: 0.8000 - 60ms/epoch - 3ms/step\n",
      "Epoch 159/200\n",
      "19/19 - 0s - loss: 0.4760 - accuracy: 0.7717 - val_loss: 0.4924 - val_accuracy: 0.7700 - 66ms/epoch - 3ms/step\n",
      "Epoch 160/200\n",
      "19/19 - 0s - loss: 0.4752 - accuracy: 0.7700 - val_loss: 0.4870 - val_accuracy: 0.7800 - 64ms/epoch - 3ms/step\n",
      "Epoch 161/200\n",
      "19/19 - 0s - loss: 0.4710 - accuracy: 0.7750 - val_loss: 0.5019 - val_accuracy: 0.7600 - 58ms/epoch - 3ms/step\n",
      "Epoch 162/200\n",
      "19/19 - 0s - loss: 0.4759 - accuracy: 0.7850 - val_loss: 0.4994 - val_accuracy: 0.7800 - 63ms/epoch - 3ms/step\n",
      "Epoch 163/200\n",
      "19/19 - 0s - loss: 0.4746 - accuracy: 0.7783 - val_loss: 0.4997 - val_accuracy: 0.7700 - 61ms/epoch - 3ms/step\n",
      "Epoch 164/200\n",
      "19/19 - 0s - loss: 0.4843 - accuracy: 0.7717 - val_loss: 0.4995 - val_accuracy: 0.7900 - 57ms/epoch - 3ms/step\n",
      "Epoch 165/200\n",
      "19/19 - 0s - loss: 0.4724 - accuracy: 0.7733 - val_loss: 0.4849 - val_accuracy: 0.7800 - 56ms/epoch - 3ms/step\n",
      "Epoch 166/200\n",
      "19/19 - 0s - loss: 0.4752 - accuracy: 0.7683 - val_loss: 0.4926 - val_accuracy: 0.8000 - 70ms/epoch - 4ms/step\n",
      "Epoch 167/200\n",
      "19/19 - 0s - loss: 0.4685 - accuracy: 0.7883 - val_loss: 0.4860 - val_accuracy: 0.7800 - 74ms/epoch - 4ms/step\n",
      "Epoch 168/200\n",
      "19/19 - 0s - loss: 0.4688 - accuracy: 0.7933 - val_loss: 0.4837 - val_accuracy: 0.8000 - 72ms/epoch - 4ms/step\n",
      "Epoch 169/200\n",
      "19/19 - 0s - loss: 0.4765 - accuracy: 0.7767 - val_loss: 0.4946 - val_accuracy: 0.7600 - 130ms/epoch - 7ms/step\n",
      "Epoch 170/200\n",
      "19/19 - 0s - loss: 0.4712 - accuracy: 0.7667 - val_loss: 0.4815 - val_accuracy: 0.7600 - 58ms/epoch - 3ms/step\n",
      "Epoch 171/200\n",
      "19/19 - 0s - loss: 0.4663 - accuracy: 0.7883 - val_loss: 0.5121 - val_accuracy: 0.7800 - 57ms/epoch - 3ms/step\n",
      "Epoch 172/200\n",
      "19/19 - 0s - loss: 0.4704 - accuracy: 0.7767 - val_loss: 0.4851 - val_accuracy: 0.7800 - 54ms/epoch - 3ms/step\n",
      "Epoch 173/200\n",
      "19/19 - 0s - loss: 0.4697 - accuracy: 0.7783 - val_loss: 0.5035 - val_accuracy: 0.7500 - 56ms/epoch - 3ms/step\n",
      "Epoch 174/200\n",
      "19/19 - 0s - loss: 0.4767 - accuracy: 0.7750 - val_loss: 0.4863 - val_accuracy: 0.7800 - 55ms/epoch - 3ms/step\n",
      "Epoch 175/200\n",
      "19/19 - 0s - loss: 0.4699 - accuracy: 0.7683 - val_loss: 0.4981 - val_accuracy: 0.7900 - 55ms/epoch - 3ms/step\n",
      "Epoch 176/200\n",
      "19/19 - 0s - loss: 0.4683 - accuracy: 0.7767 - val_loss: 0.4944 - val_accuracy: 0.7500 - 56ms/epoch - 3ms/step\n",
      "Epoch 177/200\n",
      "19/19 - 0s - loss: 0.4960 - accuracy: 0.7600 - val_loss: 0.5593 - val_accuracy: 0.7700 - 63ms/epoch - 3ms/step\n",
      "Epoch 178/200\n",
      "19/19 - 0s - loss: 0.4778 - accuracy: 0.7733 - val_loss: 0.5042 - val_accuracy: 0.7700 - 54ms/epoch - 3ms/step\n",
      "Epoch 179/200\n",
      "19/19 - 0s - loss: 0.4701 - accuracy: 0.7867 - val_loss: 0.4846 - val_accuracy: 0.7800 - 53ms/epoch - 3ms/step\n",
      "Epoch 180/200\n",
      "19/19 - 0s - loss: 0.4730 - accuracy: 0.7817 - val_loss: 0.5011 - val_accuracy: 0.7700 - 52ms/epoch - 3ms/step\n",
      "Epoch 181/200\n",
      "19/19 - 0s - loss: 0.4785 - accuracy: 0.7767 - val_loss: 0.4979 - val_accuracy: 0.7800 - 54ms/epoch - 3ms/step\n",
      "Epoch 182/200\n",
      "19/19 - 0s - loss: 0.4768 - accuracy: 0.7717 - val_loss: 0.4881 - val_accuracy: 0.8000 - 52ms/epoch - 3ms/step\n",
      "Epoch 183/200\n",
      "19/19 - 0s - loss: 0.4818 - accuracy: 0.7650 - val_loss: 0.4837 - val_accuracy: 0.7800 - 52ms/epoch - 3ms/step\n",
      "Epoch 184/200\n",
      "19/19 - 0s - loss: 0.4735 - accuracy: 0.7683 - val_loss: 0.4856 - val_accuracy: 0.7700 - 53ms/epoch - 3ms/step\n",
      "Epoch 185/200\n",
      "19/19 - 0s - loss: 0.4599 - accuracy: 0.7867 - val_loss: 0.4861 - val_accuracy: 0.7600 - 56ms/epoch - 3ms/step\n",
      "Epoch 186/200\n",
      "19/19 - 0s - loss: 0.4629 - accuracy: 0.7750 - val_loss: 0.4890 - val_accuracy: 0.7600 - 62ms/epoch - 3ms/step\n",
      "Epoch 187/200\n",
      "19/19 - 0s - loss: 0.4657 - accuracy: 0.7800 - val_loss: 0.4780 - val_accuracy: 0.7800 - 56ms/epoch - 3ms/step\n",
      "Epoch 188/200\n",
      "19/19 - 0s - loss: 0.4701 - accuracy: 0.7767 - val_loss: 0.4849 - val_accuracy: 0.7900 - 55ms/epoch - 3ms/step\n",
      "Epoch 189/200\n",
      "19/19 - 0s - loss: 0.4632 - accuracy: 0.7817 - val_loss: 0.4800 - val_accuracy: 0.7900 - 54ms/epoch - 3ms/step\n",
      "Epoch 190/200\n",
      "19/19 - 0s - loss: 0.4637 - accuracy: 0.7817 - val_loss: 0.4803 - val_accuracy: 0.7700 - 53ms/epoch - 3ms/step\n",
      "Epoch 191/200\n",
      "19/19 - 0s - loss: 0.4613 - accuracy: 0.7867 - val_loss: 0.4862 - val_accuracy: 0.7800 - 53ms/epoch - 3ms/step\n",
      "Epoch 192/200\n",
      "19/19 - 0s - loss: 0.4712 - accuracy: 0.7700 - val_loss: 0.4822 - val_accuracy: 0.7700 - 186ms/epoch - 10ms/step\n",
      "Epoch 193/200\n",
      "19/19 - 0s - loss: 0.4673 - accuracy: 0.7683 - val_loss: 0.4859 - val_accuracy: 0.7600 - 76ms/epoch - 4ms/step\n",
      "Epoch 194/200\n",
      "19/19 - 0s - loss: 0.4598 - accuracy: 0.7850 - val_loss: 0.4816 - val_accuracy: 0.7700 - 52ms/epoch - 3ms/step\n",
      "Epoch 195/200\n",
      "19/19 - 0s - loss: 0.4660 - accuracy: 0.7867 - val_loss: 0.5015 - val_accuracy: 0.7800 - 51ms/epoch - 3ms/step\n",
      "Epoch 196/200\n",
      "19/19 - 0s - loss: 0.4634 - accuracy: 0.7833 - val_loss: 0.4803 - val_accuracy: 0.7700 - 62ms/epoch - 3ms/step\n",
      "Epoch 197/200\n",
      "19/19 - 0s - loss: 0.4633 - accuracy: 0.7800 - val_loss: 0.4942 - val_accuracy: 0.7600 - 61ms/epoch - 3ms/step\n",
      "Epoch 198/200\n",
      "19/19 - 0s - loss: 0.4711 - accuracy: 0.7783 - val_loss: 0.4780 - val_accuracy: 0.7800 - 55ms/epoch - 3ms/step\n",
      "Epoch 199/200\n",
      "19/19 - 0s - loss: 0.4685 - accuracy: 0.7833 - val_loss: 0.4882 - val_accuracy: 0.7700 - 65ms/epoch - 3ms/step\n"
     ]
    },
    {
     "name": "stdout",
     "output_type": "stream",
     "text": [
      "Epoch 200/200\n",
      "19/19 - 0s - loss: 0.4694 - accuracy: 0.7817 - val_loss: 0.4803 - val_accuracy: 0.7700 - 58ms/epoch - 3ms/step\n"
     ]
    }
   ],
   "source": [
    "# 4. 모델 학습 : validation_data=[X_val, Y_val] 추가해서 학습\n",
    "hist = model.fit(X_train, Y_train,\n",
    "                 epochs=200,\n",
    "                 verbose=2,\n",
    "                 validation_data=[X_val, Y_val]\n",
    "                )"
   ]
  },
  {
   "cell_type": "code",
   "execution_count": 10,
   "id": "c20464c8",
   "metadata": {},
   "outputs": [
    {
     "data": {
      "image/png": "[encoded data removed]",
      "text/plain": [
       "<Figure size 1000x500 with 2 Axes>"
      ]
     },
     "metadata": {},
     "output_type": "display_data"
    }
   ],
   "source": [
    "# 학습과정 표시하기(validation dataset 있는 경우)\n",
    "fig, loss_ax = plt.subplots(figsize=(10,5))\n",
    "loss_ax.plot(hist.history['loss'], 'r', label='train loss')\n",
    "loss_ax.plot(hist.history['val_loss'], 'y', label='validation loss')\n",
    "loss_ax.set_xlabel('epoch')\n",
    "loss_ax.set_ylabel('loss')\n",
    "acc_ax = loss_ax.twinx()\n",
    "acc_ax.plot(hist.history['accuracy'], 'b', label='train accuracy')\n",
    "acc_ax.plot(hist.history['val_accuracy'], 'g', label='val accuracy')\n",
    "acc_ax.set_ylabel('accuracy')\n",
    "loss_ax.legend(loc='center right')\n",
    "acc_ax.legend(bbox_to_anchor=(0.999, 0.7))\n",
    "plt.show()"
   ]
  },
  {
   "cell_type": "code",
   "execution_count": 7,
   "id": "f3890c17",
   "metadata": {},
   "outputs": [
    {
     "name": "stdout",
     "output_type": "stream",
     "text": [
      "dict_keys(['loss', 'accuracy', 'val_loss', 'val_accuracy'])\n",
      "3/3 [==============================] - 0s 2ms/step - loss: 0.5921 - accuracy: 0.6618\n",
      "loss : 0.5920531749725342, 정확도 ; 66.17646813392639%\n",
      "3/3 [==============================] - 0s 2ms/step\n"
     ]
    },
    {
     "data": {
      "text/html": [
       "<div>\n",
       "<style scoped>\n",
       "    .dataframe tbody tr th:only-of-type {\n",
       "        vertical-align: middle;\n",
       "    }\n",
       "\n",
       "    .dataframe tbody tr th {\n",
       "        vertical-align: top;\n",
       "    }\n",
       "\n",
       "    .dataframe thead th {\n",
       "        text-align: right;\n",
       "    }\n",
       "</style>\n",
       "<table border=\"1\" class=\"dataframe\">\n",
       "  <thead>\n",
       "    <tr style=\"text-align: right;\">\n",
       "      <th>예측값</th>\n",
       "      <th>0</th>\n",
       "      <th>1</th>\n",
       "    </tr>\n",
       "    <tr>\n",
       "      <th>실제값</th>\n",
       "      <th></th>\n",
       "      <th></th>\n",
       "    </tr>\n",
       "  </thead>\n",
       "  <tbody>\n",
       "    <tr>\n",
       "      <th>0</th>\n",
       "      <td>37</td>\n",
       "      <td>4</td>\n",
       "    </tr>\n",
       "    <tr>\n",
       "      <th>1</th>\n",
       "      <td>19</td>\n",
       "      <td>8</td>\n",
       "    </tr>\n",
       "  </tbody>\n",
       "</table>\n",
       "</div>"
      ],
      "text/plain": [
       "예측값   0  1\n",
       "실제값       \n",
       "0    37  4\n",
       "1    19  8"
      ]
     },
     "execution_count": 7,
     "metadata": {},
     "output_type": "execute_result"
    }
   ],
   "source": [
    "# 5. 모델 학습 평가 : 그래프(hist.history.keys()를 확인후 4가지)\n",
    "#                   평가(X_test, Y_test)\n",
    "#                   교차표(pd.crosstab 이용)\n",
    "print(hist.history.keys())\n",
    "score = model.evaluate(X_test, Y_test)\n",
    "print('loss : {}, 정확도 ; {}%'.format(score[0], score[1]*100))\n",
    "Y_hat = model.predict(X_test).argmax(axis=1)\n",
    "ctab = pd.crosstab(Y_test.argmax(axis=1), Y_hat)\n",
    "ctab.index.name='실제값'\n",
    "ctab.columns.name = '예측값'\n",
    "ctab"
   ]
  },
  {
   "cell_type": "code",
   "execution_count": 16,
   "id": "c77544f0",
   "metadata": {},
   "outputs": [
    {
     "data": {
      "text/plain": [
       "(array([  2.   , 122.   ,  76.   ,  27.   , 200.   ,  35.9  ,   0.483,\n",
       "         26.   ]),\n",
       " array([1., 0.], dtype=float32))"
      ]
     },
     "execution_count": 16,
     "metadata": {},
     "output_type": "execute_result"
    }
   ],
   "source": [
    "# 6. 모델 사용하기 - 예측\n",
    "#                  0        1\n",
    "#                  0.9912   0.00124\n",
    "X_test[0], Y_test[0]"
   ]
  },
  {
   "cell_type": "code",
   "execution_count": 21,
   "id": "0f9b4840",
   "metadata": {},
   "outputs": [
    {
     "name": "stdout",
     "output_type": "stream",
     "text": [
      "1/1 [==============================] - 0s 25ms/step\n"
     ]
    },
    {
     "ename": "TypeError",
     "evalue": "unsupported operand type(s) for /: 'int' and 'list'",
     "output_type": "error",
     "traceback": [
      "\u001b[1;31m---------------------------------------------------------------------------\u001b[0m",
      "\u001b[1;31mTypeError\u001b[0m                                 Traceback (most recent call last)",
      "Cell \u001b[1;32mIn[21], line 2\u001b[0m\n\u001b[0;32m      1\u001b[0m pred \u001b[38;5;241m=\u001b[39m model\u001b[38;5;241m.\u001b[39mpredict(np\u001b[38;5;241m.\u001b[39marray([[\u001b[38;5;241m2.\u001b[39m, \u001b[38;5;241m122.\u001b[39m,\u001b[38;5;241m76.\u001b[39m,\u001b[38;5;241m27.\u001b[39m,\u001b[38;5;241m200.\u001b[39m,\u001b[38;5;241m35.9\u001b[39m,\u001b[38;5;241m0.483\u001b[39m,\u001b[38;5;241m26.\u001b[39m]]))\n\u001b[1;32m----> 2\u001b[0m pred \u001b[38;5;241m=\u001b[39m \u001b[43mmodel\u001b[49m\u001b[38;5;241;43m.\u001b[39;49m\u001b[43mpredict\u001b[49m\u001b[43m(\u001b[49m\u001b[43m[\u001b[49m\u001b[43m[\u001b[49m\u001b[38;5;241;43m2.\u001b[39;49m\u001b[43m,\u001b[49m\u001b[43m \u001b[49m\u001b[38;5;241;43m122.\u001b[39;49m\u001b[43m,\u001b[49m\u001b[38;5;241;43m76.\u001b[39;49m\u001b[43m,\u001b[49m\u001b[38;5;241;43m27.\u001b[39;49m\u001b[43m,\u001b[49m\u001b[38;5;241;43m200.\u001b[39;49m\u001b[43m,\u001b[49m\u001b[38;5;241;43m35.9\u001b[39;49m\u001b[43m,\u001b[49m\u001b[38;5;241;43m0.483\u001b[39;49m\u001b[43m,\u001b[49m\u001b[38;5;241;43m26.\u001b[39;49m\u001b[43m]\u001b[49m\u001b[43m]\u001b[49m\u001b[43m,\u001b[49m\n\u001b[0;32m      3\u001b[0m \u001b[43m                    \u001b[49m\u001b[43m[\u001b[49m\u001b[43m[\u001b[49m\u001b[38;5;241;43m2.\u001b[39;49m\u001b[43m,\u001b[49m\u001b[43m \u001b[49m\u001b[38;5;241;43m122.\u001b[39;49m\u001b[43m,\u001b[49m\u001b[38;5;241;43m76.\u001b[39;49m\u001b[43m,\u001b[49m\u001b[38;5;241;43m27.\u001b[39;49m\u001b[43m,\u001b[49m\u001b[38;5;241;43m200.\u001b[39;49m\u001b[43m,\u001b[49m\u001b[38;5;241;43m35.9\u001b[39;49m\u001b[43m,\u001b[49m\u001b[38;5;241;43m0.483\u001b[39;49m\u001b[43m,\u001b[49m\u001b[38;5;241;43m26.\u001b[39;49m\u001b[43m]\u001b[49m\u001b[43m]\u001b[49m\u001b[43m)\u001b[49m \u001b[38;5;66;03m# predict에는 2차원 데이터로\u001b[39;00m\n\u001b[0;32m      4\u001b[0m pred\n",
      "File \u001b[1;32m~\\anaconda3\\lib\\site-packages\\keras\\utils\\traceback_utils.py:70\u001b[0m, in \u001b[0;36mfilter_traceback.<locals>.error_handler\u001b[1;34m(*args, **kwargs)\u001b[0m\n\u001b[0;32m     67\u001b[0m     filtered_tb \u001b[38;5;241m=\u001b[39m _process_traceback_frames(e\u001b[38;5;241m.\u001b[39m__traceback__)\n\u001b[0;32m     68\u001b[0m     \u001b[38;5;66;03m# To get the full stack trace, call:\u001b[39;00m\n\u001b[0;32m     69\u001b[0m     \u001b[38;5;66;03m# `tf.debugging.disable_traceback_filtering()`\u001b[39;00m\n\u001b[1;32m---> 70\u001b[0m     \u001b[38;5;28;01mraise\u001b[39;00m e\u001b[38;5;241m.\u001b[39mwith_traceback(filtered_tb) \u001b[38;5;28;01mfrom\u001b[39;00m \u001b[38;5;28mNone\u001b[39m\n\u001b[0;32m     71\u001b[0m \u001b[38;5;28;01mfinally\u001b[39;00m:\n\u001b[0;32m     72\u001b[0m     \u001b[38;5;28;01mdel\u001b[39;00m filtered_tb\n",
      "File \u001b[1;32m~\\anaconda3\\lib\\site-packages\\keras\\engine\\data_adapter.py:269\u001b[0m, in \u001b[0;36mTensorLikeDataAdapter.__init__\u001b[1;34m(self, x, y, sample_weights, sample_weight_modes, batch_size, epochs, steps, shuffle, **kwargs)\u001b[0m\n\u001b[0;32m    266\u001b[0m \u001b[38;5;28;01mif\u001b[39;00m \u001b[38;5;129;01mnot\u001b[39;00m batch_size:\n\u001b[0;32m    267\u001b[0m     batch_size \u001b[38;5;241m=\u001b[39m \u001b[38;5;28mint\u001b[39m(math\u001b[38;5;241m.\u001b[39mceil(num_samples \u001b[38;5;241m/\u001b[39m steps)) \u001b[38;5;28;01mif\u001b[39;00m steps \u001b[38;5;28;01melse\u001b[39;00m \u001b[38;5;241m32\u001b[39m\n\u001b[1;32m--> 269\u001b[0m \u001b[38;5;28mself\u001b[39m\u001b[38;5;241m.\u001b[39m_size \u001b[38;5;241m=\u001b[39m \u001b[38;5;28mint\u001b[39m(math\u001b[38;5;241m.\u001b[39mceil(\u001b[43mnum_samples\u001b[49m\u001b[43m \u001b[49m\u001b[38;5;241;43m/\u001b[39;49m\u001b[43m \u001b[49m\u001b[43mbatch_size\u001b[49m))\n\u001b[0;32m    270\u001b[0m \u001b[38;5;28mself\u001b[39m\u001b[38;5;241m.\u001b[39m_batch_size \u001b[38;5;241m=\u001b[39m batch_size\n\u001b[0;32m    272\u001b[0m num_full_batches \u001b[38;5;241m=\u001b[39m \u001b[38;5;28mint\u001b[39m(num_samples \u001b[38;5;241m/\u001b[39m\u001b[38;5;241m/\u001b[39m batch_size)\n",
      "\u001b[1;31mTypeError\u001b[0m: unsupported operand type(s) for /: 'int' and 'list'"
     ]
    }
   ],
   "source": [
    "pred = model.predict(np.array([[2., 122.,76.,27.,200.,35.9,0.483,26.]]))\n",
    "pred = model.predict([[2., 122.,76.,27.,200.,35.9,0.483,26.],\n",
    "                     [[2., 122.,76.,27.,200.,35.9,0.483,26.]]]) # predict에는 2차원 데이터로\n",
    "pred"
   ]
  },
  {
   "cell_type": "code",
   "execution_count": null,
   "id": "c2c8e157",
   "metadata": {},
   "outputs": [],
   "source": []
  }
 ],
 "metadata": {
  "kernelspec": {
   "display_name": "Python 3 (ipykernel)",
   "language": "python",
   "name": "python3"
  },
  "language_info": {
   "codemirror_mode": {
    "name": "ipython",
    "version": 3
   },
   "file_extension": ".py",
   "mimetype": "text/x-python",
   "name": "python",
   "nbconvert_exporter": "python",
   "pygments_lexer": "ipython3",
   "version": "3.10.9"
  },
  "toc": {
   "base_numbering": 1,
   "nav_menu": {},
   "number_sections": true,
   "sideBar": true,
   "skip_h1_title": false,
   "title_cell": "Table of Contents",
   "title_sidebar": "Contents",
   "toc_cell": false,
   "toc_position": {},
   "toc_section_display": true,
   "toc_window_display": false
  }
 },
 "nbformat": 4,
 "nbformat_minor": 5
}
