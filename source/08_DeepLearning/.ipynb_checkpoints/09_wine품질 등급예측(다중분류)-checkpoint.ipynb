{
 "cells": [
  {
   "cell_type": "code",
   "execution_count": 86,
   "id": "0bc00b46",
   "metadata": {},
   "outputs": [],
   "source": [
    "import numpy as np\n",
    "import pandas as pd # read_csv, get_dumies(원핫인코딩)\n",
    "from sklearn.preprocessing import StandardScaler\n",
    "from sklearn.model_selection import train_test_split # 훈련셋과 시험셋 나누기\n",
    "from tensorflow.keras.models import Sequential\n",
    "from tensorflow.keras.layers import Dense, Input, Dropout\n",
    "from tensorflow.keras.callbacks import EarlyStopping, Callback\n",
    "import matplotlib.pyplot as plt\n",
    "from tensorflow.keras.activations import relu, softmax # activation='relu' 대신 사용"
   ]
  },
  {
   "cell_type": "markdown",
   "id": "c4029f53",
   "metadata": {},
   "source": [
    "- Red Wine 품질 등급 예측\n",
    "\n",
    "```\n",
    "1. 데이터 셋 확보 & 전처리\n",
    "    독립변수, 종속변수 분리 -> 독립변수 스케일조정(StandardScaler), 종속변수 원핫인코딩(get_dummies, 훈련셋과 테스트셋 분리(train_test_split)\n",
    "2. 모델 구성(입력11, 출력6) layer층 4\n",
    "3. 모델 학습 과정 설정(다중분류에 맞는 설정)\n",
    "4. 학습시키기 (callbacks이용)\n",
    "5. 모델 평가 - 그래프, 평가(테스트셋), 교차표\n",
    "6. 모델 저장 및 모델사용하기\n",
    "```"
   ]
  },
  {
   "cell_type": "code",
   "execution_count": 2,
   "id": "32ca0576",
   "metadata": {},
   "outputs": [
    {
     "data": {
      "text/plain": [
       "array([5, 6, 7, 4, 8, 3], dtype=int64)"
      ]
     },
     "execution_count": 2,
     "metadata": {},
     "output_type": "execute_result"
    }
   ],
   "source": [
    "redwine = pd.read_csv('data/winequality-red.csv',sep=';')\n",
    "redwine.quality.unique()"
   ]
  },
  {
   "cell_type": "code",
   "execution_count": 3,
   "id": "b6204fd0",
   "metadata": {},
   "outputs": [
    {
     "data": {
      "text/html": [
       "<div>\n",
       "<style scoped>\n",
       "    .dataframe tbody tr th:only-of-type {\n",
       "        vertical-align: middle;\n",
       "    }\n",
       "\n",
       "    .dataframe tbody tr th {\n",
       "        vertical-align: top;\n",
       "    }\n",
       "\n",
       "    .dataframe thead th {\n",
       "        text-align: right;\n",
       "    }\n",
       "</style>\n",
       "<table border=\"1\" class=\"dataframe\">\n",
       "  <thead>\n",
       "    <tr style=\"text-align: right;\">\n",
       "      <th></th>\n",
       "      <th>fixed acidity</th>\n",
       "      <th>volatile acidity</th>\n",
       "      <th>citric acid</th>\n",
       "      <th>residual sugar</th>\n",
       "      <th>chlorides</th>\n",
       "      <th>free sulfur dioxide</th>\n",
       "      <th>total sulfur dioxide</th>\n",
       "      <th>density</th>\n",
       "      <th>pH</th>\n",
       "      <th>sulphates</th>\n",
       "      <th>alcohol</th>\n",
       "      <th>quality</th>\n",
       "    </tr>\n",
       "  </thead>\n",
       "  <tbody>\n",
       "    <tr>\n",
       "      <th>0</th>\n",
       "      <td>7.4</td>\n",
       "      <td>0.70</td>\n",
       "      <td>0.00</td>\n",
       "      <td>1.9</td>\n",
       "      <td>0.076</td>\n",
       "      <td>11.0</td>\n",
       "      <td>34.0</td>\n",
       "      <td>0.9978</td>\n",
       "      <td>3.51</td>\n",
       "      <td>0.56</td>\n",
       "      <td>9.4</td>\n",
       "      <td>5</td>\n",
       "    </tr>\n",
       "    <tr>\n",
       "      <th>1</th>\n",
       "      <td>7.8</td>\n",
       "      <td>0.88</td>\n",
       "      <td>0.00</td>\n",
       "      <td>2.6</td>\n",
       "      <td>0.098</td>\n",
       "      <td>25.0</td>\n",
       "      <td>67.0</td>\n",
       "      <td>0.9968</td>\n",
       "      <td>3.20</td>\n",
       "      <td>0.68</td>\n",
       "      <td>9.8</td>\n",
       "      <td>5</td>\n",
       "    </tr>\n",
       "    <tr>\n",
       "      <th>2</th>\n",
       "      <td>7.8</td>\n",
       "      <td>0.76</td>\n",
       "      <td>0.04</td>\n",
       "      <td>2.3</td>\n",
       "      <td>0.092</td>\n",
       "      <td>15.0</td>\n",
       "      <td>54.0</td>\n",
       "      <td>0.9970</td>\n",
       "      <td>3.26</td>\n",
       "      <td>0.65</td>\n",
       "      <td>9.8</td>\n",
       "      <td>5</td>\n",
       "    </tr>\n",
       "    <tr>\n",
       "      <th>3</th>\n",
       "      <td>11.2</td>\n",
       "      <td>0.28</td>\n",
       "      <td>0.56</td>\n",
       "      <td>1.9</td>\n",
       "      <td>0.075</td>\n",
       "      <td>17.0</td>\n",
       "      <td>60.0</td>\n",
       "      <td>0.9980</td>\n",
       "      <td>3.16</td>\n",
       "      <td>0.58</td>\n",
       "      <td>9.8</td>\n",
       "      <td>6</td>\n",
       "    </tr>\n",
       "    <tr>\n",
       "      <th>4</th>\n",
       "      <td>7.4</td>\n",
       "      <td>0.70</td>\n",
       "      <td>0.00</td>\n",
       "      <td>1.9</td>\n",
       "      <td>0.076</td>\n",
       "      <td>11.0</td>\n",
       "      <td>34.0</td>\n",
       "      <td>0.9978</td>\n",
       "      <td>3.51</td>\n",
       "      <td>0.56</td>\n",
       "      <td>9.4</td>\n",
       "      <td>5</td>\n",
       "    </tr>\n",
       "  </tbody>\n",
       "</table>\n",
       "</div>"
      ],
      "text/plain": [
       "   fixed acidity  volatile acidity  citric acid  residual sugar  chlorides  \\\n",
       "0            7.4              0.70         0.00             1.9      0.076   \n",
       "1            7.8              0.88         0.00             2.6      0.098   \n",
       "2            7.8              0.76         0.04             2.3      0.092   \n",
       "3           11.2              0.28         0.56             1.9      0.075   \n",
       "4            7.4              0.70         0.00             1.9      0.076   \n",
       "\n",
       "   free sulfur dioxide  total sulfur dioxide  density    pH  sulphates  \\\n",
       "0                 11.0                  34.0   0.9978  3.51       0.56   \n",
       "1                 25.0                  67.0   0.9968  3.20       0.68   \n",
       "2                 15.0                  54.0   0.9970  3.26       0.65   \n",
       "3                 17.0                  60.0   0.9980  3.16       0.58   \n",
       "4                 11.0                  34.0   0.9978  3.51       0.56   \n",
       "\n",
       "   alcohol  quality  \n",
       "0      9.4        5  \n",
       "1      9.8        5  \n",
       "2      9.8        5  \n",
       "3      9.8        6  \n",
       "4      9.4        5  "
      ]
     },
     "metadata": {},
     "output_type": "display_data"
    },
    {
     "name": "stdout",
     "output_type": "stream",
     "text": [
      "<class 'pandas.core.frame.DataFrame'>\n",
      "RangeIndex: 1599 entries, 0 to 1598\n",
      "Data columns (total 12 columns):\n",
      " #   Column                Non-Null Count  Dtype  \n",
      "---  ------                --------------  -----  \n",
      " 0   fixed acidity         1599 non-null   float64\n",
      " 1   volatile acidity      1599 non-null   float64\n",
      " 2   citric acid           1599 non-null   float64\n",
      " 3   residual sugar        1599 non-null   float64\n",
      " 4   chlorides             1599 non-null   float64\n",
      " 5   free sulfur dioxide   1599 non-null   float64\n",
      " 6   total sulfur dioxide  1599 non-null   float64\n",
      " 7   density               1599 non-null   float64\n",
      " 8   pH                    1599 non-null   float64\n",
      " 9   sulphates             1599 non-null   float64\n",
      " 10  alcohol               1599 non-null   float64\n",
      " 11  quality               1599 non-null   int64  \n",
      "dtypes: float64(11), int64(1)\n",
      "memory usage: 150.0 KB\n",
      "None\n"
     ]
    }
   ],
   "source": [
    "display(redwine.head())\n",
    "print(redwine.info())"
   ]
  },
  {
   "cell_type": "markdown",
   "id": "35ed1635",
   "metadata": {},
   "source": [
    "## 1. 데이터 셋 확보 & 전처리\n",
    "    독립변수, 종속변수 분리 -> 독립변수 스케일조정(StandardScaler), 종속변수 원핫인코딩(get_dummies, 훈련셋과 테스트셋 분리(train_test_split)"
   ]
  },
  {
   "cell_type": "code",
   "execution_count": 93,
   "id": "f00abb75",
   "metadata": {},
   "outputs": [
    {
     "data": {
      "text/plain": [
       "((1279, 11), (320, 11), (1279, 6), (320, 6))"
      ]
     },
     "execution_count": 93,
     "metadata": {},
     "output_type": "execute_result"
    }
   ],
   "source": [
    "X = redwine.iloc[:,:-1]\n",
    "Y = redwine.iloc[:,-1]\n",
    "\n",
    "scaler = StandardScaler()\n",
    "scaled_X = scaler.fit_transform(X)\n",
    "incoded_Y = pd.get_dummies(Y)\n",
    "\n",
    "X_train, X_test, Y_train, Y_test = train_test_split(scaled_X, incoded_Y,\n",
    "                                                    test_size= 0.2,\n",
    "                                                    random_state=42,\n",
    "                                                    stratify=incoded_Y\n",
    "                                                   )\n",
    "X_train.shape, X_test.shape, Y_train.shape, Y_test.shape"
   ]
  },
  {
   "cell_type": "markdown",
   "id": "f653c56c",
   "metadata": {},
   "source": [
    "## 2. 모델 구성(입력11, 출력6) layer층 4"
   ]
  },
  {
   "cell_type": "code",
   "execution_count": 94,
   "id": "d938a1f4",
   "metadata": {},
   "outputs": [
    {
     "name": "stdout",
     "output_type": "stream",
     "text": [
      "Model: \"sequential_10\"\n",
      "_________________________________________________________________\n",
      " Layer (type)                Output Shape              Param #   \n",
      "=================================================================\n",
      " dense_40 (Dense)            (None, 64)                768       \n",
      "                                                                 \n",
      " dropout_21 (Dropout)        (None, 64)                0         \n",
      "                                                                 \n",
      " dense_41 (Dense)            (None, 128)               8320      \n",
      "                                                                 \n",
      " dropout_22 (Dropout)        (None, 128)               0         \n",
      "                                                                 \n",
      " dense_42 (Dense)            (None, 32)                4128      \n",
      "                                                                 \n",
      " dropout_23 (Dropout)        (None, 32)                0         \n",
      "                                                                 \n",
      " dense_43 (Dense)            (None, 6)                 198       \n",
      "                                                                 \n",
      "=================================================================\n",
      "Total params: 13,414\n",
      "Trainable params: 13,414\n",
      "Non-trainable params: 0\n",
      "_________________________________________________________________\n"
     ]
    }
   ],
   "source": [
    "model = Sequential()\n",
    "model.add(Input(shape=(11,)))\n",
    "model.add(Dense(units=64, activation=relu))\n",
    "model.add(Dropout(0.1))\n",
    "model.add(Dense(units=128, activation=relu))\n",
    "model.add(Dropout(0.1))\n",
    "model.add(Dense(units=32, activation=relu))\n",
    "model.add(Dropout(0.1))\n",
    "model.add(Dense(units=6, activation=softmax))\n",
    "model.summary()"
   ]
  },
  {
   "cell_type": "markdown",
   "id": "a32f8d37",
   "metadata": {},
   "source": [
    "## 3. 모델 학습 과정 설정(다중분류에 맞는 설정)"
   ]
  },
  {
   "cell_type": "code",
   "execution_count": 95,
   "id": "0e45d4fe",
   "metadata": {},
   "outputs": [],
   "source": [
    "model.compile(loss='categorical_crossentropy', optimizer='nadam', metrics=['accuracy'])"
   ]
  },
  {
   "cell_type": "markdown",
   "id": "09795494",
   "metadata": {},
   "source": [
    "## 4. 학습시키기 (callbacks이용)"
   ]
  },
  {
   "cell_type": "code",
   "execution_count": 96,
   "id": "12f7a099",
   "metadata": {},
   "outputs": [
    {
     "name": "stdout",
     "output_type": "stream",
     "text": [
      "epoch:10, loss:0.9627922177314758, acc:0.5982404947280884, val_loss:1.1236441135406494, val_accuracy:0.57421875\n",
      "epoch:20, loss:0.8698556423187256, acc:0.6344085931777954, val_loss:1.0828572511672974, val_accuracy:0.5859375\n",
      "epoch:30, loss:0.838016927242279, acc:0.6529814004898071, val_loss:1.0644594430923462, val_accuracy:0.5859375\n",
      "epoch:40, loss:0.7934032082557678, acc:0.6608015894889832, val_loss:1.055920958518982, val_accuracy:0.5859375\n",
      "epoch:50, loss:0.7648773193359375, acc:0.6862170100212097, val_loss:1.0533859729766846, val_accuracy:0.61328125\n",
      "epoch:60, loss:0.7352193593978882, acc:0.6999022364616394, val_loss:1.1202058792114258, val_accuracy:0.6015625\n",
      "epoch:70, loss:0.7137203812599182, acc:0.7116324305534363, val_loss:1.1194508075714111, val_accuracy:0.59765625\n",
      "epoch:80, loss:0.6815087795257568, acc:0.7184750437736511, val_loss:1.1560810804367065, val_accuracy:0.59765625\n",
      "epoch:84, loss:0.6574539542198181, accuracy:0.7321603298187256, val_loss:1.1415830850601196, val_accuracy:0.609375\n"
     ]
    }
   ],
   "source": [
    "class CustomHistory(Callback):\n",
    "    def __init__(self):\n",
    "        self.epoch = 0\n",
    "    def on_epoch_end(self, batch, logs={}):\n",
    "        self.epoch += 1\n",
    "        if self.epoch%10 == 0:\n",
    "            print('epoch:{}, loss:{}, acc:{}, val_loss:{}, val_accuracy:{}'.\\\n",
    "                 format(self.epoch,\n",
    "                        logs.get('loss'),\n",
    "                        logs.get('accuracy'),\n",
    "                        logs.get('val_loss'),\n",
    "                        logs.get('val_accuracy')\n",
    "                       ))\n",
    "        \n",
    "earlyStopping = EarlyStopping(patience=40)\n",
    "customHistory = CustomHistory()\n",
    "\n",
    "hist = model.fit(X_train, Y_train, epochs=1200, batch_size=100,\n",
    "                 validation_split=0.2,\n",
    "                 verbose=0,\n",
    "                 callbacks=[earlyStopping, customHistory]\n",
    "                )\n",
    "print(f'epoch:{hist.epoch[-1]}', end=', ')\n",
    "for i in hist.history:\n",
    "    print(f'{i}:',end='')\n",
    "    if(i!='val_accuracy'):\n",
    "        print(hist.history[i][-1],end=', ')\n",
    "    else :\n",
    "        print(hist.history[i][-1])"
   ]
  },
  {
   "cell_type": "markdown",
   "id": "da929619",
   "metadata": {},
   "source": [
    "## 5. 모델 평가 - 그래프, 평가(테스트셋), 교차표"
   ]
  },
  {
   "cell_type": "code",
   "execution_count": 97,
   "id": "f95668e7",
   "metadata": {},
   "outputs": [
    {
     "data": {
      "image/png": "[encoded data removed]",
      "text/plain": [
       "<Figure size 1000x500 with 2 Axes>"
      ]
     },
     "metadata": {},
     "output_type": "display_data"
    }
   ],
   "source": [
    "# 학습과정 표시하기(validation dataset 있는 경우)\n",
    "fig, loss_ax = plt.subplots(figsize=(10,5))\n",
    "loss_ax.plot(hist.history['loss'], 'r', label='train loss')\n",
    "loss_ax.plot(hist.history['val_loss'], 'y', label='validation loss')\n",
    "loss_ax.set_xlabel('epoch')\n",
    "loss_ax.set_ylabel('loss')\n",
    "acc_ax = loss_ax.twinx()\n",
    "acc_ax.plot(hist.history['accuracy'], 'b', label='train accuracy')\n",
    "acc_ax.plot(hist.history['val_accuracy'], 'g', label='validation accuracy')\n",
    "acc_ax.set_ylim(0.0,1.0)\n",
    "acc_ax.set_ylabel('accuracy')\n",
    "loss_ax.legend(loc='center right')\n",
    "acc_ax.legend(bbox_to_anchor=(0.999, 0.7))\n",
    "plt.show()"
   ]
  },
  {
   "cell_type": "code",
   "execution_count": 79,
   "id": "644b2844",
   "metadata": {},
   "outputs": [
    {
     "name": "stdout",
     "output_type": "stream",
     "text": [
      "10/10 [==============================] - 0s 1ms/step\n"
     ]
    },
    {
     "data": {
      "text/plain": [
       "array([5, 5, 6, 5, 6, 5, 5, 5, 6, 6, 7, 5, 6, 5, 5, 7, 6, 6, 7, 5, 5, 5,\n",
       "       6, 7, 5, 5, 5, 5, 5, 6, 5, 5, 5, 5, 6, 5, 6, 6, 5, 6, 6, 5, 6, 5,\n",
       "       6, 6, 7, 6, 5, 6, 5, 5, 6, 7, 5, 5, 6, 5, 6, 5, 5, 6, 5, 5, 7, 5,\n",
       "       7, 5, 7, 5, 6, 5, 6, 6, 6, 5, 7, 5, 5, 7, 5, 7, 5, 5, 6, 6, 5, 6,\n",
       "       7, 5, 6, 7, 5, 6, 5, 5, 5, 6, 5, 6, 5, 5, 6, 6, 6, 6, 6, 5, 4, 5,\n",
       "       7, 5, 7, 5, 5, 7, 6, 5, 5, 6, 6, 6, 6, 5, 5, 5, 7, 5, 5, 6, 6, 5,\n",
       "       5, 7, 6, 5, 5, 5, 5, 6, 7, 6, 7, 5, 6, 5, 6, 5, 5, 5, 6, 7, 5, 6,\n",
       "       6, 6, 5, 6, 5, 6, 7, 6, 6, 5, 5, 6, 5, 5, 5, 5, 5, 5, 7, 5, 7, 6,\n",
       "       6, 5, 5, 5, 5, 7, 5, 7, 5, 7, 6, 6, 7, 5, 6, 7, 5, 6, 6, 5, 5, 5,\n",
       "       6, 6, 5, 5, 5, 5, 6, 6, 5, 5, 5, 6, 7, 5, 6, 6, 7, 6, 6, 5, 6, 5,\n",
       "       5, 6, 7, 6, 5, 5, 5, 7, 5, 5, 5, 5, 6, 6, 6, 6, 5, 6, 6, 5, 6, 5,\n",
       "       6, 6, 6, 7, 6, 5, 7, 5, 6, 5, 5, 6, 6, 5, 5, 6, 6, 7, 7, 6, 5, 7,\n",
       "       6, 7, 5, 5, 6, 6, 5, 6, 5, 5, 6, 5, 6, 7, 6, 5, 7, 5, 5, 5, 5, 6,\n",
       "       5, 6, 5, 4, 5, 7, 6, 5, 5, 6, 5, 7, 6, 7, 5, 5, 6, 5, 5, 5, 6, 6,\n",
       "       6, 7, 6, 5, 6, 5, 5, 6, 5, 5, 7, 5], dtype=int64)"
      ]
     },
     "execution_count": 79,
     "metadata": {},
     "output_type": "execute_result"
    }
   ],
   "source": [
    "y_hat = model.predict(X_test).argmax(axis=1)+3\n",
    "y_hat"
   ]
  },
  {
   "cell_type": "code",
   "execution_count": 80,
   "id": "d50f24dc",
   "metadata": {},
   "outputs": [
    {
     "data": {
      "text/html": [
       "<div>\n",
       "<style scoped>\n",
       "    .dataframe tbody tr th:only-of-type {\n",
       "        vertical-align: middle;\n",
       "    }\n",
       "\n",
       "    .dataframe tbody tr th {\n",
       "        vertical-align: top;\n",
       "    }\n",
       "\n",
       "    .dataframe thead th {\n",
       "        text-align: right;\n",
       "    }\n",
       "</style>\n",
       "<table border=\"1\" class=\"dataframe\">\n",
       "  <thead>\n",
       "    <tr style=\"text-align: right;\">\n",
       "      <th>predict</th>\n",
       "      <th>4</th>\n",
       "      <th>5</th>\n",
       "      <th>6</th>\n",
       "      <th>7</th>\n",
       "    </tr>\n",
       "    <tr>\n",
       "      <th>real</th>\n",
       "      <th></th>\n",
       "      <th></th>\n",
       "      <th></th>\n",
       "      <th></th>\n",
       "    </tr>\n",
       "  </thead>\n",
       "  <tbody>\n",
       "    <tr>\n",
       "      <th>3</th>\n",
       "      <td>0</td>\n",
       "      <td>1</td>\n",
       "      <td>0</td>\n",
       "      <td>0</td>\n",
       "    </tr>\n",
       "    <tr>\n",
       "      <th>4</th>\n",
       "      <td>0</td>\n",
       "      <td>8</td>\n",
       "      <td>2</td>\n",
       "      <td>0</td>\n",
       "    </tr>\n",
       "    <tr>\n",
       "      <th>5</th>\n",
       "      <td>0</td>\n",
       "      <td>97</td>\n",
       "      <td>31</td>\n",
       "      <td>2</td>\n",
       "    </tr>\n",
       "    <tr>\n",
       "      <th>6</th>\n",
       "      <td>2</td>\n",
       "      <td>49</td>\n",
       "      <td>62</td>\n",
       "      <td>19</td>\n",
       "    </tr>\n",
       "    <tr>\n",
       "      <th>7</th>\n",
       "      <td>0</td>\n",
       "      <td>1</td>\n",
       "      <td>20</td>\n",
       "      <td>21</td>\n",
       "    </tr>\n",
       "    <tr>\n",
       "      <th>8</th>\n",
       "      <td>0</td>\n",
       "      <td>0</td>\n",
       "      <td>0</td>\n",
       "      <td>5</td>\n",
       "    </tr>\n",
       "  </tbody>\n",
       "</table>\n",
       "</div>"
      ],
      "text/plain": [
       "predict  4   5   6   7\n",
       "real                  \n",
       "3        0   1   0   0\n",
       "4        0   8   2   0\n",
       "5        0  97  31   2\n",
       "6        2  49  62  19\n",
       "7        0   1  20  21\n",
       "8        0   0   0   5"
      ]
     },
     "execution_count": 80,
     "metadata": {},
     "output_type": "execute_result"
    }
   ],
   "source": [
    "ctab = pd.crosstab(Y_test.values.argmax(axis=1)+3,y_hat)\n",
    "ctab.index.name='real'\n",
    "ctab.columns.name='predict'\n",
    "ctab"
   ]
  },
  {
   "cell_type": "code",
   "execution_count": 81,
   "id": "0bdde61a",
   "metadata": {},
   "outputs": [
    {
     "name": "stdout",
     "output_type": "stream",
     "text": [
      "10/10 [==============================] - 0s 1ms/step - loss: 0.9106 - accuracy: 0.5625\n"
     ]
    },
    {
     "data": {
      "text/plain": [
       "[0.9105775952339172, 0.5625]"
      ]
     },
     "execution_count": 81,
     "metadata": {},
     "output_type": "execute_result"
    }
   ],
   "source": [
    "model.evaluate(X_test, Y_test)"
   ]
  },
  {
   "cell_type": "markdown",
   "id": "8434a057",
   "metadata": {},
   "source": [
    "## 6. 모델 저장 및 모델사용하기"
   ]
  },
  {
   "cell_type": "code",
   "execution_count": 82,
   "id": "6039e067",
   "metadata": {},
   "outputs": [],
   "source": [
    "model.save('model/wine.h5')"
   ]
  },
  {
   "cell_type": "code",
   "execution_count": 83,
   "id": "cda2096c",
   "metadata": {},
   "outputs": [
    {
     "name": "stdout",
     "output_type": "stream",
     "text": [
      "Model: \"sequential_8\"\n",
      "_________________________________________________________________\n",
      " Layer (type)                Output Shape              Param #   \n",
      "=================================================================\n",
      " dense_32 (Dense)            (None, 64)                768       \n",
      "                                                                 \n",
      " dropout_15 (Dropout)        (None, 64)                0         \n",
      "                                                                 \n",
      " dense_33 (Dense)            (None, 128)               8320      \n",
      "                                                                 \n",
      " dropout_16 (Dropout)        (None, 128)               0         \n",
      "                                                                 \n",
      " dense_34 (Dense)            (None, 32)                4128      \n",
      "                                                                 \n",
      " dropout_17 (Dropout)        (None, 32)                0         \n",
      "                                                                 \n",
      " dense_35 (Dense)            (None, 6)                 198       \n",
      "                                                                 \n",
      "=================================================================\n",
      "Total params: 13,414\n",
      "Trainable params: 13,414\n",
      "Non-trainable params: 0\n",
      "_________________________________________________________________\n"
     ]
    }
   ],
   "source": [
    "from tensorflow.keras.models import load_model\n",
    "model2 = load_model('model/wine.h5')\n",
    "model2.summary()"
   ]
  },
  {
   "cell_type": "code",
   "execution_count": 84,
   "id": "e9087820",
   "metadata": {},
   "outputs": [],
   "source": [
    "model_json = model.to_json()\n",
    "with open('model/wine.json','w') as f:\n",
    "    f.write(model_json)"
   ]
  },
  {
   "cell_type": "code",
   "execution_count": 85,
   "id": "6230c74c",
   "metadata": {},
   "outputs": [
    {
     "name": "stdout",
     "output_type": "stream",
     "text": [
      "Model: \"sequential_8\"\n",
      "_________________________________________________________________\n",
      " Layer (type)                Output Shape              Param #   \n",
      "=================================================================\n",
      " dense_32 (Dense)            (None, 64)                768       \n",
      "                                                                 \n",
      " dropout_15 (Dropout)        (None, 64)                0         \n",
      "                                                                 \n",
      " dense_33 (Dense)            (None, 128)               8320      \n",
      "                                                                 \n",
      " dropout_16 (Dropout)        (None, 128)               0         \n",
      "                                                                 \n",
      " dense_34 (Dense)            (None, 32)                4128      \n",
      "                                                                 \n",
      " dropout_17 (Dropout)        (None, 32)                0         \n",
      "                                                                 \n",
      " dense_35 (Dense)            (None, 6)                 198       \n",
      "                                                                 \n",
      "=================================================================\n",
      "Total params: 13,414\n",
      "Trainable params: 13,414\n",
      "Non-trainable params: 0\n",
      "_________________________________________________________________\n"
     ]
    }
   ],
   "source": [
    "with open('model/wine.json','r') as f:\n",
    "    model_json2 = f.read()\n",
    "from tensorflow.keras.models import model_from_json\n",
    "model3 = model_from_json(model_json2)\n",
    "model3.summary()"
   ]
  }
 ],
 "metadata": {
  "kernelspec": {
   "display_name": "Python 3 (ipykernel)",
   "language": "python",
   "name": "python3"
  },
  "language_info": {
   "codemirror_mode": {
    "name": "ipython",
    "version": 3
   },
   "file_extension": ".py",
   "mimetype": "text/x-python",
   "name": "python",
   "nbconvert_exporter": "python",
   "pygments_lexer": "ipython3",
   "version": "3.10.9"
  },
  "toc": {
   "base_numbering": 1,
   "nav_menu": {},
   "number_sections": true,
   "sideBar": true,
   "skip_h1_title": false,
   "title_cell": "Table of Contents",
   "title_sidebar": "Contents",
   "toc_cell": false,
   "toc_position": {},
   "toc_section_display": true,
   "toc_window_display": false
  }
 },
 "nbformat": 4,
 "nbformat_minor": 5
}
