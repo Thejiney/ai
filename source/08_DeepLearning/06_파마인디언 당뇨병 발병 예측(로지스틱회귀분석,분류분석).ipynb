{
 "cells": [
  {
   "cell_type": "code",
   "execution_count": 1,
   "id": "55f4cc6c",
   "metadata": {},
   "outputs": [],
   "source": [
    "import numpy as np\n",
    "import pandas as pd\n",
    "import sys\n",
    "from tensorflow.keras import utils # utils.to_categorical\n",
    "from tensorflow.keras.models import Sequential # 모델생성\n",
    "from tensorflow.keras.layers import Dense, Input\n",
    "import matplotlib.pyplot as plt"
   ]
  },
  {
   "cell_type": "markdown",
   "id": "c6346b16",
   "metadata": {},
   "source": [
    "# 로지스틱회귀분석(이진분류)\n",
    "## 1. 데이터셋 생성 & 전처리"
   ]
  },
  {
   "cell_type": "code",
   "execution_count": 43,
   "id": "a0731d86",
   "metadata": {},
   "outputs": [
    {
     "data": {
      "text/plain": [
       "array([[  6.   , 148.   ,  72.   ,  35.   ,   0.   ,  33.6  ,   0.627,\n",
       "         50.   ,   1.   ],\n",
       "       [  1.   ,  85.   ,  66.   ,  29.   ,   0.   ,  26.6  ,   0.351,\n",
       "         31.   ,   0.   ]])"
      ]
     },
     "execution_count": 43,
     "metadata": {},
     "output_type": "execute_result"
    }
   ],
   "source": [
    "df = pd.read_csv('data/pima-indians-diabetes.csv', comment='#', header=None)\n",
    "df.values[:2]\n",
    "# 결측치 없으므로, csv파일을 바로 넘파이 배열로 읽어올 예정"
   ]
  },
  {
   "cell_type": "code",
   "execution_count": 44,
   "id": "73508a53",
   "metadata": {},
   "outputs": [],
   "source": [
    "# np.set_printoptions(threshold=sys.maxsize)"
   ]
  },
  {
   "cell_type": "code",
   "execution_count": 45,
   "id": "9cf1f117",
   "metadata": {},
   "outputs": [],
   "source": [
    "# 1. 임신횟수\n",
    "# 2. 2시간내 포도당 농도\n",
    "# 3. 혈압\n",
    "# 4. 피부접힘 두께\n",
    "# 5. 인슐린수치\n",
    "# 6. BMI체질량지수\n",
    "# 7. 가족력\n",
    "# 8. 나이\n",
    "# 9. 당뇨병발병여부"
   ]
  },
  {
   "cell_type": "code",
   "execution_count": 46,
   "id": "b6783418",
   "metadata": {},
   "outputs": [
    {
     "data": {
      "text/plain": [
       "(768, 9)"
      ]
     },
     "execution_count": 46,
     "metadata": {},
     "output_type": "execute_result"
    }
   ],
   "source": [
    "# csv파일을 numpy 배열로 읽어오기 np.loadtxt() np.genfromtxt() #이 있는 행은 제외하여 읽어옴\n",
    "dataset = np.loadtxt('data/pima-indians-diabetes.csv', delimiter=',')\n",
    "dataset.shape"
   ]
  },
  {
   "cell_type": "code",
   "execution_count": 47,
   "id": "692eedfa",
   "metadata": {},
   "outputs": [
    {
     "data": {
      "text/plain": [
       "((700, 8), (700,), (68, 8), (68,))"
      ]
     },
     "execution_count": 47,
     "metadata": {},
     "output_type": "execute_result"
    }
   ],
   "source": [
    "# 학습데이터셋(학습용 데이터) : 모델 학습시 사용\n",
    "X_train = dataset[:700, :-1]\n",
    "y_train = dataset[:700, -1]\n",
    "# 테스트데이터셋(시험용 데이터) : 모델 평가시 사용\n",
    "X_test = dataset[700:, :-1]\n",
    "y_test = dataset[700:,-1]\n",
    "X_train.shape, y_train.shape, X_test.shape, y_test.shape"
   ]
  },
  {
   "cell_type": "markdown",
   "id": "9b827bda",
   "metadata": {},
   "source": [
    "## 2. 모델 구성"
   ]
  },
  {
   "cell_type": "code",
   "execution_count": 63,
   "id": "373cb85f",
   "metadata": {},
   "outputs": [
    {
     "name": "stdout",
     "output_type": "stream",
     "text": [
      "Model: \"sequential_9\"\n",
      "_________________________________________________________________\n",
      " Layer (type)                Output Shape              Param #   \n",
      "=================================================================\n",
      " dense_28 (Dense)            (None, 12)                108       \n",
      "                                                                 \n",
      " dense_29 (Dense)            (None, 8)                 104       \n",
      "                                                                 \n",
      " dense_30 (Dense)            (None, 1)                 9         \n",
      "                                                                 \n",
      "=================================================================\n",
      "Total params: 221\n",
      "Trainable params: 221\n",
      "Non-trainable params: 0\n",
      "_________________________________________________________________\n"
     ]
    }
   ],
   "source": [
    "model = Sequential()\n",
    "model.add(Input(shape=(8,)))\n",
    "model.add(Dense(units=12, activation='relu'))\n",
    "model.add(Dense(units=8, activation='relu'))\n",
    "model.add(Dense(units=1, activation='sigmoid'))\n",
    "model.summary()"
   ]
  },
  {
   "cell_type": "markdown",
   "id": "a9901ff5",
   "metadata": {},
   "source": [
    "## 3. 학습과정 설정"
   ]
  },
  {
   "cell_type": "code",
   "execution_count": 64,
   "id": "d6341403",
   "metadata": {},
   "outputs": [],
   "source": [
    "# model.compile(loss='binary_crossentropy', optimizer='adam', metrics=['accuracy'])\n",
    "model.compile(loss='binary_crossentropy', optimizer='adam', metrics=['binary_accuracy'])"
   ]
  },
  {
   "cell_type": "markdown",
   "id": "4924313a",
   "metadata": {},
   "source": [
    "## 4. 학습"
   ]
  },
  {
   "cell_type": "code",
   "execution_count": 65,
   "id": "a7c1dda9",
   "metadata": {},
   "outputs": [],
   "source": [
    "hist = model.fit(X_train, y_train, # 훈련데이터\n",
    "                 epochs=200,\n",
    "                 # batch_size=350,\n",
    "                 # validation_split=0.2 # 검증 데이터 비율(훈련데이터셋 중 20%를 검증용 데이터로)\n",
    "                 verbose=0\n",
    "                )"
   ]
  },
  {
   "cell_type": "markdown",
   "id": "02f48271",
   "metadata": {},
   "source": [
    "## 5. 모델 평가하기(학습과정보기, 평가)"
   ]
  },
  {
   "cell_type": "code",
   "execution_count": 66,
   "id": "1e2c76f4",
   "metadata": {},
   "outputs": [
    {
     "data": {
      "text/plain": [
       "dict_keys(['loss', 'binary_accuracy'])"
      ]
     },
     "execution_count": 66,
     "metadata": {},
     "output_type": "execute_result"
    }
   ],
   "source": [
    "hist.history.keys()"
   ]
  },
  {
   "cell_type": "code",
   "execution_count": 67,
   "id": "640b8a00",
   "metadata": {},
   "outputs": [
    {
     "data": {
      "image/png": "[encoded data removed]",
      "text/plain": [
       "<Figure size 1000x500 with 2 Axes>"
      ]
     },
     "metadata": {},
     "output_type": "display_data"
    }
   ],
   "source": [
    "# 학습과정 표시하기(validation dataset 없는 경우)\n",
    "fig, loss_ax = plt.subplots(figsize=(10,5))\n",
    "loss_ax.plot(hist.history['loss'], 'r', label='train loss')\n",
    "loss_ax.set_xlabel('epoch')\n",
    "loss_ax.set_ylabel('loss')\n",
    "acc_ax = loss_ax.twinx()\n",
    "acc_ax.plot(hist.history['binary_accuracy'], 'b', label='train accuracy')\n",
    "acc_ax.set_ylabel('accuracy')\n",
    "loss_ax.legend(loc='center right')\n",
    "acc_ax.legend(bbox_to_anchor=(0.999, 0.65))\n",
    "plt.show()"
   ]
  },
  {
   "cell_type": "code",
   "execution_count": 68,
   "id": "c5638a7f",
   "metadata": {},
   "outputs": [
    {
     "name": "stdout",
     "output_type": "stream",
     "text": [
      "22/22 [==============================] - 0s 1ms/step - loss: 0.5074 - binary_accuracy: 0.7600\n"
     ]
    },
    {
     "data": {
      "text/plain": [
       "[0.507379949092865, 0.7599999904632568]"
      ]
     },
     "execution_count": 68,
     "metadata": {},
     "output_type": "execute_result"
    }
   ],
   "source": [
    "# 모델 평가(X)\n",
    "model.evaluate(X_train, y_train)"
   ]
  },
  {
   "cell_type": "code",
   "execution_count": 70,
   "id": "3c63bda8",
   "metadata": {},
   "outputs": [
    {
     "name": "stdout",
     "output_type": "stream",
     "text": [
      "3/3 [==============================] - 0s 2ms/step - loss: 0.6407 - binary_accuracy: 0.6912\n",
      "loss : 0.6407266855239868, 정확도 : 69.11764740943909%\n"
     ]
    }
   ],
   "source": [
    "# 모델 평가(o)\n",
    "score = model.evaluate(X_test, y_test)\n",
    "print(\"loss : {}, 정확도 : {}%\".format(score[0], score[1]*100))"
   ]
  },
  {
   "cell_type": "markdown",
   "id": "9800930f",
   "metadata": {},
   "source": [
    "## 6. 모델 사용하기"
   ]
  },
  {
   "cell_type": "code",
   "execution_count": 80,
   "id": "9b946fc6",
   "metadata": {},
   "outputs": [
    {
     "data": {
      "text/plain": [
       "(array([  4.   , 110.   ,  92.   ,   0.   ,   0.   ,  37.6  ,   0.191,\n",
       "         30.   ]),\n",
       " 0.0)"
      ]
     },
     "execution_count": 80,
     "metadata": {},
     "output_type": "execute_result"
    }
   ],
   "source": [
    "X_train[10], y_train[10]"
   ]
  },
  {
   "cell_type": "code",
   "execution_count": 74,
   "id": "686a8c19",
   "metadata": {},
   "outputs": [
    {
     "name": "stdout",
     "output_type": "stream",
     "text": [
      "1/1 [==============================] - 0s 51ms/step\n"
     ]
    },
    {
     "data": {
      "text/plain": [
       "array([[0.92922807]], dtype=float32)"
      ]
     },
     "execution_count": 74,
     "metadata": {},
     "output_type": "execute_result"
    }
   ],
   "source": [
    "model.predict([[6, 148, 62, 35, 0, 33.6, 0.627, 50]])"
   ]
  },
  {
   "cell_type": "code",
   "execution_count": 82,
   "id": "b2e4cf9a",
   "metadata": {},
   "outputs": [
    {
     "name": "stdout",
     "output_type": "stream",
     "text": [
      "1/1 [==============================] - 0s 50ms/step\n"
     ]
    },
    {
     "data": {
      "text/plain": [
       "array([[0],\n",
       "       [1]])"
      ]
     },
     "execution_count": 82,
     "metadata": {},
     "output_type": "execute_result"
    }
   ],
   "source": [
    "(model.predict([[4, 110, 92, 0, 0, 37.6, 0.191, 30],\n",
    "                [6, 148, 62, 35, 0, 33.6, 0.627, 50]]) > 0.5).astype(int)"
   ]
  },
  {
   "cell_type": "markdown",
   "id": "47d1ad0f",
   "metadata": {},
   "source": [
    "## 7. 교차표\n",
    "- 테스트 데이터셋의 실제값(y_test)과 예측값"
   ]
  },
  {
   "cell_type": "code",
   "execution_count": 85,
   "id": "8384b2dc",
   "metadata": {},
   "outputs": [
    {
     "name": "stdout",
     "output_type": "stream",
     "text": [
      "3/3 [==============================] - 0s 2ms/step\n",
      "21 6\n",
      "15 26\n"
     ]
    }
   ],
   "source": [
    "y_hat = (model.predict(X_test)>0.5).astype(float)\n",
    "cnt1=0; cnt2=0; cnt3=0; cnt4=0\n",
    "# y_hat.shape, y_test.shape\n",
    "for h, y in zip(y_hat.reshape(-1), y_test.reshape(-1)):\n",
    "    if h==1.0 and y==1.0:\n",
    "        cnt1+=1\n",
    "    elif y==1.0 and h==0.0:\n",
    "        cnt2 += 1\n",
    "    elif y==0.0 and h==1.0:\n",
    "        cnt3 += 1\n",
    "    else:\n",
    "        cnt4 += 1\n",
    "print(cnt1, cnt2)\n",
    "print(cnt3, cnt4)"
   ]
  },
  {
   "cell_type": "code",
   "execution_count": 89,
   "id": "22fba6ef",
   "metadata": {},
   "outputs": [
    {
     "data": {
      "text/html": [
       "<div>\n",
       "<style scoped>\n",
       "    .dataframe tbody tr th:only-of-type {\n",
       "        vertical-align: middle;\n",
       "    }\n",
       "\n",
       "    .dataframe tbody tr th {\n",
       "        vertical-align: top;\n",
       "    }\n",
       "\n",
       "    .dataframe thead th {\n",
       "        text-align: right;\n",
       "    }\n",
       "</style>\n",
       "<table border=\"1\" class=\"dataframe\">\n",
       "  <thead>\n",
       "    <tr style=\"text-align: right;\">\n",
       "      <th>예측값</th>\n",
       "      <th>0.0</th>\n",
       "      <th>1.0</th>\n",
       "    </tr>\n",
       "    <tr>\n",
       "      <th>실제값</th>\n",
       "      <th></th>\n",
       "      <th></th>\n",
       "    </tr>\n",
       "  </thead>\n",
       "  <tbody>\n",
       "    <tr>\n",
       "      <th>0.0</th>\n",
       "      <td>26</td>\n",
       "      <td>15</td>\n",
       "    </tr>\n",
       "    <tr>\n",
       "      <th>1.0</th>\n",
       "      <td>6</td>\n",
       "      <td>21</td>\n",
       "    </tr>\n",
       "  </tbody>\n",
       "</table>\n",
       "</div>"
      ],
      "text/plain": [
       "예측값  0.0  1.0\n",
       "실제값          \n",
       "0.0   26   15\n",
       "1.0    6   21"
      ]
     },
     "execution_count": 89,
     "metadata": {},
     "output_type": "execute_result"
    }
   ],
   "source": [
    "ctab = pd.crosstab(y_test, y_hat.reshape(-1))\n",
    "ctab.index.name = '실제값'\n",
    "ctab.columns.name = '예측값'\n",
    "ctab"
   ]
  },
  {
   "cell_type": "markdown",
   "id": "8b782cbb",
   "metadata": {},
   "source": [
    "# 분류분석\n",
    "```\n",
    "1. 데이터셋 생성 및 전처리 : 훈련셋600, 검증셋100, 테스트셋68으로 분리, 종속변수의 원핫인코딩\n",
    "2. 모델생성(input 8, target 2) : 출력층에서의 활성화함수 'softmax'\n",
    "    * model.summary()에서 파라미터 수 확인\n",
    "3. 모델학습과정 설정 (loss='categorical_crossentropy' metrics=['accuracy']\n",
    "4. 모델 학습 : validation_data=[X_val, y_val] 추가해서 학습\n",
    "5. 모델 학습 평가 : 그래프(hist.history.keys()를 확인후 4가지)\n",
    "                  평가(X_test, Y_test)\n",
    "                  교차표(pd.crosstab 이용)\n",
    "6. 모델 사용하기 - 예측\n",
    "                 0        1\n",
    "                 0.9912   0.00124\n",
    "```"
   ]
  },
  {
   "cell_type": "code",
   "execution_count": 135,
   "id": "398f4518",
   "metadata": {},
   "outputs": [
    {
     "data": {
      "text/plain": [
       "(768, 9)"
      ]
     },
     "execution_count": 135,
     "metadata": {},
     "output_type": "execute_result"
    }
   ],
   "source": [
    "# csv파일을 numpy 배열로 읽어오기 np.loadtxt() np.genfromtxt() #이 있는 행은 제외하여 읽어옴\n",
    "dataset = np.loadtxt('data/pima-indians-diabetes.csv', delimiter=',')\n",
    "dataset.shape"
   ]
  },
  {
   "cell_type": "code",
   "execution_count": 136,
   "id": "2e638777",
   "metadata": {},
   "outputs": [],
   "source": [
    "#1. 데이터셋 생성 및 전처리 : 훈련셋600, 검증셋100, 테스트셋68으로 분리, 종속변수의 원핫인코딩\n",
    "\n",
    "# 학습데이터셋(학습용 데이터)\n",
    "X_train = dataset[:600, :-1]\n",
    "Y_train = dataset[:600, -1]\n",
    "Y_train = utils.to_categorical(Y_train,2)\n",
    "# 검증데이터셋\n",
    "X_val = dataset[600:700, :-1]\n",
    "Y_val = dataset[600:700,-1]\n",
    "Y_val = utils.to_categorical(Y_val,2)\n",
    "# 테스트데이터셋(테스트 데이터)\n",
    "X_test = dataset[700:, :-1]\n",
    "Y_test = dataset[700:, -1]\n",
    "Y_test = utils.to_categorical(Y_test,2)"
   ]
  },
  {
   "cell_type": "code",
   "execution_count": 137,
   "id": "df2c608b",
   "metadata": {},
   "outputs": [
    {
     "name": "stdout",
     "output_type": "stream",
     "text": [
      "Model: \"sequential_14\"\n",
      "_________________________________________________________________\n",
      " Layer (type)                Output Shape              Param #   \n",
      "=================================================================\n",
      " dense_40 (Dense)            (None, 12)                108       \n",
      "                                                                 \n",
      " dense_41 (Dense)            (None, 8)                 104       \n",
      "                                                                 \n",
      " dense_42 (Dense)            (None, 2)                 18        \n",
      "                                                                 \n",
      "=================================================================\n",
      "Total params: 230\n",
      "Trainable params: 230\n",
      "Non-trainable params: 0\n",
      "_________________________________________________________________\n"
     ]
    }
   ],
   "source": [
    "# 2. 모델생성(input 8, target 2) : 출력층에서의 활성화함수 'softmax'\n",
    "#     * model.summary()에서 파라미터 수 확인\n",
    "model = Sequential()\n",
    "model.add(Input(shape=8,))\n",
    "model.add(Dense(units=12, activation='elu'))\n",
    "model.add(Dense(units=8, activation='elu'))\n",
    "model.add(Dense(units=2, activation='softmax'))\n",
    "model.summary()"
   ]
  },
  {
   "cell_type": "code",
   "execution_count": 138,
   "id": "e3e774c6",
   "metadata": {},
   "outputs": [],
   "source": [
    "# 3. 모델학습과정 설정 (loss='categorical_crossentropy' metrics=['accuracy']\n",
    "model.compile(loss='categorical_crossentropy', optimizer='adam', metrics=['accuracy'])"
   ]
  },
  {
   "cell_type": "code",
   "execution_count": 139,
   "id": "e02ee085",
   "metadata": {},
   "outputs": [
    {
     "name": "stdout",
     "output_type": "stream",
     "text": [
      "Epoch 1/200\n",
      "19/19 - 1s - loss: 6.9003 - accuracy: 0.3517 - val_loss: 5.1682 - val_accuracy: 0.3300 - 728ms/epoch - 38ms/step\n",
      "Epoch 2/200\n",
      "19/19 - 0s - loss: 3.5369 - accuracy: 0.3967 - val_loss: 2.4116 - val_accuracy: 0.4300 - 68ms/epoch - 4ms/step\n",
      "Epoch 3/200\n",
      "19/19 - 0s - loss: 1.7017 - accuracy: 0.6017 - val_loss: 1.5269 - val_accuracy: 0.5900 - 60ms/epoch - 3ms/step\n",
      "Epoch 4/200\n",
      "19/19 - 0s - loss: 1.2803 - accuracy: 0.6467 - val_loss: 1.2088 - val_accuracy: 0.6100 - 57ms/epoch - 3ms/step\n",
      "Epoch 5/200\n",
      "19/19 - 0s - loss: 1.0318 - accuracy: 0.6383 - val_loss: 0.9910 - val_accuracy: 0.6000 - 76ms/epoch - 4ms/step\n",
      "Epoch 6/200\n",
      "19/19 - 0s - loss: 0.8375 - accuracy: 0.6650 - val_loss: 0.7271 - val_accuracy: 0.6100 - 103ms/epoch - 5ms/step\n",
      "Epoch 7/200\n",
      "19/19 - 0s - loss: 0.7200 - accuracy: 0.6633 - val_loss: 0.6804 - val_accuracy: 0.6500 - 66ms/epoch - 3ms/step\n",
      "Epoch 8/200\n",
      "19/19 - 0s - loss: 0.6707 - accuracy: 0.6850 - val_loss: 0.6722 - val_accuracy: 0.6500 - 62ms/epoch - 3ms/step\n",
      "Epoch 9/200\n",
      "19/19 - 0s - loss: 0.6383 - accuracy: 0.6850 - val_loss: 0.6653 - val_accuracy: 0.6700 - 66ms/epoch - 3ms/step\n",
      "Epoch 10/200\n",
      "19/19 - 0s - loss: 0.6291 - accuracy: 0.6917 - val_loss: 0.6532 - val_accuracy: 0.6900 - 63ms/epoch - 3ms/step\n",
      "Epoch 11/200\n",
      "19/19 - 0s - loss: 0.6265 - accuracy: 0.6783 - val_loss: 0.6462 - val_accuracy: 0.6900 - 64ms/epoch - 3ms/step\n",
      "Epoch 12/200\n",
      "19/19 - 0s - loss: 0.6120 - accuracy: 0.6900 - val_loss: 0.6352 - val_accuracy: 0.6900 - 63ms/epoch - 3ms/step\n",
      "Epoch 13/200\n",
      "19/19 - 0s - loss: 0.6038 - accuracy: 0.6983 - val_loss: 0.6286 - val_accuracy: 0.6800 - 63ms/epoch - 3ms/step\n",
      "Epoch 14/200\n",
      "19/19 - 0s - loss: 0.5993 - accuracy: 0.6867 - val_loss: 0.6206 - val_accuracy: 0.6700 - 66ms/epoch - 3ms/step\n",
      "Epoch 15/200\n",
      "19/19 - 0s - loss: 0.5933 - accuracy: 0.7000 - val_loss: 0.6078 - val_accuracy: 0.7100 - 62ms/epoch - 3ms/step\n",
      "Epoch 16/200\n",
      "19/19 - 0s - loss: 0.5854 - accuracy: 0.7133 - val_loss: 0.6033 - val_accuracy: 0.6800 - 63ms/epoch - 3ms/step\n",
      "Epoch 17/200\n",
      "19/19 - 0s - loss: 0.5785 - accuracy: 0.7067 - val_loss: 0.6051 - val_accuracy: 0.6800 - 54ms/epoch - 3ms/step\n",
      "Epoch 18/200\n",
      "19/19 - 0s - loss: 0.5847 - accuracy: 0.7050 - val_loss: 0.6017 - val_accuracy: 0.6700 - 52ms/epoch - 3ms/step\n",
      "Epoch 19/200\n",
      "19/19 - 0s - loss: 0.5708 - accuracy: 0.7183 - val_loss: 0.5916 - val_accuracy: 0.6800 - 56ms/epoch - 3ms/step\n",
      "Epoch 20/200\n",
      "19/19 - 0s - loss: 0.5689 - accuracy: 0.7250 - val_loss: 0.5889 - val_accuracy: 0.6700 - 52ms/epoch - 3ms/step\n",
      "Epoch 21/200\n",
      "19/19 - 0s - loss: 0.5694 - accuracy: 0.7150 - val_loss: 0.5836 - val_accuracy: 0.7100 - 54ms/epoch - 3ms/step\n",
      "Epoch 22/200\n",
      "19/19 - 0s - loss: 0.5629 - accuracy: 0.7250 - val_loss: 0.5722 - val_accuracy: 0.7100 - 57ms/epoch - 3ms/step\n",
      "Epoch 23/200\n",
      "19/19 - 0s - loss: 0.5549 - accuracy: 0.7300 - val_loss: 0.5751 - val_accuracy: 0.7100 - 57ms/epoch - 3ms/step\n",
      "Epoch 24/200\n",
      "19/19 - 0s - loss: 0.5553 - accuracy: 0.7217 - val_loss: 0.5743 - val_accuracy: 0.6900 - 56ms/epoch - 3ms/step\n",
      "Epoch 25/200\n",
      "19/19 - 0s - loss: 0.5498 - accuracy: 0.7317 - val_loss: 0.5649 - val_accuracy: 0.7200 - 60ms/epoch - 3ms/step\n",
      "Epoch 26/200\n",
      "19/19 - 0s - loss: 0.5482 - accuracy: 0.7467 - val_loss: 0.5596 - val_accuracy: 0.7100 - 55ms/epoch - 3ms/step\n",
      "Epoch 27/200\n",
      "19/19 - 0s - loss: 0.5484 - accuracy: 0.7283 - val_loss: 0.5657 - val_accuracy: 0.7300 - 66ms/epoch - 3ms/step\n",
      "Epoch 28/200\n",
      "19/19 - 0s - loss: 0.5515 - accuracy: 0.7283 - val_loss: 0.5569 - val_accuracy: 0.6800 - 58ms/epoch - 3ms/step\n",
      "Epoch 29/200\n",
      "19/19 - 0s - loss: 0.5411 - accuracy: 0.7333 - val_loss: 0.5614 - val_accuracy: 0.7400 - 60ms/epoch - 3ms/step\n",
      "Epoch 30/200\n",
      "19/19 - 0s - loss: 0.5373 - accuracy: 0.7417 - val_loss: 0.5523 - val_accuracy: 0.7200 - 67ms/epoch - 4ms/step\n",
      "Epoch 31/200\n",
      "19/19 - 0s - loss: 0.5358 - accuracy: 0.7500 - val_loss: 0.5478 - val_accuracy: 0.7000 - 58ms/epoch - 3ms/step\n",
      "Epoch 32/200\n",
      "19/19 - 0s - loss: 0.5326 - accuracy: 0.7433 - val_loss: 0.5442 - val_accuracy: 0.7200 - 60ms/epoch - 3ms/step\n",
      "Epoch 33/200\n",
      "19/19 - 0s - loss: 0.5305 - accuracy: 0.7450 - val_loss: 0.5476 - val_accuracy: 0.7200 - 59ms/epoch - 3ms/step\n",
      "Epoch 34/200\n",
      "19/19 - 0s - loss: 0.5304 - accuracy: 0.7483 - val_loss: 0.5467 - val_accuracy: 0.7200 - 64ms/epoch - 3ms/step\n",
      "Epoch 35/200\n",
      "19/19 - 0s - loss: 0.5287 - accuracy: 0.7500 - val_loss: 0.5384 - val_accuracy: 0.7100 - 64ms/epoch - 3ms/step\n",
      "Epoch 36/200\n",
      "19/19 - 0s - loss: 0.5252 - accuracy: 0.7550 - val_loss: 0.5384 - val_accuracy: 0.7300 - 59ms/epoch - 3ms/step\n",
      "Epoch 37/200\n",
      "19/19 - 0s - loss: 0.5241 - accuracy: 0.7517 - val_loss: 0.5346 - val_accuracy: 0.7100 - 62ms/epoch - 3ms/step\n",
      "Epoch 38/200\n",
      "19/19 - 0s - loss: 0.5259 - accuracy: 0.7500 - val_loss: 0.5371 - val_accuracy: 0.7100 - 67ms/epoch - 4ms/step\n",
      "Epoch 39/200\n",
      "19/19 - 0s - loss: 0.5230 - accuracy: 0.7483 - val_loss: 0.5314 - val_accuracy: 0.7000 - 63ms/epoch - 3ms/step\n",
      "Epoch 40/200\n",
      "19/19 - 0s - loss: 0.5212 - accuracy: 0.7517 - val_loss: 0.5358 - val_accuracy: 0.7500 - 63ms/epoch - 3ms/step\n",
      "Epoch 41/200\n",
      "19/19 - 0s - loss: 0.5242 - accuracy: 0.7550 - val_loss: 0.5274 - val_accuracy: 0.7100 - 57ms/epoch - 3ms/step\n",
      "Epoch 42/200\n",
      "19/19 - 0s - loss: 0.5198 - accuracy: 0.7583 - val_loss: 0.5265 - val_accuracy: 0.7100 - 57ms/epoch - 3ms/step\n",
      "Epoch 43/200\n",
      "19/19 - 0s - loss: 0.5175 - accuracy: 0.7567 - val_loss: 0.5240 - val_accuracy: 0.7300 - 56ms/epoch - 3ms/step\n",
      "Epoch 44/200\n",
      "19/19 - 0s - loss: 0.5160 - accuracy: 0.7500 - val_loss: 0.5264 - val_accuracy: 0.7100 - 57ms/epoch - 3ms/step\n",
      "Epoch 45/200\n",
      "19/19 - 0s - loss: 0.5235 - accuracy: 0.7517 - val_loss: 0.5230 - val_accuracy: 0.7200 - 64ms/epoch - 3ms/step\n",
      "Epoch 46/200\n",
      "19/19 - 0s - loss: 0.5160 - accuracy: 0.7550 - val_loss: 0.5181 - val_accuracy: 0.7500 - 57ms/epoch - 3ms/step\n",
      "Epoch 47/200\n",
      "19/19 - 0s - loss: 0.5135 - accuracy: 0.7600 - val_loss: 0.5145 - val_accuracy: 0.7300 - 56ms/epoch - 3ms/step\n",
      "Epoch 48/200\n",
      "19/19 - 0s - loss: 0.5123 - accuracy: 0.7483 - val_loss: 0.5229 - val_accuracy: 0.7600 - 62ms/epoch - 3ms/step\n",
      "Epoch 49/200\n",
      "19/19 - 0s - loss: 0.5172 - accuracy: 0.7433 - val_loss: 0.5118 - val_accuracy: 0.7400 - 60ms/epoch - 3ms/step\n",
      "Epoch 50/200\n",
      "19/19 - 0s - loss: 0.5094 - accuracy: 0.7600 - val_loss: 0.5167 - val_accuracy: 0.7000 - 51ms/epoch - 3ms/step\n",
      "Epoch 51/200\n",
      "19/19 - 0s - loss: 0.5136 - accuracy: 0.7417 - val_loss: 0.5133 - val_accuracy: 0.7500 - 59ms/epoch - 3ms/step\n",
      "Epoch 52/200\n",
      "19/19 - 0s - loss: 0.5088 - accuracy: 0.7600 - val_loss: 0.5153 - val_accuracy: 0.7400 - 57ms/epoch - 3ms/step\n",
      "Epoch 53/200\n",
      "19/19 - 0s - loss: 0.5046 - accuracy: 0.7550 - val_loss: 0.5111 - val_accuracy: 0.7300 - 54ms/epoch - 3ms/step\n",
      "Epoch 54/200\n",
      "19/19 - 0s - loss: 0.5033 - accuracy: 0.7583 - val_loss: 0.5060 - val_accuracy: 0.7500 - 58ms/epoch - 3ms/step\n",
      "Epoch 55/200\n",
      "19/19 - 0s - loss: 0.5030 - accuracy: 0.7583 - val_loss: 0.5090 - val_accuracy: 0.7300 - 59ms/epoch - 3ms/step\n",
      "Epoch 56/200\n",
      "19/19 - 0s - loss: 0.5014 - accuracy: 0.7633 - val_loss: 0.5085 - val_accuracy: 0.7400 - 57ms/epoch - 3ms/step\n",
      "Epoch 57/200\n",
      "19/19 - 0s - loss: 0.5019 - accuracy: 0.7633 - val_loss: 0.5064 - val_accuracy: 0.7400 - 62ms/epoch - 3ms/step\n",
      "Epoch 58/200\n",
      "19/19 - 0s - loss: 0.5035 - accuracy: 0.7683 - val_loss: 0.5066 - val_accuracy: 0.7300 - 61ms/epoch - 3ms/step\n",
      "Epoch 59/200\n",
      "19/19 - 0s - loss: 0.5007 - accuracy: 0.7550 - val_loss: 0.5056 - val_accuracy: 0.7700 - 57ms/epoch - 3ms/step\n",
      "Epoch 60/200\n",
      "19/19 - 0s - loss: 0.5034 - accuracy: 0.7650 - val_loss: 0.5011 - val_accuracy: 0.7600 - 54ms/epoch - 3ms/step\n",
      "Epoch 61/200\n",
      "19/19 - 0s - loss: 0.4988 - accuracy: 0.7700 - val_loss: 0.5080 - val_accuracy: 0.7000 - 60ms/epoch - 3ms/step\n",
      "Epoch 62/200\n",
      "19/19 - 0s - loss: 0.5006 - accuracy: 0.7517 - val_loss: 0.5121 - val_accuracy: 0.7600 - 54ms/epoch - 3ms/step\n",
      "Epoch 63/200\n",
      "19/19 - 0s - loss: 0.5042 - accuracy: 0.7567 - val_loss: 0.5085 - val_accuracy: 0.7200 - 55ms/epoch - 3ms/step\n",
      "Epoch 64/200\n",
      "19/19 - 0s - loss: 0.4965 - accuracy: 0.7700 - val_loss: 0.4996 - val_accuracy: 0.7600 - 59ms/epoch - 3ms/step\n",
      "Epoch 65/200\n",
      "19/19 - 0s - loss: 0.5015 - accuracy: 0.7600 - val_loss: 0.5100 - val_accuracy: 0.7800 - 56ms/epoch - 3ms/step\n",
      "Epoch 66/200\n",
      "19/19 - 0s - loss: 0.5040 - accuracy: 0.7633 - val_loss: 0.4980 - val_accuracy: 0.7600 - 90ms/epoch - 5ms/step\n",
      "Epoch 67/200\n",
      "19/19 - 0s - loss: 0.4931 - accuracy: 0.7583 - val_loss: 0.4967 - val_accuracy: 0.7600 - 59ms/epoch - 3ms/step\n"
     ]
    },
    {
     "name": "stdout",
     "output_type": "stream",
     "text": [
      "Epoch 68/200\n",
      "19/19 - 0s - loss: 0.4937 - accuracy: 0.7617 - val_loss: 0.4966 - val_accuracy: 0.7300 - 60ms/epoch - 3ms/step\n",
      "Epoch 69/200\n",
      "19/19 - 0s - loss: 0.4917 - accuracy: 0.7567 - val_loss: 0.4951 - val_accuracy: 0.7600 - 65ms/epoch - 3ms/step\n",
      "Epoch 70/200\n",
      "19/19 - 0s - loss: 0.4970 - accuracy: 0.7650 - val_loss: 0.4993 - val_accuracy: 0.7600 - 63ms/epoch - 3ms/step\n",
      "Epoch 71/200\n",
      "19/19 - 0s - loss: 0.4982 - accuracy: 0.7733 - val_loss: 0.5002 - val_accuracy: 0.7400 - 63ms/epoch - 3ms/step\n",
      "Epoch 72/200\n",
      "19/19 - 0s - loss: 0.4922 - accuracy: 0.7733 - val_loss: 0.4923 - val_accuracy: 0.7500 - 62ms/epoch - 3ms/step\n",
      "Epoch 73/200\n",
      "19/19 - 0s - loss: 0.4898 - accuracy: 0.7683 - val_loss: 0.4927 - val_accuracy: 0.7700 - 62ms/epoch - 3ms/step\n",
      "Epoch 74/200\n",
      "19/19 - 0s - loss: 0.4887 - accuracy: 0.7767 - val_loss: 0.4957 - val_accuracy: 0.7200 - 62ms/epoch - 3ms/step\n",
      "Epoch 75/200\n",
      "19/19 - 0s - loss: 0.4879 - accuracy: 0.7667 - val_loss: 0.4920 - val_accuracy: 0.7700 - 65ms/epoch - 3ms/step\n",
      "Epoch 76/200\n",
      "19/19 - 0s - loss: 0.4879 - accuracy: 0.7667 - val_loss: 0.4891 - val_accuracy: 0.7800 - 63ms/epoch - 3ms/step\n",
      "Epoch 77/200\n",
      "19/19 - 0s - loss: 0.4930 - accuracy: 0.7650 - val_loss: 0.4903 - val_accuracy: 0.7600 - 57ms/epoch - 3ms/step\n",
      "Epoch 78/200\n",
      "19/19 - 0s - loss: 0.4885 - accuracy: 0.7667 - val_loss: 0.4915 - val_accuracy: 0.7300 - 60ms/epoch - 3ms/step\n",
      "Epoch 79/200\n",
      "19/19 - 0s - loss: 0.4885 - accuracy: 0.7683 - val_loss: 0.4899 - val_accuracy: 0.7700 - 61ms/epoch - 3ms/step\n",
      "Epoch 80/200\n",
      "19/19 - 0s - loss: 0.4868 - accuracy: 0.7650 - val_loss: 0.4886 - val_accuracy: 0.7500 - 59ms/epoch - 3ms/step\n",
      "Epoch 81/200\n",
      "19/19 - 0s - loss: 0.4848 - accuracy: 0.7733 - val_loss: 0.4894 - val_accuracy: 0.7700 - 59ms/epoch - 3ms/step\n",
      "Epoch 82/200\n",
      "19/19 - 0s - loss: 0.4841 - accuracy: 0.7633 - val_loss: 0.4887 - val_accuracy: 0.7500 - 56ms/epoch - 3ms/step\n",
      "Epoch 83/200\n",
      "19/19 - 0s - loss: 0.4916 - accuracy: 0.7600 - val_loss: 0.4899 - val_accuracy: 0.7700 - 53ms/epoch - 3ms/step\n",
      "Epoch 84/200\n",
      "19/19 - 0s - loss: 0.4885 - accuracy: 0.7650 - val_loss: 0.4885 - val_accuracy: 0.7700 - 56ms/epoch - 3ms/step\n",
      "Epoch 85/200\n",
      "19/19 - 0s - loss: 0.4860 - accuracy: 0.7783 - val_loss: 0.4878 - val_accuracy: 0.7400 - 56ms/epoch - 3ms/step\n",
      "Epoch 86/200\n",
      "19/19 - 0s - loss: 0.4833 - accuracy: 0.7767 - val_loss: 0.4893 - val_accuracy: 0.7500 - 57ms/epoch - 3ms/step\n",
      "Epoch 87/200\n",
      "19/19 - 0s - loss: 0.4828 - accuracy: 0.7783 - val_loss: 0.4880 - val_accuracy: 0.7400 - 57ms/epoch - 3ms/step\n",
      "Epoch 88/200\n",
      "19/19 - 0s - loss: 0.4908 - accuracy: 0.7700 - val_loss: 0.4922 - val_accuracy: 0.7800 - 56ms/epoch - 3ms/step\n",
      "Epoch 89/200\n",
      "19/19 - 0s - loss: 0.4834 - accuracy: 0.7767 - val_loss: 0.4933 - val_accuracy: 0.7800 - 57ms/epoch - 3ms/step\n",
      "Epoch 90/200\n",
      "19/19 - 0s - loss: 0.4823 - accuracy: 0.7683 - val_loss: 0.4855 - val_accuracy: 0.7800 - 57ms/epoch - 3ms/step\n",
      "Epoch 91/200\n",
      "19/19 - 0s - loss: 0.4812 - accuracy: 0.7717 - val_loss: 0.4865 - val_accuracy: 0.7400 - 57ms/epoch - 3ms/step\n",
      "Epoch 92/200\n",
      "19/19 - 0s - loss: 0.4815 - accuracy: 0.7783 - val_loss: 0.4883 - val_accuracy: 0.7500 - 56ms/epoch - 3ms/step\n",
      "Epoch 93/200\n",
      "19/19 - 0s - loss: 0.4787 - accuracy: 0.7733 - val_loss: 0.4854 - val_accuracy: 0.7900 - 56ms/epoch - 3ms/step\n",
      "Epoch 94/200\n",
      "19/19 - 0s - loss: 0.4796 - accuracy: 0.7650 - val_loss: 0.4890 - val_accuracy: 0.7100 - 55ms/epoch - 3ms/step\n",
      "Epoch 95/200\n",
      "19/19 - 0s - loss: 0.4847 - accuracy: 0.7767 - val_loss: 0.4882 - val_accuracy: 0.7500 - 56ms/epoch - 3ms/step\n",
      "Epoch 96/200\n",
      "19/19 - 0s - loss: 0.4830 - accuracy: 0.7733 - val_loss: 0.4940 - val_accuracy: 0.7200 - 57ms/epoch - 3ms/step\n",
      "Epoch 97/200\n",
      "19/19 - 0s - loss: 0.4778 - accuracy: 0.7750 - val_loss: 0.4870 - val_accuracy: 0.7600 - 56ms/epoch - 3ms/step\n",
      "Epoch 98/200\n",
      "19/19 - 0s - loss: 0.4790 - accuracy: 0.7717 - val_loss: 0.4856 - val_accuracy: 0.7500 - 59ms/epoch - 3ms/step\n",
      "Epoch 99/200\n",
      "19/19 - 0s - loss: 0.4811 - accuracy: 0.7800 - val_loss: 0.4885 - val_accuracy: 0.7100 - 55ms/epoch - 3ms/step\n",
      "Epoch 100/200\n",
      "19/19 - 0s - loss: 0.4819 - accuracy: 0.7733 - val_loss: 0.4861 - val_accuracy: 0.7100 - 61ms/epoch - 3ms/step\n",
      "Epoch 101/200\n",
      "19/19 - 0s - loss: 0.4780 - accuracy: 0.7733 - val_loss: 0.4871 - val_accuracy: 0.7700 - 60ms/epoch - 3ms/step\n",
      "Epoch 102/200\n",
      "19/19 - 0s - loss: 0.4814 - accuracy: 0.7817 - val_loss: 0.5116 - val_accuracy: 0.7600 - 62ms/epoch - 3ms/step\n",
      "Epoch 103/200\n",
      "19/19 - 0s - loss: 0.4944 - accuracy: 0.7417 - val_loss: 0.4868 - val_accuracy: 0.7900 - 60ms/epoch - 3ms/step\n",
      "Epoch 104/200\n",
      "19/19 - 0s - loss: 0.4910 - accuracy: 0.7583 - val_loss: 0.5068 - val_accuracy: 0.6900 - 56ms/epoch - 3ms/step\n",
      "Epoch 105/200\n",
      "19/19 - 0s - loss: 0.4770 - accuracy: 0.7617 - val_loss: 0.4933 - val_accuracy: 0.7900 - 61ms/epoch - 3ms/step\n",
      "Epoch 106/200\n",
      "19/19 - 0s - loss: 0.4748 - accuracy: 0.7700 - val_loss: 0.4851 - val_accuracy: 0.7400 - 59ms/epoch - 3ms/step\n",
      "Epoch 107/200\n",
      "19/19 - 0s - loss: 0.4726 - accuracy: 0.7817 - val_loss: 0.4859 - val_accuracy: 0.7800 - 58ms/epoch - 3ms/step\n",
      "Epoch 108/200\n",
      "19/19 - 0s - loss: 0.4832 - accuracy: 0.7650 - val_loss: 0.5021 - val_accuracy: 0.7100 - 59ms/epoch - 3ms/step\n",
      "Epoch 109/200\n",
      "19/19 - 0s - loss: 0.4826 - accuracy: 0.7667 - val_loss: 0.4789 - val_accuracy: 0.7800 - 54ms/epoch - 3ms/step\n",
      "Epoch 110/200\n",
      "19/19 - 0s - loss: 0.4729 - accuracy: 0.7800 - val_loss: 0.4883 - val_accuracy: 0.7500 - 55ms/epoch - 3ms/step\n",
      "Epoch 111/200\n",
      "19/19 - 0s - loss: 0.4733 - accuracy: 0.7867 - val_loss: 0.4888 - val_accuracy: 0.7800 - 58ms/epoch - 3ms/step\n",
      "Epoch 112/200\n",
      "19/19 - 0s - loss: 0.4706 - accuracy: 0.7800 - val_loss: 0.4809 - val_accuracy: 0.7800 - 56ms/epoch - 3ms/step\n",
      "Epoch 113/200\n",
      "19/19 - 0s - loss: 0.4769 - accuracy: 0.7633 - val_loss: 0.4819 - val_accuracy: 0.7900 - 55ms/epoch - 3ms/step\n",
      "Epoch 114/200\n",
      "19/19 - 0s - loss: 0.4752 - accuracy: 0.7817 - val_loss: 0.4930 - val_accuracy: 0.7700 - 59ms/epoch - 3ms/step\n",
      "Epoch 115/200\n",
      "19/19 - 0s - loss: 0.4762 - accuracy: 0.7617 - val_loss: 0.4864 - val_accuracy: 0.7500 - 52ms/epoch - 3ms/step\n",
      "Epoch 116/200\n",
      "19/19 - 0s - loss: 0.4693 - accuracy: 0.7817 - val_loss: 0.4878 - val_accuracy: 0.7700 - 54ms/epoch - 3ms/step\n",
      "Epoch 117/200\n",
      "19/19 - 0s - loss: 0.4717 - accuracy: 0.7783 - val_loss: 0.4815 - val_accuracy: 0.7900 - 54ms/epoch - 3ms/step\n",
      "Epoch 118/200\n",
      "19/19 - 0s - loss: 0.4697 - accuracy: 0.7750 - val_loss: 0.5013 - val_accuracy: 0.7600 - 53ms/epoch - 3ms/step\n",
      "Epoch 119/200\n",
      "19/19 - 0s - loss: 0.4791 - accuracy: 0.7667 - val_loss: 0.4867 - val_accuracy: 0.7800 - 53ms/epoch - 3ms/step\n",
      "Epoch 120/200\n",
      "19/19 - 0s - loss: 0.4683 - accuracy: 0.7700 - val_loss: 0.4834 - val_accuracy: 0.7800 - 55ms/epoch - 3ms/step\n",
      "Epoch 121/200\n",
      "19/19 - 0s - loss: 0.4665 - accuracy: 0.7783 - val_loss: 0.4821 - val_accuracy: 0.7700 - 58ms/epoch - 3ms/step\n",
      "Epoch 122/200\n",
      "19/19 - 0s - loss: 0.4694 - accuracy: 0.7833 - val_loss: 0.4842 - val_accuracy: 0.7800 - 55ms/epoch - 3ms/step\n",
      "Epoch 123/200\n",
      "19/19 - 0s - loss: 0.4748 - accuracy: 0.7633 - val_loss: 0.4844 - val_accuracy: 0.7600 - 60ms/epoch - 3ms/step\n",
      "Epoch 124/200\n",
      "19/19 - 0s - loss: 0.4721 - accuracy: 0.7717 - val_loss: 0.5251 - val_accuracy: 0.7000 - 56ms/epoch - 3ms/step\n",
      "Epoch 125/200\n",
      "19/19 - 0s - loss: 0.4732 - accuracy: 0.7650 - val_loss: 0.5133 - val_accuracy: 0.7500 - 56ms/epoch - 3ms/step\n",
      "Epoch 126/200\n",
      "19/19 - 0s - loss: 0.4807 - accuracy: 0.7633 - val_loss: 0.4906 - val_accuracy: 0.7700 - 57ms/epoch - 3ms/step\n",
      "Epoch 127/200\n",
      "19/19 - 0s - loss: 0.4704 - accuracy: 0.7850 - val_loss: 0.4891 - val_accuracy: 0.7800 - 63ms/epoch - 3ms/step\n",
      "Epoch 128/200\n",
      "19/19 - 0s - loss: 0.4682 - accuracy: 0.7750 - val_loss: 0.4872 - val_accuracy: 0.7800 - 65ms/epoch - 3ms/step\n",
      "Epoch 129/200\n",
      "19/19 - 0s - loss: 0.4674 - accuracy: 0.7700 - val_loss: 0.4819 - val_accuracy: 0.7700 - 60ms/epoch - 3ms/step\n",
      "Epoch 130/200\n",
      "19/19 - 0s - loss: 0.4707 - accuracy: 0.7817 - val_loss: 0.4896 - val_accuracy: 0.7700 - 62ms/epoch - 3ms/step\n",
      "Epoch 131/200\n",
      "19/19 - 0s - loss: 0.4634 - accuracy: 0.7767 - val_loss: 0.4902 - val_accuracy: 0.7700 - 59ms/epoch - 3ms/step\n",
      "Epoch 132/200\n",
      "19/19 - 0s - loss: 0.4707 - accuracy: 0.7717 - val_loss: 0.4877 - val_accuracy: 0.7900 - 64ms/epoch - 3ms/step\n",
      "Epoch 133/200\n",
      "19/19 - 0s - loss: 0.4672 - accuracy: 0.7767 - val_loss: 0.5238 - val_accuracy: 0.7100 - 64ms/epoch - 3ms/step\n"
     ]
    },
    {
     "name": "stdout",
     "output_type": "stream",
     "text": [
      "Epoch 134/200\n",
      "19/19 - 0s - loss: 0.4859 - accuracy: 0.7617 - val_loss: 0.4937 - val_accuracy: 0.7900 - 61ms/epoch - 3ms/step\n",
      "Epoch 135/200\n",
      "19/19 - 0s - loss: 0.4678 - accuracy: 0.7700 - val_loss: 0.4786 - val_accuracy: 0.7700 - 64ms/epoch - 3ms/step\n",
      "Epoch 136/200\n",
      "19/19 - 0s - loss: 0.4679 - accuracy: 0.7817 - val_loss: 0.4921 - val_accuracy: 0.7600 - 62ms/epoch - 3ms/step\n",
      "Epoch 137/200\n",
      "19/19 - 0s - loss: 0.4637 - accuracy: 0.7667 - val_loss: 0.4806 - val_accuracy: 0.7800 - 58ms/epoch - 3ms/step\n",
      "Epoch 138/200\n",
      "19/19 - 0s - loss: 0.4631 - accuracy: 0.7750 - val_loss: 0.4895 - val_accuracy: 0.7700 - 57ms/epoch - 3ms/step\n",
      "Epoch 139/200\n",
      "19/19 - 0s - loss: 0.4659 - accuracy: 0.7717 - val_loss: 0.4832 - val_accuracy: 0.7700 - 54ms/epoch - 3ms/step\n",
      "Epoch 140/200\n",
      "19/19 - 0s - loss: 0.4662 - accuracy: 0.7883 - val_loss: 0.4990 - val_accuracy: 0.7500 - 56ms/epoch - 3ms/step\n",
      "Epoch 141/200\n",
      "19/19 - 0s - loss: 0.4690 - accuracy: 0.7750 - val_loss: 0.5022 - val_accuracy: 0.7400 - 58ms/epoch - 3ms/step\n",
      "Epoch 142/200\n",
      "19/19 - 0s - loss: 0.4724 - accuracy: 0.7783 - val_loss: 0.5080 - val_accuracy: 0.7500 - 55ms/epoch - 3ms/step\n",
      "Epoch 143/200\n",
      "19/19 - 0s - loss: 0.4676 - accuracy: 0.7867 - val_loss: 0.4885 - val_accuracy: 0.7700 - 57ms/epoch - 3ms/step\n",
      "Epoch 144/200\n",
      "19/19 - 0s - loss: 0.4651 - accuracy: 0.7850 - val_loss: 0.4831 - val_accuracy: 0.7900 - 56ms/epoch - 3ms/step\n",
      "Epoch 145/200\n",
      "19/19 - 0s - loss: 0.4677 - accuracy: 0.7733 - val_loss: 0.4989 - val_accuracy: 0.7400 - 59ms/epoch - 3ms/step\n",
      "Epoch 146/200\n",
      "19/19 - 0s - loss: 0.4620 - accuracy: 0.7833 - val_loss: 0.4896 - val_accuracy: 0.7900 - 56ms/epoch - 3ms/step\n",
      "Epoch 147/200\n",
      "19/19 - 0s - loss: 0.4610 - accuracy: 0.7800 - val_loss: 0.4958 - val_accuracy: 0.7600 - 57ms/epoch - 3ms/step\n",
      "Epoch 148/200\n",
      "19/19 - 0s - loss: 0.4700 - accuracy: 0.7733 - val_loss: 0.4918 - val_accuracy: 0.7900 - 54ms/epoch - 3ms/step\n",
      "Epoch 149/200\n",
      "19/19 - 0s - loss: 0.4623 - accuracy: 0.7783 - val_loss: 0.4896 - val_accuracy: 0.7700 - 53ms/epoch - 3ms/step\n",
      "Epoch 150/200\n",
      "19/19 - 0s - loss: 0.4622 - accuracy: 0.7800 - val_loss: 0.4835 - val_accuracy: 0.8000 - 58ms/epoch - 3ms/step\n",
      "Epoch 151/200\n",
      "19/19 - 0s - loss: 0.4609 - accuracy: 0.7800 - val_loss: 0.4881 - val_accuracy: 0.7900 - 53ms/epoch - 3ms/step\n",
      "Epoch 152/200\n",
      "19/19 - 0s - loss: 0.4604 - accuracy: 0.7817 - val_loss: 0.5024 - val_accuracy: 0.7600 - 55ms/epoch - 3ms/step\n",
      "Epoch 153/200\n",
      "19/19 - 0s - loss: 0.4700 - accuracy: 0.7683 - val_loss: 0.4886 - val_accuracy: 0.7700 - 63ms/epoch - 3ms/step\n",
      "Epoch 154/200\n",
      "19/19 - 0s - loss: 0.4629 - accuracy: 0.7833 - val_loss: 0.4815 - val_accuracy: 0.7700 - 65ms/epoch - 3ms/step\n",
      "Epoch 155/200\n",
      "19/19 - 0s - loss: 0.4660 - accuracy: 0.7833 - val_loss: 0.5079 - val_accuracy: 0.7600 - 63ms/epoch - 3ms/step\n",
      "Epoch 156/200\n",
      "19/19 - 0s - loss: 0.4747 - accuracy: 0.7850 - val_loss: 0.4838 - val_accuracy: 0.8000 - 57ms/epoch - 3ms/step\n",
      "Epoch 157/200\n",
      "19/19 - 0s - loss: 0.4657 - accuracy: 0.7733 - val_loss: 0.4835 - val_accuracy: 0.7900 - 55ms/epoch - 3ms/step\n",
      "Epoch 158/200\n",
      "19/19 - 0s - loss: 0.4555 - accuracy: 0.7817 - val_loss: 0.4899 - val_accuracy: 0.7600 - 58ms/epoch - 3ms/step\n",
      "Epoch 159/200\n",
      "19/19 - 0s - loss: 0.4637 - accuracy: 0.7800 - val_loss: 0.4992 - val_accuracy: 0.8000 - 55ms/epoch - 3ms/step\n",
      "Epoch 160/200\n",
      "19/19 - 0s - loss: 0.4674 - accuracy: 0.7800 - val_loss: 0.4801 - val_accuracy: 0.7900 - 61ms/epoch - 3ms/step\n",
      "Epoch 161/200\n",
      "19/19 - 0s - loss: 0.4644 - accuracy: 0.7750 - val_loss: 0.4964 - val_accuracy: 0.7800 - 83ms/epoch - 4ms/step\n",
      "Epoch 162/200\n",
      "19/19 - 0s - loss: 0.4588 - accuracy: 0.7800 - val_loss: 0.4870 - val_accuracy: 0.7800 - 57ms/epoch - 3ms/step\n",
      "Epoch 163/200\n",
      "19/19 - 0s - loss: 0.4520 - accuracy: 0.7833 - val_loss: 0.4896 - val_accuracy: 0.7900 - 56ms/epoch - 3ms/step\n",
      "Epoch 164/200\n",
      "19/19 - 0s - loss: 0.4559 - accuracy: 0.7717 - val_loss: 0.4882 - val_accuracy: 0.7900 - 58ms/epoch - 3ms/step\n",
      "Epoch 165/200\n",
      "19/19 - 0s - loss: 0.4534 - accuracy: 0.7933 - val_loss: 0.5043 - val_accuracy: 0.7600 - 56ms/epoch - 3ms/step\n",
      "Epoch 166/200\n",
      "19/19 - 0s - loss: 0.4611 - accuracy: 0.7817 - val_loss: 0.4934 - val_accuracy: 0.7700 - 61ms/epoch - 3ms/step\n",
      "Epoch 167/200\n",
      "19/19 - 0s - loss: 0.4545 - accuracy: 0.7883 - val_loss: 0.4876 - val_accuracy: 0.7600 - 56ms/epoch - 3ms/step\n",
      "Epoch 168/200\n",
      "19/19 - 0s - loss: 0.4670 - accuracy: 0.7783 - val_loss: 0.5149 - val_accuracy: 0.7100 - 55ms/epoch - 3ms/step\n",
      "Epoch 169/200\n",
      "19/19 - 0s - loss: 0.4605 - accuracy: 0.7733 - val_loss: 0.4941 - val_accuracy: 0.7800 - 57ms/epoch - 3ms/step\n",
      "Epoch 170/200\n",
      "19/19 - 0s - loss: 0.4560 - accuracy: 0.7900 - val_loss: 0.4978 - val_accuracy: 0.7700 - 56ms/epoch - 3ms/step\n",
      "Epoch 171/200\n",
      "19/19 - 0s - loss: 0.4506 - accuracy: 0.7800 - val_loss: 0.4868 - val_accuracy: 0.7800 - 57ms/epoch - 3ms/step\n",
      "Epoch 172/200\n",
      "19/19 - 0s - loss: 0.4522 - accuracy: 0.7817 - val_loss: 0.4917 - val_accuracy: 0.7800 - 55ms/epoch - 3ms/step\n",
      "Epoch 173/200\n",
      "19/19 - 0s - loss: 0.4518 - accuracy: 0.7883 - val_loss: 0.4976 - val_accuracy: 0.7600 - 59ms/epoch - 3ms/step\n",
      "Epoch 174/200\n",
      "19/19 - 0s - loss: 0.4550 - accuracy: 0.7700 - val_loss: 0.5047 - val_accuracy: 0.7500 - 56ms/epoch - 3ms/step\n",
      "Epoch 175/200\n",
      "19/19 - 0s - loss: 0.4551 - accuracy: 0.7900 - val_loss: 0.4952 - val_accuracy: 0.7700 - 59ms/epoch - 3ms/step\n",
      "Epoch 176/200\n",
      "19/19 - 0s - loss: 0.4517 - accuracy: 0.7867 - val_loss: 0.4924 - val_accuracy: 0.7800 - 57ms/epoch - 3ms/step\n",
      "Epoch 177/200\n",
      "19/19 - 0s - loss: 0.4497 - accuracy: 0.7900 - val_loss: 0.4913 - val_accuracy: 0.7800 - 56ms/epoch - 3ms/step\n",
      "Epoch 178/200\n",
      "19/19 - 0s - loss: 0.4490 - accuracy: 0.7867 - val_loss: 0.4926 - val_accuracy: 0.7700 - 58ms/epoch - 3ms/step\n",
      "Epoch 179/200\n",
      "19/19 - 0s - loss: 0.4485 - accuracy: 0.7917 - val_loss: 0.4918 - val_accuracy: 0.7600 - 55ms/epoch - 3ms/step\n",
      "Epoch 180/200\n",
      "19/19 - 0s - loss: 0.4518 - accuracy: 0.7850 - val_loss: 0.4921 - val_accuracy: 0.7600 - 59ms/epoch - 3ms/step\n",
      "Epoch 181/200\n",
      "19/19 - 0s - loss: 0.4513 - accuracy: 0.7850 - val_loss: 0.4996 - val_accuracy: 0.7700 - 53ms/epoch - 3ms/step\n",
      "Epoch 182/200\n",
      "19/19 - 0s - loss: 0.4608 - accuracy: 0.7783 - val_loss: 0.4983 - val_accuracy: 0.7500 - 55ms/epoch - 3ms/step\n",
      "Epoch 183/200\n",
      "19/19 - 0s - loss: 0.4479 - accuracy: 0.7783 - val_loss: 0.4905 - val_accuracy: 0.7800 - 54ms/epoch - 3ms/step\n",
      "Epoch 184/200\n",
      "19/19 - 0s - loss: 0.4491 - accuracy: 0.7867 - val_loss: 0.5002 - val_accuracy: 0.7600 - 55ms/epoch - 3ms/step\n",
      "Epoch 185/200\n",
      "19/19 - 0s - loss: 0.4468 - accuracy: 0.7933 - val_loss: 0.4924 - val_accuracy: 0.7900 - 53ms/epoch - 3ms/step\n",
      "Epoch 186/200\n",
      "19/19 - 0s - loss: 0.4521 - accuracy: 0.7767 - val_loss: 0.5019 - val_accuracy: 0.7500 - 56ms/epoch - 3ms/step\n",
      "Epoch 187/200\n",
      "19/19 - 0s - loss: 0.4516 - accuracy: 0.7783 - val_loss: 0.5059 - val_accuracy: 0.7600 - 58ms/epoch - 3ms/step\n",
      "Epoch 188/200\n",
      "19/19 - 0s - loss: 0.4481 - accuracy: 0.7900 - val_loss: 0.5029 - val_accuracy: 0.7600 - 65ms/epoch - 3ms/step\n",
      "Epoch 189/200\n",
      "19/19 - 0s - loss: 0.4496 - accuracy: 0.7883 - val_loss: 0.4996 - val_accuracy: 0.7600 - 64ms/epoch - 3ms/step\n",
      "Epoch 190/200\n",
      "19/19 - 0s - loss: 0.4484 - accuracy: 0.7817 - val_loss: 0.5053 - val_accuracy: 0.7700 - 65ms/epoch - 3ms/step\n",
      "Epoch 191/200\n",
      "19/19 - 0s - loss: 0.4519 - accuracy: 0.7817 - val_loss: 0.4952 - val_accuracy: 0.7700 - 62ms/epoch - 3ms/step\n",
      "Epoch 192/200\n",
      "19/19 - 0s - loss: 0.4514 - accuracy: 0.7817 - val_loss: 0.4997 - val_accuracy: 0.7700 - 63ms/epoch - 3ms/step\n",
      "Epoch 193/200\n",
      "19/19 - 0s - loss: 0.4591 - accuracy: 0.7733 - val_loss: 0.5185 - val_accuracy: 0.7200 - 62ms/epoch - 3ms/step\n",
      "Epoch 194/200\n",
      "19/19 - 0s - loss: 0.4587 - accuracy: 0.7783 - val_loss: 0.4940 - val_accuracy: 0.7700 - 62ms/epoch - 3ms/step\n",
      "Epoch 195/200\n",
      "19/19 - 0s - loss: 0.4529 - accuracy: 0.7700 - val_loss: 0.5068 - val_accuracy: 0.7700 - 62ms/epoch - 3ms/step\n",
      "Epoch 196/200\n",
      "19/19 - 0s - loss: 0.4504 - accuracy: 0.7850 - val_loss: 0.5172 - val_accuracy: 0.7200 - 60ms/epoch - 3ms/step\n",
      "Epoch 197/200\n",
      "19/19 - 0s - loss: 0.4581 - accuracy: 0.7767 - val_loss: 0.4982 - val_accuracy: 0.7700 - 60ms/epoch - 3ms/step\n",
      "Epoch 198/200\n",
      "19/19 - 0s - loss: 0.4498 - accuracy: 0.7883 - val_loss: 0.4981 - val_accuracy: 0.7800 - 58ms/epoch - 3ms/step\n",
      "Epoch 199/200\n",
      "19/19 - 0s - loss: 0.4442 - accuracy: 0.7983 - val_loss: 0.5064 - val_accuracy: 0.7800 - 54ms/epoch - 3ms/step\n"
     ]
    },
    {
     "name": "stdout",
     "output_type": "stream",
     "text": [
      "Epoch 200/200\n",
      "19/19 - 0s - loss: 0.4463 - accuracy: 0.7883 - val_loss: 0.5066 - val_accuracy: 0.7600 - 59ms/epoch - 3ms/step\n"
     ]
    }
   ],
   "source": [
    "# 4. 모델 학습 : validation_data=[X_val, Y_val] 추가해서 학습\n",
    "hist = model.fit(X_train, Y_train,\n",
    "                 epochs=200,\n",
    "                 verbose=2,\n",
    "                 validation_data=[X_val, Y_val]\n",
    "                )"
   ]
  },
  {
   "cell_type": "code",
   "execution_count": 140,
   "id": "f3890c17",
   "metadata": {},
   "outputs": [
    {
     "name": "stdout",
     "output_type": "stream",
     "text": [
      "dict_keys(['loss', 'accuracy', 'val_loss', 'val_accuracy'])\n",
      "3/3 [==============================] - 0s 2ms/step - loss: 0.6375 - accuracy: 0.7647\n",
      "loss : 0.6375336647033691, 정확도 ; 76.47058963775635%\n",
      "3/3 [==============================] - 0s 3ms/step\n"
     ]
    },
    {
     "data": {
      "text/html": [
       "<div>\n",
       "<style scoped>\n",
       "    .dataframe tbody tr th:only-of-type {\n",
       "        vertical-align: middle;\n",
       "    }\n",
       "\n",
       "    .dataframe tbody tr th {\n",
       "        vertical-align: top;\n",
       "    }\n",
       "\n",
       "    .dataframe thead th {\n",
       "        text-align: right;\n",
       "    }\n",
       "</style>\n",
       "<table border=\"1\" class=\"dataframe\">\n",
       "  <thead>\n",
       "    <tr style=\"text-align: right;\">\n",
       "      <th>예측값</th>\n",
       "      <th>0</th>\n",
       "      <th>1</th>\n",
       "    </tr>\n",
       "    <tr>\n",
       "      <th>실제값</th>\n",
       "      <th></th>\n",
       "      <th></th>\n",
       "    </tr>\n",
       "  </thead>\n",
       "  <tbody>\n",
       "    <tr>\n",
       "      <th>0</th>\n",
       "      <td>37</td>\n",
       "      <td>4</td>\n",
       "    </tr>\n",
       "    <tr>\n",
       "      <th>1</th>\n",
       "      <td>12</td>\n",
       "      <td>15</td>\n",
       "    </tr>\n",
       "  </tbody>\n",
       "</table>\n",
       "</div>"
      ],
      "text/plain": [
       "예측값   0   1\n",
       "실제값        \n",
       "0    37   4\n",
       "1    12  15"
      ]
     },
     "execution_count": 140,
     "metadata": {},
     "output_type": "execute_result"
    }
   ],
   "source": [
    "# 5. 모델 학습 평가 : 그래프(hist.history.keys()를 확인후 4가지)\n",
    "#                   평가(X_test, Y_test)\n",
    "#                   교차표(pd.crosstab 이용)\n",
    "print(hist.history.keys())\n",
    "score = model.evaluate(X_test, Y_test)\n",
    "print('loss : {}, 정확도 ; {}%'.format(score[0], score[1]*100))\n",
    "Y_hat = model.predict(X_test).argmax(axis=1)\n",
    "ctab = pd.crosstab(Y_test.argmax(axis=1), Y_hat)\n",
    "ctab.index.name='실제값'\n",
    "ctab.columns.name = '예측값'\n",
    "ctab"
   ]
  },
  {
   "cell_type": "code",
   "execution_count": 146,
   "id": "c77544f0",
   "metadata": {},
   "outputs": [
    {
     "ename": "InvalidArgumentError",
     "evalue": "Graph execution error:\n\nDetected at node 'sequential_14/dense_40/Elu' defined at (most recent call last):\n    File \"C:\\Users\\4545\\anaconda3\\lib\\runpy.py\", line 196, in _run_module_as_main\n      return _run_code(code, main_globals, None,\n    File \"C:\\Users\\4545\\anaconda3\\lib\\runpy.py\", line 86, in _run_code\n      exec(code, run_globals)\n    File \"C:\\Users\\4545\\anaconda3\\lib\\site-packages\\ipykernel_launcher.py\", line 17, in <module>\n      app.launch_new_instance()\n    File \"C:\\Users\\4545\\anaconda3\\lib\\site-packages\\traitlets\\config\\application.py\", line 992, in launch_instance\n      app.start()\n    File \"C:\\Users\\4545\\anaconda3\\lib\\site-packages\\ipykernel\\kernelapp.py\", line 711, in start\n      self.io_loop.start()\n    File \"C:\\Users\\4545\\anaconda3\\lib\\site-packages\\tornado\\platform\\asyncio.py\", line 199, in start\n      self.asyncio_loop.run_forever()\n    File \"C:\\Users\\4545\\anaconda3\\lib\\asyncio\\base_events.py\", line 603, in run_forever\n      self._run_once()\n    File \"C:\\Users\\4545\\anaconda3\\lib\\asyncio\\base_events.py\", line 1906, in _run_once\n      handle._run()\n    File \"C:\\Users\\4545\\anaconda3\\lib\\asyncio\\events.py\", line 80, in _run\n      self._context.run(self._callback, *self._args)\n    File \"C:\\Users\\4545\\anaconda3\\lib\\site-packages\\ipykernel\\kernelbase.py\", line 510, in dispatch_queue\n      await self.process_one()\n    File \"C:\\Users\\4545\\anaconda3\\lib\\site-packages\\ipykernel\\kernelbase.py\", line 499, in process_one\n      await dispatch(*args)\n    File \"C:\\Users\\4545\\anaconda3\\lib\\site-packages\\ipykernel\\kernelbase.py\", line 406, in dispatch_shell\n      await result\n    File \"C:\\Users\\4545\\anaconda3\\lib\\site-packages\\ipykernel\\kernelbase.py\", line 729, in execute_request\n      reply_content = await reply_content\n    File \"C:\\Users\\4545\\anaconda3\\lib\\site-packages\\ipykernel\\ipkernel.py\", line 411, in do_execute\n      res = shell.run_cell(\n    File \"C:\\Users\\4545\\anaconda3\\lib\\site-packages\\ipykernel\\zmqshell.py\", line 531, in run_cell\n      return super().run_cell(*args, **kwargs)\n    File \"C:\\Users\\4545\\anaconda3\\lib\\site-packages\\IPython\\core\\interactiveshell.py\", line 2961, in run_cell\n      result = self._run_cell(\n    File \"C:\\Users\\4545\\anaconda3\\lib\\site-packages\\IPython\\core\\interactiveshell.py\", line 3016, in _run_cell\n      result = runner(coro)\n    File \"C:\\Users\\4545\\anaconda3\\lib\\site-packages\\IPython\\core\\async_helpers.py\", line 129, in _pseudo_sync_runner\n      coro.send(None)\n    File \"C:\\Users\\4545\\anaconda3\\lib\\site-packages\\IPython\\core\\interactiveshell.py\", line 3221, in run_cell_async\n      has_raised = await self.run_ast_nodes(code_ast.body, cell_name,\n    File \"C:\\Users\\4545\\anaconda3\\lib\\site-packages\\IPython\\core\\interactiveshell.py\", line 3400, in run_ast_nodes\n      if await self.run_code(code, result, async_=asy):\n    File \"C:\\Users\\4545\\anaconda3\\lib\\site-packages\\IPython\\core\\interactiveshell.py\", line 3460, in run_code\n      exec(code_obj, self.user_global_ns, self.user_ns)\n    File \"C:\\Users\\4545\\AppData\\Local\\Temp\\ipykernel_12972\\980769373.py\", line 4, in <module>\n      model.predict(X_test[0])\n    File \"C:\\Users\\4545\\anaconda3\\lib\\site-packages\\keras\\utils\\traceback_utils.py\", line 65, in error_handler\n      return fn(*args, **kwargs)\n    File \"C:\\Users\\4545\\anaconda3\\lib\\site-packages\\keras\\engine\\training.py\", line 2253, in predict\n      tmp_batch_outputs = self.predict_function(iterator)\n    File \"C:\\Users\\4545\\anaconda3\\lib\\site-packages\\keras\\engine\\training.py\", line 2041, in predict_function\n      return step_function(self, iterator)\n    File \"C:\\Users\\4545\\anaconda3\\lib\\site-packages\\keras\\engine\\training.py\", line 2027, in step_function\n      outputs = model.distribute_strategy.run(run_step, args=(data,))\n    File \"C:\\Users\\4545\\anaconda3\\lib\\site-packages\\keras\\engine\\training.py\", line 2015, in run_step\n      outputs = model.predict_step(data)\n    File \"C:\\Users\\4545\\anaconda3\\lib\\site-packages\\keras\\engine\\training.py\", line 1983, in predict_step\n      return self(x, training=False)\n    File \"C:\\Users\\4545\\anaconda3\\lib\\site-packages\\keras\\utils\\traceback_utils.py\", line 65, in error_handler\n      return fn(*args, **kwargs)\n    File \"C:\\Users\\4545\\anaconda3\\lib\\site-packages\\keras\\engine\\training.py\", line 557, in __call__\n      return super().__call__(*args, **kwargs)\n    File \"C:\\Users\\4545\\anaconda3\\lib\\site-packages\\keras\\utils\\traceback_utils.py\", line 65, in error_handler\n      return fn(*args, **kwargs)\n    File \"C:\\Users\\4545\\anaconda3\\lib\\site-packages\\keras\\engine\\base_layer.py\", line 1097, in __call__\n      outputs = call_fn(inputs, *args, **kwargs)\n    File \"C:\\Users\\4545\\anaconda3\\lib\\site-packages\\keras\\utils\\traceback_utils.py\", line 96, in error_handler\n      return fn(*args, **kwargs)\n    File \"C:\\Users\\4545\\anaconda3\\lib\\site-packages\\keras\\engine\\sequential.py\", line 410, in call\n      return super().call(inputs, training=training, mask=mask)\n    File \"C:\\Users\\4545\\anaconda3\\lib\\site-packages\\keras\\engine\\functional.py\", line 510, in call\n      return self._run_internal_graph(inputs, training=training, mask=mask)\n    File \"C:\\Users\\4545\\anaconda3\\lib\\site-packages\\keras\\engine\\functional.py\", line 667, in _run_internal_graph\n      outputs = node.layer(*args, **kwargs)\n    File \"C:\\Users\\4545\\anaconda3\\lib\\site-packages\\keras\\utils\\traceback_utils.py\", line 65, in error_handler\n      return fn(*args, **kwargs)\n    File \"C:\\Users\\4545\\anaconda3\\lib\\site-packages\\keras\\engine\\base_layer.py\", line 1097, in __call__\n      outputs = call_fn(inputs, *args, **kwargs)\n    File \"C:\\Users\\4545\\anaconda3\\lib\\site-packages\\keras\\utils\\traceback_utils.py\", line 96, in error_handler\n      return fn(*args, **kwargs)\n    File \"C:\\Users\\4545\\anaconda3\\lib\\site-packages\\keras\\layers\\core\\dense.py\", line 255, in call\n      outputs = self.activation(outputs)\n    File \"C:\\Users\\4545\\anaconda3\\lib\\site-packages\\keras\\activations.py\", line 148, in elu\n      return backend.elu(x, alpha)\n    File \"C:\\Users\\4545\\anaconda3\\lib\\site-packages\\keras\\backend.py\", line 5392, in elu\n      res = tf.nn.elu(x)\nNode: 'sequential_14/dense_40/Elu'\nIn[0] and In[1] has different ndims: [8] vs. [8,12]\n\t [[{{node sequential_14/dense_40/Elu}}]] [Op:__inference_predict_function_287903]",
     "output_type": "error",
     "traceback": [
      "\u001b[1;31m---------------------------------------------------------------------------\u001b[0m",
      "\u001b[1;31mInvalidArgumentError\u001b[0m                      Traceback (most recent call last)",
      "Cell \u001b[1;32mIn[146], line 4\u001b[0m\n\u001b[0;32m      1\u001b[0m \u001b[38;5;66;03m# 6. 모델 사용하기 - 예측\u001b[39;00m\n\u001b[0;32m      2\u001b[0m \u001b[38;5;66;03m#                  0        1\u001b[39;00m\n\u001b[0;32m      3\u001b[0m \u001b[38;5;66;03m#                  0.9912   0.00124\u001b[39;00m\n\u001b[1;32m----> 4\u001b[0m \u001b[43mmodel\u001b[49m\u001b[38;5;241;43m.\u001b[39;49m\u001b[43mpredict\u001b[49m\u001b[43m(\u001b[49m\u001b[43mX_test\u001b[49m\u001b[43m[\u001b[49m\u001b[38;5;241;43m0\u001b[39;49m\u001b[43m]\u001b[49m\u001b[43m)\u001b[49m\n",
      "File \u001b[1;32m~\\anaconda3\\lib\\site-packages\\keras\\utils\\traceback_utils.py:70\u001b[0m, in \u001b[0;36mfilter_traceback.<locals>.error_handler\u001b[1;34m(*args, **kwargs)\u001b[0m\n\u001b[0;32m     67\u001b[0m     filtered_tb \u001b[38;5;241m=\u001b[39m _process_traceback_frames(e\u001b[38;5;241m.\u001b[39m__traceback__)\n\u001b[0;32m     68\u001b[0m     \u001b[38;5;66;03m# To get the full stack trace, call:\u001b[39;00m\n\u001b[0;32m     69\u001b[0m     \u001b[38;5;66;03m# `tf.debugging.disable_traceback_filtering()`\u001b[39;00m\n\u001b[1;32m---> 70\u001b[0m     \u001b[38;5;28;01mraise\u001b[39;00m e\u001b[38;5;241m.\u001b[39mwith_traceback(filtered_tb) \u001b[38;5;28;01mfrom\u001b[39;00m \u001b[38;5;28mNone\u001b[39m\n\u001b[0;32m     71\u001b[0m \u001b[38;5;28;01mfinally\u001b[39;00m:\n\u001b[0;32m     72\u001b[0m     \u001b[38;5;28;01mdel\u001b[39;00m filtered_tb\n",
      "File \u001b[1;32m~\\anaconda3\\lib\\site-packages\\tensorflow\\python\\eager\\execute.py:54\u001b[0m, in \u001b[0;36mquick_execute\u001b[1;34m(op_name, num_outputs, inputs, attrs, ctx, name)\u001b[0m\n\u001b[0;32m     52\u001b[0m \u001b[38;5;28;01mtry\u001b[39;00m:\n\u001b[0;32m     53\u001b[0m   ctx\u001b[38;5;241m.\u001b[39mensure_initialized()\n\u001b[1;32m---> 54\u001b[0m   tensors \u001b[38;5;241m=\u001b[39m pywrap_tfe\u001b[38;5;241m.\u001b[39mTFE_Py_Execute(ctx\u001b[38;5;241m.\u001b[39m_handle, device_name, op_name,\n\u001b[0;32m     55\u001b[0m                                       inputs, attrs, num_outputs)\n\u001b[0;32m     56\u001b[0m \u001b[38;5;28;01mexcept\u001b[39;00m core\u001b[38;5;241m.\u001b[39m_NotOkStatusException \u001b[38;5;28;01mas\u001b[39;00m e:\n\u001b[0;32m     57\u001b[0m   \u001b[38;5;28;01mif\u001b[39;00m name \u001b[38;5;129;01mis\u001b[39;00m \u001b[38;5;129;01mnot\u001b[39;00m \u001b[38;5;28;01mNone\u001b[39;00m:\n",
      "\u001b[1;31mInvalidArgumentError\u001b[0m: Graph execution error:\n\nDetected at node 'sequential_14/dense_40/Elu' defined at (most recent call last):\n    File \"C:\\Users\\4545\\anaconda3\\lib\\runpy.py\", line 196, in _run_module_as_main\n      return _run_code(code, main_globals, None,\n    File \"C:\\Users\\4545\\anaconda3\\lib\\runpy.py\", line 86, in _run_code\n      exec(code, run_globals)\n    File \"C:\\Users\\4545\\anaconda3\\lib\\site-packages\\ipykernel_launcher.py\", line 17, in <module>\n      app.launch_new_instance()\n    File \"C:\\Users\\4545\\anaconda3\\lib\\site-packages\\traitlets\\config\\application.py\", line 992, in launch_instance\n      app.start()\n    File \"C:\\Users\\4545\\anaconda3\\lib\\site-packages\\ipykernel\\kernelapp.py\", line 711, in start\n      self.io_loop.start()\n    File \"C:\\Users\\4545\\anaconda3\\lib\\site-packages\\tornado\\platform\\asyncio.py\", line 199, in start\n      self.asyncio_loop.run_forever()\n    File \"C:\\Users\\4545\\anaconda3\\lib\\asyncio\\base_events.py\", line 603, in run_forever\n      self._run_once()\n    File \"C:\\Users\\4545\\anaconda3\\lib\\asyncio\\base_events.py\", line 1906, in _run_once\n      handle._run()\n    File \"C:\\Users\\4545\\anaconda3\\lib\\asyncio\\events.py\", line 80, in _run\n      self._context.run(self._callback, *self._args)\n    File \"C:\\Users\\4545\\anaconda3\\lib\\site-packages\\ipykernel\\kernelbase.py\", line 510, in dispatch_queue\n      await self.process_one()\n    File \"C:\\Users\\4545\\anaconda3\\lib\\site-packages\\ipykernel\\kernelbase.py\", line 499, in process_one\n      await dispatch(*args)\n    File \"C:\\Users\\4545\\anaconda3\\lib\\site-packages\\ipykernel\\kernelbase.py\", line 406, in dispatch_shell\n      await result\n    File \"C:\\Users\\4545\\anaconda3\\lib\\site-packages\\ipykernel\\kernelbase.py\", line 729, in execute_request\n      reply_content = await reply_content\n    File \"C:\\Users\\4545\\anaconda3\\lib\\site-packages\\ipykernel\\ipkernel.py\", line 411, in do_execute\n      res = shell.run_cell(\n    File \"C:\\Users\\4545\\anaconda3\\lib\\site-packages\\ipykernel\\zmqshell.py\", line 531, in run_cell\n      return super().run_cell(*args, **kwargs)\n    File \"C:\\Users\\4545\\anaconda3\\lib\\site-packages\\IPython\\core\\interactiveshell.py\", line 2961, in run_cell\n      result = self._run_cell(\n    File \"C:\\Users\\4545\\anaconda3\\lib\\site-packages\\IPython\\core\\interactiveshell.py\", line 3016, in _run_cell\n      result = runner(coro)\n    File \"C:\\Users\\4545\\anaconda3\\lib\\site-packages\\IPython\\core\\async_helpers.py\", line 129, in _pseudo_sync_runner\n      coro.send(None)\n    File \"C:\\Users\\4545\\anaconda3\\lib\\site-packages\\IPython\\core\\interactiveshell.py\", line 3221, in run_cell_async\n      has_raised = await self.run_ast_nodes(code_ast.body, cell_name,\n    File \"C:\\Users\\4545\\anaconda3\\lib\\site-packages\\IPython\\core\\interactiveshell.py\", line 3400, in run_ast_nodes\n      if await self.run_code(code, result, async_=asy):\n    File \"C:\\Users\\4545\\anaconda3\\lib\\site-packages\\IPython\\core\\interactiveshell.py\", line 3460, in run_code\n      exec(code_obj, self.user_global_ns, self.user_ns)\n    File \"C:\\Users\\4545\\AppData\\Local\\Temp\\ipykernel_12972\\980769373.py\", line 4, in <module>\n      model.predict(X_test[0])\n    File \"C:\\Users\\4545\\anaconda3\\lib\\site-packages\\keras\\utils\\traceback_utils.py\", line 65, in error_handler\n      return fn(*args, **kwargs)\n    File \"C:\\Users\\4545\\anaconda3\\lib\\site-packages\\keras\\engine\\training.py\", line 2253, in predict\n      tmp_batch_outputs = self.predict_function(iterator)\n    File \"C:\\Users\\4545\\anaconda3\\lib\\site-packages\\keras\\engine\\training.py\", line 2041, in predict_function\n      return step_function(self, iterator)\n    File \"C:\\Users\\4545\\anaconda3\\lib\\site-packages\\keras\\engine\\training.py\", line 2027, in step_function\n      outputs = model.distribute_strategy.run(run_step, args=(data,))\n    File \"C:\\Users\\4545\\anaconda3\\lib\\site-packages\\keras\\engine\\training.py\", line 2015, in run_step\n      outputs = model.predict_step(data)\n    File \"C:\\Users\\4545\\anaconda3\\lib\\site-packages\\keras\\engine\\training.py\", line 1983, in predict_step\n      return self(x, training=False)\n    File \"C:\\Users\\4545\\anaconda3\\lib\\site-packages\\keras\\utils\\traceback_utils.py\", line 65, in error_handler\n      return fn(*args, **kwargs)\n    File \"C:\\Users\\4545\\anaconda3\\lib\\site-packages\\keras\\engine\\training.py\", line 557, in __call__\n      return super().__call__(*args, **kwargs)\n    File \"C:\\Users\\4545\\anaconda3\\lib\\site-packages\\keras\\utils\\traceback_utils.py\", line 65, in error_handler\n      return fn(*args, **kwargs)\n    File \"C:\\Users\\4545\\anaconda3\\lib\\site-packages\\keras\\engine\\base_layer.py\", line 1097, in __call__\n      outputs = call_fn(inputs, *args, **kwargs)\n    File \"C:\\Users\\4545\\anaconda3\\lib\\site-packages\\keras\\utils\\traceback_utils.py\", line 96, in error_handler\n      return fn(*args, **kwargs)\n    File \"C:\\Users\\4545\\anaconda3\\lib\\site-packages\\keras\\engine\\sequential.py\", line 410, in call\n      return super().call(inputs, training=training, mask=mask)\n    File \"C:\\Users\\4545\\anaconda3\\lib\\site-packages\\keras\\engine\\functional.py\", line 510, in call\n      return self._run_internal_graph(inputs, training=training, mask=mask)\n    File \"C:\\Users\\4545\\anaconda3\\lib\\site-packages\\keras\\engine\\functional.py\", line 667, in _run_internal_graph\n      outputs = node.layer(*args, **kwargs)\n    File \"C:\\Users\\4545\\anaconda3\\lib\\site-packages\\keras\\utils\\traceback_utils.py\", line 65, in error_handler\n      return fn(*args, **kwargs)\n    File \"C:\\Users\\4545\\anaconda3\\lib\\site-packages\\keras\\engine\\base_layer.py\", line 1097, in __call__\n      outputs = call_fn(inputs, *args, **kwargs)\n    File \"C:\\Users\\4545\\anaconda3\\lib\\site-packages\\keras\\utils\\traceback_utils.py\", line 96, in error_handler\n      return fn(*args, **kwargs)\n    File \"C:\\Users\\4545\\anaconda3\\lib\\site-packages\\keras\\layers\\core\\dense.py\", line 255, in call\n      outputs = self.activation(outputs)\n    File \"C:\\Users\\4545\\anaconda3\\lib\\site-packages\\keras\\activations.py\", line 148, in elu\n      return backend.elu(x, alpha)\n    File \"C:\\Users\\4545\\anaconda3\\lib\\site-packages\\keras\\backend.py\", line 5392, in elu\n      res = tf.nn.elu(x)\nNode: 'sequential_14/dense_40/Elu'\nIn[0] and In[1] has different ndims: [8] vs. [8,12]\n\t [[{{node sequential_14/dense_40/Elu}}]] [Op:__inference_predict_function_287903]"
     ]
    }
   ],
   "source": [
    "# 6. 모델 사용하기 - 예측\n",
    "#                  0        1\n",
    "#                  0.9912   0.00124\n",
    "model.predict(X_test[0])"
   ]
  },
  {
   "cell_type": "code",
   "execution_count": 143,
   "id": "2dd02997",
   "metadata": {},
   "outputs": [
    {
     "data": {
      "text/plain": [
       "array([  2.   , 122.   ,  76.   ,  27.   , 200.   ,  35.9  ,   0.483,\n",
       "        26.   ])"
      ]
     },
     "execution_count": 143,
     "metadata": {},
     "output_type": "execute_result"
    }
   ],
   "source": [
    "X_test[0]"
   ]
  },
  {
   "cell_type": "code",
   "execution_count": null,
   "id": "0f9b4840",
   "metadata": {},
   "outputs": [],
   "source": []
  }
 ],
 "metadata": {
  "kernelspec": {
   "display_name": "Python 3 (ipykernel)",
   "language": "python",
   "name": "python3"
  },
  "language_info": {
   "codemirror_mode": {
    "name": "ipython",
    "version": 3
   },
   "file_extension": ".py",
   "mimetype": "text/x-python",
   "name": "python",
   "nbconvert_exporter": "python",
   "pygments_lexer": "ipython3",
   "version": "3.10.9"
  },
  "toc": {
   "base_numbering": 1,
   "nav_menu": {},
   "number_sections": true,
   "sideBar": true,
   "skip_h1_title": false,
   "title_cell": "Table of Contents",
   "title_sidebar": "Contents",
   "toc_cell": false,
   "toc_position": {},
   "toc_section_display": true,
   "toc_window_display": false
  }
 },
 "nbformat": 4,
 "nbformat_minor": 5
}
