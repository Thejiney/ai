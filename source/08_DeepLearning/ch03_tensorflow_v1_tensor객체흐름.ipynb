{
 "cells": [
  {
   "cell_type": "markdown",
   "id": "b835916d",
   "metadata": {},
   "source": [
    "# 1. tensorflow v2.xx에서 v1 사용하기"
   ]
  },
  {
   "cell_type": "code",
   "execution_count": 1,
   "id": "d618281c",
   "metadata": {},
   "outputs": [
    {
     "name": "stdout",
     "output_type": "stream",
     "text": [
      "WARNING:tensorflow:From C:\\Users\\4545\\anaconda3\\lib\\site-packages\\tensorflow\\python\\compat\\v2_compat.py:107: disable_resource_variables (from tensorflow.python.ops.variable_scope) is deprecated and will be removed in a future version.\n",
      "Instructions for updating:\n",
      "non-resource variables are not supported in the long term\n"
     ]
    }
   ],
   "source": [
    "import tensorflow.compat.v1 as tf\n",
    "tf.disable_v2_behavior() # v2비활성화하고 v1을 활성화"
   ]
  },
  {
   "cell_type": "markdown",
   "id": "c03d7063",
   "metadata": {},
   "source": [
    "## Tensorflow\n",
    "- 그래프 정의 (tensor객체의 흐름)\n",
    "- sess = tf.Session()을 실행\n",
    "- sess.run()을 통해 변수값을 확인할 수 있음"
   ]
  },
  {
   "cell_type": "code",
   "execution_count": 7,
   "id": "793c25a7",
   "metadata": {},
   "outputs": [
    {
     "name": "stdout",
     "output_type": "stream",
     "text": [
      "b'Hello, Tensorflow'\n",
      "Hello, Tensorflow\n"
     ]
    }
   ],
   "source": [
    "# tensor = data(상수,변수)와 연산\n",
    "node1 = tf.constant('Hello, Tensorflow')\n",
    "sess = tf.Session()\n",
    "print(sess.run(node1))\n",
    "print(sess.run(node1).decode())"
   ]
  },
  {
   "cell_type": "code",
   "execution_count": 11,
   "id": "d7c4625a",
   "metadata": {},
   "outputs": [
    {
     "name": "stdout",
     "output_type": "stream",
     "text": [
      "[10.0, 20.0, 30.0]\n"
     ]
    }
   ],
   "source": [
    "# 간단한 수학 연산 tensor 그래프\n",
    "node1 = tf.constant(10, dtype=tf.float16)\n",
    "node2 = tf.constant(20, dtype=tf.float16)\n",
    "node3 = tf.add(node1, node2)\n",
    "sess = tf.Session()\n",
    "print(sess.run([node1,node2,node3]))"
   ]
  },
  {
   "cell_type": "code",
   "execution_count": 2,
   "id": "85a6db4c",
   "metadata": {},
   "outputs": [
    {
     "data": {
      "text/plain": [
       "[array([1, 2, 3], dtype=int16), array([1., 2., 3.], dtype=float32)]"
      ]
     },
     "execution_count": 2,
     "metadata": {},
     "output_type": "execute_result"
    }
   ],
   "source": [
    "# 타입 변경\n",
    "import numpy as np\n",
    "node1 = tf.constant(np.array([1,2,3]), dtype=tf.int16)\n",
    "node2 = tf.cast(node1, dtype=tf.float32)\n",
    "sess = tf.Session()\n",
    "sess.run([node1, node2])"
   ]
  },
  {
   "cell_type": "code",
   "execution_count": 14,
   "id": "f43e6e9a",
   "metadata": {},
   "outputs": [
    {
     "data": {
      "text/plain": [
       "2.5"
      ]
     },
     "execution_count": 14,
     "metadata": {},
     "output_type": "execute_result"
    }
   ],
   "source": [
    "# 평균값 계산 : tf.reduce_mean()\n",
    "data = np.array([1., 2., 3., 4.])\n",
    "m = tf.reduce_mean(data)\n",
    "sess = tf.Session()\n",
    "sess.run(m)"
   ]
  },
  {
   "cell_type": "code",
   "execution_count": 25,
   "id": "ddcfaba4",
   "metadata": {},
   "outputs": [
    {
     "data": {
      "image/png": "[encoded data removed]",
      "text/plain": [
       "<Figure size 640x480 with 1 Axes>"
      ]
     },
     "metadata": {},
     "output_type": "display_data"
    }
   ],
   "source": [
    "# tf.random_normal([size]) : 평균0이고, 표준편차가 1인 난수 size 개 발생. 난수갯수:독립변수갯수\n",
    "import matplotlib.pyplot as plt\n",
    "tensor=tf.random_normal([1000]) # 평균0, 표준편차가 1인 난수 2\n",
    "sess = tf.Session()\n",
    "plt.hist(sess.run(tensor))\n",
    "plt.show()"
   ]
  },
  {
   "cell_type": "markdown",
   "id": "d907905d",
   "metadata": {},
   "source": [
    "# 2. tensorflow v1을 이용한 linear regression을 구현\n",
    "## 2.1 독립변수 x가 1개, 종속변수 y가 1개"
   ]
  },
  {
   "cell_type": "code",
   "execution_count": 55,
   "id": "85582545",
   "metadata": {},
   "outputs": [
    {
     "name": "stdout",
     "output_type": "stream",
     "text": [
      "0번째 cost:37.52639389038086, W=[-1.9124105], b:[0.9148544]\n",
      "300번째 cost:0.11515118926763535, W=[0.60682595], b:[0.8937771]\n",
      "600번째 cost:0.02717101015150547, W=[0.8090131], b:[0.43415806]\n",
      "900번째 cost:0.00641126511618495, W=[0.90722686], b:[0.2108952]\n",
      "1200번째 cost:0.0015127999940887094, W=[0.95493484], b:[0.10244374]\n",
      "1500번째 cost:0.0003569570544641465, W=[0.9781093], b:[0.04976268]\n",
      "1800번째 cost:8.422858809353784e-05, W=[0.98936635], b:[0.02417261]\n",
      "2100번째 cost:1.987403265957255e-05, W=[0.9948346], b:[0.01174194]\n",
      "2400번째 cost:4.689711659011664e-06, W=[0.9974908], b:[0.00570387]\n",
      "2700번째 cost:1.1066513252444565e-06, W=[0.9987811], b:[0.00277081]\n",
      "3000번째 cost:2.6134190989068884e-07, W=[0.99940765], b:[0.00134636]\n",
      "3300번째 cost:6.176076539077258e-08, W=[0.99971205], b:[0.0006546]\n",
      "3600번째 cost:1.4646849955113339e-08, W=[0.99985987], b:[0.00031874]\n",
      "3900번째 cost:3.4862812636760054e-09, W=[0.9999317], b:[0.0001555]\n",
      "4200번째 cost:8.294153697185891e-10, W=[0.9999666], b:[7.5728196e-05]\n",
      "4500번째 cost:1.9475322743378598e-10, W=[0.99998385], b:[3.682475e-05]\n",
      "4800번째 cost:4.7648881368322904e-11, W=[0.9999919], b:[1.8133253e-05]\n",
      "5100번째 cost:1.474483035668328e-11, W=[0.99999535], b:[1.0079304e-05]\n",
      "5400번째 cost:6.603254835285677e-12, W=[0.9999969], b:[6.635942e-06]\n",
      "5700번째 cost:4.3970335185383735e-12, W=[0.9999975], b:[5.174048e-06]\n"
     ]
    }
   ],
   "source": [
    "# tensor 그래프(객체 흐름) 정의\n",
    "# data set(x, y)\n",
    "x = np.array([1,2,3])\n",
    "y = np.array([1,2,3])\n",
    "\n",
    "# weight와 bias (처음에는 랜덤값으로 셋팅했다가, 학습과정에서 변경)\n",
    "W = tf.Variable(tf.random.normal([1]),name='wieght')\n",
    "b = tf.Variable(tf.random.normal([1]), name='bias')\n",
    "\n",
    "# Hypothesis\n",
    "H = W*x + b\n",
    "\n",
    "# cost function (손실함수 = mse : 최소제곱법)\n",
    "cost = tf.reduce_mean(tf.square(H-y))\n",
    "'''\n",
    "학습 목적 :cost가 최소가 되는 W, b를 찾는 것\n",
    "cost 함수는 2차함수이므로 곡선 그래프. 곡선위 미분값이 줄어드는 방향으로 학습\n",
    "'''\n",
    "optimizer = tf.train.GradientDescentOptimizer(learning_rate=0.01)\n",
    "train = optimizer.minimize(cost)\n",
    "\n",
    "# Session 생성\n",
    "sess = tf.Session()\n",
    "\n",
    "# 변수(W, b) 초기화\n",
    "sess.run(tf.global_variables_initializer())\n",
    "\n",
    "# 6000번 학습 (v2에서의 fit함수)\n",
    "for step in range(6000):\n",
    "    _, cost_val, W_val, b_val=sess.run([train,cost,W,b])\n",
    "    if step%300 == 0:\n",
    "        print('{}번째 cost:{}, W={}, b:{}'.format(step,\n",
    "                                                cost_val,\n",
    "                                                W_val,\n",
    "                                                b_val))"
   ]
  },
  {
   "cell_type": "code",
   "execution_count": 37,
   "id": "24841da1",
   "metadata": {},
   "outputs": [
    {
     "data": {
      "text/plain": [
       "[array([0.99999774], dtype=float32), array([4.4914573e-06], dtype=float32)]"
      ]
     },
     "execution_count": 37,
     "metadata": {},
     "output_type": "execute_result"
    }
   ],
   "source": [
    "# 최종적으로 나온 회귀식 : H = W*x + b\n",
    "sess.run([W, b])"
   ]
  },
  {
   "cell_type": "code",
   "execution_count": 40,
   "id": "d012ae00",
   "metadata": {},
   "outputs": [
    {
     "data": {
      "text/plain": [
       "(array([1.0000044], dtype=float32), array([-8.861259e-06], dtype=float32))"
      ]
     },
     "execution_count": 40,
     "metadata": {},
     "output_type": "execute_result"
    }
   ],
   "source": [
    "W_, b_ = sess.run([W, b])\n",
    "W_, b_"
   ]
  },
  {
   "cell_type": "code",
   "execution_count": 41,
   "id": "5a686276",
   "metadata": {},
   "outputs": [
    {
     "name": "stdout",
     "output_type": "stream",
     "text": [
      "최종 회귀식 : H = 1.0000044107437134*x + -8.861258720571641e-06\n"
     ]
    }
   ],
   "source": [
    "print('최종 회귀식 : H = {}*x + {}'.format(W_[0], b_[0]))"
   ]
  },
  {
   "cell_type": "code",
   "execution_count": 42,
   "id": "f0c72e57",
   "metadata": {},
   "outputs": [],
   "source": [
    "def to_predict(x):\n",
    "    return W_[0]*x + b_[0]    "
   ]
  },
  {
   "cell_type": "code",
   "execution_count": 43,
   "id": "aeda111e",
   "metadata": {},
   "outputs": [
    {
     "data": {
      "text/plain": [
       "3.0000043709724196"
      ]
     },
     "execution_count": 43,
     "metadata": {},
     "output_type": "execute_result"
    }
   ],
   "source": [
    "to_predict(3)"
   ]
  },
  {
   "cell_type": "markdown",
   "id": "96d5c091",
   "metadata": {},
   "source": [
    "## 2.2 predict을 하기 위한 placeholder 이용\n",
    "- placeholder : 외부에서 데이터를 입력받을 수 있는 노드"
   ]
  },
  {
   "cell_type": "code",
   "execution_count": 48,
   "id": "b122dba6",
   "metadata": {},
   "outputs": [
    {
     "data": {
      "text/plain": [
       "[array(10., dtype=float16), array(20., dtype=float16), 30.0]"
      ]
     },
     "execution_count": 48,
     "metadata": {},
     "output_type": "execute_result"
    }
   ],
   "source": [
    "a = tf.placeholder(tf.float16)\n",
    "b = tf.placeholder(tf.float16)\n",
    "ab = tf.add(a, b)\n",
    "sess = tf.Session()\n",
    "sess.run([a,b,ab], feed_dict={a : 10,\n",
    "                        b : 20})"
   ]
  },
  {
   "cell_type": "code",
   "execution_count": 52,
   "id": "cf74dbb1",
   "metadata": {},
   "outputs": [
    {
     "data": {
      "text/plain": [
       "array([2., 4., 6.], dtype=float16)"
      ]
     },
     "execution_count": 52,
     "metadata": {},
     "output_type": "execute_result"
    }
   ],
   "source": [
    "sess.run(ab, feed_dict={a:np.array([1,2,3]),\n",
    "                       b:np.array([1,2,3]) })"
   ]
  },
  {
   "cell_type": "code",
   "execution_count": 62,
   "id": "f077b917",
   "metadata": {},
   "outputs": [
    {
     "name": "stdout",
     "output_type": "stream",
     "text": [
      "1/6000번째 cost:69.04054260253906, W=[0.4155211], b:[-0.7768389]\n",
      "301/6000번째 cost:0.02777472697198391, W=[2.1008933], b:[0.6498998]\n",
      "601/6000번째 cost:0.0022910996340215206, W=[2.0289774], b:[0.8994485]\n",
      "901/6000번째 cost:0.0001889852137537673, W=[2.0083225], b:[0.971121]\n",
      "1201/6000번째 cost:1.5590418115607463e-05, W=[2.0023904], b:[0.9917057]\n",
      "1501/6000번째 cost:1.2876723758381559e-06, W=[2.0006871], b:[0.9976164]\n",
      "1801/6000번째 cost:1.0653820936568081e-07, W=[2.0001976], b:[0.99931437]\n",
      "2101/6000번째 cost:8.9558653826316e-09, W=[2.0000577], b:[0.99980146]\n",
      "2401/6000번째 cost:7.535732038377319e-10, W=[2.000017], b:[0.9999424]\n",
      "2701/6000번째 cost:9.936229616869241e-11, W=[2.0000064], b:[0.9999793]\n",
      "3001/6000번째 cost:3.9690917219559196e-11, W=[2.0000043], b:[0.9999869]\n",
      "3301/6000번째 cost:3.9690917219559196e-11, W=[2.0000043], b:[0.9999869]\n",
      "3601/6000번째 cost:3.9690917219559196e-11, W=[2.0000043], b:[0.9999869]\n",
      "3901/6000번째 cost:3.9690917219559196e-11, W=[2.0000043], b:[0.9999869]\n",
      "4201/6000번째 cost:3.9690917219559196e-11, W=[2.0000043], b:[0.9999869]\n",
      "4501/6000번째 cost:3.9690917219559196e-11, W=[2.0000043], b:[0.9999869]\n",
      "4801/6000번째 cost:3.9690917219559196e-11, W=[2.0000043], b:[0.9999869]\n",
      "5101/6000번째 cost:3.9690917219559196e-11, W=[2.0000043], b:[0.9999869]\n",
      "5401/6000번째 cost:3.9690917219559196e-11, W=[2.0000043], b:[0.9999869]\n",
      "5701/6000번째 cost:3.9690917219559196e-11, W=[2.0000043], b:[0.9999869]\n"
     ]
    }
   ],
   "source": [
    "# data set (H = 2x + 1)\n",
    "x_data = np.array([1,2,3,5])\n",
    "y_data = np.array([3,5,7,11])\n",
    "\n",
    "# placeholder 설정(x,y)\n",
    "x = tf.placeholder(dtype=tf.float32)\n",
    "y = tf.placeholder(dtype=tf.float32)\n",
    "\n",
    "# weight & bias\n",
    "W = tf.Variable(tf.random.normal([1]),name='wieght')\n",
    "b = tf.Variable(tf.random.normal([1]), name='bias')\n",
    "\n",
    "# Hypothesis\n",
    "H = W*x + b\n",
    "\n",
    "# cost function == loss function\n",
    "cost = tf.reduce_mean(tf.square(H-y))\n",
    "\n",
    "# 경사하강법\n",
    "optimizer = tf.train.GradientDescentOptimizer(learning_rate=0.01)\n",
    "train = optimizer.minimize(cost)\n",
    "\n",
    "# Session 생성 & 변수 초기화\n",
    "sess = tf.Session()\n",
    "sess.run(tf.global_variables_initializer())\n",
    "\n",
    "# 6000번 학습\n",
    "for step in range(6000):\n",
    "    _, cost_val, W_val, b_val=sess.run([train,cost,W,b],\n",
    "                                      feed_dict={x:x_data,\n",
    "                                                y:y_data})\n",
    "    if step%300 == 0:\n",
    "        print('{}/6000번째 cost:{}, W={}, b:{}'.format(step+1,\n",
    "                                                     cost_val,\n",
    "                                                     W_val,\n",
    "                                                     b_val))"
   ]
  },
  {
   "cell_type": "code",
   "execution_count": 63,
   "id": "ea57060e",
   "metadata": {},
   "outputs": [
    {
     "data": {
      "text/plain": [
       "[array([2.0000043], dtype=float32), array([0.9999869], dtype=float32)]"
      ]
     },
     "execution_count": 63,
     "metadata": {},
     "output_type": "execute_result"
    }
   ],
   "source": [
    "# 최종 W, b\n",
    "sess.run([W, b])"
   ]
  },
  {
   "cell_type": "code",
   "execution_count": 64,
   "id": "7dd40703",
   "metadata": {},
   "outputs": [
    {
     "data": {
      "text/plain": [
       "array([11.000008], dtype=float32)"
      ]
     },
     "execution_count": 64,
     "metadata": {},
     "output_type": "execute_result"
    }
   ],
   "source": [
    "# 예측하기\n",
    "sess.run(H, feed_dict={x:5})"
   ]
  },
  {
   "cell_type": "code",
   "execution_count": 65,
   "id": "01dfc3d9",
   "metadata": {},
   "outputs": [
    {
     "data": {
      "text/plain": [
       "array([11.000008, 13.000012, 15.000017], dtype=float32)"
      ]
     },
     "execution_count": 65,
     "metadata": {},
     "output_type": "execute_result"
    }
   ],
   "source": [
    "sess.run(H, feed_dict={x: np.array([5,6,7])})"
   ]
  },
  {
   "cell_type": "markdown",
   "id": "396c3397",
   "metadata": {},
   "source": [
    "## 2.3 scale 이 다른 데이터들의 linear regression"
   ]
  },
  {
   "cell_type": "code",
   "execution_count": 73,
   "id": "87c865cd",
   "metadata": {},
   "outputs": [
    {
     "name": "stdout",
     "output_type": "stream",
     "text": [
      "1/6000번째 cost:2870.94970703125, W=[1.7448304], b:[-0.23519048]\n",
      "301/6000번째 cost:103.43309020996094, W=[9.247043], b:[0.75798255]\n",
      "601/6000번째 cost:79.69385528564453, W=[9.9440565], b:[0.83242136]\n",
      "901/6000번째 cost:79.47818756103516, W=[10.010916], b:[0.822103]\n",
      "1201/6000번째 cost:79.46463775634766, W=[10.019387], b:[0.8042423]\n",
      "1501/6000번째 cost:79.45317077636719, W=[10.0224], b:[0.7859832]\n",
      "1801/6000번째 cost:79.44217681884766, W=[10.024897], b:[0.7679802]\n",
      "2101/6000번째 cost:79.43154907226562, W=[10.0272665], b:[0.75029445]\n",
      "2401/6000번째 cost:79.42131805419922, W=[10.029594], b:[0.7329273]\n",
      "2701/6000번째 cost:79.41142272949219, W=[10.031887], b:[0.7158729]\n",
      "3001/6000번째 cost:79.40190124511719, W=[10.034176], b:[0.69911826]\n",
      "3301/6000번째 cost:79.39268493652344, W=[10.036455], b:[0.6826464]\n",
      "3601/6000번째 cost:79.38378143310547, W=[10.038625], b:[0.6664607]\n",
      "3901/6000번째 cost:79.37522888183594, W=[10.040755], b:[0.6505665]\n",
      "4201/6000번째 cost:79.36695861816406, W=[10.042847], b:[0.63495886]\n",
      "4501/6000번째 cost:79.35897064208984, W=[10.044901], b:[0.6196323]\n",
      "4801/6000번째 cost:79.35125732421875, W=[10.046919], b:[0.6045821]\n",
      "5101/6000번째 cost:79.3438720703125, W=[10.048922], b:[0.58980024]\n",
      "5401/6000번째 cost:79.33667755126953, W=[10.050924], b:[0.57527304]\n",
      "5701/6000번째 cost:79.32975769042969, W=[10.052883], b:[0.56098837]\n"
     ]
    }
   ],
   "source": [
    "x_data = np.array([1,2,5,8,10])\n",
    "y_data = np.array([5,15,68,80,95])\n",
    "\n",
    "# placeholder 설정\n",
    "x = tf.placeholder(dtype=tf.float32)\n",
    "y = tf.placeholder(dtype=tf.float32)\n",
    "\n",
    "#weight & bias\n",
    "W = tf.Variable(tf.random.normal([1]), name='weight')\n",
    "b = tf.Variable(tf.random.normal([1]))\n",
    "\n",
    "# Hypothesis\n",
    "H = W*x+b\n",
    "\n",
    "#cost function(loss function : 손실함수)\n",
    "cost = tf.reduce_mean(tf.square(H-y))\n",
    "\n",
    "#경사하강법\n",
    "optimizer=tf.train.GradientDescentOptimizer(learning_rate=0.0001)\n",
    "train = optimizer.minimize(cost)\n",
    "\n",
    "# Session & Variable 초기화\n",
    "sess = tf.Session()\n",
    "sess.run(tf.global_variables_initializer())\n",
    "\n",
    "# 학습\n",
    "for step in range(1,6001):\n",
    "    _, cost_val, W_val, b_val=sess.run([train,cost,W,b],\n",
    "                                      feed_dict={x:x_data,\n",
    "                                                y:y_data})\n",
    "    if step%300 == 1:\n",
    "        print('{}/6000번째 cost:{}, W={}, b:{}'.format(step,\n",
    "                                                     cost_val,\n",
    "                                                     W_val,\n",
    "                                                     b_val))"
   ]
  },
  {
   "cell_type": "code",
   "execution_count": 75,
   "id": "0bc27bc8",
   "metadata": {},
   "outputs": [
    {
     "data": {
      "text/plain": [
       "array([50.82079], dtype=float32)"
      ]
     },
     "execution_count": 75,
     "metadata": {},
     "output_type": "execute_result"
    }
   ],
   "source": [
    "# 예측\n",
    "sess.run(H, feed_dict={x:5})"
   ]
  },
  {
   "cell_type": "code",
   "execution_count": null,
   "id": "245d2e58",
   "metadata": {},
   "outputs": [],
   "source": [
    "# cost값이 멈춤 : local 최소값"
   ]
  },
  {
   "cell_type": "markdown",
   "id": "d3c4ce17",
   "metadata": {},
   "source": [
    "## 2.4 scale이 다른 데이터들의 linear regression을 구현(조정 O)\n",
    "### scale을 맞추는 방법 : 모든 데이터를 일정 범위내로 조정\n",
    "- normalization(정규화) : 데이터의 최대값을 1, 최소값을 0으로 조정\n",
    "```\n",
    "                      x - Xmin\n",
    "    normalization = ───────\n",
    "                    Xmax - Xmin\n",
    "        * 위의 식을 써도 되지만 라이브러리를 주로 씀(sklearn.preprocessing.MinMaxScaler이용)\n",
    "```\n",
    "- standardization(표준화) : 데이터의 평균을 0, 표준편차를 1로 조정\n",
    "```\n",
    "                        x - Xmean(평균)\n",
    "    standardization = ──────────\n",
    "                        Xstd(표준편차)\n",
    "        * 위의 식을 써도 되지만 라이브러리를 주로 씀(sklearn.preprocessing.StandardScaler이용)\n",
    "```\n"
   ]
  },
  {
   "cell_type": "code",
   "execution_count": 47,
   "id": "2b6c5b89",
   "metadata": {},
   "outputs": [
    {
     "name": "stdout",
     "output_type": "stream",
     "text": [
      "[0.         0.11111111 0.44444444 0.77777778 1.        ]\n",
      "[0.         0.11111111 0.7        0.83333333 1.        ]\n"
     ]
    }
   ],
   "source": [
    "# 라이브러리를 쓰지 않고 정규화 : 예측할 경우 x데이터의 스케일을하고, 스케일된 예측값을 변환\n",
    "x_data = np.array([1,2,5,8,10])\n",
    "y_data = np.array([5,15,68,80,95])\n",
    "\n",
    "scaled_x_data = (x_data - x_data.min())/(x_data.max()-x_data.min())\n",
    "scaled_y_data = (y_data - y_data.min())/(y_data.max()-y_data.min())\n",
    "\n",
    "print(scaled_x_data)\n",
    "print(scaled_y_data)"
   ]
  },
  {
   "cell_type": "code",
   "execution_count": 48,
   "id": "ee3aa2a5",
   "metadata": {},
   "outputs": [
    {
     "data": {
      "text/plain": [
       "array([[ 1.        ,  0.        ,  5.        ,  0.        ],\n",
       "       [ 2.        ,  0.11111111, 15.        ,  0.11111111],\n",
       "       [ 5.        ,  0.44444444, 68.        ,  0.7       ],\n",
       "       [ 8.        ,  0.77777778, 80.        ,  0.83333333],\n",
       "       [10.        ,  1.        , 95.        ,  1.        ]])"
      ]
     },
     "execution_count": 48,
     "metadata": {},
     "output_type": "execute_result"
    }
   ],
   "source": [
    "# sklearn.preprocessing.MinMaxScaler이용\n",
    "x_data = np.array([1,2,5,8,10]).reshape(-1,1)\n",
    "y_data = np.array([5,15,68,80,95]).reshape(-1,1)\n",
    "\n",
    "from sklearn.preprocessing import MinMaxScaler\n",
    "scaler_x = MinMaxScaler() # x_data를 표준화 시킬 객체\n",
    "scaler_x.fit(x_data)\n",
    "scaled_x_data = scaler_x.transform(x_data)\n",
    "\n",
    "scaler_y = MinMaxScaler() # y_data를 표준화 시킬 객체\n",
    "scaler_y.fit(y_data)\n",
    "scaled_y_data = scaler_y.transform(y_data)\n",
    "\n",
    "np.column_stack([x_data, scaled_x_data, y_data, scaled_y_data])"
   ]
  },
  {
   "cell_type": "code",
   "execution_count": 44,
   "id": "c7927272",
   "metadata": {},
   "outputs": [
    {
     "name": "stdout",
     "output_type": "stream",
     "text": [
      "1/10000번째 cost:0.36835694313049316, W=[1.4324374], b:[-0.71568966]\n",
      "301/10000번째 cost:0.12986740469932556, W=[1.5088019], b:[-0.46587446]\n",
      "601/10000번째 cost:0.07132310420274734, W=[1.5249426], b:[-0.33718175]\n",
      "901/10000번째 cost:0.05370354652404785, W=[1.5139519], b:[-0.26648298]\n",
      "1201/10000번째 cost:0.0458274744451046, W=[1.491387], b:[-0.22387496]\n",
      "1501/10000번째 cost:0.040643878281116486, W=[1.4645202], b:[-0.19517057]\n",
      "1801/10000번째 cost:0.03650899603962898, W=[1.4367132], b:[-0.17361917]\n",
      "2101/10000번째 cost:0.032996781170368195, W=[1.4094802], b:[-0.15598904]\n",
      "2401/10000번째 cost:0.029961366206407547, W=[1.3834695], b:[-0.14071545]\n",
      "2701/10000번째 cost:0.02732611633837223, W=[1.3589234], b:[-0.12702431]\n",
      "3001/10000번째 cost:0.025035593658685684, W=[1.3358965], b:[-0.11451852]\n",
      "3301/10000번째 cost:0.023044085130095482, W=[1.314359], b:[-0.10298035]\n",
      "3601/10000번째 cost:0.02131241001188755, W=[1.2942444], b:[-0.09227935]\n",
      "3901/10000번째 cost:0.019806688651442528, W=[1.2754734], b:[-0.08232839]\n",
      "4201/10000번째 cost:0.018497396260499954, W=[1.2579626], b:[-0.07306223]\n",
      "4501/10000번째 cost:0.01735888421535492, W=[1.2416306], b:[-0.06442771]\n",
      "4801/10000번째 cost:0.016368908807635307, W=[1.2263994], b:[-0.05637904]\n",
      "5101/10000번째 cost:0.015508079901337624, W=[1.2121958], b:[-0.04887505]\n",
      "5401/10000번째 cost:0.014759550802409649, W=[1.1989506], b:[-0.0418783]\n",
      "5701/10000번째 cost:0.014108669944107533, W=[1.1865995], b:[-0.03535418]\n",
      "6001/10000번째 cost:0.013542721047997475, W=[1.1750823], b:[-0.02927065]\n",
      "6301/10000번째 cost:0.013050580397248268, W=[1.1643422], b:[-0.02359782]\n",
      "6601/10000번째 cost:0.012622646987438202, W=[1.1543272], b:[-0.018308]\n",
      "6901/10000번째 cost:0.012250537984073162, W=[1.1449883], b:[-0.01337526]\n",
      "7201/10000번째 cost:0.011926980689167976, W=[1.13628], b:[-0.00877555]\n",
      "7501/10000번째 cost:0.01164563000202179, W=[1.1281593], b:[-0.00448637]\n",
      "7801/10000번째 cost:0.011400972492992878, W=[1.1205866], b:[-0.0004867]\n",
      "8101/10000번째 cost:0.01118824165314436, W=[1.1135254], b:[0.00324295]\n",
      "8401/10000번째 cost:0.01100326981395483, W=[1.106941], b:[0.00672083]\n",
      "8701/10000번째 cost:0.01084242295473814, W=[1.100801], b:[0.00996392]\n",
      "9001/10000번째 cost:0.010702553205192089, W=[1.0950752], b:[0.01298808]\n",
      "9301/10000번째 cost:0.010580943897366524, W=[1.0897366], b:[0.01580809]\n",
      "9601/10000번째 cost:0.01047518476843834, W=[1.0847577], b:[0.01843771]\n",
      "9901/10000번째 cost:0.01038323063403368, W=[1.0801153], b:[0.02088985]\n"
     ]
    }
   ],
   "source": [
    "# placeholder 설정\n",
    "x = tf.placeholder(dtype=tf.float32)\n",
    "y = tf.placeholder(dtype=tf.float32)\n",
    "\n",
    "#weight & bias\n",
    "W = tf.Variable(tf.random.normal([1]), name='weight')\n",
    "b = tf.Variable(tf.random.normal([1]), name='bias')\n",
    "\n",
    "# Hypothesis\n",
    "H = W*x+b\n",
    "\n",
    "#cost function(loss function : 손실함수)\n",
    "cost = tf.reduce_mean(tf.square(H-y))\n",
    "\n",
    "#경사하강법\n",
    "optimizer=tf.train.GradientDescentOptimizer(learning_rate=0.001)\n",
    "train = optimizer.minimize(cost)\n",
    "\n",
    "# Session & Variable 초기화\n",
    "sess = tf.Session()\n",
    "sess.run(tf.global_variables_initializer())\n",
    "\n",
    "# 학습\n",
    "for step in range(1,10001):\n",
    "    _, cost_val, W_val, b_val=sess.run([train,cost,W,b],\n",
    "                                      feed_dict={x:scaled_x_data,\n",
    "                                                y:scaled_y_data})\n",
    "    if step%300 == 1:\n",
    "        print('{}/10000번째 cost:{}, W={}, b:{}'.format(step,\n",
    "                                                     cost_val,\n",
    "                                                     W_val,\n",
    "                                                     b_val))"
   ]
  },
  {
   "cell_type": "code",
   "execution_count": 30,
   "id": "c3c5a69a",
   "metadata": {
    "scrolled": true
   },
   "outputs": [
    {
     "name": "stdout",
     "output_type": "stream",
     "text": [
      "2를 스케일 조정된 값 : [[0.11111111]]\n",
      "예측값 : [[25.428455]]\n"
     ]
    }
   ],
   "source": [
    "# 예측\n",
    "scaled_input=scaler_x.transform(np.array([[2]]))\n",
    "print('2를 스케일 조정된 값 :',scaled_input)\n",
    "scaled_output = sess.run(H, feed_dict={x:scaled_input})\n",
    "print('예측값 :', scaler_y.inverse_transform(scaled_output))"
   ]
  },
  {
   "cell_type": "code",
   "execution_count": 31,
   "id": "a87d8293",
   "metadata": {},
   "outputs": [
    {
     "data": {
      "text/plain": [
       "[array([0.8737257], dtype=float32), array([0.1299022], dtype=float32)]"
      ]
     },
     "execution_count": 31,
     "metadata": {},
     "output_type": "execute_result"
    }
   ],
   "source": [
    "sess.run([W,b])"
   ]
  },
  {
   "cell_type": "code",
   "execution_count": 32,
   "id": "7c84ca85",
   "metadata": {
    "scrolled": true
   },
   "outputs": [
    {
     "data": {
      "text/plain": [
       "array([[ 5.        , 16.69119835],\n",
       "       [15.        , 25.42845535],\n",
       "       [68.        , 51.64022827],\n",
       "       [80.        , 77.852005  ],\n",
       "       [95.        , 95.3265152 ]])"
      ]
     },
     "execution_count": 32,
     "metadata": {},
     "output_type": "execute_result"
    }
   ],
   "source": [
    "# x_data들의 예측값\n",
    "scaled_y_hat = sess.run(H, feed_dict={x:scaled_x_data})\n",
    "y_hat = scaler_y.inverse_transform(scaled_y_hat)\n",
    "np.column_stack([y_data, y_hat])"
   ]
  },
  {
   "cell_type": "code",
   "execution_count": 33,
   "id": "2202f55d",
   "metadata": {},
   "outputs": [
    {
     "data": {
      "text/plain": [
       "[<matplotlib.lines.Line2D at 0x28ae4d85a50>]"
      ]
     },
     "execution_count": 33,
     "metadata": {},
     "output_type": "execute_result"
    },
    {
     "data": {
      "image/png": "[encoded data removed]",
      "text/plain": [
       "<Figure size 640x480 with 1 Axes>"
      ]
     },
     "metadata": {},
     "output_type": "display_data"
    }
   ],
   "source": [
    "import matplotlib.pyplot as plt\n",
    "plt.plot(x_data, y_data)\n",
    "plt.plot(x_data, y_hat)"
   ]
  },
  {
   "cell_type": "code",
   "execution_count": 240,
   "id": "4d98ed92",
   "metadata": {},
   "outputs": [
    {
     "data": {
      "image/png": "[encoded data removed]",
      "text/plain": [
       "<Figure size 640x480 with 1 Axes>"
      ]
     },
     "metadata": {},
     "output_type": "display_data"
    }
   ],
   "source": [
    "import seaborn as sns\n",
    "import pandas as pd\n",
    "df = pd.DataFrame({'x':x_data[:,0],\n",
    "                  'y':y_data[:,0]})\n",
    "sns.regplot(data=df, x='x', y='y')\n",
    "plt.show()"
   ]
  },
  {
   "cell_type": "code",
   "execution_count": 146,
   "id": "9a7fb0dc",
   "metadata": {},
   "outputs": [
    {
     "data": {
      "text/plain": [
       "array([-1.32373476, -1.04563922,  0.42826713,  0.76198177,  1.17912508])"
      ]
     },
     "execution_count": 146,
     "metadata": {},
     "output_type": "execute_result"
    }
   ],
   "source": [
    "# 라이브러리를 쓰지 않고 표준화\n",
    "x_data = np.array([1,2,5,8,10])\n",
    "y_data = np.array([5,15,68,80,95])\n",
    "scaled_x_data = (x_data - x_data.mean())/x_data.std()\n",
    "scaled_y_data = (y_data - y_data.mean())/y_data.std()\n",
    "print(scaled_x_data,scaled_y_data)"
   ]
  },
  {
   "cell_type": "code",
   "execution_count": 202,
   "id": "878fe223",
   "metadata": {},
   "outputs": [
    {
     "name": "stdout",
     "output_type": "stream",
     "text": [
      "[[ 1.         -1.22474487]\n",
      " [ 2.         -0.93313895]\n",
      " [ 5.         -0.05832118]\n",
      " [ 8.          0.81649658]\n",
      " [10.          1.39970842]]\n",
      "[[ 5.         -1.32373476]\n",
      " [15.         -1.04563922]\n",
      " [68.          0.42826713]\n",
      " [80.          0.76198177]\n",
      " [95.          1.17912508]]\n"
     ]
    }
   ],
   "source": [
    "# 라이브러리를 써서 표준화\n",
    "x_data = np.array([1,2,5,8,10]).reshape(-1,1)\n",
    "y_data = np.array([5,15,68,80,95]).reshape(-1,1)\n",
    "\n",
    "from sklearn.preprocessing import StandardScaler\n",
    "scaler_x = StandardScaler()\n",
    "scaler_x.fit(x_data)\n",
    "scaled_x_data = scaler_x.transform(x_data)\n",
    "\n",
    "scaler_y = StandardScaler()\n",
    "scaler_y.fit(y_data)\n",
    "scaled_y_data = scaler_y.transform(y_data)\n",
    "print(np.column_stack([x_data, scaled_x_data]))\n",
    "print(np.column_stack([y_data, scaled_y_data]))"
   ]
  },
  {
   "cell_type": "code",
   "execution_count": 203,
   "id": "b35b27ab",
   "metadata": {},
   "outputs": [
    {
     "name": "stdout",
     "output_type": "stream",
     "text": [
      "1/10000번째 cost:3.1636879444122314, W=[-0.51960444], b:[0.93509173]\n",
      "1001/10000번째 cost:0.11780086904764175, W=[0.7678689], b:[0.12629749]\n",
      "2001/10000번째 cost:0.06223665922880173, W=[0.94176036], b:[0.01705831]\n",
      "3001/10000번째 cost:0.06122301146388054, W=[0.9652475], b:[0.00230398]\n",
      "4001/10000번째 cost:0.06120453029870987, W=[0.9684195], b:[0.00031119]\n",
      "5001/10000번째 cost:0.06120418757200241, W=[0.9688471], b:[4.20296e-05]\n",
      "6001/10000번째 cost:0.06120418384671211, W=[0.9688999], b:[5.6805798e-06]\n",
      "7001/10000번째 cost:0.06120417267084122, W=[0.9688999], b:[7.732753e-07]\n",
      "8001/10000번째 cost:0.06120418384671211, W=[0.9688999], b:[1.1289363e-07]\n",
      "9001/10000번째 cost:0.061204176396131516, W=[0.9688999], b:[3.309014e-08]\n"
     ]
    }
   ],
   "source": [
    "# placeholder 설정\n",
    "x = tf.placeholder(dtype=tf.float32)\n",
    "y = tf.placeholder(dtype=tf.float32)\n",
    "\n",
    "#weight & bias\n",
    "W = tf.Variable(tf.random.normal([1]), name='weight')\n",
    "b = tf.Variable(tf.random.normal([1]), name='bias')\n",
    "\n",
    "# Hypothesis\n",
    "H = W*x+b\n",
    "\n",
    "#cost function(loss function : 손실함수)\n",
    "cost = tf.reduce_mean(tf.square(H-y))\n",
    "\n",
    "#경사하강법\n",
    "optimizer=tf.train.GradientDescentOptimizer(learning_rate=0.001)\n",
    "train = optimizer.minimize(cost)\n",
    "\n",
    "# Session & Variable 초기화\n",
    "sess = tf.Session()\n",
    "sess.run(tf.global_variables_initializer())\n",
    "\n",
    "# 학습\n",
    "for step in range(1,10001):\n",
    "    _, cost_val, W_val, b_val=sess.run([train,cost,W,b],\n",
    "                                      feed_dict={x:scaled_x_data,\n",
    "                                                y:scaled_y_data})\n",
    "    if step%1000 == 1:\n",
    "        print('{}/10000번째 cost:{}, W={}, b:{}'.format(step,\n",
    "                                                     cost_val,\n",
    "                                                     W_val,\n",
    "                                                     b_val))"
   ]
  },
  {
   "cell_type": "code",
   "execution_count": 204,
   "id": "0ac1625c",
   "metadata": {},
   "outputs": [
    {
     "data": {
      "text/plain": [
       "array([[  5.        ,   9.92922401],\n",
       "       [ 15.        ,  20.08893776],\n",
       "       [ 68.        ,  50.56805801],\n",
       "       [ 80.        ,  81.04718781],\n",
       "       [ 95.        , 101.36660004]])"
      ]
     },
     "execution_count": 204,
     "metadata": {},
     "output_type": "execute_result"
    }
   ],
   "source": [
    "# x_data들의 예측값\n",
    "scaled_y_hat = sess.run(H, feed_dict={x:scaled_x_data})\n",
    "y_hat = scaler_y.inverse_transform(scaled_y_hat)\n",
    "np.column_stack([y_data, y_hat])"
   ]
  },
  {
   "cell_type": "code",
   "execution_count": 205,
   "id": "1fcfda1e",
   "metadata": {},
   "outputs": [
    {
     "data": {
      "text/plain": [
       "[<matplotlib.lines.Line2D at 0x1631a9523b0>]"
      ]
     },
     "execution_count": 205,
     "metadata": {},
     "output_type": "execute_result"
    },
    {
     "data": {
      "image/png": "[encoded data removed]",
      "text/plain": [
       "<Figure size 640x480 with 1 Axes>"
      ]
     },
     "metadata": {},
     "output_type": "display_data"
    }
   ],
   "source": [
    "import matplotlib.pyplot as plt\n",
    "plt.plot(x_data, y_data)\n",
    "plt.plot(x_data, y_hat)"
   ]
  },
  {
   "cell_type": "markdown",
   "id": "314afa65",
   "metadata": {},
   "source": [
    "전국 평균 평당 분양가격(2013년 9월부터 2015년 8월까지).csv (지역명, 평당분양가격, 연도, 월)\n",
    "- 지역명2 : 지역명필드는 라벨인코딩하여 추가\n",
    "- 평당분양가격n : 평당분양가격의 정규화 스케일 조정하여 추가\n",
    "- 평당분양가격s : 평당분양가격의 표준화 스케일 조정하여 추가\n",
    "- 연도n : 연도의 정규화 스케일 조정하여 추가\n",
    "- 연도s : 연도의 표준화 스케일 조정하여 추가\n",
    "- 월n : 월의 정규화 스케일 조정하여 추가\n",
    "- 월s : 월의 정규화 스케일 조정하여 추가"
   ]
  },
  {
   "cell_type": "code",
   "execution_count": 70,
   "id": "67370431",
   "metadata": {},
   "outputs": [
    {
     "data": {
      "text/html": [
       "<div>\n",
       "<style scoped>\n",
       "    .dataframe tbody tr th:only-of-type {\n",
       "        vertical-align: middle;\n",
       "    }\n",
       "\n",
       "    .dataframe tbody tr th {\n",
       "        vertical-align: top;\n",
       "    }\n",
       "\n",
       "    .dataframe thead th {\n",
       "        text-align: right;\n",
       "    }\n",
       "</style>\n",
       "<table border=\"1\" class=\"dataframe\">\n",
       "  <thead>\n",
       "    <tr style=\"text-align: right;\">\n",
       "      <th></th>\n",
       "      <th>지역명</th>\n",
       "      <th>평당분양가격</th>\n",
       "      <th>연도</th>\n",
       "      <th>월</th>\n",
       "    </tr>\n",
       "  </thead>\n",
       "  <tbody>\n",
       "    <tr>\n",
       "      <th>0</th>\n",
       "      <td>서울</td>\n",
       "      <td>18189</td>\n",
       "      <td>2013</td>\n",
       "      <td>12</td>\n",
       "    </tr>\n",
       "    <tr>\n",
       "      <th>1</th>\n",
       "      <td>부산</td>\n",
       "      <td>8111</td>\n",
       "      <td>2013</td>\n",
       "      <td>12</td>\n",
       "    </tr>\n",
       "  </tbody>\n",
       "</table>\n",
       "</div>"
      ],
      "text/plain": [
       "  지역명  평당분양가격    연도   월\n",
       "0  서울   18189  2013  12\n",
       "1  부산    8111  2013  12"
      ]
     },
     "execution_count": 70,
     "metadata": {},
     "output_type": "execute_result"
    }
   ],
   "source": [
    "import pandas as pd\n",
    "df = pd.read_csv(r'D:\\ai\\Downloads\\shareData\\전국 평균 평당 분양가격(2013년 9월부터 2015년 8월까지).csv', encoding='cp949')\n",
    "new_df = df.melt(id_vars='지역', var_name='연도월', value_name='평당분양가격')\n",
    "new_df['연도']=new_df['연도월'].apply(lambda x : int(x.split('년')[0]))\n",
    "new_df['월']=new_df['연도월'].apply(lambda x : int(x.split('년')[1][:-1]))\n",
    "new_df.drop('연도월',axis=1,inplace=True)\n",
    "new_df=new_df.rename(columns={'지역':'지역명'})\n",
    "new_df.head(2)"
   ]
  },
  {
   "cell_type": "code",
   "execution_count": 74,
   "id": "d60e164d",
   "metadata": {},
   "outputs": [],
   "source": [
    "from sklearn.preprocessing import LabelEncoder\n",
    "\n",
    "le = LabelEncoder()\n",
    "new_df['지역명2'] = le.fit_transform(new_df['지역명'])"
   ]
  },
  {
   "cell_type": "code",
   "execution_count": 87,
   "id": "218d738e",
   "metadata": {},
   "outputs": [],
   "source": [
    "from sklearn.preprocessing import MinMaxScaler\n",
    "\n",
    "price_data = np.array(new_df['평당분양가격']).reshape(-1, 1)\n",
    "scaler = MinMaxScaler()\n",
    "scaler.fit(price_data)\n",
    "price_scaled_data = scaler.transform(price_data)\n",
    "new_df['평당분양가격n'] = price_scaled_data\n",
    "\n",
    "year_data = np.array(new_df['연도']).reshape(-1, 1)\n",
    "scaler.fit(year_data)\n",
    "year_scaled_data = scaler.transform(year_data)\n",
    "new_df['연도n'] = year_scaled_data\n",
    "\n",
    "month_data = np.array(new_df['월']).reshape(-1, 1)\n",
    "scaler.fit(month_data)\n",
    "month_scaled_data = scaler.transform(month_data)\n",
    "new_df['월n'] = month_scaled_data\n",
    "\n",
    "from sklearn.preprocessing import StandardScaler\n",
    "\n",
    "scaler = StandardScaler()\n",
    "price_data = np.array(new_df['평당분양가격']).reshape(-1, 1)\n",
    "scaler.fit(price_data)\n",
    "price_scaled_data = scaler.transform(price_data)\n",
    "new_df['평당분양가격s'] = price_scaled_data\n",
    "\n",
    "year_data = np.array(new_df['연도']).reshape(-1, 1)\n",
    "scaler.fit(year_data)\n",
    "year_scaled_data = scaler.transform(year_data)\n",
    "new_df['연도s'] = year_scaled_data\n",
    "\n",
    "month_data = np.array(new_df['월']).reshape(-1, 1)\n",
    "scaler.fit(month_data)\n",
    "month_scaled_data = scaler.transform(month_data)\n",
    "new_df['월s'] = month_scaled_data"
   ]
  },
  {
   "cell_type": "code",
   "execution_count": 105,
   "id": "05b07622",
   "metadata": {},
   "outputs": [],
   "source": [
    "new_df.to_csv(r'D:\\ai\\Downloads\\shareData\\전국 평당분양가격_scaling.csv', encoding='cp949')"
   ]
  },
  {
   "cell_type": "code",
   "execution_count": 104,
   "id": "8cfdc101",
   "metadata": {},
   "outputs": [
    {
     "data": {
      "text/html": [
       "<div>\n",
       "<style scoped>\n",
       "    .dataframe tbody tr th:only-of-type {\n",
       "        vertical-align: middle;\n",
       "    }\n",
       "\n",
       "    .dataframe tbody tr th {\n",
       "        vertical-align: top;\n",
       "    }\n",
       "\n",
       "    .dataframe thead th {\n",
       "        text-align: right;\n",
       "    }\n",
       "</style>\n",
       "<table border=\"1\" class=\"dataframe\">\n",
       "  <thead>\n",
       "    <tr style=\"text-align: right;\">\n",
       "      <th></th>\n",
       "      <th>지역명</th>\n",
       "      <th>평당분양가격</th>\n",
       "      <th>연도</th>\n",
       "      <th>월</th>\n",
       "      <th>지역명2</th>\n",
       "      <th>평당분양가격n</th>\n",
       "      <th>연도n</th>\n",
       "      <th>월n</th>\n",
       "      <th>평당분양가격s</th>\n",
       "      <th>연도s</th>\n",
       "      <th>월s</th>\n",
       "    </tr>\n",
       "  </thead>\n",
       "  <tbody>\n",
       "    <tr>\n",
       "      <th>0</th>\n",
       "      <td>서울</td>\n",
       "      <td>18189</td>\n",
       "      <td>2013</td>\n",
       "      <td>12</td>\n",
       "      <td>8</td>\n",
       "      <td>0.835270</td>\n",
       "      <td>0.0</td>\n",
       "      <td>1.000000</td>\n",
       "      <td>3.297226</td>\n",
       "      <td>-2.366432</td>\n",
       "      <td>1.767475</td>\n",
       "    </tr>\n",
       "    <tr>\n",
       "      <th>1</th>\n",
       "      <td>부산</td>\n",
       "      <td>8111</td>\n",
       "      <td>2013</td>\n",
       "      <td>12</td>\n",
       "      <td>7</td>\n",
       "      <td>0.166124</td>\n",
       "      <td>0.0</td>\n",
       "      <td>1.000000</td>\n",
       "      <td>-0.113291</td>\n",
       "      <td>-2.366432</td>\n",
       "      <td>1.767475</td>\n",
       "    </tr>\n",
       "    <tr>\n",
       "      <th>2</th>\n",
       "      <td>대구</td>\n",
       "      <td>8080</td>\n",
       "      <td>2013</td>\n",
       "      <td>12</td>\n",
       "      <td>5</td>\n",
       "      <td>0.164066</td>\n",
       "      <td>0.0</td>\n",
       "      <td>1.000000</td>\n",
       "      <td>-0.123782</td>\n",
       "      <td>-2.366432</td>\n",
       "      <td>1.767475</td>\n",
       "    </tr>\n",
       "    <tr>\n",
       "      <th>3</th>\n",
       "      <td>인천</td>\n",
       "      <td>10204</td>\n",
       "      <td>2013</td>\n",
       "      <td>12</td>\n",
       "      <td>11</td>\n",
       "      <td>0.305093</td>\n",
       "      <td>0.0</td>\n",
       "      <td>1.000000</td>\n",
       "      <td>0.595005</td>\n",
       "      <td>-2.366432</td>\n",
       "      <td>1.767475</td>\n",
       "    </tr>\n",
       "    <tr>\n",
       "      <th>4</th>\n",
       "      <td>광주</td>\n",
       "      <td>6098</td>\n",
       "      <td>2013</td>\n",
       "      <td>12</td>\n",
       "      <td>4</td>\n",
       "      <td>0.032468</td>\n",
       "      <td>0.0</td>\n",
       "      <td>1.000000</td>\n",
       "      <td>-0.794515</td>\n",
       "      <td>-2.366432</td>\n",
       "      <td>1.767475</td>\n",
       "    </tr>\n",
       "    <tr>\n",
       "      <th>...</th>\n",
       "      <td>...</td>\n",
       "      <td>...</td>\n",
       "      <td>...</td>\n",
       "      <td>...</td>\n",
       "      <td>...</td>\n",
       "      <td>...</td>\n",
       "      <td>...</td>\n",
       "      <td>...</td>\n",
       "      <td>...</td>\n",
       "      <td>...</td>\n",
       "      <td>...</td>\n",
       "    </tr>\n",
       "    <tr>\n",
       "      <th>352</th>\n",
       "      <td>전북</td>\n",
       "      <td>6580</td>\n",
       "      <td>2015</td>\n",
       "      <td>8</td>\n",
       "      <td>13</td>\n",
       "      <td>0.064471</td>\n",
       "      <td>1.0</td>\n",
       "      <td>0.636364</td>\n",
       "      <td>-0.631400</td>\n",
       "      <td>1.183216</td>\n",
       "      <td>0.589158</td>\n",
       "    </tr>\n",
       "    <tr>\n",
       "      <th>353</th>\n",
       "      <td>전남</td>\n",
       "      <td>6289</td>\n",
       "      <td>2015</td>\n",
       "      <td>8</td>\n",
       "      <td>12</td>\n",
       "      <td>0.045150</td>\n",
       "      <td>1.0</td>\n",
       "      <td>0.636364</td>\n",
       "      <td>-0.729878</td>\n",
       "      <td>1.183216</td>\n",
       "      <td>0.589158</td>\n",
       "    </tr>\n",
       "    <tr>\n",
       "      <th>354</th>\n",
       "      <td>경북</td>\n",
       "      <td>7037</td>\n",
       "      <td>2015</td>\n",
       "      <td>8</td>\n",
       "      <td>3</td>\n",
       "      <td>0.094814</td>\n",
       "      <td>1.0</td>\n",
       "      <td>0.636364</td>\n",
       "      <td>-0.476746</td>\n",
       "      <td>1.183216</td>\n",
       "      <td>0.589158</td>\n",
       "    </tr>\n",
       "    <tr>\n",
       "      <th>355</th>\n",
       "      <td>경남</td>\n",
       "      <td>7665</td>\n",
       "      <td>2015</td>\n",
       "      <td>8</td>\n",
       "      <td>2</td>\n",
       "      <td>0.136512</td>\n",
       "      <td>1.0</td>\n",
       "      <td>0.636364</td>\n",
       "      <td>-0.264223</td>\n",
       "      <td>1.183216</td>\n",
       "      <td>0.589158</td>\n",
       "    </tr>\n",
       "    <tr>\n",
       "      <th>356</th>\n",
       "      <td>제주</td>\n",
       "      <td>7343</td>\n",
       "      <td>2015</td>\n",
       "      <td>8</td>\n",
       "      <td>14</td>\n",
       "      <td>0.115132</td>\n",
       "      <td>1.0</td>\n",
       "      <td>0.636364</td>\n",
       "      <td>-0.373192</td>\n",
       "      <td>1.183216</td>\n",
       "      <td>0.589158</td>\n",
       "    </tr>\n",
       "  </tbody>\n",
       "</table>\n",
       "<p>357 rows × 11 columns</p>\n",
       "</div>"
      ],
      "text/plain": [
       "    지역명  평당분양가격    연도   월  지역명2   평당분양가격n  연도n        월n   평당분양가격s       연도s  \\\n",
       "0    서울   18189  2013  12     8  0.835270  0.0  1.000000  3.297226 -2.366432   \n",
       "1    부산    8111  2013  12     7  0.166124  0.0  1.000000 -0.113291 -2.366432   \n",
       "2    대구    8080  2013  12     5  0.164066  0.0  1.000000 -0.123782 -2.366432   \n",
       "3    인천   10204  2013  12    11  0.305093  0.0  1.000000  0.595005 -2.366432   \n",
       "4    광주    6098  2013  12     4  0.032468  0.0  1.000000 -0.794515 -2.366432   \n",
       "..   ..     ...   ...  ..   ...       ...  ...       ...       ...       ...   \n",
       "352  전북    6580  2015   8    13  0.064471  1.0  0.636364 -0.631400  1.183216   \n",
       "353  전남    6289  2015   8    12  0.045150  1.0  0.636364 -0.729878  1.183216   \n",
       "354  경북    7037  2015   8     3  0.094814  1.0  0.636364 -0.476746  1.183216   \n",
       "355  경남    7665  2015   8     2  0.136512  1.0  0.636364 -0.264223  1.183216   \n",
       "356  제주    7343  2015   8    14  0.115132  1.0  0.636364 -0.373192  1.183216   \n",
       "\n",
       "           월s  \n",
       "0    1.767475  \n",
       "1    1.767475  \n",
       "2    1.767475  \n",
       "3    1.767475  \n",
       "4    1.767475  \n",
       "..        ...  \n",
       "352  0.589158  \n",
       "353  0.589158  \n",
       "354  0.589158  \n",
       "355  0.589158  \n",
       "356  0.589158  \n",
       "\n",
       "[357 rows x 11 columns]"
      ]
     },
     "execution_count": 104,
     "metadata": {},
     "output_type": "execute_result"
    }
   ],
   "source": [
    "def scaling(df,column):\n",
    "    data = np.array(df[column])\n",
    "    scaled_data=(data-data.min())/(data.max()-data.min())\n",
    "    df[column+'n']=scaled_data\n",
    "scaling(new_df,'평당분양가격')\n",
    "scaling(new_df,'연도')\n",
    "scaling(new_df,'월')\n",
    "\n",
    "def scaling(df,column):\n",
    "    data = np.array(df[column])\n",
    "    scaled_data=(data-data.mean())/data.std()\n",
    "    df[column+'s']=scaled_data\n",
    "scaling(new_df,'평당분양가격')\n",
    "scaling(new_df,'연도')\n",
    "scaling(new_df,'월')\n",
    "new_df"
   ]
  },
  {
   "cell_type": "markdown",
   "id": "8161c9d3",
   "metadata": {},
   "source": [
    "## 2.5 독립변수 x가 여러개인 linear Regression"
   ]
  },
  {
   "cell_type": "code",
   "execution_count": null,
   "id": "465262cf",
   "metadata": {},
   "outputs": [],
   "source": []
  },
  {
   "cell_type": "code",
   "execution_count": null,
   "id": "8c9d5d33",
   "metadata": {},
   "outputs": [],
   "source": []
  },
  {
   "cell_type": "markdown",
   "id": "f77abc4b",
   "metadata": {},
   "source": [
    "## csv를 array로 읽어오기"
   ]
  },
  {
   "cell_type": "code",
   "execution_count": 114,
   "id": "80dcf8c6",
   "metadata": {},
   "outputs": [
    {
     "data": {
      "text/plain": [
       "((111, 4), (111,))"
      ]
     },
     "execution_count": 114,
     "metadata": {},
     "output_type": "execute_result"
    }
   ],
   "source": [
    "# 방법1\n",
    "# 1. csv를 dataFrame 읽어와\n",
    "data = pd.read_csv('data/ozone.csv')\n",
    "# 2. 결측치 대체 or 삭제\n",
    "# data.fillna(value=data.mean(), inplace=True)\n",
    "data.dropna(how='any', axis=0, inplace=True)\n",
    "X = data[['Ozone','Solar.R','Wind','Temp']].values\n",
    "y = data['Ozone'].values\n",
    "X.shape, y.shape"
   ]
  },
  {
   "cell_type": "code",
   "execution_count": 119,
   "id": "30796b21",
   "metadata": {},
   "outputs": [
    {
     "ename": "ValueError",
     "evalue": "could not convert string 'Ozone' to float64 at row 0, column 1.",
     "output_type": "error",
     "traceback": [
      "\u001b[1;31m---------------------------------------------------------------------------\u001b[0m",
      "\u001b[1;31mValueError\u001b[0m                                Traceback (most recent call last)",
      "\u001b[1;31mValueError\u001b[0m: could not convert string to float: 'Ozone'",
      "\nThe above exception was the direct cause of the following exception:\n",
      "\u001b[1;31mValueError\u001b[0m                                Traceback (most recent call last)",
      "Cell \u001b[1;32mIn[119], line 3\u001b[0m\n\u001b[0;32m      1\u001b[0m \u001b[38;5;66;03m# 방법2 : csv -> 넘파이배열\u001b[39;00m\n\u001b[0;32m      2\u001b[0m \u001b[38;5;66;03m# data = np.loadtxt('data/ozone_nonan.csv', delimiter=',') NAN이 없어야 함\u001b[39;00m\n\u001b[1;32m----> 3\u001b[0m data \u001b[38;5;241m=\u001b[39m \u001b[43mnp\u001b[49m\u001b[38;5;241;43m.\u001b[39;49m\u001b[43mloadtxt\u001b[49m\u001b[43m(\u001b[49m\u001b[38;5;124;43m'\u001b[39;49m\u001b[38;5;124;43mdata/ozone_nonan.csv\u001b[39;49m\u001b[38;5;124;43m'\u001b[39;49m\u001b[43m,\u001b[49m\u001b[43m \u001b[49m\u001b[43mdelimiter\u001b[49m\u001b[38;5;241;43m=\u001b[39;49m\u001b[38;5;124;43m'\u001b[39;49m\u001b[38;5;124;43m,\u001b[39;49m\u001b[38;5;124;43m'\u001b[39;49m\u001b[43m)\u001b[49m\n\u001b[0;32m      4\u001b[0m data \u001b[38;5;241m=\u001b[39m np\u001b[38;5;241m.\u001b[39mgenfromtxt(\u001b[38;5;124m'\u001b[39m\u001b[38;5;124mdata/ozone_nonan.csv\u001b[39m\u001b[38;5;124m'\u001b[39m, delimiter\u001b[38;5;241m=\u001b[39m\u001b[38;5;124m'\u001b[39m\u001b[38;5;124m,\u001b[39m\u001b[38;5;124m'\u001b[39m, skip_header\u001b[38;5;241m=\u001b[39m\u001b[38;5;241m1\u001b[39m, missing_values\u001b[38;5;241m=\u001b[39m\u001b[38;5;124m'\u001b[39m\u001b[38;5;124mNA\u001b[39m\u001b[38;5;124m'\u001b[39m, filling_values\u001b[38;5;241m=\u001b[39mnp\u001b[38;5;241m.\u001b[39mnan)\n\u001b[0;32m      5\u001b[0m data\n",
      "File \u001b[1;32m~\\anaconda3\\lib\\site-packages\\numpy\\lib\\npyio.py:1338\u001b[0m, in \u001b[0;36mloadtxt\u001b[1;34m(fname, dtype, comments, delimiter, converters, skiprows, usecols, unpack, ndmin, encoding, max_rows, quotechar, like)\u001b[0m\n\u001b[0;32m   1335\u001b[0m \u001b[38;5;28;01mif\u001b[39;00m \u001b[38;5;28misinstance\u001b[39m(delimiter, \u001b[38;5;28mbytes\u001b[39m):\n\u001b[0;32m   1336\u001b[0m     delimiter \u001b[38;5;241m=\u001b[39m delimiter\u001b[38;5;241m.\u001b[39mdecode(\u001b[38;5;124m'\u001b[39m\u001b[38;5;124mlatin1\u001b[39m\u001b[38;5;124m'\u001b[39m)\n\u001b[1;32m-> 1338\u001b[0m arr \u001b[38;5;241m=\u001b[39m \u001b[43m_read\u001b[49m\u001b[43m(\u001b[49m\u001b[43mfname\u001b[49m\u001b[43m,\u001b[49m\u001b[43m \u001b[49m\u001b[43mdtype\u001b[49m\u001b[38;5;241;43m=\u001b[39;49m\u001b[43mdtype\u001b[49m\u001b[43m,\u001b[49m\u001b[43m \u001b[49m\u001b[43mcomment\u001b[49m\u001b[38;5;241;43m=\u001b[39;49m\u001b[43mcomment\u001b[49m\u001b[43m,\u001b[49m\u001b[43m \u001b[49m\u001b[43mdelimiter\u001b[49m\u001b[38;5;241;43m=\u001b[39;49m\u001b[43mdelimiter\u001b[49m\u001b[43m,\u001b[49m\n\u001b[0;32m   1339\u001b[0m \u001b[43m            \u001b[49m\u001b[43mconverters\u001b[49m\u001b[38;5;241;43m=\u001b[39;49m\u001b[43mconverters\u001b[49m\u001b[43m,\u001b[49m\u001b[43m \u001b[49m\u001b[43mskiplines\u001b[49m\u001b[38;5;241;43m=\u001b[39;49m\u001b[43mskiprows\u001b[49m\u001b[43m,\u001b[49m\u001b[43m \u001b[49m\u001b[43musecols\u001b[49m\u001b[38;5;241;43m=\u001b[39;49m\u001b[43musecols\u001b[49m\u001b[43m,\u001b[49m\n\u001b[0;32m   1340\u001b[0m \u001b[43m            \u001b[49m\u001b[43munpack\u001b[49m\u001b[38;5;241;43m=\u001b[39;49m\u001b[43munpack\u001b[49m\u001b[43m,\u001b[49m\u001b[43m \u001b[49m\u001b[43mndmin\u001b[49m\u001b[38;5;241;43m=\u001b[39;49m\u001b[43mndmin\u001b[49m\u001b[43m,\u001b[49m\u001b[43m \u001b[49m\u001b[43mencoding\u001b[49m\u001b[38;5;241;43m=\u001b[39;49m\u001b[43mencoding\u001b[49m\u001b[43m,\u001b[49m\n\u001b[0;32m   1341\u001b[0m \u001b[43m            \u001b[49m\u001b[43mmax_rows\u001b[49m\u001b[38;5;241;43m=\u001b[39;49m\u001b[43mmax_rows\u001b[49m\u001b[43m,\u001b[49m\u001b[43m \u001b[49m\u001b[43mquote\u001b[49m\u001b[38;5;241;43m=\u001b[39;49m\u001b[43mquotechar\u001b[49m\u001b[43m)\u001b[49m\n\u001b[0;32m   1343\u001b[0m \u001b[38;5;28;01mreturn\u001b[39;00m arr\n",
      "File \u001b[1;32m~\\anaconda3\\lib\\site-packages\\numpy\\lib\\npyio.py:999\u001b[0m, in \u001b[0;36m_read\u001b[1;34m(fname, delimiter, comment, quote, imaginary_unit, usecols, skiplines, max_rows, converters, ndmin, unpack, dtype, encoding)\u001b[0m\n\u001b[0;32m    996\u001b[0m     data \u001b[38;5;241m=\u001b[39m _preprocess_comments(data, comments, encoding)\n\u001b[0;32m    998\u001b[0m \u001b[38;5;28;01mif\u001b[39;00m read_dtype_via_object_chunks \u001b[38;5;129;01mis\u001b[39;00m \u001b[38;5;28;01mNone\u001b[39;00m:\n\u001b[1;32m--> 999\u001b[0m     arr \u001b[38;5;241m=\u001b[39m \u001b[43m_load_from_filelike\u001b[49m\u001b[43m(\u001b[49m\n\u001b[0;32m   1000\u001b[0m \u001b[43m        \u001b[49m\u001b[43mdata\u001b[49m\u001b[43m,\u001b[49m\u001b[43m \u001b[49m\u001b[43mdelimiter\u001b[49m\u001b[38;5;241;43m=\u001b[39;49m\u001b[43mdelimiter\u001b[49m\u001b[43m,\u001b[49m\u001b[43m \u001b[49m\u001b[43mcomment\u001b[49m\u001b[38;5;241;43m=\u001b[39;49m\u001b[43mcomment\u001b[49m\u001b[43m,\u001b[49m\u001b[43m \u001b[49m\u001b[43mquote\u001b[49m\u001b[38;5;241;43m=\u001b[39;49m\u001b[43mquote\u001b[49m\u001b[43m,\u001b[49m\n\u001b[0;32m   1001\u001b[0m \u001b[43m        \u001b[49m\u001b[43mimaginary_unit\u001b[49m\u001b[38;5;241;43m=\u001b[39;49m\u001b[43mimaginary_unit\u001b[49m\u001b[43m,\u001b[49m\n\u001b[0;32m   1002\u001b[0m \u001b[43m        \u001b[49m\u001b[43musecols\u001b[49m\u001b[38;5;241;43m=\u001b[39;49m\u001b[43musecols\u001b[49m\u001b[43m,\u001b[49m\u001b[43m \u001b[49m\u001b[43mskiplines\u001b[49m\u001b[38;5;241;43m=\u001b[39;49m\u001b[43mskiplines\u001b[49m\u001b[43m,\u001b[49m\u001b[43m \u001b[49m\u001b[43mmax_rows\u001b[49m\u001b[38;5;241;43m=\u001b[39;49m\u001b[43mmax_rows\u001b[49m\u001b[43m,\u001b[49m\n\u001b[0;32m   1003\u001b[0m \u001b[43m        \u001b[49m\u001b[43mconverters\u001b[49m\u001b[38;5;241;43m=\u001b[39;49m\u001b[43mconverters\u001b[49m\u001b[43m,\u001b[49m\u001b[43m \u001b[49m\u001b[43mdtype\u001b[49m\u001b[38;5;241;43m=\u001b[39;49m\u001b[43mdtype\u001b[49m\u001b[43m,\u001b[49m\n\u001b[0;32m   1004\u001b[0m \u001b[43m        \u001b[49m\u001b[43mencoding\u001b[49m\u001b[38;5;241;43m=\u001b[39;49m\u001b[43mencoding\u001b[49m\u001b[43m,\u001b[49m\u001b[43m \u001b[49m\u001b[43mfilelike\u001b[49m\u001b[38;5;241;43m=\u001b[39;49m\u001b[43mfilelike\u001b[49m\u001b[43m,\u001b[49m\n\u001b[0;32m   1005\u001b[0m \u001b[43m        \u001b[49m\u001b[43mbyte_converters\u001b[49m\u001b[38;5;241;43m=\u001b[39;49m\u001b[43mbyte_converters\u001b[49m\u001b[43m)\u001b[49m\n\u001b[0;32m   1007\u001b[0m \u001b[38;5;28;01melse\u001b[39;00m:\n\u001b[0;32m   1008\u001b[0m     \u001b[38;5;66;03m# This branch reads the file into chunks of object arrays and then\u001b[39;00m\n\u001b[0;32m   1009\u001b[0m     \u001b[38;5;66;03m# casts them to the desired actual dtype.  This ensures correct\u001b[39;00m\n\u001b[0;32m   1010\u001b[0m     \u001b[38;5;66;03m# string-length and datetime-unit discovery (like `arr.astype()`).\u001b[39;00m\n\u001b[0;32m   1011\u001b[0m     \u001b[38;5;66;03m# Due to chunking, certain error reports are less clear, currently.\u001b[39;00m\n\u001b[0;32m   1012\u001b[0m     \u001b[38;5;28;01mif\u001b[39;00m filelike:\n",
      "\u001b[1;31mValueError\u001b[0m: could not convert string 'Ozone' to float64 at row 0, column 1."
     ]
    }
   ],
   "source": [
    "# 방법2 : csv -> 넘파이배열\n",
    "# data = np.loadtxt('data/ozone_nonan.csv', delimiter=',') NAN이 없어야 함\n",
    "data = np.genfromtxt('data/ozone_nonan.csv', delimiter=',', skip_header=1, missing_values='NA', filling_values=np.nan)\n",
    "data"
   ]
  },
  {
   "cell_type": "code",
   "execution_count": null,
   "id": "726e50ad",
   "metadata": {},
   "outputs": [],
   "source": []
  }
 ],
 "metadata": {
  "kernelspec": {
   "display_name": "Python 3 (ipykernel)",
   "language": "python",
   "name": "python3"
  },
  "language_info": {
   "codemirror_mode": {
    "name": "ipython",
    "version": 3
   },
   "file_extension": ".py",
   "mimetype": "text/x-python",
   "name": "python",
   "nbconvert_exporter": "python",
   "pygments_lexer": "ipython3",
   "version": "3.10.9"
  },
  "toc": {
   "base_numbering": 1,
   "nav_menu": {},
   "number_sections": true,
   "sideBar": true,
   "skip_h1_title": false,
   "title_cell": "Table of Contents",
   "title_sidebar": "Contents",
   "toc_cell": false,
   "toc_position": {},
   "toc_section_display": true,
   "toc_window_display": false
  }
 },
 "nbformat": 4,
 "nbformat_minor": 5
}
