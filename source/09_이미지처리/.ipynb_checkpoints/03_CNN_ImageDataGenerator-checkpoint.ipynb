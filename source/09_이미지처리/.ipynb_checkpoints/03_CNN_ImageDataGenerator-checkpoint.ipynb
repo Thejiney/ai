{
 "cells": [
  {
   "cell_type": "code",
   "execution_count": 2,
   "id": "429e3640",
   "metadata": {},
   "outputs": [
    {
     "data": {
      "image/png": "[encoded data removed]",
      "text/plain": [
       "<PIL.PngImagePlugin.PngImageFile image mode=RGBA size=28x28>"
      ]
     },
     "metadata": {},
     "output_type": "display_data"
    },
    {
     "data": {
      "text/plain": [
       "(28, 28, 4)"
      ]
     },
     "execution_count": 2,
     "metadata": {},
     "output_type": "execute_result"
    }
   ],
   "source": [
    "from PIL import Image\n",
    "import numpy as np\n",
    "c0 = Image.open('data/test/0/1.png')\n",
    "display(c0)\n",
    "c0_numpy = np.array(c0)\n",
    "c0_numpy.shape"
   ]
  },
  {
   "cell_type": "code",
   "execution_count": 4,
   "id": "7e226898",
   "metadata": {},
   "outputs": [
    {
     "data": {
      "text/plain": [
       "(28, 28, 3)"
      ]
     },
     "execution_count": 4,
     "metadata": {},
     "output_type": "execute_result"
    }
   ],
   "source": [
    "c0_numpy[:,:,:-1].shape"
   ]
  },
  {
   "cell_type": "markdown",
   "id": "6f898d2f",
   "metadata": {},
   "source": [
    "# 1. CNN"
   ]
  },
  {
   "cell_type": "code",
   "execution_count": 6,
   "id": "231f8043",
   "metadata": {},
   "outputs": [],
   "source": [
    "import numpy as np\n",
    "from tensorflow.keras.preprocessing.image import ImageDataGenerator\n",
    "from tensorflow.keras.models import Sequential\n",
    "from tensorflow.keras.layers import Conv2D, MaxPooling2D, Flatten, Dense, Dropout\n",
    "from PIL import Image\n",
    "np.random.seed(3)"
   ]
  },
  {
   "cell_type": "code",
   "execution_count": 7,
   "id": "8da82ff8",
   "metadata": {},
   "outputs": [
    {
     "data": {
      "text/plain": [
       "(24, 24, 4)"
      ]
     },
     "execution_count": 7,
     "metadata": {},
     "output_type": "execute_result"
    }
   ],
   "source": [
    "circle = Image.open('data/handwriting/handwriting_shape/train/circle/circle003.png')\n",
    "np.array(circle).shape\n",
    "# 모든 이미지의 shape이 같을 필요는 없음"
   ]
  },
  {
   "cell_type": "code",
   "execution_count": 10,
   "id": "ba1a9a13",
   "metadata": {},
   "outputs": [
    {
     "name": "stdout",
     "output_type": "stream",
     "text": [
      "Found 45 images belonging to 3 classes.\n",
      "Found 15 images belonging to 3 classes.\n"
     ]
    }
   ],
   "source": [
    "# 1. 데이터 생성하기 학습훈련셋 : data/handwriting/handwriting_shape/train/*\n",
    "                # 테스트셋 : data/handwriting/handwriting_shape/test/*\n",
    "train_datagen = ImageDataGenerator(rescale=1./255) # 0~1사이의 값으로 스케일 조정\n",
    "train_data = train_datagen.flow_from_directory(\n",
    "    'data/handwriting/handwriting_shape/train', # train 아래 폴더명이 라벨\n",
    "    target_size=(24,24), # 넘파이 배열의 이미지 크기 조정\n",
    "    class_mode='categorical', # 원핫인코딩 형식으로 반환\n",
    "    batch_size=3 # 한번에 반환할 이미지와 라벨 수\n",
    ")\n",
    "test_datagen = ImageDataGenerator(rescale=1./255)\n",
    "test_data = test_datagen.flow_from_directory(\n",
    "    'data/handwriting/handwriting_shape/test',\n",
    "    target_size=(24,24),\n",
    "    class_mode='categorical',\n",
    "    batch_size=3,\n",
    "    suffle=False # 이미지와 라벨 순서가 고정\n",
    ")"
   ]
  },
  {
   "cell_type": "code",
   "execution_count": 11,
   "id": "df805490",
   "metadata": {},
   "outputs": [
    {
     "data": {
      "text/plain": [
       "<keras.preprocessing.image.DirectoryIterator at 0x2704dbef1c0>"
      ]
     },
     "execution_count": 11,
     "metadata": {},
     "output_type": "execute_result"
    }
   ],
   "source": [
    "test_data"
   ]
  },
  {
   "cell_type": "code",
   "execution_count": 14,
   "id": "a5adc62b",
   "metadata": {},
   "outputs": [
    {
     "data": {
      "text/plain": [
       "array([[0., 1., 0.],\n",
       "       [0., 1., 0.],\n",
       "       [1., 0., 0.]], dtype=float32)"
      ]
     },
     "execution_count": 14,
     "metadata": {},
     "output_type": "execute_result"
    }
   ],
   "source": [
    "X_images, Y_labels = next(test_data) # 한 배치 사이즈 만큼만 데이터 가져오기\n",
    "Y_labels"
   ]
  },
  {
   "cell_type": "code",
   "execution_count": 15,
   "id": "9d0b0f1d",
   "metadata": {},
   "outputs": [
    {
     "name": "stdout",
     "output_type": "stream",
     "text": [
      "데이터 전체 갯수 : 15\n",
      "배치 사이즈 : 3\n"
     ]
    }
   ],
   "source": [
    "print('데이터 전체 갯수 :', test_data.n)\n",
    "print('배치 사이즈 :',test_data.batch_size)"
   ]
  },
  {
   "cell_type": "code",
   "execution_count": 16,
   "id": "92a8317e",
   "metadata": {},
   "outputs": [
    {
     "data": {
      "text/plain": [
       "((15, 24, 24, 3), (15, 3))"
      ]
     },
     "execution_count": 16,
     "metadata": {},
     "output_type": "execute_result"
    }
   ],
   "source": [
    "# 전체 가져오기\n",
    "all_images = [] # 독립변수\n",
    "all_labels = [] # 종속변수\n",
    "\n",
    "for images, labels in test_data:\n",
    "    all_images.append(images)\n",
    "    all_labels.append(labels)\n",
    "    if len(all_images) * test_data.batch_size >= test_data.n:\n",
    "        break\n",
    "X_test_images = np.concatenate(all_images)\n",
    "Y_test_labels = np.concatenate(all_labels)\n",
    "\n",
    "X_test_images.shape, Y_test_labels.shape"
   ]
  },
  {
   "cell_type": "code",
   "execution_count": 29,
   "id": "c74b25ab",
   "metadata": {
    "scrolled": true
   },
   "outputs": [
    {
     "name": "stdout",
     "output_type": "stream",
     "text": [
      "Model: \"sequential_4\"\n",
      "_________________________________________________________________\n",
      " Layer (type)                Output Shape              Param #   \n",
      "=================================================================\n",
      " conv2d_4 (Conv2D)           (None, 22, 22, 16)        448       \n",
      "                                                                 \n",
      " conv2d_5 (Conv2D)           (None, 20, 20, 32)        4640      \n",
      "                                                                 \n",
      " max_pooling2d_2 (MaxPooling  (None, 10, 10, 32)       0         \n",
      " 2D)                                                             \n",
      "                                                                 \n",
      " flatten_2 (Flatten)         (None, 3200)              0         \n",
      "                                                                 \n",
      " dense_4 (Dense)             (None, 64)                204864    \n",
      "                                                                 \n",
      " dense_5 (Dense)             (None, 3)                 195       \n",
      "                                                                 \n",
      "=================================================================\n",
      "Total params: 210,147\n",
      "Trainable params: 210,147\n",
      "Non-trainable params: 0\n",
      "_________________________________________________________________\n"
     ]
    }
   ],
   "source": [
    "# 2. 모델 구성\n",
    "model = Sequential()\n",
    "model.add(Conv2D(16, kernel_size=(3,3), activation='relu', input_shape=(24,24,3)))\n",
    "model.add(Conv2D(32, kernel_size=(3,3), activation='relu'))\n",
    "model.add(MaxPooling2D(pool_size=(2,2)))\n",
    "model.add(Flatten()) # 3차원 데이터를 1차원으로\n",
    "model.add(Dense(units=64, activation='relu'))\n",
    "model.add(Dense(units=3, activation='softmax'))\n",
    "model.summary()"
   ]
  },
  {
   "cell_type": "code",
   "execution_count": 30,
   "id": "96de2b66",
   "metadata": {},
   "outputs": [
    {
     "name": "stdout",
     "output_type": "stream",
     "text": [
      "Epoch 1/50\n",
      "15/15 [==============================] - 1s 30ms/step - loss: 0.9810 - accuracy: 0.5778 - val_loss: 0.6051 - val_accuracy: 1.0000\n",
      "Epoch 2/50\n",
      "15/15 [==============================] - 0s 10ms/step - loss: 0.3047 - accuracy: 0.9778 - val_loss: 0.1978 - val_accuracy: 0.9333\n",
      "Epoch 3/50\n",
      "15/15 [==============================] - 0s 11ms/step - loss: 0.0529 - accuracy: 1.0000 - val_loss: 0.0439 - val_accuracy: 1.0000\n",
      "Epoch 4/50\n",
      "15/15 [==============================] - 0s 11ms/step - loss: 0.0117 - accuracy: 1.0000 - val_loss: 0.0239 - val_accuracy: 1.0000\n",
      "Epoch 5/50\n",
      "15/15 [==============================] - 0s 10ms/step - loss: 0.0031 - accuracy: 1.0000 - val_loss: 0.0171 - val_accuracy: 1.0000\n",
      "Epoch 6/50\n",
      "15/15 [==============================] - 0s 12ms/step - loss: 0.0020 - accuracy: 1.0000 - val_loss: 0.0182 - val_accuracy: 1.0000\n",
      "Epoch 7/50\n",
      "15/15 [==============================] - 0s 12ms/step - loss: 0.0015 - accuracy: 1.0000 - val_loss: 0.0149 - val_accuracy: 1.0000\n",
      "Epoch 8/50\n",
      "15/15 [==============================] - 0s 11ms/step - loss: 0.0012 - accuracy: 1.0000 - val_loss: 0.0143 - val_accuracy: 1.0000\n",
      "Epoch 9/50\n",
      "15/15 [==============================] - 0s 10ms/step - loss: 9.9660e-04 - accuracy: 1.0000 - val_loss: 0.0132 - val_accuracy: 1.0000\n",
      "Epoch 10/50\n",
      "15/15 [==============================] - 0s 12ms/step - loss: 8.6146e-04 - accuracy: 1.0000 - val_loss: 0.0130 - val_accuracy: 1.0000\n",
      "Epoch 11/50\n",
      "15/15 [==============================] - 0s 12ms/step - loss: 7.4686e-04 - accuracy: 1.0000 - val_loss: 0.0115 - val_accuracy: 1.0000\n",
      "Epoch 12/50\n",
      "15/15 [==============================] - 0s 11ms/step - loss: 6.7241e-04 - accuracy: 1.0000 - val_loss: 0.0122 - val_accuracy: 1.0000\n",
      "Epoch 13/50\n",
      "15/15 [==============================] - 0s 11ms/step - loss: 5.7211e-04 - accuracy: 1.0000 - val_loss: 0.0104 - val_accuracy: 1.0000\n",
      "Epoch 14/50\n",
      "15/15 [==============================] - 0s 10ms/step - loss: 5.0614e-04 - accuracy: 1.0000 - val_loss: 0.0103 - val_accuracy: 1.0000\n",
      "Epoch 15/50\n",
      "15/15 [==============================] - 0s 10ms/step - loss: 4.5105e-04 - accuracy: 1.0000 - val_loss: 0.0104 - val_accuracy: 1.0000\n",
      "Epoch 16/50\n",
      "15/15 [==============================] - 0s 12ms/step - loss: 4.0729e-04 - accuracy: 1.0000 - val_loss: 0.0104 - val_accuracy: 1.0000\n",
      "Epoch 17/50\n",
      "15/15 [==============================] - 0s 12ms/step - loss: 3.7551e-04 - accuracy: 1.0000 - val_loss: 0.0093 - val_accuracy: 1.0000\n",
      "Epoch 18/50\n",
      "15/15 [==============================] - 0s 11ms/step - loss: 3.3608e-04 - accuracy: 1.0000 - val_loss: 0.0094 - val_accuracy: 1.0000\n",
      "Epoch 19/50\n",
      "15/15 [==============================] - 0s 11ms/step - loss: 3.0718e-04 - accuracy: 1.0000 - val_loss: 0.0093 - val_accuracy: 1.0000\n",
      "Epoch 20/50\n",
      "15/15 [==============================] - 0s 13ms/step - loss: 2.7726e-04 - accuracy: 1.0000 - val_loss: 0.0090 - val_accuracy: 1.0000\n",
      "Epoch 21/50\n",
      "15/15 [==============================] - 0s 11ms/step - loss: 2.5738e-04 - accuracy: 1.0000 - val_loss: 0.0084 - val_accuracy: 1.0000\n",
      "Epoch 22/50\n",
      "15/15 [==============================] - 0s 10ms/step - loss: 2.3500e-04 - accuracy: 1.0000 - val_loss: 0.0083 - val_accuracy: 1.0000\n",
      "Epoch 23/50\n",
      "15/15 [==============================] - 0s 10ms/step - loss: 2.2182e-04 - accuracy: 1.0000 - val_loss: 0.0082 - val_accuracy: 1.0000\n",
      "Epoch 24/50\n",
      "15/15 [==============================] - 0s 11ms/step - loss: 2.0255e-04 - accuracy: 1.0000 - val_loss: 0.0081 - val_accuracy: 1.0000\n",
      "Epoch 25/50\n",
      "15/15 [==============================] - 0s 12ms/step - loss: 1.8786e-04 - accuracy: 1.0000 - val_loss: 0.0081 - val_accuracy: 1.0000\n",
      "Epoch 26/50\n",
      "15/15 [==============================] - 0s 10ms/step - loss: 1.7699e-04 - accuracy: 1.0000 - val_loss: 0.0081 - val_accuracy: 1.0000\n",
      "Epoch 27/50\n",
      "15/15 [==============================] - 0s 11ms/step - loss: 1.6378e-04 - accuracy: 1.0000 - val_loss: 0.0077 - val_accuracy: 1.0000\n",
      "Epoch 28/50\n",
      "15/15 [==============================] - 0s 11ms/step - loss: 1.5346e-04 - accuracy: 1.0000 - val_loss: 0.0078 - val_accuracy: 1.0000\n",
      "Epoch 29/50\n",
      "15/15 [==============================] - 0s 10ms/step - loss: 1.4378e-04 - accuracy: 1.0000 - val_loss: 0.0074 - val_accuracy: 1.0000\n",
      "Epoch 30/50\n",
      "15/15 [==============================] - 0s 10ms/step - loss: 1.3498e-04 - accuracy: 1.0000 - val_loss: 0.0075 - val_accuracy: 1.0000\n",
      "Epoch 31/50\n",
      "15/15 [==============================] - 0s 10ms/step - loss: 1.2757e-04 - accuracy: 1.0000 - val_loss: 0.0075 - val_accuracy: 1.0000\n",
      "Epoch 32/50\n",
      "15/15 [==============================] - 0s 12ms/step - loss: 1.1890e-04 - accuracy: 1.0000 - val_loss: 0.0070 - val_accuracy: 1.0000\n",
      "Epoch 33/50\n",
      "15/15 [==============================] - 0s 14ms/step - loss: 1.1380e-04 - accuracy: 1.0000 - val_loss: 0.0069 - val_accuracy: 1.0000\n",
      "Epoch 34/50\n",
      "15/15 [==============================] - 0s 12ms/step - loss: 1.0615e-04 - accuracy: 1.0000 - val_loss: 0.0070 - val_accuracy: 1.0000\n",
      "Epoch 35/50\n",
      "15/15 [==============================] - 0s 13ms/step - loss: 1.0083e-04 - accuracy: 1.0000 - val_loss: 0.0069 - val_accuracy: 1.0000\n",
      "Epoch 36/50\n",
      "15/15 [==============================] - 0s 14ms/step - loss: 9.5649e-05 - accuracy: 1.0000 - val_loss: 0.0069 - val_accuracy: 1.0000\n",
      "Epoch 37/50\n",
      "15/15 [==============================] - 0s 11ms/step - loss: 9.0762e-05 - accuracy: 1.0000 - val_loss: 0.0068 - val_accuracy: 1.0000\n",
      "Epoch 38/50\n",
      "15/15 [==============================] - 0s 12ms/step - loss: 8.6334e-05 - accuracy: 1.0000 - val_loss: 0.0068 - val_accuracy: 1.0000\n",
      "Epoch 39/50\n",
      "15/15 [==============================] - 0s 10ms/step - loss: 8.3188e-05 - accuracy: 1.0000 - val_loss: 0.0064 - val_accuracy: 1.0000\n",
      "Epoch 40/50\n",
      "15/15 [==============================] - 0s 11ms/step - loss: 7.7785e-05 - accuracy: 1.0000 - val_loss: 0.0065 - val_accuracy: 1.0000\n",
      "Epoch 41/50\n",
      "15/15 [==============================] - 0s 11ms/step - loss: 7.4482e-05 - accuracy: 1.0000 - val_loss: 0.0063 - val_accuracy: 1.0000\n",
      "Epoch 42/50\n",
      "15/15 [==============================] - 0s 11ms/step - loss: 7.1208e-05 - accuracy: 1.0000 - val_loss: 0.0065 - val_accuracy: 1.0000\n",
      "Epoch 43/50\n",
      "15/15 [==============================] - 0s 12ms/step - loss: 6.7755e-05 - accuracy: 1.0000 - val_loss: 0.0063 - val_accuracy: 1.0000\n",
      "Epoch 44/50\n",
      "15/15 [==============================] - 0s 12ms/step - loss: 6.4852e-05 - accuracy: 1.0000 - val_loss: 0.0063 - val_accuracy: 1.0000\n",
      "Epoch 45/50\n",
      "15/15 [==============================] - 0s 10ms/step - loss: 6.2277e-05 - accuracy: 1.0000 - val_loss: 0.0062 - val_accuracy: 1.0000\n",
      "Epoch 46/50\n",
      "15/15 [==============================] - 0s 16ms/step - loss: 5.9271e-05 - accuracy: 1.0000 - val_loss: 0.0063 - val_accuracy: 1.0000\n",
      "Epoch 47/50\n",
      "15/15 [==============================] - 0s 11ms/step - loss: 5.6792e-05 - accuracy: 1.0000 - val_loss: 0.0062 - val_accuracy: 1.0000\n",
      "Epoch 48/50\n",
      "15/15 [==============================] - 0s 11ms/step - loss: 5.4633e-05 - accuracy: 1.0000 - val_loss: 0.0061 - val_accuracy: 1.0000\n",
      "Epoch 49/50\n",
      "15/15 [==============================] - 0s 10ms/step - loss: 5.2941e-05 - accuracy: 1.0000 - val_loss: 0.0062 - val_accuracy: 1.0000\n",
      "Epoch 50/50\n",
      "15/15 [==============================] - 0s 12ms/step - loss: 5.0639e-05 - accuracy: 1.0000 - val_loss: 0.0060 - val_accuracy: 1.0000\n"
     ]
    },
    {
     "data": {
      "text/plain": [
       "<keras.callbacks.History at 0x27051b6d450>"
      ]
     },
     "execution_count": 30,
     "metadata": {},
     "output_type": "execute_result"
    }
   ],
   "source": [
    "# 3. 학습과정\n",
    "model.compile(loss='categorical_crossentropy', optimizer='adam', metrics=['accuracy'])\n",
    "# 4. 학습시키기\n",
    "model.fit(train_data, epochs=50, validation_data=test_data)"
   ]
  },
  {
   "cell_type": "code",
   "execution_count": 34,
   "id": "3bb28c76",
   "metadata": {
    "scrolled": true
   },
   "outputs": [
    {
     "name": "stdout",
     "output_type": "stream",
     "text": [
      "5/5 [==============================] - 0s 4ms/step\n"
     ]
    },
    {
     "data": {
      "text/plain": [
       "array([0, 1, 2, 0, 0, 2, 1, 2, 0, 1, 1, 2, 2, 0, 1], dtype=int64)"
      ]
     },
     "execution_count": 34,
     "metadata": {},
     "output_type": "execute_result"
    }
   ],
   "source": [
    "# 예측하기\n",
    "yhat = model.predict(test_data)\n",
    "yhat.argmax(axis=1)"
   ]
  },
  {
   "cell_type": "code",
   "execution_count": 37,
   "id": "5860984e",
   "metadata": {},
   "outputs": [
    {
     "data": {
      "text/plain": [
       "array([[0.98, 0.00, 0.02],\n",
       "       [0.05, 0.94, 0.01],\n",
       "       [0.00, 0.00, 1.00],\n",
       "       [1.00, 0.00, 0.00],\n",
       "       [1.00, 0.00, 0.00],\n",
       "       [0.00, 0.00, 1.00],\n",
       "       [0.00, 1.00, 0.00],\n",
       "       [0.00, 0.00, 1.00],\n",
       "       [1.00, 0.00, 0.00],\n",
       "       [0.00, 1.00, 0.00],\n",
       "       [0.00, 1.00, 0.00],\n",
       "       [0.00, 0.00, 1.00],\n",
       "       [0.00, 0.00, 1.00],\n",
       "       [1.00, 0.00, 0.00],\n",
       "       [0.00, 1.00, 0.00]], dtype=float32)"
      ]
     },
     "execution_count": 37,
     "metadata": {},
     "output_type": "execute_result"
    }
   ],
   "source": [
    "np.set_printoptions(formatter={'float':lambda x : '{:0.2f}'.format(x)})\n",
    "yhat"
   ]
  },
  {
   "cell_type": "code",
   "execution_count": 38,
   "id": "42393851",
   "metadata": {},
   "outputs": [
    {
     "data": {
      "text/plain": [
       "array([0, 0, 0, 0, 0, 1, 1, 1, 1, 1, 2, 2, 2, 2, 2])"
      ]
     },
     "execution_count": 38,
     "metadata": {},
     "output_type": "execute_result"
    }
   ],
   "source": [
    "# 실제 데이터\n",
    "test_data.labels"
   ]
  },
  {
   "cell_type": "markdown",
   "id": "eadd2576",
   "metadata": {},
   "source": [
    "# 2. 데이터 증강을 통한 CNN accuracy 올리기\n",
    "- 데이터 추가 확보\n",
    "- 이미지 데이터를 증강(데이터 부풀리기) : train set에서만\n",
    "- 레이어층(Conv2D, MaxPooling, 배치정규화, Dense)\n",
    "- 활성화함수, 옵티마이저, Dropout(과적합 다소 해결)"
   ]
  },
  {
   "cell_type": "code",
   "execution_count": 53,
   "id": "e3d0fcd1",
   "metadata": {},
   "outputs": [
    {
     "name": "stdout",
     "output_type": "stream",
     "text": [
      "Found 45 images belonging to 3 classes.\n",
      "Found 15 images belonging to 3 classes.\n"
     ]
    }
   ],
   "source": [
    "# 1. 데이터 생성\n",
    "train_datagen = ImageDataGenerator(rescale=1.0/255,         # 스케일조정\n",
    "                                   rotation_range=10,       # 이미지를 최대 ±10도 회전\n",
    "                                   width_shift_range=0.2,   # 가로방향으로 최대 20% 이동\n",
    "                                   height_shift_range=0.2,  # 세로방향으로 최대 20% 이동\n",
    "                                   shear_range=0.7,         # 최대 0.7라디안(40도)으로 이미지 밀림(교얀 p.73)\n",
    "                                   zoom_range=[0.9, 1.5],   # 90% ~ 150% 크기로 확대/축소\n",
    "                                   fill_mode='nearest',     # 이미지 확대 시 채우는 방식\n",
    "                                   horizontal_flip=True,    # 좌우반전(수평방향 뒤집기)\n",
    "                                   vertical_flip=True       # 상하반전(수직방향 뒤집기)\n",
    "                                  )\n",
    "train_data = train_datagen.flow_from_directory(\n",
    "    'data/handwriting/handwriting_shape/train',\n",
    "    target_size=(24, 24),\n",
    "    class_mode='categorical',\n",
    "    batch_size=3\n",
    ")\n",
    "test_datagen = ImageDataGenerator(rescale=1./255)\n",
    "test_data = test_datagen.flow_from_directory(\n",
    "    'data/handwriting/handwriting_shape/test',\n",
    "    target_size=(24, 24),\n",
    "    class_mode='categorical',\n",
    "    batch_size=3,\n",
    "    # shuffle=True 기본값\n",
    ")"
   ]
  },
  {
   "cell_type": "code",
   "execution_count": 54,
   "id": "c8cc2d93",
   "metadata": {},
   "outputs": [
    {
     "name": "stdout",
     "output_type": "stream",
     "text": [
      "Epoch 1/50\n",
      "15/15 [==============================] - 2s 54ms/step - loss: 1.1662 - accuracy: 0.2889 - val_loss: 1.1167 - val_accuracy: 0.3333\n",
      "Epoch 2/50\n",
      "15/15 [==============================] - 0s 21ms/step - loss: 1.1324 - accuracy: 0.2222 - val_loss: 1.0988 - val_accuracy: 0.3333\n",
      "Epoch 3/50\n",
      "15/15 [==============================] - 0s 22ms/step - loss: 1.1111 - accuracy: 0.3111 - val_loss: 1.0995 - val_accuracy: 0.3333\n",
      "Epoch 4/50\n",
      "15/15 [==============================] - 0s 22ms/step - loss: 1.1038 - accuracy: 0.2889 - val_loss: 1.0981 - val_accuracy: 0.3333\n",
      "Epoch 5/50\n",
      "15/15 [==============================] - 0s 29ms/step - loss: 1.0981 - accuracy: 0.3333 - val_loss: 1.0968 - val_accuracy: 0.4667\n",
      "Epoch 6/50\n",
      "15/15 [==============================] - 0s 24ms/step - loss: 1.1005 - accuracy: 0.3111 - val_loss: 1.0913 - val_accuracy: 0.3333\n",
      "Epoch 7/50\n",
      "15/15 [==============================] - 0s 24ms/step - loss: 1.0928 - accuracy: 0.3778 - val_loss: 1.0733 - val_accuracy: 0.5333\n",
      "Epoch 8/50\n",
      "15/15 [==============================] - 0s 29ms/step - loss: 1.0966 - accuracy: 0.4000 - val_loss: 1.0610 - val_accuracy: 0.4000\n",
      "Epoch 9/50\n",
      "15/15 [==============================] - 0s 31ms/step - loss: 1.0730 - accuracy: 0.4444 - val_loss: 0.8990 - val_accuracy: 0.6667\n",
      "Epoch 10/50\n",
      "15/15 [==============================] - 0s 30ms/step - loss: 0.9580 - accuracy: 0.5333 - val_loss: 0.9155 - val_accuracy: 0.6667\n",
      "Epoch 11/50\n",
      "15/15 [==============================] - 0s 32ms/step - loss: 1.0625 - accuracy: 0.4444 - val_loss: 0.8556 - val_accuracy: 0.6667\n",
      "Epoch 12/50\n",
      "15/15 [==============================] - 0s 30ms/step - loss: 0.9029 - accuracy: 0.6222 - val_loss: 0.7785 - val_accuracy: 0.6667\n",
      "Epoch 13/50\n",
      "15/15 [==============================] - 0s 23ms/step - loss: 0.7822 - accuracy: 0.6000 - val_loss: 1.1967 - val_accuracy: 0.4000\n",
      "Epoch 14/50\n",
      "15/15 [==============================] - 0s 25ms/step - loss: 0.9316 - accuracy: 0.6000 - val_loss: 0.9975 - val_accuracy: 0.4000\n",
      "Epoch 15/50\n",
      "15/15 [==============================] - 0s 24ms/step - loss: 0.9127 - accuracy: 0.5556 - val_loss: 1.0079 - val_accuracy: 0.6000\n",
      "Epoch 16/50\n",
      "15/15 [==============================] - 0s 24ms/step - loss: 0.6939 - accuracy: 0.6667 - val_loss: 0.8069 - val_accuracy: 0.6667\n",
      "Epoch 17/50\n",
      "15/15 [==============================] - 1s 32ms/step - loss: 0.6863 - accuracy: 0.6000 - val_loss: 0.9296 - val_accuracy: 0.5333\n",
      "Epoch 18/50\n",
      "15/15 [==============================] - 0s 26ms/step - loss: 0.6693 - accuracy: 0.6667 - val_loss: 0.7856 - val_accuracy: 0.7333\n",
      "Epoch 19/50\n",
      "15/15 [==============================] - 0s 25ms/step - loss: 0.5722 - accuracy: 0.7778 - val_loss: 0.6221 - val_accuracy: 0.7333\n",
      "Epoch 20/50\n",
      "15/15 [==============================] - 0s 25ms/step - loss: 0.4976 - accuracy: 0.8222 - val_loss: 0.4032 - val_accuracy: 0.8000\n",
      "Epoch 21/50\n",
      "15/15 [==============================] - 0s 25ms/step - loss: 0.4006 - accuracy: 0.8667 - val_loss: 0.4677 - val_accuracy: 0.8000\n",
      "Epoch 22/50\n",
      "15/15 [==============================] - 0s 26ms/step - loss: 0.2909 - accuracy: 0.8444 - val_loss: 0.1379 - val_accuracy: 1.0000\n",
      "Epoch 23/50\n",
      "15/15 [==============================] - 0s 26ms/step - loss: 0.4258 - accuracy: 0.8444 - val_loss: 0.0799 - val_accuracy: 0.9333\n",
      "Epoch 24/50\n",
      "15/15 [==============================] - 0s 25ms/step - loss: 0.3604 - accuracy: 0.8444 - val_loss: 0.0468 - val_accuracy: 1.0000\n",
      "Epoch 25/50\n",
      "15/15 [==============================] - 0s 31ms/step - loss: 0.2079 - accuracy: 0.8889 - val_loss: 0.0074 - val_accuracy: 1.0000\n",
      "Epoch 26/50\n",
      "15/15 [==============================] - 0s 25ms/step - loss: 0.1653 - accuracy: 0.9333 - val_loss: 0.0145 - val_accuracy: 1.0000\n",
      "Epoch 27/50\n",
      "15/15 [==============================] - 0s 25ms/step - loss: 0.2930 - accuracy: 0.8444 - val_loss: 0.0028 - val_accuracy: 1.0000\n",
      "Epoch 28/50\n",
      "15/15 [==============================] - 0s 25ms/step - loss: 0.1826 - accuracy: 0.9556 - val_loss: 0.0059 - val_accuracy: 1.0000\n",
      "Epoch 29/50\n",
      "15/15 [==============================] - 0s 25ms/step - loss: 0.2426 - accuracy: 0.8889 - val_loss: 0.0128 - val_accuracy: 1.0000\n",
      "Epoch 30/50\n",
      "15/15 [==============================] - 0s 25ms/step - loss: 0.3091 - accuracy: 0.8444 - val_loss: 0.0133 - val_accuracy: 1.0000\n",
      "Epoch 31/50\n",
      "15/15 [==============================] - 0s 25ms/step - loss: 0.0963 - accuracy: 0.9556 - val_loss: 0.0066 - val_accuracy: 1.0000\n",
      "Epoch 32/50\n",
      "15/15 [==============================] - 1s 38ms/step - loss: 0.1121 - accuracy: 0.9556 - val_loss: 0.0071 - val_accuracy: 1.0000\n",
      "Epoch 33/50\n",
      "15/15 [==============================] - 1s 39ms/step - loss: 0.1171 - accuracy: 0.9333 - val_loss: 0.0023 - val_accuracy: 1.0000\n",
      "Epoch 34/50\n",
      "15/15 [==============================] - 0s 31ms/step - loss: 0.0432 - accuracy: 0.9778 - val_loss: 0.0076 - val_accuracy: 1.0000\n",
      "Epoch 35/50\n",
      "15/15 [==============================] - 0s 30ms/step - loss: 0.1072 - accuracy: 0.9556 - val_loss: 3.3019e-04 - val_accuracy: 1.0000\n",
      "Epoch 36/50\n",
      "15/15 [==============================] - 0s 26ms/step - loss: 0.1262 - accuracy: 0.9333 - val_loss: 7.9157e-05 - val_accuracy: 1.0000\n",
      "Epoch 37/50\n",
      "15/15 [==============================] - 0s 25ms/step - loss: 0.0143 - accuracy: 1.0000 - val_loss: 2.4563e-04 - val_accuracy: 1.0000\n",
      "Epoch 38/50\n",
      "15/15 [==============================] - 0s 25ms/step - loss: 0.3388 - accuracy: 0.8889 - val_loss: 0.0038 - val_accuracy: 1.0000\n",
      "Epoch 39/50\n",
      "15/15 [==============================] - 0s 25ms/step - loss: 0.1279 - accuracy: 0.9556 - val_loss: 0.0097 - val_accuracy: 1.0000\n",
      "Epoch 40/50\n",
      "15/15 [==============================] - 0s 27ms/step - loss: 0.1427 - accuracy: 0.9333 - val_loss: 8.1625e-04 - val_accuracy: 1.0000\n",
      "Epoch 41/50\n",
      "15/15 [==============================] - 0s 29ms/step - loss: 0.0937 - accuracy: 0.9778 - val_loss: 2.7384e-04 - val_accuracy: 1.0000\n",
      "Epoch 42/50\n",
      "15/15 [==============================] - 0s 26ms/step - loss: 0.0356 - accuracy: 1.0000 - val_loss: 4.4208e-04 - val_accuracy: 1.0000\n",
      "Epoch 43/50\n",
      "15/15 [==============================] - 0s 24ms/step - loss: 0.0204 - accuracy: 1.0000 - val_loss: 3.9413e-04 - val_accuracy: 1.0000\n",
      "Epoch 44/50\n",
      "15/15 [==============================] - 0s 26ms/step - loss: 0.0619 - accuracy: 0.9778 - val_loss: 0.0171 - val_accuracy: 1.0000\n",
      "Epoch 45/50\n",
      "15/15 [==============================] - 0s 29ms/step - loss: 0.0214 - accuracy: 1.0000 - val_loss: 0.0032 - val_accuracy: 1.0000\n",
      "Epoch 46/50\n",
      "15/15 [==============================] - 0s 25ms/step - loss: 0.0951 - accuracy: 0.9778 - val_loss: 5.1736e-06 - val_accuracy: 1.0000\n",
      "Epoch 47/50\n",
      "15/15 [==============================] - 0s 25ms/step - loss: 0.0209 - accuracy: 1.0000 - val_loss: 1.2334e-05 - val_accuracy: 1.0000\n",
      "Epoch 48/50\n",
      "15/15 [==============================] - 0s 26ms/step - loss: 0.0923 - accuracy: 0.9556 - val_loss: 1.4587e-04 - val_accuracy: 1.0000\n",
      "Epoch 49/50\n",
      "15/15 [==============================] - 0s 28ms/step - loss: 0.3222 - accuracy: 0.9111 - val_loss: 0.0047 - val_accuracy: 1.0000\n",
      "Epoch 50/50\n",
      "15/15 [==============================] - 0s 25ms/step - loss: 0.2391 - accuracy: 0.9111 - val_loss: 0.0065 - val_accuracy: 1.0000\n"
     ]
    },
    {
     "data": {
      "text/plain": [
       "<keras.callbacks.History at 0x270574bb430>"
      ]
     },
     "execution_count": 54,
     "metadata": {},
     "output_type": "execute_result"
    }
   ],
   "source": [
    "# 2. 모델 구성하기\n",
    "model = Sequential()\n",
    "model.add(Conv2D(64, kernel_size=(3, 3), activation='relu', input_shape=(24, 24, 3)))\n",
    "model.add(Conv2D(64, kernel_size=(3, 3), activation='relu'))\n",
    "model.add(MaxPooling2D(pool_size=(2, 2)))\n",
    "model.add(Dropout(0.2))\n",
    "\n",
    "model.add(Conv2D(64, kernel_size=(3, 3), activation='relu', input_shape=(24, 24, 3)))\n",
    "model.add(Conv2D(64, kernel_size=(3, 3), activation='relu'))\n",
    "model.add(MaxPooling2D(pool_size=(2, 2)))\n",
    "model.add(Dropout(0.2))\n",
    "\n",
    "model.add(Flatten())  # 3차원 데이터 -> 1차원 데이터\n",
    "model.add(Dense(units=128, activation='relu'))\n",
    "model.add(Dense(units=3,   activation='softmax'))\n",
    "# model.summary()\n",
    "\n",
    "# 3. 학습설정\n",
    "model.compile(loss='categorical_crossentropy', optimizer='adam', metrics=['accuracy'])\n",
    "\n",
    "# 4. 학습시키기\n",
    "model.fit(train_data, epochs=50, validation_data=test_data)"
   ]
  },
  {
   "cell_type": "code",
   "execution_count": 55,
   "id": "617d4336",
   "metadata": {},
   "outputs": [
    {
     "name": "stdout",
     "output_type": "stream",
     "text": [
      "5/5 [==============================] - 0s 8ms/step - loss: 0.0065 - accuracy: 1.0000\n",
      "정확도(accuracy) : 1.0\n"
     ]
    }
   ],
   "source": [
    "# 평가하기\n",
    "score = model.evaluate(test_data)\n",
    "print('정확도(accuracy) :', score[1])"
   ]
  },
  {
   "cell_type": "code",
   "execution_count": 56,
   "id": "eb2c4d2f",
   "metadata": {},
   "outputs": [
    {
     "name": "stdout",
     "output_type": "stream",
     "text": [
      "5/5 [==============================] - 0s 6ms/step\n",
      "[[0.00 0.00 1.00]\n",
      " [0.01 0.00 0.99]\n",
      " [1.00 0.00 0.00]\n",
      " [1.00 0.00 0.00]\n",
      " [1.00 0.00 0.00]\n",
      " [0.01 0.99 0.00]\n",
      " [0.02 0.98 0.00]\n",
      " [0.00 0.00 1.00]\n",
      " [1.00 0.00 0.00]\n",
      " [0.02 0.00 0.98]\n",
      " [0.02 0.00 0.98]\n",
      " [1.00 0.00 0.00]\n",
      " [0.01 0.99 0.00]\n",
      " [0.00 1.00 0.00]\n",
      " [0.00 1.00 0.00]]\n"
     ]
    }
   ],
   "source": [
    "# 예측하기\n",
    "pred = model.predict(test_data)\n",
    "print(pred)"
   ]
  },
  {
   "cell_type": "code",
   "execution_count": 57,
   "id": "a58f212e",
   "metadata": {},
   "outputs": [
    {
     "data": {
      "text/plain": [
       "array([2, 2, 0, 0, 0, 1, 1, 2, 0, 2, 2, 0, 1, 1, 1], dtype=int64)"
      ]
     },
     "execution_count": 57,
     "metadata": {},
     "output_type": "execute_result"
    }
   ],
   "source": [
    "pred.argmax(axis=1)"
   ]
  }
 ],
 "metadata": {
  "kernelspec": {
   "display_name": "Python 3 (ipykernel)",
   "language": "python",
   "name": "python3"
  },
  "language_info": {
   "codemirror_mode": {
    "name": "ipython",
    "version": 3
   },
   "file_extension": ".py",
   "mimetype": "text/x-python",
   "name": "python",
   "nbconvert_exporter": "python",
   "pygments_lexer": "ipython3",
   "version": "3.10.9"
  },
  "toc": {
   "base_numbering": 1,
   "nav_menu": {},
   "number_sections": true,
   "sideBar": true,
   "skip_h1_title": false,
   "title_cell": "Table of Contents",
   "title_sidebar": "Contents",
   "toc_cell": false,
   "toc_position": {},
   "toc_section_display": true,
   "toc_window_display": false
  }
 },
 "nbformat": 4,
 "nbformat_minor": 5
}
