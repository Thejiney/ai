{
 "cells": [
  {
   "cell_type": "markdown",
   "id": "8762c08c",
   "metadata": {},
   "source": [
    "**<font size=\"5\" color=\"red\">ch4. RNN(Recurrent Neural Network 순환신경망</font>**\n",
    "# 1. 전처리"
   ]
  },
  {
   "cell_type": "code",
   "execution_count": 1,
   "id": "24d54f11",
   "metadata": {},
   "outputs": [],
   "source": [
    "text = \"\"\"경마장에 있는 말이 뛰고 있다\n",
    "그의 말이 법이다\n",
    "가는 말이 고와야 오는 말이 곱다\"\"\""
   ]
  },
  {
   "cell_type": "code",
   "execution_count": 2,
   "id": "27808188",
   "metadata": {},
   "outputs": [
    {
     "name": "stdout",
     "output_type": "stream",
     "text": [
      "[2, 3, 1, 4, 5, 6, 1, 7, 8, 1, 9, 10, 1, 11]\n",
      "{'말이': 1, '경마장에': 2, '있는': 3, '뛰고': 4, '있다': 5, '그의': 6, '법이다': 7, '가는': 8, '고와야': 9, '오는': 10, '곱다': 11}\n"
     ]
    }
   ],
   "source": [
    "from keras_preprocessing.text import Tokenizer\n",
    "t = Tokenizer()\n",
    "t.fit_on_texts([text])\n",
    "encoded = t.texts_to_sequences([text])[0]\n",
    "print(encoded)\n",
    "print(t.word_index)"
   ]
  },
  {
   "cell_type": "code",
   "execution_count": 3,
   "id": "14744fee",
   "metadata": {},
   "outputs": [
    {
     "name": "stdout",
     "output_type": "stream",
     "text": [
      "[[2, 1, 5], [1]]\n",
      "[2, 1, 5]\n"
     ]
    }
   ],
   "source": [
    "# 문자열 리스트을 인덱스 시퀀스로 반환\n",
    "print(t.texts_to_sequences(['경마장에 말이 있다','말이 뛰다']))\n",
    "print(t.texts_to_sequences(['경마장에 말이 있다'])[0])"
   ]
  },
  {
   "cell_type": "code",
   "execution_count": 4,
   "id": "1223ca34",
   "metadata": {},
   "outputs": [
    {
     "name": "stdout",
     "output_type": "stream",
     "text": [
      "[[0. 1. 0. 0. 1. 0. 0. 0. 0. 0. 0. 0.]]\n",
      "[[1, 4]]\n"
     ]
    }
   ],
   "source": [
    "print(t.texts_to_matrix(['말이 뛰고']))\n",
    "print(t.texts_to_sequences(['말이 뛰고']))"
   ]
  },
  {
   "cell_type": "code",
   "execution_count": 5,
   "id": "7692d6a3",
   "metadata": {},
   "outputs": [],
   "source": [
    "text = \"\"\"경마장에 있는 말이 뛰고 있다\n",
    "그의 말이 법이다\n",
    "가는 말이 고와야 오는 말이 곱다\"\"\""
   ]
  },
  {
   "cell_type": "code",
   "execution_count": 6,
   "id": "1bd2930d",
   "metadata": {},
   "outputs": [
    {
     "name": "stdout",
     "output_type": "stream",
     "text": [
      "{'말이': 1, '경마장에': 2, '있는': 3, '뛰고': 4, '있다': 5, '그의': 6, '법이다': 7, '가는': 8, '고와야': 9, '오는': 10, '곱다': 11}\n",
      "2: 경마장에\n"
     ]
    }
   ],
   "source": [
    "print(t.word_index)\n",
    "for word, value in t.word_index.items():\n",
    "    if value==2:\n",
    "        print(\"2:\", word)\n",
    "        break"
   ]
  },
  {
   "cell_type": "code",
   "execution_count": 7,
   "id": "2589996b",
   "metadata": {},
   "outputs": [
    {
     "name": "stdout",
     "output_type": "stream",
     "text": [
      "원래 문장 : 경마장에 있는 말이 뛰고 있다\n",
      "encoded된 문장 : [2, 3, 1, 4, 5]\n",
      "원래 문장 : 그의 말이 법이다\n",
      "encoded된 문장 : [6, 1, 7]\n",
      "원래 문장 : 가는 말이 고와야 오는 말이 곱다\n",
      "encoded된 문장 : [8, 1, 9, 10, 1, 11]\n",
      "sequences와 해석을 출력\n",
      "[2:경마장에 3:있는 ]\n",
      "[2:경마장에 3:있는 1:말이 ]\n",
      "[2:경마장에 3:있는 1:말이 4:뛰고 ]\n",
      "[2:경마장에 3:있는 1:말이 4:뛰고 5:있다 ]\n",
      "[3:있는 1:말이 ]\n",
      "[3:있는 1:말이 4:뛰고 ]\n",
      "[3:있는 1:말이 4:뛰고 5:있다 ]\n",
      "[1:말이 4:뛰고 ]\n",
      "[1:말이 4:뛰고 5:있다 ]\n",
      "[4:뛰고 5:있다 ]\n",
      "[6:그의 1:말이 ]\n",
      "[6:그의 1:말이 7:법이다 ]\n",
      "[1:말이 7:법이다 ]\n",
      "[8:가는 1:말이 ]\n",
      "[8:가는 1:말이 9:고와야 ]\n",
      "[8:가는 1:말이 9:고와야 10:오는 ]\n",
      "[8:가는 1:말이 9:고와야 10:오는 1:말이 ]\n",
      "[8:가는 1:말이 9:고와야 10:오는 1:말이 11:곱다 ]\n",
      "[1:말이 9:고와야 ]\n",
      "[1:말이 9:고와야 10:오는 ]\n",
      "[1:말이 9:고와야 10:오는 1:말이 ]\n",
      "[1:말이 9:고와야 10:오는 1:말이 11:곱다 ]\n",
      "[9:고와야 10:오는 ]\n",
      "[9:고와야 10:오는 1:말이 ]\n",
      "[9:고와야 10:오는 1:말이 11:곱다 ]\n",
      "[10:오는 1:말이 ]\n",
      "[10:오는 1:말이 11:곱다 ]\n",
      "[1:말이 11:곱다 ]\n"
     ]
    }
   ],
   "source": [
    "# text를 학습시키기 위해 ['경마장에 있는', '경마장에 있는 말이', '경마장에 있는 말이 뛰고',...]\n",
    "sequences = []\n",
    "for line in text.split('\\n'):\n",
    "    print('원래 문장 :', line)\n",
    "    encoded = t.texts_to_sequences([line])[0]\n",
    "    print('encoded된 문장 :', encoded)\n",
    "    for i in range(0, len(encoded)-1): # 시작 index(빨간색 화살표)\n",
    "        for j in range(i+2, len(encoded)+1): # 끝나는 index(파란색 화살표)\n",
    "            sequences.append(encoded[i:j])\n",
    "# sequences\n",
    "print('sequences와 해석을 출력')\n",
    "for sequence in sequences:\n",
    "    print('[', end='')\n",
    "    for word_seq in sequence:\n",
    "        for word, value in t.word_index.items():\n",
    "            if word_seq==value:\n",
    "                print(\"{}:{}\".format(word_seq, word), end=' ')\n",
    "                break\n",
    "    print(']')"
   ]
  },
  {
   "cell_type": "code",
   "execution_count": 8,
   "id": "f80e0e66",
   "metadata": {},
   "outputs": [
    {
     "data": {
      "text/plain": [
       "[[2, 3],\n",
       " [2, 3, 1],\n",
       " [2, 3, 1, 4],\n",
       " [2, 3, 1, 4, 5],\n",
       " [3, 1],\n",
       " [3, 1, 4],\n",
       " [3, 1, 4, 5],\n",
       " [1, 4],\n",
       " [1, 4, 5],\n",
       " [4, 5],\n",
       " [6, 1],\n",
       " [6, 1, 7],\n",
       " [1, 7],\n",
       " [8, 1],\n",
       " [8, 1, 9],\n",
       " [8, 1, 9, 10],\n",
       " [8, 1, 9, 10, 1],\n",
       " [8, 1, 9, 10, 1, 11],\n",
       " [1, 9],\n",
       " [1, 9, 10],\n",
       " [1, 9, 10, 1],\n",
       " [1, 9, 10, 1, 11],\n",
       " [9, 10],\n",
       " [9, 10, 1],\n",
       " [9, 10, 1, 11],\n",
       " [10, 1],\n",
       " [10, 1, 11],\n",
       " [1, 11]]"
      ]
     },
     "execution_count": 8,
     "metadata": {},
     "output_type": "execute_result"
    }
   ],
   "source": [
    "sequences"
   ]
  },
  {
   "cell_type": "code",
   "execution_count": 9,
   "id": "375dc851",
   "metadata": {},
   "outputs": [
    {
     "name": "stdout",
     "output_type": "stream",
     "text": [
      "[2, 3, 4, 5, 2, 3, 4, 2, 3, 2, 2, 3, 2, 2, 3, 4, 5, 6, 2, 3, 4, 5, 2, 3, 4, 2, 3, 2]\n"
     ]
    }
   ],
   "source": [
    "# sequence별 len\n",
    "print([len(sequence) for sequence in sequences])"
   ]
  },
  {
   "cell_type": "code",
   "execution_count": 10,
   "id": "7beab325",
   "metadata": {},
   "outputs": [
    {
     "data": {
      "text/plain": [
       "6"
      ]
     },
     "execution_count": 10,
     "metadata": {},
     "output_type": "execute_result"
    }
   ],
   "source": [
    "my_len = max([len(sequence) for sequence in sequences])\n",
    "my_len"
   ]
  },
  {
   "cell_type": "code",
   "execution_count": 11,
   "id": "31f82285",
   "metadata": {},
   "outputs": [
    {
     "data": {
      "text/plain": [
       "(numpy.ndarray,\n",
       " (28, 6),\n",
       " array([[ 0,  0,  0,  0,  2,  3],\n",
       "        [ 0,  0,  0,  2,  3,  1],\n",
       "        [ 0,  0,  2,  3,  1,  4],\n",
       "        [ 0,  2,  3,  1,  4,  5],\n",
       "        [ 0,  0,  0,  0,  3,  1],\n",
       "        [ 0,  0,  0,  3,  1,  4],\n",
       "        [ 0,  0,  3,  1,  4,  5],\n",
       "        [ 0,  0,  0,  0,  1,  4],\n",
       "        [ 0,  0,  0,  1,  4,  5],\n",
       "        [ 0,  0,  0,  0,  4,  5],\n",
       "        [ 0,  0,  0,  0,  6,  1],\n",
       "        [ 0,  0,  0,  6,  1,  7],\n",
       "        [ 0,  0,  0,  0,  1,  7],\n",
       "        [ 0,  0,  0,  0,  8,  1],\n",
       "        [ 0,  0,  0,  8,  1,  9],\n",
       "        [ 0,  0,  8,  1,  9, 10],\n",
       "        [ 0,  8,  1,  9, 10,  1],\n",
       "        [ 8,  1,  9, 10,  1, 11],\n",
       "        [ 0,  0,  0,  0,  1,  9],\n",
       "        [ 0,  0,  0,  1,  9, 10],\n",
       "        [ 0,  0,  1,  9, 10,  1],\n",
       "        [ 0,  1,  9, 10,  1, 11],\n",
       "        [ 0,  0,  0,  0,  9, 10],\n",
       "        [ 0,  0,  0,  9, 10,  1],\n",
       "        [ 0,  0,  9, 10,  1, 11],\n",
       "        [ 0,  0,  0,  0, 10,  1],\n",
       "        [ 0,  0,  0, 10,  1, 11],\n",
       "        [ 0,  0,  0,  0,  1, 11]]))"
      ]
     },
     "execution_count": 11,
     "metadata": {},
     "output_type": "execute_result"
    }
   ],
   "source": [
    "# sequences를 훈련 가능하도록 6개열로 조정\n",
    "from tensorflow.keras.preprocessing.sequence import pad_sequences\n",
    "padded_sequences = pad_sequences(sequences=sequences, \n",
    "                                maxlen=my_len, # 최대 열수\n",
    "                                # padding='post',\n",
    "                                padding='pre', # 최대 열수보다 작은 경우 0을 채울 위치\n",
    "                                # truncating='post' # 최대 열수보다 많은 경우 데이터를 짜를 위치\n",
    "                                )\n",
    "type(padded_sequences), padded_sequences.shape, padded_sequences"
   ]
  },
  {
   "cell_type": "code",
   "execution_count": 12,
   "id": "ed35100c",
   "metadata": {},
   "outputs": [
    {
     "data": {
      "text/plain": [
       "array([ 3,  1,  4,  5,  1,  4,  5,  4,  5,  5,  1,  7,  7,  1,  9, 10,  1,\n",
       "       11,  9, 10,  1, 11, 10,  1, 11,  1, 11, 11])"
      ]
     },
     "execution_count": 12,
     "metadata": {},
     "output_type": "execute_result"
    }
   ],
   "source": [
    "# 독립변수(X)와 타겟변수(종속변수 y)로 분리\n",
    "X = padded_sequences[:, :-1]\n",
    "y = padded_sequences[:, -1]\n",
    "y"
   ]
  },
  {
   "cell_type": "code",
   "execution_count": 13,
   "id": "d44cba67",
   "metadata": {},
   "outputs": [],
   "source": [
    "# 단어 갯수\n",
    "vocab_size = len(t.word_index)"
   ]
  },
  {
   "cell_type": "code",
   "execution_count": 14,
   "id": "a36f6292",
   "metadata": {},
   "outputs": [
    {
     "data": {
      "text/plain": [
       "array([[0., 0., 0., 1., 0., 0., 0., 0., 0., 0., 0., 0.],\n",
       "       [0., 1., 0., 0., 0., 0., 0., 0., 0., 0., 0., 0.],\n",
       "       [0., 0., 0., 0., 1., 0., 0., 0., 0., 0., 0., 0.],\n",
       "       [0., 0., 0., 0., 0., 1., 0., 0., 0., 0., 0., 0.],\n",
       "       [0., 1., 0., 0., 0., 0., 0., 0., 0., 0., 0., 0.],\n",
       "       [0., 0., 0., 0., 1., 0., 0., 0., 0., 0., 0., 0.],\n",
       "       [0., 0., 0., 0., 0., 1., 0., 0., 0., 0., 0., 0.],\n",
       "       [0., 0., 0., 0., 1., 0., 0., 0., 0., 0., 0., 0.],\n",
       "       [0., 0., 0., 0., 0., 1., 0., 0., 0., 0., 0., 0.],\n",
       "       [0., 0., 0., 0., 0., 1., 0., 0., 0., 0., 0., 0.],\n",
       "       [0., 1., 0., 0., 0., 0., 0., 0., 0., 0., 0., 0.],\n",
       "       [0., 0., 0., 0., 0., 0., 0., 1., 0., 0., 0., 0.],\n",
       "       [0., 0., 0., 0., 0., 0., 0., 1., 0., 0., 0., 0.],\n",
       "       [0., 1., 0., 0., 0., 0., 0., 0., 0., 0., 0., 0.],\n",
       "       [0., 0., 0., 0., 0., 0., 0., 0., 0., 1., 0., 0.],\n",
       "       [0., 0., 0., 0., 0., 0., 0., 0., 0., 0., 1., 0.],\n",
       "       [0., 1., 0., 0., 0., 0., 0., 0., 0., 0., 0., 0.],\n",
       "       [0., 0., 0., 0., 0., 0., 0., 0., 0., 0., 0., 1.],\n",
       "       [0., 0., 0., 0., 0., 0., 0., 0., 0., 1., 0., 0.],\n",
       "       [0., 0., 0., 0., 0., 0., 0., 0., 0., 0., 1., 0.],\n",
       "       [0., 1., 0., 0., 0., 0., 0., 0., 0., 0., 0., 0.],\n",
       "       [0., 0., 0., 0., 0., 0., 0., 0., 0., 0., 0., 1.],\n",
       "       [0., 0., 0., 0., 0., 0., 0., 0., 0., 0., 1., 0.],\n",
       "       [0., 1., 0., 0., 0., 0., 0., 0., 0., 0., 0., 0.],\n",
       "       [0., 0., 0., 0., 0., 0., 0., 0., 0., 0., 0., 1.],\n",
       "       [0., 1., 0., 0., 0., 0., 0., 0., 0., 0., 0., 0.],\n",
       "       [0., 0., 0., 0., 0., 0., 0., 0., 0., 0., 0., 1.],\n",
       "       [0., 0., 0., 0., 0., 0., 0., 0., 0., 0., 0., 1.]], dtype=float32)"
      ]
     },
     "execution_count": 14,
     "metadata": {},
     "output_type": "execute_result"
    }
   ],
   "source": [
    "# 원핫인코딩\n",
    "from tensorflow.keras.utils import to_categorical\n",
    "Y = to_categorical(y, \n",
    "                   vocab_size+1) # 원핫인코딩 카테고리 수\n",
    "Y"
   ]
  },
  {
   "cell_type": "code",
   "execution_count": 15,
   "id": "20072c7d",
   "metadata": {},
   "outputs": [
    {
     "data": {
      "text/plain": [
       "((28, 5), (28, 12))"
      ]
     },
     "execution_count": 15,
     "metadata": {},
     "output_type": "execute_result"
    }
   ],
   "source": [
    "X.shape, Y.shape"
   ]
  },
  {
   "cell_type": "markdown",
   "id": "663840dd",
   "metadata": {},
   "source": [
    "# 2. 모델 생성 (RNN)\n",
    "- 순서가 의미 있는 데이터를 학습할 경우 ex. 자연어처리, 연주, 주식, 날씨, ....."
   ]
  },
  {
   "cell_type": "code",
   "execution_count": 16,
   "id": "b752c034",
   "metadata": {},
   "outputs": [
    {
     "name": "stdout",
     "output_type": "stream",
     "text": [
      "Model: \"sequential\"\n",
      "_________________________________________________________________\n",
      " Layer (type)                Output Shape              Param #   \n",
      "=================================================================\n",
      " embedding (Embedding)       (None, 5, 10)             120       \n",
      "                                                                 \n",
      " simple_rnn (SimpleRNN)      (None, 32)                1376      \n",
      "                                                                 \n",
      " dense (Dense)               (None, 12)                396       \n",
      "                                                                 \n",
      "=================================================================\n",
      "Total params: 1,892\n",
      "Trainable params: 1,892\n",
      "Non-trainable params: 0\n",
      "_________________________________________________________________\n",
      "None\n"
     ]
    }
   ],
   "source": [
    "from tensorflow.keras.models import Sequential # 순차적 레이어 모델 생성\n",
    "from tensorflow.keras.layers import Embedding, SimpleRNN # 긴 희소행렬변환, RNN\n",
    "from tensorflow.keras.layers import Dense\n",
    "\n",
    "model = Sequential()\n",
    "# 희소행렬(12열) -> 10열 행렬 (28개=독립변수 행수)\n",
    "model.add(Embedding(input_dim=vocab_size+1, # 12개 입력\n",
    "                    output_dim=vocab_size-1, #10개 출력하기 위한 embedding\n",
    "                    input_length=X.shape[1])) # 데이터 수\n",
    "model.add(SimpleRNN(32))\n",
    "model.add(Dense(units=12, activation=\"softmax\"))\n",
    "print(model.summary())"
   ]
  },
  {
   "cell_type": "markdown",
   "id": "3423cc4f",
   "metadata": {},
   "source": [
    "# 3. 학습과정 설정 및 학습하기"
   ]
  },
  {
   "cell_type": "code",
   "execution_count": 17,
   "id": "f91d0b1a",
   "metadata": {},
   "outputs": [
    {
     "name": "stdout",
     "output_type": "stream",
     "text": [
      "Epoch 1/300\n",
      "1/1 - 1s - loss: 2.4695 - accuracy: 0.0714 - 1s/epoch - 1s/step\n",
      "Epoch 2/300\n",
      "1/1 - 0s - loss: 2.4567 - accuracy: 0.1786 - 3ms/epoch - 3ms/step\n",
      "Epoch 3/300\n",
      "1/1 - 0s - loss: 2.4442 - accuracy: 0.1429 - 4ms/epoch - 4ms/step\n",
      "Epoch 4/300\n",
      "1/1 - 0s - loss: 2.4320 - accuracy: 0.1429 - 4ms/epoch - 4ms/step\n",
      "Epoch 5/300\n",
      "1/1 - 0s - loss: 2.4198 - accuracy: 0.1786 - 6ms/epoch - 6ms/step\n",
      "Epoch 6/300\n",
      "1/1 - 0s - loss: 2.4075 - accuracy: 0.2143 - 4ms/epoch - 4ms/step\n",
      "Epoch 7/300\n",
      "1/1 - 0s - loss: 2.3951 - accuracy: 0.2500 - 5ms/epoch - 5ms/step\n",
      "Epoch 8/300\n",
      "1/1 - 0s - loss: 2.3824 - accuracy: 0.3214 - 4ms/epoch - 4ms/step\n",
      "Epoch 9/300\n",
      "1/1 - 0s - loss: 2.3693 - accuracy: 0.3571 - 4ms/epoch - 4ms/step\n",
      "Epoch 10/300\n",
      "1/1 - 0s - loss: 2.3557 - accuracy: 0.4643 - 5ms/epoch - 5ms/step\n",
      "Epoch 11/300\n",
      "1/1 - 0s - loss: 2.3416 - accuracy: 0.5000 - 4ms/epoch - 4ms/step\n",
      "Epoch 12/300\n",
      "1/1 - 0s - loss: 2.3268 - accuracy: 0.4643 - 5ms/epoch - 5ms/step\n",
      "Epoch 13/300\n",
      "1/1 - 0s - loss: 2.3113 - accuracy: 0.5357 - 4ms/epoch - 4ms/step\n",
      "Epoch 14/300\n",
      "1/1 - 0s - loss: 2.2951 - accuracy: 0.5000 - 5ms/epoch - 5ms/step\n",
      "Epoch 15/300\n",
      "1/1 - 0s - loss: 2.2781 - accuracy: 0.4643 - 3ms/epoch - 3ms/step\n",
      "Epoch 16/300\n",
      "1/1 - 0s - loss: 2.2604 - accuracy: 0.4643 - 4ms/epoch - 4ms/step\n",
      "Epoch 17/300\n",
      "1/1 - 0s - loss: 2.2418 - accuracy: 0.3929 - 4ms/epoch - 4ms/step\n",
      "Epoch 18/300\n",
      "1/1 - 0s - loss: 2.2225 - accuracy: 0.3929 - 4ms/epoch - 4ms/step\n",
      "Epoch 19/300\n",
      "1/1 - 0s - loss: 2.2025 - accuracy: 0.3929 - 4ms/epoch - 4ms/step\n",
      "Epoch 20/300\n",
      "1/1 - 0s - loss: 2.1818 - accuracy: 0.3571 - 4ms/epoch - 4ms/step\n",
      "Epoch 21/300\n",
      "1/1 - 0s - loss: 2.1606 - accuracy: 0.3571 - 4ms/epoch - 4ms/step\n",
      "Epoch 22/300\n",
      "1/1 - 0s - loss: 2.1389 - accuracy: 0.3571 - 3ms/epoch - 3ms/step\n",
      "Epoch 23/300\n",
      "1/1 - 0s - loss: 2.1170 - accuracy: 0.3571 - 4ms/epoch - 4ms/step\n",
      "Epoch 24/300\n",
      "1/1 - 0s - loss: 2.0949 - accuracy: 0.3571 - 4ms/epoch - 4ms/step\n",
      "Epoch 25/300\n",
      "1/1 - 0s - loss: 2.0731 - accuracy: 0.3571 - 4ms/epoch - 4ms/step\n",
      "Epoch 26/300\n",
      "1/1 - 0s - loss: 2.0516 - accuracy: 0.3571 - 5ms/epoch - 5ms/step\n",
      "Epoch 27/300\n",
      "1/1 - 0s - loss: 2.0307 - accuracy: 0.3571 - 3ms/epoch - 3ms/step\n",
      "Epoch 28/300\n",
      "1/1 - 0s - loss: 2.0107 - accuracy: 0.2857 - 4ms/epoch - 4ms/step\n",
      "Epoch 29/300\n",
      "1/1 - 0s - loss: 1.9918 - accuracy: 0.2857 - 5ms/epoch - 5ms/step\n",
      "Epoch 30/300\n",
      "1/1 - 0s - loss: 1.9742 - accuracy: 0.2857 - 4ms/epoch - 4ms/step\n",
      "Epoch 31/300\n",
      "1/1 - 0s - loss: 1.9580 - accuracy: 0.2857 - 5ms/epoch - 5ms/step\n",
      "Epoch 32/300\n",
      "1/1 - 0s - loss: 1.9432 - accuracy: 0.2857 - 4ms/epoch - 4ms/step\n",
      "Epoch 33/300\n",
      "1/1 - 0s - loss: 1.9299 - accuracy: 0.2857 - 4ms/epoch - 4ms/step\n",
      "Epoch 34/300\n",
      "1/1 - 0s - loss: 1.9178 - accuracy: 0.2857 - 4ms/epoch - 4ms/step\n",
      "Epoch 35/300\n",
      "1/1 - 0s - loss: 1.9067 - accuracy: 0.2857 - 4ms/epoch - 4ms/step\n",
      "Epoch 36/300\n",
      "1/1 - 0s - loss: 1.8964 - accuracy: 0.2857 - 5ms/epoch - 5ms/step\n",
      "Epoch 37/300\n",
      "1/1 - 0s - loss: 1.8865 - accuracy: 0.2857 - 5ms/epoch - 5ms/step\n",
      "Epoch 38/300\n",
      "1/1 - 0s - loss: 1.8768 - accuracy: 0.2857 - 4ms/epoch - 4ms/step\n",
      "Epoch 39/300\n",
      "1/1 - 0s - loss: 1.8672 - accuracy: 0.3214 - 4ms/epoch - 4ms/step\n",
      "Epoch 40/300\n",
      "1/1 - 0s - loss: 1.8576 - accuracy: 0.3214 - 4ms/epoch - 4ms/step\n",
      "Epoch 41/300\n",
      "1/1 - 0s - loss: 1.8480 - accuracy: 0.3214 - 4ms/epoch - 4ms/step\n",
      "Epoch 42/300\n",
      "1/1 - 0s - loss: 1.8384 - accuracy: 0.3214 - 4ms/epoch - 4ms/step\n",
      "Epoch 43/300\n",
      "1/1 - 0s - loss: 1.8289 - accuracy: 0.3571 - 4ms/epoch - 4ms/step\n",
      "Epoch 44/300\n",
      "1/1 - 0s - loss: 1.8196 - accuracy: 0.3571 - 4ms/epoch - 4ms/step\n",
      "Epoch 45/300\n",
      "1/1 - 0s - loss: 1.8107 - accuracy: 0.3571 - 5ms/epoch - 5ms/step\n",
      "Epoch 46/300\n",
      "1/1 - 0s - loss: 1.8021 - accuracy: 0.3571 - 3ms/epoch - 3ms/step\n",
      "Epoch 47/300\n",
      "1/1 - 0s - loss: 1.7939 - accuracy: 0.3571 - 4ms/epoch - 4ms/step\n",
      "Epoch 48/300\n",
      "1/1 - 0s - loss: 1.7859 - accuracy: 0.3571 - 4ms/epoch - 4ms/step\n",
      "Epoch 49/300\n",
      "1/1 - 0s - loss: 1.7780 - accuracy: 0.3929 - 4ms/epoch - 4ms/step\n",
      "Epoch 50/300\n",
      "1/1 - 0s - loss: 1.7700 - accuracy: 0.3929 - 4ms/epoch - 4ms/step\n",
      "Epoch 51/300\n",
      "1/1 - 0s - loss: 1.7620 - accuracy: 0.3929 - 3ms/epoch - 3ms/step\n",
      "Epoch 52/300\n",
      "1/1 - 0s - loss: 1.7536 - accuracy: 0.3929 - 3ms/epoch - 3ms/step\n",
      "Epoch 53/300\n",
      "1/1 - 0s - loss: 1.7448 - accuracy: 0.3929 - 4ms/epoch - 4ms/step\n",
      "Epoch 54/300\n",
      "1/1 - 0s - loss: 1.7356 - accuracy: 0.4286 - 3ms/epoch - 3ms/step\n",
      "Epoch 55/300\n",
      "1/1 - 0s - loss: 1.7260 - accuracy: 0.4286 - 3ms/epoch - 3ms/step\n",
      "Epoch 56/300\n",
      "1/1 - 0s - loss: 1.7160 - accuracy: 0.4286 - 4ms/epoch - 4ms/step\n",
      "Epoch 57/300\n",
      "1/1 - 0s - loss: 1.7056 - accuracy: 0.4286 - 4ms/epoch - 4ms/step\n",
      "Epoch 58/300\n",
      "1/1 - 0s - loss: 1.6949 - accuracy: 0.4286 - 3ms/epoch - 3ms/step\n",
      "Epoch 59/300\n",
      "1/1 - 0s - loss: 1.6840 - accuracy: 0.4286 - 4ms/epoch - 4ms/step\n",
      "Epoch 60/300\n",
      "1/1 - 0s - loss: 1.6729 - accuracy: 0.4286 - 3ms/epoch - 3ms/step\n",
      "Epoch 61/300\n",
      "1/1 - 0s - loss: 1.6616 - accuracy: 0.4286 - 3ms/epoch - 3ms/step\n",
      "Epoch 62/300\n",
      "1/1 - 0s - loss: 1.6501 - accuracy: 0.4286 - 4ms/epoch - 4ms/step\n",
      "Epoch 63/300\n",
      "1/1 - 0s - loss: 1.6384 - accuracy: 0.4643 - 4ms/epoch - 4ms/step\n",
      "Epoch 64/300\n",
      "1/1 - 0s - loss: 1.6264 - accuracy: 0.4643 - 3ms/epoch - 3ms/step\n",
      "Epoch 65/300\n",
      "1/1 - 0s - loss: 1.6143 - accuracy: 0.4643 - 4ms/epoch - 4ms/step\n",
      "Epoch 66/300\n",
      "1/1 - 0s - loss: 1.6020 - accuracy: 0.4643 - 13ms/epoch - 13ms/step\n",
      "Epoch 67/300\n",
      "1/1 - 0s - loss: 1.5894 - accuracy: 0.4643 - 6ms/epoch - 6ms/step\n",
      "Epoch 68/300\n",
      "1/1 - 0s - loss: 1.5766 - accuracy: 0.4643 - 3ms/epoch - 3ms/step\n",
      "Epoch 69/300\n",
      "1/1 - 0s - loss: 1.5637 - accuracy: 0.5000 - 3ms/epoch - 3ms/step\n",
      "Epoch 70/300\n",
      "1/1 - 0s - loss: 1.5505 - accuracy: 0.5000 - 4ms/epoch - 4ms/step\n",
      "Epoch 71/300\n",
      "1/1 - 0s - loss: 1.5372 - accuracy: 0.5000 - 3ms/epoch - 3ms/step\n",
      "Epoch 72/300\n",
      "1/1 - 0s - loss: 1.5238 - accuracy: 0.5357 - 3ms/epoch - 3ms/step\n",
      "Epoch 73/300\n",
      "1/1 - 0s - loss: 1.5102 - accuracy: 0.5357 - 3ms/epoch - 3ms/step\n",
      "Epoch 74/300\n",
      "1/1 - 0s - loss: 1.4965 - accuracy: 0.5357 - 3ms/epoch - 3ms/step\n",
      "Epoch 75/300\n",
      "1/1 - 0s - loss: 1.4828 - accuracy: 0.5357 - 3ms/epoch - 3ms/step\n",
      "Epoch 76/300\n",
      "1/1 - 0s - loss: 1.4690 - accuracy: 0.5357 - 4ms/epoch - 4ms/step\n",
      "Epoch 77/300\n",
      "1/1 - 0s - loss: 1.4552 - accuracy: 0.5357 - 4ms/epoch - 4ms/step\n",
      "Epoch 78/300\n",
      "1/1 - 0s - loss: 1.4413 - accuracy: 0.5357 - 3ms/epoch - 3ms/step\n",
      "Epoch 79/300\n",
      "1/1 - 0s - loss: 1.4275 - accuracy: 0.5357 - 4ms/epoch - 4ms/step\n",
      "Epoch 80/300\n",
      "1/1 - 0s - loss: 1.4136 - accuracy: 0.5357 - 4ms/epoch - 4ms/step\n",
      "Epoch 81/300\n",
      "1/1 - 0s - loss: 1.3998 - accuracy: 0.5357 - 4ms/epoch - 4ms/step\n",
      "Epoch 82/300\n",
      "1/1 - 0s - loss: 1.3860 - accuracy: 0.5714 - 3ms/epoch - 3ms/step\n",
      "Epoch 83/300\n",
      "1/1 - 0s - loss: 1.3722 - accuracy: 0.5714 - 4ms/epoch - 4ms/step\n",
      "Epoch 84/300\n",
      "1/1 - 0s - loss: 1.3585 - accuracy: 0.5714 - 3ms/epoch - 3ms/step\n",
      "Epoch 85/300\n",
      "1/1 - 0s - loss: 1.3449 - accuracy: 0.5714 - 3ms/epoch - 3ms/step\n",
      "Epoch 86/300\n",
      "1/1 - 0s - loss: 1.3313 - accuracy: 0.5714 - 3ms/epoch - 3ms/step\n",
      "Epoch 87/300\n",
      "1/1 - 0s - loss: 1.3179 - accuracy: 0.5714 - 4ms/epoch - 4ms/step\n",
      "Epoch 88/300\n",
      "1/1 - 0s - loss: 1.3045 - accuracy: 0.5714 - 3ms/epoch - 3ms/step\n",
      "Epoch 89/300\n",
      "1/1 - 0s - loss: 1.2913 - accuracy: 0.5714 - 4ms/epoch - 4ms/step\n",
      "Epoch 90/300\n",
      "1/1 - 0s - loss: 1.2782 - accuracy: 0.5714 - 3ms/epoch - 3ms/step\n",
      "Epoch 91/300\n",
      "1/1 - 0s - loss: 1.2653 - accuracy: 0.5714 - 4ms/epoch - 4ms/step\n",
      "Epoch 92/300\n",
      "1/1 - 0s - loss: 1.2525 - accuracy: 0.5714 - 4ms/epoch - 4ms/step\n",
      "Epoch 93/300\n",
      "1/1 - 0s - loss: 1.2398 - accuracy: 0.5714 - 4ms/epoch - 4ms/step\n",
      "Epoch 94/300\n",
      "1/1 - 0s - loss: 1.2274 - accuracy: 0.5714 - 3ms/epoch - 3ms/step\n",
      "Epoch 95/300\n",
      "1/1 - 0s - loss: 1.2150 - accuracy: 0.5714 - 4ms/epoch - 4ms/step\n",
      "Epoch 96/300\n",
      "1/1 - 0s - loss: 1.2029 - accuracy: 0.5714 - 4ms/epoch - 4ms/step\n",
      "Epoch 97/300\n",
      "1/1 - 0s - loss: 1.1909 - accuracy: 0.5714 - 3ms/epoch - 3ms/step\n",
      "Epoch 98/300\n",
      "1/1 - 0s - loss: 1.1791 - accuracy: 0.6071 - 4ms/epoch - 4ms/step\n",
      "Epoch 99/300\n",
      "1/1 - 0s - loss: 1.1675 - accuracy: 0.6071 - 3ms/epoch - 3ms/step\n",
      "Epoch 100/300\n",
      "1/1 - 0s - loss: 1.1560 - accuracy: 0.6071 - 3ms/epoch - 3ms/step\n",
      "Epoch 101/300\n",
      "1/1 - 0s - loss: 1.1448 - accuracy: 0.6071 - 4ms/epoch - 4ms/step\n",
      "Epoch 102/300\n",
      "1/1 - 0s - loss: 1.1337 - accuracy: 0.6071 - 3ms/epoch - 3ms/step\n",
      "Epoch 103/300\n",
      "1/1 - 0s - loss: 1.1228 - accuracy: 0.6071 - 3ms/epoch - 3ms/step\n",
      "Epoch 104/300\n",
      "1/1 - 0s - loss: 1.1122 - accuracy: 0.6071 - 4ms/epoch - 4ms/step\n"
     ]
    },
    {
     "name": "stdout",
     "output_type": "stream",
     "text": [
      "Epoch 105/300\n",
      "1/1 - 0s - loss: 1.1017 - accuracy: 0.6429 - 4ms/epoch - 4ms/step\n",
      "Epoch 106/300\n",
      "1/1 - 0s - loss: 1.0913 - accuracy: 0.6429 - 3ms/epoch - 3ms/step\n",
      "Epoch 107/300\n",
      "1/1 - 0s - loss: 1.0812 - accuracy: 0.6429 - 3ms/epoch - 3ms/step\n",
      "Epoch 108/300\n",
      "1/1 - 0s - loss: 1.0712 - accuracy: 0.6429 - 4ms/epoch - 4ms/step\n",
      "Epoch 109/300\n",
      "1/1 - 0s - loss: 1.0614 - accuracy: 0.6429 - 4ms/epoch - 4ms/step\n",
      "Epoch 110/300\n",
      "1/1 - 0s - loss: 1.0518 - accuracy: 0.6429 - 3ms/epoch - 3ms/step\n",
      "Epoch 111/300\n",
      "1/1 - 0s - loss: 1.0423 - accuracy: 0.6429 - 3ms/epoch - 3ms/step\n",
      "Epoch 112/300\n",
      "1/1 - 0s - loss: 1.0330 - accuracy: 0.6786 - 4ms/epoch - 4ms/step\n",
      "Epoch 113/300\n",
      "1/1 - 0s - loss: 1.0238 - accuracy: 0.6786 - 4ms/epoch - 4ms/step\n",
      "Epoch 114/300\n",
      "1/1 - 0s - loss: 1.0148 - accuracy: 0.6786 - 3ms/epoch - 3ms/step\n",
      "Epoch 115/300\n",
      "1/1 - 0s - loss: 1.0059 - accuracy: 0.6786 - 4ms/epoch - 4ms/step\n",
      "Epoch 116/300\n",
      "1/1 - 0s - loss: 0.9972 - accuracy: 0.6786 - 3ms/epoch - 3ms/step\n",
      "Epoch 117/300\n",
      "1/1 - 0s - loss: 0.9886 - accuracy: 0.6786 - 4ms/epoch - 4ms/step\n",
      "Epoch 118/300\n",
      "1/1 - 0s - loss: 0.9801 - accuracy: 0.6786 - 3ms/epoch - 3ms/step\n",
      "Epoch 119/300\n",
      "1/1 - 0s - loss: 0.9718 - accuracy: 0.6786 - 3ms/epoch - 3ms/step\n",
      "Epoch 120/300\n",
      "1/1 - 0s - loss: 0.9636 - accuracy: 0.6786 - 4ms/epoch - 4ms/step\n",
      "Epoch 121/300\n",
      "1/1 - 0s - loss: 0.9555 - accuracy: 0.6786 - 3ms/epoch - 3ms/step\n",
      "Epoch 122/300\n",
      "1/1 - 0s - loss: 0.9475 - accuracy: 0.6786 - 4ms/epoch - 4ms/step\n",
      "Epoch 123/300\n",
      "1/1 - 0s - loss: 0.9397 - accuracy: 0.6786 - 4ms/epoch - 4ms/step\n",
      "Epoch 124/300\n",
      "1/1 - 0s - loss: 0.9320 - accuracy: 0.6786 - 3ms/epoch - 3ms/step\n",
      "Epoch 125/300\n",
      "1/1 - 0s - loss: 0.9243 - accuracy: 0.6786 - 3ms/epoch - 3ms/step\n",
      "Epoch 126/300\n",
      "1/1 - 0s - loss: 0.9168 - accuracy: 0.6786 - 4ms/epoch - 4ms/step\n",
      "Epoch 127/300\n",
      "1/1 - 0s - loss: 0.9094 - accuracy: 0.6786 - 3ms/epoch - 3ms/step\n",
      "Epoch 128/300\n",
      "1/1 - 0s - loss: 0.9020 - accuracy: 0.6786 - 3ms/epoch - 3ms/step\n",
      "Epoch 129/300\n",
      "1/1 - 0s - loss: 0.8948 - accuracy: 0.6786 - 3ms/epoch - 3ms/step\n",
      "Epoch 130/300\n",
      "1/1 - 0s - loss: 0.8876 - accuracy: 0.6786 - 4ms/epoch - 4ms/step\n",
      "Epoch 131/300\n",
      "1/1 - 0s - loss: 0.8806 - accuracy: 0.7143 - 4ms/epoch - 4ms/step\n",
      "Epoch 132/300\n",
      "1/1 - 0s - loss: 0.8736 - accuracy: 0.7143 - 3ms/epoch - 3ms/step\n",
      "Epoch 133/300\n",
      "1/1 - 0s - loss: 0.8667 - accuracy: 0.7143 - 3ms/epoch - 3ms/step\n",
      "Epoch 134/300\n",
      "1/1 - 0s - loss: 0.8599 - accuracy: 0.7143 - 4ms/epoch - 4ms/step\n",
      "Epoch 135/300\n",
      "1/1 - 0s - loss: 0.8532 - accuracy: 0.7143 - 4ms/epoch - 4ms/step\n",
      "Epoch 136/300\n",
      "1/1 - 0s - loss: 0.8466 - accuracy: 0.7143 - 3ms/epoch - 3ms/step\n",
      "Epoch 137/300\n",
      "1/1 - 0s - loss: 0.8401 - accuracy: 0.7143 - 5ms/epoch - 5ms/step\n",
      "Epoch 138/300\n",
      "1/1 - 0s - loss: 0.8336 - accuracy: 0.7143 - 3ms/epoch - 3ms/step\n",
      "Epoch 139/300\n",
      "1/1 - 0s - loss: 0.8272 - accuracy: 0.7143 - 3ms/epoch - 3ms/step\n",
      "Epoch 140/300\n",
      "1/1 - 0s - loss: 0.8209 - accuracy: 0.7143 - 4ms/epoch - 4ms/step\n",
      "Epoch 141/300\n",
      "1/1 - 0s - loss: 0.8146 - accuracy: 0.7143 - 3ms/epoch - 3ms/step\n",
      "Epoch 142/300\n",
      "1/1 - 0s - loss: 0.8084 - accuracy: 0.7143 - 3ms/epoch - 3ms/step\n",
      "Epoch 143/300\n",
      "1/1 - 0s - loss: 0.8023 - accuracy: 0.7143 - 4ms/epoch - 4ms/step\n",
      "Epoch 144/300\n",
      "1/1 - 0s - loss: 0.7963 - accuracy: 0.7143 - 4ms/epoch - 4ms/step\n",
      "Epoch 145/300\n",
      "1/1 - 0s - loss: 0.7903 - accuracy: 0.7143 - 3ms/epoch - 3ms/step\n",
      "Epoch 146/300\n",
      "1/1 - 0s - loss: 0.7844 - accuracy: 0.7143 - 4ms/epoch - 4ms/step\n",
      "Epoch 147/300\n",
      "1/1 - 0s - loss: 0.7785 - accuracy: 0.7143 - 3ms/epoch - 3ms/step\n",
      "Epoch 148/300\n",
      "1/1 - 0s - loss: 0.7727 - accuracy: 0.7143 - 4ms/epoch - 4ms/step\n",
      "Epoch 149/300\n",
      "1/1 - 0s - loss: 0.7670 - accuracy: 0.7500 - 4ms/epoch - 4ms/step\n",
      "Epoch 150/300\n",
      "1/1 - 0s - loss: 0.7613 - accuracy: 0.7500 - 3ms/epoch - 3ms/step\n",
      "Epoch 151/300\n",
      "1/1 - 0s - loss: 0.7557 - accuracy: 0.7500 - 4ms/epoch - 4ms/step\n",
      "Epoch 152/300\n",
      "1/1 - 0s - loss: 0.7502 - accuracy: 0.7500 - 3ms/epoch - 3ms/step\n",
      "Epoch 153/300\n",
      "1/1 - 0s - loss: 0.7447 - accuracy: 0.7500 - 3ms/epoch - 3ms/step\n",
      "Epoch 154/300\n",
      "1/1 - 0s - loss: 0.7393 - accuracy: 0.7857 - 4ms/epoch - 4ms/step\n",
      "Epoch 155/300\n",
      "1/1 - 0s - loss: 0.7339 - accuracy: 0.7857 - 3ms/epoch - 3ms/step\n",
      "Epoch 156/300\n",
      "1/1 - 0s - loss: 0.7286 - accuracy: 0.7857 - 3ms/epoch - 3ms/step\n",
      "Epoch 157/300\n",
      "1/1 - 0s - loss: 0.7233 - accuracy: 0.7857 - 4ms/epoch - 4ms/step\n",
      "Epoch 158/300\n",
      "1/1 - 0s - loss: 0.7181 - accuracy: 0.7857 - 4ms/epoch - 4ms/step\n",
      "Epoch 159/300\n",
      "1/1 - 0s - loss: 0.7129 - accuracy: 0.8214 - 3ms/epoch - 3ms/step\n",
      "Epoch 160/300\n",
      "1/1 - 0s - loss: 0.7078 - accuracy: 0.8214 - 4ms/epoch - 4ms/step\n",
      "Epoch 161/300\n",
      "1/1 - 0s - loss: 0.7028 - accuracy: 0.8214 - 3ms/epoch - 3ms/step\n",
      "Epoch 162/300\n",
      "1/1 - 0s - loss: 0.6978 - accuracy: 0.8214 - 4ms/epoch - 4ms/step\n",
      "Epoch 163/300\n",
      "1/1 - 0s - loss: 0.6928 - accuracy: 0.8214 - 4ms/epoch - 4ms/step\n",
      "Epoch 164/300\n",
      "1/1 - 0s - loss: 0.6879 - accuracy: 0.8214 - 3ms/epoch - 3ms/step\n",
      "Epoch 165/300\n",
      "1/1 - 0s - loss: 0.6831 - accuracy: 0.8214 - 4ms/epoch - 4ms/step\n",
      "Epoch 166/300\n",
      "1/1 - 0s - loss: 0.6783 - accuracy: 0.8214 - 4ms/epoch - 4ms/step\n",
      "Epoch 167/300\n",
      "1/1 - 0s - loss: 0.6735 - accuracy: 0.8214 - 3ms/epoch - 3ms/step\n",
      "Epoch 168/300\n",
      "1/1 - 0s - loss: 0.6688 - accuracy: 0.8214 - 4ms/epoch - 4ms/step\n",
      "Epoch 169/300\n",
      "1/1 - 0s - loss: 0.6641 - accuracy: 0.8214 - 3ms/epoch - 3ms/step\n",
      "Epoch 170/300\n",
      "1/1 - 0s - loss: 0.6595 - accuracy: 0.8214 - 3ms/epoch - 3ms/step\n",
      "Epoch 171/300\n",
      "1/1 - 0s - loss: 0.6550 - accuracy: 0.8214 - 4ms/epoch - 4ms/step\n",
      "Epoch 172/300\n",
      "1/1 - 0s - loss: 0.6504 - accuracy: 0.8214 - 4ms/epoch - 4ms/step\n",
      "Epoch 173/300\n",
      "1/1 - 0s - loss: 0.6460 - accuracy: 0.8571 - 3ms/epoch - 3ms/step\n",
      "Epoch 174/300\n",
      "1/1 - 0s - loss: 0.6415 - accuracy: 0.8571 - 4ms/epoch - 4ms/step\n",
      "Epoch 175/300\n",
      "1/1 - 0s - loss: 0.6371 - accuracy: 0.8571 - 3ms/epoch - 3ms/step\n",
      "Epoch 176/300\n",
      "1/1 - 0s - loss: 0.6328 - accuracy: 0.8571 - 3ms/epoch - 3ms/step\n",
      "Epoch 177/300\n",
      "1/1 - 0s - loss: 0.6285 - accuracy: 0.8571 - 5ms/epoch - 5ms/step\n",
      "Epoch 178/300\n",
      "1/1 - 0s - loss: 0.6242 - accuracy: 0.8571 - 4ms/epoch - 4ms/step\n",
      "Epoch 179/300\n",
      "1/1 - 0s - loss: 0.6200 - accuracy: 0.8571 - 4ms/epoch - 4ms/step\n",
      "Epoch 180/300\n",
      "1/1 - 0s - loss: 0.6158 - accuracy: 0.8571 - 4ms/epoch - 4ms/step\n",
      "Epoch 181/300\n",
      "1/1 - 0s - loss: 0.6116 - accuracy: 0.8571 - 3ms/epoch - 3ms/step\n",
      "Epoch 182/300\n",
      "1/1 - 0s - loss: 0.6075 - accuracy: 0.8571 - 5ms/epoch - 5ms/step\n",
      "Epoch 183/300\n",
      "1/1 - 0s - loss: 0.6035 - accuracy: 0.8571 - 3ms/epoch - 3ms/step\n",
      "Epoch 184/300\n",
      "1/1 - 0s - loss: 0.5994 - accuracy: 0.8571 - 3ms/epoch - 3ms/step\n",
      "Epoch 185/300\n",
      "1/1 - 0s - loss: 0.5954 - accuracy: 0.8571 - 4ms/epoch - 4ms/step\n",
      "Epoch 186/300\n",
      "1/1 - 0s - loss: 0.5915 - accuracy: 0.8571 - 3ms/epoch - 3ms/step\n",
      "Epoch 187/300\n",
      "1/1 - 0s - loss: 0.5876 - accuracy: 0.8571 - 3ms/epoch - 3ms/step\n",
      "Epoch 188/300\n",
      "1/1 - 0s - loss: 0.5837 - accuracy: 0.8571 - 5ms/epoch - 5ms/step\n",
      "Epoch 189/300\n",
      "1/1 - 0s - loss: 0.5799 - accuracy: 0.8571 - 3ms/epoch - 3ms/step\n",
      "Epoch 190/300\n",
      "1/1 - 0s - loss: 0.5761 - accuracy: 0.8571 - 4ms/epoch - 4ms/step\n",
      "Epoch 191/300\n",
      "1/1 - 0s - loss: 0.5723 - accuracy: 0.8571 - 4ms/epoch - 4ms/step\n",
      "Epoch 192/300\n",
      "1/1 - 0s - loss: 0.5686 - accuracy: 0.8571 - 3ms/epoch - 3ms/step\n",
      "Epoch 193/300\n",
      "1/1 - 0s - loss: 0.5649 - accuracy: 0.8571 - 4ms/epoch - 4ms/step\n",
      "Epoch 194/300\n",
      "1/1 - 0s - loss: 0.5612 - accuracy: 0.8929 - 4ms/epoch - 4ms/step\n",
      "Epoch 195/300\n",
      "1/1 - 0s - loss: 0.5576 - accuracy: 0.8929 - 3ms/epoch - 3ms/step\n",
      "Epoch 196/300\n",
      "1/1 - 0s - loss: 0.5540 - accuracy: 0.8929 - 3ms/epoch - 3ms/step\n",
      "Epoch 197/300\n",
      "1/1 - 0s - loss: 0.5504 - accuracy: 0.8929 - 3ms/epoch - 3ms/step\n",
      "Epoch 198/300\n",
      "1/1 - 0s - loss: 0.5469 - accuracy: 0.8929 - 3ms/epoch - 3ms/step\n",
      "Epoch 199/300\n",
      "1/1 - 0s - loss: 0.5434 - accuracy: 0.8929 - 5ms/epoch - 5ms/step\n",
      "Epoch 200/300\n",
      "1/1 - 0s - loss: 0.5399 - accuracy: 0.8929 - 3ms/epoch - 3ms/step\n",
      "Epoch 201/300\n",
      "1/1 - 0s - loss: 0.5365 - accuracy: 0.8929 - 4ms/epoch - 4ms/step\n",
      "Epoch 202/300\n",
      "1/1 - 0s - loss: 0.5331 - accuracy: 0.8929 - 14ms/epoch - 14ms/step\n",
      "Epoch 203/300\n",
      "1/1 - 0s - loss: 0.5297 - accuracy: 0.8929 - 3ms/epoch - 3ms/step\n",
      "Epoch 204/300\n",
      "1/1 - 0s - loss: 0.5264 - accuracy: 0.8929 - 4ms/epoch - 4ms/step\n",
      "Epoch 205/300\n",
      "1/1 - 0s - loss: 0.5231 - accuracy: 0.8929 - 5ms/epoch - 5ms/step\n",
      "Epoch 206/300\n",
      "1/1 - 0s - loss: 0.5198 - accuracy: 0.8929 - 4ms/epoch - 4ms/step\n",
      "Epoch 207/300\n",
      "1/1 - 0s - loss: 0.5166 - accuracy: 0.8929 - 4ms/epoch - 4ms/step\n"
     ]
    },
    {
     "name": "stdout",
     "output_type": "stream",
     "text": [
      "Epoch 208/300\n",
      "1/1 - 0s - loss: 0.5134 - accuracy: 0.8929 - 3ms/epoch - 3ms/step\n",
      "Epoch 209/300\n",
      "1/1 - 0s - loss: 0.5102 - accuracy: 0.8929 - 3ms/epoch - 3ms/step\n",
      "Epoch 210/300\n",
      "1/1 - 0s - loss: 0.5070 - accuracy: 0.8929 - 4ms/epoch - 4ms/step\n",
      "Epoch 211/300\n",
      "1/1 - 0s - loss: 0.5039 - accuracy: 0.8929 - 3ms/epoch - 3ms/step\n",
      "Epoch 212/300\n",
      "1/1 - 0s - loss: 0.5008 - accuracy: 0.8929 - 3ms/epoch - 3ms/step\n",
      "Epoch 213/300\n",
      "1/1 - 0s - loss: 0.4977 - accuracy: 0.8929 - 4ms/epoch - 4ms/step\n",
      "Epoch 214/300\n",
      "1/1 - 0s - loss: 0.4947 - accuracy: 0.8929 - 3ms/epoch - 3ms/step\n",
      "Epoch 215/300\n",
      "1/1 - 0s - loss: 0.4917 - accuracy: 0.8929 - 3ms/epoch - 3ms/step\n",
      "Epoch 216/300\n",
      "1/1 - 0s - loss: 0.4887 - accuracy: 0.8929 - 3ms/epoch - 3ms/step\n",
      "Epoch 217/300\n",
      "1/1 - 0s - loss: 0.4858 - accuracy: 0.8929 - 4ms/epoch - 4ms/step\n",
      "Epoch 218/300\n",
      "1/1 - 0s - loss: 0.4828 - accuracy: 0.8929 - 4ms/epoch - 4ms/step\n",
      "Epoch 219/300\n",
      "1/1 - 0s - loss: 0.4800 - accuracy: 0.8929 - 4ms/epoch - 4ms/step\n",
      "Epoch 220/300\n",
      "1/1 - 0s - loss: 0.4771 - accuracy: 0.8929 - 3ms/epoch - 3ms/step\n",
      "Epoch 221/300\n",
      "1/1 - 0s - loss: 0.4742 - accuracy: 0.8929 - 4ms/epoch - 4ms/step\n",
      "Epoch 222/300\n",
      "1/1 - 0s - loss: 0.4714 - accuracy: 0.8929 - 4ms/epoch - 4ms/step\n",
      "Epoch 223/300\n",
      "1/1 - 0s - loss: 0.4686 - accuracy: 0.8929 - 3ms/epoch - 3ms/step\n",
      "Epoch 224/300\n",
      "1/1 - 0s - loss: 0.4659 - accuracy: 0.8929 - 4ms/epoch - 4ms/step\n",
      "Epoch 225/300\n",
      "1/1 - 0s - loss: 0.4631 - accuracy: 0.8929 - 3ms/epoch - 3ms/step\n",
      "Epoch 226/300\n",
      "1/1 - 0s - loss: 0.4604 - accuracy: 0.8929 - 4ms/epoch - 4ms/step\n",
      "Epoch 227/300\n",
      "1/1 - 0s - loss: 0.4577 - accuracy: 0.8929 - 4ms/epoch - 4ms/step\n",
      "Epoch 228/300\n",
      "1/1 - 0s - loss: 0.4551 - accuracy: 0.8929 - 5ms/epoch - 5ms/step\n",
      "Epoch 229/300\n",
      "1/1 - 0s - loss: 0.4524 - accuracy: 0.8929 - 3ms/epoch - 3ms/step\n",
      "Epoch 230/300\n",
      "1/1 - 0s - loss: 0.4498 - accuracy: 0.8929 - 4ms/epoch - 4ms/step\n",
      "Epoch 231/300\n",
      "1/1 - 0s - loss: 0.4472 - accuracy: 0.8929 - 3ms/epoch - 3ms/step\n",
      "Epoch 232/300\n",
      "1/1 - 0s - loss: 0.4447 - accuracy: 0.8929 - 3ms/epoch - 3ms/step\n",
      "Epoch 233/300\n",
      "1/1 - 0s - loss: 0.4421 - accuracy: 0.8929 - 4ms/epoch - 4ms/step\n",
      "Epoch 234/300\n",
      "1/1 - 0s - loss: 0.4396 - accuracy: 0.8929 - 4ms/epoch - 4ms/step\n",
      "Epoch 235/300\n",
      "1/1 - 0s - loss: 0.4371 - accuracy: 0.8929 - 3ms/epoch - 3ms/step\n",
      "Epoch 236/300\n",
      "1/1 - 0s - loss: 0.4346 - accuracy: 0.8929 - 4ms/epoch - 4ms/step\n",
      "Epoch 237/300\n",
      "1/1 - 0s - loss: 0.4322 - accuracy: 0.8929 - 3ms/epoch - 3ms/step\n",
      "Epoch 238/300\n",
      "1/1 - 0s - loss: 0.4298 - accuracy: 0.8929 - 5ms/epoch - 5ms/step\n",
      "Epoch 239/300\n",
      "1/1 - 0s - loss: 0.4274 - accuracy: 0.8929 - 4ms/epoch - 4ms/step\n",
      "Epoch 240/300\n",
      "1/1 - 0s - loss: 0.4250 - accuracy: 0.8929 - 3ms/epoch - 3ms/step\n",
      "Epoch 241/300\n",
      "1/1 - 0s - loss: 0.4226 - accuracy: 0.8929 - 4ms/epoch - 4ms/step\n",
      "Epoch 242/300\n",
      "1/1 - 0s - loss: 0.4203 - accuracy: 0.8929 - 4ms/epoch - 4ms/step\n",
      "Epoch 243/300\n",
      "1/1 - 0s - loss: 0.4180 - accuracy: 0.8929 - 4ms/epoch - 4ms/step\n",
      "Epoch 244/300\n",
      "1/1 - 0s - loss: 0.4157 - accuracy: 0.8929 - 4ms/epoch - 4ms/step\n",
      "Epoch 245/300\n",
      "1/1 - 0s - loss: 0.4134 - accuracy: 0.8929 - 3ms/epoch - 3ms/step\n",
      "Epoch 246/300\n",
      "1/1 - 0s - loss: 0.4112 - accuracy: 0.8929 - 3ms/epoch - 3ms/step\n",
      "Epoch 247/300\n",
      "1/1 - 0s - loss: 0.4089 - accuracy: 0.8929 - 4ms/epoch - 4ms/step\n",
      "Epoch 248/300\n",
      "1/1 - 0s - loss: 0.4067 - accuracy: 0.8929 - 3ms/epoch - 3ms/step\n",
      "Epoch 249/300\n",
      "1/1 - 0s - loss: 0.4045 - accuracy: 0.8929 - 4ms/epoch - 4ms/step\n",
      "Epoch 250/300\n",
      "1/1 - 0s - loss: 0.4024 - accuracy: 0.8929 - 4ms/epoch - 4ms/step\n",
      "Epoch 251/300\n",
      "1/1 - 0s - loss: 0.4002 - accuracy: 0.8929 - 3ms/epoch - 3ms/step\n",
      "Epoch 252/300\n",
      "1/1 - 0s - loss: 0.3981 - accuracy: 0.8929 - 5ms/epoch - 5ms/step\n",
      "Epoch 253/300\n",
      "1/1 - 0s - loss: 0.3960 - accuracy: 0.8929 - 4ms/epoch - 4ms/step\n",
      "Epoch 254/300\n",
      "1/1 - 0s - loss: 0.3939 - accuracy: 0.8929 - 3ms/epoch - 3ms/step\n",
      "Epoch 255/300\n",
      "1/1 - 0s - loss: 0.3918 - accuracy: 0.8929 - 4ms/epoch - 4ms/step\n",
      "Epoch 256/300\n",
      "1/1 - 0s - loss: 0.3898 - accuracy: 0.8929 - 4ms/epoch - 4ms/step\n",
      "Epoch 257/300\n",
      "1/1 - 0s - loss: 0.3877 - accuracy: 0.8929 - 3ms/epoch - 3ms/step\n",
      "Epoch 258/300\n",
      "1/1 - 0s - loss: 0.3857 - accuracy: 0.8929 - 4ms/epoch - 4ms/step\n",
      "Epoch 259/300\n",
      "1/1 - 0s - loss: 0.3837 - accuracy: 0.8929 - 3ms/epoch - 3ms/step\n",
      "Epoch 260/300\n",
      "1/1 - 0s - loss: 0.3818 - accuracy: 0.8929 - 3ms/epoch - 3ms/step\n",
      "Epoch 261/300\n",
      "1/1 - 0s - loss: 0.3798 - accuracy: 0.8929 - 4ms/epoch - 4ms/step\n",
      "Epoch 262/300\n",
      "1/1 - 0s - loss: 0.3778 - accuracy: 0.8929 - 3ms/epoch - 3ms/step\n",
      "Epoch 263/300\n",
      "1/1 - 0s - loss: 0.3759 - accuracy: 0.8929 - 4ms/epoch - 4ms/step\n",
      "Epoch 264/300\n",
      "1/1 - 0s - loss: 0.3740 - accuracy: 0.8929 - 4ms/epoch - 4ms/step\n",
      "Epoch 265/300\n",
      "1/1 - 0s - loss: 0.3721 - accuracy: 0.8929 - 3ms/epoch - 3ms/step\n",
      "Epoch 266/300\n",
      "1/1 - 0s - loss: 0.3703 - accuracy: 0.8929 - 4ms/epoch - 4ms/step\n",
      "Epoch 267/300\n",
      "1/1 - 0s - loss: 0.3684 - accuracy: 0.8929 - 3ms/epoch - 3ms/step\n",
      "Epoch 268/300\n",
      "1/1 - 0s - loss: 0.3666 - accuracy: 0.8929 - 3ms/epoch - 3ms/step\n",
      "Epoch 269/300\n",
      "1/1 - 0s - loss: 0.3647 - accuracy: 0.8929 - 5ms/epoch - 5ms/step\n",
      "Epoch 270/300\n",
      "1/1 - 0s - loss: 0.3629 - accuracy: 0.8929 - 4ms/epoch - 4ms/step\n",
      "Epoch 271/300\n",
      "1/1 - 0s - loss: 0.3612 - accuracy: 0.8929 - 3ms/epoch - 3ms/step\n",
      "Epoch 272/300\n",
      "1/1 - 0s - loss: 0.3594 - accuracy: 0.8929 - 5ms/epoch - 5ms/step\n",
      "Epoch 273/300\n",
      "1/1 - 0s - loss: 0.3576 - accuracy: 0.8929 - 3ms/epoch - 3ms/step\n",
      "Epoch 274/300\n",
      "1/1 - 0s - loss: 0.3559 - accuracy: 0.8929 - 3ms/epoch - 3ms/step\n",
      "Epoch 275/300\n",
      "1/1 - 0s - loss: 0.3542 - accuracy: 0.8929 - 4ms/epoch - 4ms/step\n",
      "Epoch 276/300\n",
      "1/1 - 0s - loss: 0.3525 - accuracy: 0.8929 - 3ms/epoch - 3ms/step\n",
      "Epoch 277/300\n",
      "1/1 - 0s - loss: 0.3508 - accuracy: 0.8929 - 3ms/epoch - 3ms/step\n",
      "Epoch 278/300\n",
      "1/1 - 0s - loss: 0.3491 - accuracy: 0.8929 - 4ms/epoch - 4ms/step\n",
      "Epoch 279/300\n",
      "1/1 - 0s - loss: 0.3474 - accuracy: 0.8929 - 3ms/epoch - 3ms/step\n",
      "Epoch 280/300\n",
      "1/1 - 0s - loss: 0.3458 - accuracy: 0.8929 - 4ms/epoch - 4ms/step\n",
      "Epoch 281/300\n",
      "1/1 - 0s - loss: 0.3442 - accuracy: 0.8929 - 4ms/epoch - 4ms/step\n",
      "Epoch 282/300\n",
      "1/1 - 0s - loss: 0.3426 - accuracy: 0.8929 - 3ms/epoch - 3ms/step\n",
      "Epoch 283/300\n",
      "1/1 - 0s - loss: 0.3410 - accuracy: 0.8929 - 4ms/epoch - 4ms/step\n",
      "Epoch 284/300\n",
      "1/1 - 0s - loss: 0.3394 - accuracy: 0.8929 - 3ms/epoch - 3ms/step\n",
      "Epoch 285/300\n",
      "1/1 - 0s - loss: 0.3378 - accuracy: 0.8929 - 3ms/epoch - 3ms/step\n",
      "Epoch 286/300\n",
      "1/1 - 0s - loss: 0.3363 - accuracy: 0.8929 - 5ms/epoch - 5ms/step\n",
      "Epoch 287/300\n",
      "1/1 - 0s - loss: 0.3348 - accuracy: 0.8929 - 3ms/epoch - 3ms/step\n",
      "Epoch 288/300\n",
      "1/1 - 0s - loss: 0.3332 - accuracy: 0.8929 - 3ms/epoch - 3ms/step\n",
      "Epoch 289/300\n",
      "1/1 - 0s - loss: 0.3317 - accuracy: 0.8929 - 4ms/epoch - 4ms/step\n",
      "Epoch 290/300\n",
      "1/1 - 0s - loss: 0.3303 - accuracy: 0.8929 - 3ms/epoch - 3ms/step\n",
      "Epoch 291/300\n",
      "1/1 - 0s - loss: 0.3288 - accuracy: 0.8929 - 3ms/epoch - 3ms/step\n",
      "Epoch 292/300\n",
      "1/1 - 0s - loss: 0.3273 - accuracy: 0.8929 - 4ms/epoch - 4ms/step\n",
      "Epoch 293/300\n",
      "1/1 - 0s - loss: 0.3259 - accuracy: 0.8929 - 3ms/epoch - 3ms/step\n",
      "Epoch 294/300\n",
      "1/1 - 0s - loss: 0.3245 - accuracy: 0.8929 - 4ms/epoch - 4ms/step\n",
      "Epoch 295/300\n",
      "1/1 - 0s - loss: 0.3230 - accuracy: 0.8929 - 3ms/epoch - 3ms/step\n",
      "Epoch 296/300\n",
      "1/1 - 0s - loss: 0.3217 - accuracy: 0.8929 - 3ms/epoch - 3ms/step\n",
      "Epoch 297/300\n",
      "1/1 - 0s - loss: 0.3203 - accuracy: 0.8929 - 4ms/epoch - 4ms/step\n",
      "Epoch 298/300\n",
      "1/1 - 0s - loss: 0.3189 - accuracy: 0.8929 - 3ms/epoch - 3ms/step\n",
      "Epoch 299/300\n",
      "1/1 - 0s - loss: 0.3176 - accuracy: 0.8929 - 3ms/epoch - 3ms/step\n",
      "Epoch 300/300\n",
      "1/1 - 0s - loss: 0.3162 - accuracy: 0.8929 - 4ms/epoch - 4ms/step\n"
     ]
    }
   ],
   "source": [
    "model.compile(loss='categorical_crossentropy', # 다중 분류에서의 손실함수\n",
    "             optimizer='adam',\n",
    "             metrics=['accuracy']) # 평가지표 : accuracy, recall, precision\n",
    "hist = model.fit(X, Y, epochs=300, verbose=2)"
   ]
  },
  {
   "cell_type": "code",
   "execution_count": 18,
   "id": "69f34df1",
   "metadata": {},
   "outputs": [
    {
     "data": {
      "text/plain": [
       "dict_keys(['loss', 'accuracy'])"
      ]
     },
     "execution_count": 18,
     "metadata": {},
     "output_type": "execute_result"
    }
   ],
   "source": [
    "hist.history.keys()"
   ]
  },
  {
   "cell_type": "code",
   "execution_count": 19,
   "id": "9963d8a1",
   "metadata": {},
   "outputs": [
    {
     "data": {
      "image/png": "[encoded data removed]",
      "text/plain": [
       "<Figure size 1000x500 with 2 Axes>"
      ]
     },
     "metadata": {},
     "output_type": "display_data"
    }
   ],
   "source": [
    "# 학습과정 표시하기(validation dataset 있는 경우)\n",
    "import matplotlib.pyplot as plt\n",
    "fig, loss_ax = plt.subplots(figsize=(10,5))\n",
    "loss_ax.plot(hist.history['loss'], 'r', label='train loss')\n",
    "loss_ax.set_xlabel('epoch')\n",
    "loss_ax.set_ylabel('loss')\n",
    "acc_ax = loss_ax.twinx()\n",
    "acc_ax.plot(hist.history['accuracy'], 'b', label='train accuracy')\n",
    "acc_ax.set_ylabel('accuracy')\n",
    "loss_ax.legend(loc='center right')\n",
    "acc_ax.legend(bbox_to_anchor=(0.999, 0.7))\n",
    "plt.show()"
   ]
  },
  {
   "cell_type": "markdown",
   "id": "0337108b",
   "metadata": {},
   "source": [
    "# 4. 다음 문맥 예측해 보기"
   ]
  },
  {
   "cell_type": "code",
   "execution_count": 20,
   "id": "10163f9d",
   "metadata": {},
   "outputs": [
    {
     "name": "stdout",
     "output_type": "stream",
     "text": [
      "{'말이': 1, '경마장에': 2, '있는': 3, '뛰고': 4, '있다': 5, '그의': 6, '법이다': 7, '가는': 8, '고와야': 9, '오는': 10, '곱다': 11}\n"
     ]
    }
   ],
   "source": [
    "print(t.word_index)"
   ]
  },
  {
   "cell_type": "code",
   "execution_count": 28,
   "id": "48ead40a",
   "metadata": {},
   "outputs": [
    {
     "name": "stdout",
     "output_type": "stream",
     "text": [
      "입력단어 :경마장에\n",
      "예측된 단어 : 있는\n"
     ]
    }
   ],
   "source": [
    "# 모델 사용하기 (문자 -> sequence로 수정 -> padding -> predict -> argmax -> 문자)\n",
    "word = input('입력단어 :')\n",
    "encoded = t.texts_to_sequences([word])[0]\n",
    "input_data = pad_sequences([encoded], \n",
    "                           maxlen=X.shape[1],\n",
    "                           padding='pre')\n",
    "# print('입력한 단어:{}, input_data:{}'.format(word, input_data))\n",
    "pred = model.predict(input_data, verbose=0).argmax()\n",
    "for word, value in t.word_index.items():\n",
    "    if pred==value:\n",
    "        print('예측된 단어 :', word)\n",
    "        break"
   ]
  },
  {
   "cell_type": "code",
   "execution_count": 71,
   "id": "6ba6e6bc",
   "metadata": {},
   "outputs": [],
   "source": [
    "# 단어(가는), 5 => 가는 말이 고와야 오는 말이 곱다\n",
    "def sentence_generation(model, t, current_word, n):\n",
    "    for i in range(n): # n번 반복\n",
    "        # current_word -> sequence -> padding -> predict.argmax -> 결과 단어(result)\n",
    "        # current_word = current_word + ' ' + result\n",
    "        encoded = t.texts_to_sequences([current_word])[0]\n",
    "        input_data = pad_sequences([encoded],maxlen=5, padding='pre')\n",
    "        pred = model.predict(input_data, verbose=0).argmax()\n",
    "        for word, value in t.word_index.items():\n",
    "            if pred==value:\n",
    "                result = word\n",
    "                print('{}:{}'.format(i+1, result))\n",
    "                current_word = current_word + ' ' + result\n",
    "                print('{}:{}'.format(i+1, current_word))\n",
    "                break"
   ]
  },
  {
   "cell_type": "code",
   "execution_count": 75,
   "id": "73b7019c",
   "metadata": {},
   "outputs": [
    {
     "name": "stdout",
     "output_type": "stream",
     "text": [
      "가는 말이 고와야 오는 말이\n"
     ]
    }
   ],
   "source": [
    "# 문맥 예측해 보기\n",
    "sentence_generation(model, t, '가는', 5)"
   ]
  },
  {
   "cell_type": "code",
   "execution_count": 81,
   "id": "1dfabeb4",
   "metadata": {},
   "outputs": [],
   "source": [
    "# 단어(가는), 5 => 가는 말이 고와야 오는 말이 곱다\n",
    "def sentence_generation(model, t, current_word, n):\n",
    "    encoded = t.texts_to_sequences([current_word])[0]\n",
    "    input_data = pad_sequences([encoded], \n",
    "                               maxlen=X.shape[1],\n",
    "                               padding='pre')\n",
    "    pred = model.predict(input_data, verbose=0).argmax()\n",
    "    \n",
    "    pred_word = ''\n",
    "    for word, value in t.word_index.items():\n",
    "        if pred==value:\n",
    "            pred_word = current_word + ' ' + word\n",
    "            break\n",
    "            \n",
    "    if n >= 1:\n",
    "        return sentence_generation(model, t, pred_word, n-1)\n",
    "    else:\n",
    "        return (current_word)"
   ]
  },
  {
   "cell_type": "code",
   "execution_count": 82,
   "id": "7667f95e",
   "metadata": {},
   "outputs": [
    {
     "data": {
      "text/plain": [
       "'뛰고 있다 말이 곱다 오는'"
      ]
     },
     "execution_count": 82,
     "metadata": {},
     "output_type": "execute_result"
    }
   ],
   "source": [
    "# 문맥 예측해 보기\n",
    "sentence_generation(model, t, '뛰고', 4)"
   ]
  },
  {
   "cell_type": "code",
   "execution_count": null,
   "id": "28327066",
   "metadata": {},
   "outputs": [],
   "source": []
  },
  {
   "cell_type": "code",
   "execution_count": null,
   "id": "6f464465",
   "metadata": {},
   "outputs": [],
   "source": []
  },
  {
   "cell_type": "code",
   "execution_count": null,
   "id": "dfc1df17",
   "metadata": {},
   "outputs": [],
   "source": []
  },
  {
   "cell_type": "code",
   "execution_count": null,
   "id": "1b82d68c",
   "metadata": {},
   "outputs": [],
   "source": []
  }
 ],
 "metadata": {
  "kernelspec": {
   "display_name": "Python 3 (ipykernel)",
   "language": "python",
   "name": "python3"
  },
  "language_info": {
   "codemirror_mode": {
    "name": "ipython",
    "version": 3
   },
   "file_extension": ".py",
   "mimetype": "text/x-python",
   "name": "python",
   "nbconvert_exporter": "python",
   "pygments_lexer": "ipython3",
   "version": "3.10.9"
  },
  "toc": {
   "base_numbering": 1,
   "nav_menu": {},
   "number_sections": false,
   "sideBar": true,
   "skip_h1_title": false,
   "title_cell": "Table of Contents",
   "title_sidebar": "Contents",
   "toc_cell": false,
   "toc_position": {},
   "toc_section_display": true,
   "toc_window_display": false
  }
 },
 "nbformat": 4,
 "nbformat_minor": 5
}
