{
 "cells": [
  {
   "cell_type": "markdown",
   "id": "90625d74",
   "metadata": {},
   "source": [
    "- 모델 load하여, 입력된 값으로 예측한 집값 출력(GUI창에서)"
   ]
  },
  {
   "cell_type": "code",
   "execution_count": 1,
   "id": "9497276a",
   "metadata": {},
   "outputs": [],
   "source": [
    "import joblib # 모델 load\n",
    "import tkinter as tk # GUI (그래픽 사용자 인터페이스 창을 띄우기 위함)"
   ]
  },
  {
   "cell_type": "code",
   "execution_count": 16,
   "id": "e602895e",
   "metadata": {},
   "outputs": [],
   "source": [
    "loaded_model = joblib.load('../model/ex1_apt_price_regression.pkl')\n",
    "# loaded_model.summary()"
   ]
  },
  {
   "cell_type": "code",
   "execution_count": 31,
   "id": "9562bd76",
   "metadata": {},
   "outputs": [
    {
     "data": {
      "text/plain": [
       "'2077879654080on_submit'"
      ]
     },
     "execution_count": 31,
     "metadata": {},
     "output_type": "execute_result"
    }
   ],
   "source": [
    "def on_submit(event=None):\n",
    "    '입력된 건축년도, 전용면적, 층을 받아 -> 예측값을 pred_label 출력'\n",
    "    year = int(year_entry.get())\n",
    "    square = int(square_entry.get())\n",
    "    floor = int(floor_entry.get())\n",
    "    pred = loaded_model.predict([1,year,square,floor]) # [1436324.90445146]\n",
    "    print('예상금액 : {}만원입니다'.format(\n",
    "        format(round(pred[0]),',')))\n",
    "    pred_label.configure(text='예상금액 : {}만원입니다'.format(\n",
    "        format(round(pred[0]),',')))\n",
    "    \n",
    "root = tk.Tk()\n",
    "\n",
    "root.geometry(\"300x250\")\n",
    "\n",
    "year_label = tk.Label(root, text=\"건축년도 : \")\n",
    "year_label.pack()\n",
    "year_entry = tk.Entry(root)\n",
    "year_entry.pack(pady=5) # pady, padx : 위아래 여백\n",
    "\n",
    "square_label = tk.Label(root, text=\"전용면적(제곱미터) : \")\n",
    "square_label.pack()\n",
    "square_entry = tk.Entry(root)\n",
    "square_entry.pack(pady=5) # pady, padx : 위아래 여백\n",
    "\n",
    "floor_label = tk.Label(root, text=\"몇층 : \")\n",
    "floor_label.pack()\n",
    "floor_entry = tk.Entry(root)\n",
    "floor_entry.pack(pady=5)\n",
    "\n",
    "submit_button = tk.Button(root, text='예측', command=on_submit)\n",
    "submit_button.pack(pady=15)\n",
    "\n",
    "pred_label = tk.Label(root, text=\"예측 금액 출력 예정\")\n",
    "pred_label.pack(pady=10)\n",
    "\n",
    "year_entry.focus_set() # GUI 창이 포커싱되면 자동 year_entry에 포커싱\n",
    "root.bind('<Return>', on_submit)"
   ]
  },
  {
   "cell_type": "code",
   "execution_count": 32,
   "id": "63d83fcc",
   "metadata": {
    "scrolled": true
   },
   "outputs": [
    {
     "name": "stdout",
     "output_type": "stream",
     "text": [
      "예상금액 : 153,803만원입니다\n",
      "예상금액 : 153,803만원입니다\n",
      "예상금액 : 153,803만원입니다\n",
      "예상금액 : 153,803만원입니다\n",
      "예상금액 : 153,803만원입니다\n",
      "예상금액 : 153,803만원입니다\n",
      "예상금액 : 153,803만원입니다\n",
      "예상금액 : 153,803만원입니다\n",
      "예상금액 : 153,803만원입니다\n",
      "예상금액 : 153,803만원입니다\n",
      "예상금액 : 153,803만원입니다\n",
      "예상금액 : 153,803만원입니다\n"
     ]
    }
   ],
   "source": [
    "root.mainloop()"
   ]
  }
 ],
 "metadata": {
  "kernelspec": {
   "display_name": "Python 3 (ipykernel)",
   "language": "python",
   "name": "python3"
  },
  "language_info": {
   "codemirror_mode": {
    "name": "ipython",
    "version": 3
   },
   "file_extension": ".py",
   "mimetype": "text/x-python",
   "name": "python",
   "nbconvert_exporter": "python",
   "pygments_lexer": "ipython3",
   "version": "3.10.9"
  },
  "toc": {
   "base_numbering": 1,
   "nav_menu": {},
   "number_sections": true,
   "sideBar": true,
   "skip_h1_title": false,
   "title_cell": "Table of Contents",
   "title_sidebar": "Contents",
   "toc_cell": false,
   "toc_position": {},
   "toc_section_display": true,
   "toc_window_display": false
  }
 },
 "nbformat": 4,
 "nbformat_minor": 5
}
