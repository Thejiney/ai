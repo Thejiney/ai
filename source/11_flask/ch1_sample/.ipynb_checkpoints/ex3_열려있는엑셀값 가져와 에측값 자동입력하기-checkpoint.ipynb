{
 "cells": [
  {
   "cell_type": "code",
   "execution_count": 1,
   "id": "03f4e55b",
   "metadata": {},
   "outputs": [],
   "source": [
    "import joblib\n",
    "import xlwings as xw"
   ]
  },
  {
   "cell_type": "code",
   "execution_count": 3,
   "id": "09eea590",
   "metadata": {},
   "outputs": [],
   "source": [
    "wb=xw.books.active\n",
    "ws = wb.sheets.active\n",
    "\n",
    "loaded_model = joblib.load('../model/ex1_apt_price_regression.pkl')"
   ]
  },
  {
   "cell_type": "code",
   "execution_count": 9,
   "id": "e7859799",
   "metadata": {},
   "outputs": [
    {
     "data": {
      "text/plain": [
       "str"
      ]
     },
     "execution_count": 9,
     "metadata": {},
     "output_type": "execute_result"
    }
   ],
   "source": [
    "ws.range('B1').value"
   ]
  },
  {
   "cell_type": "code",
   "execution_count": 11,
   "id": "998cc2a6",
   "metadata": {},
   "outputs": [
    {
     "data": {
      "text/plain": [
       "'b2'"
      ]
     },
     "execution_count": 11,
     "metadata": {},
     "output_type": "execute_result"
    }
   ],
   "source": [
    "'B'+str(2)"
   ]
  },
  {
   "cell_type": "code",
   "execution_count": 21,
   "id": "b13155a1",
   "metadata": {},
   "outputs": [],
   "source": [
    "def pred_price(line):\n",
    "    year = ws.range('B'+str(line)).value\n",
    "    square = ws.range('C'+str(line)).value\n",
    "    floor = ws.range('D'+str(line)).value\n",
    "    pred = loaded_model.predict([1,year,square,floor])[0]\n",
    "    # print(year, square, floor, pred)\n",
    "    ws.range('E'+str(line)).value = pred"
   ]
  },
  {
   "cell_type": "code",
   "execution_count": 22,
   "id": "92fae371",
   "metadata": {},
   "outputs": [],
   "source": [
    "for i in range(2,6):\n",
    "    pred_price(i)"
   ]
  }
 ],
 "metadata": {
  "kernelspec": {
   "display_name": "Python 3 (ipykernel)",
   "language": "python",
   "name": "python3"
  },
  "language_info": {
   "codemirror_mode": {
    "name": "ipython",
    "version": 3
   },
   "file_extension": ".py",
   "mimetype": "text/x-python",
   "name": "python",
   "nbconvert_exporter": "python",
   "pygments_lexer": "ipython3",
   "version": "3.10.9"
  },
  "toc": {
   "base_numbering": 1,
   "nav_menu": {},
   "number_sections": true,
   "sideBar": true,
   "skip_h1_title": false,
   "title_cell": "Table of Contents",
   "title_sidebar": "Contents",
   "toc_cell": false,
   "toc_position": {},
   "toc_section_display": true,
   "toc_window_display": false
  }
 },
 "nbformat": 4,
 "nbformat_minor": 5
}
