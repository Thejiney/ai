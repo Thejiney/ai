{
 "cells": [
  {
   "cell_type": "code",
   "execution_count": 158,
   "id": "ce20c520",
   "metadata": {},
   "outputs": [],
   "source": [
    "from selenium import webdriver\n",
    "from selenium.webdriver.common.by import By\n",
    "import time\n",
    "import datetime\n",
    "from dateutil.relativedelta import relativedelta"
   ]
  },
  {
   "cell_type": "code",
   "execution_count": 165,
   "id": "fae16443",
   "metadata": {},
   "outputs": [],
   "source": [
    "dv = webdriver.Chrome()\n",
    "dv.get('https://rt.molit.go.kr/pt/xls/xls.do?mobileAt=')"
   ]
  },
  {
   "cell_type": "code",
   "execution_count": 160,
   "id": "346ec711",
   "metadata": {},
   "outputs": [],
   "source": [
    "start_date=datetime.date(2010,1,1)\n",
    "end_date=datetime.date(2025,1,6)\n",
    "from_date=end_date-relativedelta(months=1)+relativedelta(days=1)\n",
    "to_date=end_date"
   ]
  },
  {
   "cell_type": "code",
   "execution_count": 166,
   "id": "62b083c4",
   "metadata": {},
   "outputs": [],
   "source": [
    "def get_csv_data(from_date,to_date):\n",
    "    elem = dv.find_element(By.NAME, 'srhFromDt')\n",
    "    elem.clear()\n",
    "    elem.send_keys(from_date.year)\n",
    "    elem.send_keys('{:02}'.format(from_date.month))\n",
    "    elem.send_keys('{:02}'.format(from_date.day))\n",
    "    elem2 = dv.find_element(By.NAME, 'srhToDt')\n",
    "    elem2.clear()\n",
    "    elem2.send_keys(to_date.year)\n",
    "    elem2.send_keys('{:02}'.format(to_date.month))\n",
    "    elem2.send_keys('{:02}'.format(to_date.day))\n",
    "    btn_elem = dv.find_elements(By.CLASS_NAME, 'ifdata-search-result')[1]\n",
    "    btn_elem.click()\n",
    "    time.sleep(10)"
   ]
  },
  {
   "cell_type": "code",
   "execution_count": null,
   "id": "371c37d2",
   "metadata": {},
   "outputs": [],
   "source": [
    "while(from_date>start_date):\n",
    "    get_csv_data(from_date,to_date)\n",
    "    to_date=from_date\n",
    "    from_date=to_date-relativedelta(months=1)+relativedelta(days=1)"
   ]
  },
  {
   "cell_type": "code",
   "execution_count": null,
   "id": "ba7dcb0f",
   "metadata": {},
   "outputs": [],
   "source": [
    "os.listdir('폴도명')"
   ]
  }
 ],
 "metadata": {
  "kernelspec": {
   "display_name": "Python 3 (ipykernel)",
   "language": "python",
   "name": "python3"
  },
  "language_info": {
   "codemirror_mode": {
    "name": "ipython",
    "version": 3
   },
   "file_extension": ".py",
   "mimetype": "text/x-python",
   "name": "python",
   "nbconvert_exporter": "python",
   "pygments_lexer": "ipython3",
   "version": "3.10.9"
  },
  "toc": {
   "base_numbering": 1,
   "nav_menu": {},
   "number_sections": true,
   "sideBar": true,
   "skip_h1_title": false,
   "title_cell": "Table of Contents",
   "title_sidebar": "Contents",
   "toc_cell": false,
   "toc_position": {},
   "toc_section_display": true,
   "toc_window_display": false
  }
 },
 "nbformat": 4,
 "nbformat_minor": 5
}
