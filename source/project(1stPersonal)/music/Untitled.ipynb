{
 "cells": [
  {
   "cell_type": "code",
   "execution_count": 18,
   "id": "b350334d",
   "metadata": {},
   "outputs": [],
   "source": [
    "import librosa\n",
    "import os\n",
    "import numpy as np\n",
    "import librosa"
   ]
  },
  {
   "cell_type": "code",
   "execution_count": 34,
   "id": "8ddc0b1c",
   "metadata": {},
   "outputs": [],
   "source": [
    "def make_vector_wav(filename):\n",
    "    # Load the example clip\n",
    "    y, sr = librosa.load(filename)\n",
    "\n",
    "    # Set the hop length; at 22050 Hz, 512 samples ~= 23ms\n",
    "    hop_length = 512\n",
    "\n",
    "    # Separate harmonics and percussives into two waveforms\n",
    "    y_harmonic, y_percussive = librosa.effects.hpss(y)\n",
    "\n",
    "    # Beat track on the percussive signal\n",
    "    tempo, beat_frames = librosa.beat.beat_track(y=y_percussive,\n",
    "                                                 sr=sr)\n",
    "\n",
    "    # Compute MFCC features from the raw signal\n",
    "    mfcc = librosa.feature.mfcc(y=y, sr=sr, hop_length=hop_length, n_mfcc=13)\n",
    "\n",
    "    # And the first-order differences (delta features)\n",
    "    mfcc_delta = librosa.feature.delta(mfcc)\n",
    "\n",
    "    # Stack and synchronize between beat events\n",
    "    # This time, we'll use the mean value (default) instead of median\n",
    "    beat_mfcc_delta = librosa.util.sync(np.vstack([mfcc, mfcc_delta]),\n",
    "                                        beat_frames)\n",
    "\n",
    "    # Compute chroma features from the harmonic signal\n",
    "    chromagram = librosa.feature.chroma_cqt(y=y_harmonic,\n",
    "                                            sr=sr)\n",
    "\n",
    "    # Aggregate chroma features between beat events\n",
    "    # We'll use the median value of each feature between beat frames\n",
    "    beat_chroma = librosa.util.sync(chromagram,\n",
    "                                    beat_frames,\n",
    "                                    aggregate=np.median)\n",
    "\n",
    "    # Finally, stack all beat-synchronous features together\n",
    "    return np.vstack([beat_chroma, beat_mfcc_delta])"
   ]
  },
  {
   "cell_type": "code",
   "execution_count": 36,
   "id": "2e7c5b94",
   "metadata": {},
   "outputs": [],
   "source": [
    "def make_three_demension(X_data):\n",
    "    max_beats = max(X.shape[1] for X in X_data)\n",
    "    feature_dim = X_data[0].shape[0]\n",
    "    num_songs = len(X_data)\n",
    "    X_data_array = np.zeros((num_songs, feature_dim, max_beats))\n",
    "\n",
    "    for i, X in enumerate(X_data):\n",
    "        X_data_array[i, :, :X.shape[1]] = X\n",
    "    return X_data_array"
   ]
  },
  {
   "cell_type": "code",
   "execution_count": 44,
   "id": "b6999c88",
   "metadata": {},
   "outputs": [],
   "source": [
    "filepath=r'd:/ai/Downloads/Data/music/노래'\n",
    "filelist=os.listdir(filepath)\n",
    "X_data = []\n",
    "for filename in filelist:\n",
    "    X_data.append(make_vector_wav(filepath+'/'+filename))\n",
    "X_data_array=make_three_demension(X_data)\n",
    "np.save(r'd:/ai/Downloads/Data/music/노래.npy',X_data_array)"
   ]
  },
  {
   "cell_type": "code",
   "execution_count": 45,
   "id": "d8ec4c0c",
   "metadata": {},
   "outputs": [],
   "source": [
    "filepath=r'd:/ai/Downloads/Data/music/음악'\n",
    "filelist=os.listdir(filepath)\n",
    "X_data = []\n",
    "for filename in filelist:\n",
    "    X_data.append(make_vector_wav(filepath+'/'+filename))\n",
    "X_data_array=make_three_demension(X_data)\n",
    "np.save(r'd:/ai/Downloads/Data/music/음악.npy',X_data_array)"
   ]
  },
  {
   "cell_type": "code",
   "execution_count": 48,
   "id": "5cb0b618",
   "metadata": {},
   "outputs": [],
   "source": [
    "music_data = np.load(r'd:/ai/Downloads/Data/music/노래.npy')\n",
    "song_data=np.load(r'd:/ai/Downloads/Data/music/음악.npy')"
   ]
  },
  {
   "cell_type": "code",
   "execution_count": 54,
   "id": "c8c94343",
   "metadata": {
    "scrolled": true
   },
   "outputs": [
    {
     "data": {
      "text/plain": [
       "(44, (171, 38, 1138))"
      ]
     },
     "execution_count": 54,
     "metadata": {},
     "output_type": "execute_result"
    }
   ],
   "source": [
    "music_data.shape, song_data.shape"
   ]
  },
  {
   "cell_type": "code",
   "execution_count": 57,
   "id": "1ffde5a7",
   "metadata": {},
   "outputs": [],
   "source": [
    "new_music_data=np.zeros((music_data.shape[0],music_data.shape[1],song_data.shape[2]))"
   ]
  },
  {
   "cell_type": "code",
   "execution_count": 62,
   "id": "051d4a31",
   "metadata": {},
   "outputs": [],
   "source": [
    "new_music_data[:,:,:music_data.shape[2]] = music_data"
   ]
  },
  {
   "cell_type": "code",
   "execution_count": 63,
   "id": "f8613143",
   "metadata": {},
   "outputs": [],
   "source": [
    "X_data=np.concatenate((new_music_data,song_data), axis=0)"
   ]
  },
  {
   "cell_type": "code",
   "execution_count": 65,
   "id": "85c8745b",
   "metadata": {},
   "outputs": [],
   "source": [
    "np.save(r'd:/ai/Downloads/Data/music/종속변수.npy',X_data)"
   ]
  },
  {
   "cell_type": "code",
   "execution_count": 68,
   "id": "cf880bfc",
   "metadata": {},
   "outputs": [
    {
     "data": {
      "text/plain": [
       "(215, 38, 1138)"
      ]
     },
     "execution_count": 68,
     "metadata": {},
     "output_type": "execute_result"
    }
   ],
   "source": [
    "X_data.shape"
   ]
  },
  {
   "cell_type": "code",
   "execution_count": null,
   "id": "ec48a027",
   "metadata": {},
   "outputs": [],
   "source": []
  }
 ],
 "metadata": {
  "kernelspec": {
   "display_name": "Python 3 (ipykernel)",
   "language": "python",
   "name": "python3"
  },
  "language_info": {
   "codemirror_mode": {
    "name": "ipython",
    "version": 3
   },
   "file_extension": ".py",
   "mimetype": "text/x-python",
   "name": "python",
   "nbconvert_exporter": "python",
   "pygments_lexer": "ipython3",
   "version": "3.10.9"
  },
  "toc": {
   "base_numbering": 1,
   "nav_menu": {},
   "number_sections": true,
   "sideBar": true,
   "skip_h1_title": false,
   "title_cell": "Table of Contents",
   "title_sidebar": "Contents",
   "toc_cell": false,
   "toc_position": {},
   "toc_section_display": true,
   "toc_window_display": false
  }
 },
 "nbformat": 4,
 "nbformat_minor": 5
}
